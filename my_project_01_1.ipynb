{
  "nbformat": 4,
  "nbformat_minor": 0,
  "metadata": {
    "colab": {
      "name": "my_project_01.1.ipynb",
      "provenance": [],
      "collapsed_sections": [],
      "authorship_tag": "ABX9TyOOzEG3re909sz0x8I/KzJO",
      "include_colab_link": true
    },
    "kernelspec": {
      "name": "python3",
      "display_name": "Python 3"
    },
    "language_info": {
      "name": "python"
    },
    "accelerator": "GPU"
  },
  "cells": [
    {
      "cell_type": "markdown",
      "metadata": {
        "id": "view-in-github",
        "colab_type": "text"
      },
      "source": [
        "<a href=\"https://colab.research.google.com/github/akshaypt7/amazon_sales_prediction/blob/main/my_project_01_1.ipynb\" target=\"_parent\"><img src=\"https://colab.research.google.com/assets/colab-badge.svg\" alt=\"Open In Colab\"/></a>"
      ]
    },
    {
      "cell_type": "markdown",
      "metadata": {
        "id": "YM0oZ2H6ckHC"
      },
      "source": [
        "This is part 2 of the project. Here we make improvements that we have learnt from part 1 of the project."
      ]
    },
    {
      "cell_type": "markdown",
      "metadata": {
        "id": "UAzw8Qltc-_D"
      },
      "source": [
        "One of the mistakes we have done in the first part was that there was data leakage. \n",
        "\n",
        "- **When the sales are made for each asins in a day, we are not considering the asins that were not sold that day. so the thing is we need to add ASINS even when there was no sale made for that. We can give the quantity as 0. **\n",
        "\n",
        "\n",
        "How do we do this?\n",
        "\n",
        "When we read data for each month, we see which are the unique ASINs, then these asins should be added to each days in that month, even for the days when these asins are not sold. \n",
        "\n",
        "one another thing to note is we can even look at working this for the enitre dataframe at once, rather than going month by month. The reason is what if for one month the product was laucnhed but on second month there was no sales, even though that product was available. this means that for all those we wont even mention the asin, but on the third month we mention it again.\n",
        "\n",
        "But finally we have decided to add the asins based on months. Since during months if the products were out of stock it is better to not to show the asin rather than showing the sold quantities as zero"
      ]
    },
    {
      "cell_type": "markdown",
      "metadata": {
        "id": "vTchGGkVhwft"
      },
      "source": [
        "- we can change the continous and categorical variables that we have defined."
      ]
    },
    {
      "cell_type": "markdown",
      "metadata": {
        "id": "qmhSJWC2lYYP"
      },
      "source": [
        "- One another mistake that we had done in part 1 was that we had only taken 679 data points as the validation set, we have used 10,500 as the train set. we should have atleast taken 3000 units as validation set.\n",
        "\n",
        "  This was the reason we had high training error and less validation error. This makes sense why we also had high OOB_error and less validation error, as oob_error is calculated with atleast 30% data."
      ]
    },
    {
      "cell_type": "markdown",
      "metadata": {
        "id": "kuWoNG7RYDQP"
      },
      "source": [
        "- Also we will sum up all the orders placed for one product in a single day. This gives a structure to the dataset, and also a format like this can be used to realtime predictions."
      ]
    },
    {
      "cell_type": "code",
      "metadata": {
        "id": "-hCC0AOXYCuI"
      },
      "source": [
        ""
      ],
      "execution_count": null,
      "outputs": []
    },
    {
      "cell_type": "markdown",
      "metadata": {
        "id": "B2__VVcNmW4K"
      },
      "source": [
        "Next thing we learnt is we need to understand what metric we have to use.\n",
        "\n",
        "- We can use both classification and regression. When we use both then we need to understand what has to be used as the metric. This assumption was wrong, we cannot use classification since the quanities can varry btw 0-41. We had thought of this assumpltion when we were working of the first version of the project. Now it does not apply.\n",
        "\n",
        "- Also if we are considering accuracy or even other metrics we have to create a baseline model which predicts the majority class for all the data points.\n",
        "\n",
        "- Learn more about metrics. We have decided to use MAE, since this goes well with inventory prediction.\n",
        "\n",
        "- One another thing what we can note is, we should be able to change the threshold. We have to able to convert the predictions for example, from 1.4 to 2, if we are going with regression. Here we need to come up with something like np.where(). We can see what is the performance at different thresholds.\n",
        "\n",
        "- We will be adding one more that is price for each product. We also have Invoice amount, which is the price at which the product is sold (coupons).\n"
      ]
    },
    {
      "cell_type": "code",
      "metadata": {
        "id": "AOf7-glAqKQD",
        "colab": {
          "base_uri": "https://localhost:8080/"
        },
        "outputId": "3efc8f6c-4c85-4b97-c352-ab8863a6047f"
      },
      "source": [
        "#hide\n",
        "!pip install -Uqq fastbook kaggle waterfallcharts treeinterpreter dtreeviz\n",
        "import fastbook\n",
        "fastbook.setup_book()"
      ],
      "execution_count": 1,
      "outputs": [
        {
          "output_type": "stream",
          "text": [
            "\u001b[K     |████████████████████████████████| 720 kB 32.8 MB/s \n",
            "\u001b[K     |████████████████████████████████| 60 kB 4.8 MB/s \n",
            "\u001b[K     |████████████████████████████████| 1.2 MB 49.2 MB/s \n",
            "\u001b[K     |████████████████████████████████| 46 kB 4.5 MB/s \n",
            "\u001b[K     |████████████████████████████████| 188 kB 67.7 MB/s \n",
            "\u001b[K     |████████████████████████████████| 53 kB 2.2 MB/s \n",
            "\u001b[K     |████████████████████████████████| 51 kB 340 kB/s \n",
            "\u001b[?25h  Building wheel for waterfallcharts (setup.py) ... \u001b[?25l\u001b[?25hdone\n",
            "  Building wheel for dtreeviz (setup.py) ... \u001b[?25l\u001b[?25hdone\n",
            "Mounted at /content/gdrive\n"
          ],
          "name": "stdout"
        }
      ]
    },
    {
      "cell_type": "code",
      "metadata": {
        "id": "xDDCJxlBR58G"
      },
      "source": [
        "#hide\n",
        "from fastbook import *\n",
        "# from kaggle import api\n",
        "from pandas.api.types import is_string_dtype, is_numeric_dtype, is_categorical_dtype\n",
        "from fastai.tabular.all import *\n",
        "from sklearn.ensemble import RandomForestRegressor, RandomForestClassifier\n",
        "from sklearn.tree import DecisionTreeRegressor\n",
        "from dtreeviz.trees import *\n",
        "from IPython.display import Image, display_svg, SVG\n",
        "\n",
        "pd.options.display.max_rows = 20\n",
        "pd.options.display.max_columns = 8"
      ],
      "execution_count": 6,
      "outputs": []
    },
    {
      "cell_type": "code",
      "metadata": {
        "id": "z-pt33Frb0Tz"
      },
      "source": [
        "import pandas as pd"
      ],
      "execution_count": 7,
      "outputs": []
    },
    {
      "cell_type": "markdown",
      "metadata": {
        "id": "GcTWQmoNbljz"
      },
      "source": [
        "### Getting all the csv & excel files from the folder."
      ]
    },
    {
      "cell_type": "code",
      "metadata": {
        "id": "Szn3aw0FUQGb"
      },
      "source": [
        "import os\n",
        "files = os.listdir('/content/gdrive/MyDrive/my_project_01')\n"
      ],
      "execution_count": 13,
      "outputs": []
    },
    {
      "cell_type": "code",
      "metadata": {
        "id": "0FcpG4fAZDOy"
      },
      "source": [
        "dict_files = {}\n",
        "for i,file in enumerate(files):\n",
        "  try:\n",
        "    # dict_files[i] = pd.read_csv( '/content/drive/MyDrive/my_project_01/' +str(file),low_memory=False)\n",
        "    dict_files[i] = pd.read_csv( '/content/gdrive/MyDrive/my_project_01/' +str(file),low_memory=False)\n",
        "  except:\n",
        "    # dict_files[i] = pd.read_excel( '/content/drive/MyDrive/my_project_01/' +str(file))\n",
        "    if files[i] == '.ipynb_checkpoints':\n",
        "      continue\n",
        "    dict_files[i] = pd.read_excel( '/content/gdrive/MyDrive/my_project_01/' +str(file))\n"
      ],
      "execution_count": 18,
      "outputs": []
    },
    {
      "cell_type": "markdown",
      "metadata": {
        "id": "xXDTJvCnUT4z"
      },
      "source": [
        "We have to take in Invoice Amount instead of Principal amount (since it helps to sepearate canceled and refund orders)"
      ]
    },
    {
      "cell_type": "markdown",
      "metadata": {
        "id": "ECGYcHvgb4Fq"
      },
      "source": [
        "#### Creating Dataframes"
      ]
    },
    {
      "cell_type": "code",
      "metadata": {
        "id": "pmM6Zg7TSYqD"
      },
      "source": [
        "df_dicts = {}\n",
        "\n",
        "for i in range(len(dict_files)):\n",
        "  df_dicts[i] = dict_files[i][['Order Date','Quantity','Asin','Invoice Amount','Item Promo Discount']]\n"
      ],
      "execution_count": 19,
      "outputs": []
    },
    {
      "cell_type": "markdown",
      "metadata": {
        "id": "_p_2tTjGJOzb"
      },
      "source": [
        "#### Applying transformations to 1 Dataframes"
      ]
    },
    {
      "cell_type": "markdown",
      "metadata": {
        "id": "YDmcoyDHJ-pR"
      },
      "source": [
        "**Item promo can lead to data_leakage, we might have to remove it and then get the dates in which we had coupons and ads in amazon, then use that**"
      ]
    },
    {
      "cell_type": "code",
      "metadata": {
        "id": "LZ8ku7vhlakE"
      },
      "source": [
        "df_new = df_dicts[2]\n",
        "df_new_1 = df_new.copy()"
      ],
      "execution_count": null,
      "outputs": []
    },
    {
      "cell_type": "code",
      "metadata": {
        "id": "6v5A3VSIJTEv"
      },
      "source": [
        "df_new_1['date'] = df_new['Order Date'].dt.date"
      ],
      "execution_count": null,
      "outputs": []
    },
    {
      "cell_type": "code",
      "metadata": {
        "id": "ljSlL6FcUCz-"
      },
      "source": [
        "df_new  = df_new_1.drop(['Order Date'],axis=1)"
      ],
      "execution_count": null,
      "outputs": []
    },
    {
      "cell_type": "code",
      "metadata": {
        "colab": {
          "base_uri": "https://localhost:8080/",
          "height": 424
        },
        "id": "4_8qKGBdUbcX",
        "outputId": "0f9818a8-3d11-4e2e-e46f-88b1f25dcf00"
      },
      "source": [
        "df_new.head()"
      ],
      "execution_count": null,
      "outputs": [
        {
          "output_type": "execute_result",
          "data": {
            "text/html": [
              "<div>\n",
              "<style scoped>\n",
              "    .dataframe tbody tr th:only-of-type {\n",
              "        vertical-align: middle;\n",
              "    }\n",
              "\n",
              "    .dataframe tbody tr th {\n",
              "        vertical-align: top;\n",
              "    }\n",
              "\n",
              "    .dataframe thead th {\n",
              "        text-align: right;\n",
              "    }\n",
              "</style>\n",
              "<table border=\"1\" class=\"dataframe\">\n",
              "  <thead>\n",
              "    <tr style=\"text-align: right;\">\n",
              "      <th></th>\n",
              "      <th>Quantity</th>\n",
              "      <th>Asin</th>\n",
              "      <th>Invoice Amount</th>\n",
              "      <th>Item Promo Discount</th>\n",
              "      <th>date</th>\n",
              "    </tr>\n",
              "  </thead>\n",
              "  <tbody>\n",
              "    <tr>\n",
              "      <th>0</th>\n",
              "      <td>1</td>\n",
              "      <td>B07TM3LRVB</td>\n",
              "      <td>-1135.00</td>\n",
              "      <td>0.00</td>\n",
              "      <td>2020-12-28</td>\n",
              "    </tr>\n",
              "    <tr>\n",
              "      <th>1</th>\n",
              "      <td>1</td>\n",
              "      <td>B07TM3LRVB</td>\n",
              "      <td>-1135.00</td>\n",
              "      <td>0.00</td>\n",
              "      <td>2020-12-25</td>\n",
              "    </tr>\n",
              "    <tr>\n",
              "      <th>2</th>\n",
              "      <td>1</td>\n",
              "      <td>B07TM3LRVB</td>\n",
              "      <td>-1135.00</td>\n",
              "      <td>0.00</td>\n",
              "      <td>2020-12-28</td>\n",
              "    </tr>\n",
              "    <tr>\n",
              "      <th>3</th>\n",
              "      <td>1</td>\n",
              "      <td>B07TM3LRVB</td>\n",
              "      <td>-1135.00</td>\n",
              "      <td>0.00</td>\n",
              "      <td>2020-12-23</td>\n",
              "    </tr>\n",
              "    <tr>\n",
              "      <th>4</th>\n",
              "      <td>1</td>\n",
              "      <td>B07TM3LRVB</td>\n",
              "      <td>-1135.00</td>\n",
              "      <td>0.00</td>\n",
              "      <td>2020-12-18</td>\n",
              "    </tr>\n",
              "    <tr>\n",
              "      <th>...</th>\n",
              "      <td>...</td>\n",
              "      <td>...</td>\n",
              "      <td>...</td>\n",
              "      <td>...</td>\n",
              "      <td>...</td>\n",
              "    </tr>\n",
              "    <tr>\n",
              "      <th>926</th>\n",
              "      <td>1</td>\n",
              "      <td>B07TM3LRVB</td>\n",
              "      <td>1078.25</td>\n",
              "      <td>-56.75</td>\n",
              "      <td>2021-01-31</td>\n",
              "    </tr>\n",
              "    <tr>\n",
              "      <th>927</th>\n",
              "      <td>1</td>\n",
              "      <td>B08332221J</td>\n",
              "      <td>1424.05</td>\n",
              "      <td>-74.95</td>\n",
              "      <td>2021-01-31</td>\n",
              "    </tr>\n",
              "    <tr>\n",
              "      <th>928</th>\n",
              "      <td>1</td>\n",
              "      <td>B0849NLNTQ</td>\n",
              "      <td>1599.00</td>\n",
              "      <td>0.00</td>\n",
              "      <td>2021-01-31</td>\n",
              "    </tr>\n",
              "    <tr>\n",
              "      <th>929</th>\n",
              "      <td>1</td>\n",
              "      <td>B07TM3LRVB</td>\n",
              "      <td>1078.25</td>\n",
              "      <td>-56.75</td>\n",
              "      <td>2021-01-31</td>\n",
              "    </tr>\n",
              "    <tr>\n",
              "      <th>930</th>\n",
              "      <td>1</td>\n",
              "      <td>B0859B5J8T</td>\n",
              "      <td>499.00</td>\n",
              "      <td>0.00</td>\n",
              "      <td>2021-01-31</td>\n",
              "    </tr>\n",
              "  </tbody>\n",
              "</table>\n",
              "<p>931 rows × 5 columns</p>\n",
              "</div>"
            ],
            "text/plain": [
              "     Quantity        Asin  Invoice Amount  Item Promo Discount        date\n",
              "0           1  B07TM3LRVB        -1135.00                 0.00  2020-12-28\n",
              "1           1  B07TM3LRVB        -1135.00                 0.00  2020-12-25\n",
              "2           1  B07TM3LRVB        -1135.00                 0.00  2020-12-28\n",
              "3           1  B07TM3LRVB        -1135.00                 0.00  2020-12-23\n",
              "4           1  B07TM3LRVB        -1135.00                 0.00  2020-12-18\n",
              "..        ...         ...             ...                  ...         ...\n",
              "926         1  B07TM3LRVB         1078.25               -56.75  2021-01-31\n",
              "927         1  B08332221J         1424.05               -74.95  2021-01-31\n",
              "928         1  B0849NLNTQ         1599.00                 0.00  2021-01-31\n",
              "929         1  B07TM3LRVB         1078.25               -56.75  2021-01-31\n",
              "930         1  B0859B5J8T          499.00                 0.00  2021-01-31\n",
              "\n",
              "[931 rows x 5 columns]"
            ]
          },
          "metadata": {
            "tags": []
          },
          "execution_count": 11
        }
      ]
    },
    {
      "cell_type": "code",
      "metadata": {
        "colab": {
          "base_uri": "https://localhost:8080/"
        },
        "id": "11dt5GT2Ut7e",
        "outputId": "8d218eeb-fd16-4eef-f9a0-2bff5db856e2"
      },
      "source": [
        "asin_list = df_new.Asin.unique()\n",
        "asin_list"
      ],
      "execution_count": null,
      "outputs": [
        {
          "output_type": "execute_result",
          "data": {
            "text/plain": [
              "array(['B07TM3LRVB', 'B0849NLNTQ', 'B08332221J', 'B07MK32L49', 'B08976V1BZ', 'B0859193NJ', 'B07TJ1HDTM', 'B0858X26QM', 'B07KYFHTGF', 'B0859B5J8T', 'B0897LPBHR', 'B084JJWJ31', 'B07W1YYQ9G',\n",
              "       'B07ZBCTB9N', 'B07S8NC532', 'B07YC69QKT', 'B07Z7QX6ST'], dtype=object)"
            ]
          },
          "metadata": {
            "tags": []
          },
          "execution_count": 12
        }
      ]
    },
    {
      "cell_type": "code",
      "metadata": {
        "id": "tRyU-MLIVuWH"
      },
      "source": [
        "# Converting into datetime\n",
        "df_new['date'] = pd.to_datetime(df_new['date'])"
      ],
      "execution_count": null,
      "outputs": []
    },
    {
      "cell_type": "markdown",
      "metadata": {
        "id": "Urm9_MBuXW5t"
      },
      "source": [
        "##### Removing refund and returns"
      ]
    },
    {
      "cell_type": "code",
      "metadata": {
        "id": "owwy6RaGXjW8"
      },
      "source": [
        "cond = df_new['Invoice Amount'] > 0\n",
        "\n",
        "df_new_2  = df_new.where(cond)\n",
        "df_new_2.dropna(how='all',inplace = True)"
      ],
      "execution_count": null,
      "outputs": []
    },
    {
      "cell_type": "code",
      "metadata": {
        "colab": {
          "base_uri": "https://localhost:8080/",
          "height": 206
        },
        "id": "4TvF4W96YQXC",
        "outputId": "1bd7d18e-815d-4f8e-c7f2-407affce2c5c"
      },
      "source": [
        "df_new_2.head()\n"
      ],
      "execution_count": null,
      "outputs": [
        {
          "output_type": "execute_result",
          "data": {
            "text/html": [
              "<div>\n",
              "<style scoped>\n",
              "    .dataframe tbody tr th:only-of-type {\n",
              "        vertical-align: middle;\n",
              "    }\n",
              "\n",
              "    .dataframe tbody tr th {\n",
              "        vertical-align: top;\n",
              "    }\n",
              "\n",
              "    .dataframe thead th {\n",
              "        text-align: right;\n",
              "    }\n",
              "</style>\n",
              "<table border=\"1\" class=\"dataframe\">\n",
              "  <thead>\n",
              "    <tr style=\"text-align: right;\">\n",
              "      <th></th>\n",
              "      <th>Quantity</th>\n",
              "      <th>Asin</th>\n",
              "      <th>Invoice Amount</th>\n",
              "      <th>Item Promo Discount</th>\n",
              "      <th>date</th>\n",
              "    </tr>\n",
              "  </thead>\n",
              "  <tbody>\n",
              "    <tr>\n",
              "      <th>22</th>\n",
              "      <td>1.0</td>\n",
              "      <td>B07TM3LRVB</td>\n",
              "      <td>1135.0</td>\n",
              "      <td>0.0</td>\n",
              "      <td>2020-12-31</td>\n",
              "    </tr>\n",
              "    <tr>\n",
              "      <th>23</th>\n",
              "      <td>1.0</td>\n",
              "      <td>B07TM3LRVB</td>\n",
              "      <td>1135.0</td>\n",
              "      <td>0.0</td>\n",
              "      <td>2021-01-01</td>\n",
              "    </tr>\n",
              "    <tr>\n",
              "      <th>24</th>\n",
              "      <td>1.0</td>\n",
              "      <td>B08332221J</td>\n",
              "      <td>1499.0</td>\n",
              "      <td>0.0</td>\n",
              "      <td>2021-01-01</td>\n",
              "    </tr>\n",
              "    <tr>\n",
              "      <th>25</th>\n",
              "      <td>1.0</td>\n",
              "      <td>B07TM3LRVB</td>\n",
              "      <td>1135.0</td>\n",
              "      <td>0.0</td>\n",
              "      <td>2021-01-01</td>\n",
              "    </tr>\n",
              "    <tr>\n",
              "      <th>26</th>\n",
              "      <td>1.0</td>\n",
              "      <td>B07TM3LRVB</td>\n",
              "      <td>1135.0</td>\n",
              "      <td>0.0</td>\n",
              "      <td>2021-01-01</td>\n",
              "    </tr>\n",
              "  </tbody>\n",
              "</table>\n",
              "</div>"
            ],
            "text/plain": [
              "    Quantity        Asin  Invoice Amount  Item Promo Discount       date\n",
              "22       1.0  B07TM3LRVB          1135.0                  0.0 2020-12-31\n",
              "23       1.0  B07TM3LRVB          1135.0                  0.0 2021-01-01\n",
              "24       1.0  B08332221J          1499.0                  0.0 2021-01-01\n",
              "25       1.0  B07TM3LRVB          1135.0                  0.0 2021-01-01\n",
              "26       1.0  B07TM3LRVB          1135.0                  0.0 2021-01-01"
            ]
          },
          "metadata": {
            "tags": []
          },
          "execution_count": 19
        }
      ]
    },
    {
      "cell_type": "markdown",
      "metadata": {
        "id": "innZDyTLh8jf"
      },
      "source": [
        "#### Creating the dataframe for ASINs for which no sales been made"
      ]
    },
    {
      "cell_type": "code",
      "metadata": {
        "id": "D1eU7LvHYKfR"
      },
      "source": [
        "max_date = max(df_new_2['date']) \n",
        "min_date = (min(df_new_2['date']))"
      ],
      "execution_count": null,
      "outputs": []
    },
    {
      "cell_type": "code",
      "metadata": {
        "id": "WksGLw78ZEVN"
      },
      "source": [
        "# finding all the dates btw max and min\n",
        "\n",
        "date_list  = pd.date_range(min_date,max_date)"
      ],
      "execution_count": null,
      "outputs": []
    },
    {
      "cell_type": "code",
      "metadata": {
        "id": "-7LS6DuCcyb7"
      },
      "source": [
        "df_asin = pd.DataFrame(columns = ['date', 'Asin'])"
      ],
      "execution_count": null,
      "outputs": []
    },
    {
      "cell_type": "code",
      "metadata": {
        "colab": {
          "base_uri": "https://localhost:8080/",
          "height": 49
        },
        "id": "2x2PGtZTgyQB",
        "outputId": "ab9dd8bb-ed7f-44d5-ad5c-4db635ed9cc2"
      },
      "source": [
        "df_asin"
      ],
      "execution_count": null,
      "outputs": [
        {
          "output_type": "execute_result",
          "data": {
            "text/html": [
              "<div>\n",
              "<style scoped>\n",
              "    .dataframe tbody tr th:only-of-type {\n",
              "        vertical-align: middle;\n",
              "    }\n",
              "\n",
              "    .dataframe tbody tr th {\n",
              "        vertical-align: top;\n",
              "    }\n",
              "\n",
              "    .dataframe thead th {\n",
              "        text-align: right;\n",
              "    }\n",
              "</style>\n",
              "<table border=\"1\" class=\"dataframe\">\n",
              "  <thead>\n",
              "    <tr style=\"text-align: right;\">\n",
              "      <th></th>\n",
              "      <th>date</th>\n",
              "      <th>Asin</th>\n",
              "    </tr>\n",
              "  </thead>\n",
              "  <tbody>\n",
              "  </tbody>\n",
              "</table>\n",
              "</div>"
            ],
            "text/plain": [
              "Empty DataFrame\n",
              "Columns: [date, Asin]\n",
              "Index: []"
            ]
          },
          "metadata": {
            "tags": []
          },
          "execution_count": 37
        }
      ]
    },
    {
      "cell_type": "code",
      "metadata": {
        "id": "Je38CwPpU8zd"
      },
      "source": [
        "# Creating the dataframe - ASINs , for days no sales have made\n",
        "index = 0\n",
        "while True:\n",
        "\n",
        "  for date in (date_list) :\n",
        "    for asin in (asin_list):\n",
        "      df_asin.loc[index] = [date,asin]\n",
        "      index = index + 1\n",
        "\n",
        "  break    "
      ],
      "execution_count": null,
      "outputs": []
    },
    {
      "cell_type": "markdown",
      "metadata": {
        "id": "EeN3HrwJaMJn"
      },
      "source": [
        "FInally after hours of deliberation we have done it. We have created what we wanted, now we have details of all the asins each day. Whether in a particular day a sale has been made or not.  \n",
        "\n",
        "Now we will do this for 1 month, and from there we will getr\n",
        "\n",
        "\n",
        "\n",
        "**I think we can add one more column that is one is total sum of the product for each day and second is product cost. We can do that maybe in the next part, we can also use np.where condition to create a column with prices for one product for example, if quantity is 1, then price is invoice amount otherwise it is price/quanity.**\n",
        "\n",
        "\n",
        "For now why we are not adding it is that i think the alogo can find its meaning of product price from this data itself, say quanity 5 and total value is 2000. "
      ]
    },
    {
      "cell_type": "markdown",
      "metadata": {
        "id": "B3mvcZOYfJhS"
      },
      "source": [
        "#### Trying the Transformations on 1 month"
      ]
    },
    {
      "cell_type": "code",
      "metadata": {
        "id": "GTOGpgzQgEo2"
      },
      "source": [
        "df_new = df_dicts[2]\n",
        "df_new_1 = df_new.copy()"
      ],
      "execution_count": null,
      "outputs": []
    },
    {
      "cell_type": "code",
      "metadata": {
        "id": "39aZFCRNgEo3"
      },
      "source": [
        "df_new_1['date'] = df_new['Order Date'].dt.date"
      ],
      "execution_count": null,
      "outputs": []
    },
    {
      "cell_type": "code",
      "metadata": {
        "id": "FKVIygqkgEo6"
      },
      "source": [
        "df_new  = df_new_1.drop(['Order Date'],axis=1)"
      ],
      "execution_count": null,
      "outputs": []
    },
    {
      "cell_type": "code",
      "metadata": {
        "colab": {
          "base_uri": "https://localhost:8080/"
        },
        "id": "KAatLqBEgEo7",
        "outputId": "cd598a9a-1657-450f-da54-b15442717c5d"
      },
      "source": [
        "asin_list = df_new.Asin.unique()\n",
        "asin_list"
      ],
      "execution_count": null,
      "outputs": [
        {
          "output_type": "execute_result",
          "data": {
            "text/plain": [
              "array(['B07TM3LRVB', 'B0849NLNTQ', 'B08332221J', 'B07MK32L49', 'B08976V1BZ', 'B0859193NJ', 'B07TJ1HDTM', 'B0858X26QM', 'B07KYFHTGF', 'B0859B5J8T', 'B0897LPBHR', 'B084JJWJ31', 'B07W1YYQ9G',\n",
              "       'B07ZBCTB9N', 'B07S8NC532', 'B07YC69QKT', 'B07Z7QX6ST'], dtype=object)"
            ]
          },
          "metadata": {
            "tags": []
          },
          "execution_count": 56
        }
      ]
    },
    {
      "cell_type": "code",
      "metadata": {
        "id": "FSUMiINdgEo_"
      },
      "source": [
        "df_new['date'] = pd.to_datetime(df_new['date'])"
      ],
      "execution_count": null,
      "outputs": []
    },
    {
      "cell_type": "code",
      "metadata": {
        "id": "j1_VlxXxgEpA"
      },
      "source": [
        "# Removing refund and return\n",
        "cond = df_new['Invoice Amount'] > 0\n",
        "\n",
        "df_new_2  = df_new.where(cond)\n",
        "df_new_2.dropna(how='all',inplace = True)"
      ],
      "execution_count": null,
      "outputs": []
    },
    {
      "cell_type": "code",
      "metadata": {
        "id": "xCDp12PhgEpC"
      },
      "source": [
        "max_date = max(df_new_2['date']) \n",
        "min_date = (min(df_new_2['date']))"
      ],
      "execution_count": null,
      "outputs": []
    },
    {
      "cell_type": "code",
      "metadata": {
        "id": "d7KBkhWggEpC"
      },
      "source": [
        "# finding all the dates btw max and min\n",
        "\n",
        "date_list  = pd.date_range(min_date,max_date)"
      ],
      "execution_count": null,
      "outputs": []
    },
    {
      "cell_type": "code",
      "metadata": {
        "id": "MAl5FaadgEpE"
      },
      "source": [
        "df_asin = pd.DataFrame(columns = ['date', 'Asin'])"
      ],
      "execution_count": null,
      "outputs": []
    },
    {
      "cell_type": "code",
      "metadata": {
        "id": "up7azysKgEpE"
      },
      "source": [
        "# Creating the dataframe - ASINs , for days no sales have made\n",
        "index = 0\n",
        "while True:\n",
        "\n",
        "  for date in (date_list) :\n",
        "    for asin in (asin_list):\n",
        "      df_asin.loc[index] = [date,asin]\n",
        "      index = index + 1\n",
        "\n",
        "  break    "
      ],
      "execution_count": null,
      "outputs": []
    },
    {
      "cell_type": "code",
      "metadata": {
        "colab": {
          "base_uri": "https://localhost:8080/",
          "height": 206
        },
        "id": "5FH2l1fZg3FP",
        "outputId": "2ef8ca84-2266-4e3f-e22e-3e99c4866a0b"
      },
      "source": [
        "df_asin.head()"
      ],
      "execution_count": null,
      "outputs": [
        {
          "output_type": "execute_result",
          "data": {
            "text/html": [
              "<div>\n",
              "<style scoped>\n",
              "    .dataframe tbody tr th:only-of-type {\n",
              "        vertical-align: middle;\n",
              "    }\n",
              "\n",
              "    .dataframe tbody tr th {\n",
              "        vertical-align: top;\n",
              "    }\n",
              "\n",
              "    .dataframe thead th {\n",
              "        text-align: right;\n",
              "    }\n",
              "</style>\n",
              "<table border=\"1\" class=\"dataframe\">\n",
              "  <thead>\n",
              "    <tr style=\"text-align: right;\">\n",
              "      <th></th>\n",
              "      <th>date</th>\n",
              "      <th>Asin</th>\n",
              "    </tr>\n",
              "  </thead>\n",
              "  <tbody>\n",
              "    <tr>\n",
              "      <th>0</th>\n",
              "      <td>2020-12-31</td>\n",
              "      <td>B07TM3LRVB</td>\n",
              "    </tr>\n",
              "    <tr>\n",
              "      <th>1</th>\n",
              "      <td>2020-12-31</td>\n",
              "      <td>B0849NLNTQ</td>\n",
              "    </tr>\n",
              "    <tr>\n",
              "      <th>2</th>\n",
              "      <td>2020-12-31</td>\n",
              "      <td>B08332221J</td>\n",
              "    </tr>\n",
              "    <tr>\n",
              "      <th>3</th>\n",
              "      <td>2020-12-31</td>\n",
              "      <td>B07MK32L49</td>\n",
              "    </tr>\n",
              "    <tr>\n",
              "      <th>4</th>\n",
              "      <td>2020-12-31</td>\n",
              "      <td>B08976V1BZ</td>\n",
              "    </tr>\n",
              "  </tbody>\n",
              "</table>\n",
              "</div>"
            ],
            "text/plain": [
              "        date        Asin\n",
              "0 2020-12-31  B07TM3LRVB\n",
              "1 2020-12-31  B0849NLNTQ\n",
              "2 2020-12-31  B08332221J\n",
              "3 2020-12-31  B07MK32L49\n",
              "4 2020-12-31  B08976V1BZ"
            ]
          },
          "metadata": {
            "tags": []
          },
          "execution_count": 65
        }
      ]
    },
    {
      "cell_type": "code",
      "metadata": {
        "id": "J3iOy9_qhC4M"
      },
      "source": [
        "df_new = df_new_2"
      ],
      "execution_count": null,
      "outputs": []
    },
    {
      "cell_type": "code",
      "metadata": {
        "colab": {
          "base_uri": "https://localhost:8080/",
          "height": 424
        },
        "id": "1i0kWc9C_WZd",
        "outputId": "02f6710a-e917-4ab7-fdee-0c8cc97b505d"
      },
      "source": [
        "# Merging the datasets, so we have the details for all Asins for each day\n",
        "df_merge = df_new.merge(df_asin, how='outer', on=['date','Asin'])\n",
        "df_merge"
      ],
      "execution_count": null,
      "outputs": [
        {
          "output_type": "execute_result",
          "data": {
            "text/html": [
              "<div>\n",
              "<style scoped>\n",
              "    .dataframe tbody tr th:only-of-type {\n",
              "        vertical-align: middle;\n",
              "    }\n",
              "\n",
              "    .dataframe tbody tr th {\n",
              "        vertical-align: top;\n",
              "    }\n",
              "\n",
              "    .dataframe thead th {\n",
              "        text-align: right;\n",
              "    }\n",
              "</style>\n",
              "<table border=\"1\" class=\"dataframe\">\n",
              "  <thead>\n",
              "    <tr style=\"text-align: right;\">\n",
              "      <th></th>\n",
              "      <th>Quantity</th>\n",
              "      <th>Asin</th>\n",
              "      <th>Invoice Amount</th>\n",
              "      <th>Item Promo Discount</th>\n",
              "      <th>date</th>\n",
              "    </tr>\n",
              "  </thead>\n",
              "  <tbody>\n",
              "    <tr>\n",
              "      <th>0</th>\n",
              "      <td>1.0</td>\n",
              "      <td>B07TM3LRVB</td>\n",
              "      <td>1135.0</td>\n",
              "      <td>0.0</td>\n",
              "      <td>2020-12-31</td>\n",
              "    </tr>\n",
              "    <tr>\n",
              "      <th>1</th>\n",
              "      <td>1.0</td>\n",
              "      <td>B07TM3LRVB</td>\n",
              "      <td>1135.0</td>\n",
              "      <td>0.0</td>\n",
              "      <td>2021-01-01</td>\n",
              "    </tr>\n",
              "    <tr>\n",
              "      <th>2</th>\n",
              "      <td>1.0</td>\n",
              "      <td>B07TM3LRVB</td>\n",
              "      <td>1135.0</td>\n",
              "      <td>0.0</td>\n",
              "      <td>2021-01-01</td>\n",
              "    </tr>\n",
              "    <tr>\n",
              "      <th>3</th>\n",
              "      <td>1.0</td>\n",
              "      <td>B07TM3LRVB</td>\n",
              "      <td>1135.0</td>\n",
              "      <td>0.0</td>\n",
              "      <td>2021-01-01</td>\n",
              "    </tr>\n",
              "    <tr>\n",
              "      <th>4</th>\n",
              "      <td>1.0</td>\n",
              "      <td>B07TM3LRVB</td>\n",
              "      <td>1135.0</td>\n",
              "      <td>0.0</td>\n",
              "      <td>2021-01-01</td>\n",
              "    </tr>\n",
              "    <tr>\n",
              "      <th>...</th>\n",
              "      <td>...</td>\n",
              "      <td>...</td>\n",
              "      <td>...</td>\n",
              "      <td>...</td>\n",
              "      <td>...</td>\n",
              "    </tr>\n",
              "    <tr>\n",
              "      <th>810</th>\n",
              "      <td>NaN</td>\n",
              "      <td>B084JJWJ31</td>\n",
              "      <td>NaN</td>\n",
              "      <td>NaN</td>\n",
              "      <td>2021-01-28</td>\n",
              "    </tr>\n",
              "    <tr>\n",
              "      <th>811</th>\n",
              "      <td>NaN</td>\n",
              "      <td>B07KYFHTGF</td>\n",
              "      <td>NaN</td>\n",
              "      <td>NaN</td>\n",
              "      <td>2021-01-29</td>\n",
              "    </tr>\n",
              "    <tr>\n",
              "      <th>812</th>\n",
              "      <td>NaN</td>\n",
              "      <td>B08976V1BZ</td>\n",
              "      <td>NaN</td>\n",
              "      <td>NaN</td>\n",
              "      <td>2021-01-29</td>\n",
              "    </tr>\n",
              "    <tr>\n",
              "      <th>813</th>\n",
              "      <td>NaN</td>\n",
              "      <td>B08332221J</td>\n",
              "      <td>NaN</td>\n",
              "      <td>NaN</td>\n",
              "      <td>2021-01-29</td>\n",
              "    </tr>\n",
              "    <tr>\n",
              "      <th>814</th>\n",
              "      <td>NaN</td>\n",
              "      <td>B07TJ1HDTM</td>\n",
              "      <td>NaN</td>\n",
              "      <td>NaN</td>\n",
              "      <td>2021-01-29</td>\n",
              "    </tr>\n",
              "  </tbody>\n",
              "</table>\n",
              "<p>815 rows × 5 columns</p>\n",
              "</div>"
            ],
            "text/plain": [
              "     Quantity        Asin  Invoice Amount  Item Promo Discount       date\n",
              "0         1.0  B07TM3LRVB          1135.0                  0.0 2020-12-31\n",
              "1         1.0  B07TM3LRVB          1135.0                  0.0 2021-01-01\n",
              "2         1.0  B07TM3LRVB          1135.0                  0.0 2021-01-01\n",
              "3         1.0  B07TM3LRVB          1135.0                  0.0 2021-01-01\n",
              "4         1.0  B07TM3LRVB          1135.0                  0.0 2021-01-01\n",
              "..        ...         ...             ...                  ...        ...\n",
              "810       NaN  B084JJWJ31             NaN                  NaN 2021-01-28\n",
              "811       NaN  B07KYFHTGF             NaN                  NaN 2021-01-29\n",
              "812       NaN  B08976V1BZ             NaN                  NaN 2021-01-29\n",
              "813       NaN  B08332221J             NaN                  NaN 2021-01-29\n",
              "814       NaN  B07TJ1HDTM             NaN                  NaN 2021-01-29\n",
              "\n",
              "[815 rows x 5 columns]"
            ]
          },
          "metadata": {
            "tags": []
          },
          "execution_count": 147
        }
      ]
    },
    {
      "cell_type": "code",
      "metadata": {
        "colab": {
          "base_uri": "https://localhost:8080/",
          "height": 424
        },
        "id": "MzgntvQHg6oF",
        "outputId": "b4c360cf-bb2c-4172-f10b-ccaff2f35869"
      },
      "source": [
        "df_merge = df_new.merge(df_asin, how='outer', on=['date','Asin'])\n",
        "df_merge"
      ],
      "execution_count": null,
      "outputs": [
        {
          "output_type": "execute_result",
          "data": {
            "text/html": [
              "<div>\n",
              "<style scoped>\n",
              "    .dataframe tbody tr th:only-of-type {\n",
              "        vertical-align: middle;\n",
              "    }\n",
              "\n",
              "    .dataframe tbody tr th {\n",
              "        vertical-align: top;\n",
              "    }\n",
              "\n",
              "    .dataframe thead th {\n",
              "        text-align: right;\n",
              "    }\n",
              "</style>\n",
              "<table border=\"1\" class=\"dataframe\">\n",
              "  <thead>\n",
              "    <tr style=\"text-align: right;\">\n",
              "      <th></th>\n",
              "      <th>Quantity</th>\n",
              "      <th>Asin</th>\n",
              "      <th>Invoice Amount</th>\n",
              "      <th>Item Promo Discount</th>\n",
              "      <th>date</th>\n",
              "    </tr>\n",
              "  </thead>\n",
              "  <tbody>\n",
              "    <tr>\n",
              "      <th>0</th>\n",
              "      <td>1.0</td>\n",
              "      <td>B07TM3LRVB</td>\n",
              "      <td>1135.0</td>\n",
              "      <td>0.0</td>\n",
              "      <td>2020-12-31</td>\n",
              "    </tr>\n",
              "    <tr>\n",
              "      <th>1</th>\n",
              "      <td>1.0</td>\n",
              "      <td>B07TM3LRVB</td>\n",
              "      <td>1135.0</td>\n",
              "      <td>0.0</td>\n",
              "      <td>2021-01-01</td>\n",
              "    </tr>\n",
              "    <tr>\n",
              "      <th>2</th>\n",
              "      <td>1.0</td>\n",
              "      <td>B07TM3LRVB</td>\n",
              "      <td>1135.0</td>\n",
              "      <td>0.0</td>\n",
              "      <td>2021-01-01</td>\n",
              "    </tr>\n",
              "    <tr>\n",
              "      <th>3</th>\n",
              "      <td>1.0</td>\n",
              "      <td>B07TM3LRVB</td>\n",
              "      <td>1135.0</td>\n",
              "      <td>0.0</td>\n",
              "      <td>2021-01-01</td>\n",
              "    </tr>\n",
              "    <tr>\n",
              "      <th>4</th>\n",
              "      <td>1.0</td>\n",
              "      <td>B07TM3LRVB</td>\n",
              "      <td>1135.0</td>\n",
              "      <td>0.0</td>\n",
              "      <td>2021-01-01</td>\n",
              "    </tr>\n",
              "    <tr>\n",
              "      <th>...</th>\n",
              "      <td>...</td>\n",
              "      <td>...</td>\n",
              "      <td>...</td>\n",
              "      <td>...</td>\n",
              "      <td>...</td>\n",
              "    </tr>\n",
              "    <tr>\n",
              "      <th>1101</th>\n",
              "      <td>NaN</td>\n",
              "      <td>B07W1YYQ9G</td>\n",
              "      <td>NaN</td>\n",
              "      <td>NaN</td>\n",
              "      <td>2021-01-31</td>\n",
              "    </tr>\n",
              "    <tr>\n",
              "      <th>1102</th>\n",
              "      <td>NaN</td>\n",
              "      <td>B07ZBCTB9N</td>\n",
              "      <td>NaN</td>\n",
              "      <td>NaN</td>\n",
              "      <td>2021-01-31</td>\n",
              "    </tr>\n",
              "    <tr>\n",
              "      <th>1103</th>\n",
              "      <td>NaN</td>\n",
              "      <td>B07S8NC532</td>\n",
              "      <td>NaN</td>\n",
              "      <td>NaN</td>\n",
              "      <td>2021-01-31</td>\n",
              "    </tr>\n",
              "    <tr>\n",
              "      <th>1104</th>\n",
              "      <td>NaN</td>\n",
              "      <td>B07YC69QKT</td>\n",
              "      <td>NaN</td>\n",
              "      <td>NaN</td>\n",
              "      <td>2021-01-31</td>\n",
              "    </tr>\n",
              "    <tr>\n",
              "      <th>1105</th>\n",
              "      <td>NaN</td>\n",
              "      <td>B07Z7QX6ST</td>\n",
              "      <td>NaN</td>\n",
              "      <td>NaN</td>\n",
              "      <td>2021-01-31</td>\n",
              "    </tr>\n",
              "  </tbody>\n",
              "</table>\n",
              "<p>1106 rows × 5 columns</p>\n",
              "</div>"
            ],
            "text/plain": [
              "      Quantity        Asin  Invoice Amount  Item Promo Discount       date\n",
              "0          1.0  B07TM3LRVB          1135.0                  0.0 2020-12-31\n",
              "1          1.0  B07TM3LRVB          1135.0                  0.0 2021-01-01\n",
              "2          1.0  B07TM3LRVB          1135.0                  0.0 2021-01-01\n",
              "3          1.0  B07TM3LRVB          1135.0                  0.0 2021-01-01\n",
              "4          1.0  B07TM3LRVB          1135.0                  0.0 2021-01-01\n",
              "...        ...         ...             ...                  ...        ...\n",
              "1101       NaN  B07W1YYQ9G             NaN                  NaN 2021-01-31\n",
              "1102       NaN  B07ZBCTB9N             NaN                  NaN 2021-01-31\n",
              "1103       NaN  B07S8NC532             NaN                  NaN 2021-01-31\n",
              "1104       NaN  B07YC69QKT             NaN                  NaN 2021-01-31\n",
              "1105       NaN  B07Z7QX6ST             NaN                  NaN 2021-01-31\n",
              "\n",
              "[1106 rows x 5 columns]"
            ]
          },
          "metadata": {
            "tags": []
          },
          "execution_count": 70
        }
      ]
    },
    {
      "cell_type": "code",
      "metadata": {
        "id": "qnjKIPvMoV-p"
      },
      "source": [
        "# Calculating the price for each product\n",
        "df_merge['price'] = df_merge['Invoice Amount']/df_merge['Quantity']"
      ],
      "execution_count": null,
      "outputs": []
    },
    {
      "cell_type": "code",
      "metadata": {
        "id": "5-v9ZLHHpLR3"
      },
      "source": [
        "# Filling NA with 0 for quantities\n",
        "df_merge['Quantity'] = df_merge['Quantity'].fillna(0)"
      ],
      "execution_count": null,
      "outputs": []
    },
    {
      "cell_type": "code",
      "metadata": {
        "id": "0L2ftoYCpbDE"
      },
      "source": [
        "# This will be zero for missing values since the sales have not been made for missing values.\n",
        "df_merge['Invoice Amount'] = df_merge['Invoice Amount'].fillna(0)"
      ],
      "execution_count": null,
      "outputs": []
    },
    {
      "cell_type": "code",
      "metadata": {
        "id": "NzMm-5ivpnWk"
      },
      "source": [
        "# This will be zero for missing values since the sales have not been made for missing values.\n",
        "df_merge['Item Promo Discount'] = df_merge['Item Promo Discount'].fillna(0)"
      ],
      "execution_count": null,
      "outputs": []
    },
    {
      "cell_type": "code",
      "metadata": {
        "colab": {
          "base_uri": "https://localhost:8080/",
          "height": 206
        },
        "id": "1J_gnMaqpEEs",
        "outputId": "028abd1e-67ed-4196-8b2f-c1a81f0e0a49"
      },
      "source": [
        "df_merge.head()"
      ],
      "execution_count": null,
      "outputs": [
        {
          "output_type": "execute_result",
          "data": {
            "text/html": [
              "<div>\n",
              "<style scoped>\n",
              "    .dataframe tbody tr th:only-of-type {\n",
              "        vertical-align: middle;\n",
              "    }\n",
              "\n",
              "    .dataframe tbody tr th {\n",
              "        vertical-align: top;\n",
              "    }\n",
              "\n",
              "    .dataframe thead th {\n",
              "        text-align: right;\n",
              "    }\n",
              "</style>\n",
              "<table border=\"1\" class=\"dataframe\">\n",
              "  <thead>\n",
              "    <tr style=\"text-align: right;\">\n",
              "      <th></th>\n",
              "      <th>Quantity</th>\n",
              "      <th>Asin</th>\n",
              "      <th>Invoice Amount</th>\n",
              "      <th>Item Promo Discount</th>\n",
              "      <th>date</th>\n",
              "      <th>price</th>\n",
              "    </tr>\n",
              "  </thead>\n",
              "  <tbody>\n",
              "    <tr>\n",
              "      <th>0</th>\n",
              "      <td>1.0</td>\n",
              "      <td>B07TM3LRVB</td>\n",
              "      <td>1135.0</td>\n",
              "      <td>0.0</td>\n",
              "      <td>2020-12-31</td>\n",
              "      <td>1135.0</td>\n",
              "    </tr>\n",
              "    <tr>\n",
              "      <th>1</th>\n",
              "      <td>1.0</td>\n",
              "      <td>B07TM3LRVB</td>\n",
              "      <td>1135.0</td>\n",
              "      <td>0.0</td>\n",
              "      <td>2021-01-01</td>\n",
              "      <td>1135.0</td>\n",
              "    </tr>\n",
              "    <tr>\n",
              "      <th>2</th>\n",
              "      <td>1.0</td>\n",
              "      <td>B07TM3LRVB</td>\n",
              "      <td>1135.0</td>\n",
              "      <td>0.0</td>\n",
              "      <td>2021-01-01</td>\n",
              "      <td>1135.0</td>\n",
              "    </tr>\n",
              "    <tr>\n",
              "      <th>3</th>\n",
              "      <td>1.0</td>\n",
              "      <td>B07TM3LRVB</td>\n",
              "      <td>1135.0</td>\n",
              "      <td>0.0</td>\n",
              "      <td>2021-01-01</td>\n",
              "      <td>1135.0</td>\n",
              "    </tr>\n",
              "    <tr>\n",
              "      <th>4</th>\n",
              "      <td>1.0</td>\n",
              "      <td>B07TM3LRVB</td>\n",
              "      <td>1135.0</td>\n",
              "      <td>0.0</td>\n",
              "      <td>2021-01-01</td>\n",
              "      <td>1135.0</td>\n",
              "    </tr>\n",
              "  </tbody>\n",
              "</table>\n",
              "</div>"
            ],
            "text/plain": [
              "   Quantity        Asin  Invoice Amount  Item Promo Discount       date  \\\n",
              "0       1.0  B07TM3LRVB          1135.0                  0.0 2020-12-31   \n",
              "1       1.0  B07TM3LRVB          1135.0                  0.0 2021-01-01   \n",
              "2       1.0  B07TM3LRVB          1135.0                  0.0 2021-01-01   \n",
              "3       1.0  B07TM3LRVB          1135.0                  0.0 2021-01-01   \n",
              "4       1.0  B07TM3LRVB          1135.0                  0.0 2021-01-01   \n",
              "\n",
              "    price  \n",
              "0  1135.0  \n",
              "1  1135.0  \n",
              "2  1135.0  \n",
              "3  1135.0  \n",
              "4  1135.0  "
            ]
          },
          "metadata": {
            "tags": []
          },
          "execution_count": 100
        }
      ]
    },
    {
      "cell_type": "code",
      "metadata": {
        "id": "CiuVtEw7oYBU"
      },
      "source": [
        "# Finding the mode value for prices of each product, we can use that to as the price value for each asins(NA).\n",
        "df_price = df_merge.groupby('Asin')['price'].agg(lambda x: np.mean(pd.Series.mode(x))).reset_index()"
      ],
      "execution_count": null,
      "outputs": []
    },
    {
      "cell_type": "code",
      "metadata": {
        "id": "LA3gIb9uuKw1"
      },
      "source": [
        "df = df_merge.set_index('Asin')"
      ],
      "execution_count": null,
      "outputs": []
    },
    {
      "cell_type": "code",
      "metadata": {
        "id": "kdl1327PsRV6"
      },
      "source": [
        "df_price = df_price.set_index('Asin')"
      ],
      "execution_count": null,
      "outputs": []
    },
    {
      "cell_type": "code",
      "metadata": {
        "id": "6L9y1837uVJk"
      },
      "source": [
        "df.update(df_price,overwrite = False, join = 'left')"
      ],
      "execution_count": null,
      "outputs": []
    },
    {
      "cell_type": "code",
      "metadata": {
        "id": "xf2ak66ruicV"
      },
      "source": [
        ""
      ],
      "execution_count": null,
      "outputs": []
    },
    {
      "cell_type": "code",
      "metadata": {
        "id": "is42-OOCoX7E"
      },
      "source": [
        "# df = df_merge.update(df_price, overwrite = False, join = 'left')"
      ],
      "execution_count": null,
      "outputs": []
    },
    {
      "cell_type": "code",
      "metadata": {
        "id": "Gu1vj542oX3X"
      },
      "source": [
        "df.reset_index(inplace = True)"
      ],
      "execution_count": null,
      "outputs": []
    },
    {
      "cell_type": "code",
      "metadata": {
        "colab": {
          "base_uri": "https://localhost:8080/",
          "height": 455
        },
        "id": "QLnUzuO3sFse",
        "outputId": "70368ae8-4515-4cfc-86a2-e6c03641364a"
      },
      "source": [
        "x = df.groupby(['date','Asin','Item Promo Discount','price']).sum()\n",
        "x"
      ],
      "execution_count": null,
      "outputs": [
        {
          "output_type": "execute_result",
          "data": {
            "text/html": [
              "<div>\n",
              "<style scoped>\n",
              "    .dataframe tbody tr th:only-of-type {\n",
              "        vertical-align: middle;\n",
              "    }\n",
              "\n",
              "    .dataframe tbody tr th {\n",
              "        vertical-align: top;\n",
              "    }\n",
              "\n",
              "    .dataframe thead th {\n",
              "        text-align: right;\n",
              "    }\n",
              "</style>\n",
              "<table border=\"1\" class=\"dataframe\">\n",
              "  <thead>\n",
              "    <tr style=\"text-align: right;\">\n",
              "      <th></th>\n",
              "      <th></th>\n",
              "      <th></th>\n",
              "      <th></th>\n",
              "      <th>Quantity</th>\n",
              "      <th>Invoice Amount</th>\n",
              "    </tr>\n",
              "    <tr>\n",
              "      <th>date</th>\n",
              "      <th>Asin</th>\n",
              "      <th>Item Promo Discount</th>\n",
              "      <th>price</th>\n",
              "      <th></th>\n",
              "      <th></th>\n",
              "    </tr>\n",
              "  </thead>\n",
              "  <tbody>\n",
              "    <tr>\n",
              "      <th rowspan=\"5\" valign=\"top\">2020-12-31</th>\n",
              "      <th>B07KYFHTGF</th>\n",
              "      <th>0.0</th>\n",
              "      <th>1995.000</th>\n",
              "      <td>0.0</td>\n",
              "      <td>0.0</td>\n",
              "    </tr>\n",
              "    <tr>\n",
              "      <th>B07MK32L49</th>\n",
              "      <th>0.0</th>\n",
              "      <th>149.000</th>\n",
              "      <td>0.0</td>\n",
              "      <td>0.0</td>\n",
              "    </tr>\n",
              "    <tr>\n",
              "      <th>B07S8NC532</th>\n",
              "      <th>0.0</th>\n",
              "      <th>2099.000</th>\n",
              "      <td>0.0</td>\n",
              "      <td>0.0</td>\n",
              "    </tr>\n",
              "    <tr>\n",
              "      <th>B07TJ1HDTM</th>\n",
              "      <th>0.0</th>\n",
              "      <th>1649.000</th>\n",
              "      <td>0.0</td>\n",
              "      <td>0.0</td>\n",
              "    </tr>\n",
              "    <tr>\n",
              "      <th>B07TM3LRVB</th>\n",
              "      <th>0.0</th>\n",
              "      <th>1135.000</th>\n",
              "      <td>1.0</td>\n",
              "      <td>1135.0</td>\n",
              "    </tr>\n",
              "    <tr>\n",
              "      <th>...</th>\n",
              "      <th>...</th>\n",
              "      <th>...</th>\n",
              "      <th>...</th>\n",
              "      <td>...</td>\n",
              "      <td>...</td>\n",
              "    </tr>\n",
              "    <tr>\n",
              "      <th rowspan=\"5\" valign=\"top\">2021-01-31</th>\n",
              "      <th>B0858X26QM</th>\n",
              "      <th>0.0</th>\n",
              "      <th>599.000</th>\n",
              "      <td>0.0</td>\n",
              "      <td>0.0</td>\n",
              "    </tr>\n",
              "    <tr>\n",
              "      <th>B0859193NJ</th>\n",
              "      <th>0.0</th>\n",
              "      <th>599.000</th>\n",
              "      <td>0.0</td>\n",
              "      <td>0.0</td>\n",
              "    </tr>\n",
              "    <tr>\n",
              "      <th>B0859B5J8T</th>\n",
              "      <th>0.0</th>\n",
              "      <th>499.000</th>\n",
              "      <td>1.0</td>\n",
              "      <td>499.0</td>\n",
              "    </tr>\n",
              "    <tr>\n",
              "      <th>B08976V1BZ</th>\n",
              "      <th>0.0</th>\n",
              "      <th>1599.000</th>\n",
              "      <td>0.0</td>\n",
              "      <td>0.0</td>\n",
              "    </tr>\n",
              "    <tr>\n",
              "      <th>B0897LPBHR</th>\n",
              "      <th>0.0</th>\n",
              "      <th>1896.375</th>\n",
              "      <td>0.0</td>\n",
              "      <td>0.0</td>\n",
              "    </tr>\n",
              "  </tbody>\n",
              "</table>\n",
              "<p>618 rows × 2 columns</p>\n",
              "</div>"
            ],
            "text/plain": [
              "                                                    Quantity  Invoice Amount\n",
              "date       Asin       Item Promo Discount price                             \n",
              "2020-12-31 B07KYFHTGF 0.0                 1995.000       0.0             0.0\n",
              "           B07MK32L49 0.0                 149.000        0.0             0.0\n",
              "           B07S8NC532 0.0                 2099.000       0.0             0.0\n",
              "           B07TJ1HDTM 0.0                 1649.000       0.0             0.0\n",
              "           B07TM3LRVB 0.0                 1135.000       1.0          1135.0\n",
              "...                                                      ...             ...\n",
              "2021-01-31 B0858X26QM 0.0                 599.000        0.0             0.0\n",
              "           B0859193NJ 0.0                 599.000        0.0             0.0\n",
              "           B0859B5J8T 0.0                 499.000        1.0           499.0\n",
              "           B08976V1BZ 0.0                 1599.000       0.0             0.0\n",
              "           B0897LPBHR 0.0                 1896.375       0.0             0.0\n",
              "\n",
              "[618 rows x 2 columns]"
            ]
          },
          "metadata": {
            "tags": []
          },
          "execution_count": 141
        }
      ]
    },
    {
      "cell_type": "code",
      "metadata": {
        "colab": {
          "base_uri": "https://localhost:8080/",
          "height": 424
        },
        "id": "nq7dwf49vpzj",
        "outputId": "8fcb8ee0-8adc-41fd-ed36-89d4f775772a"
      },
      "source": [
        "x.reset_index()"
      ],
      "execution_count": null,
      "outputs": [
        {
          "output_type": "execute_result",
          "data": {
            "text/html": [
              "<div>\n",
              "<style scoped>\n",
              "    .dataframe tbody tr th:only-of-type {\n",
              "        vertical-align: middle;\n",
              "    }\n",
              "\n",
              "    .dataframe tbody tr th {\n",
              "        vertical-align: top;\n",
              "    }\n",
              "\n",
              "    .dataframe thead th {\n",
              "        text-align: right;\n",
              "    }\n",
              "</style>\n",
              "<table border=\"1\" class=\"dataframe\">\n",
              "  <thead>\n",
              "    <tr style=\"text-align: right;\">\n",
              "      <th></th>\n",
              "      <th>date</th>\n",
              "      <th>Asin</th>\n",
              "      <th>Item Promo Discount</th>\n",
              "      <th>price</th>\n",
              "      <th>Quantity</th>\n",
              "      <th>Invoice Amount</th>\n",
              "    </tr>\n",
              "  </thead>\n",
              "  <tbody>\n",
              "    <tr>\n",
              "      <th>0</th>\n",
              "      <td>2020-12-31</td>\n",
              "      <td>B07KYFHTGF</td>\n",
              "      <td>0.0</td>\n",
              "      <td>1995.000</td>\n",
              "      <td>0.0</td>\n",
              "      <td>0.0</td>\n",
              "    </tr>\n",
              "    <tr>\n",
              "      <th>1</th>\n",
              "      <td>2020-12-31</td>\n",
              "      <td>B07MK32L49</td>\n",
              "      <td>0.0</td>\n",
              "      <td>149.000</td>\n",
              "      <td>0.0</td>\n",
              "      <td>0.0</td>\n",
              "    </tr>\n",
              "    <tr>\n",
              "      <th>2</th>\n",
              "      <td>2020-12-31</td>\n",
              "      <td>B07S8NC532</td>\n",
              "      <td>0.0</td>\n",
              "      <td>2099.000</td>\n",
              "      <td>0.0</td>\n",
              "      <td>0.0</td>\n",
              "    </tr>\n",
              "    <tr>\n",
              "      <th>3</th>\n",
              "      <td>2020-12-31</td>\n",
              "      <td>B07TJ1HDTM</td>\n",
              "      <td>0.0</td>\n",
              "      <td>1649.000</td>\n",
              "      <td>0.0</td>\n",
              "      <td>0.0</td>\n",
              "    </tr>\n",
              "    <tr>\n",
              "      <th>4</th>\n",
              "      <td>2020-12-31</td>\n",
              "      <td>B07TM3LRVB</td>\n",
              "      <td>0.0</td>\n",
              "      <td>1135.000</td>\n",
              "      <td>1.0</td>\n",
              "      <td>1135.0</td>\n",
              "    </tr>\n",
              "    <tr>\n",
              "      <th>...</th>\n",
              "      <td>...</td>\n",
              "      <td>...</td>\n",
              "      <td>...</td>\n",
              "      <td>...</td>\n",
              "      <td>...</td>\n",
              "      <td>...</td>\n",
              "    </tr>\n",
              "    <tr>\n",
              "      <th>613</th>\n",
              "      <td>2021-01-31</td>\n",
              "      <td>B0858X26QM</td>\n",
              "      <td>0.0</td>\n",
              "      <td>599.000</td>\n",
              "      <td>0.0</td>\n",
              "      <td>0.0</td>\n",
              "    </tr>\n",
              "    <tr>\n",
              "      <th>614</th>\n",
              "      <td>2021-01-31</td>\n",
              "      <td>B0859193NJ</td>\n",
              "      <td>0.0</td>\n",
              "      <td>599.000</td>\n",
              "      <td>0.0</td>\n",
              "      <td>0.0</td>\n",
              "    </tr>\n",
              "    <tr>\n",
              "      <th>615</th>\n",
              "      <td>2021-01-31</td>\n",
              "      <td>B0859B5J8T</td>\n",
              "      <td>0.0</td>\n",
              "      <td>499.000</td>\n",
              "      <td>1.0</td>\n",
              "      <td>499.0</td>\n",
              "    </tr>\n",
              "    <tr>\n",
              "      <th>616</th>\n",
              "      <td>2021-01-31</td>\n",
              "      <td>B08976V1BZ</td>\n",
              "      <td>0.0</td>\n",
              "      <td>1599.000</td>\n",
              "      <td>0.0</td>\n",
              "      <td>0.0</td>\n",
              "    </tr>\n",
              "    <tr>\n",
              "      <th>617</th>\n",
              "      <td>2021-01-31</td>\n",
              "      <td>B0897LPBHR</td>\n",
              "      <td>0.0</td>\n",
              "      <td>1896.375</td>\n",
              "      <td>0.0</td>\n",
              "      <td>0.0</td>\n",
              "    </tr>\n",
              "  </tbody>\n",
              "</table>\n",
              "<p>618 rows × 6 columns</p>\n",
              "</div>"
            ],
            "text/plain": [
              "          date        Asin  Item Promo Discount     price  Quantity  \\\n",
              "0   2020-12-31  B07KYFHTGF                  0.0  1995.000       0.0   \n",
              "1   2020-12-31  B07MK32L49                  0.0   149.000       0.0   \n",
              "2   2020-12-31  B07S8NC532                  0.0  2099.000       0.0   \n",
              "3   2020-12-31  B07TJ1HDTM                  0.0  1649.000       0.0   \n",
              "4   2020-12-31  B07TM3LRVB                  0.0  1135.000       1.0   \n",
              "..         ...         ...                  ...       ...       ...   \n",
              "613 2021-01-31  B0858X26QM                  0.0   599.000       0.0   \n",
              "614 2021-01-31  B0859193NJ                  0.0   599.000       0.0   \n",
              "615 2021-01-31  B0859B5J8T                  0.0   499.000       1.0   \n",
              "616 2021-01-31  B08976V1BZ                  0.0  1599.000       0.0   \n",
              "617 2021-01-31  B0897LPBHR                  0.0  1896.375       0.0   \n",
              "\n",
              "     Invoice Amount  \n",
              "0               0.0  \n",
              "1               0.0  \n",
              "2               0.0  \n",
              "3               0.0  \n",
              "4            1135.0  \n",
              "..              ...  \n",
              "613             0.0  \n",
              "614             0.0  \n",
              "615           499.0  \n",
              "616             0.0  \n",
              "617             0.0  \n",
              "\n",
              "[618 rows x 6 columns]"
            ]
          },
          "metadata": {
            "tags": []
          },
          "execution_count": 142
        }
      ]
    },
    {
      "cell_type": "code",
      "metadata": {
        "colab": {
          "base_uri": "https://localhost:8080/",
          "height": 645
        },
        "id": "sNlcOWQGv1jq",
        "outputId": "bc05459f-d7b1-4c10-ac41-ae5276711b04"
      },
      "source": [
        "x.loc['2021-01-31']"
      ],
      "execution_count": null,
      "outputs": [
        {
          "output_type": "execute_result",
          "data": {
            "text/html": [
              "<div>\n",
              "<style scoped>\n",
              "    .dataframe tbody tr th:only-of-type {\n",
              "        vertical-align: middle;\n",
              "    }\n",
              "\n",
              "    .dataframe tbody tr th {\n",
              "        vertical-align: top;\n",
              "    }\n",
              "\n",
              "    .dataframe thead th {\n",
              "        text-align: right;\n",
              "    }\n",
              "</style>\n",
              "<table border=\"1\" class=\"dataframe\">\n",
              "  <thead>\n",
              "    <tr style=\"text-align: right;\">\n",
              "      <th></th>\n",
              "      <th></th>\n",
              "      <th></th>\n",
              "      <th></th>\n",
              "      <th>Quantity</th>\n",
              "      <th>Invoice Amount</th>\n",
              "    </tr>\n",
              "    <tr>\n",
              "      <th>date</th>\n",
              "      <th>Asin</th>\n",
              "      <th>Item Promo Discount</th>\n",
              "      <th>price</th>\n",
              "      <th></th>\n",
              "      <th></th>\n",
              "    </tr>\n",
              "  </thead>\n",
              "  <tbody>\n",
              "    <tr>\n",
              "      <th rowspan=\"18\" valign=\"top\">2021-01-31</th>\n",
              "      <th>B07KYFHTGF</th>\n",
              "      <th>0.00</th>\n",
              "      <th>1995.000</th>\n",
              "      <td>0.0</td>\n",
              "      <td>0.00</td>\n",
              "    </tr>\n",
              "    <tr>\n",
              "      <th>B07MK32L49</th>\n",
              "      <th>0.00</th>\n",
              "      <th>149.000</th>\n",
              "      <td>0.0</td>\n",
              "      <td>0.00</td>\n",
              "    </tr>\n",
              "    <tr>\n",
              "      <th>B07S8NC532</th>\n",
              "      <th>0.00</th>\n",
              "      <th>2099.000</th>\n",
              "      <td>0.0</td>\n",
              "      <td>0.00</td>\n",
              "    </tr>\n",
              "    <tr>\n",
              "      <th>B07TJ1HDTM</th>\n",
              "      <th>0.00</th>\n",
              "      <th>1649.000</th>\n",
              "      <td>0.0</td>\n",
              "      <td>0.00</td>\n",
              "    </tr>\n",
              "    <tr>\n",
              "      <th rowspan=\"2\" valign=\"top\">B07TM3LRVB</th>\n",
              "      <th>-56.75</th>\n",
              "      <th>1078.250</th>\n",
              "      <td>6.0</td>\n",
              "      <td>6469.50</td>\n",
              "    </tr>\n",
              "    <tr>\n",
              "      <th>0.00</th>\n",
              "      <th>1135.000</th>\n",
              "      <td>12.0</td>\n",
              "      <td>13620.00</td>\n",
              "    </tr>\n",
              "    <tr>\n",
              "      <th>B07W1YYQ9G</th>\n",
              "      <th>0.00</th>\n",
              "      <th>399.000</th>\n",
              "      <td>0.0</td>\n",
              "      <td>0.00</td>\n",
              "    </tr>\n",
              "    <tr>\n",
              "      <th>B07YC69QKT</th>\n",
              "      <th>0.00</th>\n",
              "      <th>1649.000</th>\n",
              "      <td>0.0</td>\n",
              "      <td>0.00</td>\n",
              "    </tr>\n",
              "    <tr>\n",
              "      <th>B07Z7QX6ST</th>\n",
              "      <th>0.00</th>\n",
              "      <th>486.525</th>\n",
              "      <td>0.0</td>\n",
              "      <td>0.00</td>\n",
              "    </tr>\n",
              "    <tr>\n",
              "      <th>B07ZBCTB9N</th>\n",
              "      <th>0.00</th>\n",
              "      <th>1135.000</th>\n",
              "      <td>0.0</td>\n",
              "      <td>0.00</td>\n",
              "    </tr>\n",
              "    <tr>\n",
              "      <th>B08332221J</th>\n",
              "      <th>-74.95</th>\n",
              "      <th>1424.050</th>\n",
              "      <td>1.0</td>\n",
              "      <td>1424.05</td>\n",
              "    </tr>\n",
              "    <tr>\n",
              "      <th>B0849NLNTQ</th>\n",
              "      <th>0.00</th>\n",
              "      <th>1599.000</th>\n",
              "      <td>2.0</td>\n",
              "      <td>3198.00</td>\n",
              "    </tr>\n",
              "    <tr>\n",
              "      <th>B084JJWJ31</th>\n",
              "      <th>0.00</th>\n",
              "      <th>599.000</th>\n",
              "      <td>0.0</td>\n",
              "      <td>0.00</td>\n",
              "    </tr>\n",
              "    <tr>\n",
              "      <th>B0858X26QM</th>\n",
              "      <th>0.00</th>\n",
              "      <th>599.000</th>\n",
              "      <td>0.0</td>\n",
              "      <td>0.00</td>\n",
              "    </tr>\n",
              "    <tr>\n",
              "      <th>B0859193NJ</th>\n",
              "      <th>0.00</th>\n",
              "      <th>599.000</th>\n",
              "      <td>0.0</td>\n",
              "      <td>0.00</td>\n",
              "    </tr>\n",
              "    <tr>\n",
              "      <th>B0859B5J8T</th>\n",
              "      <th>0.00</th>\n",
              "      <th>499.000</th>\n",
              "      <td>1.0</td>\n",
              "      <td>499.00</td>\n",
              "    </tr>\n",
              "    <tr>\n",
              "      <th>B08976V1BZ</th>\n",
              "      <th>0.00</th>\n",
              "      <th>1599.000</th>\n",
              "      <td>0.0</td>\n",
              "      <td>0.00</td>\n",
              "    </tr>\n",
              "    <tr>\n",
              "      <th>B0897LPBHR</th>\n",
              "      <th>0.00</th>\n",
              "      <th>1896.375</th>\n",
              "      <td>0.0</td>\n",
              "      <td>0.00</td>\n",
              "    </tr>\n",
              "  </tbody>\n",
              "</table>\n",
              "</div>"
            ],
            "text/plain": [
              "                                                    Quantity  Invoice Amount\n",
              "date       Asin       Item Promo Discount price                             \n",
              "2021-01-31 B07KYFHTGF  0.00               1995.000       0.0            0.00\n",
              "           B07MK32L49  0.00               149.000        0.0            0.00\n",
              "           B07S8NC532  0.00               2099.000       0.0            0.00\n",
              "           B07TJ1HDTM  0.00               1649.000       0.0            0.00\n",
              "           B07TM3LRVB -56.75              1078.250       6.0         6469.50\n",
              "                       0.00               1135.000      12.0        13620.00\n",
              "           B07W1YYQ9G  0.00               399.000        0.0            0.00\n",
              "           B07YC69QKT  0.00               1649.000       0.0            0.00\n",
              "           B07Z7QX6ST  0.00               486.525        0.0            0.00\n",
              "           B07ZBCTB9N  0.00               1135.000       0.0            0.00\n",
              "           B08332221J -74.95              1424.050       1.0         1424.05\n",
              "           B0849NLNTQ  0.00               1599.000       2.0         3198.00\n",
              "           B084JJWJ31  0.00               599.000        0.0            0.00\n",
              "           B0858X26QM  0.00               599.000        0.0            0.00\n",
              "           B0859193NJ  0.00               599.000        0.0            0.00\n",
              "           B0859B5J8T  0.00               499.000        1.0          499.00\n",
              "           B08976V1BZ  0.00               1599.000       0.0            0.00\n",
              "           B0897LPBHR  0.00               1896.375       0.0            0.00"
            ]
          },
          "metadata": {
            "tags": []
          },
          "execution_count": 143
        }
      ]
    },
    {
      "cell_type": "code",
      "metadata": {
        "id": "yBbnX0o7rxQh"
      },
      "source": [
        ""
      ],
      "execution_count": null,
      "outputs": []
    },
    {
      "cell_type": "markdown",
      "metadata": {
        "id": "3iT5L5KCzyrM"
      },
      "source": [
        "### Working with all the dataframes"
      ]
    },
    {
      "cell_type": "code",
      "metadata": {
        "id": "HvKBg2HZrxOA"
      },
      "source": [
        "# concat all df\n",
        "def process_data(df_dicts):\n",
        "\n",
        "  df_main = pd.DataFrame()\n",
        "\n",
        "\n",
        "  for i in range(len(df_dicts)):\n",
        "  # we need to convert the Order date column into date_time\n",
        "  # if df_dicts[i]['Order Date'].dtype != 'datetime64[ns]' :\n",
        "    df_copy = df_dicts[i].copy()\n",
        "\n",
        "    df_copy['Order Date'] = pd.to_datetime(df_dicts[i]['Order Date'])\n",
        "\n",
        "    # adding new columns\n",
        "    df_copy['date'] = df_copy['Order Date'].dt.date #\n",
        "    df_copy['hour'] = df_copy['Order Date'].dt.hour\n",
        "\n",
        "    df_dicts[i] = df_copy.drop(['Order Date'],axis=1) \n",
        "\n",
        "    # Creating dataframe for all unique asins in one month\n",
        "    asin_list = df_dicts[i].Asin.unique()\n",
        "\n",
        "    # Removing refund and return\n",
        "    cond = df_dicts[i]['Invoice Amount'] > 0\n",
        "\n",
        "    df_copy_2  = df_dicts[i].where(cond)\n",
        "    df_copy_2.dropna(how='all',inplace = True) # Removing all transactions that are either refund or return\n",
        "\n",
        "    max_date = max(df_copy_2['date']) \n",
        "    min_date = (min(df_copy_2['date']))\n",
        "    date_list  = pd.date_range(min_date,max_date)\n",
        "\n",
        "\n",
        "    # Creating Asin Dataframe\n",
        "    df_asin = pd.DataFrame(columns = ['date', 'Asin'])\n",
        "    index = 0\n",
        "    while True:\n",
        "\n",
        "        for date in (date_list) :\n",
        "          for asin in (asin_list):\n",
        "            df_asin.loc[index] = [date,asin]\n",
        "            ndex = index + 1\n",
        "\n",
        "        break    \n",
        "    df_copy_2['date'] = pd.to_datetime(df_copy_2['date'])  \n",
        "\n",
        "    df_dicts[i] = df_copy_2\n",
        "\n",
        "\n",
        "    # Merging the dataframes\n",
        "    df_merge = df_copy_2.merge(df_asin, how='outer', on=['date','Asin'])\n",
        "    \n",
        "    # Creating new columns\n",
        "    df_merge['price'] = df_merge['Invoice Amount']/df_merge['Quantity']\n",
        "    df_merge['Quantity'] = df_merge['Quantity'].fillna(0)\n",
        "    df_merge['Invoice Amount'] = df_merge['Invoice Amount'].fillna(0)\n",
        "    df_merge['Item Promo Discount'] = df_merge['Item Promo Discount'].fillna(0)\n",
        "\n",
        "    # Filling missing values in df_price\n",
        "    df_price = df_merge.groupby('Asin')['price'].agg(lambda x: np.mean(pd.Series.mode(x))).reset_index()\n",
        "\n",
        "    df = df_merge.set_index('Asin')\n",
        "    df_price = df_price.set_index('Asin')\n",
        "\n",
        "    df.update(df_price,overwrite = False, join = 'left')\n",
        "\n",
        "    df = df.groupby(['date','Asin','Item Promo Discount','price']).sum()\n",
        "    df.reset_index(inplace=True)\n",
        "\n",
        "    df_main = pd.concat([df_main , df])\n",
        "\n",
        "  \n",
        "  return df_main    \n"
      ],
      "execution_count": null,
      "outputs": []
    },
    {
      "cell_type": "code",
      "metadata": {
        "id": "k8LCHYBgrcEC"
      },
      "source": [
        "df_main = process_data(df_dicts)\n"
      ],
      "execution_count": null,
      "outputs": []
    },
    {
      "cell_type": "code",
      "metadata": {
        "id": "zF39UaZH9U4C"
      },
      "source": [
        "# save_pickle('/content/gdrive/MyDrive/my_project_01/df_main.pkl',df_main)"
      ],
      "execution_count": null,
      "outputs": []
    },
    {
      "cell_type": "code",
      "metadata": {
        "colab": {
          "base_uri": "https://localhost:8080/"
        },
        "id": "tK3f0xK8-WPG",
        "outputId": "25e4f98e-abc0-4c11-e353-9ef7be23bbc2"
      },
      "source": [
        "df_main.shape"
      ],
      "execution_count": null,
      "outputs": [
        {
          "output_type": "execute_result",
          "data": {
            "text/plain": [
              "(4726, 7)"
            ]
          },
          "metadata": {
            "tags": []
          },
          "execution_count": 19
        }
      ]
    },
    {
      "cell_type": "markdown",
      "metadata": {
        "id": "HsBi2g76_uLY"
      },
      "source": [
        "### Setting up train and validation data"
      ]
    },
    {
      "cell_type": "code",
      "metadata": {
        "id": "10DnVGLwCRXa"
      },
      "source": [
        "df_main = add_datepart(df_main , 'date')"
      ],
      "execution_count": null,
      "outputs": []
    },
    {
      "cell_type": "code",
      "metadata": {
        "id": "R6FiJXO3Cm5Y"
      },
      "source": [
        "# save_pickle('/content/gdrive/MyDrive/my_project_01/df_main.pkl',df_main)"
      ],
      "execution_count": null,
      "outputs": []
    },
    {
      "cell_type": "code",
      "metadata": {
        "colab": {
          "base_uri": "https://localhost:8080/"
        },
        "id": "KHJewPnvCfCv",
        "outputId": "0267b84d-47b6-40bc-a898-f2e7a36d51d1"
      },
      "source": [
        "df_main.columns"
      ],
      "execution_count": null,
      "outputs": [
        {
          "output_type": "execute_result",
          "data": {
            "text/plain": [
              "Index(['Asin', 'Item Promo Discount', 'price', 'Quantity', 'Invoice Amount',\n",
              "       'hour', 'Year', 'Month', 'Week', 'Day', 'Dayofweek', 'Dayofyear',\n",
              "       'Is_month_end', 'Is_month_start', 'Is_quarter_end', 'Is_quarter_start',\n",
              "       'Is_year_end', 'Is_year_start', 'Elapsed'],\n",
              "      dtype='object')"
            ]
          },
          "metadata": {
            "tags": []
          },
          "execution_count": 29
        }
      ]
    },
    {
      "cell_type": "code",
      "metadata": {
        "id": "CZYXI1nprxGg"
      },
      "source": [
        "procs = [Categorify, FillMissing]"
      ],
      "execution_count": null,
      "outputs": []
    },
    {
      "cell_type": "code",
      "metadata": {
        "id": "IObgmjvjB0oo"
      },
      "source": [
        "dep_var = 'Quantity'"
      ],
      "execution_count": null,
      "outputs": []
    },
    {
      "cell_type": "code",
      "metadata": {
        "id": "qS4xPlg3rxEF"
      },
      "source": [
        "cont, cat = cont_cat_split( df_main,1,dep_var= dep_var)"
      ],
      "execution_count": null,
      "outputs": []
    },
    {
      "cell_type": "code",
      "metadata": {
        "id": "rWE4_N7OBgLV"
      },
      "source": [
        "# SPLITS \n",
        "condition = (df_main.Year < 2020) | (df_main.Month < 6)\n",
        "train_idx = np.where(condition)[0]\n",
        "valid_idx = np.where(~condition)[0]"
      ],
      "execution_count": null,
      "outputs": []
    },
    {
      "cell_type": "code",
      "metadata": {
        "colab": {
          "base_uri": "https://localhost:8080/"
        },
        "id": "naA-yq3xDbdK",
        "outputId": "9077e04c-1708-4133-b2ef-25299903b763"
      },
      "source": [
        "len(train_idx), len(valid_idx)"
      ],
      "execution_count": null,
      "outputs": [
        {
          "output_type": "execute_result",
          "data": {
            "text/plain": [
              "(2531, 2195)"
            ]
          },
          "metadata": {
            "tags": []
          },
          "execution_count": 72
        }
      ]
    },
    {
      "cell_type": "code",
      "metadata": {
        "id": "TKSM7u9yGf1g"
      },
      "source": [
        "splits = (list(train_idx),list(valid_idx))"
      ],
      "execution_count": null,
      "outputs": []
    },
    {
      "cell_type": "code",
      "metadata": {
        "id": "Z-ZPT60zrxBy"
      },
      "source": [
        "to = TabularPandas(df_main, procs= procs,cat_names= cat, cont_names=cont, splits= splits,y_names=dep_var)"
      ],
      "execution_count": null,
      "outputs": []
    },
    {
      "cell_type": "code",
      "metadata": {
        "colab": {
          "base_uri": "https://localhost:8080/",
          "height": 198
        },
        "id": "MkXZuWIQHXzR",
        "outputId": "b3496c8e-182b-42fa-85b4-a9a15270968b"
      },
      "source": [
        "to.show(3)"
      ],
      "execution_count": null,
      "outputs": [
        {
          "output_type": "display_data",
          "data": {
            "text/html": [
              "<table border=\"1\" class=\"dataframe\">\n",
              "  <thead>\n",
              "    <tr style=\"text-align: right;\">\n",
              "      <th></th>\n",
              "      <th>Asin</th>\n",
              "      <th>Is_month_end</th>\n",
              "      <th>Is_month_start</th>\n",
              "      <th>Is_quarter_end</th>\n",
              "      <th>Is_quarter_start</th>\n",
              "      <th>Is_year_end</th>\n",
              "      <th>Is_year_start</th>\n",
              "      <th>Item Promo Discount</th>\n",
              "      <th>price</th>\n",
              "      <th>Invoice Amount</th>\n",
              "      <th>hour</th>\n",
              "      <th>Year</th>\n",
              "      <th>Month</th>\n",
              "      <th>Week</th>\n",
              "      <th>Day</th>\n",
              "      <th>Dayofweek</th>\n",
              "      <th>Dayofyear</th>\n",
              "      <th>Elapsed</th>\n",
              "      <th>Quantity</th>\n",
              "    </tr>\n",
              "  </thead>\n",
              "  <tbody>\n",
              "    <tr>\n",
              "      <th>0</th>\n",
              "      <td>B07KYFHTGF</td>\n",
              "      <td>False</td>\n",
              "      <td>False</td>\n",
              "      <td>False</td>\n",
              "      <td>False</td>\n",
              "      <td>False</td>\n",
              "      <td>False</td>\n",
              "      <td>0.000000</td>\n",
              "      <td>1995.000000</td>\n",
              "      <td>1995.000000</td>\n",
              "      <td>12.0</td>\n",
              "      <td>2021</td>\n",
              "      <td>1</td>\n",
              "      <td>1</td>\n",
              "      <td>4</td>\n",
              "      <td>0</td>\n",
              "      <td>4</td>\n",
              "      <td>1.609718e+09</td>\n",
              "      <td>1.0</td>\n",
              "    </tr>\n",
              "    <tr>\n",
              "      <th>1</th>\n",
              "      <td>B07TM3LRVB</td>\n",
              "      <td>False</td>\n",
              "      <td>False</td>\n",
              "      <td>False</td>\n",
              "      <td>False</td>\n",
              "      <td>False</td>\n",
              "      <td>False</td>\n",
              "      <td>-56.750000</td>\n",
              "      <td>1078.250000</td>\n",
              "      <td>1078.250000</td>\n",
              "      <td>20.0</td>\n",
              "      <td>2021</td>\n",
              "      <td>1</td>\n",
              "      <td>1</td>\n",
              "      <td>8</td>\n",
              "      <td>4</td>\n",
              "      <td>8</td>\n",
              "      <td>1.610064e+09</td>\n",
              "      <td>1.0</td>\n",
              "    </tr>\n",
              "    <tr>\n",
              "      <th>2</th>\n",
              "      <td>B08976V1BZ</td>\n",
              "      <td>False</td>\n",
              "      <td>False</td>\n",
              "      <td>False</td>\n",
              "      <td>False</td>\n",
              "      <td>False</td>\n",
              "      <td>False</td>\n",
              "      <td>-79.949997</td>\n",
              "      <td>1519.050049</td>\n",
              "      <td>1519.050049</td>\n",
              "      <td>22.0</td>\n",
              "      <td>2021</td>\n",
              "      <td>1</td>\n",
              "      <td>1</td>\n",
              "      <td>9</td>\n",
              "      <td>5</td>\n",
              "      <td>9</td>\n",
              "      <td>1.610150e+09</td>\n",
              "      <td>1.0</td>\n",
              "    </tr>\n",
              "  </tbody>\n",
              "</table>"
            ],
            "text/plain": [
              "<IPython.core.display.HTML object>"
            ]
          },
          "metadata": {
            "tags": []
          }
        }
      ]
    },
    {
      "cell_type": "code",
      "metadata": {
        "id": "HW9ZlBHDrw9U"
      },
      "source": [
        "x_train,y_train = to.train.xs, to.train.y\n",
        "x_valid, y_valid = to.valid.xs, to.valid.y"
      ],
      "execution_count": null,
      "outputs": []
    },
    {
      "cell_type": "code",
      "metadata": {
        "id": "M4qXAvIRhmuW"
      },
      "source": [
        "def rf(xs, y, n_estimators=40, max_samples=2000,\n",
        "       max_features=0.5, min_samples_leaf=5, **kwargs):\n",
        "    return RandomForestRegressor(n_jobs=-1, n_estimators=n_estimators,\n",
        "        max_samples=max_samples, max_features=max_features,\n",
        "        min_samples_leaf=min_samples_leaf, oob_score=True).fit(xs, y)"
      ],
      "execution_count": null,
      "outputs": []
    },
    {
      "cell_type": "code",
      "metadata": {
        "id": "ZYGDUVHAIe-3"
      },
      "source": [
        "rf =rf(x_train,y_train)"
      ],
      "execution_count": null,
      "outputs": []
    },
    {
      "cell_type": "code",
      "metadata": {
        "id": "xoKG90VaIj9o"
      },
      "source": [
        "\n",
        "def r_mse(pred,y): return round(math.sqrt(((pred-y)**2).mean()), 6)\n",
        "def m_rmse(m, xs, y): return r_mse(m.predict(xs), y)"
      ],
      "execution_count": null,
      "outputs": []
    },
    {
      "cell_type": "code",
      "metadata": {
        "colab": {
          "base_uri": "https://localhost:8080/"
        },
        "id": "z2umQbUjIqhO",
        "outputId": "80d732b4-6864-4cc9-bcfa-652356c750fc"
      },
      "source": [
        "m_rmse(rf,x_train,y_train), m_rmse(rf,x_valid,y_valid)"
      ],
      "execution_count": null,
      "outputs": [
        {
          "output_type": "execute_result",
          "data": {
            "text/plain": [
              "(0.570982, 0.609243)"
            ]
          },
          "metadata": {
            "tags": []
          },
          "execution_count": 79
        }
      ]
    },
    {
      "cell_type": "code",
      "metadata": {
        "colab": {
          "base_uri": "https://localhost:8080/"
        },
        "id": "M_W-aQc1I8N0",
        "outputId": "5e14cc21-0898-4461-ea9e-9086018d0c26"
      },
      "source": [
        "x_train.shape, y_train.shape, x_valid.shape, y_valid.shape"
      ],
      "execution_count": null,
      "outputs": [
        {
          "output_type": "execute_result",
          "data": {
            "text/plain": [
              "((3708, 18), (3708,), (1018, 18), (1018, 18))"
            ]
          },
          "metadata": {
            "tags": []
          },
          "execution_count": 67
        }
      ]
    },
    {
      "cell_type": "code",
      "metadata": {
        "colab": {
          "base_uri": "https://localhost:8080/",
          "height": 236
        },
        "id": "sdnIzVNcJemc",
        "outputId": "2cdc5e98-445c-47a7-98a7-36b27e71e9ee"
      },
      "source": [
        "y_valid.head()"
      ],
      "execution_count": null,
      "outputs": [
        {
          "output_type": "execute_result",
          "data": {
            "text/html": [
              "<div>\n",
              "<style scoped>\n",
              "    .dataframe tbody tr th:only-of-type {\n",
              "        vertical-align: middle;\n",
              "    }\n",
              "\n",
              "    .dataframe tbody tr th {\n",
              "        vertical-align: top;\n",
              "    }\n",
              "\n",
              "    .dataframe thead th {\n",
              "        text-align: right;\n",
              "    }\n",
              "</style>\n",
              "<table border=\"1\" class=\"dataframe\">\n",
              "  <thead>\n",
              "    <tr style=\"text-align: right;\">\n",
              "      <th></th>\n",
              "      <th>Asin</th>\n",
              "      <th>Is_month_end</th>\n",
              "      <th>Is_month_start</th>\n",
              "      <th>Is_quarter_end</th>\n",
              "      <th>...</th>\n",
              "      <th>Day</th>\n",
              "      <th>Dayofweek</th>\n",
              "      <th>Dayofyear</th>\n",
              "      <th>Elapsed</th>\n",
              "    </tr>\n",
              "  </thead>\n",
              "  <tbody>\n",
              "    <tr>\n",
              "      <th>0</th>\n",
              "      <td>8</td>\n",
              "      <td>2</td>\n",
              "      <td>1</td>\n",
              "      <td>2</td>\n",
              "      <td>...</td>\n",
              "      <td>31</td>\n",
              "      <td>3</td>\n",
              "      <td>366</td>\n",
              "      <td>1.609373e+09</td>\n",
              "    </tr>\n",
              "    <tr>\n",
              "      <th>194</th>\n",
              "      <td>2</td>\n",
              "      <td>1</td>\n",
              "      <td>1</td>\n",
              "      <td>1</td>\n",
              "      <td>...</td>\n",
              "      <td>2</td>\n",
              "      <td>3</td>\n",
              "      <td>245</td>\n",
              "      <td>1.630541e+09</td>\n",
              "    </tr>\n",
              "    <tr>\n",
              "      <th>195</th>\n",
              "      <td>2</td>\n",
              "      <td>1</td>\n",
              "      <td>1</td>\n",
              "      <td>1</td>\n",
              "      <td>...</td>\n",
              "      <td>2</td>\n",
              "      <td>3</td>\n",
              "      <td>245</td>\n",
              "      <td>1.630541e+09</td>\n",
              "    </tr>\n",
              "    <tr>\n",
              "      <th>196</th>\n",
              "      <td>2</td>\n",
              "      <td>1</td>\n",
              "      <td>1</td>\n",
              "      <td>1</td>\n",
              "      <td>...</td>\n",
              "      <td>2</td>\n",
              "      <td>3</td>\n",
              "      <td>245</td>\n",
              "      <td>1.630541e+09</td>\n",
              "    </tr>\n",
              "    <tr>\n",
              "      <th>197</th>\n",
              "      <td>8</td>\n",
              "      <td>1</td>\n",
              "      <td>1</td>\n",
              "      <td>1</td>\n",
              "      <td>...</td>\n",
              "      <td>2</td>\n",
              "      <td>3</td>\n",
              "      <td>245</td>\n",
              "      <td>1.630541e+09</td>\n",
              "    </tr>\n",
              "  </tbody>\n",
              "</table>\n",
              "<p>5 rows × 18 columns</p>\n",
              "</div>"
            ],
            "text/plain": [
              "     Asin  Is_month_end  Is_month_start  Is_quarter_end  ...  Day  Dayofweek  \\\n",
              "0       8             2               1               2  ...   31          3   \n",
              "194     2             1               1               1  ...    2          3   \n",
              "195     2             1               1               1  ...    2          3   \n",
              "196     2             1               1               1  ...    2          3   \n",
              "197     8             1               1               1  ...    2          3   \n",
              "\n",
              "     Dayofyear       Elapsed  \n",
              "0          366  1.609373e+09  \n",
              "194        245  1.630541e+09  \n",
              "195        245  1.630541e+09  \n",
              "196        245  1.630541e+09  \n",
              "197        245  1.630541e+09  \n",
              "\n",
              "[5 rows x 18 columns]"
            ]
          },
          "metadata": {
            "tags": []
          },
          "execution_count": 68
        }
      ]
    },
    {
      "cell_type": "markdown",
      "metadata": {
        "id": "DO4Hs0eFKHw7"
      },
      "source": [
        "We need to think about someother metric to use other than this, which is more accurate to the problem at hand. "
      ]
    },
    {
      "cell_type": "code",
      "metadata": {
        "colab": {
          "base_uri": "https://localhost:8080/"
        },
        "id": "PIErfMtGJq5d",
        "outputId": "d8e0383b-1cf1-426e-f9d4-2bf21e21ede6"
      },
      "source": [
        "a = rf.predict(x_valid)[0:50]\n",
        "a"
      ],
      "execution_count": null,
      "outputs": [
        {
          "output_type": "execute_result",
          "data": {
            "text/plain": [
              "array([0.96215278, 1.009375  , 1.009375  , 1.        , 2.97310974, 1.00416667, 4.94278028, 0.994375  , 0.994375  , 2.83370942, 1.04414773, 0.994375  , 0.994375  , 2.0851076 , 1.        , 3.49416396,\n",
              "       4.24072851, 6.0205797 , 1.004375  , 0.994375  , 1.9875    , 3.87659407, 1.01598214, 2.44454761, 3.50460312, 0.994375  , 1.014375  , 1.004375  , 1.        , 6.37903364, 9.01998662, 0.994375  ,\n",
              "       2.0125    , 1.01241071, 1.02758929, 1.81420635, 2.00833333, 1.009375  , 1.009375  , 1.00416667, 1.00416667, 2.94821886, 1.016875  , 2.021875  , 1.01508929, 1.01241071, 1.93393849, 1.004375  ,\n",
              "       1.2335092 , 1.009375  ])"
            ]
          },
          "metadata": {
            "tags": []
          },
          "execution_count": 91
        }
      ]
    },
    {
      "cell_type": "code",
      "metadata": {
        "colab": {
          "base_uri": "https://localhost:8080/"
        },
        "id": "5Vt_FquGKTfc",
        "outputId": "6517a44f-2061-49dc-874e-8fded956e80c"
      },
      "source": [
        "b = np.round(rf.predict(x_valid)[0:50])\n",
        "b"
      ],
      "execution_count": null,
      "outputs": [
        {
          "output_type": "execute_result",
          "data": {
            "text/plain": [
              "array([1., 1., 1., 1., 3., 1., 5., 1., 1., 3., 1., 1., 1., 2., 1., 3., 4., 6., 1., 1., 2., 4., 1., 2., 4., 1., 1., 1., 1., 6., 9., 1., 2., 1., 1., 2., 2., 1., 1., 1., 1., 3., 1., 2., 1., 1., 2., 1.,\n",
              "       1., 1.])"
            ]
          },
          "metadata": {
            "tags": []
          },
          "execution_count": 92
        }
      ]
    },
    {
      "cell_type": "code",
      "metadata": {
        "colab": {
          "base_uri": "https://localhost:8080/"
        },
        "id": "fHywMdeUKg3n",
        "outputId": "bd851fac-a9ac-4fe8-84df-b4a12785874e"
      },
      "source": [
        "c = y_valid[0:50].values\n",
        "c"
      ],
      "execution_count": null,
      "outputs": [
        {
          "output_type": "execute_result",
          "data": {
            "text/plain": [
              "array([ 1.,  1.,  1.,  1.,  3.,  1.,  5.,  1.,  1.,  3.,  1.,  1.,  1.,  2.,  1.,  3.,  4.,  6.,  1.,  1.,  2.,  4.,  1.,  2.,  4.,  1.,  1.,  1.,  1.,  6., 10.,  1.,  2.,  1.,  1.,  2.,  2.,  1.,\n",
              "        1.,  1.,  1.,  3.,  1.,  2.,  1.,  1.,  2.,  1.,  1.,  1.], dtype=float32)"
            ]
          },
          "metadata": {
            "tags": []
          },
          "execution_count": 93
        }
      ]
    },
    {
      "cell_type": "code",
      "metadata": {
        "id": "8ruqzvGoK6dI"
      },
      "source": [
        "\n",
        "def r_mse(pred,y): return round(math.sqrt(((pred-y)**2).mean()), 6)\n",
        "def m_rmse(m, xs, y): return r_mse(np.round(m.predict(xs)), y)"
      ],
      "execution_count": null,
      "outputs": []
    },
    {
      "cell_type": "code",
      "metadata": {
        "colab": {
          "base_uri": "https://localhost:8080/"
        },
        "id": "UHc2mmnPKnzm",
        "outputId": "7a2b2002-09f0-4616-b9a9-9de1c488799a"
      },
      "source": [
        "m_rmse(rf,x_train,y_train), m_rmse(rf,x_valid,y_valid)"
      ],
      "execution_count": null,
      "outputs": [
        {
          "output_type": "execute_result",
          "data": {
            "text/plain": [
              "(0.582912, 0.637835)"
            ]
          },
          "metadata": {
            "tags": []
          },
          "execution_count": 88
        }
      ]
    },
    {
      "cell_type": "markdown",
      "metadata": {
        "id": "xi3m2tibPmzu"
      },
      "source": [
        "What actually I can think of is we can create a custom accuracy function."
      ]
    },
    {
      "cell_type": "markdown",
      "metadata": {
        "id": "HdBGM311Svn-"
      },
      "source": [
        "##### Using Mean Absolute Percentage Error"
      ]
    },
    {
      "cell_type": "code",
      "metadata": {
        "id": "f-zJ3o8ZLG87"
      },
      "source": [
        "def MAPE(Y_actual,Y_Predicted):\n",
        "    mape = np.mean(np.abs((Y_actual - Y_Predicted)/Y_actual))*100\n",
        "    return mape"
      ],
      "execution_count": null,
      "outputs": []
    },
    {
      "cell_type": "code",
      "metadata": {
        "colab": {
          "base_uri": "https://localhost:8080/"
        },
        "id": "8uWOiXJ9S0Hl",
        "outputId": "93bce305-7e7b-4336-f57a-1f5c0dd82e4d"
      },
      "source": [
        "MAPE(y_valid,np.round(rf.predict(x_valid))) # We cannot use MAPE because we have zero. y_actuals have 0 variables."
      ],
      "execution_count": null,
      "outputs": [
        {
          "output_type": "execute_result",
          "data": {
            "text/plain": [
              "inf"
            ]
          },
          "metadata": {
            "tags": []
          },
          "execution_count": 96
        }
      ]
    },
    {
      "cell_type": "code",
      "metadata": {
        "colab": {
          "base_uri": "https://localhost:8080/"
        },
        "id": "l1vvba1wS9Us",
        "outputId": "2a6560d5-d2a0-43d4-805d-6eed358c971f"
      },
      "source": [
        "MAPE(c,a)"
      ],
      "execution_count": null,
      "outputs": [
        {
          "output_type": "execute_result",
          "data": {
            "text/plain": [
              "3.1955525814735397"
            ]
          },
          "metadata": {
            "tags": []
          },
          "execution_count": 94
        }
      ]
    },
    {
      "cell_type": "code",
      "metadata": {
        "colab": {
          "base_uri": "https://localhost:8080/"
        },
        "id": "U9VH2mQTTV3T",
        "outputId": "b9657b06-78cd-4006-ef31-57d972081b89"
      },
      "source": [
        "MAPE(c,b)"
      ],
      "execution_count": null,
      "outputs": [
        {
          "output_type": "execute_result",
          "data": {
            "text/plain": [
              "0.2"
            ]
          },
          "metadata": {
            "tags": []
          },
          "execution_count": 95
        }
      ]
    },
    {
      "cell_type": "code",
      "metadata": {
        "id": "rKnhgQ8xX3ZP"
      },
      "source": [
        "from sklearn.metrics import mean_absolute_error as mae"
      ],
      "execution_count": null,
      "outputs": []
    },
    {
      "cell_type": "code",
      "metadata": {
        "colab": {
          "base_uri": "https://localhost:8080/"
        },
        "id": "m6mglwjaTbY2",
        "outputId": "77d252f2-248e-4886-bdc8-5e906fa94919"
      },
      "source": [
        "mae(y_valid,rf.predict(x_valid))"
      ],
      "execution_count": null,
      "outputs": [
        {
          "output_type": "execute_result",
          "data": {
            "text/plain": [
              "0.2383354743952306"
            ]
          },
          "metadata": {
            "tags": []
          },
          "execution_count": 98
        }
      ]
    },
    {
      "cell_type": "code",
      "metadata": {
        "colab": {
          "base_uri": "https://localhost:8080/"
        },
        "id": "w8_zfoOoYLaj",
        "outputId": "c1efcc30-c90e-4ebb-98b2-02a3dc21f34f"
      },
      "source": [
        "mae(y_valid,np.round(rf.predict(x_valid)))"
      ],
      "execution_count": null,
      "outputs": [
        {
          "output_type": "execute_result",
          "data": {
            "text/plain": [
              "0.20182232346241458"
            ]
          },
          "metadata": {
            "tags": []
          },
          "execution_count": 99
        }
      ]
    },
    {
      "cell_type": "code",
      "metadata": {
        "colab": {
          "base_uri": "https://localhost:8080/"
        },
        "id": "aHU7vUi-YR6J",
        "outputId": "95c2c382-5bd1-4c4d-872f-5a765659f172"
      },
      "source": [
        "mae(y_train,np.round(rf.predict(x_train)))"
      ],
      "execution_count": null,
      "outputs": [
        {
          "output_type": "execute_result",
          "data": {
            "text/plain": [
              "0.07822994863690241"
            ]
          },
          "metadata": {
            "tags": []
          },
          "execution_count": 100
        }
      ]
    },
    {
      "cell_type": "code",
      "metadata": {
        "colab": {
          "base_uri": "https://localhost:8080/"
        },
        "id": "03HRVhwlYZMK",
        "outputId": "6e3ebdad-1820-4efb-affe-29b6878a0aa8"
      },
      "source": [
        "mae(y_train,rf.predict(x_train))"
      ],
      "execution_count": null,
      "outputs": [
        {
          "output_type": "execute_result",
          "data": {
            "text/plain": [
              "0.12547872534779161"
            ]
          },
          "metadata": {
            "tags": []
          },
          "execution_count": 101
        }
      ]
    },
    {
      "cell_type": "markdown",
      "metadata": {
        "id": "v_g4qACfYfMs"
      },
      "source": [
        "Creating our own accuracy metric"
      ]
    },
    {
      "cell_type": "code",
      "metadata": {
        "colab": {
          "base_uri": "https://localhost:8080/"
        },
        "id": "6F93wUxyZbTK",
        "outputId": "6852f8fc-6295-4e5c-8015-c8bb6e16cbfe"
      },
      "source": [
        "int(1.6)"
      ],
      "execution_count": null,
      "outputs": [
        {
          "output_type": "execute_result",
          "data": {
            "text/plain": [
              "1"
            ]
          },
          "metadata": {
            "tags": []
          },
          "execution_count": 102
        }
      ]
    },
    {
      "cell_type": "code",
      "metadata": {
        "id": "VnDeJo8sYdro"
      },
      "source": [
        "def pred(y_pred,thres= 0.5):\n",
        "  new_pred = np.where((y_pred-int(y_pred)) < thres,int(y_pred), int(y_pred)+1)\n",
        "  return new_pred"
      ],
      "execution_count": null,
      "outputs": []
    },
    {
      "cell_type": "code",
      "metadata": {
        "id": "ZYBpczpSbUkW"
      },
      "source": [
        "new_pred = np.vectorize(pred)"
      ],
      "execution_count": null,
      "outputs": []
    },
    {
      "cell_type": "code",
      "metadata": {
        "colab": {
          "base_uri": "https://localhost:8080/",
          "height": 313
        },
        "id": "q4t_fXWUbIHb",
        "outputId": "9d97a387-e6a5-458d-8d55-616d5369e1be"
      },
      "source": [
        "mae(y_train,new_pred(rf.predict(x_train)),0.8)"
      ],
      "execution_count": null,
      "outputs": [
        {
          "output_type": "error",
          "ename": "TypeError",
          "evalue": "ignored",
          "traceback": [
            "\u001b[0;31m---------------------------------------------------------------------------\u001b[0m",
            "\u001b[0;31mTypeError\u001b[0m                                 Traceback (most recent call last)",
            "\u001b[0;32m<ipython-input-126-72cb6c5f02db>\u001b[0m in \u001b[0;36m<module>\u001b[0;34m()\u001b[0m\n\u001b[0;32m----> 1\u001b[0;31m \u001b[0mmae\u001b[0m\u001b[0;34m(\u001b[0m\u001b[0my_train\u001b[0m\u001b[0;34m,\u001b[0m\u001b[0mnew_pred\u001b[0m\u001b[0;34m(\u001b[0m\u001b[0mrf\u001b[0m\u001b[0;34m.\u001b[0m\u001b[0mpredict\u001b[0m\u001b[0;34m(\u001b[0m\u001b[0mx_train\u001b[0m\u001b[0;34m)\u001b[0m\u001b[0;34m)\u001b[0m\u001b[0;34m,\u001b[0m\u001b[0;36m0.8\u001b[0m\u001b[0;34m)\u001b[0m\u001b[0;34m\u001b[0m\u001b[0;34m\u001b[0m\u001b[0m\n\u001b[0m",
            "\u001b[0;32m/usr/local/lib/python3.7/dist-packages/sklearn/metrics/_regression.py\u001b[0m in \u001b[0;36mmean_absolute_error\u001b[0;34m(y_true, y_pred, sample_weight, multioutput)\u001b[0m\n\u001b[1;32m    177\u001b[0m     y_type, y_true, y_pred, multioutput = _check_reg_targets(\n\u001b[1;32m    178\u001b[0m         y_true, y_pred, multioutput)\n\u001b[0;32m--> 179\u001b[0;31m     \u001b[0mcheck_consistent_length\u001b[0m\u001b[0;34m(\u001b[0m\u001b[0my_true\u001b[0m\u001b[0;34m,\u001b[0m \u001b[0my_pred\u001b[0m\u001b[0;34m,\u001b[0m \u001b[0msample_weight\u001b[0m\u001b[0;34m)\u001b[0m\u001b[0;34m\u001b[0m\u001b[0;34m\u001b[0m\u001b[0m\n\u001b[0m\u001b[1;32m    180\u001b[0m     output_errors = np.average(np.abs(y_pred - y_true),\n\u001b[1;32m    181\u001b[0m                                weights=sample_weight, axis=0)\n",
            "\u001b[0;32m/usr/local/lib/python3.7/dist-packages/sklearn/utils/validation.py\u001b[0m in \u001b[0;36mcheck_consistent_length\u001b[0;34m(*arrays)\u001b[0m\n\u001b[1;32m    206\u001b[0m     \"\"\"\n\u001b[1;32m    207\u001b[0m \u001b[0;34m\u001b[0m\u001b[0m\n\u001b[0;32m--> 208\u001b[0;31m     \u001b[0mlengths\u001b[0m \u001b[0;34m=\u001b[0m \u001b[0;34m[\u001b[0m\u001b[0m_num_samples\u001b[0m\u001b[0;34m(\u001b[0m\u001b[0mX\u001b[0m\u001b[0;34m)\u001b[0m \u001b[0;32mfor\u001b[0m \u001b[0mX\u001b[0m \u001b[0;32min\u001b[0m \u001b[0marrays\u001b[0m \u001b[0;32mif\u001b[0m \u001b[0mX\u001b[0m \u001b[0;32mis\u001b[0m \u001b[0;32mnot\u001b[0m \u001b[0;32mNone\u001b[0m\u001b[0;34m]\u001b[0m\u001b[0;34m\u001b[0m\u001b[0;34m\u001b[0m\u001b[0m\n\u001b[0m\u001b[1;32m    209\u001b[0m     \u001b[0muniques\u001b[0m \u001b[0;34m=\u001b[0m \u001b[0mnp\u001b[0m\u001b[0;34m.\u001b[0m\u001b[0munique\u001b[0m\u001b[0;34m(\u001b[0m\u001b[0mlengths\u001b[0m\u001b[0;34m)\u001b[0m\u001b[0;34m\u001b[0m\u001b[0;34m\u001b[0m\u001b[0m\n\u001b[1;32m    210\u001b[0m     \u001b[0;32mif\u001b[0m \u001b[0mlen\u001b[0m\u001b[0;34m(\u001b[0m\u001b[0muniques\u001b[0m\u001b[0;34m)\u001b[0m \u001b[0;34m>\u001b[0m \u001b[0;36m1\u001b[0m\u001b[0;34m:\u001b[0m\u001b[0;34m\u001b[0m\u001b[0;34m\u001b[0m\u001b[0m\n",
            "\u001b[0;32m/usr/local/lib/python3.7/dist-packages/sklearn/utils/validation.py\u001b[0m in \u001b[0;36m<listcomp>\u001b[0;34m(.0)\u001b[0m\n\u001b[1;32m    206\u001b[0m     \"\"\"\n\u001b[1;32m    207\u001b[0m \u001b[0;34m\u001b[0m\u001b[0m\n\u001b[0;32m--> 208\u001b[0;31m     \u001b[0mlengths\u001b[0m \u001b[0;34m=\u001b[0m \u001b[0;34m[\u001b[0m\u001b[0m_num_samples\u001b[0m\u001b[0;34m(\u001b[0m\u001b[0mX\u001b[0m\u001b[0;34m)\u001b[0m \u001b[0;32mfor\u001b[0m \u001b[0mX\u001b[0m \u001b[0;32min\u001b[0m \u001b[0marrays\u001b[0m \u001b[0;32mif\u001b[0m \u001b[0mX\u001b[0m \u001b[0;32mis\u001b[0m \u001b[0;32mnot\u001b[0m \u001b[0;32mNone\u001b[0m\u001b[0;34m]\u001b[0m\u001b[0;34m\u001b[0m\u001b[0;34m\u001b[0m\u001b[0m\n\u001b[0m\u001b[1;32m    209\u001b[0m     \u001b[0muniques\u001b[0m \u001b[0;34m=\u001b[0m \u001b[0mnp\u001b[0m\u001b[0;34m.\u001b[0m\u001b[0munique\u001b[0m\u001b[0;34m(\u001b[0m\u001b[0mlengths\u001b[0m\u001b[0;34m)\u001b[0m\u001b[0;34m\u001b[0m\u001b[0;34m\u001b[0m\u001b[0m\n\u001b[1;32m    210\u001b[0m     \u001b[0;32mif\u001b[0m \u001b[0mlen\u001b[0m\u001b[0;34m(\u001b[0m\u001b[0muniques\u001b[0m\u001b[0;34m)\u001b[0m \u001b[0;34m>\u001b[0m \u001b[0;36m1\u001b[0m\u001b[0;34m:\u001b[0m\u001b[0;34m\u001b[0m\u001b[0;34m\u001b[0m\u001b[0m\n",
            "\u001b[0;32m/usr/local/lib/python3.7/dist-packages/sklearn/utils/validation.py\u001b[0m in \u001b[0;36m_num_samples\u001b[0;34m(x)\u001b[0m\n\u001b[1;32m    145\u001b[0m             \u001b[0mx\u001b[0m \u001b[0;34m=\u001b[0m \u001b[0mnp\u001b[0m\u001b[0;34m.\u001b[0m\u001b[0masarray\u001b[0m\u001b[0;34m(\u001b[0m\u001b[0mx\u001b[0m\u001b[0;34m)\u001b[0m\u001b[0;34m\u001b[0m\u001b[0;34m\u001b[0m\u001b[0m\n\u001b[1;32m    146\u001b[0m         \u001b[0;32melse\u001b[0m\u001b[0;34m:\u001b[0m\u001b[0;34m\u001b[0m\u001b[0;34m\u001b[0m\u001b[0m\n\u001b[0;32m--> 147\u001b[0;31m             \u001b[0;32mraise\u001b[0m \u001b[0mTypeError\u001b[0m\u001b[0;34m(\u001b[0m\u001b[0mmessage\u001b[0m\u001b[0;34m)\u001b[0m\u001b[0;34m\u001b[0m\u001b[0;34m\u001b[0m\u001b[0m\n\u001b[0m\u001b[1;32m    148\u001b[0m \u001b[0;34m\u001b[0m\u001b[0m\n\u001b[1;32m    149\u001b[0m     \u001b[0;32mif\u001b[0m \u001b[0mhasattr\u001b[0m\u001b[0;34m(\u001b[0m\u001b[0mx\u001b[0m\u001b[0;34m,\u001b[0m \u001b[0;34m'shape'\u001b[0m\u001b[0;34m)\u001b[0m \u001b[0;32mand\u001b[0m \u001b[0mx\u001b[0m\u001b[0;34m.\u001b[0m\u001b[0mshape\u001b[0m \u001b[0;32mis\u001b[0m \u001b[0;32mnot\u001b[0m \u001b[0;32mNone\u001b[0m\u001b[0;34m:\u001b[0m\u001b[0;34m\u001b[0m\u001b[0;34m\u001b[0m\u001b[0m\n",
            "\u001b[0;31mTypeError\u001b[0m: Expected sequence or array-like, got <class 'float'>"
          ]
        }
      ]
    },
    {
      "cell_type": "code",
      "metadata": {
        "colab": {
          "base_uri": "https://localhost:8080/"
        },
        "id": "jJrkJp0HfM2Z",
        "outputId": "79b13908-8820-4365-87c1-68fa74eaa389"
      },
      "source": [
        "mae(y_valid,(new_pred(rf.predict(x_valid),0.42)))\n"
      ],
      "execution_count": null,
      "outputs": [
        {
          "output_type": "execute_result",
          "data": {
            "text/plain": [
              "0.18952164009111616"
            ]
          },
          "metadata": {
            "tags": []
          },
          "execution_count": 148
        }
      ]
    },
    {
      "cell_type": "code",
      "metadata": {
        "colab": {
          "base_uri": "https://localhost:8080/"
        },
        "id": "i0k88JrSflsx",
        "outputId": "d841671c-e877-4ad5-bb81-5689c2878c2e"
      },
      "source": [
        "mae(y_valid,(new_pred(rf.predict(x_valid),0.5)))"
      ],
      "execution_count": null,
      "outputs": [
        {
          "output_type": "execute_result",
          "data": {
            "text/plain": [
              "0.20182232346241458"
            ]
          },
          "metadata": {
            "tags": []
          },
          "execution_count": 149
        }
      ]
    },
    {
      "cell_type": "markdown",
      "metadata": {
        "id": "49pUqfu5g7Hx"
      },
      "source": [
        "What else we can do now, we can look at the.\\\n",
        "\n",
        "we have to create a baseline model"
      ]
    },
    {
      "cell_type": "code",
      "metadata": {
        "colab": {
          "base_uri": "https://localhost:8080/"
        },
        "id": "TVaFYaAMf1Yb",
        "outputId": "8a9171f0-b657-4fe4-fd1a-c955bace3000"
      },
      "source": [
        "y_valid.value_counts()"
      ],
      "execution_count": null,
      "outputs": [
        {
          "output_type": "execute_result",
          "data": {
            "text/plain": [
              "1.0     977\n",
              "2.0     409\n",
              "3.0     229\n",
              "4.0     150\n",
              "5.0      84\n",
              "       ... \n",
              "19.0      4\n",
              "18.0      4\n",
              "20.0      3\n",
              "23.0      2\n",
              "26.0      1\n",
              "Name: Quantity, Length: 23, dtype: int64"
            ]
          },
          "metadata": {
            "tags": []
          },
          "execution_count": 150
        }
      ]
    },
    {
      "cell_type": "code",
      "metadata": {
        "id": "_Zt1KutkhjBy"
      },
      "source": [
        "\n",
        "base_y = [1]*len(y_valid)"
      ],
      "execution_count": null,
      "outputs": []
    },
    {
      "cell_type": "code",
      "metadata": {
        "colab": {
          "base_uri": "https://localhost:8080/"
        },
        "id": "UGNXUph0hy_1",
        "outputId": "7d6ed049-90c5-4fd9-dce8-29da6503d050"
      },
      "source": [
        "mae(y_valid,base_y)"
      ],
      "execution_count": null,
      "outputs": [
        {
          "output_type": "execute_result",
          "data": {
            "text/plain": [
              "2.0929384965831437"
            ]
          },
          "metadata": {
            "tags": []
          },
          "execution_count": 153
        }
      ]
    },
    {
      "cell_type": "code",
      "metadata": {
        "id": "Tyy-HEY9h6wM"
      },
      "source": [
        "preds = np.stack([t.predict(x_valid) for t in rf.estimators_])"
      ],
      "execution_count": null,
      "outputs": []
    },
    {
      "cell_type": "code",
      "metadata": {
        "colab": {
          "base_uri": "https://localhost:8080/"
        },
        "id": "HB9HXt-kjmZh",
        "outputId": "ede2e1ab-518b-4efa-d0f3-d6264b1be96e"
      },
      "source": [
        "mae(new_pred(preds.mean(0),0.42), y_valid)"
      ],
      "execution_count": null,
      "outputs": [
        {
          "output_type": "execute_result",
          "data": {
            "text/plain": [
              "0.18952164009111616"
            ]
          },
          "metadata": {
            "tags": []
          },
          "execution_count": 157
        }
      ]
    },
    {
      "cell_type": "code",
      "metadata": {
        "colab": {
          "base_uri": "https://localhost:8080/",
          "height": 265
        },
        "id": "-1BeDe3ajpw3",
        "outputId": "2c263741-b835-459f-f133-b5afc15eecac"
      },
      "source": [
        "plt.plot([mae(new_pred(preds[:i+1].mean(0),0.42), y_valid) for i in range(40)]);"
      ],
      "execution_count": null,
      "outputs": [
        {
          "output_type": "display_data",
          "data": {
            "image/png": "[encoded data removed]",
            "text/plain": [
              "<Figure size 432x288 with 1 Axes>"
            ]
          },
          "metadata": {
            "tags": [],
            "needs_background": "light"
          }
        }
      ]
    },
    {
      "cell_type": "code",
      "metadata": {
        "id": "aAXs2pHRj-TY"
      },
      "source": [
        ""
      ],
      "execution_count": null,
      "outputs": []
    },
    {
      "cell_type": "code",
      "metadata": {
        "id": "T91cgziBgiyU"
      },
      "source": [
        "def rf_feat_importance(m, df):\n",
        "    return pd.DataFrame({'cols':df.columns, 'imp':m.feature_importances_}\n",
        "                       ).sort_values('imp', ascending=False)"
      ],
      "execution_count": null,
      "outputs": []
    },
    {
      "cell_type": "code",
      "metadata": {
        "colab": {
          "base_uri": "https://localhost:8080/",
          "height": 363
        },
        "id": "rESzkCpHkFfG",
        "outputId": "45e39b07-89d3-4213-a5f9-df814d4d3f92"
      },
      "source": [
        "fi = rf_feat_importance(rf, x_train)\n",
        "fi[:10]"
      ],
      "execution_count": null,
      "outputs": [
        {
          "output_type": "execute_result",
          "data": {
            "text/html": [
              "<div>\n",
              "<style scoped>\n",
              "    .dataframe tbody tr th:only-of-type {\n",
              "        vertical-align: middle;\n",
              "    }\n",
              "\n",
              "    .dataframe tbody tr th {\n",
              "        vertical-align: top;\n",
              "    }\n",
              "\n",
              "    .dataframe thead th {\n",
              "        text-align: right;\n",
              "    }\n",
              "</style>\n",
              "<table border=\"1\" class=\"dataframe\">\n",
              "  <thead>\n",
              "    <tr style=\"text-align: right;\">\n",
              "      <th></th>\n",
              "      <th>cols</th>\n",
              "      <th>imp</th>\n",
              "    </tr>\n",
              "  </thead>\n",
              "  <tbody>\n",
              "    <tr>\n",
              "      <th>10</th>\n",
              "      <td>hour</td>\n",
              "      <td>0.613383</td>\n",
              "    </tr>\n",
              "    <tr>\n",
              "      <th>9</th>\n",
              "      <td>Invoice Amount</td>\n",
              "      <td>0.331503</td>\n",
              "    </tr>\n",
              "    <tr>\n",
              "      <th>0</th>\n",
              "      <td>Asin</td>\n",
              "      <td>0.025408</td>\n",
              "    </tr>\n",
              "    <tr>\n",
              "      <th>8</th>\n",
              "      <td>price</td>\n",
              "      <td>0.016958</td>\n",
              "    </tr>\n",
              "    <tr>\n",
              "      <th>17</th>\n",
              "      <td>Elapsed</td>\n",
              "      <td>0.003857</td>\n",
              "    </tr>\n",
              "    <tr>\n",
              "      <th>16</th>\n",
              "      <td>Dayofyear</td>\n",
              "      <td>0.002096</td>\n",
              "    </tr>\n",
              "    <tr>\n",
              "      <th>15</th>\n",
              "      <td>Dayofweek</td>\n",
              "      <td>0.002057</td>\n",
              "    </tr>\n",
              "    <tr>\n",
              "      <th>13</th>\n",
              "      <td>Week</td>\n",
              "      <td>0.001265</td>\n",
              "    </tr>\n",
              "    <tr>\n",
              "      <th>14</th>\n",
              "      <td>Day</td>\n",
              "      <td>0.001249</td>\n",
              "    </tr>\n",
              "    <tr>\n",
              "      <th>12</th>\n",
              "      <td>Month</td>\n",
              "      <td>0.000923</td>\n",
              "    </tr>\n",
              "  </tbody>\n",
              "</table>\n",
              "</div>"
            ],
            "text/plain": [
              "              cols       imp\n",
              "10            hour  0.613383\n",
              "9   Invoice Amount  0.331503\n",
              "0             Asin  0.025408\n",
              "8            price  0.016958\n",
              "17         Elapsed  0.003857\n",
              "16       Dayofyear  0.002096\n",
              "15       Dayofweek  0.002057\n",
              "13            Week  0.001265\n",
              "14             Day  0.001249\n",
              "12           Month  0.000923"
            ]
          },
          "metadata": {
            "tags": []
          },
          "execution_count": 161
        }
      ]
    },
    {
      "cell_type": "code",
      "metadata": {
        "colab": {
          "base_uri": "https://localhost:8080/",
          "height": 428
        },
        "id": "qWKbZ-VrkJKi",
        "outputId": "f1a21e33-0644-4542-a38f-77e48847f110"
      },
      "source": [
        "def plot_fi(fi):\n",
        "    return fi.plot('cols', 'imp', 'barh', figsize=(12,7), legend=False)\n",
        "\n",
        "plot_fi(fi[:10]);"
      ],
      "execution_count": null,
      "outputs": [
        {
          "output_type": "display_data",
          "data": {
            "image/png": "[encoded data removed]",
            "text/plain": [
              "<Figure size 864x504 with 1 Axes>"
            ]
          },
          "metadata": {
            "tags": [],
            "needs_background": "light"
          }
        }
      ]
    },
    {
      "cell_type": "code",
      "metadata": {
        "colab": {
          "base_uri": "https://localhost:8080/",
          "height": 374
        },
        "id": "99OqCeZckU78",
        "outputId": "a6616cd4-f724-41a0-ab99-cc430442de4c"
      },
      "source": [
        "cluster_columns(x_train)"
      ],
      "execution_count": null,
      "outputs": [
        {
          "output_type": "display_data",
          "data": {
            "image/png": "[encoded data removed]",
            "text/plain": [
              "<Figure size 720x432 with 1 Axes>"
            ]
          },
          "metadata": {
            "tags": [],
            "needs_background": "light"
          }
        }
      ]
    },
    {
      "cell_type": "code",
      "metadata": {
        "colab": {
          "base_uri": "https://localhost:8080/",
          "height": 279
        },
        "id": "ccTCmRf6kb_M",
        "outputId": "8d2976f5-1ba7-491c-f11e-b15987d0c223"
      },
      "source": [
        "from sklearn.inspection import plot_partial_dependence\n",
        "\n",
        "fig,ax = plt.subplots(figsize=(12, 4))\n",
        "plot_partial_dependence(rf, x_valid, ['hour','Invoice Amount','Asin'],\n",
        "                        grid_resolution=20, ax=ax);"
      ],
      "execution_count": null,
      "outputs": [
        {
          "output_type": "display_data",
          "data": {
            "image/png": "[encoded data removed]",
            "text/plain": [
              "<Figure size 864x288 with 4 Axes>"
            ]
          },
          "metadata": {
            "tags": [],
            "needs_background": "light"
          }
        }
      ]
    },
    {
      "cell_type": "code",
      "metadata": {
        "id": "W4bvDEBIk9V1"
      },
      "source": [
        ""
      ],
      "execution_count": null,
      "outputs": []
    },
    {
      "cell_type": "code",
      "metadata": {
        "id": "xTjvkXo-HxPa"
      },
      "source": [
        "#hide\n",
        "import warnings\n",
        "warnings.simplefilter('ignore', FutureWarning)\n",
        "\n",
        "from treeinterpreter import treeinterpreter\n",
        "from waterfall_chart import plot as waterfall"
      ],
      "execution_count": null,
      "outputs": []
    },
    {
      "cell_type": "code",
      "metadata": {
        "id": "A8bxlMp9HxPb"
      },
      "source": [
        "row = x_valid.iloc[:5]"
      ],
      "execution_count": null,
      "outputs": []
    },
    {
      "cell_type": "code",
      "metadata": {
        "id": "jZo1ca8HHxPb"
      },
      "source": [
        "prediction,bias,contributions = treeinterpreter.predict(rf, row.values)"
      ],
      "execution_count": null,
      "outputs": []
    },
    {
      "cell_type": "code",
      "metadata": {
        "id": "gSD2AkvBHxPc",
        "colab": {
          "base_uri": "https://localhost:8080/"
        },
        "outputId": "ce53d35c-22d6-4611-a219-16222771759f"
      },
      "source": [
        "prediction[0], bias[0], contributions[0].sum()"
      ],
      "execution_count": null,
      "outputs": [
        {
          "output_type": "execute_result",
          "data": {
            "text/plain": [
              "(array([0.96215278]), 2.5407249999999997, -1.5785722222222223)"
            ]
          },
          "metadata": {
            "tags": []
          },
          "execution_count": 168
        }
      ]
    },
    {
      "cell_type": "code",
      "metadata": {
        "id": "POnl6p29HxPd",
        "colab": {
          "base_uri": "https://localhost:8080/",
          "height": 297
        },
        "outputId": "6042c26a-325a-4750-a573-4e9f297766e1"
      },
      "source": [
        "waterfall(x_valid.columns, contributions[0], threshold=0.08, \n",
        "          rotation_value=45,formatting='{:,.3f}');"
      ],
      "execution_count": null,
      "outputs": [
        {
          "output_type": "display_data",
          "data": {
            "image/png": "[encoded data removed]",
            "text/plain": [
              "<Figure size 432x288 with 1 Axes>"
            ]
          },
          "metadata": {
            "tags": [],
            "needs_background": "light"
          }
        }
      ]
    },
    {
      "cell_type": "code",
      "metadata": {
        "colab": {
          "base_uri": "https://localhost:8080/"
        },
        "id": "qr8EdOc0lgKN",
        "outputId": "079af54c-58c7-4279-d794-16f9cecea09c"
      },
      "source": [
        "df_main.columns"
      ],
      "execution_count": null,
      "outputs": [
        {
          "output_type": "execute_result",
          "data": {
            "text/plain": [
              "Index(['Asin', 'Item Promo Discount', 'price', 'Quantity', 'Invoice Amount',\n",
              "       'hour', 'Year', 'Month', 'Week', 'Day', 'Dayofweek', 'Dayofyear',\n",
              "       'Is_month_end', 'Is_month_start', 'Is_quarter_end', 'Is_quarter_start',\n",
              "       'Is_year_end', 'Is_year_start', 'Elapsed'],\n",
              "      dtype='object')"
            ]
          },
          "metadata": {
            "tags": []
          },
          "execution_count": 170
        }
      ]
    },
    {
      "cell_type": "code",
      "metadata": {
        "id": "WnY_PCGSl5Fl"
      },
      "source": [
        "cont_nn,cat_nn = cont_cat_split(df_main, max_card=9000, dep_var=dep_var)"
      ],
      "execution_count": null,
      "outputs": []
    },
    {
      "cell_type": "code",
      "metadata": {
        "colab": {
          "base_uri": "https://localhost:8080/"
        },
        "id": "AMNS6QnKmJXF",
        "outputId": "2e69a344-0263-49fa-9ba7-37e3480a354f"
      },
      "source": [
        "df_main[cat_nn].nunique()"
      ],
      "execution_count": null,
      "outputs": [
        {
          "output_type": "execute_result",
          "data": {
            "text/plain": [
              "Asin                 46\n",
              "Year                  3\n",
              "Month                12\n",
              "Week                 53\n",
              "Day                  31\n",
              "Dayofweek             7\n",
              "Dayofyear           366\n",
              "Is_month_end          2\n",
              "Is_month_start        2\n",
              "Is_quarter_end        2\n",
              "Is_quarter_start      2\n",
              "Is_year_end           2\n",
              "Is_year_start         2\n",
              "dtype: int64"
            ]
          },
          "metadata": {
            "tags": []
          },
          "execution_count": 172
        }
      ]
    },
    {
      "cell_type": "code",
      "metadata": {
        "id": "VHnjCABcmQ3O"
      },
      "source": [
        "procs_nn = [Categorify, FillMissing, Normalize]\n",
        "to_nn = TabularPandas(df_main, procs_nn, cat_nn, cont_nn,\n",
        "                      splits=splits, y_names=dep_var)"
      ],
      "execution_count": null,
      "outputs": []
    },
    {
      "cell_type": "code",
      "metadata": {
        "id": "ck_KuvZImgPg"
      },
      "source": [
        "dls = to_nn.dataloaders(528)"
      ],
      "execution_count": null,
      "outputs": []
    },
    {
      "cell_type": "code",
      "metadata": {
        "colab": {
          "base_uri": "https://localhost:8080/"
        },
        "id": "tm4Nx5bCmlsK",
        "outputId": "1b240d53-b1f4-4e37-8c84-10253aa39809"
      },
      "source": [
        "y = to_nn.train.y\n",
        "y.min(),y.max()"
      ],
      "execution_count": null,
      "outputs": [
        {
          "output_type": "execute_result",
          "data": {
            "text/plain": [
              "(0.0, 41.0)"
            ]
          },
          "metadata": {
            "tags": []
          },
          "execution_count": 175
        }
      ]
    },
    {
      "cell_type": "code",
      "metadata": {
        "id": "qx0EPXLPmq6R"
      },
      "source": [
        "learn = tabular_learner(dls, y_range=(0,42), layers=[500,250],\n",
        "                        n_out=1, loss_func=F.mse_loss)"
      ],
      "execution_count": null,
      "outputs": []
    },
    {
      "cell_type": "code",
      "metadata": {
        "colab": {
          "base_uri": "https://localhost:8080/",
          "height": 300
        },
        "id": "Qc8wzXOIm0Pf",
        "outputId": "ea3a43cb-1707-41d8-c87f-834b778f3925"
      },
      "source": [
        "learn.lr_find()"
      ],
      "execution_count": null,
      "outputs": [
        {
          "output_type": "display_data",
          "data": {
            "text/html": [
              ""
            ],
            "text/plain": [
              "<IPython.core.display.HTML object>"
            ]
          },
          "metadata": {
            "tags": []
          }
        },
        {
          "output_type": "execute_result",
          "data": {
            "text/plain": [
              "SuggestedLRs(valley=0.0020892962347716093)"
            ]
          },
          "metadata": {
            "tags": []
          },
          "execution_count": 177
        },
        {
          "output_type": "display_data",
          "data": {
            "image/png": "[encoded data removed]",
            "text/plain": [
              "<Figure size 432x288 with 1 Axes>"
            ]
          },
          "metadata": {
            "tags": [],
            "needs_background": "light"
          }
        }
      ]
    },
    {
      "cell_type": "code",
      "metadata": {
        "colab": {
          "base_uri": "https://localhost:8080/",
          "height": 206
        },
        "id": "_6VLOKfqm2_o",
        "outputId": "d1097d4e-1902-4bf3-e886-fe6e51c875bd"
      },
      "source": [
        "learn.fit_one_cycle(5, 1e-3)"
      ],
      "execution_count": null,
      "outputs": [
        {
          "output_type": "display_data",
          "data": {
            "text/html": [
              "<table border=\"1\" class=\"dataframe\">\n",
              "  <thead>\n",
              "    <tr style=\"text-align: left;\">\n",
              "      <th>epoch</th>\n",
              "      <th>train_loss</th>\n",
              "      <th>valid_loss</th>\n",
              "      <th>time</th>\n",
              "    </tr>\n",
              "  </thead>\n",
              "  <tbody>\n",
              "    <tr>\n",
              "      <td>0</td>\n",
              "      <td>335.170654</td>\n",
              "      <td>310.284088</td>\n",
              "      <td>00:00</td>\n",
              "    </tr>\n",
              "    <tr>\n",
              "      <td>1</td>\n",
              "      <td>311.091248</td>\n",
              "      <td>309.897705</td>\n",
              "      <td>00:00</td>\n",
              "    </tr>\n",
              "    <tr>\n",
              "      <td>2</td>\n",
              "      <td>278.202393</td>\n",
              "      <td>323.489899</td>\n",
              "      <td>00:00</td>\n",
              "    </tr>\n",
              "    <tr>\n",
              "      <td>3</td>\n",
              "      <td>255.876755</td>\n",
              "      <td>348.911682</td>\n",
              "      <td>00:00</td>\n",
              "    </tr>\n",
              "    <tr>\n",
              "      <td>4</td>\n",
              "      <td>239.897247</td>\n",
              "      <td>377.139771</td>\n",
              "      <td>00:00</td>\n",
              "    </tr>\n",
              "  </tbody>\n",
              "</table>"
            ],
            "text/plain": [
              "<IPython.core.display.HTML object>"
            ]
          },
          "metadata": {
            "tags": []
          }
        }
      ]
    },
    {
      "cell_type": "code",
      "metadata": {
        "colab": {
          "base_uri": "https://localhost:8080/",
          "height": 34
        },
        "id": "krRVgV0hm-PE",
        "outputId": "e0a60b83-7dde-475a-afde-a941d22917df"
      },
      "source": [
        "preds,targs = learn.get_preds()\n",
        "mae(new_pred(preds,0.42),targs)"
      ],
      "execution_count": null,
      "outputs": [
        {
          "output_type": "display_data",
          "data": {
            "text/html": [
              ""
            ],
            "text/plain": [
              "<IPython.core.display.HTML object>"
            ]
          },
          "metadata": {
            "tags": []
          }
        },
        {
          "output_type": "execute_result",
          "data": {
            "text/plain": [
              "19.189521640091115"
            ]
          },
          "metadata": {
            "tags": []
          },
          "execution_count": 179
        }
      ]
    },
    {
      "cell_type": "code",
      "metadata": {
        "id": "iEZFXAi_nJGa"
      },
      "source": [
        ""
      ],
      "execution_count": null,
      "outputs": []
    }
  ]
}