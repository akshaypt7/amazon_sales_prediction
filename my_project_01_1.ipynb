{
  "nbformat": 4,
  "nbformat_minor": 0,
  "metadata": {
    "colab": {
      "name": "my_project_01.1.ipynb",
      "provenance": [],
      "collapsed_sections": [],
      "authorship_tag": "ABX9TyN7IxO5PbgDRrhrCc5SggTl",
      "include_colab_link": true
    },
    "kernelspec": {
      "name": "python3",
      "display_name": "Python 3"
    },
    "language_info": {
      "name": "python"
    },
    "accelerator": "GPU"
  },
  "cells": [
    {
      "cell_type": "markdown",
      "metadata": {
        "id": "view-in-github",
        "colab_type": "text"
      },
      "source": [
        "<a href=\"https://colab.research.google.com/github/akshaypt7/amazon_sales_prediction/blob/main/my_project_01_1.ipynb\" target=\"_parent\"><img src=\"https://colab.research.google.com/assets/colab-badge.svg\" alt=\"Open In Colab\"/></a>"
      ]
    },
    {
      "cell_type": "markdown",
      "metadata": {
        "id": "YM0oZ2H6ckHC"
      },
      "source": [
        "This is part 2 of the project. Here we make improvements that we have learnt from part 1 of the project."
      ]
    },
    {
      "cell_type": "markdown",
      "metadata": {
        "id": "UAzw8Qltc-_D"
      },
      "source": [
        "One of the mistakes we have done in the first part was that there was data leakage. \n",
        "\n",
        "**When the sales are made for each asins in a day, we are not considering the asins that were not sold that day. so the thing is we need to add ASINS even when there was no sale made for that. We can give the quantity as 0. **\n",
        "\n",
        "\n",
        "How do we do this?\n",
        "\n",
        "When we read data each month, we see what are the unique ASINs, then these asins should be added to each days, even for the days when these asins are not sold. \n",
        "but what other details can we give, what about promotions and other details, we can take the entire row not just the ASIN, but what if there are two rows with coupon and without coupon, if we can see which row is closer to that, that is with coupon or without coupon we can copy that coupon.\n",
        "\n",
        "one another thing to note is we can even look at working this for the enitre dataframe at once, rather than going month by month. The reason is what if for one month the product was laucnhed but on second month there was no sales, even though that product was available. this means that for all those we wont even mention the asin, but on the third month we mention again."
      ]
    },
    {
      "cell_type": "markdown",
      "metadata": {
        "id": "vTchGGkVhwft"
      },
      "source": [
        "- we can change the continous and categorical variables that we have defined."
      ]
    },
    {
      "cell_type": "code",
      "metadata": {
        "id": "VotfceFCcE5Q"
      },
      "source": [
        ""
      ],
      "execution_count": null,
      "outputs": []
    },
    {
      "cell_type": "markdown",
      "metadata": {
        "id": "qmhSJWC2lYYP"
      },
      "source": [
        "One another mistake that we had done in part 1 was that we had only taken 679 data points as the validation set, we have used 10,500 as the train set. we should have atleast taken 3000 units as validation set.\n",
        "\n",
        "This was the reason we had high training error and less validation error. This makes sense why we also had high OOB_error and less validation error, as oob_error is calculated with atleast 30% data."
      ]
    },
    {
      "cell_type": "markdown",
      "metadata": {
        "id": "B2__VVcNmW4K"
      },
      "source": [
        "Next thing we learnt is we need to understand what metric we have to use.\n",
        "\n",
        "**We can use both classification and regression. When we use both then we need to understand what has to be used as the metric.**\n",
        "\n",
        "Also if we are considering accuracy or even other metrics we have to create a baseline model which predicts the majority class for all the data points.\n",
        "\n",
        "Learn more about metrics.\n",
        "\n",
        "One another thing what we can note is, we can convert 1.4 to 2, if we are going with regression. Here we need to come up with something like np.where(). We can see what is the performance at different thresholds. "
      ]
    },
    {
      "cell_type": "code",
      "metadata": {
        "id": "Bef9c6Til9cZ"
      },
      "source": [
        ""
      ],
      "execution_count": null,
      "outputs": []
    },
    {
      "cell_type": "markdown",
      "metadata": {
        "id": "6Xc1fT_9qCd_"
      },
      "source": [
        "We should also try to create the functions without copying and trying on a smaller set to know if it works."
      ]
    },
    {
      "cell_type": "code",
      "metadata": {
        "id": "AOf7-glAqKQD",
        "colab": {
          "base_uri": "https://localhost:8080/"
        },
        "outputId": "a96120a1-8760-4abf-e321-3e12b902cf9e"
      },
      "source": [
        "#hide\n",
        "!pip install -Uqq fastbook kaggle waterfallcharts treeinterpreter dtreeviz\n",
        "import fastbook\n",
        "fastbook.setup_book()"
      ],
      "execution_count": 1,
      "outputs": [
        {
          "output_type": "stream",
          "text": [
            "\u001b[K     |████████████████████████████████| 720 kB 7.5 MB/s \n",
            "\u001b[K     |████████████████████████████████| 60 kB 6.7 MB/s \n",
            "\u001b[K     |████████████████████████████████| 1.2 MB 16.5 MB/s \n",
            "\u001b[K     |████████████████████████████████| 46 kB 3.0 MB/s \n",
            "\u001b[K     |████████████████████████████████| 188 kB 27.1 MB/s \n",
            "\u001b[K     |████████████████████████████████| 53 kB 2.5 MB/s \n",
            "\u001b[K     |████████████████████████████████| 51 kB 361 kB/s \n",
            "\u001b[?25h  Building wheel for waterfallcharts (setup.py) ... \u001b[?25l\u001b[?25hdone\n",
            "  Building wheel for dtreeviz (setup.py) ... \u001b[?25l\u001b[?25hdone\n",
            "Mounted at /content/gdrive\n"
          ],
          "name": "stdout"
        }
      ]
    },
    {
      "cell_type": "code",
      "metadata": {
        "id": "xDDCJxlBR58G"
      },
      "source": [
        "#hide\n",
        "from fastbook import *\n",
        "# from kaggle import api\n",
        "from pandas.api.types import is_string_dtype, is_numeric_dtype, is_categorical_dtype\n",
        "from fastai.tabular.all import *\n",
        "from sklearn.ensemble import RandomForestRegressor, RandomForestClassifier\n",
        "from sklearn.tree import DecisionTreeRegressor\n",
        "from dtreeviz.trees import *\n",
        "from IPython.display import Image, display_svg, SVG\n",
        "\n",
        "pd.options.display.max_rows = 20\n",
        "pd.options.display.max_columns = 8"
      ],
      "execution_count": 2,
      "outputs": []
    },
    {
      "cell_type": "code",
      "metadata": {
        "id": "z-pt33Frb0Tz"
      },
      "source": [
        "import pandas as pd"
      ],
      "execution_count": 3,
      "outputs": []
    },
    {
      "cell_type": "code",
      "metadata": {
        "id": "Szn3aw0FUQGb"
      },
      "source": [
        "import os\n",
        "files = os.listdir('/content/gdrive/MyDrive/my_project_01')\n"
      ],
      "execution_count": 4,
      "outputs": []
    },
    {
      "cell_type": "code",
      "metadata": {
        "id": "H5QMwiy6SA8_"
      },
      "source": [
        ""
      ],
      "execution_count": null,
      "outputs": []
    },
    {
      "cell_type": "code",
      "metadata": {
        "id": "0FcpG4fAZDOy"
      },
      "source": [
        "dict_files = {}\n",
        "for i,file in enumerate(files):\n",
        "  try:\n",
        "    # dict_files[i] = pd.read_csv( '/content/drive/MyDrive/my_project_01/' +str(file),low_memory=False)\n",
        "    dict_files[i] = pd.read_csv( '/content/gdrive/MyDrive/my_project_01/' +str(file),low_memory=False)\n",
        "  except:\n",
        "    # dict_files[i] = pd.read_excel( '/content/drive/MyDrive/my_project_01/' +str(file))\n",
        "    dict_files[i] = pd.read_excel( '/content/gdrive/MyDrive/my_project_01/' +str(file))\n"
      ],
      "execution_count": 5,
      "outputs": []
    },
    {
      "cell_type": "markdown",
      "metadata": {
        "id": "xXDTJvCnUT4z"
      },
      "source": [
        "We have to take in Invoice Amount instead of Principal amount (since it helps to sepearate canceled and refund orders)"
      ]
    },
    {
      "cell_type": "code",
      "metadata": {
        "id": "pmM6Zg7TSYqD"
      },
      "source": [
        "df_dicts = {}\n",
        "\n",
        "for i in range(len(dict_files)):\n",
        "  df_dicts[i] = dict_files[i][['Order Date','Quantity','Asin','Invoice Amount','Item Promo Discount']]\n"
      ],
      "execution_count": 15,
      "outputs": []
    },
    {
      "cell_type": "markdown",
      "metadata": {
        "id": "orRx9qfhShQi"
      },
      "source": [
        "Testing out with 1 dataframe"
      ]
    },
    {
      "cell_type": "code",
      "metadata": {
        "colab": {
          "base_uri": "https://localhost:8080/",
          "height": 424
        },
        "id": "-ayMv4oKGwQ4",
        "outputId": "92da895a-d5fa-4623-9f7d-872641ebd7ba"
      },
      "source": [
        ""
      ],
      "execution_count": null,
      "outputs": [
        {
          "output_type": "execute_result",
          "data": {
            "text/html": [
              "<div>\n",
              "<style scoped>\n",
              "    .dataframe tbody tr th:only-of-type {\n",
              "        vertical-align: middle;\n",
              "    }\n",
              "\n",
              "    .dataframe tbody tr th {\n",
              "        vertical-align: top;\n",
              "    }\n",
              "\n",
              "    .dataframe thead th {\n",
              "        text-align: right;\n",
              "    }\n",
              "</style>\n",
              "<table border=\"1\" class=\"dataframe\">\n",
              "  <thead>\n",
              "    <tr style=\"text-align: right;\">\n",
              "      <th></th>\n",
              "      <th>Order Date</th>\n",
              "      <th>Quantity</th>\n",
              "      <th>Asin</th>\n",
              "      <th>Invoice Amount</th>\n",
              "      <th>Item Promo Discount</th>\n",
              "    </tr>\n",
              "  </thead>\n",
              "  <tbody>\n",
              "    <tr>\n",
              "      <th>0</th>\n",
              "      <td>2020-12-28 15:41:42</td>\n",
              "      <td>1</td>\n",
              "      <td>B07TM3LRVB</td>\n",
              "      <td>-1135.00</td>\n",
              "      <td>0.00</td>\n",
              "    </tr>\n",
              "    <tr>\n",
              "      <th>1</th>\n",
              "      <td>2020-12-25 18:50:21</td>\n",
              "      <td>1</td>\n",
              "      <td>B07TM3LRVB</td>\n",
              "      <td>-1135.00</td>\n",
              "      <td>0.00</td>\n",
              "    </tr>\n",
              "    <tr>\n",
              "      <th>2</th>\n",
              "      <td>2020-12-28 23:01:59</td>\n",
              "      <td>1</td>\n",
              "      <td>B07TM3LRVB</td>\n",
              "      <td>-1135.00</td>\n",
              "      <td>0.00</td>\n",
              "    </tr>\n",
              "    <tr>\n",
              "      <th>3</th>\n",
              "      <td>2020-12-23 10:27:16</td>\n",
              "      <td>1</td>\n",
              "      <td>B07TM3LRVB</td>\n",
              "      <td>-1135.00</td>\n",
              "      <td>0.00</td>\n",
              "    </tr>\n",
              "    <tr>\n",
              "      <th>4</th>\n",
              "      <td>2020-12-18 11:41:24</td>\n",
              "      <td>1</td>\n",
              "      <td>B07TM3LRVB</td>\n",
              "      <td>-1135.00</td>\n",
              "      <td>0.00</td>\n",
              "    </tr>\n",
              "    <tr>\n",
              "      <th>...</th>\n",
              "      <td>...</td>\n",
              "      <td>...</td>\n",
              "      <td>...</td>\n",
              "      <td>...</td>\n",
              "      <td>...</td>\n",
              "    </tr>\n",
              "    <tr>\n",
              "      <th>926</th>\n",
              "      <td>2021-01-31 21:15:29</td>\n",
              "      <td>1</td>\n",
              "      <td>B07TM3LRVB</td>\n",
              "      <td>1078.25</td>\n",
              "      <td>-56.75</td>\n",
              "    </tr>\n",
              "    <tr>\n",
              "      <th>927</th>\n",
              "      <td>2021-01-31 22:33:34</td>\n",
              "      <td>1</td>\n",
              "      <td>B08332221J</td>\n",
              "      <td>1424.05</td>\n",
              "      <td>-74.95</td>\n",
              "    </tr>\n",
              "    <tr>\n",
              "      <th>928</th>\n",
              "      <td>2021-01-31 21:22:51</td>\n",
              "      <td>1</td>\n",
              "      <td>B0849NLNTQ</td>\n",
              "      <td>1599.00</td>\n",
              "      <td>0.00</td>\n",
              "    </tr>\n",
              "    <tr>\n",
              "      <th>929</th>\n",
              "      <td>2021-01-31 23:32:25</td>\n",
              "      <td>1</td>\n",
              "      <td>B07TM3LRVB</td>\n",
              "      <td>1078.25</td>\n",
              "      <td>-56.75</td>\n",
              "    </tr>\n",
              "    <tr>\n",
              "      <th>930</th>\n",
              "      <td>2021-01-31 17:35:07</td>\n",
              "      <td>1</td>\n",
              "      <td>B0859B5J8T</td>\n",
              "      <td>499.00</td>\n",
              "      <td>0.00</td>\n",
              "    </tr>\n",
              "  </tbody>\n",
              "</table>\n",
              "<p>931 rows × 5 columns</p>\n",
              "</div>"
            ],
            "text/plain": [
              "             Order Date  Quantity        Asin  Invoice Amount  \\\n",
              "0   2020-12-28 15:41:42         1  B07TM3LRVB        -1135.00   \n",
              "1   2020-12-25 18:50:21         1  B07TM3LRVB        -1135.00   \n",
              "2   2020-12-28 23:01:59         1  B07TM3LRVB        -1135.00   \n",
              "3   2020-12-23 10:27:16         1  B07TM3LRVB        -1135.00   \n",
              "4   2020-12-18 11:41:24         1  B07TM3LRVB        -1135.00   \n",
              "..                  ...       ...         ...             ...   \n",
              "926 2021-01-31 21:15:29         1  B07TM3LRVB         1078.25   \n",
              "927 2021-01-31 22:33:34         1  B08332221J         1424.05   \n",
              "928 2021-01-31 21:22:51         1  B0849NLNTQ         1599.00   \n",
              "929 2021-01-31 23:32:25         1  B07TM3LRVB         1078.25   \n",
              "930 2021-01-31 17:35:07         1  B0859B5J8T          499.00   \n",
              "\n",
              "     Item Promo Discount  \n",
              "0                   0.00  \n",
              "1                   0.00  \n",
              "2                   0.00  \n",
              "3                   0.00  \n",
              "4                   0.00  \n",
              "..                   ...  \n",
              "926               -56.75  \n",
              "927               -74.95  \n",
              "928                 0.00  \n",
              "929               -56.75  \n",
              "930                 0.00  \n",
              "\n",
              "[931 rows x 5 columns]"
            ]
          },
          "metadata": {
            "tags": []
          },
          "execution_count": 12
        }
      ]
    },
    {
      "cell_type": "code",
      "metadata": {
        "colab": {
          "base_uri": "https://localhost:8080/",
          "height": 394
        },
        "id": "zr-5ioH8Sf3c",
        "outputId": "d77ddbad-d569-4e29-9e0b-de24e4c16777"
      },
      "source": [
        "df = df_dicts[1]\n",
        "df"
      ],
      "execution_count": null,
      "outputs": [
        {
          "output_type": "execute_result",
          "data": {
            "text/html": [
              "<div>\n",
              "<style scoped>\n",
              "    .dataframe tbody tr th:only-of-type {\n",
              "        vertical-align: middle;\n",
              "    }\n",
              "\n",
              "    .dataframe tbody tr th {\n",
              "        vertical-align: top;\n",
              "    }\n",
              "\n",
              "    .dataframe thead th {\n",
              "        text-align: right;\n",
              "    }\n",
              "</style>\n",
              "<table border=\"1\" class=\"dataframe\">\n",
              "  <thead>\n",
              "    <tr style=\"text-align: right;\">\n",
              "      <th></th>\n",
              "      <th>Order Date</th>\n",
              "      <th>Quantity</th>\n",
              "      <th>Asin</th>\n",
              "      <th>Invoice Amount</th>\n",
              "      <th>Item Promo Discount</th>\n",
              "    </tr>\n",
              "  </thead>\n",
              "  <tbody>\n",
              "    <tr>\n",
              "      <th>0</th>\n",
              "      <td>2021-02-01 17:28:51</td>\n",
              "      <td>1</td>\n",
              "      <td>B07TM3LRVB</td>\n",
              "      <td>1135.00</td>\n",
              "      <td>0.00</td>\n",
              "    </tr>\n",
              "    <tr>\n",
              "      <th>1</th>\n",
              "      <td>2021-02-04 09:18:42</td>\n",
              "      <td>1</td>\n",
              "      <td>B07TM3LRVB</td>\n",
              "      <td>1078.25</td>\n",
              "      <td>-56.75</td>\n",
              "    </tr>\n",
              "    <tr>\n",
              "      <th>2</th>\n",
              "      <td>2021-02-12 00:30:53</td>\n",
              "      <td>1</td>\n",
              "      <td>B07TM3LRVB</td>\n",
              "      <td>1078.25</td>\n",
              "      <td>-56.75</td>\n",
              "    </tr>\n",
              "    <tr>\n",
              "      <th>3</th>\n",
              "      <td>2021-02-13 10:30:28</td>\n",
              "      <td>1</td>\n",
              "      <td>B0849NLNTQ</td>\n",
              "      <td>1599.00</td>\n",
              "      <td>0.00</td>\n",
              "    </tr>\n",
              "    <tr>\n",
              "      <th>4</th>\n",
              "      <td>2021-02-13 12:35:00</td>\n",
              "      <td>1</td>\n",
              "      <td>B0849NLNTQ</td>\n",
              "      <td>1519.05</td>\n",
              "      <td>-79.95</td>\n",
              "    </tr>\n",
              "    <tr>\n",
              "      <th>5</th>\n",
              "      <td>2021-02-14 18:47:44</td>\n",
              "      <td>1</td>\n",
              "      <td>B07KYFHTGF</td>\n",
              "      <td>1895.25</td>\n",
              "      <td>-99.75</td>\n",
              "    </tr>\n",
              "    <tr>\n",
              "      <th>6</th>\n",
              "      <td>2021-02-14 21:49:20</td>\n",
              "      <td>1</td>\n",
              "      <td>B07TM3LRVB</td>\n",
              "      <td>1078.25</td>\n",
              "      <td>-56.75</td>\n",
              "    </tr>\n",
              "    <tr>\n",
              "      <th>7</th>\n",
              "      <td>2021-02-18 07:55:57</td>\n",
              "      <td>1</td>\n",
              "      <td>B0849NLNTQ</td>\n",
              "      <td>1599.00</td>\n",
              "      <td>0.00</td>\n",
              "    </tr>\n",
              "    <tr>\n",
              "      <th>8</th>\n",
              "      <td>2021-02-24 14:11:53</td>\n",
              "      <td>1</td>\n",
              "      <td>B07TM3LRVB</td>\n",
              "      <td>1078.25</td>\n",
              "      <td>-56.75</td>\n",
              "    </tr>\n",
              "    <tr>\n",
              "      <th>9</th>\n",
              "      <td>2021-01-24 16:47:48</td>\n",
              "      <td>1</td>\n",
              "      <td>B0849NLNTQ</td>\n",
              "      <td>-1599.00</td>\n",
              "      <td>0.00</td>\n",
              "    </tr>\n",
              "    <tr>\n",
              "      <th>10</th>\n",
              "      <td>2021-01-28 10:02:02</td>\n",
              "      <td>1</td>\n",
              "      <td>B08332221J</td>\n",
              "      <td>-1499.00</td>\n",
              "      <td>0.00</td>\n",
              "    </tr>\n",
              "  </tbody>\n",
              "</table>\n",
              "</div>"
            ],
            "text/plain": [
              "            Order Date  Quantity        Asin  Invoice Amount  \\\n",
              "0  2021-02-01 17:28:51         1  B07TM3LRVB         1135.00   \n",
              "1  2021-02-04 09:18:42         1  B07TM3LRVB         1078.25   \n",
              "2  2021-02-12 00:30:53         1  B07TM3LRVB         1078.25   \n",
              "3  2021-02-13 10:30:28         1  B0849NLNTQ         1599.00   \n",
              "4  2021-02-13 12:35:00         1  B0849NLNTQ         1519.05   \n",
              "5  2021-02-14 18:47:44         1  B07KYFHTGF         1895.25   \n",
              "6  2021-02-14 21:49:20         1  B07TM3LRVB         1078.25   \n",
              "7  2021-02-18 07:55:57         1  B0849NLNTQ         1599.00   \n",
              "8  2021-02-24 14:11:53         1  B07TM3LRVB         1078.25   \n",
              "9  2021-01-24 16:47:48         1  B0849NLNTQ        -1599.00   \n",
              "10 2021-01-28 10:02:02         1  B08332221J        -1499.00   \n",
              "\n",
              "    Item Promo Discount  \n",
              "0                  0.00  \n",
              "1                -56.75  \n",
              "2                -56.75  \n",
              "3                  0.00  \n",
              "4                -79.95  \n",
              "5                -99.75  \n",
              "6                -56.75  \n",
              "7                  0.00  \n",
              "8                -56.75  \n",
              "9                  0.00  \n",
              "10                 0.00  "
            ]
          },
          "metadata": {
            "tags": []
          },
          "execution_count": 56
        }
      ]
    },
    {
      "cell_type": "code",
      "metadata": {
        "id": "e07wiSSHSrOB"
      },
      "source": [
        "df_copy['Date'] = df['Order Date'].dt.date"
      ],
      "execution_count": null,
      "outputs": []
    },
    {
      "cell_type": "code",
      "metadata": {
        "id": "izytEAm3aqsJ"
      },
      "source": [
        "df_copy.drop(['Order Date'], inplace = True, axis = 1)"
      ],
      "execution_count": null,
      "outputs": []
    },
    {
      "cell_type": "code",
      "metadata": {
        "colab": {
          "base_uri": "https://localhost:8080/",
          "height": 394
        },
        "id": "YpnEhBAGa5iC",
        "outputId": "a911a2b3-e8d1-4590-8b19-a5a813d581cc"
      },
      "source": [
        "df_copy"
      ],
      "execution_count": null,
      "outputs": [
        {
          "output_type": "execute_result",
          "data": {
            "text/html": [
              "<div>\n",
              "<style scoped>\n",
              "    .dataframe tbody tr th:only-of-type {\n",
              "        vertical-align: middle;\n",
              "    }\n",
              "\n",
              "    .dataframe tbody tr th {\n",
              "        vertical-align: top;\n",
              "    }\n",
              "\n",
              "    .dataframe thead th {\n",
              "        text-align: right;\n",
              "    }\n",
              "</style>\n",
              "<table border=\"1\" class=\"dataframe\">\n",
              "  <thead>\n",
              "    <tr style=\"text-align: right;\">\n",
              "      <th></th>\n",
              "      <th>Quantity</th>\n",
              "      <th>Asin</th>\n",
              "      <th>Invoice Amount</th>\n",
              "      <th>Item Promo Discount</th>\n",
              "      <th>Date</th>\n",
              "    </tr>\n",
              "  </thead>\n",
              "  <tbody>\n",
              "    <tr>\n",
              "      <th>0</th>\n",
              "      <td>1</td>\n",
              "      <td>B07TM3LRVB</td>\n",
              "      <td>1135.00</td>\n",
              "      <td>0.00</td>\n",
              "      <td>2021-02-01</td>\n",
              "    </tr>\n",
              "    <tr>\n",
              "      <th>1</th>\n",
              "      <td>1</td>\n",
              "      <td>B07TM3LRVB</td>\n",
              "      <td>1078.25</td>\n",
              "      <td>-56.75</td>\n",
              "      <td>2021-02-04</td>\n",
              "    </tr>\n",
              "    <tr>\n",
              "      <th>2</th>\n",
              "      <td>1</td>\n",
              "      <td>B07TM3LRVB</td>\n",
              "      <td>1078.25</td>\n",
              "      <td>-56.75</td>\n",
              "      <td>2021-02-12</td>\n",
              "    </tr>\n",
              "    <tr>\n",
              "      <th>3</th>\n",
              "      <td>1</td>\n",
              "      <td>B0849NLNTQ</td>\n",
              "      <td>1599.00</td>\n",
              "      <td>0.00</td>\n",
              "      <td>2021-02-13</td>\n",
              "    </tr>\n",
              "    <tr>\n",
              "      <th>4</th>\n",
              "      <td>1</td>\n",
              "      <td>B0849NLNTQ</td>\n",
              "      <td>1519.05</td>\n",
              "      <td>-79.95</td>\n",
              "      <td>2021-02-13</td>\n",
              "    </tr>\n",
              "    <tr>\n",
              "      <th>5</th>\n",
              "      <td>1</td>\n",
              "      <td>B07KYFHTGF</td>\n",
              "      <td>1895.25</td>\n",
              "      <td>-99.75</td>\n",
              "      <td>2021-02-14</td>\n",
              "    </tr>\n",
              "    <tr>\n",
              "      <th>6</th>\n",
              "      <td>1</td>\n",
              "      <td>B07TM3LRVB</td>\n",
              "      <td>1078.25</td>\n",
              "      <td>-56.75</td>\n",
              "      <td>2021-02-14</td>\n",
              "    </tr>\n",
              "    <tr>\n",
              "      <th>7</th>\n",
              "      <td>1</td>\n",
              "      <td>B0849NLNTQ</td>\n",
              "      <td>1599.00</td>\n",
              "      <td>0.00</td>\n",
              "      <td>2021-02-18</td>\n",
              "    </tr>\n",
              "    <tr>\n",
              "      <th>8</th>\n",
              "      <td>1</td>\n",
              "      <td>B07TM3LRVB</td>\n",
              "      <td>1078.25</td>\n",
              "      <td>-56.75</td>\n",
              "      <td>2021-02-24</td>\n",
              "    </tr>\n",
              "    <tr>\n",
              "      <th>9</th>\n",
              "      <td>1</td>\n",
              "      <td>B0849NLNTQ</td>\n",
              "      <td>-1599.00</td>\n",
              "      <td>0.00</td>\n",
              "      <td>2021-01-24</td>\n",
              "    </tr>\n",
              "    <tr>\n",
              "      <th>10</th>\n",
              "      <td>1</td>\n",
              "      <td>B08332221J</td>\n",
              "      <td>-1499.00</td>\n",
              "      <td>0.00</td>\n",
              "      <td>2021-01-28</td>\n",
              "    </tr>\n",
              "  </tbody>\n",
              "</table>\n",
              "</div>"
            ],
            "text/plain": [
              "    Quantity        Asin  Invoice Amount  Item Promo Discount        Date\n",
              "0          1  B07TM3LRVB         1135.00                 0.00  2021-02-01\n",
              "1          1  B07TM3LRVB         1078.25               -56.75  2021-02-04\n",
              "2          1  B07TM3LRVB         1078.25               -56.75  2021-02-12\n",
              "3          1  B0849NLNTQ         1599.00                 0.00  2021-02-13\n",
              "4          1  B0849NLNTQ         1519.05               -79.95  2021-02-13\n",
              "5          1  B07KYFHTGF         1895.25               -99.75  2021-02-14\n",
              "6          1  B07TM3LRVB         1078.25               -56.75  2021-02-14\n",
              "7          1  B0849NLNTQ         1599.00                 0.00  2021-02-18\n",
              "8          1  B07TM3LRVB         1078.25               -56.75  2021-02-24\n",
              "9          1  B0849NLNTQ        -1599.00                 0.00  2021-01-24\n",
              "10         1  B08332221J        -1499.00                 0.00  2021-01-28"
            ]
          },
          "metadata": {
            "tags": []
          },
          "execution_count": 62
        }
      ]
    },
    {
      "cell_type": "code",
      "metadata": {
        "colab": {
          "base_uri": "https://localhost:8080/"
        },
        "id": "sfMLeeerS7WR",
        "outputId": "78118bc6-2307-4cdf-c38c-925e74915a88"
      },
      "source": [
        "df_copy.groupby(['Date', 'Asin','Invoice Amount','Item Promo Discount'])['Quantity'].sum()"
      ],
      "execution_count": null,
      "outputs": [
        {
          "output_type": "execute_result",
          "data": {
            "text/plain": [
              "Date        Asin        Invoice Amount  Item Promo Discount\n",
              "2021-01-24  B0849NLNTQ  -1599.00         0.00                  1\n",
              "2021-01-28  B08332221J  -1499.00         0.00                  1\n",
              "2021-02-01  B07TM3LRVB   1135.00         0.00                  1\n",
              "2021-02-04  B07TM3LRVB   1078.25        -56.75                 1\n",
              "2021-02-12  B07TM3LRVB   1078.25        -56.75                 1\n",
              "2021-02-13  B0849NLNTQ   1519.05        -79.95                 1\n",
              "                         1599.00         0.00                  1\n",
              "2021-02-14  B07KYFHTGF   1895.25        -99.75                 1\n",
              "            B07TM3LRVB   1078.25        -56.75                 1\n",
              "2021-02-18  B0849NLNTQ   1599.00         0.00                  1\n",
              "2021-02-24  B07TM3LRVB   1078.25        -56.75                 1\n",
              "Name: Quantity, dtype: int64"
            ]
          },
          "metadata": {
            "tags": []
          },
          "execution_count": 63
        }
      ]
    },
    {
      "cell_type": "code",
      "metadata": {
        "id": "GYUbs44dTmPZ"
      },
      "source": [
        "cond  = df_copy['Invoice Amount'] > 0"
      ],
      "execution_count": null,
      "outputs": []
    },
    {
      "cell_type": "code",
      "metadata": {
        "id": "9ATNG6dCWBxC"
      },
      "source": [
        "df = df_copy.where(cond )"
      ],
      "execution_count": null,
      "outputs": []
    },
    {
      "cell_type": "code",
      "metadata": {
        "colab": {
          "base_uri": "https://localhost:8080/",
          "height": 394
        },
        "id": "rp9lhRcPWN7a",
        "outputId": "82c8d6d8-ff89-4800-aeec-fbacaecfb2fb"
      },
      "source": [
        "df"
      ],
      "execution_count": null,
      "outputs": [
        {
          "output_type": "execute_result",
          "data": {
            "text/html": [
              "<div>\n",
              "<style scoped>\n",
              "    .dataframe tbody tr th:only-of-type {\n",
              "        vertical-align: middle;\n",
              "    }\n",
              "\n",
              "    .dataframe tbody tr th {\n",
              "        vertical-align: top;\n",
              "    }\n",
              "\n",
              "    .dataframe thead th {\n",
              "        text-align: right;\n",
              "    }\n",
              "</style>\n",
              "<table border=\"1\" class=\"dataframe\">\n",
              "  <thead>\n",
              "    <tr style=\"text-align: right;\">\n",
              "      <th></th>\n",
              "      <th>Quantity</th>\n",
              "      <th>Asin</th>\n",
              "      <th>Invoice Amount</th>\n",
              "      <th>Item Promo Discount</th>\n",
              "      <th>Date</th>\n",
              "    </tr>\n",
              "  </thead>\n",
              "  <tbody>\n",
              "    <tr>\n",
              "      <th>0</th>\n",
              "      <td>1.0</td>\n",
              "      <td>B07TM3LRVB</td>\n",
              "      <td>1135.00</td>\n",
              "      <td>0.00</td>\n",
              "      <td>2021-02-01</td>\n",
              "    </tr>\n",
              "    <tr>\n",
              "      <th>1</th>\n",
              "      <td>1.0</td>\n",
              "      <td>B07TM3LRVB</td>\n",
              "      <td>1078.25</td>\n",
              "      <td>-56.75</td>\n",
              "      <td>2021-02-04</td>\n",
              "    </tr>\n",
              "    <tr>\n",
              "      <th>2</th>\n",
              "      <td>1.0</td>\n",
              "      <td>B07TM3LRVB</td>\n",
              "      <td>1078.25</td>\n",
              "      <td>-56.75</td>\n",
              "      <td>2021-02-12</td>\n",
              "    </tr>\n",
              "    <tr>\n",
              "      <th>3</th>\n",
              "      <td>1.0</td>\n",
              "      <td>B0849NLNTQ</td>\n",
              "      <td>1599.00</td>\n",
              "      <td>0.00</td>\n",
              "      <td>2021-02-13</td>\n",
              "    </tr>\n",
              "    <tr>\n",
              "      <th>4</th>\n",
              "      <td>1.0</td>\n",
              "      <td>B0849NLNTQ</td>\n",
              "      <td>1519.05</td>\n",
              "      <td>-79.95</td>\n",
              "      <td>2021-02-13</td>\n",
              "    </tr>\n",
              "    <tr>\n",
              "      <th>5</th>\n",
              "      <td>1.0</td>\n",
              "      <td>B07KYFHTGF</td>\n",
              "      <td>1895.25</td>\n",
              "      <td>-99.75</td>\n",
              "      <td>2021-02-14</td>\n",
              "    </tr>\n",
              "    <tr>\n",
              "      <th>6</th>\n",
              "      <td>1.0</td>\n",
              "      <td>B07TM3LRVB</td>\n",
              "      <td>1078.25</td>\n",
              "      <td>-56.75</td>\n",
              "      <td>2021-02-14</td>\n",
              "    </tr>\n",
              "    <tr>\n",
              "      <th>7</th>\n",
              "      <td>1.0</td>\n",
              "      <td>B0849NLNTQ</td>\n",
              "      <td>1599.00</td>\n",
              "      <td>0.00</td>\n",
              "      <td>2021-02-18</td>\n",
              "    </tr>\n",
              "    <tr>\n",
              "      <th>8</th>\n",
              "      <td>1.0</td>\n",
              "      <td>B07TM3LRVB</td>\n",
              "      <td>1078.25</td>\n",
              "      <td>-56.75</td>\n",
              "      <td>2021-02-24</td>\n",
              "    </tr>\n",
              "    <tr>\n",
              "      <th>9</th>\n",
              "      <td>NaN</td>\n",
              "      <td>NaN</td>\n",
              "      <td>NaN</td>\n",
              "      <td>NaN</td>\n",
              "      <td>NaN</td>\n",
              "    </tr>\n",
              "    <tr>\n",
              "      <th>10</th>\n",
              "      <td>NaN</td>\n",
              "      <td>NaN</td>\n",
              "      <td>NaN</td>\n",
              "      <td>NaN</td>\n",
              "      <td>NaN</td>\n",
              "    </tr>\n",
              "  </tbody>\n",
              "</table>\n",
              "</div>"
            ],
            "text/plain": [
              "    Quantity        Asin  Invoice Amount  Item Promo Discount        Date\n",
              "0        1.0  B07TM3LRVB         1135.00                 0.00  2021-02-01\n",
              "1        1.0  B07TM3LRVB         1078.25               -56.75  2021-02-04\n",
              "2        1.0  B07TM3LRVB         1078.25               -56.75  2021-02-12\n",
              "3        1.0  B0849NLNTQ         1599.00                 0.00  2021-02-13\n",
              "4        1.0  B0849NLNTQ         1519.05               -79.95  2021-02-13\n",
              "5        1.0  B07KYFHTGF         1895.25               -99.75  2021-02-14\n",
              "6        1.0  B07TM3LRVB         1078.25               -56.75  2021-02-14\n",
              "7        1.0  B0849NLNTQ         1599.00                 0.00  2021-02-18\n",
              "8        1.0  B07TM3LRVB         1078.25               -56.75  2021-02-24\n",
              "9        NaN         NaN             NaN                  NaN         NaN\n",
              "10       NaN         NaN             NaN                  NaN         NaN"
            ]
          },
          "metadata": {
            "tags": []
          },
          "execution_count": 66
        }
      ]
    },
    {
      "cell_type": "code",
      "metadata": {
        "id": "pA7no7NhXx2J"
      },
      "source": [
        "df.dropna(how='all',inplace=True)"
      ],
      "execution_count": null,
      "outputs": []
    },
    {
      "cell_type": "code",
      "metadata": {
        "id": "YmHQ8JNEX1sy"
      },
      "source": [
        "df_1 = pd.DataFrame(df.groupby(['Date', 'Asin','Invoice Amount','Item Promo Discount'])['Quantity'].sum())"
      ],
      "execution_count": null,
      "outputs": []
    },
    {
      "cell_type": "code",
      "metadata": {
        "id": "26ioqGN_j0vP"
      },
      "source": [
        "df_1['Date'] = pd.to_datetime(df_1['Date'])"
      ],
      "execution_count": null,
      "outputs": []
    },
    {
      "cell_type": "code",
      "metadata": {
        "id": "KKBh7WXfYp5K"
      },
      "source": [
        "df_1 = df_1.reset_index()"
      ],
      "execution_count": null,
      "outputs": []
    },
    {
      "cell_type": "code",
      "metadata": {
        "colab": {
          "base_uri": "https://localhost:8080/",
          "height": 332
        },
        "id": "H1F4uf7TY4XK",
        "outputId": "2e1fcb79-c0b6-45b5-e585-6f567721e280"
      },
      "source": [
        "df_1"
      ],
      "execution_count": null,
      "outputs": [
        {
          "output_type": "execute_result",
          "data": {
            "text/html": [
              "<div>\n",
              "<style scoped>\n",
              "    .dataframe tbody tr th:only-of-type {\n",
              "        vertical-align: middle;\n",
              "    }\n",
              "\n",
              "    .dataframe tbody tr th {\n",
              "        vertical-align: top;\n",
              "    }\n",
              "\n",
              "    .dataframe thead th {\n",
              "        text-align: right;\n",
              "    }\n",
              "</style>\n",
              "<table border=\"1\" class=\"dataframe\">\n",
              "  <thead>\n",
              "    <tr style=\"text-align: right;\">\n",
              "      <th></th>\n",
              "      <th>Date</th>\n",
              "      <th>Asin</th>\n",
              "      <th>Invoice Amount</th>\n",
              "      <th>Item Promo Discount</th>\n",
              "      <th>Quantity</th>\n",
              "    </tr>\n",
              "  </thead>\n",
              "  <tbody>\n",
              "    <tr>\n",
              "      <th>0</th>\n",
              "      <td>2021-02-01</td>\n",
              "      <td>B07TM3LRVB</td>\n",
              "      <td>1135.00</td>\n",
              "      <td>0.00</td>\n",
              "      <td>1.0</td>\n",
              "    </tr>\n",
              "    <tr>\n",
              "      <th>1</th>\n",
              "      <td>2021-02-04</td>\n",
              "      <td>B07TM3LRVB</td>\n",
              "      <td>1078.25</td>\n",
              "      <td>-56.75</td>\n",
              "      <td>1.0</td>\n",
              "    </tr>\n",
              "    <tr>\n",
              "      <th>2</th>\n",
              "      <td>2021-02-12</td>\n",
              "      <td>B07TM3LRVB</td>\n",
              "      <td>1078.25</td>\n",
              "      <td>-56.75</td>\n",
              "      <td>1.0</td>\n",
              "    </tr>\n",
              "    <tr>\n",
              "      <th>3</th>\n",
              "      <td>2021-02-13</td>\n",
              "      <td>B0849NLNTQ</td>\n",
              "      <td>1519.05</td>\n",
              "      <td>-79.95</td>\n",
              "      <td>1.0</td>\n",
              "    </tr>\n",
              "    <tr>\n",
              "      <th>4</th>\n",
              "      <td>2021-02-13</td>\n",
              "      <td>B0849NLNTQ</td>\n",
              "      <td>1599.00</td>\n",
              "      <td>0.00</td>\n",
              "      <td>1.0</td>\n",
              "    </tr>\n",
              "    <tr>\n",
              "      <th>5</th>\n",
              "      <td>2021-02-14</td>\n",
              "      <td>B07KYFHTGF</td>\n",
              "      <td>1895.25</td>\n",
              "      <td>-99.75</td>\n",
              "      <td>1.0</td>\n",
              "    </tr>\n",
              "    <tr>\n",
              "      <th>6</th>\n",
              "      <td>2021-02-14</td>\n",
              "      <td>B07TM3LRVB</td>\n",
              "      <td>1078.25</td>\n",
              "      <td>-56.75</td>\n",
              "      <td>1.0</td>\n",
              "    </tr>\n",
              "    <tr>\n",
              "      <th>7</th>\n",
              "      <td>2021-02-18</td>\n",
              "      <td>B0849NLNTQ</td>\n",
              "      <td>1599.00</td>\n",
              "      <td>0.00</td>\n",
              "      <td>1.0</td>\n",
              "    </tr>\n",
              "    <tr>\n",
              "      <th>8</th>\n",
              "      <td>2021-02-24</td>\n",
              "      <td>B07TM3LRVB</td>\n",
              "      <td>1078.25</td>\n",
              "      <td>-56.75</td>\n",
              "      <td>1.0</td>\n",
              "    </tr>\n",
              "  </tbody>\n",
              "</table>\n",
              "</div>"
            ],
            "text/plain": [
              "         Date        Asin  Invoice Amount  Item Promo Discount  Quantity\n",
              "0  2021-02-01  B07TM3LRVB         1135.00                 0.00       1.0\n",
              "1  2021-02-04  B07TM3LRVB         1078.25               -56.75       1.0\n",
              "2  2021-02-12  B07TM3LRVB         1078.25               -56.75       1.0\n",
              "3  2021-02-13  B0849NLNTQ         1519.05               -79.95       1.0\n",
              "4  2021-02-13  B0849NLNTQ         1599.00                 0.00       1.0\n",
              "5  2021-02-14  B07KYFHTGF         1895.25               -99.75       1.0\n",
              "6  2021-02-14  B07TM3LRVB         1078.25               -56.75       1.0\n",
              "7  2021-02-18  B0849NLNTQ         1599.00                 0.00       1.0\n",
              "8  2021-02-24  B07TM3LRVB         1078.25               -56.75       1.0"
            ]
          },
          "metadata": {
            "tags": []
          },
          "execution_count": 71
        }
      ]
    },
    {
      "cell_type": "code",
      "metadata": {
        "id": "Kbp-2y8ggomg"
      },
      "source": [
        "df_2 = df_1.set_index('Date')"
      ],
      "execution_count": null,
      "outputs": []
    },
    {
      "cell_type": "code",
      "metadata": {
        "colab": {
          "base_uri": "https://localhost:8080/"
        },
        "id": "Yh9oCtytkSe-",
        "outputId": "cdd984d4-0a18-499f-cc16-808382f2db39"
      },
      "source": [
        "df_2.loc['2021-02-12']"
      ],
      "execution_count": null,
      "outputs": [
        {
          "output_type": "execute_result",
          "data": {
            "text/plain": [
              "Asin                   B07TM3LRVB\n",
              "Invoice Amount            1078.25\n",
              "Item Promo Discount        -56.75\n",
              "Quantity                        1\n",
              "Name: 2021-02-12 00:00:00, dtype: object"
            ]
          },
          "metadata": {
            "tags": []
          },
          "execution_count": 105
        }
      ]
    },
    {
      "cell_type": "code",
      "metadata": {
        "colab": {
          "base_uri": "https://localhost:8080/",
          "height": 36
        },
        "id": "KreYsjmyggr5",
        "outputId": "0cfdae2e-7625-4221-d46f-96560510bdb0"
      },
      "source": [
        "df_2.loc['2021-02-12']['Asin']"
      ],
      "execution_count": null,
      "outputs": [
        {
          "output_type": "execute_result",
          "data": {
            "application/vnd.google.colaboratory.intrinsic+json": {
              "type": "string"
            },
            "text/plain": [
              "'B07TM3LRVB'"
            ]
          },
          "metadata": {
            "tags": []
          },
          "execution_count": 106
        }
      ]
    },
    {
      "cell_type": "markdown",
      "metadata": {
        "id": "_p_2tTjGJOzb"
      },
      "source": [
        "##### Using a different dataframe"
      ]
    },
    {
      "cell_type": "markdown",
      "metadata": {
        "id": "YDmcoyDHJ-pR"
      },
      "source": [
        "**Item promo can lead to data_leakage, we might have to remove it and then get the dates in which we had coupons and ads in amazon, then use that**"
      ]
    },
    {
      "cell_type": "code",
      "metadata": {
        "id": "LZ8ku7vhlakE"
      },
      "source": [
        "df_new = df_dicts[2]\n",
        "df_new_1 = df_new.copy()"
      ],
      "execution_count": null,
      "outputs": []
    },
    {
      "cell_type": "code",
      "metadata": {
        "id": "6v5A3VSIJTEv"
      },
      "source": [
        "df_new_1['date'] = df_new['Order Date'].dt.date"
      ],
      "execution_count": null,
      "outputs": []
    },
    {
      "cell_type": "code",
      "metadata": {
        "id": "ljSlL6FcUCz-"
      },
      "source": [
        "df_new  = df_new_1.drop(['Order Date'],axis=1)"
      ],
      "execution_count": null,
      "outputs": []
    },
    {
      "cell_type": "code",
      "metadata": {
        "colab": {
          "base_uri": "https://localhost:8080/",
          "height": 424
        },
        "id": "4_8qKGBdUbcX",
        "outputId": "0f9818a8-3d11-4e2e-e46f-88b1f25dcf00"
      },
      "source": [
        "df_new"
      ],
      "execution_count": null,
      "outputs": [
        {
          "output_type": "execute_result",
          "data": {
            "text/html": [
              "<div>\n",
              "<style scoped>\n",
              "    .dataframe tbody tr th:only-of-type {\n",
              "        vertical-align: middle;\n",
              "    }\n",
              "\n",
              "    .dataframe tbody tr th {\n",
              "        vertical-align: top;\n",
              "    }\n",
              "\n",
              "    .dataframe thead th {\n",
              "        text-align: right;\n",
              "    }\n",
              "</style>\n",
              "<table border=\"1\" class=\"dataframe\">\n",
              "  <thead>\n",
              "    <tr style=\"text-align: right;\">\n",
              "      <th></th>\n",
              "      <th>Quantity</th>\n",
              "      <th>Asin</th>\n",
              "      <th>Invoice Amount</th>\n",
              "      <th>Item Promo Discount</th>\n",
              "      <th>date</th>\n",
              "    </tr>\n",
              "  </thead>\n",
              "  <tbody>\n",
              "    <tr>\n",
              "      <th>0</th>\n",
              "      <td>1</td>\n",
              "      <td>B07TM3LRVB</td>\n",
              "      <td>-1135.00</td>\n",
              "      <td>0.00</td>\n",
              "      <td>2020-12-28</td>\n",
              "    </tr>\n",
              "    <tr>\n",
              "      <th>1</th>\n",
              "      <td>1</td>\n",
              "      <td>B07TM3LRVB</td>\n",
              "      <td>-1135.00</td>\n",
              "      <td>0.00</td>\n",
              "      <td>2020-12-25</td>\n",
              "    </tr>\n",
              "    <tr>\n",
              "      <th>2</th>\n",
              "      <td>1</td>\n",
              "      <td>B07TM3LRVB</td>\n",
              "      <td>-1135.00</td>\n",
              "      <td>0.00</td>\n",
              "      <td>2020-12-28</td>\n",
              "    </tr>\n",
              "    <tr>\n",
              "      <th>3</th>\n",
              "      <td>1</td>\n",
              "      <td>B07TM3LRVB</td>\n",
              "      <td>-1135.00</td>\n",
              "      <td>0.00</td>\n",
              "      <td>2020-12-23</td>\n",
              "    </tr>\n",
              "    <tr>\n",
              "      <th>4</th>\n",
              "      <td>1</td>\n",
              "      <td>B07TM3LRVB</td>\n",
              "      <td>-1135.00</td>\n",
              "      <td>0.00</td>\n",
              "      <td>2020-12-18</td>\n",
              "    </tr>\n",
              "    <tr>\n",
              "      <th>...</th>\n",
              "      <td>...</td>\n",
              "      <td>...</td>\n",
              "      <td>...</td>\n",
              "      <td>...</td>\n",
              "      <td>...</td>\n",
              "    </tr>\n",
              "    <tr>\n",
              "      <th>926</th>\n",
              "      <td>1</td>\n",
              "      <td>B07TM3LRVB</td>\n",
              "      <td>1078.25</td>\n",
              "      <td>-56.75</td>\n",
              "      <td>2021-01-31</td>\n",
              "    </tr>\n",
              "    <tr>\n",
              "      <th>927</th>\n",
              "      <td>1</td>\n",
              "      <td>B08332221J</td>\n",
              "      <td>1424.05</td>\n",
              "      <td>-74.95</td>\n",
              "      <td>2021-01-31</td>\n",
              "    </tr>\n",
              "    <tr>\n",
              "      <th>928</th>\n",
              "      <td>1</td>\n",
              "      <td>B0849NLNTQ</td>\n",
              "      <td>1599.00</td>\n",
              "      <td>0.00</td>\n",
              "      <td>2021-01-31</td>\n",
              "    </tr>\n",
              "    <tr>\n",
              "      <th>929</th>\n",
              "      <td>1</td>\n",
              "      <td>B07TM3LRVB</td>\n",
              "      <td>1078.25</td>\n",
              "      <td>-56.75</td>\n",
              "      <td>2021-01-31</td>\n",
              "    </tr>\n",
              "    <tr>\n",
              "      <th>930</th>\n",
              "      <td>1</td>\n",
              "      <td>B0859B5J8T</td>\n",
              "      <td>499.00</td>\n",
              "      <td>0.00</td>\n",
              "      <td>2021-01-31</td>\n",
              "    </tr>\n",
              "  </tbody>\n",
              "</table>\n",
              "<p>931 rows × 5 columns</p>\n",
              "</div>"
            ],
            "text/plain": [
              "     Quantity        Asin  Invoice Amount  Item Promo Discount        date\n",
              "0           1  B07TM3LRVB        -1135.00                 0.00  2020-12-28\n",
              "1           1  B07TM3LRVB        -1135.00                 0.00  2020-12-25\n",
              "2           1  B07TM3LRVB        -1135.00                 0.00  2020-12-28\n",
              "3           1  B07TM3LRVB        -1135.00                 0.00  2020-12-23\n",
              "4           1  B07TM3LRVB        -1135.00                 0.00  2020-12-18\n",
              "..        ...         ...             ...                  ...         ...\n",
              "926         1  B07TM3LRVB         1078.25               -56.75  2021-01-31\n",
              "927         1  B08332221J         1424.05               -74.95  2021-01-31\n",
              "928         1  B0849NLNTQ         1599.00                 0.00  2021-01-31\n",
              "929         1  B07TM3LRVB         1078.25               -56.75  2021-01-31\n",
              "930         1  B0859B5J8T          499.00                 0.00  2021-01-31\n",
              "\n",
              "[931 rows x 5 columns]"
            ]
          },
          "metadata": {
            "tags": []
          },
          "execution_count": 11
        }
      ]
    },
    {
      "cell_type": "code",
      "metadata": {
        "colab": {
          "base_uri": "https://localhost:8080/"
        },
        "id": "11dt5GT2Ut7e",
        "outputId": "8d218eeb-fd16-4eef-f9a0-2bff5db856e2"
      },
      "source": [
        "asin_list = df_new.Asin.unique()\n",
        "asin_list"
      ],
      "execution_count": null,
      "outputs": [
        {
          "output_type": "execute_result",
          "data": {
            "text/plain": [
              "array(['B07TM3LRVB', 'B0849NLNTQ', 'B08332221J', 'B07MK32L49', 'B08976V1BZ', 'B0859193NJ', 'B07TJ1HDTM', 'B0858X26QM', 'B07KYFHTGF', 'B0859B5J8T', 'B0897LPBHR', 'B084JJWJ31', 'B07W1YYQ9G',\n",
              "       'B07ZBCTB9N', 'B07S8NC532', 'B07YC69QKT', 'B07Z7QX6ST'], dtype=object)"
            ]
          },
          "metadata": {
            "tags": []
          },
          "execution_count": 12
        }
      ]
    },
    {
      "cell_type": "code",
      "metadata": {
        "id": "D0Wu0v_mUR25"
      },
      "source": [
        "df_asin = pd.DataFrame()"
      ],
      "execution_count": null,
      "outputs": []
    },
    {
      "cell_type": "code",
      "metadata": {
        "colab": {
          "base_uri": "https://localhost:8080/"
        },
        "id": "0FTfAuDRVKx6",
        "outputId": "b52ffdee-6a06-48e4-a3c8-cc5df4ca5d1b"
      },
      "source": [
        "df_new.dtypes"
      ],
      "execution_count": null,
      "outputs": [
        {
          "output_type": "execute_result",
          "data": {
            "text/plain": [
              "Quantity                 int64\n",
              "Asin                    object\n",
              "Invoice Amount         float64\n",
              "Item Promo Discount    float64\n",
              "date                    object\n",
              "dtype: object"
            ]
          },
          "metadata": {
            "tags": []
          },
          "execution_count": 14
        }
      ]
    },
    {
      "cell_type": "code",
      "metadata": {
        "id": "tRyU-MLIVuWH"
      },
      "source": [
        "df_new['date'] = pd.to_datetime(df_new['date'])"
      ],
      "execution_count": null,
      "outputs": []
    },
    {
      "cell_type": "code",
      "metadata": {
        "colab": {
          "base_uri": "https://localhost:8080/"
        },
        "id": "RJ9HCRLNVzie",
        "outputId": "75bda471-3e30-4076-e625-223d821c75d1"
      },
      "source": [
        "\n",
        "df_new.dtypes"
      ],
      "execution_count": null,
      "outputs": [
        {
          "output_type": "execute_result",
          "data": {
            "text/plain": [
              "Quantity                        int64\n",
              "Asin                           object\n",
              "Invoice Amount                float64\n",
              "Item Promo Discount           float64\n",
              "date                   datetime64[ns]\n",
              "dtype: object"
            ]
          },
          "metadata": {
            "tags": []
          },
          "execution_count": 16
        }
      ]
    },
    {
      "cell_type": "markdown",
      "metadata": {
        "id": "Urm9_MBuXW5t"
      },
      "source": [
        "##### Removing refund and returns"
      ]
    },
    {
      "cell_type": "code",
      "metadata": {
        "colab": {
          "base_uri": "https://localhost:8080/",
          "height": 206
        },
        "id": "5d24KtOKV2YX",
        "outputId": "97998303-b380-4a03-c18e-32ffdf0b7021"
      },
      "source": [
        "df_new.head()"
      ],
      "execution_count": null,
      "outputs": [
        {
          "output_type": "execute_result",
          "data": {
            "text/html": [
              "<div>\n",
              "<style scoped>\n",
              "    .dataframe tbody tr th:only-of-type {\n",
              "        vertical-align: middle;\n",
              "    }\n",
              "\n",
              "    .dataframe tbody tr th {\n",
              "        vertical-align: top;\n",
              "    }\n",
              "\n",
              "    .dataframe thead th {\n",
              "        text-align: right;\n",
              "    }\n",
              "</style>\n",
              "<table border=\"1\" class=\"dataframe\">\n",
              "  <thead>\n",
              "    <tr style=\"text-align: right;\">\n",
              "      <th></th>\n",
              "      <th>Quantity</th>\n",
              "      <th>Asin</th>\n",
              "      <th>Invoice Amount</th>\n",
              "      <th>Item Promo Discount</th>\n",
              "      <th>date</th>\n",
              "    </tr>\n",
              "  </thead>\n",
              "  <tbody>\n",
              "    <tr>\n",
              "      <th>0</th>\n",
              "      <td>1</td>\n",
              "      <td>B07TM3LRVB</td>\n",
              "      <td>-1135.0</td>\n",
              "      <td>0.0</td>\n",
              "      <td>2020-12-28</td>\n",
              "    </tr>\n",
              "    <tr>\n",
              "      <th>1</th>\n",
              "      <td>1</td>\n",
              "      <td>B07TM3LRVB</td>\n",
              "      <td>-1135.0</td>\n",
              "      <td>0.0</td>\n",
              "      <td>2020-12-25</td>\n",
              "    </tr>\n",
              "    <tr>\n",
              "      <th>2</th>\n",
              "      <td>1</td>\n",
              "      <td>B07TM3LRVB</td>\n",
              "      <td>-1135.0</td>\n",
              "      <td>0.0</td>\n",
              "      <td>2020-12-28</td>\n",
              "    </tr>\n",
              "    <tr>\n",
              "      <th>3</th>\n",
              "      <td>1</td>\n",
              "      <td>B07TM3LRVB</td>\n",
              "      <td>-1135.0</td>\n",
              "      <td>0.0</td>\n",
              "      <td>2020-12-23</td>\n",
              "    </tr>\n",
              "    <tr>\n",
              "      <th>4</th>\n",
              "      <td>1</td>\n",
              "      <td>B07TM3LRVB</td>\n",
              "      <td>-1135.0</td>\n",
              "      <td>0.0</td>\n",
              "      <td>2020-12-18</td>\n",
              "    </tr>\n",
              "  </tbody>\n",
              "</table>\n",
              "</div>"
            ],
            "text/plain": [
              "   Quantity        Asin  Invoice Amount  Item Promo Discount       date\n",
              "0         1  B07TM3LRVB         -1135.0                  0.0 2020-12-28\n",
              "1         1  B07TM3LRVB         -1135.0                  0.0 2020-12-25\n",
              "2         1  B07TM3LRVB         -1135.0                  0.0 2020-12-28\n",
              "3         1  B07TM3LRVB         -1135.0                  0.0 2020-12-23\n",
              "4         1  B07TM3LRVB         -1135.0                  0.0 2020-12-18"
            ]
          },
          "metadata": {
            "tags": []
          },
          "execution_count": 17
        }
      ]
    },
    {
      "cell_type": "code",
      "metadata": {
        "id": "owwy6RaGXjW8"
      },
      "source": [
        "cond = df_new['Invoice Amount'] > 0\n",
        "\n",
        "df_new_2  = df_new.where(cond)\n",
        "df_new_2.dropna(how='all',inplace = True)"
      ],
      "execution_count": null,
      "outputs": []
    },
    {
      "cell_type": "code",
      "metadata": {
        "colab": {
          "base_uri": "https://localhost:8080/",
          "height": 206
        },
        "id": "4TvF4W96YQXC",
        "outputId": "1bd7d18e-815d-4f8e-c7f2-407affce2c5c"
      },
      "source": [
        "df_new_2.head()\n"
      ],
      "execution_count": null,
      "outputs": [
        {
          "output_type": "execute_result",
          "data": {
            "text/html": [
              "<div>\n",
              "<style scoped>\n",
              "    .dataframe tbody tr th:only-of-type {\n",
              "        vertical-align: middle;\n",
              "    }\n",
              "\n",
              "    .dataframe tbody tr th {\n",
              "        vertical-align: top;\n",
              "    }\n",
              "\n",
              "    .dataframe thead th {\n",
              "        text-align: right;\n",
              "    }\n",
              "</style>\n",
              "<table border=\"1\" class=\"dataframe\">\n",
              "  <thead>\n",
              "    <tr style=\"text-align: right;\">\n",
              "      <th></th>\n",
              "      <th>Quantity</th>\n",
              "      <th>Asin</th>\n",
              "      <th>Invoice Amount</th>\n",
              "      <th>Item Promo Discount</th>\n",
              "      <th>date</th>\n",
              "    </tr>\n",
              "  </thead>\n",
              "  <tbody>\n",
              "    <tr>\n",
              "      <th>22</th>\n",
              "      <td>1.0</td>\n",
              "      <td>B07TM3LRVB</td>\n",
              "      <td>1135.0</td>\n",
              "      <td>0.0</td>\n",
              "      <td>2020-12-31</td>\n",
              "    </tr>\n",
              "    <tr>\n",
              "      <th>23</th>\n",
              "      <td>1.0</td>\n",
              "      <td>B07TM3LRVB</td>\n",
              "      <td>1135.0</td>\n",
              "      <td>0.0</td>\n",
              "      <td>2021-01-01</td>\n",
              "    </tr>\n",
              "    <tr>\n",
              "      <th>24</th>\n",
              "      <td>1.0</td>\n",
              "      <td>B08332221J</td>\n",
              "      <td>1499.0</td>\n",
              "      <td>0.0</td>\n",
              "      <td>2021-01-01</td>\n",
              "    </tr>\n",
              "    <tr>\n",
              "      <th>25</th>\n",
              "      <td>1.0</td>\n",
              "      <td>B07TM3LRVB</td>\n",
              "      <td>1135.0</td>\n",
              "      <td>0.0</td>\n",
              "      <td>2021-01-01</td>\n",
              "    </tr>\n",
              "    <tr>\n",
              "      <th>26</th>\n",
              "      <td>1.0</td>\n",
              "      <td>B07TM3LRVB</td>\n",
              "      <td>1135.0</td>\n",
              "      <td>0.0</td>\n",
              "      <td>2021-01-01</td>\n",
              "    </tr>\n",
              "  </tbody>\n",
              "</table>\n",
              "</div>"
            ],
            "text/plain": [
              "    Quantity        Asin  Invoice Amount  Item Promo Discount       date\n",
              "22       1.0  B07TM3LRVB          1135.0                  0.0 2020-12-31\n",
              "23       1.0  B07TM3LRVB          1135.0                  0.0 2021-01-01\n",
              "24       1.0  B08332221J          1499.0                  0.0 2021-01-01\n",
              "25       1.0  B07TM3LRVB          1135.0                  0.0 2021-01-01\n",
              "26       1.0  B07TM3LRVB          1135.0                  0.0 2021-01-01"
            ]
          },
          "metadata": {
            "tags": []
          },
          "execution_count": 19
        }
      ]
    },
    {
      "cell_type": "code",
      "metadata": {
        "colab": {
          "base_uri": "https://localhost:8080/"
        },
        "id": "9q-uQDZNYICu",
        "outputId": "dadd366b-ff6f-48fd-a97c-2b483960dd5e"
      },
      "source": [
        "df_new.shape"
      ],
      "execution_count": null,
      "outputs": [
        {
          "output_type": "execute_result",
          "data": {
            "text/plain": [
              "(931, 5)"
            ]
          },
          "metadata": {
            "tags": []
          },
          "execution_count": 20
        }
      ]
    },
    {
      "cell_type": "code",
      "metadata": {
        "colab": {
          "base_uri": "https://localhost:8080/"
        },
        "id": "Y3gP2q_HYE5j",
        "outputId": "8eddacf6-1500-42bc-d64f-dc0037bb041a"
      },
      "source": [
        "df_new_2.shape"
      ],
      "execution_count": null,
      "outputs": [
        {
          "output_type": "execute_result",
          "data": {
            "text/plain": [
              "(760, 5)"
            ]
          },
          "metadata": {
            "tags": []
          },
          "execution_count": 21
        }
      ]
    },
    {
      "cell_type": "code",
      "metadata": {
        "id": "D1eU7LvHYKfR"
      },
      "source": [
        "max_date = max(df_new_2['date']) \n",
        "min_date = (min(df_new_2['date']))"
      ],
      "execution_count": null,
      "outputs": []
    },
    {
      "cell_type": "code",
      "metadata": {
        "colab": {
          "base_uri": "https://localhost:8080/",
          "height": 81
        },
        "id": "3O4QBZCFYWDY",
        "outputId": "03a3bec3-d17a-40d6-b5d8-54842b195af0"
      },
      "source": [
        "df_new_2.loc[df_new_2['date']== '2020-12-31 ']"
      ],
      "execution_count": null,
      "outputs": [
        {
          "output_type": "execute_result",
          "data": {
            "text/html": [
              "<div>\n",
              "<style scoped>\n",
              "    .dataframe tbody tr th:only-of-type {\n",
              "        vertical-align: middle;\n",
              "    }\n",
              "\n",
              "    .dataframe tbody tr th {\n",
              "        vertical-align: top;\n",
              "    }\n",
              "\n",
              "    .dataframe thead th {\n",
              "        text-align: right;\n",
              "    }\n",
              "</style>\n",
              "<table border=\"1\" class=\"dataframe\">\n",
              "  <thead>\n",
              "    <tr style=\"text-align: right;\">\n",
              "      <th></th>\n",
              "      <th>Quantity</th>\n",
              "      <th>Asin</th>\n",
              "      <th>Invoice Amount</th>\n",
              "      <th>Item Promo Discount</th>\n",
              "      <th>date</th>\n",
              "    </tr>\n",
              "  </thead>\n",
              "  <tbody>\n",
              "    <tr>\n",
              "      <th>22</th>\n",
              "      <td>1.0</td>\n",
              "      <td>B07TM3LRVB</td>\n",
              "      <td>1135.0</td>\n",
              "      <td>0.0</td>\n",
              "      <td>2020-12-31</td>\n",
              "    </tr>\n",
              "  </tbody>\n",
              "</table>\n",
              "</div>"
            ],
            "text/plain": [
              "    Quantity        Asin  Invoice Amount  Item Promo Discount       date\n",
              "22       1.0  B07TM3LRVB          1135.0                  0.0 2020-12-31"
            ]
          },
          "metadata": {
            "tags": []
          },
          "execution_count": 23
        }
      ]
    },
    {
      "cell_type": "code",
      "metadata": {
        "id": "WksGLw78ZEVN"
      },
      "source": [
        "# finding all the dates btw max and min\n",
        "\n",
        "date_list  = pd.date_range(min_date,max_date)"
      ],
      "execution_count": null,
      "outputs": []
    },
    {
      "cell_type": "code",
      "metadata": {
        "id": "-7LS6DuCcyb7"
      },
      "source": [
        "df_asin = pd.DataFrame(columns = ['date', 'Asin'])"
      ],
      "execution_count": null,
      "outputs": []
    },
    {
      "cell_type": "code",
      "metadata": {
        "colab": {
          "base_uri": "https://localhost:8080/",
          "height": 49
        },
        "id": "2x2PGtZTgyQB",
        "outputId": "ab9dd8bb-ed7f-44d5-ad5c-4db635ed9cc2"
      },
      "source": [
        "df_asin"
      ],
      "execution_count": null,
      "outputs": [
        {
          "output_type": "execute_result",
          "data": {
            "text/html": [
              "<div>\n",
              "<style scoped>\n",
              "    .dataframe tbody tr th:only-of-type {\n",
              "        vertical-align: middle;\n",
              "    }\n",
              "\n",
              "    .dataframe tbody tr th {\n",
              "        vertical-align: top;\n",
              "    }\n",
              "\n",
              "    .dataframe thead th {\n",
              "        text-align: right;\n",
              "    }\n",
              "</style>\n",
              "<table border=\"1\" class=\"dataframe\">\n",
              "  <thead>\n",
              "    <tr style=\"text-align: right;\">\n",
              "      <th></th>\n",
              "      <th>date</th>\n",
              "      <th>Asin</th>\n",
              "    </tr>\n",
              "  </thead>\n",
              "  <tbody>\n",
              "  </tbody>\n",
              "</table>\n",
              "</div>"
            ],
            "text/plain": [
              "Empty DataFrame\n",
              "Columns: [date, Asin]\n",
              "Index: []"
            ]
          },
          "metadata": {
            "tags": []
          },
          "execution_count": 37
        }
      ]
    },
    {
      "cell_type": "code",
      "metadata": {
        "id": "Je38CwPpU8zd"
      },
      "source": [
        "index = 0\n",
        "while True:\n",
        "\n",
        "  for date in (date_list) :\n",
        "    for asin in (asin_list):\n",
        "      df_asin.loc[index] = [date,asin]\n",
        "      index = index + 1\n",
        "\n",
        "  break    "
      ],
      "execution_count": null,
      "outputs": []
    },
    {
      "cell_type": "code",
      "metadata": {
        "colab": {
          "base_uri": "https://localhost:8080/",
          "height": 206
        },
        "id": "WDct8XB2bFNZ",
        "outputId": "eb7e835c-f4f8-4443-ab2a-6b9dc51c7659"
      },
      "source": [
        "df_1 = df_asin.head(5)\n",
        "df_1"
      ],
      "execution_count": null,
      "outputs": [
        {
          "output_type": "execute_result",
          "data": {
            "text/html": [
              "<div>\n",
              "<style scoped>\n",
              "    .dataframe tbody tr th:only-of-type {\n",
              "        vertical-align: middle;\n",
              "    }\n",
              "\n",
              "    .dataframe tbody tr th {\n",
              "        vertical-align: top;\n",
              "    }\n",
              "\n",
              "    .dataframe thead th {\n",
              "        text-align: right;\n",
              "    }\n",
              "</style>\n",
              "<table border=\"1\" class=\"dataframe\">\n",
              "  <thead>\n",
              "    <tr style=\"text-align: right;\">\n",
              "      <th></th>\n",
              "      <th>date</th>\n",
              "      <th>Asin</th>\n",
              "    </tr>\n",
              "  </thead>\n",
              "  <tbody>\n",
              "    <tr>\n",
              "      <th>0</th>\n",
              "      <td>2020-12-31</td>\n",
              "      <td>B07TM3LRVB</td>\n",
              "    </tr>\n",
              "    <tr>\n",
              "      <th>1</th>\n",
              "      <td>2020-12-31</td>\n",
              "      <td>B0849NLNTQ</td>\n",
              "    </tr>\n",
              "    <tr>\n",
              "      <th>2</th>\n",
              "      <td>2020-12-31</td>\n",
              "      <td>B08332221J</td>\n",
              "    </tr>\n",
              "    <tr>\n",
              "      <th>3</th>\n",
              "      <td>2020-12-31</td>\n",
              "      <td>B07MK32L49</td>\n",
              "    </tr>\n",
              "    <tr>\n",
              "      <th>4</th>\n",
              "      <td>2020-12-31</td>\n",
              "      <td>B08976V1BZ</td>\n",
              "    </tr>\n",
              "  </tbody>\n",
              "</table>\n",
              "</div>"
            ],
            "text/plain": [
              "        date        Asin\n",
              "0 2020-12-31  B07TM3LRVB\n",
              "1 2020-12-31  B0849NLNTQ\n",
              "2 2020-12-31  B08332221J\n",
              "3 2020-12-31  B07MK32L49\n",
              "4 2020-12-31  B08976V1BZ"
            ]
          },
          "metadata": {
            "tags": []
          },
          "execution_count": 82
        }
      ]
    },
    {
      "cell_type": "code",
      "metadata": {
        "colab": {
          "base_uri": "https://localhost:8080/",
          "height": 206
        },
        "id": "kJYAxMIthMBc",
        "outputId": "8421c353-dc9b-46df-89e9-5814b2ff4a20"
      },
      "source": [
        "df_2 = df_new_2.head(5)\n",
        "df_2"
      ],
      "execution_count": null,
      "outputs": [
        {
          "output_type": "execute_result",
          "data": {
            "text/html": [
              "<div>\n",
              "<style scoped>\n",
              "    .dataframe tbody tr th:only-of-type {\n",
              "        vertical-align: middle;\n",
              "    }\n",
              "\n",
              "    .dataframe tbody tr th {\n",
              "        vertical-align: top;\n",
              "    }\n",
              "\n",
              "    .dataframe thead th {\n",
              "        text-align: right;\n",
              "    }\n",
              "</style>\n",
              "<table border=\"1\" class=\"dataframe\">\n",
              "  <thead>\n",
              "    <tr style=\"text-align: right;\">\n",
              "      <th></th>\n",
              "      <th>Quantity</th>\n",
              "      <th>Asin</th>\n",
              "      <th>Invoice Amount</th>\n",
              "      <th>Item Promo Discount</th>\n",
              "      <th>date</th>\n",
              "    </tr>\n",
              "  </thead>\n",
              "  <tbody>\n",
              "    <tr>\n",
              "      <th>22</th>\n",
              "      <td>1.0</td>\n",
              "      <td>B07TM3LRVB</td>\n",
              "      <td>1135.0</td>\n",
              "      <td>0.0</td>\n",
              "      <td>2020-12-31</td>\n",
              "    </tr>\n",
              "    <tr>\n",
              "      <th>23</th>\n",
              "      <td>1.0</td>\n",
              "      <td>B07TM3LRVB</td>\n",
              "      <td>1135.0</td>\n",
              "      <td>0.0</td>\n",
              "      <td>2021-01-01</td>\n",
              "    </tr>\n",
              "    <tr>\n",
              "      <th>24</th>\n",
              "      <td>1.0</td>\n",
              "      <td>B08332221J</td>\n",
              "      <td>1499.0</td>\n",
              "      <td>0.0</td>\n",
              "      <td>2021-01-01</td>\n",
              "    </tr>\n",
              "    <tr>\n",
              "      <th>25</th>\n",
              "      <td>1.0</td>\n",
              "      <td>B07TM3LRVB</td>\n",
              "      <td>1135.0</td>\n",
              "      <td>0.0</td>\n",
              "      <td>2021-01-01</td>\n",
              "    </tr>\n",
              "    <tr>\n",
              "      <th>26</th>\n",
              "      <td>1.0</td>\n",
              "      <td>B07TM3LRVB</td>\n",
              "      <td>1135.0</td>\n",
              "      <td>0.0</td>\n",
              "      <td>2021-01-01</td>\n",
              "    </tr>\n",
              "  </tbody>\n",
              "</table>\n",
              "</div>"
            ],
            "text/plain": [
              "    Quantity        Asin  Invoice Amount  Item Promo Discount       date\n",
              "22       1.0  B07TM3LRVB          1135.0                  0.0 2020-12-31\n",
              "23       1.0  B07TM3LRVB          1135.0                  0.0 2021-01-01\n",
              "24       1.0  B08332221J          1499.0                  0.0 2021-01-01\n",
              "25       1.0  B07TM3LRVB          1135.0                  0.0 2021-01-01\n",
              "26       1.0  B07TM3LRVB          1135.0                  0.0 2021-01-01"
            ]
          },
          "metadata": {
            "tags": []
          },
          "execution_count": 83
        }
      ]
    },
    {
      "cell_type": "code",
      "metadata": {
        "colab": {
          "base_uri": "https://localhost:8080/",
          "height": 220
        },
        "id": "CAb4PdhIgjaa",
        "outputId": "e8ef8e34-3a89-4294-c05e-4e7e6432f743"
      },
      "source": [
        "df_1_index = df_1.set_index(['date','Asin'])\n",
        "df_1_index.head()"
      ],
      "execution_count": null,
      "outputs": [
        {
          "output_type": "execute_result",
          "data": {
            "text/html": [
              "<div>\n",
              "<style scoped>\n",
              "    .dataframe tbody tr th:only-of-type {\n",
              "        vertical-align: middle;\n",
              "    }\n",
              "\n",
              "    .dataframe tbody tr th {\n",
              "        vertical-align: top;\n",
              "    }\n",
              "\n",
              "    .dataframe thead th {\n",
              "        text-align: right;\n",
              "    }\n",
              "</style>\n",
              "<table border=\"1\" class=\"dataframe\">\n",
              "  <thead>\n",
              "    <tr style=\"text-align: right;\">\n",
              "      <th></th>\n",
              "      <th></th>\n",
              "    </tr>\n",
              "    <tr>\n",
              "      <th>date</th>\n",
              "      <th>Asin</th>\n",
              "    </tr>\n",
              "  </thead>\n",
              "  <tbody>\n",
              "    <tr>\n",
              "      <th rowspan=\"5\" valign=\"top\">2020-12-31</th>\n",
              "      <th>B07TM3LRVB</th>\n",
              "    </tr>\n",
              "    <tr>\n",
              "      <th>B0849NLNTQ</th>\n",
              "    </tr>\n",
              "    <tr>\n",
              "      <th>B08332221J</th>\n",
              "    </tr>\n",
              "    <tr>\n",
              "      <th>B07MK32L49</th>\n",
              "    </tr>\n",
              "    <tr>\n",
              "      <th>B08976V1BZ</th>\n",
              "    </tr>\n",
              "  </tbody>\n",
              "</table>\n",
              "</div>"
            ],
            "text/plain": [
              "Empty DataFrame\n",
              "Columns: []\n",
              "Index: [(2020-12-31 00:00:00, B07TM3LRVB), (2020-12-31 00:00:00, B0849NLNTQ), (2020-12-31 00:00:00, B08332221J), (2020-12-31 00:00:00, B07MK32L49), (2020-12-31 00:00:00, B08976V1BZ)]"
            ]
          },
          "metadata": {
            "tags": []
          },
          "execution_count": 42
        }
      ]
    },
    {
      "cell_type": "code",
      "metadata": {
        "colab": {
          "base_uri": "https://localhost:8080/",
          "height": 238
        },
        "id": "IXf1paLHgjhl",
        "outputId": "495c2d8a-8880-4ad0-ea09-cc24b2b3fce4"
      },
      "source": [
        "df_2_index = df_2.set_index(['date','Asin'])\n",
        "df_2_index"
      ],
      "execution_count": null,
      "outputs": [
        {
          "output_type": "execute_result",
          "data": {
            "text/html": [
              "<div>\n",
              "<style scoped>\n",
              "    .dataframe tbody tr th:only-of-type {\n",
              "        vertical-align: middle;\n",
              "    }\n",
              "\n",
              "    .dataframe tbody tr th {\n",
              "        vertical-align: top;\n",
              "    }\n",
              "\n",
              "    .dataframe thead th {\n",
              "        text-align: right;\n",
              "    }\n",
              "</style>\n",
              "<table border=\"1\" class=\"dataframe\">\n",
              "  <thead>\n",
              "    <tr style=\"text-align: right;\">\n",
              "      <th></th>\n",
              "      <th></th>\n",
              "      <th>Quantity</th>\n",
              "      <th>Invoice Amount</th>\n",
              "      <th>Item Promo Discount</th>\n",
              "    </tr>\n",
              "    <tr>\n",
              "      <th>date</th>\n",
              "      <th>Asin</th>\n",
              "      <th></th>\n",
              "      <th></th>\n",
              "      <th></th>\n",
              "    </tr>\n",
              "  </thead>\n",
              "  <tbody>\n",
              "    <tr>\n",
              "      <th>2020-12-31</th>\n",
              "      <th>B07TM3LRVB</th>\n",
              "      <td>1.0</td>\n",
              "      <td>1135.0</td>\n",
              "      <td>0.0</td>\n",
              "    </tr>\n",
              "    <tr>\n",
              "      <th rowspan=\"4\" valign=\"top\">2021-01-01</th>\n",
              "      <th>B07TM3LRVB</th>\n",
              "      <td>1.0</td>\n",
              "      <td>1135.0</td>\n",
              "      <td>0.0</td>\n",
              "    </tr>\n",
              "    <tr>\n",
              "      <th>B08332221J</th>\n",
              "      <td>1.0</td>\n",
              "      <td>1499.0</td>\n",
              "      <td>0.0</td>\n",
              "    </tr>\n",
              "    <tr>\n",
              "      <th>B07TM3LRVB</th>\n",
              "      <td>1.0</td>\n",
              "      <td>1135.0</td>\n",
              "      <td>0.0</td>\n",
              "    </tr>\n",
              "    <tr>\n",
              "      <th>B07TM3LRVB</th>\n",
              "      <td>1.0</td>\n",
              "      <td>1135.0</td>\n",
              "      <td>0.0</td>\n",
              "    </tr>\n",
              "  </tbody>\n",
              "</table>\n",
              "</div>"
            ],
            "text/plain": [
              "                       Quantity  Invoice Amount  Item Promo Discount\n",
              "date       Asin                                                     \n",
              "2020-12-31 B07TM3LRVB       1.0          1135.0                  0.0\n",
              "2021-01-01 B07TM3LRVB       1.0          1135.0                  0.0\n",
              "           B08332221J       1.0          1499.0                  0.0\n",
              "           B07TM3LRVB       1.0          1135.0                  0.0\n",
              "           B07TM3LRVB       1.0          1135.0                  0.0"
            ]
          },
          "metadata": {
            "tags": []
          },
          "execution_count": 43
        }
      ]
    },
    {
      "cell_type": "code",
      "metadata": {
        "colab": {
          "base_uri": "https://localhost:8080/",
          "height": 363
        },
        "id": "AkQ8XM2tYVNP",
        "outputId": "420e2a1c-176d-4095-e438-a4e64d8f54b5"
      },
      "source": [
        "df_merge = df_2_index.merge(df_1_index,how='outer',on=['date','Asin'])\n",
        "df_merge"
      ],
      "execution_count": null,
      "outputs": [
        {
          "output_type": "execute_result",
          "data": {
            "text/html": [
              "<div>\n",
              "<style scoped>\n",
              "    .dataframe tbody tr th:only-of-type {\n",
              "        vertical-align: middle;\n",
              "    }\n",
              "\n",
              "    .dataframe tbody tr th {\n",
              "        vertical-align: top;\n",
              "    }\n",
              "\n",
              "    .dataframe thead th {\n",
              "        text-align: right;\n",
              "    }\n",
              "</style>\n",
              "<table border=\"1\" class=\"dataframe\">\n",
              "  <thead>\n",
              "    <tr style=\"text-align: right;\">\n",
              "      <th></th>\n",
              "      <th></th>\n",
              "      <th>Quantity</th>\n",
              "      <th>Invoice Amount</th>\n",
              "      <th>Item Promo Discount</th>\n",
              "    </tr>\n",
              "    <tr>\n",
              "      <th>date</th>\n",
              "      <th>Asin</th>\n",
              "      <th></th>\n",
              "      <th></th>\n",
              "      <th></th>\n",
              "    </tr>\n",
              "  </thead>\n",
              "  <tbody>\n",
              "    <tr>\n",
              "      <th>2020-12-31</th>\n",
              "      <th>B07TM3LRVB</th>\n",
              "      <td>1.0</td>\n",
              "      <td>1135.0</td>\n",
              "      <td>0.0</td>\n",
              "    </tr>\n",
              "    <tr>\n",
              "      <th rowspan=\"4\" valign=\"top\">2021-01-01</th>\n",
              "      <th>B07TM3LRVB</th>\n",
              "      <td>1.0</td>\n",
              "      <td>1135.0</td>\n",
              "      <td>0.0</td>\n",
              "    </tr>\n",
              "    <tr>\n",
              "      <th>B07TM3LRVB</th>\n",
              "      <td>1.0</td>\n",
              "      <td>1135.0</td>\n",
              "      <td>0.0</td>\n",
              "    </tr>\n",
              "    <tr>\n",
              "      <th>B07TM3LRVB</th>\n",
              "      <td>1.0</td>\n",
              "      <td>1135.0</td>\n",
              "      <td>0.0</td>\n",
              "    </tr>\n",
              "    <tr>\n",
              "      <th>B08332221J</th>\n",
              "      <td>1.0</td>\n",
              "      <td>1499.0</td>\n",
              "      <td>0.0</td>\n",
              "    </tr>\n",
              "    <tr>\n",
              "      <th rowspan=\"4\" valign=\"top\">2020-12-31</th>\n",
              "      <th>B0849NLNTQ</th>\n",
              "      <td>NaN</td>\n",
              "      <td>NaN</td>\n",
              "      <td>NaN</td>\n",
              "    </tr>\n",
              "    <tr>\n",
              "      <th>B08332221J</th>\n",
              "      <td>NaN</td>\n",
              "      <td>NaN</td>\n",
              "      <td>NaN</td>\n",
              "    </tr>\n",
              "    <tr>\n",
              "      <th>B07MK32L49</th>\n",
              "      <td>NaN</td>\n",
              "      <td>NaN</td>\n",
              "      <td>NaN</td>\n",
              "    </tr>\n",
              "    <tr>\n",
              "      <th>B08976V1BZ</th>\n",
              "      <td>NaN</td>\n",
              "      <td>NaN</td>\n",
              "      <td>NaN</td>\n",
              "    </tr>\n",
              "  </tbody>\n",
              "</table>\n",
              "</div>"
            ],
            "text/plain": [
              "                       Quantity  Invoice Amount  Item Promo Discount\n",
              "date       Asin                                                     \n",
              "2020-12-31 B07TM3LRVB       1.0          1135.0                  0.0\n",
              "2021-01-01 B07TM3LRVB       1.0          1135.0                  0.0\n",
              "           B07TM3LRVB       1.0          1135.0                  0.0\n",
              "           B07TM3LRVB       1.0          1135.0                  0.0\n",
              "           B08332221J       1.0          1499.0                  0.0\n",
              "2020-12-31 B0849NLNTQ       NaN             NaN                  NaN\n",
              "           B08332221J       NaN             NaN                  NaN\n",
              "           B07MK32L49       NaN             NaN                  NaN\n",
              "           B08976V1BZ       NaN             NaN                  NaN"
            ]
          },
          "metadata": {
            "tags": []
          },
          "execution_count": 44
        }
      ]
    },
    {
      "cell_type": "code",
      "metadata": {
        "colab": {
          "base_uri": "https://localhost:8080/",
          "height": 332
        },
        "id": "LhBRWlNAiUFk",
        "outputId": "5c06027d-a6b7-41c9-eb3c-8e3285aa717a"
      },
      "source": [
        "df_2.merge(df_1,how ='outer',on=['date','Asin'])"
      ],
      "execution_count": null,
      "outputs": [
        {
          "output_type": "execute_result",
          "data": {
            "text/html": [
              "<div>\n",
              "<style scoped>\n",
              "    .dataframe tbody tr th:only-of-type {\n",
              "        vertical-align: middle;\n",
              "    }\n",
              "\n",
              "    .dataframe tbody tr th {\n",
              "        vertical-align: top;\n",
              "    }\n",
              "\n",
              "    .dataframe thead th {\n",
              "        text-align: right;\n",
              "    }\n",
              "</style>\n",
              "<table border=\"1\" class=\"dataframe\">\n",
              "  <thead>\n",
              "    <tr style=\"text-align: right;\">\n",
              "      <th></th>\n",
              "      <th>Quantity</th>\n",
              "      <th>Asin</th>\n",
              "      <th>Invoice Amount</th>\n",
              "      <th>Item Promo Discount</th>\n",
              "      <th>date</th>\n",
              "    </tr>\n",
              "  </thead>\n",
              "  <tbody>\n",
              "    <tr>\n",
              "      <th>0</th>\n",
              "      <td>1.0</td>\n",
              "      <td>B07TM3LRVB</td>\n",
              "      <td>1135.0</td>\n",
              "      <td>0.0</td>\n",
              "      <td>2020-12-31</td>\n",
              "    </tr>\n",
              "    <tr>\n",
              "      <th>1</th>\n",
              "      <td>1.0</td>\n",
              "      <td>B07TM3LRVB</td>\n",
              "      <td>1135.0</td>\n",
              "      <td>0.0</td>\n",
              "      <td>2021-01-01</td>\n",
              "    </tr>\n",
              "    <tr>\n",
              "      <th>2</th>\n",
              "      <td>1.0</td>\n",
              "      <td>B07TM3LRVB</td>\n",
              "      <td>1135.0</td>\n",
              "      <td>0.0</td>\n",
              "      <td>2021-01-01</td>\n",
              "    </tr>\n",
              "    <tr>\n",
              "      <th>3</th>\n",
              "      <td>1.0</td>\n",
              "      <td>B07TM3LRVB</td>\n",
              "      <td>1135.0</td>\n",
              "      <td>0.0</td>\n",
              "      <td>2021-01-01</td>\n",
              "    </tr>\n",
              "    <tr>\n",
              "      <th>4</th>\n",
              "      <td>1.0</td>\n",
              "      <td>B08332221J</td>\n",
              "      <td>1499.0</td>\n",
              "      <td>0.0</td>\n",
              "      <td>2021-01-01</td>\n",
              "    </tr>\n",
              "    <tr>\n",
              "      <th>5</th>\n",
              "      <td>NaN</td>\n",
              "      <td>B0849NLNTQ</td>\n",
              "      <td>NaN</td>\n",
              "      <td>NaN</td>\n",
              "      <td>2020-12-31</td>\n",
              "    </tr>\n",
              "    <tr>\n",
              "      <th>6</th>\n",
              "      <td>NaN</td>\n",
              "      <td>B08332221J</td>\n",
              "      <td>NaN</td>\n",
              "      <td>NaN</td>\n",
              "      <td>2020-12-31</td>\n",
              "    </tr>\n",
              "    <tr>\n",
              "      <th>7</th>\n",
              "      <td>NaN</td>\n",
              "      <td>B07MK32L49</td>\n",
              "      <td>NaN</td>\n",
              "      <td>NaN</td>\n",
              "      <td>2020-12-31</td>\n",
              "    </tr>\n",
              "    <tr>\n",
              "      <th>8</th>\n",
              "      <td>NaN</td>\n",
              "      <td>B08976V1BZ</td>\n",
              "      <td>NaN</td>\n",
              "      <td>NaN</td>\n",
              "      <td>2020-12-31</td>\n",
              "    </tr>\n",
              "  </tbody>\n",
              "</table>\n",
              "</div>"
            ],
            "text/plain": [
              "   Quantity        Asin  Invoice Amount  Item Promo Discount       date\n",
              "0       1.0  B07TM3LRVB          1135.0                  0.0 2020-12-31\n",
              "1       1.0  B07TM3LRVB          1135.0                  0.0 2021-01-01\n",
              "2       1.0  B07TM3LRVB          1135.0                  0.0 2021-01-01\n",
              "3       1.0  B07TM3LRVB          1135.0                  0.0 2021-01-01\n",
              "4       1.0  B08332221J          1499.0                  0.0 2021-01-01\n",
              "5       NaN  B0849NLNTQ             NaN                  NaN 2020-12-31\n",
              "6       NaN  B08332221J             NaN                  NaN 2020-12-31\n",
              "7       NaN  B07MK32L49             NaN                  NaN 2020-12-31\n",
              "8       NaN  B08976V1BZ             NaN                  NaN 2020-12-31"
            ]
          },
          "metadata": {
            "tags": []
          },
          "execution_count": 84
        }
      ]
    },
    {
      "cell_type": "code",
      "metadata": {
        "id": "b0tASl1nZmoM"
      },
      "source": [
        "df_merge.reset_index(inplace = True)"
      ],
      "execution_count": null,
      "outputs": []
    },
    {
      "cell_type": "code",
      "metadata": {
        "colab": {
          "base_uri": "https://localhost:8080/",
          "height": 332
        },
        "id": "E64lzWqKejTp",
        "outputId": "c5d3015e-cfdf-4631-8587-1cdafb9c0be4"
      },
      "source": [
        "df_merge"
      ],
      "execution_count": null,
      "outputs": [
        {
          "output_type": "execute_result",
          "data": {
            "text/html": [
              "<div>\n",
              "<style scoped>\n",
              "    .dataframe tbody tr th:only-of-type {\n",
              "        vertical-align: middle;\n",
              "    }\n",
              "\n",
              "    .dataframe tbody tr th {\n",
              "        vertical-align: top;\n",
              "    }\n",
              "\n",
              "    .dataframe thead th {\n",
              "        text-align: right;\n",
              "    }\n",
              "</style>\n",
              "<table border=\"1\" class=\"dataframe\">\n",
              "  <thead>\n",
              "    <tr style=\"text-align: right;\">\n",
              "      <th></th>\n",
              "      <th>date</th>\n",
              "      <th>Asin</th>\n",
              "      <th>Quantity</th>\n",
              "      <th>Invoice Amount</th>\n",
              "      <th>Item Promo Discount</th>\n",
              "    </tr>\n",
              "  </thead>\n",
              "  <tbody>\n",
              "    <tr>\n",
              "      <th>0</th>\n",
              "      <td>2020-12-31</td>\n",
              "      <td>B07TM3LRVB</td>\n",
              "      <td>1.0</td>\n",
              "      <td>1135.0</td>\n",
              "      <td>0.0</td>\n",
              "    </tr>\n",
              "    <tr>\n",
              "      <th>1</th>\n",
              "      <td>2021-01-01</td>\n",
              "      <td>B07TM3LRVB</td>\n",
              "      <td>1.0</td>\n",
              "      <td>1135.0</td>\n",
              "      <td>0.0</td>\n",
              "    </tr>\n",
              "    <tr>\n",
              "      <th>2</th>\n",
              "      <td>2021-01-01</td>\n",
              "      <td>B07TM3LRVB</td>\n",
              "      <td>1.0</td>\n",
              "      <td>1135.0</td>\n",
              "      <td>0.0</td>\n",
              "    </tr>\n",
              "    <tr>\n",
              "      <th>3</th>\n",
              "      <td>2021-01-01</td>\n",
              "      <td>B07TM3LRVB</td>\n",
              "      <td>1.0</td>\n",
              "      <td>1135.0</td>\n",
              "      <td>0.0</td>\n",
              "    </tr>\n",
              "    <tr>\n",
              "      <th>4</th>\n",
              "      <td>2021-01-01</td>\n",
              "      <td>B08332221J</td>\n",
              "      <td>1.0</td>\n",
              "      <td>1499.0</td>\n",
              "      <td>0.0</td>\n",
              "    </tr>\n",
              "    <tr>\n",
              "      <th>5</th>\n",
              "      <td>2020-12-31</td>\n",
              "      <td>B0849NLNTQ</td>\n",
              "      <td>NaN</td>\n",
              "      <td>NaN</td>\n",
              "      <td>NaN</td>\n",
              "    </tr>\n",
              "    <tr>\n",
              "      <th>6</th>\n",
              "      <td>2020-12-31</td>\n",
              "      <td>B08332221J</td>\n",
              "      <td>NaN</td>\n",
              "      <td>NaN</td>\n",
              "      <td>NaN</td>\n",
              "    </tr>\n",
              "    <tr>\n",
              "      <th>7</th>\n",
              "      <td>2020-12-31</td>\n",
              "      <td>B07MK32L49</td>\n",
              "      <td>NaN</td>\n",
              "      <td>NaN</td>\n",
              "      <td>NaN</td>\n",
              "    </tr>\n",
              "    <tr>\n",
              "      <th>8</th>\n",
              "      <td>2020-12-31</td>\n",
              "      <td>B08976V1BZ</td>\n",
              "      <td>NaN</td>\n",
              "      <td>NaN</td>\n",
              "      <td>NaN</td>\n",
              "    </tr>\n",
              "  </tbody>\n",
              "</table>\n",
              "</div>"
            ],
            "text/plain": [
              "        date        Asin  Quantity  Invoice Amount  Item Promo Discount\n",
              "0 2020-12-31  B07TM3LRVB       1.0          1135.0                  0.0\n",
              "1 2021-01-01  B07TM3LRVB       1.0          1135.0                  0.0\n",
              "2 2021-01-01  B07TM3LRVB       1.0          1135.0                  0.0\n",
              "3 2021-01-01  B07TM3LRVB       1.0          1135.0                  0.0\n",
              "4 2021-01-01  B08332221J       1.0          1499.0                  0.0\n",
              "5 2020-12-31  B0849NLNTQ       NaN             NaN                  NaN\n",
              "6 2020-12-31  B08332221J       NaN             NaN                  NaN\n",
              "7 2020-12-31  B07MK32L49       NaN             NaN                  NaN\n",
              "8 2020-12-31  B08976V1BZ       NaN             NaN                  NaN"
            ]
          },
          "metadata": {
            "tags": []
          },
          "execution_count": 48
        }
      ]
    },
    {
      "cell_type": "code",
      "metadata": {
        "id": "Pvtw7ueGea3R"
      },
      "source": [
        "df_merge['Quantity']= df_merge['Quantity'].fillna(0)"
      ],
      "execution_count": null,
      "outputs": []
    },
    {
      "cell_type": "code",
      "metadata": {
        "colab": {
          "base_uri": "https://localhost:8080/",
          "height": 332
        },
        "id": "9de403lfevod",
        "outputId": "e5fa529c-d22a-4c88-ed99-43a7bbd76318"
      },
      "source": [
        "df_merge"
      ],
      "execution_count": null,
      "outputs": [
        {
          "output_type": "execute_result",
          "data": {
            "text/html": [
              "<div>\n",
              "<style scoped>\n",
              "    .dataframe tbody tr th:only-of-type {\n",
              "        vertical-align: middle;\n",
              "    }\n",
              "\n",
              "    .dataframe tbody tr th {\n",
              "        vertical-align: top;\n",
              "    }\n",
              "\n",
              "    .dataframe thead th {\n",
              "        text-align: right;\n",
              "    }\n",
              "</style>\n",
              "<table border=\"1\" class=\"dataframe\">\n",
              "  <thead>\n",
              "    <tr style=\"text-align: right;\">\n",
              "      <th></th>\n",
              "      <th>date</th>\n",
              "      <th>Asin</th>\n",
              "      <th>Quantity</th>\n",
              "      <th>Invoice Amount</th>\n",
              "      <th>Item Promo Discount</th>\n",
              "    </tr>\n",
              "  </thead>\n",
              "  <tbody>\n",
              "    <tr>\n",
              "      <th>0</th>\n",
              "      <td>2020-12-31</td>\n",
              "      <td>B07TM3LRVB</td>\n",
              "      <td>1.0</td>\n",
              "      <td>1135.0</td>\n",
              "      <td>0.0</td>\n",
              "    </tr>\n",
              "    <tr>\n",
              "      <th>1</th>\n",
              "      <td>2021-01-01</td>\n",
              "      <td>B07TM3LRVB</td>\n",
              "      <td>1.0</td>\n",
              "      <td>1135.0</td>\n",
              "      <td>0.0</td>\n",
              "    </tr>\n",
              "    <tr>\n",
              "      <th>2</th>\n",
              "      <td>2021-01-01</td>\n",
              "      <td>B07TM3LRVB</td>\n",
              "      <td>1.0</td>\n",
              "      <td>1135.0</td>\n",
              "      <td>0.0</td>\n",
              "    </tr>\n",
              "    <tr>\n",
              "      <th>3</th>\n",
              "      <td>2021-01-01</td>\n",
              "      <td>B07TM3LRVB</td>\n",
              "      <td>1.0</td>\n",
              "      <td>1135.0</td>\n",
              "      <td>0.0</td>\n",
              "    </tr>\n",
              "    <tr>\n",
              "      <th>4</th>\n",
              "      <td>2021-01-01</td>\n",
              "      <td>B08332221J</td>\n",
              "      <td>1.0</td>\n",
              "      <td>1499.0</td>\n",
              "      <td>0.0</td>\n",
              "    </tr>\n",
              "    <tr>\n",
              "      <th>5</th>\n",
              "      <td>2020-12-31</td>\n",
              "      <td>B0849NLNTQ</td>\n",
              "      <td>0.0</td>\n",
              "      <td>NaN</td>\n",
              "      <td>NaN</td>\n",
              "    </tr>\n",
              "    <tr>\n",
              "      <th>6</th>\n",
              "      <td>2020-12-31</td>\n",
              "      <td>B08332221J</td>\n",
              "      <td>0.0</td>\n",
              "      <td>NaN</td>\n",
              "      <td>NaN</td>\n",
              "    </tr>\n",
              "    <tr>\n",
              "      <th>7</th>\n",
              "      <td>2020-12-31</td>\n",
              "      <td>B07MK32L49</td>\n",
              "      <td>0.0</td>\n",
              "      <td>NaN</td>\n",
              "      <td>NaN</td>\n",
              "    </tr>\n",
              "    <tr>\n",
              "      <th>8</th>\n",
              "      <td>2020-12-31</td>\n",
              "      <td>B08976V1BZ</td>\n",
              "      <td>0.0</td>\n",
              "      <td>NaN</td>\n",
              "      <td>NaN</td>\n",
              "    </tr>\n",
              "  </tbody>\n",
              "</table>\n",
              "</div>"
            ],
            "text/plain": [
              "        date        Asin  Quantity  Invoice Amount  Item Promo Discount\n",
              "0 2020-12-31  B07TM3LRVB       1.0          1135.0                  0.0\n",
              "1 2021-01-01  B07TM3LRVB       1.0          1135.0                  0.0\n",
              "2 2021-01-01  B07TM3LRVB       1.0          1135.0                  0.0\n",
              "3 2021-01-01  B07TM3LRVB       1.0          1135.0                  0.0\n",
              "4 2021-01-01  B08332221J       1.0          1499.0                  0.0\n",
              "5 2020-12-31  B0849NLNTQ       0.0             NaN                  NaN\n",
              "6 2020-12-31  B08332221J       0.0             NaN                  NaN\n",
              "7 2020-12-31  B07MK32L49       0.0             NaN                  NaN\n",
              "8 2020-12-31  B08976V1BZ       0.0             NaN                  NaN"
            ]
          },
          "metadata": {
            "tags": []
          },
          "execution_count": 52
        }
      ]
    },
    {
      "cell_type": "markdown",
      "metadata": {
        "id": "EeN3HrwJaMJn"
      },
      "source": [
        "FInally after hours of deliberation we have done it. We have created what we wanted, now we have details of all the asins each day. Whether in a particular day a sale has been made or not.  \n",
        "\n",
        "Now we will do this for 1 month, and from there we will getr\n",
        "\n",
        "\n",
        "\n",
        "**I think we can add one more column that is one is total sum of the product for each day and second is product cost. We can do that maybe in the next part, we can also use np.where condition to create a column with prices for one product for example, if quantity is 1, then price is invoice amount otherwise it is price/quanity.**\n",
        "\n",
        "\n",
        "For now why we are not adding it is that i think the alogo can find its meaning of product price from this data itself, say quanity 5 and total value is 2000. "
      ]
    },
    {
      "cell_type": "code",
      "metadata": {
        "id": "32Ky5bFoYLl6"
      },
      "source": [
        ""
      ],
      "execution_count": null,
      "outputs": []
    },
    {
      "cell_type": "markdown",
      "metadata": {
        "id": "B3mvcZOYfJhS"
      },
      "source": [
        "#### We are trying for 1 month"
      ]
    },
    {
      "cell_type": "code",
      "metadata": {
        "id": "2uGdTyJIgjPe"
      },
      "source": [
        ""
      ],
      "execution_count": null,
      "outputs": []
    },
    {
      "cell_type": "code",
      "metadata": {
        "id": "GTOGpgzQgEo2"
      },
      "source": [
        "df_new = df_dicts[2]\n",
        "df_new_1 = df_new.copy()"
      ],
      "execution_count": null,
      "outputs": []
    },
    {
      "cell_type": "code",
      "metadata": {
        "id": "39aZFCRNgEo3"
      },
      "source": [
        "df_new_1['date'] = df_new['Order Date'].dt.date"
      ],
      "execution_count": null,
      "outputs": []
    },
    {
      "cell_type": "code",
      "metadata": {
        "id": "FKVIygqkgEo6"
      },
      "source": [
        "df_new  = df_new_1.drop(['Order Date'],axis=1)"
      ],
      "execution_count": null,
      "outputs": []
    },
    {
      "cell_type": "code",
      "metadata": {
        "colab": {
          "base_uri": "https://localhost:8080/"
        },
        "id": "KAatLqBEgEo7",
        "outputId": "cd598a9a-1657-450f-da54-b15442717c5d"
      },
      "source": [
        "asin_list = df_new.Asin.unique()\n",
        "asin_list"
      ],
      "execution_count": null,
      "outputs": [
        {
          "output_type": "execute_result",
          "data": {
            "text/plain": [
              "array(['B07TM3LRVB', 'B0849NLNTQ', 'B08332221J', 'B07MK32L49', 'B08976V1BZ', 'B0859193NJ', 'B07TJ1HDTM', 'B0858X26QM', 'B07KYFHTGF', 'B0859B5J8T', 'B0897LPBHR', 'B084JJWJ31', 'B07W1YYQ9G',\n",
              "       'B07ZBCTB9N', 'B07S8NC532', 'B07YC69QKT', 'B07Z7QX6ST'], dtype=object)"
            ]
          },
          "metadata": {
            "tags": []
          },
          "execution_count": 56
        }
      ]
    },
    {
      "cell_type": "code",
      "metadata": {
        "id": "FSUMiINdgEo_"
      },
      "source": [
        "df_new['date'] = pd.to_datetime(df_new['date'])"
      ],
      "execution_count": null,
      "outputs": []
    },
    {
      "cell_type": "code",
      "metadata": {
        "id": "j1_VlxXxgEpA"
      },
      "source": [
        "# Removing refund and return\n",
        "cond = df_new['Invoice Amount'] > 0\n",
        "\n",
        "df_new_2  = df_new.where(cond)\n",
        "df_new_2.dropna(how='all',inplace = True)"
      ],
      "execution_count": null,
      "outputs": []
    },
    {
      "cell_type": "code",
      "metadata": {
        "id": "xCDp12PhgEpC"
      },
      "source": [
        "max_date = max(df_new_2['date']) \n",
        "min_date = (min(df_new_2['date']))"
      ],
      "execution_count": null,
      "outputs": []
    },
    {
      "cell_type": "code",
      "metadata": {
        "id": "d7KBkhWggEpC"
      },
      "source": [
        "# finding all the dates btw max and min\n",
        "\n",
        "date_list  = pd.date_range(min_date,max_date)"
      ],
      "execution_count": null,
      "outputs": []
    },
    {
      "cell_type": "code",
      "metadata": {
        "id": "MAl5FaadgEpE"
      },
      "source": [
        "df_asin = pd.DataFrame(columns = ['date', 'Asin'])"
      ],
      "execution_count": null,
      "outputs": []
    },
    {
      "cell_type": "code",
      "metadata": {
        "id": "up7azysKgEpE"
      },
      "source": [
        "index = 0\n",
        "while True:\n",
        "\n",
        "  for date in (date_list) :\n",
        "    for asin in (asin_list):\n",
        "      df_asin.loc[index] = [date,asin]\n",
        "      index = index + 1\n",
        "\n",
        "  break    "
      ],
      "execution_count": null,
      "outputs": []
    },
    {
      "cell_type": "code",
      "metadata": {
        "id": "zVH7TJHHgjMP",
        "colab": {
          "base_uri": "https://localhost:8080/"
        },
        "outputId": "00df8e12-d39a-416f-8936-6804bf63ae50"
      },
      "source": [
        "df_asin.shape"
      ],
      "execution_count": null,
      "outputs": [
        {
          "output_type": "execute_result",
          "data": {
            "text/plain": [
              "(544, 2)"
            ]
          },
          "metadata": {
            "tags": []
          },
          "execution_count": 64
        }
      ]
    },
    {
      "cell_type": "code",
      "metadata": {
        "colab": {
          "base_uri": "https://localhost:8080/",
          "height": 206
        },
        "id": "5FH2l1fZg3FP",
        "outputId": "2ef8ca84-2266-4e3f-e22e-3e99c4866a0b"
      },
      "source": [
        "df_asin.head()"
      ],
      "execution_count": null,
      "outputs": [
        {
          "output_type": "execute_result",
          "data": {
            "text/html": [
              "<div>\n",
              "<style scoped>\n",
              "    .dataframe tbody tr th:only-of-type {\n",
              "        vertical-align: middle;\n",
              "    }\n",
              "\n",
              "    .dataframe tbody tr th {\n",
              "        vertical-align: top;\n",
              "    }\n",
              "\n",
              "    .dataframe thead th {\n",
              "        text-align: right;\n",
              "    }\n",
              "</style>\n",
              "<table border=\"1\" class=\"dataframe\">\n",
              "  <thead>\n",
              "    <tr style=\"text-align: right;\">\n",
              "      <th></th>\n",
              "      <th>date</th>\n",
              "      <th>Asin</th>\n",
              "    </tr>\n",
              "  </thead>\n",
              "  <tbody>\n",
              "    <tr>\n",
              "      <th>0</th>\n",
              "      <td>2020-12-31</td>\n",
              "      <td>B07TM3LRVB</td>\n",
              "    </tr>\n",
              "    <tr>\n",
              "      <th>1</th>\n",
              "      <td>2020-12-31</td>\n",
              "      <td>B0849NLNTQ</td>\n",
              "    </tr>\n",
              "    <tr>\n",
              "      <th>2</th>\n",
              "      <td>2020-12-31</td>\n",
              "      <td>B08332221J</td>\n",
              "    </tr>\n",
              "    <tr>\n",
              "      <th>3</th>\n",
              "      <td>2020-12-31</td>\n",
              "      <td>B07MK32L49</td>\n",
              "    </tr>\n",
              "    <tr>\n",
              "      <th>4</th>\n",
              "      <td>2020-12-31</td>\n",
              "      <td>B08976V1BZ</td>\n",
              "    </tr>\n",
              "  </tbody>\n",
              "</table>\n",
              "</div>"
            ],
            "text/plain": [
              "        date        Asin\n",
              "0 2020-12-31  B07TM3LRVB\n",
              "1 2020-12-31  B0849NLNTQ\n",
              "2 2020-12-31  B08332221J\n",
              "3 2020-12-31  B07MK32L49\n",
              "4 2020-12-31  B08976V1BZ"
            ]
          },
          "metadata": {
            "tags": []
          },
          "execution_count": 65
        }
      ]
    },
    {
      "cell_type": "code",
      "metadata": {
        "id": "J3iOy9_qhC4M"
      },
      "source": [
        "df_new = df_new_2"
      ],
      "execution_count": null,
      "outputs": []
    },
    {
      "cell_type": "code",
      "metadata": {
        "colab": {
          "base_uri": "https://localhost:8080/"
        },
        "id": "Stf0U7It_cGH",
        "outputId": "070e29e4-0ba6-408a-a37f-903db3507228"
      },
      "source": [
        "df_new.dtypes"
      ],
      "execution_count": null,
      "outputs": [
        {
          "output_type": "execute_result",
          "data": {
            "text/plain": [
              "Quantity                      float64\n",
              "Asin                           object\n",
              "Invoice Amount                float64\n",
              "Item Promo Discount           float64\n",
              "date                   datetime64[ns]\n",
              "dtype: object"
            ]
          },
          "metadata": {
            "tags": []
          },
          "execution_count": 149
        }
      ]
    },
    {
      "cell_type": "code",
      "metadata": {
        "colab": {
          "base_uri": "https://localhost:8080/"
        },
        "id": "kzmphrRW_Zwi",
        "outputId": "bd729b60-d66b-4b4a-9dce-eddbc1e7bcf2"
      },
      "source": [
        "df_asin.dtypes"
      ],
      "execution_count": null,
      "outputs": [
        {
          "output_type": "execute_result",
          "data": {
            "text/plain": [
              "date    datetime64[ns]\n",
              "Asin            object\n",
              "dtype: object"
            ]
          },
          "metadata": {
            "tags": []
          },
          "execution_count": 148
        }
      ]
    },
    {
      "cell_type": "code",
      "metadata": {
        "colab": {
          "base_uri": "https://localhost:8080/",
          "height": 424
        },
        "id": "1i0kWc9C_WZd",
        "outputId": "02f6710a-e917-4ab7-fdee-0c8cc97b505d"
      },
      "source": [
        "df_merge = df_new.merge(df_asin, how='outer', on=['date','Asin'])\n",
        "df_merge"
      ],
      "execution_count": null,
      "outputs": [
        {
          "output_type": "execute_result",
          "data": {
            "text/html": [
              "<div>\n",
              "<style scoped>\n",
              "    .dataframe tbody tr th:only-of-type {\n",
              "        vertical-align: middle;\n",
              "    }\n",
              "\n",
              "    .dataframe tbody tr th {\n",
              "        vertical-align: top;\n",
              "    }\n",
              "\n",
              "    .dataframe thead th {\n",
              "        text-align: right;\n",
              "    }\n",
              "</style>\n",
              "<table border=\"1\" class=\"dataframe\">\n",
              "  <thead>\n",
              "    <tr style=\"text-align: right;\">\n",
              "      <th></th>\n",
              "      <th>Quantity</th>\n",
              "      <th>Asin</th>\n",
              "      <th>Invoice Amount</th>\n",
              "      <th>Item Promo Discount</th>\n",
              "      <th>date</th>\n",
              "    </tr>\n",
              "  </thead>\n",
              "  <tbody>\n",
              "    <tr>\n",
              "      <th>0</th>\n",
              "      <td>1.0</td>\n",
              "      <td>B07TM3LRVB</td>\n",
              "      <td>1135.0</td>\n",
              "      <td>0.0</td>\n",
              "      <td>2020-12-31</td>\n",
              "    </tr>\n",
              "    <tr>\n",
              "      <th>1</th>\n",
              "      <td>1.0</td>\n",
              "      <td>B07TM3LRVB</td>\n",
              "      <td>1135.0</td>\n",
              "      <td>0.0</td>\n",
              "      <td>2021-01-01</td>\n",
              "    </tr>\n",
              "    <tr>\n",
              "      <th>2</th>\n",
              "      <td>1.0</td>\n",
              "      <td>B07TM3LRVB</td>\n",
              "      <td>1135.0</td>\n",
              "      <td>0.0</td>\n",
              "      <td>2021-01-01</td>\n",
              "    </tr>\n",
              "    <tr>\n",
              "      <th>3</th>\n",
              "      <td>1.0</td>\n",
              "      <td>B07TM3LRVB</td>\n",
              "      <td>1135.0</td>\n",
              "      <td>0.0</td>\n",
              "      <td>2021-01-01</td>\n",
              "    </tr>\n",
              "    <tr>\n",
              "      <th>4</th>\n",
              "      <td>1.0</td>\n",
              "      <td>B07TM3LRVB</td>\n",
              "      <td>1135.0</td>\n",
              "      <td>0.0</td>\n",
              "      <td>2021-01-01</td>\n",
              "    </tr>\n",
              "    <tr>\n",
              "      <th>...</th>\n",
              "      <td>...</td>\n",
              "      <td>...</td>\n",
              "      <td>...</td>\n",
              "      <td>...</td>\n",
              "      <td>...</td>\n",
              "    </tr>\n",
              "    <tr>\n",
              "      <th>810</th>\n",
              "      <td>NaN</td>\n",
              "      <td>B084JJWJ31</td>\n",
              "      <td>NaN</td>\n",
              "      <td>NaN</td>\n",
              "      <td>2021-01-28</td>\n",
              "    </tr>\n",
              "    <tr>\n",
              "      <th>811</th>\n",
              "      <td>NaN</td>\n",
              "      <td>B07KYFHTGF</td>\n",
              "      <td>NaN</td>\n",
              "      <td>NaN</td>\n",
              "      <td>2021-01-29</td>\n",
              "    </tr>\n",
              "    <tr>\n",
              "      <th>812</th>\n",
              "      <td>NaN</td>\n",
              "      <td>B08976V1BZ</td>\n",
              "      <td>NaN</td>\n",
              "      <td>NaN</td>\n",
              "      <td>2021-01-29</td>\n",
              "    </tr>\n",
              "    <tr>\n",
              "      <th>813</th>\n",
              "      <td>NaN</td>\n",
              "      <td>B08332221J</td>\n",
              "      <td>NaN</td>\n",
              "      <td>NaN</td>\n",
              "      <td>2021-01-29</td>\n",
              "    </tr>\n",
              "    <tr>\n",
              "      <th>814</th>\n",
              "      <td>NaN</td>\n",
              "      <td>B07TJ1HDTM</td>\n",
              "      <td>NaN</td>\n",
              "      <td>NaN</td>\n",
              "      <td>2021-01-29</td>\n",
              "    </tr>\n",
              "  </tbody>\n",
              "</table>\n",
              "<p>815 rows × 5 columns</p>\n",
              "</div>"
            ],
            "text/plain": [
              "     Quantity        Asin  Invoice Amount  Item Promo Discount       date\n",
              "0         1.0  B07TM3LRVB          1135.0                  0.0 2020-12-31\n",
              "1         1.0  B07TM3LRVB          1135.0                  0.0 2021-01-01\n",
              "2         1.0  B07TM3LRVB          1135.0                  0.0 2021-01-01\n",
              "3         1.0  B07TM3LRVB          1135.0                  0.0 2021-01-01\n",
              "4         1.0  B07TM3LRVB          1135.0                  0.0 2021-01-01\n",
              "..        ...         ...             ...                  ...        ...\n",
              "810       NaN  B084JJWJ31             NaN                  NaN 2021-01-28\n",
              "811       NaN  B07KYFHTGF             NaN                  NaN 2021-01-29\n",
              "812       NaN  B08976V1BZ             NaN                  NaN 2021-01-29\n",
              "813       NaN  B08332221J             NaN                  NaN 2021-01-29\n",
              "814       NaN  B07TJ1HDTM             NaN                  NaN 2021-01-29\n",
              "\n",
              "[815 rows x 5 columns]"
            ]
          },
          "metadata": {
            "tags": []
          },
          "execution_count": 147
        }
      ]
    },
    {
      "cell_type": "code",
      "metadata": {
        "colab": {
          "base_uri": "https://localhost:8080/",
          "height": 424
        },
        "id": "MzgntvQHg6oF",
        "outputId": "b4c360cf-bb2c-4172-f10b-ccaff2f35869"
      },
      "source": [
        "df_merge = df_new.merge(df_asin, how='outer', on=['date','Asin'])\n",
        "df_merge"
      ],
      "execution_count": null,
      "outputs": [
        {
          "output_type": "execute_result",
          "data": {
            "text/html": [
              "<div>\n",
              "<style scoped>\n",
              "    .dataframe tbody tr th:only-of-type {\n",
              "        vertical-align: middle;\n",
              "    }\n",
              "\n",
              "    .dataframe tbody tr th {\n",
              "        vertical-align: top;\n",
              "    }\n",
              "\n",
              "    .dataframe thead th {\n",
              "        text-align: right;\n",
              "    }\n",
              "</style>\n",
              "<table border=\"1\" class=\"dataframe\">\n",
              "  <thead>\n",
              "    <tr style=\"text-align: right;\">\n",
              "      <th></th>\n",
              "      <th>Quantity</th>\n",
              "      <th>Asin</th>\n",
              "      <th>Invoice Amount</th>\n",
              "      <th>Item Promo Discount</th>\n",
              "      <th>date</th>\n",
              "    </tr>\n",
              "  </thead>\n",
              "  <tbody>\n",
              "    <tr>\n",
              "      <th>0</th>\n",
              "      <td>1.0</td>\n",
              "      <td>B07TM3LRVB</td>\n",
              "      <td>1135.0</td>\n",
              "      <td>0.0</td>\n",
              "      <td>2020-12-31</td>\n",
              "    </tr>\n",
              "    <tr>\n",
              "      <th>1</th>\n",
              "      <td>1.0</td>\n",
              "      <td>B07TM3LRVB</td>\n",
              "      <td>1135.0</td>\n",
              "      <td>0.0</td>\n",
              "      <td>2021-01-01</td>\n",
              "    </tr>\n",
              "    <tr>\n",
              "      <th>2</th>\n",
              "      <td>1.0</td>\n",
              "      <td>B07TM3LRVB</td>\n",
              "      <td>1135.0</td>\n",
              "      <td>0.0</td>\n",
              "      <td>2021-01-01</td>\n",
              "    </tr>\n",
              "    <tr>\n",
              "      <th>3</th>\n",
              "      <td>1.0</td>\n",
              "      <td>B07TM3LRVB</td>\n",
              "      <td>1135.0</td>\n",
              "      <td>0.0</td>\n",
              "      <td>2021-01-01</td>\n",
              "    </tr>\n",
              "    <tr>\n",
              "      <th>4</th>\n",
              "      <td>1.0</td>\n",
              "      <td>B07TM3LRVB</td>\n",
              "      <td>1135.0</td>\n",
              "      <td>0.0</td>\n",
              "      <td>2021-01-01</td>\n",
              "    </tr>\n",
              "    <tr>\n",
              "      <th>...</th>\n",
              "      <td>...</td>\n",
              "      <td>...</td>\n",
              "      <td>...</td>\n",
              "      <td>...</td>\n",
              "      <td>...</td>\n",
              "    </tr>\n",
              "    <tr>\n",
              "      <th>1101</th>\n",
              "      <td>NaN</td>\n",
              "      <td>B07W1YYQ9G</td>\n",
              "      <td>NaN</td>\n",
              "      <td>NaN</td>\n",
              "      <td>2021-01-31</td>\n",
              "    </tr>\n",
              "    <tr>\n",
              "      <th>1102</th>\n",
              "      <td>NaN</td>\n",
              "      <td>B07ZBCTB9N</td>\n",
              "      <td>NaN</td>\n",
              "      <td>NaN</td>\n",
              "      <td>2021-01-31</td>\n",
              "    </tr>\n",
              "    <tr>\n",
              "      <th>1103</th>\n",
              "      <td>NaN</td>\n",
              "      <td>B07S8NC532</td>\n",
              "      <td>NaN</td>\n",
              "      <td>NaN</td>\n",
              "      <td>2021-01-31</td>\n",
              "    </tr>\n",
              "    <tr>\n",
              "      <th>1104</th>\n",
              "      <td>NaN</td>\n",
              "      <td>B07YC69QKT</td>\n",
              "      <td>NaN</td>\n",
              "      <td>NaN</td>\n",
              "      <td>2021-01-31</td>\n",
              "    </tr>\n",
              "    <tr>\n",
              "      <th>1105</th>\n",
              "      <td>NaN</td>\n",
              "      <td>B07Z7QX6ST</td>\n",
              "      <td>NaN</td>\n",
              "      <td>NaN</td>\n",
              "      <td>2021-01-31</td>\n",
              "    </tr>\n",
              "  </tbody>\n",
              "</table>\n",
              "<p>1106 rows × 5 columns</p>\n",
              "</div>"
            ],
            "text/plain": [
              "      Quantity        Asin  Invoice Amount  Item Promo Discount       date\n",
              "0          1.0  B07TM3LRVB          1135.0                  0.0 2020-12-31\n",
              "1          1.0  B07TM3LRVB          1135.0                  0.0 2021-01-01\n",
              "2          1.0  B07TM3LRVB          1135.0                  0.0 2021-01-01\n",
              "3          1.0  B07TM3LRVB          1135.0                  0.0 2021-01-01\n",
              "4          1.0  B07TM3LRVB          1135.0                  0.0 2021-01-01\n",
              "...        ...         ...             ...                  ...        ...\n",
              "1101       NaN  B07W1YYQ9G             NaN                  NaN 2021-01-31\n",
              "1102       NaN  B07ZBCTB9N             NaN                  NaN 2021-01-31\n",
              "1103       NaN  B07S8NC532             NaN                  NaN 2021-01-31\n",
              "1104       NaN  B07YC69QKT             NaN                  NaN 2021-01-31\n",
              "1105       NaN  B07Z7QX6ST             NaN                  NaN 2021-01-31\n",
              "\n",
              "[1106 rows x 5 columns]"
            ]
          },
          "metadata": {
            "tags": []
          },
          "execution_count": 70
        }
      ]
    },
    {
      "cell_type": "code",
      "metadata": {
        "id": "qnjKIPvMoV-p"
      },
      "source": [
        "df_merge['price'] = df_merge['Invoice Amount']/df_merge['Quantity']"
      ],
      "execution_count": null,
      "outputs": []
    },
    {
      "cell_type": "code",
      "metadata": {
        "id": "5-v9ZLHHpLR3"
      },
      "source": [
        "df_merge['Quantity'] = df_merge['Quantity'].fillna(0)"
      ],
      "execution_count": null,
      "outputs": []
    },
    {
      "cell_type": "code",
      "metadata": {
        "id": "0L2ftoYCpbDE"
      },
      "source": [
        "df_merge['Invoice Amount'] = df_merge['Invoice Amount'].fillna(0)"
      ],
      "execution_count": null,
      "outputs": []
    },
    {
      "cell_type": "code",
      "metadata": {
        "id": "NzMm-5ivpnWk"
      },
      "source": [
        "df_merge['Item Promo Discount'] = df_merge['Item Promo Discount'].fillna(0)"
      ],
      "execution_count": null,
      "outputs": []
    },
    {
      "cell_type": "code",
      "metadata": {
        "id": "dowMELBGp-12"
      },
      "source": [
        ""
      ],
      "execution_count": null,
      "outputs": []
    },
    {
      "cell_type": "code",
      "metadata": {
        "colab": {
          "base_uri": "https://localhost:8080/",
          "height": 206
        },
        "id": "1J_gnMaqpEEs",
        "outputId": "028abd1e-67ed-4196-8b2f-c1a81f0e0a49"
      },
      "source": [
        "df_merge.head()"
      ],
      "execution_count": null,
      "outputs": [
        {
          "output_type": "execute_result",
          "data": {
            "text/html": [
              "<div>\n",
              "<style scoped>\n",
              "    .dataframe tbody tr th:only-of-type {\n",
              "        vertical-align: middle;\n",
              "    }\n",
              "\n",
              "    .dataframe tbody tr th {\n",
              "        vertical-align: top;\n",
              "    }\n",
              "\n",
              "    .dataframe thead th {\n",
              "        text-align: right;\n",
              "    }\n",
              "</style>\n",
              "<table border=\"1\" class=\"dataframe\">\n",
              "  <thead>\n",
              "    <tr style=\"text-align: right;\">\n",
              "      <th></th>\n",
              "      <th>Quantity</th>\n",
              "      <th>Asin</th>\n",
              "      <th>Invoice Amount</th>\n",
              "      <th>Item Promo Discount</th>\n",
              "      <th>date</th>\n",
              "      <th>price</th>\n",
              "    </tr>\n",
              "  </thead>\n",
              "  <tbody>\n",
              "    <tr>\n",
              "      <th>0</th>\n",
              "      <td>1.0</td>\n",
              "      <td>B07TM3LRVB</td>\n",
              "      <td>1135.0</td>\n",
              "      <td>0.0</td>\n",
              "      <td>2020-12-31</td>\n",
              "      <td>1135.0</td>\n",
              "    </tr>\n",
              "    <tr>\n",
              "      <th>1</th>\n",
              "      <td>1.0</td>\n",
              "      <td>B07TM3LRVB</td>\n",
              "      <td>1135.0</td>\n",
              "      <td>0.0</td>\n",
              "      <td>2021-01-01</td>\n",
              "      <td>1135.0</td>\n",
              "    </tr>\n",
              "    <tr>\n",
              "      <th>2</th>\n",
              "      <td>1.0</td>\n",
              "      <td>B07TM3LRVB</td>\n",
              "      <td>1135.0</td>\n",
              "      <td>0.0</td>\n",
              "      <td>2021-01-01</td>\n",
              "      <td>1135.0</td>\n",
              "    </tr>\n",
              "    <tr>\n",
              "      <th>3</th>\n",
              "      <td>1.0</td>\n",
              "      <td>B07TM3LRVB</td>\n",
              "      <td>1135.0</td>\n",
              "      <td>0.0</td>\n",
              "      <td>2021-01-01</td>\n",
              "      <td>1135.0</td>\n",
              "    </tr>\n",
              "    <tr>\n",
              "      <th>4</th>\n",
              "      <td>1.0</td>\n",
              "      <td>B07TM3LRVB</td>\n",
              "      <td>1135.0</td>\n",
              "      <td>0.0</td>\n",
              "      <td>2021-01-01</td>\n",
              "      <td>1135.0</td>\n",
              "    </tr>\n",
              "  </tbody>\n",
              "</table>\n",
              "</div>"
            ],
            "text/plain": [
              "   Quantity        Asin  Invoice Amount  Item Promo Discount       date  \\\n",
              "0       1.0  B07TM3LRVB          1135.0                  0.0 2020-12-31   \n",
              "1       1.0  B07TM3LRVB          1135.0                  0.0 2021-01-01   \n",
              "2       1.0  B07TM3LRVB          1135.0                  0.0 2021-01-01   \n",
              "3       1.0  B07TM3LRVB          1135.0                  0.0 2021-01-01   \n",
              "4       1.0  B07TM3LRVB          1135.0                  0.0 2021-01-01   \n",
              "\n",
              "    price  \n",
              "0  1135.0  \n",
              "1  1135.0  \n",
              "2  1135.0  \n",
              "3  1135.0  \n",
              "4  1135.0  "
            ]
          },
          "metadata": {
            "tags": []
          },
          "execution_count": 100
        }
      ]
    },
    {
      "cell_type": "code",
      "metadata": {
        "id": "CiuVtEw7oYBU"
      },
      "source": [
        "df_price = df_merge.groupby('Asin')['price'].agg(lambda x: np.mean(pd.Series.mode(x))).reset_index()"
      ],
      "execution_count": null,
      "outputs": []
    },
    {
      "cell_type": "code",
      "metadata": {
        "colab": {
          "base_uri": "https://localhost:8080/"
        },
        "id": "n0Augh9rsUGN",
        "outputId": "27c78f07-0475-4f20-d94d-35b58c1b42f7"
      },
      "source": [
        "df_merge.nunique()"
      ],
      "execution_count": null,
      "outputs": [
        {
          "output_type": "execute_result",
          "data": {
            "text/plain": [
              "Quantity                5\n",
              "Asin                   17\n",
              "Invoice Amount         41\n",
              "Item Promo Discount    14\n",
              "date                   32\n",
              "price                  31\n",
              "dtype: int64"
            ]
          },
          "metadata": {
            "tags": []
          },
          "execution_count": 120
        }
      ]
    },
    {
      "cell_type": "code",
      "metadata": {
        "id": "LA3gIb9uuKw1"
      },
      "source": [
        "df = df_merge.set_index('Asin')"
      ],
      "execution_count": null,
      "outputs": []
    },
    {
      "cell_type": "code",
      "metadata": {
        "id": "kdl1327PsRV6"
      },
      "source": [
        "df_price = df_price.set_index('Asin')"
      ],
      "execution_count": null,
      "outputs": []
    },
    {
      "cell_type": "code",
      "metadata": {
        "id": "6L9y1837uVJk"
      },
      "source": [
        "df.update(df_price,overwrite = False, join = 'left')"
      ],
      "execution_count": null,
      "outputs": []
    },
    {
      "cell_type": "code",
      "metadata": {
        "id": "xf2ak66ruicV"
      },
      "source": [
        ""
      ],
      "execution_count": null,
      "outputs": []
    },
    {
      "cell_type": "code",
      "metadata": {
        "id": "is42-OOCoX7E"
      },
      "source": [
        "# df = df_merge.update(df_price, overwrite = False, join = 'left')"
      ],
      "execution_count": null,
      "outputs": []
    },
    {
      "cell_type": "code",
      "metadata": {
        "id": "Gu1vj542oX3X"
      },
      "source": [
        "df.reset_index(inplace = True)"
      ],
      "execution_count": null,
      "outputs": []
    },
    {
      "cell_type": "code",
      "metadata": {
        "colab": {
          "base_uri": "https://localhost:8080/",
          "height": 455
        },
        "id": "QLnUzuO3sFse",
        "outputId": "70368ae8-4515-4cfc-86a2-e6c03641364a"
      },
      "source": [
        "x = df.groupby(['date','Asin','Item Promo Discount','price']).sum()\n",
        "x"
      ],
      "execution_count": null,
      "outputs": [
        {
          "output_type": "execute_result",
          "data": {
            "text/html": [
              "<div>\n",
              "<style scoped>\n",
              "    .dataframe tbody tr th:only-of-type {\n",
              "        vertical-align: middle;\n",
              "    }\n",
              "\n",
              "    .dataframe tbody tr th {\n",
              "        vertical-align: top;\n",
              "    }\n",
              "\n",
              "    .dataframe thead th {\n",
              "        text-align: right;\n",
              "    }\n",
              "</style>\n",
              "<table border=\"1\" class=\"dataframe\">\n",
              "  <thead>\n",
              "    <tr style=\"text-align: right;\">\n",
              "      <th></th>\n",
              "      <th></th>\n",
              "      <th></th>\n",
              "      <th></th>\n",
              "      <th>Quantity</th>\n",
              "      <th>Invoice Amount</th>\n",
              "    </tr>\n",
              "    <tr>\n",
              "      <th>date</th>\n",
              "      <th>Asin</th>\n",
              "      <th>Item Promo Discount</th>\n",
              "      <th>price</th>\n",
              "      <th></th>\n",
              "      <th></th>\n",
              "    </tr>\n",
              "  </thead>\n",
              "  <tbody>\n",
              "    <tr>\n",
              "      <th rowspan=\"5\" valign=\"top\">2020-12-31</th>\n",
              "      <th>B07KYFHTGF</th>\n",
              "      <th>0.0</th>\n",
              "      <th>1995.000</th>\n",
              "      <td>0.0</td>\n",
              "      <td>0.0</td>\n",
              "    </tr>\n",
              "    <tr>\n",
              "      <th>B07MK32L49</th>\n",
              "      <th>0.0</th>\n",
              "      <th>149.000</th>\n",
              "      <td>0.0</td>\n",
              "      <td>0.0</td>\n",
              "    </tr>\n",
              "    <tr>\n",
              "      <th>B07S8NC532</th>\n",
              "      <th>0.0</th>\n",
              "      <th>2099.000</th>\n",
              "      <td>0.0</td>\n",
              "      <td>0.0</td>\n",
              "    </tr>\n",
              "    <tr>\n",
              "      <th>B07TJ1HDTM</th>\n",
              "      <th>0.0</th>\n",
              "      <th>1649.000</th>\n",
              "      <td>0.0</td>\n",
              "      <td>0.0</td>\n",
              "    </tr>\n",
              "    <tr>\n",
              "      <th>B07TM3LRVB</th>\n",
              "      <th>0.0</th>\n",
              "      <th>1135.000</th>\n",
              "      <td>1.0</td>\n",
              "      <td>1135.0</td>\n",
              "    </tr>\n",
              "    <tr>\n",
              "      <th>...</th>\n",
              "      <th>...</th>\n",
              "      <th>...</th>\n",
              "      <th>...</th>\n",
              "      <td>...</td>\n",
              "      <td>...</td>\n",
              "    </tr>\n",
              "    <tr>\n",
              "      <th rowspan=\"5\" valign=\"top\">2021-01-31</th>\n",
              "      <th>B0858X26QM</th>\n",
              "      <th>0.0</th>\n",
              "      <th>599.000</th>\n",
              "      <td>0.0</td>\n",
              "      <td>0.0</td>\n",
              "    </tr>\n",
              "    <tr>\n",
              "      <th>B0859193NJ</th>\n",
              "      <th>0.0</th>\n",
              "      <th>599.000</th>\n",
              "      <td>0.0</td>\n",
              "      <td>0.0</td>\n",
              "    </tr>\n",
              "    <tr>\n",
              "      <th>B0859B5J8T</th>\n",
              "      <th>0.0</th>\n",
              "      <th>499.000</th>\n",
              "      <td>1.0</td>\n",
              "      <td>499.0</td>\n",
              "    </tr>\n",
              "    <tr>\n",
              "      <th>B08976V1BZ</th>\n",
              "      <th>0.0</th>\n",
              "      <th>1599.000</th>\n",
              "      <td>0.0</td>\n",
              "      <td>0.0</td>\n",
              "    </tr>\n",
              "    <tr>\n",
              "      <th>B0897LPBHR</th>\n",
              "      <th>0.0</th>\n",
              "      <th>1896.375</th>\n",
              "      <td>0.0</td>\n",
              "      <td>0.0</td>\n",
              "    </tr>\n",
              "  </tbody>\n",
              "</table>\n",
              "<p>618 rows × 2 columns</p>\n",
              "</div>"
            ],
            "text/plain": [
              "                                                    Quantity  Invoice Amount\n",
              "date       Asin       Item Promo Discount price                             \n",
              "2020-12-31 B07KYFHTGF 0.0                 1995.000       0.0             0.0\n",
              "           B07MK32L49 0.0                 149.000        0.0             0.0\n",
              "           B07S8NC532 0.0                 2099.000       0.0             0.0\n",
              "           B07TJ1HDTM 0.0                 1649.000       0.0             0.0\n",
              "           B07TM3LRVB 0.0                 1135.000       1.0          1135.0\n",
              "...                                                      ...             ...\n",
              "2021-01-31 B0858X26QM 0.0                 599.000        0.0             0.0\n",
              "           B0859193NJ 0.0                 599.000        0.0             0.0\n",
              "           B0859B5J8T 0.0                 499.000        1.0           499.0\n",
              "           B08976V1BZ 0.0                 1599.000       0.0             0.0\n",
              "           B0897LPBHR 0.0                 1896.375       0.0             0.0\n",
              "\n",
              "[618 rows x 2 columns]"
            ]
          },
          "metadata": {
            "tags": []
          },
          "execution_count": 141
        }
      ]
    },
    {
      "cell_type": "code",
      "metadata": {
        "colab": {
          "base_uri": "https://localhost:8080/",
          "height": 424
        },
        "id": "nq7dwf49vpzj",
        "outputId": "8fcb8ee0-8adc-41fd-ed36-89d4f775772a"
      },
      "source": [
        "x.reset_index()"
      ],
      "execution_count": null,
      "outputs": [
        {
          "output_type": "execute_result",
          "data": {
            "text/html": [
              "<div>\n",
              "<style scoped>\n",
              "    .dataframe tbody tr th:only-of-type {\n",
              "        vertical-align: middle;\n",
              "    }\n",
              "\n",
              "    .dataframe tbody tr th {\n",
              "        vertical-align: top;\n",
              "    }\n",
              "\n",
              "    .dataframe thead th {\n",
              "        text-align: right;\n",
              "    }\n",
              "</style>\n",
              "<table border=\"1\" class=\"dataframe\">\n",
              "  <thead>\n",
              "    <tr style=\"text-align: right;\">\n",
              "      <th></th>\n",
              "      <th>date</th>\n",
              "      <th>Asin</th>\n",
              "      <th>Item Promo Discount</th>\n",
              "      <th>price</th>\n",
              "      <th>Quantity</th>\n",
              "      <th>Invoice Amount</th>\n",
              "    </tr>\n",
              "  </thead>\n",
              "  <tbody>\n",
              "    <tr>\n",
              "      <th>0</th>\n",
              "      <td>2020-12-31</td>\n",
              "      <td>B07KYFHTGF</td>\n",
              "      <td>0.0</td>\n",
              "      <td>1995.000</td>\n",
              "      <td>0.0</td>\n",
              "      <td>0.0</td>\n",
              "    </tr>\n",
              "    <tr>\n",
              "      <th>1</th>\n",
              "      <td>2020-12-31</td>\n",
              "      <td>B07MK32L49</td>\n",
              "      <td>0.0</td>\n",
              "      <td>149.000</td>\n",
              "      <td>0.0</td>\n",
              "      <td>0.0</td>\n",
              "    </tr>\n",
              "    <tr>\n",
              "      <th>2</th>\n",
              "      <td>2020-12-31</td>\n",
              "      <td>B07S8NC532</td>\n",
              "      <td>0.0</td>\n",
              "      <td>2099.000</td>\n",
              "      <td>0.0</td>\n",
              "      <td>0.0</td>\n",
              "    </tr>\n",
              "    <tr>\n",
              "      <th>3</th>\n",
              "      <td>2020-12-31</td>\n",
              "      <td>B07TJ1HDTM</td>\n",
              "      <td>0.0</td>\n",
              "      <td>1649.000</td>\n",
              "      <td>0.0</td>\n",
              "      <td>0.0</td>\n",
              "    </tr>\n",
              "    <tr>\n",
              "      <th>4</th>\n",
              "      <td>2020-12-31</td>\n",
              "      <td>B07TM3LRVB</td>\n",
              "      <td>0.0</td>\n",
              "      <td>1135.000</td>\n",
              "      <td>1.0</td>\n",
              "      <td>1135.0</td>\n",
              "    </tr>\n",
              "    <tr>\n",
              "      <th>...</th>\n",
              "      <td>...</td>\n",
              "      <td>...</td>\n",
              "      <td>...</td>\n",
              "      <td>...</td>\n",
              "      <td>...</td>\n",
              "      <td>...</td>\n",
              "    </tr>\n",
              "    <tr>\n",
              "      <th>613</th>\n",
              "      <td>2021-01-31</td>\n",
              "      <td>B0858X26QM</td>\n",
              "      <td>0.0</td>\n",
              "      <td>599.000</td>\n",
              "      <td>0.0</td>\n",
              "      <td>0.0</td>\n",
              "    </tr>\n",
              "    <tr>\n",
              "      <th>614</th>\n",
              "      <td>2021-01-31</td>\n",
              "      <td>B0859193NJ</td>\n",
              "      <td>0.0</td>\n",
              "      <td>599.000</td>\n",
              "      <td>0.0</td>\n",
              "      <td>0.0</td>\n",
              "    </tr>\n",
              "    <tr>\n",
              "      <th>615</th>\n",
              "      <td>2021-01-31</td>\n",
              "      <td>B0859B5J8T</td>\n",
              "      <td>0.0</td>\n",
              "      <td>499.000</td>\n",
              "      <td>1.0</td>\n",
              "      <td>499.0</td>\n",
              "    </tr>\n",
              "    <tr>\n",
              "      <th>616</th>\n",
              "      <td>2021-01-31</td>\n",
              "      <td>B08976V1BZ</td>\n",
              "      <td>0.0</td>\n",
              "      <td>1599.000</td>\n",
              "      <td>0.0</td>\n",
              "      <td>0.0</td>\n",
              "    </tr>\n",
              "    <tr>\n",
              "      <th>617</th>\n",
              "      <td>2021-01-31</td>\n",
              "      <td>B0897LPBHR</td>\n",
              "      <td>0.0</td>\n",
              "      <td>1896.375</td>\n",
              "      <td>0.0</td>\n",
              "      <td>0.0</td>\n",
              "    </tr>\n",
              "  </tbody>\n",
              "</table>\n",
              "<p>618 rows × 6 columns</p>\n",
              "</div>"
            ],
            "text/plain": [
              "          date        Asin  Item Promo Discount     price  Quantity  \\\n",
              "0   2020-12-31  B07KYFHTGF                  0.0  1995.000       0.0   \n",
              "1   2020-12-31  B07MK32L49                  0.0   149.000       0.0   \n",
              "2   2020-12-31  B07S8NC532                  0.0  2099.000       0.0   \n",
              "3   2020-12-31  B07TJ1HDTM                  0.0  1649.000       0.0   \n",
              "4   2020-12-31  B07TM3LRVB                  0.0  1135.000       1.0   \n",
              "..         ...         ...                  ...       ...       ...   \n",
              "613 2021-01-31  B0858X26QM                  0.0   599.000       0.0   \n",
              "614 2021-01-31  B0859193NJ                  0.0   599.000       0.0   \n",
              "615 2021-01-31  B0859B5J8T                  0.0   499.000       1.0   \n",
              "616 2021-01-31  B08976V1BZ                  0.0  1599.000       0.0   \n",
              "617 2021-01-31  B0897LPBHR                  0.0  1896.375       0.0   \n",
              "\n",
              "     Invoice Amount  \n",
              "0               0.0  \n",
              "1               0.0  \n",
              "2               0.0  \n",
              "3               0.0  \n",
              "4            1135.0  \n",
              "..              ...  \n",
              "613             0.0  \n",
              "614             0.0  \n",
              "615           499.0  \n",
              "616             0.0  \n",
              "617             0.0  \n",
              "\n",
              "[618 rows x 6 columns]"
            ]
          },
          "metadata": {
            "tags": []
          },
          "execution_count": 142
        }
      ]
    },
    {
      "cell_type": "code",
      "metadata": {
        "colab": {
          "base_uri": "https://localhost:8080/",
          "height": 645
        },
        "id": "sNlcOWQGv1jq",
        "outputId": "bc05459f-d7b1-4c10-ac41-ae5276711b04"
      },
      "source": [
        "x.loc['2021-01-31']"
      ],
      "execution_count": null,
      "outputs": [
        {
          "output_type": "execute_result",
          "data": {
            "text/html": [
              "<div>\n",
              "<style scoped>\n",
              "    .dataframe tbody tr th:only-of-type {\n",
              "        vertical-align: middle;\n",
              "    }\n",
              "\n",
              "    .dataframe tbody tr th {\n",
              "        vertical-align: top;\n",
              "    }\n",
              "\n",
              "    .dataframe thead th {\n",
              "        text-align: right;\n",
              "    }\n",
              "</style>\n",
              "<table border=\"1\" class=\"dataframe\">\n",
              "  <thead>\n",
              "    <tr style=\"text-align: right;\">\n",
              "      <th></th>\n",
              "      <th></th>\n",
              "      <th></th>\n",
              "      <th></th>\n",
              "      <th>Quantity</th>\n",
              "      <th>Invoice Amount</th>\n",
              "    </tr>\n",
              "    <tr>\n",
              "      <th>date</th>\n",
              "      <th>Asin</th>\n",
              "      <th>Item Promo Discount</th>\n",
              "      <th>price</th>\n",
              "      <th></th>\n",
              "      <th></th>\n",
              "    </tr>\n",
              "  </thead>\n",
              "  <tbody>\n",
              "    <tr>\n",
              "      <th rowspan=\"18\" valign=\"top\">2021-01-31</th>\n",
              "      <th>B07KYFHTGF</th>\n",
              "      <th>0.00</th>\n",
              "      <th>1995.000</th>\n",
              "      <td>0.0</td>\n",
              "      <td>0.00</td>\n",
              "    </tr>\n",
              "    <tr>\n",
              "      <th>B07MK32L49</th>\n",
              "      <th>0.00</th>\n",
              "      <th>149.000</th>\n",
              "      <td>0.0</td>\n",
              "      <td>0.00</td>\n",
              "    </tr>\n",
              "    <tr>\n",
              "      <th>B07S8NC532</th>\n",
              "      <th>0.00</th>\n",
              "      <th>2099.000</th>\n",
              "      <td>0.0</td>\n",
              "      <td>0.00</td>\n",
              "    </tr>\n",
              "    <tr>\n",
              "      <th>B07TJ1HDTM</th>\n",
              "      <th>0.00</th>\n",
              "      <th>1649.000</th>\n",
              "      <td>0.0</td>\n",
              "      <td>0.00</td>\n",
              "    </tr>\n",
              "    <tr>\n",
              "      <th rowspan=\"2\" valign=\"top\">B07TM3LRVB</th>\n",
              "      <th>-56.75</th>\n",
              "      <th>1078.250</th>\n",
              "      <td>6.0</td>\n",
              "      <td>6469.50</td>\n",
              "    </tr>\n",
              "    <tr>\n",
              "      <th>0.00</th>\n",
              "      <th>1135.000</th>\n",
              "      <td>12.0</td>\n",
              "      <td>13620.00</td>\n",
              "    </tr>\n",
              "    <tr>\n",
              "      <th>B07W1YYQ9G</th>\n",
              "      <th>0.00</th>\n",
              "      <th>399.000</th>\n",
              "      <td>0.0</td>\n",
              "      <td>0.00</td>\n",
              "    </tr>\n",
              "    <tr>\n",
              "      <th>B07YC69QKT</th>\n",
              "      <th>0.00</th>\n",
              "      <th>1649.000</th>\n",
              "      <td>0.0</td>\n",
              "      <td>0.00</td>\n",
              "    </tr>\n",
              "    <tr>\n",
              "      <th>B07Z7QX6ST</th>\n",
              "      <th>0.00</th>\n",
              "      <th>486.525</th>\n",
              "      <td>0.0</td>\n",
              "      <td>0.00</td>\n",
              "    </tr>\n",
              "    <tr>\n",
              "      <th>B07ZBCTB9N</th>\n",
              "      <th>0.00</th>\n",
              "      <th>1135.000</th>\n",
              "      <td>0.0</td>\n",
              "      <td>0.00</td>\n",
              "    </tr>\n",
              "    <tr>\n",
              "      <th>B08332221J</th>\n",
              "      <th>-74.95</th>\n",
              "      <th>1424.050</th>\n",
              "      <td>1.0</td>\n",
              "      <td>1424.05</td>\n",
              "    </tr>\n",
              "    <tr>\n",
              "      <th>B0849NLNTQ</th>\n",
              "      <th>0.00</th>\n",
              "      <th>1599.000</th>\n",
              "      <td>2.0</td>\n",
              "      <td>3198.00</td>\n",
              "    </tr>\n",
              "    <tr>\n",
              "      <th>B084JJWJ31</th>\n",
              "      <th>0.00</th>\n",
              "      <th>599.000</th>\n",
              "      <td>0.0</td>\n",
              "      <td>0.00</td>\n",
              "    </tr>\n",
              "    <tr>\n",
              "      <th>B0858X26QM</th>\n",
              "      <th>0.00</th>\n",
              "      <th>599.000</th>\n",
              "      <td>0.0</td>\n",
              "      <td>0.00</td>\n",
              "    </tr>\n",
              "    <tr>\n",
              "      <th>B0859193NJ</th>\n",
              "      <th>0.00</th>\n",
              "      <th>599.000</th>\n",
              "      <td>0.0</td>\n",
              "      <td>0.00</td>\n",
              "    </tr>\n",
              "    <tr>\n",
              "      <th>B0859B5J8T</th>\n",
              "      <th>0.00</th>\n",
              "      <th>499.000</th>\n",
              "      <td>1.0</td>\n",
              "      <td>499.00</td>\n",
              "    </tr>\n",
              "    <tr>\n",
              "      <th>B08976V1BZ</th>\n",
              "      <th>0.00</th>\n",
              "      <th>1599.000</th>\n",
              "      <td>0.0</td>\n",
              "      <td>0.00</td>\n",
              "    </tr>\n",
              "    <tr>\n",
              "      <th>B0897LPBHR</th>\n",
              "      <th>0.00</th>\n",
              "      <th>1896.375</th>\n",
              "      <td>0.0</td>\n",
              "      <td>0.00</td>\n",
              "    </tr>\n",
              "  </tbody>\n",
              "</table>\n",
              "</div>"
            ],
            "text/plain": [
              "                                                    Quantity  Invoice Amount\n",
              "date       Asin       Item Promo Discount price                             \n",
              "2021-01-31 B07KYFHTGF  0.00               1995.000       0.0            0.00\n",
              "           B07MK32L49  0.00               149.000        0.0            0.00\n",
              "           B07S8NC532  0.00               2099.000       0.0            0.00\n",
              "           B07TJ1HDTM  0.00               1649.000       0.0            0.00\n",
              "           B07TM3LRVB -56.75              1078.250       6.0         6469.50\n",
              "                       0.00               1135.000      12.0        13620.00\n",
              "           B07W1YYQ9G  0.00               399.000        0.0            0.00\n",
              "           B07YC69QKT  0.00               1649.000       0.0            0.00\n",
              "           B07Z7QX6ST  0.00               486.525        0.0            0.00\n",
              "           B07ZBCTB9N  0.00               1135.000       0.0            0.00\n",
              "           B08332221J -74.95              1424.050       1.0         1424.05\n",
              "           B0849NLNTQ  0.00               1599.000       2.0         3198.00\n",
              "           B084JJWJ31  0.00               599.000        0.0            0.00\n",
              "           B0858X26QM  0.00               599.000        0.0            0.00\n",
              "           B0859193NJ  0.00               599.000        0.0            0.00\n",
              "           B0859B5J8T  0.00               499.000        1.0          499.00\n",
              "           B08976V1BZ  0.00               1599.000       0.0            0.00\n",
              "           B0897LPBHR  0.00               1896.375       0.0            0.00"
            ]
          },
          "metadata": {
            "tags": []
          },
          "execution_count": 143
        }
      ]
    },
    {
      "cell_type": "code",
      "metadata": {
        "id": "yBbnX0o7rxQh"
      },
      "source": [
        ""
      ],
      "execution_count": null,
      "outputs": []
    },
    {
      "cell_type": "markdown",
      "metadata": {
        "id": "3iT5L5KCzyrM"
      },
      "source": [
        "Working with all the dataframes"
      ]
    },
    {
      "cell_type": "code",
      "metadata": {
        "id": "HvKBg2HZrxOA"
      },
      "source": [
        "# concat all df\n",
        "def process_data(df_dicts):\n",
        "\n",
        "  df_main = pd.DataFrame()\n",
        "\n",
        "\n",
        "  for i in range(len(df_dicts)):\n",
        "  # we need to convert the Order date column into date_time\n",
        "  # if df_dicts[i]['Order Date'].dtype != 'datetime64[ns]' :\n",
        "    df_copy = df_dicts[i].copy()\n",
        "\n",
        "    df_copy['Order Date'] = pd.to_datetime(df_dicts[i]['Order Date'])\n",
        "\n",
        "    df_copy['date'] = df_copy['Order Date'].dt.date #\n",
        "    df_copy['hour'] = df_copy['Order Date'].dt.hour\n",
        "\n",
        "    df_dicts[i] = df_copy.drop(['Order Date'],axis=1) \n",
        "\n",
        "\n",
        "    asin_list = df_dicts[i].Asin.unique()\n",
        "\n",
        "    # Removing refund and return\n",
        "    cond = df_dicts[i]['Invoice Amount'] > 0\n",
        "\n",
        "    df_copy_2  = df_dicts[i].where(cond)\n",
        "    df_copy_2.dropna(how='all',inplace = True)\n",
        "\n",
        "    max_date = max(df_copy_2['date']) \n",
        "    min_date = (min(df_copy_2['date']))\n",
        "    date_list  = pd.date_range(min_date,max_date)\n",
        "\n",
        "    df_asin = pd.DataFrame(columns = ['date', 'Asin'])\n",
        "    index = 0\n",
        "    while True:\n",
        "\n",
        "        for date in (date_list) :\n",
        "          for asin in (asin_list):\n",
        "            df_asin.loc[index] = [date,asin]\n",
        "            ndex = index + 1\n",
        "\n",
        "        break    \n",
        "    df_copy_2['date'] = pd.to_datetime(df_copy_2['date'])  \n",
        "\n",
        "    df_dicts[i] = df_copy_2\n",
        "\n",
        "    df_merge = df_copy_2.merge(df_asin, how='outer', on=['date','Asin'])\n",
        "    \n",
        "    df_merge['price'] = df_merge['Invoice Amount']/df_merge['Quantity']\n",
        "    df_merge['Quantity'] = df_merge['Quantity'].fillna(0)\n",
        "    df_merge['Invoice Amount'] = df_merge['Invoice Amount'].fillna(0)\n",
        "    df_merge['Item Promo Discount'] = df_merge['Item Promo Discount'].fillna(0)\n",
        "\n",
        "    df_price = df_merge.groupby('Asin')['price'].agg(lambda x: np.mean(pd.Series.mode(x))).reset_index()\n",
        "\n",
        "    df = df_merge.set_index('Asin')\n",
        "    df_price = df_price.set_index('Asin')\n",
        "\n",
        "    df.update(df_price,overwrite = False, join = 'left')\n",
        "\n",
        "    df = df.groupby(['date','Asin','Item Promo Discount','price']).sum()\n",
        "    df.reset_index(inplace=True)\n",
        "\n",
        "    df_main = pd.concat([df_main , df])\n",
        "\n",
        "  \n",
        "  return df_main    \n"
      ],
      "execution_count": 16,
      "outputs": []
    },
    {
      "cell_type": "code",
      "metadata": {
        "id": "k8LCHYBgrcEC"
      },
      "source": [
        "df_main = process_data(df_dicts)\n"
      ],
      "execution_count": 17,
      "outputs": []
    },
    {
      "cell_type": "code",
      "metadata": {
        "id": "zF39UaZH9U4C"
      },
      "source": [
        "# save_pickle('/content/gdrive/MyDrive/my_project_01/df_main.pkl',df_main)"
      ],
      "execution_count": 18,
      "outputs": []
    },
    {
      "cell_type": "code",
      "metadata": {
        "colab": {
          "base_uri": "https://localhost:8080/"
        },
        "id": "tK3f0xK8-WPG",
        "outputId": "25e4f98e-abc0-4c11-e353-9ef7be23bbc2"
      },
      "source": [
        "df_main.shape"
      ],
      "execution_count": 19,
      "outputs": [
        {
          "output_type": "execute_result",
          "data": {
            "text/plain": [
              "(4726, 7)"
            ]
          },
          "metadata": {
            "tags": []
          },
          "execution_count": 19
        }
      ]
    },
    {
      "cell_type": "markdown",
      "metadata": {
        "id": "HsBi2g76_uLY"
      },
      "source": [
        "setting up train and validation data"
      ]
    },
    {
      "cell_type": "markdown",
      "metadata": {
        "id": "hr4HRlP4AQ0l"
      },
      "source": [
        "we have to first create the tabular pandas and for that we would need few things. what would that be?\n",
        "\n",
        "we need to define the procs, and then lets see"
      ]
    },
    {
      "cell_type": "code",
      "metadata": {
        "id": "10DnVGLwCRXa"
      },
      "source": [
        "df_main = add_datepart(df_main , 'date')"
      ],
      "execution_count": 28,
      "outputs": []
    },
    {
      "cell_type": "code",
      "metadata": {
        "id": "R6FiJXO3Cm5Y"
      },
      "source": [
        "# save_pickle('/content/gdrive/MyDrive/my_project_01/df_main.pkl',df_main)"
      ],
      "execution_count": 30,
      "outputs": []
    },
    {
      "cell_type": "code",
      "metadata": {
        "colab": {
          "base_uri": "https://localhost:8080/"
        },
        "id": "KHJewPnvCfCv",
        "outputId": "0267b84d-47b6-40bc-a898-f2e7a36d51d1"
      },
      "source": [
        "df_main.columns"
      ],
      "execution_count": 29,
      "outputs": [
        {
          "output_type": "execute_result",
          "data": {
            "text/plain": [
              "Index(['Asin', 'Item Promo Discount', 'price', 'Quantity', 'Invoice Amount',\n",
              "       'hour', 'Year', 'Month', 'Week', 'Day', 'Dayofweek', 'Dayofyear',\n",
              "       'Is_month_end', 'Is_month_start', 'Is_quarter_end', 'Is_quarter_start',\n",
              "       'Is_year_end', 'Is_year_start', 'Elapsed'],\n",
              "      dtype='object')"
            ]
          },
          "metadata": {
            "tags": []
          },
          "execution_count": 29
        }
      ]
    },
    {
      "cell_type": "code",
      "metadata": {
        "id": "CZYXI1nprxGg"
      },
      "source": [
        "procs = [Categorify, FillMissing]"
      ],
      "execution_count": 31,
      "outputs": []
    },
    {
      "cell_type": "code",
      "metadata": {
        "id": "IObgmjvjB0oo"
      },
      "source": [
        "dep_var = 'Quantity'"
      ],
      "execution_count": 32,
      "outputs": []
    },
    {
      "cell_type": "code",
      "metadata": {
        "id": "qS4xPlg3rxEF"
      },
      "source": [
        "cont, cat = cont_cat_split( df_main,1,dep_var= dep_var)"
      ],
      "execution_count": 33,
      "outputs": []
    },
    {
      "cell_type": "code",
      "metadata": {
        "id": "rWE4_N7OBgLV"
      },
      "source": [
        "# SPLITS \n",
        "condition = (df_main.Year < 2020) | (df_main.Month < 6)\n",
        "train_idx = np.where(condition)[0]\n",
        "valid_idx = np.where(~condition)[0]"
      ],
      "execution_count": 71,
      "outputs": []
    },
    {
      "cell_type": "code",
      "metadata": {
        "colab": {
          "base_uri": "https://localhost:8080/"
        },
        "id": "naA-yq3xDbdK",
        "outputId": "9077e04c-1708-4133-b2ef-25299903b763"
      },
      "source": [
        "len(train_idx), len(valid_idx)"
      ],
      "execution_count": 72,
      "outputs": [
        {
          "output_type": "execute_result",
          "data": {
            "text/plain": [
              "(2531, 2195)"
            ]
          },
          "metadata": {
            "tags": []
          },
          "execution_count": 72
        }
      ]
    },
    {
      "cell_type": "code",
      "metadata": {
        "id": "TKSM7u9yGf1g"
      },
      "source": [
        "splits = (list(train_idx),list(valid_idx))"
      ],
      "execution_count": 73,
      "outputs": []
    },
    {
      "cell_type": "code",
      "metadata": {
        "id": "Z-ZPT60zrxBy"
      },
      "source": [
        "to = TabularPandas(df_main, procs= procs,cat_names= cat, cont_names=cont, splits= splits,y_names=dep_var)"
      ],
      "execution_count": 74,
      "outputs": []
    },
    {
      "cell_type": "code",
      "metadata": {
        "colab": {
          "base_uri": "https://localhost:8080/",
          "height": 198
        },
        "id": "MkXZuWIQHXzR",
        "outputId": "b3496c8e-182b-42fa-85b4-a9a15270968b"
      },
      "source": [
        "to.show(3)"
      ],
      "execution_count": 51,
      "outputs": [
        {
          "output_type": "display_data",
          "data": {
            "text/html": [
              "<table border=\"1\" class=\"dataframe\">\n",
              "  <thead>\n",
              "    <tr style=\"text-align: right;\">\n",
              "      <th></th>\n",
              "      <th>Asin</th>\n",
              "      <th>Is_month_end</th>\n",
              "      <th>Is_month_start</th>\n",
              "      <th>Is_quarter_end</th>\n",
              "      <th>Is_quarter_start</th>\n",
              "      <th>Is_year_end</th>\n",
              "      <th>Is_year_start</th>\n",
              "      <th>Item Promo Discount</th>\n",
              "      <th>price</th>\n",
              "      <th>Invoice Amount</th>\n",
              "      <th>hour</th>\n",
              "      <th>Year</th>\n",
              "      <th>Month</th>\n",
              "      <th>Week</th>\n",
              "      <th>Day</th>\n",
              "      <th>Dayofweek</th>\n",
              "      <th>Dayofyear</th>\n",
              "      <th>Elapsed</th>\n",
              "      <th>Quantity</th>\n",
              "    </tr>\n",
              "  </thead>\n",
              "  <tbody>\n",
              "    <tr>\n",
              "      <th>0</th>\n",
              "      <td>B07KYFHTGF</td>\n",
              "      <td>False</td>\n",
              "      <td>False</td>\n",
              "      <td>False</td>\n",
              "      <td>False</td>\n",
              "      <td>False</td>\n",
              "      <td>False</td>\n",
              "      <td>0.000000</td>\n",
              "      <td>1995.000000</td>\n",
              "      <td>1995.000000</td>\n",
              "      <td>12.0</td>\n",
              "      <td>2021</td>\n",
              "      <td>1</td>\n",
              "      <td>1</td>\n",
              "      <td>4</td>\n",
              "      <td>0</td>\n",
              "      <td>4</td>\n",
              "      <td>1.609718e+09</td>\n",
              "      <td>1.0</td>\n",
              "    </tr>\n",
              "    <tr>\n",
              "      <th>1</th>\n",
              "      <td>B07TM3LRVB</td>\n",
              "      <td>False</td>\n",
              "      <td>False</td>\n",
              "      <td>False</td>\n",
              "      <td>False</td>\n",
              "      <td>False</td>\n",
              "      <td>False</td>\n",
              "      <td>-56.750000</td>\n",
              "      <td>1078.250000</td>\n",
              "      <td>1078.250000</td>\n",
              "      <td>20.0</td>\n",
              "      <td>2021</td>\n",
              "      <td>1</td>\n",
              "      <td>1</td>\n",
              "      <td>8</td>\n",
              "      <td>4</td>\n",
              "      <td>8</td>\n",
              "      <td>1.610064e+09</td>\n",
              "      <td>1.0</td>\n",
              "    </tr>\n",
              "    <tr>\n",
              "      <th>2</th>\n",
              "      <td>B08976V1BZ</td>\n",
              "      <td>False</td>\n",
              "      <td>False</td>\n",
              "      <td>False</td>\n",
              "      <td>False</td>\n",
              "      <td>False</td>\n",
              "      <td>False</td>\n",
              "      <td>-79.949997</td>\n",
              "      <td>1519.050049</td>\n",
              "      <td>1519.050049</td>\n",
              "      <td>22.0</td>\n",
              "      <td>2021</td>\n",
              "      <td>1</td>\n",
              "      <td>1</td>\n",
              "      <td>9</td>\n",
              "      <td>5</td>\n",
              "      <td>9</td>\n",
              "      <td>1.610150e+09</td>\n",
              "      <td>1.0</td>\n",
              "    </tr>\n",
              "  </tbody>\n",
              "</table>"
            ],
            "text/plain": [
              "<IPython.core.display.HTML object>"
            ]
          },
          "metadata": {
            "tags": []
          }
        }
      ]
    },
    {
      "cell_type": "code",
      "metadata": {
        "id": "HW9ZlBHDrw9U"
      },
      "source": [
        "x_train,y_train = to.train.xs, to.train.y\n",
        "x_valid, y_valid = to.valid.xs, to.valid.y"
      ],
      "execution_count": 75,
      "outputs": []
    },
    {
      "cell_type": "code",
      "metadata": {
        "id": "M4qXAvIRhmuW"
      },
      "source": [
        "def rf(xs, y, n_estimators=40, max_samples=2000,\n",
        "       max_features=0.5, min_samples_leaf=5, **kwargs):\n",
        "    return RandomForestRegressor(n_jobs=-1, n_estimators=n_estimators,\n",
        "        max_samples=max_samples, max_features=max_features,\n",
        "        min_samples_leaf=min_samples_leaf, oob_score=True).fit(xs, y)"
      ],
      "execution_count": 76,
      "outputs": []
    },
    {
      "cell_type": "code",
      "metadata": {
        "id": "ZYGDUVHAIe-3"
      },
      "source": [
        "rf =rf(x_train,y_train)"
      ],
      "execution_count": 77,
      "outputs": []
    },
    {
      "cell_type": "code",
      "metadata": {
        "id": "xoKG90VaIj9o"
      },
      "source": [
        "\n",
        "def r_mse(pred,y): return round(math.sqrt(((pred-y)**2).mean()), 6)\n",
        "def m_rmse(m, xs, y): return r_mse(m.predict(xs), y)"
      ],
      "execution_count": 78,
      "outputs": []
    },
    {
      "cell_type": "code",
      "metadata": {
        "colab": {
          "base_uri": "https://localhost:8080/"
        },
        "id": "z2umQbUjIqhO",
        "outputId": "80d732b4-6864-4cc9-bcfa-652356c750fc"
      },
      "source": [
        "m_rmse(rf,x_train,y_train), m_rmse(rf,x_valid,y_valid)"
      ],
      "execution_count": 79,
      "outputs": [
        {
          "output_type": "execute_result",
          "data": {
            "text/plain": [
              "(0.570982, 0.609243)"
            ]
          },
          "metadata": {
            "tags": []
          },
          "execution_count": 79
        }
      ]
    },
    {
      "cell_type": "code",
      "metadata": {
        "colab": {
          "base_uri": "https://localhost:8080/"
        },
        "id": "M_W-aQc1I8N0",
        "outputId": "5e14cc21-0898-4461-ea9e-9086018d0c26"
      },
      "source": [
        "x_train.shape, y_train.shape, x_valid.shape, y_valid.shape"
      ],
      "execution_count": 67,
      "outputs": [
        {
          "output_type": "execute_result",
          "data": {
            "text/plain": [
              "((3708, 18), (3708,), (1018, 18), (1018, 18))"
            ]
          },
          "metadata": {
            "tags": []
          },
          "execution_count": 67
        }
      ]
    },
    {
      "cell_type": "code",
      "metadata": {
        "colab": {
          "base_uri": "https://localhost:8080/",
          "height": 236
        },
        "id": "sdnIzVNcJemc",
        "outputId": "2cdc5e98-445c-47a7-98a7-36b27e71e9ee"
      },
      "source": [
        "y_valid.head()"
      ],
      "execution_count": 68,
      "outputs": [
        {
          "output_type": "execute_result",
          "data": {
            "text/html": [
              "<div>\n",
              "<style scoped>\n",
              "    .dataframe tbody tr th:only-of-type {\n",
              "        vertical-align: middle;\n",
              "    }\n",
              "\n",
              "    .dataframe tbody tr th {\n",
              "        vertical-align: top;\n",
              "    }\n",
              "\n",
              "    .dataframe thead th {\n",
              "        text-align: right;\n",
              "    }\n",
              "</style>\n",
              "<table border=\"1\" class=\"dataframe\">\n",
              "  <thead>\n",
              "    <tr style=\"text-align: right;\">\n",
              "      <th></th>\n",
              "      <th>Asin</th>\n",
              "      <th>Is_month_end</th>\n",
              "      <th>Is_month_start</th>\n",
              "      <th>Is_quarter_end</th>\n",
              "      <th>...</th>\n",
              "      <th>Day</th>\n",
              "      <th>Dayofweek</th>\n",
              "      <th>Dayofyear</th>\n",
              "      <th>Elapsed</th>\n",
              "    </tr>\n",
              "  </thead>\n",
              "  <tbody>\n",
              "    <tr>\n",
              "      <th>0</th>\n",
              "      <td>8</td>\n",
              "      <td>2</td>\n",
              "      <td>1</td>\n",
              "      <td>2</td>\n",
              "      <td>...</td>\n",
              "      <td>31</td>\n",
              "      <td>3</td>\n",
              "      <td>366</td>\n",
              "      <td>1.609373e+09</td>\n",
              "    </tr>\n",
              "    <tr>\n",
              "      <th>194</th>\n",
              "      <td>2</td>\n",
              "      <td>1</td>\n",
              "      <td>1</td>\n",
              "      <td>1</td>\n",
              "      <td>...</td>\n",
              "      <td>2</td>\n",
              "      <td>3</td>\n",
              "      <td>245</td>\n",
              "      <td>1.630541e+09</td>\n",
              "    </tr>\n",
              "    <tr>\n",
              "      <th>195</th>\n",
              "      <td>2</td>\n",
              "      <td>1</td>\n",
              "      <td>1</td>\n",
              "      <td>1</td>\n",
              "      <td>...</td>\n",
              "      <td>2</td>\n",
              "      <td>3</td>\n",
              "      <td>245</td>\n",
              "      <td>1.630541e+09</td>\n",
              "    </tr>\n",
              "    <tr>\n",
              "      <th>196</th>\n",
              "      <td>2</td>\n",
              "      <td>1</td>\n",
              "      <td>1</td>\n",
              "      <td>1</td>\n",
              "      <td>...</td>\n",
              "      <td>2</td>\n",
              "      <td>3</td>\n",
              "      <td>245</td>\n",
              "      <td>1.630541e+09</td>\n",
              "    </tr>\n",
              "    <tr>\n",
              "      <th>197</th>\n",
              "      <td>8</td>\n",
              "      <td>1</td>\n",
              "      <td>1</td>\n",
              "      <td>1</td>\n",
              "      <td>...</td>\n",
              "      <td>2</td>\n",
              "      <td>3</td>\n",
              "      <td>245</td>\n",
              "      <td>1.630541e+09</td>\n",
              "    </tr>\n",
              "  </tbody>\n",
              "</table>\n",
              "<p>5 rows × 18 columns</p>\n",
              "</div>"
            ],
            "text/plain": [
              "     Asin  Is_month_end  Is_month_start  Is_quarter_end  ...  Day  Dayofweek  \\\n",
              "0       8             2               1               2  ...   31          3   \n",
              "194     2             1               1               1  ...    2          3   \n",
              "195     2             1               1               1  ...    2          3   \n",
              "196     2             1               1               1  ...    2          3   \n",
              "197     8             1               1               1  ...    2          3   \n",
              "\n",
              "     Dayofyear       Elapsed  \n",
              "0          366  1.609373e+09  \n",
              "194        245  1.630541e+09  \n",
              "195        245  1.630541e+09  \n",
              "196        245  1.630541e+09  \n",
              "197        245  1.630541e+09  \n",
              "\n",
              "[5 rows x 18 columns]"
            ]
          },
          "metadata": {
            "tags": []
          },
          "execution_count": 68
        }
      ]
    },
    {
      "cell_type": "markdown",
      "metadata": {
        "id": "DO4Hs0eFKHw7"
      },
      "source": [
        "We need to think about someother metric to use other than this, which is more accurate to the problem at hand. "
      ]
    },
    {
      "cell_type": "code",
      "metadata": {
        "colab": {
          "base_uri": "https://localhost:8080/"
        },
        "id": "PIErfMtGJq5d",
        "outputId": "d8e0383b-1cf1-426e-f9d4-2bf21e21ede6"
      },
      "source": [
        "a = rf.predict(x_valid)[0:50]\n",
        "a"
      ],
      "execution_count": 91,
      "outputs": [
        {
          "output_type": "execute_result",
          "data": {
            "text/plain": [
              "array([0.96215278, 1.009375  , 1.009375  , 1.        , 2.97310974, 1.00416667, 4.94278028, 0.994375  , 0.994375  , 2.83370942, 1.04414773, 0.994375  , 0.994375  , 2.0851076 , 1.        , 3.49416396,\n",
              "       4.24072851, 6.0205797 , 1.004375  , 0.994375  , 1.9875    , 3.87659407, 1.01598214, 2.44454761, 3.50460312, 0.994375  , 1.014375  , 1.004375  , 1.        , 6.37903364, 9.01998662, 0.994375  ,\n",
              "       2.0125    , 1.01241071, 1.02758929, 1.81420635, 2.00833333, 1.009375  , 1.009375  , 1.00416667, 1.00416667, 2.94821886, 1.016875  , 2.021875  , 1.01508929, 1.01241071, 1.93393849, 1.004375  ,\n",
              "       1.2335092 , 1.009375  ])"
            ]
          },
          "metadata": {
            "tags": []
          },
          "execution_count": 91
        }
      ]
    },
    {
      "cell_type": "code",
      "metadata": {
        "colab": {
          "base_uri": "https://localhost:8080/"
        },
        "id": "5Vt_FquGKTfc",
        "outputId": "6517a44f-2061-49dc-874e-8fded956e80c"
      },
      "source": [
        "b = np.round(rf.predict(x_valid)[0:50])\n",
        "b"
      ],
      "execution_count": 92,
      "outputs": [
        {
          "output_type": "execute_result",
          "data": {
            "text/plain": [
              "array([1., 1., 1., 1., 3., 1., 5., 1., 1., 3., 1., 1., 1., 2., 1., 3., 4., 6., 1., 1., 2., 4., 1., 2., 4., 1., 1., 1., 1., 6., 9., 1., 2., 1., 1., 2., 2., 1., 1., 1., 1., 3., 1., 2., 1., 1., 2., 1.,\n",
              "       1., 1.])"
            ]
          },
          "metadata": {
            "tags": []
          },
          "execution_count": 92
        }
      ]
    },
    {
      "cell_type": "code",
      "metadata": {
        "colab": {
          "base_uri": "https://localhost:8080/"
        },
        "id": "fHywMdeUKg3n",
        "outputId": "bd851fac-a9ac-4fe8-84df-b4a12785874e"
      },
      "source": [
        "c = y_valid[0:50].values\n",
        "c"
      ],
      "execution_count": 93,
      "outputs": [
        {
          "output_type": "execute_result",
          "data": {
            "text/plain": [
              "array([ 1.,  1.,  1.,  1.,  3.,  1.,  5.,  1.,  1.,  3.,  1.,  1.,  1.,  2.,  1.,  3.,  4.,  6.,  1.,  1.,  2.,  4.,  1.,  2.,  4.,  1.,  1.,  1.,  1.,  6., 10.,  1.,  2.,  1.,  1.,  2.,  2.,  1.,\n",
              "        1.,  1.,  1.,  3.,  1.,  2.,  1.,  1.,  2.,  1.,  1.,  1.], dtype=float32)"
            ]
          },
          "metadata": {
            "tags": []
          },
          "execution_count": 93
        }
      ]
    },
    {
      "cell_type": "code",
      "metadata": {
        "id": "8ruqzvGoK6dI"
      },
      "source": [
        "\n",
        "def r_mse(pred,y): return round(math.sqrt(((pred-y)**2).mean()), 6)\n",
        "def m_rmse(m, xs, y): return r_mse(np.round(m.predict(xs)), y)"
      ],
      "execution_count": 87,
      "outputs": []
    },
    {
      "cell_type": "code",
      "metadata": {
        "colab": {
          "base_uri": "https://localhost:8080/"
        },
        "id": "UHc2mmnPKnzm",
        "outputId": "7a2b2002-09f0-4616-b9a9-9de1c488799a"
      },
      "source": [
        "m_rmse(rf,x_train,y_train), m_rmse(rf,x_valid,y_valid)"
      ],
      "execution_count": 88,
      "outputs": [
        {
          "output_type": "execute_result",
          "data": {
            "text/plain": [
              "(0.582912, 0.637835)"
            ]
          },
          "metadata": {
            "tags": []
          },
          "execution_count": 88
        }
      ]
    },
    {
      "cell_type": "markdown",
      "metadata": {
        "id": "xi3m2tibPmzu"
      },
      "source": [
        "What actually I can think of is we can create a custom accuracy function."
      ]
    },
    {
      "cell_type": "markdown",
      "metadata": {
        "id": "HdBGM311Svn-"
      },
      "source": [
        "##### Using Mean Absolute Percentage Error"
      ]
    },
    {
      "cell_type": "code",
      "metadata": {
        "id": "f-zJ3o8ZLG87"
      },
      "source": [
        "def MAPE(Y_actual,Y_Predicted):\n",
        "    mape = np.mean(np.abs((Y_actual - Y_Predicted)/Y_actual))*100\n",
        "    return mape"
      ],
      "execution_count": 89,
      "outputs": []
    },
    {
      "cell_type": "code",
      "metadata": {
        "colab": {
          "base_uri": "https://localhost:8080/"
        },
        "id": "8uWOiXJ9S0Hl",
        "outputId": "93bce305-7e7b-4336-f57a-1f5c0dd82e4d"
      },
      "source": [
        "MAPE(y_valid,np.round(rf.predict(x_valid))) # We cannot use MAPE because we have zero. y_actuals have 0 variables."
      ],
      "execution_count": 96,
      "outputs": [
        {
          "output_type": "execute_result",
          "data": {
            "text/plain": [
              "inf"
            ]
          },
          "metadata": {
            "tags": []
          },
          "execution_count": 96
        }
      ]
    },
    {
      "cell_type": "code",
      "metadata": {
        "colab": {
          "base_uri": "https://localhost:8080/"
        },
        "id": "l1vvba1wS9Us",
        "outputId": "2a6560d5-d2a0-43d4-805d-6eed358c971f"
      },
      "source": [
        "MAPE(c,a)"
      ],
      "execution_count": 94,
      "outputs": [
        {
          "output_type": "execute_result",
          "data": {
            "text/plain": [
              "3.1955525814735397"
            ]
          },
          "metadata": {
            "tags": []
          },
          "execution_count": 94
        }
      ]
    },
    {
      "cell_type": "code",
      "metadata": {
        "colab": {
          "base_uri": "https://localhost:8080/"
        },
        "id": "U9VH2mQTTV3T",
        "outputId": "b9657b06-78cd-4006-ef31-57d972081b89"
      },
      "source": [
        "MAPE(c,b)"
      ],
      "execution_count": 95,
      "outputs": [
        {
          "output_type": "execute_result",
          "data": {
            "text/plain": [
              "0.2"
            ]
          },
          "metadata": {
            "tags": []
          },
          "execution_count": 95
        }
      ]
    },
    {
      "cell_type": "code",
      "metadata": {
        "id": "rKnhgQ8xX3ZP"
      },
      "source": [
        "from sklearn.metrics import mean_absolute_error as mae"
      ],
      "execution_count": 97,
      "outputs": []
    },
    {
      "cell_type": "code",
      "metadata": {
        "colab": {
          "base_uri": "https://localhost:8080/"
        },
        "id": "m6mglwjaTbY2",
        "outputId": "77d252f2-248e-4886-bdc8-5e906fa94919"
      },
      "source": [
        "mae(y_valid,rf.predict(x_valid))"
      ],
      "execution_count": 98,
      "outputs": [
        {
          "output_type": "execute_result",
          "data": {
            "text/plain": [
              "0.2383354743952306"
            ]
          },
          "metadata": {
            "tags": []
          },
          "execution_count": 98
        }
      ]
    },
    {
      "cell_type": "code",
      "metadata": {
        "colab": {
          "base_uri": "https://localhost:8080/"
        },
        "id": "w8_zfoOoYLaj",
        "outputId": "c1efcc30-c90e-4ebb-98b2-02a3dc21f34f"
      },
      "source": [
        "mae(y_valid,np.round(rf.predict(x_valid)))"
      ],
      "execution_count": 99,
      "outputs": [
        {
          "output_type": "execute_result",
          "data": {
            "text/plain": [
              "0.20182232346241458"
            ]
          },
          "metadata": {
            "tags": []
          },
          "execution_count": 99
        }
      ]
    },
    {
      "cell_type": "code",
      "metadata": {
        "colab": {
          "base_uri": "https://localhost:8080/"
        },
        "id": "aHU7vUi-YR6J",
        "outputId": "95c2c382-5bd1-4c4d-872f-5a765659f172"
      },
      "source": [
        "mae(y_train,np.round(rf.predict(x_train)))"
      ],
      "execution_count": 100,
      "outputs": [
        {
          "output_type": "execute_result",
          "data": {
            "text/plain": [
              "0.07822994863690241"
            ]
          },
          "metadata": {
            "tags": []
          },
          "execution_count": 100
        }
      ]
    },
    {
      "cell_type": "code",
      "metadata": {
        "colab": {
          "base_uri": "https://localhost:8080/"
        },
        "id": "03HRVhwlYZMK",
        "outputId": "6e3ebdad-1820-4efb-affe-29b6878a0aa8"
      },
      "source": [
        "mae(y_train,rf.predict(x_train))"
      ],
      "execution_count": 101,
      "outputs": [
        {
          "output_type": "execute_result",
          "data": {
            "text/plain": [
              "0.12547872534779161"
            ]
          },
          "metadata": {
            "tags": []
          },
          "execution_count": 101
        }
      ]
    },
    {
      "cell_type": "markdown",
      "metadata": {
        "id": "v_g4qACfYfMs"
      },
      "source": [
        "Creating our own accuracy metric"
      ]
    },
    {
      "cell_type": "code",
      "metadata": {
        "colab": {
          "base_uri": "https://localhost:8080/"
        },
        "id": "6F93wUxyZbTK",
        "outputId": "6852f8fc-6295-4e5c-8015-c8bb6e16cbfe"
      },
      "source": [
        "int(1.6)"
      ],
      "execution_count": 102,
      "outputs": [
        {
          "output_type": "execute_result",
          "data": {
            "text/plain": [
              "1"
            ]
          },
          "metadata": {
            "tags": []
          },
          "execution_count": 102
        }
      ]
    },
    {
      "cell_type": "code",
      "metadata": {
        "id": "VnDeJo8sYdro"
      },
      "source": [
        "def new_pred(y_pred,thres= 0.5):\n",
        "  new_pred = np.where((y_pred-int(y_pred)) < thres,int(y_pred), int(y_pred)+1)\n",
        "  return new_pred"
      ],
      "execution_count": 112,
      "outputs": []
    },
    {
      "cell_type": "code",
      "metadata": {
        "id": "ZYBpczpSbUkW"
      },
      "source": [
        "fun = np.vectorize(new_pred)"
      ],
      "execution_count": 113,
      "outputs": []
    },
    {
      "cell_type": "code",
      "metadata": {
        "id": "PNjFnmracCf3"
      },
      "source": [
        "test_1 = [1.2,2.6,3.4,4.8]"
      ],
      "execution_count": 117,
      "outputs": []
    },
    {
      "cell_type": "code",
      "metadata": {
        "colab": {
          "base_uri": "https://localhost:8080/"
        },
        "id": "__mvgRytcLY0",
        "outputId": "59156e71-c96f-4c66-ee18-f60eedd23624"
      },
      "source": [
        "fun(test_1,0.9)\n",
        "# 1,2,3,4"
      ],
      "execution_count": 120,
      "outputs": [
        {
          "output_type": "execute_result",
          "data": {
            "text/plain": [
              "array([1, 2, 3, 4])"
            ]
          },
          "metadata": {
            "tags": []
          },
          "execution_count": 120
        }
      ]
    },
    {
      "cell_type": "code",
      "metadata": {
        "colab": {
          "base_uri": "https://localhost:8080/"
        },
        "id": "WOgM4D0RbaC3",
        "outputId": "4adf0a27-950c-4b99-f93d-e40f45adf3e1"
      },
      "source": [
        "fun(a,0.7)"
      ],
      "execution_count": 115,
      "outputs": [
        {
          "output_type": "execute_result",
          "data": {
            "text/plain": [
              "array([1, 1, 1, 1, 3, 1, 5, 1, 1, 3, 1, 1, 1, 2, 1, 3, 4, 6, 1, 1, 2, 4, 1, 2, 3, 1, 1, 1, 1, 6, 9, 1, 2, 1, 1, 2, 2, 1, 1, 1, 1, 3, 1, 2, 1, 1, 2, 1, 1, 1])"
            ]
          },
          "metadata": {
            "tags": []
          },
          "execution_count": 115
        }
      ]
    },
    {
      "cell_type": "code",
      "metadata": {
        "colab": {
          "base_uri": "https://localhost:8080/"
        },
        "id": "z_ww7ZXmb68N",
        "outputId": "1219dccf-8c55-451d-ce8e-d8b24d735706"
      },
      "source": [
        "c"
      ],
      "execution_count": 116,
      "outputs": [
        {
          "output_type": "execute_result",
          "data": {
            "text/plain": [
              "array([ 1.,  1.,  1.,  1.,  3.,  1.,  5.,  1.,  1.,  3.,  1.,  1.,  1.,  2.,  1.,  3.,  4.,  6.,  1.,  1.,  2.,  4.,  1.,  2.,  4.,  1.,  1.,  1.,  1.,  6., 10.,  1.,  2.,  1.,  1.,  2.,  2.,  1.,\n",
              "        1.,  1.,  1.,  3.,  1.,  2.,  1.,  1.,  2.,  1.,  1.,  1.], dtype=float32)"
            ]
          },
          "metadata": {
            "tags": []
          },
          "execution_count": 116
        }
      ]
    },
    {
      "cell_type": "code",
      "metadata": {
        "colab": {
          "base_uri": "https://localhost:8080/",
          "height": 271
        },
        "id": "DMprR5dmZmAF",
        "outputId": "083ad9ef-7afd-44e1-d0e2-54e8fdee78c1"
      },
      "source": [
        "new_pred(a)\n",
        "# a real"
      ],
      "execution_count": 109,
      "outputs": [
        {
          "output_type": "error",
          "ename": "TypeError",
          "evalue": "ignored",
          "traceback": [
            "\u001b[0;31m---------------------------------------------------------------------------\u001b[0m",
            "\u001b[0;31mTypeError\u001b[0m                                 Traceback (most recent call last)",
            "\u001b[0;32m<ipython-input-109-2a50e582c177>\u001b[0m in \u001b[0;36m<module>\u001b[0;34m()\u001b[0m\n\u001b[0;32m----> 1\u001b[0;31m \u001b[0mnew_pred\u001b[0m\u001b[0;34m(\u001b[0m\u001b[0ma\u001b[0m\u001b[0;34m)\u001b[0m\u001b[0;34m\u001b[0m\u001b[0;34m\u001b[0m\u001b[0m\n\u001b[0m\u001b[1;32m      2\u001b[0m \u001b[0;31m# a real\u001b[0m\u001b[0;34m\u001b[0m\u001b[0;34m\u001b[0m\u001b[0;34m\u001b[0m\u001b[0m\n",
            "\u001b[0;32m<ipython-input-108-1a67d5e06192>\u001b[0m in \u001b[0;36mnew_pred\u001b[0;34m(y_pred, thres)\u001b[0m\n\u001b[1;32m      1\u001b[0m \u001b[0;32mdef\u001b[0m \u001b[0mnew_pred\u001b[0m\u001b[0;34m(\u001b[0m\u001b[0my_pred\u001b[0m\u001b[0;34m,\u001b[0m\u001b[0mthres\u001b[0m\u001b[0;34m=\u001b[0m \u001b[0;36m0.5\u001b[0m\u001b[0;34m)\u001b[0m\u001b[0;34m:\u001b[0m\u001b[0;34m\u001b[0m\u001b[0;34m\u001b[0m\u001b[0m\n\u001b[0;32m----> 2\u001b[0;31m   \u001b[0mnew_pred\u001b[0m \u001b[0;34m=\u001b[0m \u001b[0mnp\u001b[0m\u001b[0;34m.\u001b[0m\u001b[0mwhere\u001b[0m\u001b[0;34m(\u001b[0m\u001b[0;34m(\u001b[0m\u001b[0my_pred\u001b[0m\u001b[0;34m-\u001b[0m\u001b[0mint\u001b[0m\u001b[0;34m(\u001b[0m\u001b[0my_pred\u001b[0m\u001b[0;34m)\u001b[0m\u001b[0;34m)\u001b[0m \u001b[0;34m<\u001b[0m \u001b[0mthres\u001b[0m\u001b[0;34m,\u001b[0m\u001b[0mint\u001b[0m\u001b[0;34m(\u001b[0m\u001b[0my_pred\u001b[0m\u001b[0;34m)\u001b[0m\u001b[0;34m,\u001b[0m \u001b[0mint\u001b[0m\u001b[0;34m(\u001b[0m\u001b[0my_pred\u001b[0m\u001b[0;34m)\u001b[0m\u001b[0;34m+\u001b[0m\u001b[0;36m1\u001b[0m\u001b[0;34m)\u001b[0m\u001b[0;34m\u001b[0m\u001b[0;34m\u001b[0m\u001b[0m\n\u001b[0m\u001b[1;32m      3\u001b[0m   \u001b[0;32mreturn\u001b[0m \u001b[0mnew_pred\u001b[0m\u001b[0;34m\u001b[0m\u001b[0;34m\u001b[0m\u001b[0m\n",
            "\u001b[0;31mTypeError\u001b[0m: only size-1 arrays can be converted to Python scalars"
          ]
        }
      ]
    },
    {
      "cell_type": "code",
      "metadata": {
        "colab": {
          "base_uri": "https://localhost:8080/",
          "height": 167
        },
        "id": "fphbJCUCaBr6",
        "outputId": "411a3df8-cd80-4527-ce9b-d7bfb8e22ba0"
      },
      "source": [
        "(a-np.vectorize(int(a)))"
      ],
      "execution_count": 110,
      "outputs": [
        {
          "output_type": "error",
          "ename": "TypeError",
          "evalue": "ignored",
          "traceback": [
            "\u001b[0;31m---------------------------------------------------------------------------\u001b[0m",
            "\u001b[0;31mTypeError\u001b[0m                                 Traceback (most recent call last)",
            "\u001b[0;32m<ipython-input-110-b01a24197743>\u001b[0m in \u001b[0;36m<module>\u001b[0;34m()\u001b[0m\n\u001b[0;32m----> 1\u001b[0;31m \u001b[0;34m(\u001b[0m\u001b[0ma\u001b[0m\u001b[0;34m-\u001b[0m\u001b[0mnp\u001b[0m\u001b[0;34m.\u001b[0m\u001b[0mvectorize\u001b[0m\u001b[0;34m(\u001b[0m\u001b[0mint\u001b[0m\u001b[0;34m(\u001b[0m\u001b[0ma\u001b[0m\u001b[0;34m)\u001b[0m\u001b[0;34m)\u001b[0m\u001b[0;34m)\u001b[0m\u001b[0;34m\u001b[0m\u001b[0;34m\u001b[0m\u001b[0m\n\u001b[0m",
            "\u001b[0;31mTypeError\u001b[0m: only size-1 arrays can be converted to Python scalars"
          ]
        }
      ]
    },
    {
      "cell_type": "code",
      "metadata": {
        "colab": {
          "base_uri": "https://localhost:8080/",
          "height": 167
        },
        "id": "Km6qVB7NbFDB",
        "outputId": "822ac875-bbd9-4829-f7cd-370744295b57"
      },
      "source": [
        "int(a)"
      ],
      "execution_count": 111,
      "outputs": [
        {
          "output_type": "error",
          "ename": "TypeError",
          "evalue": "ignored",
          "traceback": [
            "\u001b[0;31m---------------------------------------------------------------------------\u001b[0m",
            "\u001b[0;31mTypeError\u001b[0m                                 Traceback (most recent call last)",
            "\u001b[0;32m<ipython-input-111-8b2ab3991dae>\u001b[0m in \u001b[0;36m<module>\u001b[0;34m()\u001b[0m\n\u001b[0;32m----> 1\u001b[0;31m \u001b[0mint\u001b[0m\u001b[0;34m(\u001b[0m\u001b[0ma\u001b[0m\u001b[0;34m)\u001b[0m\u001b[0;34m\u001b[0m\u001b[0;34m\u001b[0m\u001b[0m\n\u001b[0m",
            "\u001b[0;31mTypeError\u001b[0m: only size-1 arrays can be converted to Python scalars"
          ]
        }
      ]
    },
    {
      "cell_type": "code",
      "metadata": {
        "id": "q4t_fXWUbIHb"
      },
      "source": [
        ""
      ],
      "execution_count": null,
      "outputs": []
    }
  ]
}