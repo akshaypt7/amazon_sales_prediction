{
  "nbformat": 4,
  "nbformat_minor": 0,
  "metadata": {
    "colab": {
      "name": "my_project_01.1.ipynb",
      "provenance": [],
      "collapsed_sections": [],
      "authorship_tag": "ABX9TyNI3/N9xRLhSou8Z0ebYaS3",
      "include_colab_link": true
    },
    "kernelspec": {
      "name": "python3",
      "display_name": "Python 3"
    },
    "language_info": {
      "name": "python"
    },
    "accelerator": "GPU"
  },
  "cells": [
    {
      "cell_type": "markdown",
      "metadata": {
        "id": "view-in-github",
        "colab_type": "text"
      },
      "source": [
        "<a href=\"https://colab.research.google.com/github/akshaypt7/amazon_sales_prediction/blob/main/my_project_01_1.ipynb\" target=\"_parent\"><img src=\"https://colab.research.google.com/assets/colab-badge.svg\" alt=\"Open In Colab\"/></a>"
      ]
    },
    {
      "cell_type": "markdown",
      "metadata": {
        "id": "YM0oZ2H6ckHC"
      },
      "source": [
        "This is part 2 of the project. Here we make improvements that we have learnt from part 1 of the project."
      ]
    },
    {
      "cell_type": "markdown",
      "metadata": {
        "id": "UAzw8Qltc-_D"
      },
      "source": [
        "One of the mistakes we have done in the first part was that there was data leakage. \n",
        "\n",
        "**When the sales are made for each asins in a day, we are not considering the asins that were not sold that day. so the thing is we need to add ASINS even when there was no sale made for that. We can give the quantity as 0. **\n",
        "\n",
        "\n",
        "How do we do this?\n",
        "\n",
        "When we read data each month, we see what are the unique ASINs, then these asins should be added to each days, even for the days when these asins are not sold. \n",
        "but what other details can we give, what about promotions and other details, we can take the entire row not just the ASIN, but what if there are two rows with coupon and without coupon, if we can see which row is closer to that, that is with coupon or without coupon we can copy that coupon.\n",
        "\n",
        "one another thing to note is we can even look at working this for the enitre dataframe at once, rather than going month by month. The reason is what if for one month the product was laucnhed but on second month there was no sales, even though that product was available. this means that for all those we wont even mention the asin, but on the third month we mention again."
      ]
    },
    {
      "cell_type": "markdown",
      "metadata": {
        "id": "vTchGGkVhwft"
      },
      "source": [
        "- we can change the continous and categorical variables that we have defined."
      ]
    },
    {
      "cell_type": "code",
      "metadata": {
        "id": "VotfceFCcE5Q"
      },
      "source": [
        ""
      ],
      "execution_count": null,
      "outputs": []
    },
    {
      "cell_type": "markdown",
      "metadata": {
        "id": "qmhSJWC2lYYP"
      },
      "source": [
        "One another mistake that we had done in part 1 was that we had only taken 679 data points as the validation set, we have used 10,500 as the train set. we should have atleast taken 3000 units as validation set.\n",
        "\n",
        "This was the reason we had high training error and less validation error. This makes sense why we also had high OOB_error and less validation error, as oob_error is calculated with atleast 30% data."
      ]
    },
    {
      "cell_type": "markdown",
      "metadata": {
        "id": "B2__VVcNmW4K"
      },
      "source": [
        "Next thing we learnt is we need to understand what metric we have to use.\n",
        "\n",
        "**We can use both classification and regression. When we use both then we need to understand what has to be used as the metric.**\n",
        "\n",
        "Also if we are considering accuracy or even other metrics we have to create a baseline model which predicts the majority class for all the data points.\n",
        "\n",
        "Learn more about metrics.\n",
        "\n",
        "One another thing what we can note is, we can convert 1.4 to 2, if we are going with regression. Here we need to come up with something like np.where(). We can see what is the performance at different thresholds. "
      ]
    },
    {
      "cell_type": "code",
      "metadata": {
        "id": "Bef9c6Til9cZ"
      },
      "source": [
        ""
      ],
      "execution_count": null,
      "outputs": []
    },
    {
      "cell_type": "markdown",
      "metadata": {
        "id": "6Xc1fT_9qCd_"
      },
      "source": [
        "We should also try to create the functions without copying and trying on a smaller set to know if it works."
      ]
    },
    {
      "cell_type": "code",
      "metadata": {
        "id": "AOf7-glAqKQD",
        "colab": {
          "base_uri": "https://localhost:8080/"
        },
        "outputId": "909f8f91-58ce-4210-893a-8375662c92eb"
      },
      "source": [
        "#hide\n",
        "!pip install -Uqq fastbook kaggle waterfallcharts treeinterpreter dtreeviz\n",
        "import fastbook\n",
        "fastbook.setup_book()"
      ],
      "execution_count": null,
      "outputs": [
        {
          "output_type": "stream",
          "text": [
            "\u001b[K     |████████████████████████████████| 727kB 12.4MB/s \n",
            "\u001b[K     |████████████████████████████████| 61kB 7.3MB/s \n",
            "\u001b[K     |████████████████████████████████| 194kB 41.6MB/s \n",
            "\u001b[K     |████████████████████████████████| 51kB 6.4MB/s \n",
            "\u001b[K     |████████████████████████████████| 1.2MB 33.8MB/s \n",
            "\u001b[K     |████████████████████████████████| 61kB 6.7MB/s \n",
            "\u001b[K     |████████████████████████████████| 61kB 7.0MB/s \n",
            "\u001b[?25h  Building wheel for waterfallcharts (setup.py) ... \u001b[?25l\u001b[?25hdone\n",
            "  Building wheel for dtreeviz (setup.py) ... \u001b[?25l\u001b[?25hdone\n",
            "Mounted at /content/gdrive\n"
          ],
          "name": "stdout"
        }
      ]
    },
    {
      "cell_type": "code",
      "metadata": {
        "id": "xDDCJxlBR58G"
      },
      "source": [
        "#hide\n",
        "from fastbook import *\n",
        "# from kaggle import api\n",
        "from pandas.api.types import is_string_dtype, is_numeric_dtype, is_categorical_dtype\n",
        "from fastai.tabular.all import *\n",
        "from sklearn.ensemble import RandomForestRegressor, RandomForestClassifier\n",
        "from sklearn.tree import DecisionTreeRegressor\n",
        "from dtreeviz.trees import *\n",
        "from IPython.display import Image, display_svg, SVG\n",
        "\n",
        "pd.options.display.max_rows = 20\n",
        "pd.options.display.max_columns = 8"
      ],
      "execution_count": null,
      "outputs": []
    },
    {
      "cell_type": "code",
      "metadata": {
        "id": "z-pt33Frb0Tz"
      },
      "source": [
        "import pandas as pd"
      ],
      "execution_count": null,
      "outputs": []
    },
    {
      "cell_type": "code",
      "metadata": {
        "id": "Szn3aw0FUQGb"
      },
      "source": [
        "import os\n",
        "files = os.listdir('/content/gdrive/MyDrive/my_project_01')\n"
      ],
      "execution_count": null,
      "outputs": []
    },
    {
      "cell_type": "code",
      "metadata": {
        "id": "H5QMwiy6SA8_"
      },
      "source": [
        ""
      ],
      "execution_count": null,
      "outputs": []
    },
    {
      "cell_type": "code",
      "metadata": {
        "id": "0FcpG4fAZDOy"
      },
      "source": [
        "dict_files = {}\n",
        "for i,file in enumerate(files):\n",
        "  try:\n",
        "    # dict_files[i] = pd.read_csv( '/content/drive/MyDrive/my_project_01/' +str(file),low_memory=False)\n",
        "    dict_files[i] = pd.read_csv( '/content/gdrive/MyDrive/my_project_01/' +str(file),low_memory=False)\n",
        "  except:\n",
        "    # dict_files[i] = pd.read_excel( '/content/drive/MyDrive/my_project_01/' +str(file))\n",
        "    dict_files[i] = pd.read_excel( '/content/gdrive/MyDrive/my_project_01/' +str(file))\n"
      ],
      "execution_count": null,
      "outputs": []
    },
    {
      "cell_type": "markdown",
      "metadata": {
        "id": "xXDTJvCnUT4z"
      },
      "source": [
        "We have to take in Invoice Amount instead of Principal amount (since it helps to sepearate canceled and refund orders)"
      ]
    },
    {
      "cell_type": "code",
      "metadata": {
        "id": "pmM6Zg7TSYqD"
      },
      "source": [
        "df_dicts = {}\n",
        "\n",
        "for i in range(len(dict_files)):\n",
        "  df_dicts[i] = dict_files[i][['Order Date','Quantity','Asin','Invoice Amount','Item Promo Discount']]\n"
      ],
      "execution_count": null,
      "outputs": []
    },
    {
      "cell_type": "markdown",
      "metadata": {
        "id": "orRx9qfhShQi"
      },
      "source": [
        "Testing out with 1 dataframe"
      ]
    },
    {
      "cell_type": "code",
      "metadata": {
        "colab": {
          "base_uri": "https://localhost:8080/",
          "height": 424
        },
        "id": "-ayMv4oKGwQ4",
        "outputId": "92da895a-d5fa-4623-9f7d-872641ebd7ba"
      },
      "source": [
        ""
      ],
      "execution_count": null,
      "outputs": [
        {
          "output_type": "execute_result",
          "data": {
            "text/html": [
              "<div>\n",
              "<style scoped>\n",
              "    .dataframe tbody tr th:only-of-type {\n",
              "        vertical-align: middle;\n",
              "    }\n",
              "\n",
              "    .dataframe tbody tr th {\n",
              "        vertical-align: top;\n",
              "    }\n",
              "\n",
              "    .dataframe thead th {\n",
              "        text-align: right;\n",
              "    }\n",
              "</style>\n",
              "<table border=\"1\" class=\"dataframe\">\n",
              "  <thead>\n",
              "    <tr style=\"text-align: right;\">\n",
              "      <th></th>\n",
              "      <th>Order Date</th>\n",
              "      <th>Quantity</th>\n",
              "      <th>Asin</th>\n",
              "      <th>Invoice Amount</th>\n",
              "      <th>Item Promo Discount</th>\n",
              "    </tr>\n",
              "  </thead>\n",
              "  <tbody>\n",
              "    <tr>\n",
              "      <th>0</th>\n",
              "      <td>2020-12-28 15:41:42</td>\n",
              "      <td>1</td>\n",
              "      <td>B07TM3LRVB</td>\n",
              "      <td>-1135.00</td>\n",
              "      <td>0.00</td>\n",
              "    </tr>\n",
              "    <tr>\n",
              "      <th>1</th>\n",
              "      <td>2020-12-25 18:50:21</td>\n",
              "      <td>1</td>\n",
              "      <td>B07TM3LRVB</td>\n",
              "      <td>-1135.00</td>\n",
              "      <td>0.00</td>\n",
              "    </tr>\n",
              "    <tr>\n",
              "      <th>2</th>\n",
              "      <td>2020-12-28 23:01:59</td>\n",
              "      <td>1</td>\n",
              "      <td>B07TM3LRVB</td>\n",
              "      <td>-1135.00</td>\n",
              "      <td>0.00</td>\n",
              "    </tr>\n",
              "    <tr>\n",
              "      <th>3</th>\n",
              "      <td>2020-12-23 10:27:16</td>\n",
              "      <td>1</td>\n",
              "      <td>B07TM3LRVB</td>\n",
              "      <td>-1135.00</td>\n",
              "      <td>0.00</td>\n",
              "    </tr>\n",
              "    <tr>\n",
              "      <th>4</th>\n",
              "      <td>2020-12-18 11:41:24</td>\n",
              "      <td>1</td>\n",
              "      <td>B07TM3LRVB</td>\n",
              "      <td>-1135.00</td>\n",
              "      <td>0.00</td>\n",
              "    </tr>\n",
              "    <tr>\n",
              "      <th>...</th>\n",
              "      <td>...</td>\n",
              "      <td>...</td>\n",
              "      <td>...</td>\n",
              "      <td>...</td>\n",
              "      <td>...</td>\n",
              "    </tr>\n",
              "    <tr>\n",
              "      <th>926</th>\n",
              "      <td>2021-01-31 21:15:29</td>\n",
              "      <td>1</td>\n",
              "      <td>B07TM3LRVB</td>\n",
              "      <td>1078.25</td>\n",
              "      <td>-56.75</td>\n",
              "    </tr>\n",
              "    <tr>\n",
              "      <th>927</th>\n",
              "      <td>2021-01-31 22:33:34</td>\n",
              "      <td>1</td>\n",
              "      <td>B08332221J</td>\n",
              "      <td>1424.05</td>\n",
              "      <td>-74.95</td>\n",
              "    </tr>\n",
              "    <tr>\n",
              "      <th>928</th>\n",
              "      <td>2021-01-31 21:22:51</td>\n",
              "      <td>1</td>\n",
              "      <td>B0849NLNTQ</td>\n",
              "      <td>1599.00</td>\n",
              "      <td>0.00</td>\n",
              "    </tr>\n",
              "    <tr>\n",
              "      <th>929</th>\n",
              "      <td>2021-01-31 23:32:25</td>\n",
              "      <td>1</td>\n",
              "      <td>B07TM3LRVB</td>\n",
              "      <td>1078.25</td>\n",
              "      <td>-56.75</td>\n",
              "    </tr>\n",
              "    <tr>\n",
              "      <th>930</th>\n",
              "      <td>2021-01-31 17:35:07</td>\n",
              "      <td>1</td>\n",
              "      <td>B0859B5J8T</td>\n",
              "      <td>499.00</td>\n",
              "      <td>0.00</td>\n",
              "    </tr>\n",
              "  </tbody>\n",
              "</table>\n",
              "<p>931 rows × 5 columns</p>\n",
              "</div>"
            ],
            "text/plain": [
              "             Order Date  Quantity        Asin  Invoice Amount  \\\n",
              "0   2020-12-28 15:41:42         1  B07TM3LRVB        -1135.00   \n",
              "1   2020-12-25 18:50:21         1  B07TM3LRVB        -1135.00   \n",
              "2   2020-12-28 23:01:59         1  B07TM3LRVB        -1135.00   \n",
              "3   2020-12-23 10:27:16         1  B07TM3LRVB        -1135.00   \n",
              "4   2020-12-18 11:41:24         1  B07TM3LRVB        -1135.00   \n",
              "..                  ...       ...         ...             ...   \n",
              "926 2021-01-31 21:15:29         1  B07TM3LRVB         1078.25   \n",
              "927 2021-01-31 22:33:34         1  B08332221J         1424.05   \n",
              "928 2021-01-31 21:22:51         1  B0849NLNTQ         1599.00   \n",
              "929 2021-01-31 23:32:25         1  B07TM3LRVB         1078.25   \n",
              "930 2021-01-31 17:35:07         1  B0859B5J8T          499.00   \n",
              "\n",
              "     Item Promo Discount  \n",
              "0                   0.00  \n",
              "1                   0.00  \n",
              "2                   0.00  \n",
              "3                   0.00  \n",
              "4                   0.00  \n",
              "..                   ...  \n",
              "926               -56.75  \n",
              "927               -74.95  \n",
              "928                 0.00  \n",
              "929               -56.75  \n",
              "930                 0.00  \n",
              "\n",
              "[931 rows x 5 columns]"
            ]
          },
          "metadata": {
            "tags": []
          },
          "execution_count": 12
        }
      ]
    },
    {
      "cell_type": "code",
      "metadata": {
        "colab": {
          "base_uri": "https://localhost:8080/",
          "height": 394
        },
        "id": "zr-5ioH8Sf3c",
        "outputId": "d77ddbad-d569-4e29-9e0b-de24e4c16777"
      },
      "source": [
        "df = df_dicts[1]\n",
        "df"
      ],
      "execution_count": null,
      "outputs": [
        {
          "output_type": "execute_result",
          "data": {
            "text/html": [
              "<div>\n",
              "<style scoped>\n",
              "    .dataframe tbody tr th:only-of-type {\n",
              "        vertical-align: middle;\n",
              "    }\n",
              "\n",
              "    .dataframe tbody tr th {\n",
              "        vertical-align: top;\n",
              "    }\n",
              "\n",
              "    .dataframe thead th {\n",
              "        text-align: right;\n",
              "    }\n",
              "</style>\n",
              "<table border=\"1\" class=\"dataframe\">\n",
              "  <thead>\n",
              "    <tr style=\"text-align: right;\">\n",
              "      <th></th>\n",
              "      <th>Order Date</th>\n",
              "      <th>Quantity</th>\n",
              "      <th>Asin</th>\n",
              "      <th>Invoice Amount</th>\n",
              "      <th>Item Promo Discount</th>\n",
              "    </tr>\n",
              "  </thead>\n",
              "  <tbody>\n",
              "    <tr>\n",
              "      <th>0</th>\n",
              "      <td>2021-02-01 17:28:51</td>\n",
              "      <td>1</td>\n",
              "      <td>B07TM3LRVB</td>\n",
              "      <td>1135.00</td>\n",
              "      <td>0.00</td>\n",
              "    </tr>\n",
              "    <tr>\n",
              "      <th>1</th>\n",
              "      <td>2021-02-04 09:18:42</td>\n",
              "      <td>1</td>\n",
              "      <td>B07TM3LRVB</td>\n",
              "      <td>1078.25</td>\n",
              "      <td>-56.75</td>\n",
              "    </tr>\n",
              "    <tr>\n",
              "      <th>2</th>\n",
              "      <td>2021-02-12 00:30:53</td>\n",
              "      <td>1</td>\n",
              "      <td>B07TM3LRVB</td>\n",
              "      <td>1078.25</td>\n",
              "      <td>-56.75</td>\n",
              "    </tr>\n",
              "    <tr>\n",
              "      <th>3</th>\n",
              "      <td>2021-02-13 10:30:28</td>\n",
              "      <td>1</td>\n",
              "      <td>B0849NLNTQ</td>\n",
              "      <td>1599.00</td>\n",
              "      <td>0.00</td>\n",
              "    </tr>\n",
              "    <tr>\n",
              "      <th>4</th>\n",
              "      <td>2021-02-13 12:35:00</td>\n",
              "      <td>1</td>\n",
              "      <td>B0849NLNTQ</td>\n",
              "      <td>1519.05</td>\n",
              "      <td>-79.95</td>\n",
              "    </tr>\n",
              "    <tr>\n",
              "      <th>5</th>\n",
              "      <td>2021-02-14 18:47:44</td>\n",
              "      <td>1</td>\n",
              "      <td>B07KYFHTGF</td>\n",
              "      <td>1895.25</td>\n",
              "      <td>-99.75</td>\n",
              "    </tr>\n",
              "    <tr>\n",
              "      <th>6</th>\n",
              "      <td>2021-02-14 21:49:20</td>\n",
              "      <td>1</td>\n",
              "      <td>B07TM3LRVB</td>\n",
              "      <td>1078.25</td>\n",
              "      <td>-56.75</td>\n",
              "    </tr>\n",
              "    <tr>\n",
              "      <th>7</th>\n",
              "      <td>2021-02-18 07:55:57</td>\n",
              "      <td>1</td>\n",
              "      <td>B0849NLNTQ</td>\n",
              "      <td>1599.00</td>\n",
              "      <td>0.00</td>\n",
              "    </tr>\n",
              "    <tr>\n",
              "      <th>8</th>\n",
              "      <td>2021-02-24 14:11:53</td>\n",
              "      <td>1</td>\n",
              "      <td>B07TM3LRVB</td>\n",
              "      <td>1078.25</td>\n",
              "      <td>-56.75</td>\n",
              "    </tr>\n",
              "    <tr>\n",
              "      <th>9</th>\n",
              "      <td>2021-01-24 16:47:48</td>\n",
              "      <td>1</td>\n",
              "      <td>B0849NLNTQ</td>\n",
              "      <td>-1599.00</td>\n",
              "      <td>0.00</td>\n",
              "    </tr>\n",
              "    <tr>\n",
              "      <th>10</th>\n",
              "      <td>2021-01-28 10:02:02</td>\n",
              "      <td>1</td>\n",
              "      <td>B08332221J</td>\n",
              "      <td>-1499.00</td>\n",
              "      <td>0.00</td>\n",
              "    </tr>\n",
              "  </tbody>\n",
              "</table>\n",
              "</div>"
            ],
            "text/plain": [
              "            Order Date  Quantity        Asin  Invoice Amount  \\\n",
              "0  2021-02-01 17:28:51         1  B07TM3LRVB         1135.00   \n",
              "1  2021-02-04 09:18:42         1  B07TM3LRVB         1078.25   \n",
              "2  2021-02-12 00:30:53         1  B07TM3LRVB         1078.25   \n",
              "3  2021-02-13 10:30:28         1  B0849NLNTQ         1599.00   \n",
              "4  2021-02-13 12:35:00         1  B0849NLNTQ         1519.05   \n",
              "5  2021-02-14 18:47:44         1  B07KYFHTGF         1895.25   \n",
              "6  2021-02-14 21:49:20         1  B07TM3LRVB         1078.25   \n",
              "7  2021-02-18 07:55:57         1  B0849NLNTQ         1599.00   \n",
              "8  2021-02-24 14:11:53         1  B07TM3LRVB         1078.25   \n",
              "9  2021-01-24 16:47:48         1  B0849NLNTQ        -1599.00   \n",
              "10 2021-01-28 10:02:02         1  B08332221J        -1499.00   \n",
              "\n",
              "    Item Promo Discount  \n",
              "0                  0.00  \n",
              "1                -56.75  \n",
              "2                -56.75  \n",
              "3                  0.00  \n",
              "4                -79.95  \n",
              "5                -99.75  \n",
              "6                -56.75  \n",
              "7                  0.00  \n",
              "8                -56.75  \n",
              "9                  0.00  \n",
              "10                 0.00  "
            ]
          },
          "metadata": {
            "tags": []
          },
          "execution_count": 56
        }
      ]
    },
    {
      "cell_type": "code",
      "metadata": {
        "id": "e07wiSSHSrOB"
      },
      "source": [
        "df_copy['Date'] = df['Order Date'].dt.date"
      ],
      "execution_count": null,
      "outputs": []
    },
    {
      "cell_type": "code",
      "metadata": {
        "id": "izytEAm3aqsJ"
      },
      "source": [
        "df_copy.drop(['Order Date'], inplace = True, axis = 1)"
      ],
      "execution_count": null,
      "outputs": []
    },
    {
      "cell_type": "code",
      "metadata": {
        "colab": {
          "base_uri": "https://localhost:8080/",
          "height": 394
        },
        "id": "YpnEhBAGa5iC",
        "outputId": "a911a2b3-e8d1-4590-8b19-a5a813d581cc"
      },
      "source": [
        "df_copy"
      ],
      "execution_count": null,
      "outputs": [
        {
          "output_type": "execute_result",
          "data": {
            "text/html": [
              "<div>\n",
              "<style scoped>\n",
              "    .dataframe tbody tr th:only-of-type {\n",
              "        vertical-align: middle;\n",
              "    }\n",
              "\n",
              "    .dataframe tbody tr th {\n",
              "        vertical-align: top;\n",
              "    }\n",
              "\n",
              "    .dataframe thead th {\n",
              "        text-align: right;\n",
              "    }\n",
              "</style>\n",
              "<table border=\"1\" class=\"dataframe\">\n",
              "  <thead>\n",
              "    <tr style=\"text-align: right;\">\n",
              "      <th></th>\n",
              "      <th>Quantity</th>\n",
              "      <th>Asin</th>\n",
              "      <th>Invoice Amount</th>\n",
              "      <th>Item Promo Discount</th>\n",
              "      <th>Date</th>\n",
              "    </tr>\n",
              "  </thead>\n",
              "  <tbody>\n",
              "    <tr>\n",
              "      <th>0</th>\n",
              "      <td>1</td>\n",
              "      <td>B07TM3LRVB</td>\n",
              "      <td>1135.00</td>\n",
              "      <td>0.00</td>\n",
              "      <td>2021-02-01</td>\n",
              "    </tr>\n",
              "    <tr>\n",
              "      <th>1</th>\n",
              "      <td>1</td>\n",
              "      <td>B07TM3LRVB</td>\n",
              "      <td>1078.25</td>\n",
              "      <td>-56.75</td>\n",
              "      <td>2021-02-04</td>\n",
              "    </tr>\n",
              "    <tr>\n",
              "      <th>2</th>\n",
              "      <td>1</td>\n",
              "      <td>B07TM3LRVB</td>\n",
              "      <td>1078.25</td>\n",
              "      <td>-56.75</td>\n",
              "      <td>2021-02-12</td>\n",
              "    </tr>\n",
              "    <tr>\n",
              "      <th>3</th>\n",
              "      <td>1</td>\n",
              "      <td>B0849NLNTQ</td>\n",
              "      <td>1599.00</td>\n",
              "      <td>0.00</td>\n",
              "      <td>2021-02-13</td>\n",
              "    </tr>\n",
              "    <tr>\n",
              "      <th>4</th>\n",
              "      <td>1</td>\n",
              "      <td>B0849NLNTQ</td>\n",
              "      <td>1519.05</td>\n",
              "      <td>-79.95</td>\n",
              "      <td>2021-02-13</td>\n",
              "    </tr>\n",
              "    <tr>\n",
              "      <th>5</th>\n",
              "      <td>1</td>\n",
              "      <td>B07KYFHTGF</td>\n",
              "      <td>1895.25</td>\n",
              "      <td>-99.75</td>\n",
              "      <td>2021-02-14</td>\n",
              "    </tr>\n",
              "    <tr>\n",
              "      <th>6</th>\n",
              "      <td>1</td>\n",
              "      <td>B07TM3LRVB</td>\n",
              "      <td>1078.25</td>\n",
              "      <td>-56.75</td>\n",
              "      <td>2021-02-14</td>\n",
              "    </tr>\n",
              "    <tr>\n",
              "      <th>7</th>\n",
              "      <td>1</td>\n",
              "      <td>B0849NLNTQ</td>\n",
              "      <td>1599.00</td>\n",
              "      <td>0.00</td>\n",
              "      <td>2021-02-18</td>\n",
              "    </tr>\n",
              "    <tr>\n",
              "      <th>8</th>\n",
              "      <td>1</td>\n",
              "      <td>B07TM3LRVB</td>\n",
              "      <td>1078.25</td>\n",
              "      <td>-56.75</td>\n",
              "      <td>2021-02-24</td>\n",
              "    </tr>\n",
              "    <tr>\n",
              "      <th>9</th>\n",
              "      <td>1</td>\n",
              "      <td>B0849NLNTQ</td>\n",
              "      <td>-1599.00</td>\n",
              "      <td>0.00</td>\n",
              "      <td>2021-01-24</td>\n",
              "    </tr>\n",
              "    <tr>\n",
              "      <th>10</th>\n",
              "      <td>1</td>\n",
              "      <td>B08332221J</td>\n",
              "      <td>-1499.00</td>\n",
              "      <td>0.00</td>\n",
              "      <td>2021-01-28</td>\n",
              "    </tr>\n",
              "  </tbody>\n",
              "</table>\n",
              "</div>"
            ],
            "text/plain": [
              "    Quantity        Asin  Invoice Amount  Item Promo Discount        Date\n",
              "0          1  B07TM3LRVB         1135.00                 0.00  2021-02-01\n",
              "1          1  B07TM3LRVB         1078.25               -56.75  2021-02-04\n",
              "2          1  B07TM3LRVB         1078.25               -56.75  2021-02-12\n",
              "3          1  B0849NLNTQ         1599.00                 0.00  2021-02-13\n",
              "4          1  B0849NLNTQ         1519.05               -79.95  2021-02-13\n",
              "5          1  B07KYFHTGF         1895.25               -99.75  2021-02-14\n",
              "6          1  B07TM3LRVB         1078.25               -56.75  2021-02-14\n",
              "7          1  B0849NLNTQ         1599.00                 0.00  2021-02-18\n",
              "8          1  B07TM3LRVB         1078.25               -56.75  2021-02-24\n",
              "9          1  B0849NLNTQ        -1599.00                 0.00  2021-01-24\n",
              "10         1  B08332221J        -1499.00                 0.00  2021-01-28"
            ]
          },
          "metadata": {
            "tags": []
          },
          "execution_count": 62
        }
      ]
    },
    {
      "cell_type": "code",
      "metadata": {
        "colab": {
          "base_uri": "https://localhost:8080/"
        },
        "id": "sfMLeeerS7WR",
        "outputId": "78118bc6-2307-4cdf-c38c-925e74915a88"
      },
      "source": [
        "df_copy.groupby(['Date', 'Asin','Invoice Amount','Item Promo Discount'])['Quantity'].sum()"
      ],
      "execution_count": null,
      "outputs": [
        {
          "output_type": "execute_result",
          "data": {
            "text/plain": [
              "Date        Asin        Invoice Amount  Item Promo Discount\n",
              "2021-01-24  B0849NLNTQ  -1599.00         0.00                  1\n",
              "2021-01-28  B08332221J  -1499.00         0.00                  1\n",
              "2021-02-01  B07TM3LRVB   1135.00         0.00                  1\n",
              "2021-02-04  B07TM3LRVB   1078.25        -56.75                 1\n",
              "2021-02-12  B07TM3LRVB   1078.25        -56.75                 1\n",
              "2021-02-13  B0849NLNTQ   1519.05        -79.95                 1\n",
              "                         1599.00         0.00                  1\n",
              "2021-02-14  B07KYFHTGF   1895.25        -99.75                 1\n",
              "            B07TM3LRVB   1078.25        -56.75                 1\n",
              "2021-02-18  B0849NLNTQ   1599.00         0.00                  1\n",
              "2021-02-24  B07TM3LRVB   1078.25        -56.75                 1\n",
              "Name: Quantity, dtype: int64"
            ]
          },
          "metadata": {
            "tags": []
          },
          "execution_count": 63
        }
      ]
    },
    {
      "cell_type": "code",
      "metadata": {
        "id": "GYUbs44dTmPZ"
      },
      "source": [
        "cond  = df_copy['Invoice Amount'] > 0"
      ],
      "execution_count": null,
      "outputs": []
    },
    {
      "cell_type": "code",
      "metadata": {
        "id": "9ATNG6dCWBxC"
      },
      "source": [
        "df = df_copy.where(cond )"
      ],
      "execution_count": null,
      "outputs": []
    },
    {
      "cell_type": "code",
      "metadata": {
        "colab": {
          "base_uri": "https://localhost:8080/",
          "height": 394
        },
        "id": "rp9lhRcPWN7a",
        "outputId": "82c8d6d8-ff89-4800-aeec-fbacaecfb2fb"
      },
      "source": [
        "df"
      ],
      "execution_count": null,
      "outputs": [
        {
          "output_type": "execute_result",
          "data": {
            "text/html": [
              "<div>\n",
              "<style scoped>\n",
              "    .dataframe tbody tr th:only-of-type {\n",
              "        vertical-align: middle;\n",
              "    }\n",
              "\n",
              "    .dataframe tbody tr th {\n",
              "        vertical-align: top;\n",
              "    }\n",
              "\n",
              "    .dataframe thead th {\n",
              "        text-align: right;\n",
              "    }\n",
              "</style>\n",
              "<table border=\"1\" class=\"dataframe\">\n",
              "  <thead>\n",
              "    <tr style=\"text-align: right;\">\n",
              "      <th></th>\n",
              "      <th>Quantity</th>\n",
              "      <th>Asin</th>\n",
              "      <th>Invoice Amount</th>\n",
              "      <th>Item Promo Discount</th>\n",
              "      <th>Date</th>\n",
              "    </tr>\n",
              "  </thead>\n",
              "  <tbody>\n",
              "    <tr>\n",
              "      <th>0</th>\n",
              "      <td>1.0</td>\n",
              "      <td>B07TM3LRVB</td>\n",
              "      <td>1135.00</td>\n",
              "      <td>0.00</td>\n",
              "      <td>2021-02-01</td>\n",
              "    </tr>\n",
              "    <tr>\n",
              "      <th>1</th>\n",
              "      <td>1.0</td>\n",
              "      <td>B07TM3LRVB</td>\n",
              "      <td>1078.25</td>\n",
              "      <td>-56.75</td>\n",
              "      <td>2021-02-04</td>\n",
              "    </tr>\n",
              "    <tr>\n",
              "      <th>2</th>\n",
              "      <td>1.0</td>\n",
              "      <td>B07TM3LRVB</td>\n",
              "      <td>1078.25</td>\n",
              "      <td>-56.75</td>\n",
              "      <td>2021-02-12</td>\n",
              "    </tr>\n",
              "    <tr>\n",
              "      <th>3</th>\n",
              "      <td>1.0</td>\n",
              "      <td>B0849NLNTQ</td>\n",
              "      <td>1599.00</td>\n",
              "      <td>0.00</td>\n",
              "      <td>2021-02-13</td>\n",
              "    </tr>\n",
              "    <tr>\n",
              "      <th>4</th>\n",
              "      <td>1.0</td>\n",
              "      <td>B0849NLNTQ</td>\n",
              "      <td>1519.05</td>\n",
              "      <td>-79.95</td>\n",
              "      <td>2021-02-13</td>\n",
              "    </tr>\n",
              "    <tr>\n",
              "      <th>5</th>\n",
              "      <td>1.0</td>\n",
              "      <td>B07KYFHTGF</td>\n",
              "      <td>1895.25</td>\n",
              "      <td>-99.75</td>\n",
              "      <td>2021-02-14</td>\n",
              "    </tr>\n",
              "    <tr>\n",
              "      <th>6</th>\n",
              "      <td>1.0</td>\n",
              "      <td>B07TM3LRVB</td>\n",
              "      <td>1078.25</td>\n",
              "      <td>-56.75</td>\n",
              "      <td>2021-02-14</td>\n",
              "    </tr>\n",
              "    <tr>\n",
              "      <th>7</th>\n",
              "      <td>1.0</td>\n",
              "      <td>B0849NLNTQ</td>\n",
              "      <td>1599.00</td>\n",
              "      <td>0.00</td>\n",
              "      <td>2021-02-18</td>\n",
              "    </tr>\n",
              "    <tr>\n",
              "      <th>8</th>\n",
              "      <td>1.0</td>\n",
              "      <td>B07TM3LRVB</td>\n",
              "      <td>1078.25</td>\n",
              "      <td>-56.75</td>\n",
              "      <td>2021-02-24</td>\n",
              "    </tr>\n",
              "    <tr>\n",
              "      <th>9</th>\n",
              "      <td>NaN</td>\n",
              "      <td>NaN</td>\n",
              "      <td>NaN</td>\n",
              "      <td>NaN</td>\n",
              "      <td>NaN</td>\n",
              "    </tr>\n",
              "    <tr>\n",
              "      <th>10</th>\n",
              "      <td>NaN</td>\n",
              "      <td>NaN</td>\n",
              "      <td>NaN</td>\n",
              "      <td>NaN</td>\n",
              "      <td>NaN</td>\n",
              "    </tr>\n",
              "  </tbody>\n",
              "</table>\n",
              "</div>"
            ],
            "text/plain": [
              "    Quantity        Asin  Invoice Amount  Item Promo Discount        Date\n",
              "0        1.0  B07TM3LRVB         1135.00                 0.00  2021-02-01\n",
              "1        1.0  B07TM3LRVB         1078.25               -56.75  2021-02-04\n",
              "2        1.0  B07TM3LRVB         1078.25               -56.75  2021-02-12\n",
              "3        1.0  B0849NLNTQ         1599.00                 0.00  2021-02-13\n",
              "4        1.0  B0849NLNTQ         1519.05               -79.95  2021-02-13\n",
              "5        1.0  B07KYFHTGF         1895.25               -99.75  2021-02-14\n",
              "6        1.0  B07TM3LRVB         1078.25               -56.75  2021-02-14\n",
              "7        1.0  B0849NLNTQ         1599.00                 0.00  2021-02-18\n",
              "8        1.0  B07TM3LRVB         1078.25               -56.75  2021-02-24\n",
              "9        NaN         NaN             NaN                  NaN         NaN\n",
              "10       NaN         NaN             NaN                  NaN         NaN"
            ]
          },
          "metadata": {
            "tags": []
          },
          "execution_count": 66
        }
      ]
    },
    {
      "cell_type": "code",
      "metadata": {
        "id": "pA7no7NhXx2J"
      },
      "source": [
        "df.dropna(how='all',inplace=True)"
      ],
      "execution_count": null,
      "outputs": []
    },
    {
      "cell_type": "code",
      "metadata": {
        "id": "YmHQ8JNEX1sy"
      },
      "source": [
        "df_1 = pd.DataFrame(df.groupby(['Date', 'Asin','Invoice Amount','Item Promo Discount'])['Quantity'].sum())"
      ],
      "execution_count": null,
      "outputs": []
    },
    {
      "cell_type": "code",
      "metadata": {
        "id": "26ioqGN_j0vP"
      },
      "source": [
        "df_1['Date'] = pd.to_datetime(df_1['Date'])"
      ],
      "execution_count": null,
      "outputs": []
    },
    {
      "cell_type": "code",
      "metadata": {
        "id": "KKBh7WXfYp5K"
      },
      "source": [
        "df_1 = df_1.reset_index()"
      ],
      "execution_count": null,
      "outputs": []
    },
    {
      "cell_type": "code",
      "metadata": {
        "colab": {
          "base_uri": "https://localhost:8080/",
          "height": 332
        },
        "id": "H1F4uf7TY4XK",
        "outputId": "2e1fcb79-c0b6-45b5-e585-6f567721e280"
      },
      "source": [
        "df_1"
      ],
      "execution_count": null,
      "outputs": [
        {
          "output_type": "execute_result",
          "data": {
            "text/html": [
              "<div>\n",
              "<style scoped>\n",
              "    .dataframe tbody tr th:only-of-type {\n",
              "        vertical-align: middle;\n",
              "    }\n",
              "\n",
              "    .dataframe tbody tr th {\n",
              "        vertical-align: top;\n",
              "    }\n",
              "\n",
              "    .dataframe thead th {\n",
              "        text-align: right;\n",
              "    }\n",
              "</style>\n",
              "<table border=\"1\" class=\"dataframe\">\n",
              "  <thead>\n",
              "    <tr style=\"text-align: right;\">\n",
              "      <th></th>\n",
              "      <th>Date</th>\n",
              "      <th>Asin</th>\n",
              "      <th>Invoice Amount</th>\n",
              "      <th>Item Promo Discount</th>\n",
              "      <th>Quantity</th>\n",
              "    </tr>\n",
              "  </thead>\n",
              "  <tbody>\n",
              "    <tr>\n",
              "      <th>0</th>\n",
              "      <td>2021-02-01</td>\n",
              "      <td>B07TM3LRVB</td>\n",
              "      <td>1135.00</td>\n",
              "      <td>0.00</td>\n",
              "      <td>1.0</td>\n",
              "    </tr>\n",
              "    <tr>\n",
              "      <th>1</th>\n",
              "      <td>2021-02-04</td>\n",
              "      <td>B07TM3LRVB</td>\n",
              "      <td>1078.25</td>\n",
              "      <td>-56.75</td>\n",
              "      <td>1.0</td>\n",
              "    </tr>\n",
              "    <tr>\n",
              "      <th>2</th>\n",
              "      <td>2021-02-12</td>\n",
              "      <td>B07TM3LRVB</td>\n",
              "      <td>1078.25</td>\n",
              "      <td>-56.75</td>\n",
              "      <td>1.0</td>\n",
              "    </tr>\n",
              "    <tr>\n",
              "      <th>3</th>\n",
              "      <td>2021-02-13</td>\n",
              "      <td>B0849NLNTQ</td>\n",
              "      <td>1519.05</td>\n",
              "      <td>-79.95</td>\n",
              "      <td>1.0</td>\n",
              "    </tr>\n",
              "    <tr>\n",
              "      <th>4</th>\n",
              "      <td>2021-02-13</td>\n",
              "      <td>B0849NLNTQ</td>\n",
              "      <td>1599.00</td>\n",
              "      <td>0.00</td>\n",
              "      <td>1.0</td>\n",
              "    </tr>\n",
              "    <tr>\n",
              "      <th>5</th>\n",
              "      <td>2021-02-14</td>\n",
              "      <td>B07KYFHTGF</td>\n",
              "      <td>1895.25</td>\n",
              "      <td>-99.75</td>\n",
              "      <td>1.0</td>\n",
              "    </tr>\n",
              "    <tr>\n",
              "      <th>6</th>\n",
              "      <td>2021-02-14</td>\n",
              "      <td>B07TM3LRVB</td>\n",
              "      <td>1078.25</td>\n",
              "      <td>-56.75</td>\n",
              "      <td>1.0</td>\n",
              "    </tr>\n",
              "    <tr>\n",
              "      <th>7</th>\n",
              "      <td>2021-02-18</td>\n",
              "      <td>B0849NLNTQ</td>\n",
              "      <td>1599.00</td>\n",
              "      <td>0.00</td>\n",
              "      <td>1.0</td>\n",
              "    </tr>\n",
              "    <tr>\n",
              "      <th>8</th>\n",
              "      <td>2021-02-24</td>\n",
              "      <td>B07TM3LRVB</td>\n",
              "      <td>1078.25</td>\n",
              "      <td>-56.75</td>\n",
              "      <td>1.0</td>\n",
              "    </tr>\n",
              "  </tbody>\n",
              "</table>\n",
              "</div>"
            ],
            "text/plain": [
              "         Date        Asin  Invoice Amount  Item Promo Discount  Quantity\n",
              "0  2021-02-01  B07TM3LRVB         1135.00                 0.00       1.0\n",
              "1  2021-02-04  B07TM3LRVB         1078.25               -56.75       1.0\n",
              "2  2021-02-12  B07TM3LRVB         1078.25               -56.75       1.0\n",
              "3  2021-02-13  B0849NLNTQ         1519.05               -79.95       1.0\n",
              "4  2021-02-13  B0849NLNTQ         1599.00                 0.00       1.0\n",
              "5  2021-02-14  B07KYFHTGF         1895.25               -99.75       1.0\n",
              "6  2021-02-14  B07TM3LRVB         1078.25               -56.75       1.0\n",
              "7  2021-02-18  B0849NLNTQ         1599.00                 0.00       1.0\n",
              "8  2021-02-24  B07TM3LRVB         1078.25               -56.75       1.0"
            ]
          },
          "metadata": {
            "tags": []
          },
          "execution_count": 71
        }
      ]
    },
    {
      "cell_type": "code",
      "metadata": {
        "id": "Kbp-2y8ggomg"
      },
      "source": [
        "df_2 = df_1.set_index('Date')"
      ],
      "execution_count": null,
      "outputs": []
    },
    {
      "cell_type": "code",
      "metadata": {
        "colab": {
          "base_uri": "https://localhost:8080/"
        },
        "id": "Yh9oCtytkSe-",
        "outputId": "cdd984d4-0a18-499f-cc16-808382f2db39"
      },
      "source": [
        "df_2.loc['2021-02-12']"
      ],
      "execution_count": null,
      "outputs": [
        {
          "output_type": "execute_result",
          "data": {
            "text/plain": [
              "Asin                   B07TM3LRVB\n",
              "Invoice Amount            1078.25\n",
              "Item Promo Discount        -56.75\n",
              "Quantity                        1\n",
              "Name: 2021-02-12 00:00:00, dtype: object"
            ]
          },
          "metadata": {
            "tags": []
          },
          "execution_count": 105
        }
      ]
    },
    {
      "cell_type": "code",
      "metadata": {
        "colab": {
          "base_uri": "https://localhost:8080/",
          "height": 36
        },
        "id": "KreYsjmyggr5",
        "outputId": "0cfdae2e-7625-4221-d46f-96560510bdb0"
      },
      "source": [
        "df_2.loc['2021-02-12']['Asin']"
      ],
      "execution_count": null,
      "outputs": [
        {
          "output_type": "execute_result",
          "data": {
            "application/vnd.google.colaboratory.intrinsic+json": {
              "type": "string"
            },
            "text/plain": [
              "'B07TM3LRVB'"
            ]
          },
          "metadata": {
            "tags": []
          },
          "execution_count": 106
        }
      ]
    },
    {
      "cell_type": "markdown",
      "metadata": {
        "id": "_p_2tTjGJOzb"
      },
      "source": [
        "##### Using a different dataframe"
      ]
    },
    {
      "cell_type": "markdown",
      "metadata": {
        "id": "YDmcoyDHJ-pR"
      },
      "source": [
        "**Item promo can lead to data_leakage, we might have to remove it and then get the dates in which we had coupons and ads in amazon, then use that**"
      ]
    },
    {
      "cell_type": "code",
      "metadata": {
        "id": "LZ8ku7vhlakE"
      },
      "source": [
        "df_new = df_dicts[2]\n",
        "df_new_1 = df_new.copy()"
      ],
      "execution_count": null,
      "outputs": []
    },
    {
      "cell_type": "code",
      "metadata": {
        "id": "6v5A3VSIJTEv"
      },
      "source": [
        "df_new_1['date'] = df_new['Order Date'].dt.date"
      ],
      "execution_count": null,
      "outputs": []
    },
    {
      "cell_type": "code",
      "metadata": {
        "id": "ljSlL6FcUCz-"
      },
      "source": [
        "df_new  = df_new_1.drop(['Order Date'],axis=1)"
      ],
      "execution_count": null,
      "outputs": []
    },
    {
      "cell_type": "code",
      "metadata": {
        "colab": {
          "base_uri": "https://localhost:8080/",
          "height": 424
        },
        "id": "4_8qKGBdUbcX",
        "outputId": "7a134f7c-320f-4f2f-be8f-ec58fa0c7dab"
      },
      "source": [
        "df_new"
      ],
      "execution_count": null,
      "outputs": [
        {
          "output_type": "execute_result",
          "data": {
            "text/html": [
              "<div>\n",
              "<style scoped>\n",
              "    .dataframe tbody tr th:only-of-type {\n",
              "        vertical-align: middle;\n",
              "    }\n",
              "\n",
              "    .dataframe tbody tr th {\n",
              "        vertical-align: top;\n",
              "    }\n",
              "\n",
              "    .dataframe thead th {\n",
              "        text-align: right;\n",
              "    }\n",
              "</style>\n",
              "<table border=\"1\" class=\"dataframe\">\n",
              "  <thead>\n",
              "    <tr style=\"text-align: right;\">\n",
              "      <th></th>\n",
              "      <th>Quantity</th>\n",
              "      <th>Asin</th>\n",
              "      <th>Invoice Amount</th>\n",
              "      <th>Item Promo Discount</th>\n",
              "      <th>date</th>\n",
              "    </tr>\n",
              "  </thead>\n",
              "  <tbody>\n",
              "    <tr>\n",
              "      <th>0</th>\n",
              "      <td>1</td>\n",
              "      <td>B07TM3LRVB</td>\n",
              "      <td>-1135.00</td>\n",
              "      <td>0.00</td>\n",
              "      <td>2020-12-28</td>\n",
              "    </tr>\n",
              "    <tr>\n",
              "      <th>1</th>\n",
              "      <td>1</td>\n",
              "      <td>B07TM3LRVB</td>\n",
              "      <td>-1135.00</td>\n",
              "      <td>0.00</td>\n",
              "      <td>2020-12-25</td>\n",
              "    </tr>\n",
              "    <tr>\n",
              "      <th>2</th>\n",
              "      <td>1</td>\n",
              "      <td>B07TM3LRVB</td>\n",
              "      <td>-1135.00</td>\n",
              "      <td>0.00</td>\n",
              "      <td>2020-12-28</td>\n",
              "    </tr>\n",
              "    <tr>\n",
              "      <th>3</th>\n",
              "      <td>1</td>\n",
              "      <td>B07TM3LRVB</td>\n",
              "      <td>-1135.00</td>\n",
              "      <td>0.00</td>\n",
              "      <td>2020-12-23</td>\n",
              "    </tr>\n",
              "    <tr>\n",
              "      <th>4</th>\n",
              "      <td>1</td>\n",
              "      <td>B07TM3LRVB</td>\n",
              "      <td>-1135.00</td>\n",
              "      <td>0.00</td>\n",
              "      <td>2020-12-18</td>\n",
              "    </tr>\n",
              "    <tr>\n",
              "      <th>...</th>\n",
              "      <td>...</td>\n",
              "      <td>...</td>\n",
              "      <td>...</td>\n",
              "      <td>...</td>\n",
              "      <td>...</td>\n",
              "    </tr>\n",
              "    <tr>\n",
              "      <th>926</th>\n",
              "      <td>1</td>\n",
              "      <td>B07TM3LRVB</td>\n",
              "      <td>1078.25</td>\n",
              "      <td>-56.75</td>\n",
              "      <td>2021-01-31</td>\n",
              "    </tr>\n",
              "    <tr>\n",
              "      <th>927</th>\n",
              "      <td>1</td>\n",
              "      <td>B08332221J</td>\n",
              "      <td>1424.05</td>\n",
              "      <td>-74.95</td>\n",
              "      <td>2021-01-31</td>\n",
              "    </tr>\n",
              "    <tr>\n",
              "      <th>928</th>\n",
              "      <td>1</td>\n",
              "      <td>B0849NLNTQ</td>\n",
              "      <td>1599.00</td>\n",
              "      <td>0.00</td>\n",
              "      <td>2021-01-31</td>\n",
              "    </tr>\n",
              "    <tr>\n",
              "      <th>929</th>\n",
              "      <td>1</td>\n",
              "      <td>B07TM3LRVB</td>\n",
              "      <td>1078.25</td>\n",
              "      <td>-56.75</td>\n",
              "      <td>2021-01-31</td>\n",
              "    </tr>\n",
              "    <tr>\n",
              "      <th>930</th>\n",
              "      <td>1</td>\n",
              "      <td>B0859B5J8T</td>\n",
              "      <td>499.00</td>\n",
              "      <td>0.00</td>\n",
              "      <td>2021-01-31</td>\n",
              "    </tr>\n",
              "  </tbody>\n",
              "</table>\n",
              "<p>931 rows × 5 columns</p>\n",
              "</div>"
            ],
            "text/plain": [
              "     Quantity        Asin  Invoice Amount  Item Promo Discount        date\n",
              "0           1  B07TM3LRVB        -1135.00                 0.00  2020-12-28\n",
              "1           1  B07TM3LRVB        -1135.00                 0.00  2020-12-25\n",
              "2           1  B07TM3LRVB        -1135.00                 0.00  2020-12-28\n",
              "3           1  B07TM3LRVB        -1135.00                 0.00  2020-12-23\n",
              "4           1  B07TM3LRVB        -1135.00                 0.00  2020-12-18\n",
              "..        ...         ...             ...                  ...         ...\n",
              "926         1  B07TM3LRVB         1078.25               -56.75  2021-01-31\n",
              "927         1  B08332221J         1424.05               -74.95  2021-01-31\n",
              "928         1  B0849NLNTQ         1599.00                 0.00  2021-01-31\n",
              "929         1  B07TM3LRVB         1078.25               -56.75  2021-01-31\n",
              "930         1  B0859B5J8T          499.00                 0.00  2021-01-31\n",
              "\n",
              "[931 rows x 5 columns]"
            ]
          },
          "metadata": {
            "tags": []
          },
          "execution_count": 10
        }
      ]
    },
    {
      "cell_type": "code",
      "metadata": {
        "colab": {
          "base_uri": "https://localhost:8080/"
        },
        "id": "11dt5GT2Ut7e",
        "outputId": "43dde308-8a35-476c-cf48-868b5bda0b45"
      },
      "source": [
        "asin_list = df_new.Asin.unique()\n",
        "asin_list"
      ],
      "execution_count": null,
      "outputs": [
        {
          "output_type": "execute_result",
          "data": {
            "text/plain": [
              "array(['B07TM3LRVB', 'B0849NLNTQ', 'B08332221J', 'B07MK32L49', 'B08976V1BZ', 'B0859193NJ', 'B07TJ1HDTM', 'B0858X26QM', 'B07KYFHTGF', 'B0859B5J8T', 'B0897LPBHR', 'B084JJWJ31', 'B07W1YYQ9G',\n",
              "       'B07ZBCTB9N', 'B07S8NC532', 'B07YC69QKT', 'B07Z7QX6ST'], dtype=object)"
            ]
          },
          "metadata": {
            "tags": []
          },
          "execution_count": 11
        }
      ]
    },
    {
      "cell_type": "code",
      "metadata": {
        "id": "D0Wu0v_mUR25"
      },
      "source": [
        "df_asin = pd.DataFrame()"
      ],
      "execution_count": null,
      "outputs": []
    },
    {
      "cell_type": "code",
      "metadata": {
        "colab": {
          "base_uri": "https://localhost:8080/"
        },
        "id": "0FTfAuDRVKx6",
        "outputId": "d6d72986-dd15-4d7a-b4fc-81c172e3b7b0"
      },
      "source": [
        "df_new.dtypes"
      ],
      "execution_count": null,
      "outputs": [
        {
          "output_type": "execute_result",
          "data": {
            "text/plain": [
              "Quantity                 int64\n",
              "Asin                    object\n",
              "Invoice Amount         float64\n",
              "Item Promo Discount    float64\n",
              "date                    object\n",
              "dtype: object"
            ]
          },
          "metadata": {
            "tags": []
          },
          "execution_count": 20
        }
      ]
    },
    {
      "cell_type": "code",
      "metadata": {
        "id": "tRyU-MLIVuWH"
      },
      "source": [
        "df_new['date'] = pd.to_datetime(df_new['date'])"
      ],
      "execution_count": null,
      "outputs": []
    },
    {
      "cell_type": "code",
      "metadata": {
        "colab": {
          "base_uri": "https://localhost:8080/"
        },
        "id": "RJ9HCRLNVzie",
        "outputId": "f4f6c682-59e6-47ee-8177-0dfb40af221f"
      },
      "source": [
        "df_new.dtypes"
      ],
      "execution_count": null,
      "outputs": [
        {
          "output_type": "execute_result",
          "data": {
            "text/plain": [
              "Quantity                        int64\n",
              "Asin                           object\n",
              "Invoice Amount                float64\n",
              "Item Promo Discount           float64\n",
              "date                   datetime64[ns]\n",
              "dtype: object"
            ]
          },
          "metadata": {
            "tags": []
          },
          "execution_count": 22
        }
      ]
    },
    {
      "cell_type": "markdown",
      "metadata": {
        "id": "Urm9_MBuXW5t"
      },
      "source": [
        "##### Removing refund and returns"
      ]
    },
    {
      "cell_type": "code",
      "metadata": {
        "colab": {
          "base_uri": "https://localhost:8080/",
          "height": 206
        },
        "id": "5d24KtOKV2YX",
        "outputId": "9b5d159e-72e7-44b1-c025-37ea12e485fd"
      },
      "source": [
        "df_new.head()"
      ],
      "execution_count": null,
      "outputs": [
        {
          "output_type": "execute_result",
          "data": {
            "text/html": [
              "<div>\n",
              "<style scoped>\n",
              "    .dataframe tbody tr th:only-of-type {\n",
              "        vertical-align: middle;\n",
              "    }\n",
              "\n",
              "    .dataframe tbody tr th {\n",
              "        vertical-align: top;\n",
              "    }\n",
              "\n",
              "    .dataframe thead th {\n",
              "        text-align: right;\n",
              "    }\n",
              "</style>\n",
              "<table border=\"1\" class=\"dataframe\">\n",
              "  <thead>\n",
              "    <tr style=\"text-align: right;\">\n",
              "      <th></th>\n",
              "      <th>Quantity</th>\n",
              "      <th>Asin</th>\n",
              "      <th>Invoice Amount</th>\n",
              "      <th>Item Promo Discount</th>\n",
              "      <th>date</th>\n",
              "    </tr>\n",
              "  </thead>\n",
              "  <tbody>\n",
              "    <tr>\n",
              "      <th>0</th>\n",
              "      <td>1</td>\n",
              "      <td>B07TM3LRVB</td>\n",
              "      <td>-1135.0</td>\n",
              "      <td>0.0</td>\n",
              "      <td>2020-12-28</td>\n",
              "    </tr>\n",
              "    <tr>\n",
              "      <th>1</th>\n",
              "      <td>1</td>\n",
              "      <td>B07TM3LRVB</td>\n",
              "      <td>-1135.0</td>\n",
              "      <td>0.0</td>\n",
              "      <td>2020-12-25</td>\n",
              "    </tr>\n",
              "    <tr>\n",
              "      <th>2</th>\n",
              "      <td>1</td>\n",
              "      <td>B07TM3LRVB</td>\n",
              "      <td>-1135.0</td>\n",
              "      <td>0.0</td>\n",
              "      <td>2020-12-28</td>\n",
              "    </tr>\n",
              "    <tr>\n",
              "      <th>3</th>\n",
              "      <td>1</td>\n",
              "      <td>B07TM3LRVB</td>\n",
              "      <td>-1135.0</td>\n",
              "      <td>0.0</td>\n",
              "      <td>2020-12-23</td>\n",
              "    </tr>\n",
              "    <tr>\n",
              "      <th>4</th>\n",
              "      <td>1</td>\n",
              "      <td>B07TM3LRVB</td>\n",
              "      <td>-1135.0</td>\n",
              "      <td>0.0</td>\n",
              "      <td>2020-12-18</td>\n",
              "    </tr>\n",
              "  </tbody>\n",
              "</table>\n",
              "</div>"
            ],
            "text/plain": [
              "   Quantity        Asin  Invoice Amount  Item Promo Discount       date\n",
              "0         1  B07TM3LRVB         -1135.0                  0.0 2020-12-28\n",
              "1         1  B07TM3LRVB         -1135.0                  0.0 2020-12-25\n",
              "2         1  B07TM3LRVB         -1135.0                  0.0 2020-12-28\n",
              "3         1  B07TM3LRVB         -1135.0                  0.0 2020-12-23\n",
              "4         1  B07TM3LRVB         -1135.0                  0.0 2020-12-18"
            ]
          },
          "metadata": {
            "tags": []
          },
          "execution_count": 13
        }
      ]
    },
    {
      "cell_type": "code",
      "metadata": {
        "id": "owwy6RaGXjW8"
      },
      "source": [
        "cond = df_new['Invoice Amount'] > 0\n",
        "\n",
        "df_new_2  = df_new.where(cond)\n",
        "df_new_2.dropna(how='all',inplace = True)"
      ],
      "execution_count": null,
      "outputs": []
    },
    {
      "cell_type": "code",
      "metadata": {
        "colab": {
          "base_uri": "https://localhost:8080/",
          "height": 206
        },
        "id": "4TvF4W96YQXC",
        "outputId": "77fd2f38-1959-4af6-a6fa-9917aa7e3eb2"
      },
      "source": [
        "df_new_2.head()\n"
      ],
      "execution_count": null,
      "outputs": [
        {
          "output_type": "execute_result",
          "data": {
            "text/html": [
              "<div>\n",
              "<style scoped>\n",
              "    .dataframe tbody tr th:only-of-type {\n",
              "        vertical-align: middle;\n",
              "    }\n",
              "\n",
              "    .dataframe tbody tr th {\n",
              "        vertical-align: top;\n",
              "    }\n",
              "\n",
              "    .dataframe thead th {\n",
              "        text-align: right;\n",
              "    }\n",
              "</style>\n",
              "<table border=\"1\" class=\"dataframe\">\n",
              "  <thead>\n",
              "    <tr style=\"text-align: right;\">\n",
              "      <th></th>\n",
              "      <th>Quantity</th>\n",
              "      <th>Asin</th>\n",
              "      <th>Invoice Amount</th>\n",
              "      <th>Item Promo Discount</th>\n",
              "      <th>date</th>\n",
              "    </tr>\n",
              "  </thead>\n",
              "  <tbody>\n",
              "    <tr>\n",
              "      <th>22</th>\n",
              "      <td>1.0</td>\n",
              "      <td>B07TM3LRVB</td>\n",
              "      <td>1135.0</td>\n",
              "      <td>0.0</td>\n",
              "      <td>2020-12-31</td>\n",
              "    </tr>\n",
              "    <tr>\n",
              "      <th>23</th>\n",
              "      <td>1.0</td>\n",
              "      <td>B07TM3LRVB</td>\n",
              "      <td>1135.0</td>\n",
              "      <td>0.0</td>\n",
              "      <td>2021-01-01</td>\n",
              "    </tr>\n",
              "    <tr>\n",
              "      <th>24</th>\n",
              "      <td>1.0</td>\n",
              "      <td>B08332221J</td>\n",
              "      <td>1499.0</td>\n",
              "      <td>0.0</td>\n",
              "      <td>2021-01-01</td>\n",
              "    </tr>\n",
              "    <tr>\n",
              "      <th>25</th>\n",
              "      <td>1.0</td>\n",
              "      <td>B07TM3LRVB</td>\n",
              "      <td>1135.0</td>\n",
              "      <td>0.0</td>\n",
              "      <td>2021-01-01</td>\n",
              "    </tr>\n",
              "    <tr>\n",
              "      <th>26</th>\n",
              "      <td>1.0</td>\n",
              "      <td>B07TM3LRVB</td>\n",
              "      <td>1135.0</td>\n",
              "      <td>0.0</td>\n",
              "      <td>2021-01-01</td>\n",
              "    </tr>\n",
              "  </tbody>\n",
              "</table>\n",
              "</div>"
            ],
            "text/plain": [
              "    Quantity        Asin  Invoice Amount  Item Promo Discount       date\n",
              "22       1.0  B07TM3LRVB          1135.0                  0.0 2020-12-31\n",
              "23       1.0  B07TM3LRVB          1135.0                  0.0 2021-01-01\n",
              "24       1.0  B08332221J          1499.0                  0.0 2021-01-01\n",
              "25       1.0  B07TM3LRVB          1135.0                  0.0 2021-01-01\n",
              "26       1.0  B07TM3LRVB          1135.0                  0.0 2021-01-01"
            ]
          },
          "metadata": {
            "tags": []
          },
          "execution_count": 15
        }
      ]
    },
    {
      "cell_type": "code",
      "metadata": {
        "colab": {
          "base_uri": "https://localhost:8080/"
        },
        "id": "9q-uQDZNYICu",
        "outputId": "dc0b589d-1a15-4237-9edd-8645d406d144"
      },
      "source": [
        "df_new.shape"
      ],
      "execution_count": null,
      "outputs": [
        {
          "output_type": "execute_result",
          "data": {
            "text/plain": [
              "(931, 5)"
            ]
          },
          "metadata": {
            "tags": []
          },
          "execution_count": 16
        }
      ]
    },
    {
      "cell_type": "code",
      "metadata": {
        "colab": {
          "base_uri": "https://localhost:8080/"
        },
        "id": "Y3gP2q_HYE5j",
        "outputId": "779c2899-5d82-46fa-a01a-540f65ea4fc9"
      },
      "source": [
        "df_new_2.shape"
      ],
      "execution_count": null,
      "outputs": [
        {
          "output_type": "execute_result",
          "data": {
            "text/plain": [
              "(760, 5)"
            ]
          },
          "metadata": {
            "tags": []
          },
          "execution_count": 17
        }
      ]
    },
    {
      "cell_type": "code",
      "metadata": {
        "id": "D1eU7LvHYKfR"
      },
      "source": [
        "max_date = max(df_new_2['date']) \n",
        "min_date = (min(df_new_2['date']))"
      ],
      "execution_count": null,
      "outputs": []
    },
    {
      "cell_type": "code",
      "metadata": {
        "colab": {
          "base_uri": "https://localhost:8080/",
          "height": 81
        },
        "id": "3O4QBZCFYWDY",
        "outputId": "de1318db-cb1b-48f5-f0b8-571a014c0a38"
      },
      "source": [
        "df_new_2.loc[df_new_2['date']== '2020-12-31 ']"
      ],
      "execution_count": null,
      "outputs": [
        {
          "output_type": "execute_result",
          "data": {
            "text/html": [
              "<div>\n",
              "<style scoped>\n",
              "    .dataframe tbody tr th:only-of-type {\n",
              "        vertical-align: middle;\n",
              "    }\n",
              "\n",
              "    .dataframe tbody tr th {\n",
              "        vertical-align: top;\n",
              "    }\n",
              "\n",
              "    .dataframe thead th {\n",
              "        text-align: right;\n",
              "    }\n",
              "</style>\n",
              "<table border=\"1\" class=\"dataframe\">\n",
              "  <thead>\n",
              "    <tr style=\"text-align: right;\">\n",
              "      <th></th>\n",
              "      <th>Quantity</th>\n",
              "      <th>Asin</th>\n",
              "      <th>Invoice Amount</th>\n",
              "      <th>Item Promo Discount</th>\n",
              "      <th>date</th>\n",
              "    </tr>\n",
              "  </thead>\n",
              "  <tbody>\n",
              "    <tr>\n",
              "      <th>22</th>\n",
              "      <td>1.0</td>\n",
              "      <td>B07TM3LRVB</td>\n",
              "      <td>1135.0</td>\n",
              "      <td>0.0</td>\n",
              "      <td>2020-12-31</td>\n",
              "    </tr>\n",
              "  </tbody>\n",
              "</table>\n",
              "</div>"
            ],
            "text/plain": [
              "    Quantity        Asin  Invoice Amount  Item Promo Discount       date\n",
              "22       1.0  B07TM3LRVB          1135.0                  0.0 2020-12-31"
            ]
          },
          "metadata": {
            "tags": []
          },
          "execution_count": 15
        }
      ]
    },
    {
      "cell_type": "code",
      "metadata": {
        "id": "WksGLw78ZEVN"
      },
      "source": [
        "# finding all the dates btw max and min\n",
        "\n",
        "date_list  = pd.date_range(min_date,max_date)"
      ],
      "execution_count": null,
      "outputs": []
    },
    {
      "cell_type": "code",
      "metadata": {
        "id": "-7LS6DuCcyb7"
      },
      "source": [
        "df_asin = pd.DataFrame(columns = ['date', 'Asin', 'Item Promo Discount', 'Quantity'])"
      ],
      "execution_count": null,
      "outputs": []
    },
    {
      "cell_type": "code",
      "metadata": {
        "colab": {
          "base_uri": "https://localhost:8080/",
          "height": 49
        },
        "id": "2x2PGtZTgyQB",
        "outputId": "2dc2043a-c0a0-4925-86e3-e82923df8b6f"
      },
      "source": [
        "df_asin"
      ],
      "execution_count": null,
      "outputs": [
        {
          "output_type": "execute_result",
          "data": {
            "text/html": [
              "<div>\n",
              "<style scoped>\n",
              "    .dataframe tbody tr th:only-of-type {\n",
              "        vertical-align: middle;\n",
              "    }\n",
              "\n",
              "    .dataframe tbody tr th {\n",
              "        vertical-align: top;\n",
              "    }\n",
              "\n",
              "    .dataframe thead th {\n",
              "        text-align: right;\n",
              "    }\n",
              "</style>\n",
              "<table border=\"1\" class=\"dataframe\">\n",
              "  <thead>\n",
              "    <tr style=\"text-align: right;\">\n",
              "      <th></th>\n",
              "      <th>date</th>\n",
              "      <th>Asin</th>\n",
              "      <th>Item Promo Discount</th>\n",
              "      <th>Quantity</th>\n",
              "    </tr>\n",
              "  </thead>\n",
              "  <tbody>\n",
              "  </tbody>\n",
              "</table>\n",
              "</div>"
            ],
            "text/plain": [
              "Empty DataFrame\n",
              "Columns: [date, Asin, Item Promo Discount, Quantity]\n",
              "Index: []"
            ]
          },
          "metadata": {
            "tags": []
          },
          "execution_count": 41
        }
      ]
    },
    {
      "cell_type": "code",
      "metadata": {
        "id": "Je38CwPpU8zd"
      },
      "source": [
        "index = 0\n",
        "while True:\n",
        "\n",
        "  for date in (date_list) :\n",
        "    for asin in (asin_list):\n",
        "      df_asin.loc[index] = [date,asin,0,0]\n",
        "      index = index + 1\n",
        "\n",
        "  break    "
      ],
      "execution_count": null,
      "outputs": []
    },
    {
      "cell_type": "code",
      "metadata": {
        "colab": {
          "base_uri": "https://localhost:8080/",
          "height": 206
        },
        "id": "WDct8XB2bFNZ",
        "outputId": "448790d4-a402-4ac1-9072-a2f5c63312ec"
      },
      "source": [
        "df_1 = df_asin.head(5)\n",
        "df_1"
      ],
      "execution_count": null,
      "outputs": [
        {
          "output_type": "execute_result",
          "data": {
            "text/html": [
              "<div>\n",
              "<style scoped>\n",
              "    .dataframe tbody tr th:only-of-type {\n",
              "        vertical-align: middle;\n",
              "    }\n",
              "\n",
              "    .dataframe tbody tr th {\n",
              "        vertical-align: top;\n",
              "    }\n",
              "\n",
              "    .dataframe thead th {\n",
              "        text-align: right;\n",
              "    }\n",
              "</style>\n",
              "<table border=\"1\" class=\"dataframe\">\n",
              "  <thead>\n",
              "    <tr style=\"text-align: right;\">\n",
              "      <th></th>\n",
              "      <th>date</th>\n",
              "      <th>Asin</th>\n",
              "      <th>Item Promo Discount</th>\n",
              "      <th>Quantity</th>\n",
              "    </tr>\n",
              "  </thead>\n",
              "  <tbody>\n",
              "    <tr>\n",
              "      <th>0</th>\n",
              "      <td>2020-12-31</td>\n",
              "      <td>B07TM3LRVB</td>\n",
              "      <td>0</td>\n",
              "      <td>0</td>\n",
              "    </tr>\n",
              "    <tr>\n",
              "      <th>1</th>\n",
              "      <td>2020-12-31</td>\n",
              "      <td>B0849NLNTQ</td>\n",
              "      <td>0</td>\n",
              "      <td>0</td>\n",
              "    </tr>\n",
              "    <tr>\n",
              "      <th>2</th>\n",
              "      <td>2020-12-31</td>\n",
              "      <td>B08332221J</td>\n",
              "      <td>0</td>\n",
              "      <td>0</td>\n",
              "    </tr>\n",
              "    <tr>\n",
              "      <th>3</th>\n",
              "      <td>2020-12-31</td>\n",
              "      <td>B07MK32L49</td>\n",
              "      <td>0</td>\n",
              "      <td>0</td>\n",
              "    </tr>\n",
              "    <tr>\n",
              "      <th>4</th>\n",
              "      <td>2020-12-31</td>\n",
              "      <td>B08976V1BZ</td>\n",
              "      <td>0</td>\n",
              "      <td>0</td>\n",
              "    </tr>\n",
              "  </tbody>\n",
              "</table>\n",
              "</div>"
            ],
            "text/plain": [
              "        date        Asin Item Promo Discount Quantity\n",
              "0 2020-12-31  B07TM3LRVB                   0        0\n",
              "1 2020-12-31  B0849NLNTQ                   0        0\n",
              "2 2020-12-31  B08332221J                   0        0\n",
              "3 2020-12-31  B07MK32L49                   0        0\n",
              "4 2020-12-31  B08976V1BZ                   0        0"
            ]
          },
          "metadata": {
            "tags": []
          },
          "execution_count": 19
        }
      ]
    },
    {
      "cell_type": "code",
      "metadata": {
        "colab": {
          "base_uri": "https://localhost:8080/",
          "height": 206
        },
        "id": "kJYAxMIthMBc",
        "outputId": "e3e97465-3c12-496f-9f8f-19301f2b7736"
      },
      "source": [
        "df_2 = df_new_2.head(5)\n",
        "df_2"
      ],
      "execution_count": null,
      "outputs": [
        {
          "output_type": "execute_result",
          "data": {
            "text/html": [
              "<div>\n",
              "<style scoped>\n",
              "    .dataframe tbody tr th:only-of-type {\n",
              "        vertical-align: middle;\n",
              "    }\n",
              "\n",
              "    .dataframe tbody tr th {\n",
              "        vertical-align: top;\n",
              "    }\n",
              "\n",
              "    .dataframe thead th {\n",
              "        text-align: right;\n",
              "    }\n",
              "</style>\n",
              "<table border=\"1\" class=\"dataframe\">\n",
              "  <thead>\n",
              "    <tr style=\"text-align: right;\">\n",
              "      <th></th>\n",
              "      <th>Quantity</th>\n",
              "      <th>Asin</th>\n",
              "      <th>Invoice Amount</th>\n",
              "      <th>Item Promo Discount</th>\n",
              "      <th>date</th>\n",
              "    </tr>\n",
              "  </thead>\n",
              "  <tbody>\n",
              "    <tr>\n",
              "      <th>22</th>\n",
              "      <td>1.0</td>\n",
              "      <td>B07TM3LRVB</td>\n",
              "      <td>1135.0</td>\n",
              "      <td>0.0</td>\n",
              "      <td>2020-12-31</td>\n",
              "    </tr>\n",
              "    <tr>\n",
              "      <th>23</th>\n",
              "      <td>1.0</td>\n",
              "      <td>B07TM3LRVB</td>\n",
              "      <td>1135.0</td>\n",
              "      <td>0.0</td>\n",
              "      <td>2021-01-01</td>\n",
              "    </tr>\n",
              "    <tr>\n",
              "      <th>24</th>\n",
              "      <td>1.0</td>\n",
              "      <td>B08332221J</td>\n",
              "      <td>1499.0</td>\n",
              "      <td>0.0</td>\n",
              "      <td>2021-01-01</td>\n",
              "    </tr>\n",
              "    <tr>\n",
              "      <th>25</th>\n",
              "      <td>1.0</td>\n",
              "      <td>B07TM3LRVB</td>\n",
              "      <td>1135.0</td>\n",
              "      <td>0.0</td>\n",
              "      <td>2021-01-01</td>\n",
              "    </tr>\n",
              "    <tr>\n",
              "      <th>26</th>\n",
              "      <td>1.0</td>\n",
              "      <td>B07TM3LRVB</td>\n",
              "      <td>1135.0</td>\n",
              "      <td>0.0</td>\n",
              "      <td>2021-01-01</td>\n",
              "    </tr>\n",
              "  </tbody>\n",
              "</table>\n",
              "</div>"
            ],
            "text/plain": [
              "    Quantity        Asin  Invoice Amount  Item Promo Discount       date\n",
              "22       1.0  B07TM3LRVB          1135.0                  0.0 2020-12-31\n",
              "23       1.0  B07TM3LRVB          1135.0                  0.0 2021-01-01\n",
              "24       1.0  B08332221J          1499.0                  0.0 2021-01-01\n",
              "25       1.0  B07TM3LRVB          1135.0                  0.0 2021-01-01\n",
              "26       1.0  B07TM3LRVB          1135.0                  0.0 2021-01-01"
            ]
          },
          "metadata": {
            "tags": []
          },
          "execution_count": 20
        }
      ]
    },
    {
      "cell_type": "code",
      "metadata": {
        "colab": {
          "base_uri": "https://localhost:8080/",
          "height": 238
        },
        "id": "CAb4PdhIgjaa",
        "outputId": "f906bd43-3028-4b01-94f1-be77a1e4e443"
      },
      "source": [
        "df_1_index = df_1.set_index(['date','Asin'])\n",
        "df_1_index.head()"
      ],
      "execution_count": null,
      "outputs": [
        {
          "output_type": "execute_result",
          "data": {
            "text/html": [
              "<div>\n",
              "<style scoped>\n",
              "    .dataframe tbody tr th:only-of-type {\n",
              "        vertical-align: middle;\n",
              "    }\n",
              "\n",
              "    .dataframe tbody tr th {\n",
              "        vertical-align: top;\n",
              "    }\n",
              "\n",
              "    .dataframe thead th {\n",
              "        text-align: right;\n",
              "    }\n",
              "</style>\n",
              "<table border=\"1\" class=\"dataframe\">\n",
              "  <thead>\n",
              "    <tr style=\"text-align: right;\">\n",
              "      <th></th>\n",
              "      <th></th>\n",
              "      <th>Item Promo Discount</th>\n",
              "      <th>Quantity</th>\n",
              "    </tr>\n",
              "    <tr>\n",
              "      <th>date</th>\n",
              "      <th>Asin</th>\n",
              "      <th></th>\n",
              "      <th></th>\n",
              "    </tr>\n",
              "  </thead>\n",
              "  <tbody>\n",
              "    <tr>\n",
              "      <th rowspan=\"5\" valign=\"top\">2020-12-31</th>\n",
              "      <th>B07TM3LRVB</th>\n",
              "      <td>0</td>\n",
              "      <td>0</td>\n",
              "    </tr>\n",
              "    <tr>\n",
              "      <th>B0849NLNTQ</th>\n",
              "      <td>0</td>\n",
              "      <td>0</td>\n",
              "    </tr>\n",
              "    <tr>\n",
              "      <th>B08332221J</th>\n",
              "      <td>0</td>\n",
              "      <td>0</td>\n",
              "    </tr>\n",
              "    <tr>\n",
              "      <th>B07MK32L49</th>\n",
              "      <td>0</td>\n",
              "      <td>0</td>\n",
              "    </tr>\n",
              "    <tr>\n",
              "      <th>B08976V1BZ</th>\n",
              "      <td>0</td>\n",
              "      <td>0</td>\n",
              "    </tr>\n",
              "  </tbody>\n",
              "</table>\n",
              "</div>"
            ],
            "text/plain": [
              "                      Item Promo Discount Quantity\n",
              "date       Asin                                   \n",
              "2020-12-31 B07TM3LRVB                   0        0\n",
              "           B0849NLNTQ                   0        0\n",
              "           B08332221J                   0        0\n",
              "           B07MK32L49                   0        0\n",
              "           B08976V1BZ                   0        0"
            ]
          },
          "metadata": {
            "tags": []
          },
          "execution_count": 21
        }
      ]
    },
    {
      "cell_type": "code",
      "metadata": {
        "colab": {
          "base_uri": "https://localhost:8080/",
          "height": 238
        },
        "id": "IXf1paLHgjhl",
        "outputId": "dc8f48c0-52f6-4356-cc9e-90558276839a"
      },
      "source": [
        "df_2_index = df_2.set_index(['date','Asin'])\n",
        "df_2_index"
      ],
      "execution_count": null,
      "outputs": [
        {
          "output_type": "execute_result",
          "data": {
            "text/html": [
              "<div>\n",
              "<style scoped>\n",
              "    .dataframe tbody tr th:only-of-type {\n",
              "        vertical-align: middle;\n",
              "    }\n",
              "\n",
              "    .dataframe tbody tr th {\n",
              "        vertical-align: top;\n",
              "    }\n",
              "\n",
              "    .dataframe thead th {\n",
              "        text-align: right;\n",
              "    }\n",
              "</style>\n",
              "<table border=\"1\" class=\"dataframe\">\n",
              "  <thead>\n",
              "    <tr style=\"text-align: right;\">\n",
              "      <th></th>\n",
              "      <th></th>\n",
              "      <th>Quantity</th>\n",
              "      <th>Invoice Amount</th>\n",
              "      <th>Item Promo Discount</th>\n",
              "    </tr>\n",
              "    <tr>\n",
              "      <th>date</th>\n",
              "      <th>Asin</th>\n",
              "      <th></th>\n",
              "      <th></th>\n",
              "      <th></th>\n",
              "    </tr>\n",
              "  </thead>\n",
              "  <tbody>\n",
              "    <tr>\n",
              "      <th>2020-12-31</th>\n",
              "      <th>B07TM3LRVB</th>\n",
              "      <td>1.0</td>\n",
              "      <td>1135.0</td>\n",
              "      <td>0.0</td>\n",
              "    </tr>\n",
              "    <tr>\n",
              "      <th rowspan=\"4\" valign=\"top\">2021-01-01</th>\n",
              "      <th>B07TM3LRVB</th>\n",
              "      <td>1.0</td>\n",
              "      <td>1135.0</td>\n",
              "      <td>0.0</td>\n",
              "    </tr>\n",
              "    <tr>\n",
              "      <th>B08332221J</th>\n",
              "      <td>1.0</td>\n",
              "      <td>1499.0</td>\n",
              "      <td>0.0</td>\n",
              "    </tr>\n",
              "    <tr>\n",
              "      <th>B07TM3LRVB</th>\n",
              "      <td>1.0</td>\n",
              "      <td>1135.0</td>\n",
              "      <td>0.0</td>\n",
              "    </tr>\n",
              "    <tr>\n",
              "      <th>B07TM3LRVB</th>\n",
              "      <td>1.0</td>\n",
              "      <td>1135.0</td>\n",
              "      <td>0.0</td>\n",
              "    </tr>\n",
              "  </tbody>\n",
              "</table>\n",
              "</div>"
            ],
            "text/plain": [
              "                       Quantity  Invoice Amount  Item Promo Discount\n",
              "date       Asin                                                     \n",
              "2020-12-31 B07TM3LRVB       1.0          1135.0                  0.0\n",
              "2021-01-01 B07TM3LRVB       1.0          1135.0                  0.0\n",
              "           B08332221J       1.0          1499.0                  0.0\n",
              "           B07TM3LRVB       1.0          1135.0                  0.0\n",
              "           B07TM3LRVB       1.0          1135.0                  0.0"
            ]
          },
          "metadata": {
            "tags": []
          },
          "execution_count": 22
        }
      ]
    },
    {
      "cell_type": "code",
      "metadata": {
        "colab": {
          "base_uri": "https://localhost:8080/",
          "height": 363
        },
        "id": "W_HtOXIBj8Gp",
        "outputId": "f41372c5-d1fd-4d8d-c793-3da5095b15b8"
      },
      "source": [
        "df_merge = df_1_index.merge(df_2_index,how='outer',on=['date','Asin'])\n",
        "df_merge"
      ],
      "execution_count": null,
      "outputs": [
        {
          "output_type": "execute_result",
          "data": {
            "text/html": [
              "<div>\n",
              "<style scoped>\n",
              "    .dataframe tbody tr th:only-of-type {\n",
              "        vertical-align: middle;\n",
              "    }\n",
              "\n",
              "    .dataframe tbody tr th {\n",
              "        vertical-align: top;\n",
              "    }\n",
              "\n",
              "    .dataframe thead th {\n",
              "        text-align: right;\n",
              "    }\n",
              "</style>\n",
              "<table border=\"1\" class=\"dataframe\">\n",
              "  <thead>\n",
              "    <tr style=\"text-align: right;\">\n",
              "      <th></th>\n",
              "      <th></th>\n",
              "      <th>Item Promo Discount_x</th>\n",
              "      <th>Quantity_x</th>\n",
              "      <th>Quantity_y</th>\n",
              "      <th>Invoice Amount</th>\n",
              "      <th>Item Promo Discount_y</th>\n",
              "    </tr>\n",
              "    <tr>\n",
              "      <th>date</th>\n",
              "      <th>Asin</th>\n",
              "      <th></th>\n",
              "      <th></th>\n",
              "      <th></th>\n",
              "      <th></th>\n",
              "      <th></th>\n",
              "    </tr>\n",
              "  </thead>\n",
              "  <tbody>\n",
              "    <tr>\n",
              "      <th rowspan=\"5\" valign=\"top\">2020-12-31</th>\n",
              "      <th>B07TM3LRVB</th>\n",
              "      <td>0</td>\n",
              "      <td>0</td>\n",
              "      <td>1.0</td>\n",
              "      <td>1135.0</td>\n",
              "      <td>0.0</td>\n",
              "    </tr>\n",
              "    <tr>\n",
              "      <th>B0849NLNTQ</th>\n",
              "      <td>0</td>\n",
              "      <td>0</td>\n",
              "      <td>NaN</td>\n",
              "      <td>NaN</td>\n",
              "      <td>NaN</td>\n",
              "    </tr>\n",
              "    <tr>\n",
              "      <th>B08332221J</th>\n",
              "      <td>0</td>\n",
              "      <td>0</td>\n",
              "      <td>NaN</td>\n",
              "      <td>NaN</td>\n",
              "      <td>NaN</td>\n",
              "    </tr>\n",
              "    <tr>\n",
              "      <th>B07MK32L49</th>\n",
              "      <td>0</td>\n",
              "      <td>0</td>\n",
              "      <td>NaN</td>\n",
              "      <td>NaN</td>\n",
              "      <td>NaN</td>\n",
              "    </tr>\n",
              "    <tr>\n",
              "      <th>B08976V1BZ</th>\n",
              "      <td>0</td>\n",
              "      <td>0</td>\n",
              "      <td>NaN</td>\n",
              "      <td>NaN</td>\n",
              "      <td>NaN</td>\n",
              "    </tr>\n",
              "    <tr>\n",
              "      <th rowspan=\"4\" valign=\"top\">2021-01-01</th>\n",
              "      <th>B07TM3LRVB</th>\n",
              "      <td>NaN</td>\n",
              "      <td>NaN</td>\n",
              "      <td>1.0</td>\n",
              "      <td>1135.0</td>\n",
              "      <td>0.0</td>\n",
              "    </tr>\n",
              "    <tr>\n",
              "      <th>B07TM3LRVB</th>\n",
              "      <td>NaN</td>\n",
              "      <td>NaN</td>\n",
              "      <td>1.0</td>\n",
              "      <td>1135.0</td>\n",
              "      <td>0.0</td>\n",
              "    </tr>\n",
              "    <tr>\n",
              "      <th>B07TM3LRVB</th>\n",
              "      <td>NaN</td>\n",
              "      <td>NaN</td>\n",
              "      <td>1.0</td>\n",
              "      <td>1135.0</td>\n",
              "      <td>0.0</td>\n",
              "    </tr>\n",
              "    <tr>\n",
              "      <th>B08332221J</th>\n",
              "      <td>NaN</td>\n",
              "      <td>NaN</td>\n",
              "      <td>1.0</td>\n",
              "      <td>1499.0</td>\n",
              "      <td>0.0</td>\n",
              "    </tr>\n",
              "  </tbody>\n",
              "</table>\n",
              "</div>"
            ],
            "text/plain": [
              "                      Item Promo Discount_x Quantity_x  Quantity_y  \\\n",
              "date       Asin                                                      \n",
              "2020-12-31 B07TM3LRVB                     0          0         1.0   \n",
              "           B0849NLNTQ                     0          0         NaN   \n",
              "           B08332221J                     0          0         NaN   \n",
              "           B07MK32L49                     0          0         NaN   \n",
              "           B08976V1BZ                     0          0         NaN   \n",
              "2021-01-01 B07TM3LRVB                   NaN        NaN         1.0   \n",
              "           B07TM3LRVB                   NaN        NaN         1.0   \n",
              "           B07TM3LRVB                   NaN        NaN         1.0   \n",
              "           B08332221J                   NaN        NaN         1.0   \n",
              "\n",
              "                       Invoice Amount  Item Promo Discount_y  \n",
              "date       Asin                                               \n",
              "2020-12-31 B07TM3LRVB          1135.0                    0.0  \n",
              "           B0849NLNTQ             NaN                    NaN  \n",
              "           B08332221J             NaN                    NaN  \n",
              "           B07MK32L49             NaN                    NaN  \n",
              "           B08976V1BZ             NaN                    NaN  \n",
              "2021-01-01 B07TM3LRVB          1135.0                    0.0  \n",
              "           B07TM3LRVB          1135.0                    0.0  \n",
              "           B07TM3LRVB          1135.0                    0.0  \n",
              "           B08332221J          1499.0                    0.0  "
            ]
          },
          "metadata": {
            "tags": []
          },
          "execution_count": 52
        }
      ]
    },
    {
      "cell_type": "code",
      "metadata": {
        "colab": {
          "base_uri": "https://localhost:8080/",
          "height": 363
        },
        "id": "1WFGH9dttTa3",
        "outputId": "13317dc0-8476-4996-fa5d-a6e49ff9ead0"
      },
      "source": [
        "df_merge = df_1_index.merge(df_2_index,how='outer',left_index=True,right_index=True)\n",
        "df_merge"
      ],
      "execution_count": null,
      "outputs": [
        {
          "output_type": "execute_result",
          "data": {
            "text/html": [
              "<div>\n",
              "<style scoped>\n",
              "    .dataframe tbody tr th:only-of-type {\n",
              "        vertical-align: middle;\n",
              "    }\n",
              "\n",
              "    .dataframe tbody tr th {\n",
              "        vertical-align: top;\n",
              "    }\n",
              "\n",
              "    .dataframe thead th {\n",
              "        text-align: right;\n",
              "    }\n",
              "</style>\n",
              "<table border=\"1\" class=\"dataframe\">\n",
              "  <thead>\n",
              "    <tr style=\"text-align: right;\">\n",
              "      <th></th>\n",
              "      <th></th>\n",
              "      <th>Item Promo Discount_x</th>\n",
              "      <th>Quantity_x</th>\n",
              "      <th>Quantity_y</th>\n",
              "      <th>Invoice Amount</th>\n",
              "      <th>Item Promo Discount_y</th>\n",
              "    </tr>\n",
              "    <tr>\n",
              "      <th>date</th>\n",
              "      <th>Asin</th>\n",
              "      <th></th>\n",
              "      <th></th>\n",
              "      <th></th>\n",
              "      <th></th>\n",
              "      <th></th>\n",
              "    </tr>\n",
              "  </thead>\n",
              "  <tbody>\n",
              "    <tr>\n",
              "      <th rowspan=\"5\" valign=\"top\">2020-12-31</th>\n",
              "      <th>B07MK32L49</th>\n",
              "      <td>0</td>\n",
              "      <td>0</td>\n",
              "      <td>NaN</td>\n",
              "      <td>NaN</td>\n",
              "      <td>NaN</td>\n",
              "    </tr>\n",
              "    <tr>\n",
              "      <th>B07TM3LRVB</th>\n",
              "      <td>0</td>\n",
              "      <td>0</td>\n",
              "      <td>1.0</td>\n",
              "      <td>1135.0</td>\n",
              "      <td>0.0</td>\n",
              "    </tr>\n",
              "    <tr>\n",
              "      <th>B08332221J</th>\n",
              "      <td>0</td>\n",
              "      <td>0</td>\n",
              "      <td>NaN</td>\n",
              "      <td>NaN</td>\n",
              "      <td>NaN</td>\n",
              "    </tr>\n",
              "    <tr>\n",
              "      <th>B0849NLNTQ</th>\n",
              "      <td>0</td>\n",
              "      <td>0</td>\n",
              "      <td>NaN</td>\n",
              "      <td>NaN</td>\n",
              "      <td>NaN</td>\n",
              "    </tr>\n",
              "    <tr>\n",
              "      <th>B08976V1BZ</th>\n",
              "      <td>0</td>\n",
              "      <td>0</td>\n",
              "      <td>NaN</td>\n",
              "      <td>NaN</td>\n",
              "      <td>NaN</td>\n",
              "    </tr>\n",
              "    <tr>\n",
              "      <th rowspan=\"4\" valign=\"top\">2021-01-01</th>\n",
              "      <th>B07TM3LRVB</th>\n",
              "      <td>NaN</td>\n",
              "      <td>NaN</td>\n",
              "      <td>1.0</td>\n",
              "      <td>1135.0</td>\n",
              "      <td>0.0</td>\n",
              "    </tr>\n",
              "    <tr>\n",
              "      <th>B07TM3LRVB</th>\n",
              "      <td>NaN</td>\n",
              "      <td>NaN</td>\n",
              "      <td>1.0</td>\n",
              "      <td>1135.0</td>\n",
              "      <td>0.0</td>\n",
              "    </tr>\n",
              "    <tr>\n",
              "      <th>B07TM3LRVB</th>\n",
              "      <td>NaN</td>\n",
              "      <td>NaN</td>\n",
              "      <td>1.0</td>\n",
              "      <td>1135.0</td>\n",
              "      <td>0.0</td>\n",
              "    </tr>\n",
              "    <tr>\n",
              "      <th>B08332221J</th>\n",
              "      <td>NaN</td>\n",
              "      <td>NaN</td>\n",
              "      <td>1.0</td>\n",
              "      <td>1499.0</td>\n",
              "      <td>0.0</td>\n",
              "    </tr>\n",
              "  </tbody>\n",
              "</table>\n",
              "</div>"
            ],
            "text/plain": [
              "                      Item Promo Discount_x Quantity_x  Quantity_y  \\\n",
              "date       Asin                                                      \n",
              "2020-12-31 B07MK32L49                     0          0         NaN   \n",
              "           B07TM3LRVB                     0          0         1.0   \n",
              "           B08332221J                     0          0         NaN   \n",
              "           B0849NLNTQ                     0          0         NaN   \n",
              "           B08976V1BZ                     0          0         NaN   \n",
              "2021-01-01 B07TM3LRVB                   NaN        NaN         1.0   \n",
              "           B07TM3LRVB                   NaN        NaN         1.0   \n",
              "           B07TM3LRVB                   NaN        NaN         1.0   \n",
              "           B08332221J                   NaN        NaN         1.0   \n",
              "\n",
              "                       Invoice Amount  Item Promo Discount_y  \n",
              "date       Asin                                               \n",
              "2020-12-31 B07MK32L49             NaN                    NaN  \n",
              "           B07TM3LRVB          1135.0                    0.0  \n",
              "           B08332221J             NaN                    NaN  \n",
              "           B0849NLNTQ             NaN                    NaN  \n",
              "           B08976V1BZ             NaN                    NaN  \n",
              "2021-01-01 B07TM3LRVB          1135.0                    0.0  \n",
              "           B07TM3LRVB          1135.0                    0.0  \n",
              "           B07TM3LRVB          1135.0                    0.0  \n",
              "           B08332221J          1499.0                    0.0  "
            ]
          },
          "metadata": {
            "tags": []
          },
          "execution_count": 54
        }
      ]
    },
    {
      "cell_type": "code",
      "metadata": {
        "colab": {
          "base_uri": "https://localhost:8080/",
          "height": 363
        },
        "id": "phWr8jXQgjXN",
        "outputId": "c10a53be-0821-4984-e152-adc344e3465c"
      },
      "source": [
        "df_2_index.merge(df_1_index,how='outer',on=['date','Asin'])"
      ],
      "execution_count": null,
      "outputs": [
        {
          "output_type": "execute_result",
          "data": {
            "text/html": [
              "<div>\n",
              "<style scoped>\n",
              "    .dataframe tbody tr th:only-of-type {\n",
              "        vertical-align: middle;\n",
              "    }\n",
              "\n",
              "    .dataframe tbody tr th {\n",
              "        vertical-align: top;\n",
              "    }\n",
              "\n",
              "    .dataframe thead th {\n",
              "        text-align: right;\n",
              "    }\n",
              "</style>\n",
              "<table border=\"1\" class=\"dataframe\">\n",
              "  <thead>\n",
              "    <tr style=\"text-align: right;\">\n",
              "      <th></th>\n",
              "      <th></th>\n",
              "      <th>Quantity_x</th>\n",
              "      <th>Invoice Amount</th>\n",
              "      <th>Item Promo Discount_x</th>\n",
              "      <th>Item Promo Discount_y</th>\n",
              "      <th>Quantity_y</th>\n",
              "    </tr>\n",
              "    <tr>\n",
              "      <th>date</th>\n",
              "      <th>Asin</th>\n",
              "      <th></th>\n",
              "      <th></th>\n",
              "      <th></th>\n",
              "      <th></th>\n",
              "      <th></th>\n",
              "    </tr>\n",
              "  </thead>\n",
              "  <tbody>\n",
              "    <tr>\n",
              "      <th>2020-12-31</th>\n",
              "      <th>B07TM3LRVB</th>\n",
              "      <td>1.0</td>\n",
              "      <td>1135.0</td>\n",
              "      <td>0.0</td>\n",
              "      <td>0</td>\n",
              "      <td>0</td>\n",
              "    </tr>\n",
              "    <tr>\n",
              "      <th rowspan=\"4\" valign=\"top\">2021-01-01</th>\n",
              "      <th>B07TM3LRVB</th>\n",
              "      <td>1.0</td>\n",
              "      <td>1135.0</td>\n",
              "      <td>0.0</td>\n",
              "      <td>NaN</td>\n",
              "      <td>NaN</td>\n",
              "    </tr>\n",
              "    <tr>\n",
              "      <th>B07TM3LRVB</th>\n",
              "      <td>1.0</td>\n",
              "      <td>1135.0</td>\n",
              "      <td>0.0</td>\n",
              "      <td>NaN</td>\n",
              "      <td>NaN</td>\n",
              "    </tr>\n",
              "    <tr>\n",
              "      <th>B07TM3LRVB</th>\n",
              "      <td>1.0</td>\n",
              "      <td>1135.0</td>\n",
              "      <td>0.0</td>\n",
              "      <td>NaN</td>\n",
              "      <td>NaN</td>\n",
              "    </tr>\n",
              "    <tr>\n",
              "      <th>B08332221J</th>\n",
              "      <td>1.0</td>\n",
              "      <td>1499.0</td>\n",
              "      <td>0.0</td>\n",
              "      <td>NaN</td>\n",
              "      <td>NaN</td>\n",
              "    </tr>\n",
              "    <tr>\n",
              "      <th rowspan=\"4\" valign=\"top\">2020-12-31</th>\n",
              "      <th>B0849NLNTQ</th>\n",
              "      <td>NaN</td>\n",
              "      <td>NaN</td>\n",
              "      <td>NaN</td>\n",
              "      <td>0</td>\n",
              "      <td>0</td>\n",
              "    </tr>\n",
              "    <tr>\n",
              "      <th>B08332221J</th>\n",
              "      <td>NaN</td>\n",
              "      <td>NaN</td>\n",
              "      <td>NaN</td>\n",
              "      <td>0</td>\n",
              "      <td>0</td>\n",
              "    </tr>\n",
              "    <tr>\n",
              "      <th>B07MK32L49</th>\n",
              "      <td>NaN</td>\n",
              "      <td>NaN</td>\n",
              "      <td>NaN</td>\n",
              "      <td>0</td>\n",
              "      <td>0</td>\n",
              "    </tr>\n",
              "    <tr>\n",
              "      <th>B08976V1BZ</th>\n",
              "      <td>NaN</td>\n",
              "      <td>NaN</td>\n",
              "      <td>NaN</td>\n",
              "      <td>0</td>\n",
              "      <td>0</td>\n",
              "    </tr>\n",
              "  </tbody>\n",
              "</table>\n",
              "</div>"
            ],
            "text/plain": [
              "                       Quantity_x  Invoice Amount  Item Promo Discount_x  \\\n",
              "date       Asin                                                            \n",
              "2020-12-31 B07TM3LRVB         1.0          1135.0                    0.0   \n",
              "2021-01-01 B07TM3LRVB         1.0          1135.0                    0.0   \n",
              "           B07TM3LRVB         1.0          1135.0                    0.0   \n",
              "           B07TM3LRVB         1.0          1135.0                    0.0   \n",
              "           B08332221J         1.0          1499.0                    0.0   \n",
              "2020-12-31 B0849NLNTQ         NaN             NaN                    NaN   \n",
              "           B08332221J         NaN             NaN                    NaN   \n",
              "           B07MK32L49         NaN             NaN                    NaN   \n",
              "           B08976V1BZ         NaN             NaN                    NaN   \n",
              "\n",
              "                      Item Promo Discount_y Quantity_y  \n",
              "date       Asin                                         \n",
              "2020-12-31 B07TM3LRVB                     0          0  \n",
              "2021-01-01 B07TM3LRVB                   NaN        NaN  \n",
              "           B07TM3LRVB                   NaN        NaN  \n",
              "           B07TM3LRVB                   NaN        NaN  \n",
              "           B08332221J                   NaN        NaN  \n",
              "2020-12-31 B0849NLNTQ                     0          0  \n",
              "           B08332221J                     0          0  \n",
              "           B07MK32L49                     0          0  \n",
              "           B08976V1BZ                     0          0  "
            ]
          },
          "metadata": {
            "tags": []
          },
          "execution_count": 49
        }
      ]
    },
    {
      "cell_type": "code",
      "metadata": {
        "id": "-D9R-32GN_Kf"
      },
      "source": [
        ""
      ],
      "execution_count": null,
      "outputs": []
    },
    {
      "cell_type": "code",
      "metadata": {
        "colab": {
          "base_uri": "https://localhost:8080/",
          "height": 238
        },
        "id": "SuadizwhN_Ha",
        "outputId": "475cced4-3c1e-4a70-8c3f-8f0355d757f9"
      },
      "source": [
        "df_1_index"
      ],
      "execution_count": null,
      "outputs": [
        {
          "output_type": "execute_result",
          "data": {
            "text/html": [
              "<div>\n",
              "<style scoped>\n",
              "    .dataframe tbody tr th:only-of-type {\n",
              "        vertical-align: middle;\n",
              "    }\n",
              "\n",
              "    .dataframe tbody tr th {\n",
              "        vertical-align: top;\n",
              "    }\n",
              "\n",
              "    .dataframe thead th {\n",
              "        text-align: right;\n",
              "    }\n",
              "</style>\n",
              "<table border=\"1\" class=\"dataframe\">\n",
              "  <thead>\n",
              "    <tr style=\"text-align: right;\">\n",
              "      <th></th>\n",
              "      <th></th>\n",
              "      <th>Item Promo Discount</th>\n",
              "      <th>Quantity</th>\n",
              "    </tr>\n",
              "    <tr>\n",
              "      <th>date</th>\n",
              "      <th>Asin</th>\n",
              "      <th></th>\n",
              "      <th></th>\n",
              "    </tr>\n",
              "  </thead>\n",
              "  <tbody>\n",
              "    <tr>\n",
              "      <th rowspan=\"5\" valign=\"top\">2020-12-31</th>\n",
              "      <th>B07TM3LRVB</th>\n",
              "      <td>0</td>\n",
              "      <td>0</td>\n",
              "    </tr>\n",
              "    <tr>\n",
              "      <th>B0849NLNTQ</th>\n",
              "      <td>0</td>\n",
              "      <td>0</td>\n",
              "    </tr>\n",
              "    <tr>\n",
              "      <th>B08332221J</th>\n",
              "      <td>0</td>\n",
              "      <td>0</td>\n",
              "    </tr>\n",
              "    <tr>\n",
              "      <th>B07MK32L49</th>\n",
              "      <td>0</td>\n",
              "      <td>0</td>\n",
              "    </tr>\n",
              "    <tr>\n",
              "      <th>B08976V1BZ</th>\n",
              "      <td>0</td>\n",
              "      <td>0</td>\n",
              "    </tr>\n",
              "  </tbody>\n",
              "</table>\n",
              "</div>"
            ],
            "text/plain": [
              "                      Item Promo Discount Quantity\n",
              "date       Asin                                   \n",
              "2020-12-31 B07TM3LRVB                   0        0\n",
              "           B0849NLNTQ                   0        0\n",
              "           B08332221J                   0        0\n",
              "           B07MK32L49                   0        0\n",
              "           B08976V1BZ                   0        0"
            ]
          },
          "metadata": {
            "tags": []
          },
          "execution_count": 24
        }
      ]
    },
    {
      "cell_type": "code",
      "metadata": {
        "colab": {
          "base_uri": "https://localhost:8080/",
          "height": 238
        },
        "id": "lYjVjlDqN_ET",
        "outputId": "5c2dd76a-bbc2-4ea1-bcb0-e8640c66fec0"
      },
      "source": [
        "df_2_index"
      ],
      "execution_count": null,
      "outputs": [
        {
          "output_type": "execute_result",
          "data": {
            "text/html": [
              "<div>\n",
              "<style scoped>\n",
              "    .dataframe tbody tr th:only-of-type {\n",
              "        vertical-align: middle;\n",
              "    }\n",
              "\n",
              "    .dataframe tbody tr th {\n",
              "        vertical-align: top;\n",
              "    }\n",
              "\n",
              "    .dataframe thead th {\n",
              "        text-align: right;\n",
              "    }\n",
              "</style>\n",
              "<table border=\"1\" class=\"dataframe\">\n",
              "  <thead>\n",
              "    <tr style=\"text-align: right;\">\n",
              "      <th></th>\n",
              "      <th></th>\n",
              "      <th>Quantity</th>\n",
              "      <th>Invoice Amount</th>\n",
              "      <th>Item Promo Discount</th>\n",
              "    </tr>\n",
              "    <tr>\n",
              "      <th>date</th>\n",
              "      <th>Asin</th>\n",
              "      <th></th>\n",
              "      <th></th>\n",
              "      <th></th>\n",
              "    </tr>\n",
              "  </thead>\n",
              "  <tbody>\n",
              "    <tr>\n",
              "      <th>2020-12-31</th>\n",
              "      <th>B07TM3LRVB</th>\n",
              "      <td>1.0</td>\n",
              "      <td>1135.0</td>\n",
              "      <td>0.0</td>\n",
              "    </tr>\n",
              "    <tr>\n",
              "      <th rowspan=\"4\" valign=\"top\">2021-01-01</th>\n",
              "      <th>B07TM3LRVB</th>\n",
              "      <td>1.0</td>\n",
              "      <td>1135.0</td>\n",
              "      <td>0.0</td>\n",
              "    </tr>\n",
              "    <tr>\n",
              "      <th>B08332221J</th>\n",
              "      <td>1.0</td>\n",
              "      <td>1499.0</td>\n",
              "      <td>0.0</td>\n",
              "    </tr>\n",
              "    <tr>\n",
              "      <th>B07TM3LRVB</th>\n",
              "      <td>1.0</td>\n",
              "      <td>1135.0</td>\n",
              "      <td>0.0</td>\n",
              "    </tr>\n",
              "    <tr>\n",
              "      <th>B07TM3LRVB</th>\n",
              "      <td>1.0</td>\n",
              "      <td>1135.0</td>\n",
              "      <td>0.0</td>\n",
              "    </tr>\n",
              "  </tbody>\n",
              "</table>\n",
              "</div>"
            ],
            "text/plain": [
              "                       Quantity  Invoice Amount  Item Promo Discount\n",
              "date       Asin                                                     \n",
              "2020-12-31 B07TM3LRVB       1.0          1135.0                  0.0\n",
              "2021-01-01 B07TM3LRVB       1.0          1135.0                  0.0\n",
              "           B08332221J       1.0          1499.0                  0.0\n",
              "           B07TM3LRVB       1.0          1135.0                  0.0\n",
              "           B07TM3LRVB       1.0          1135.0                  0.0"
            ]
          },
          "metadata": {
            "tags": []
          },
          "execution_count": 25
        }
      ]
    },
    {
      "cell_type": "code",
      "metadata": {
        "colab": {
          "base_uri": "https://localhost:8080/",
          "height": 394
        },
        "id": "0zsVkPzVN_Be",
        "outputId": "8c0dba5c-e620-4154-f5b8-d5e064bb7396"
      },
      "source": [
        "df_concat = pd.concat([df_2_index,df_1_index],levels= ['date','Asin'])\n",
        "df_concat"
      ],
      "execution_count": null,
      "outputs": [
        {
          "output_type": "execute_result",
          "data": {
            "text/html": [
              "<div>\n",
              "<style scoped>\n",
              "    .dataframe tbody tr th:only-of-type {\n",
              "        vertical-align: middle;\n",
              "    }\n",
              "\n",
              "    .dataframe tbody tr th {\n",
              "        vertical-align: top;\n",
              "    }\n",
              "\n",
              "    .dataframe thead th {\n",
              "        text-align: right;\n",
              "    }\n",
              "</style>\n",
              "<table border=\"1\" class=\"dataframe\">\n",
              "  <thead>\n",
              "    <tr style=\"text-align: right;\">\n",
              "      <th></th>\n",
              "      <th></th>\n",
              "      <th>Quantity</th>\n",
              "      <th>Invoice Amount</th>\n",
              "      <th>Item Promo Discount</th>\n",
              "    </tr>\n",
              "    <tr>\n",
              "      <th>date</th>\n",
              "      <th>Asin</th>\n",
              "      <th></th>\n",
              "      <th></th>\n",
              "      <th></th>\n",
              "    </tr>\n",
              "  </thead>\n",
              "  <tbody>\n",
              "    <tr>\n",
              "      <th>2020-12-31</th>\n",
              "      <th>B07TM3LRVB</th>\n",
              "      <td>1</td>\n",
              "      <td>1135.0</td>\n",
              "      <td>0</td>\n",
              "    </tr>\n",
              "    <tr>\n",
              "      <th rowspan=\"4\" valign=\"top\">2021-01-01</th>\n",
              "      <th>B07TM3LRVB</th>\n",
              "      <td>1</td>\n",
              "      <td>1135.0</td>\n",
              "      <td>0</td>\n",
              "    </tr>\n",
              "    <tr>\n",
              "      <th>B08332221J</th>\n",
              "      <td>1</td>\n",
              "      <td>1499.0</td>\n",
              "      <td>0</td>\n",
              "    </tr>\n",
              "    <tr>\n",
              "      <th>B07TM3LRVB</th>\n",
              "      <td>1</td>\n",
              "      <td>1135.0</td>\n",
              "      <td>0</td>\n",
              "    </tr>\n",
              "    <tr>\n",
              "      <th>B07TM3LRVB</th>\n",
              "      <td>1</td>\n",
              "      <td>1135.0</td>\n",
              "      <td>0</td>\n",
              "    </tr>\n",
              "    <tr>\n",
              "      <th rowspan=\"5\" valign=\"top\">2020-12-31</th>\n",
              "      <th>B07TM3LRVB</th>\n",
              "      <td>0</td>\n",
              "      <td>NaN</td>\n",
              "      <td>0</td>\n",
              "    </tr>\n",
              "    <tr>\n",
              "      <th>B0849NLNTQ</th>\n",
              "      <td>0</td>\n",
              "      <td>NaN</td>\n",
              "      <td>0</td>\n",
              "    </tr>\n",
              "    <tr>\n",
              "      <th>B08332221J</th>\n",
              "      <td>0</td>\n",
              "      <td>NaN</td>\n",
              "      <td>0</td>\n",
              "    </tr>\n",
              "    <tr>\n",
              "      <th>B07MK32L49</th>\n",
              "      <td>0</td>\n",
              "      <td>NaN</td>\n",
              "      <td>0</td>\n",
              "    </tr>\n",
              "    <tr>\n",
              "      <th>B08976V1BZ</th>\n",
              "      <td>0</td>\n",
              "      <td>NaN</td>\n",
              "      <td>0</td>\n",
              "    </tr>\n",
              "  </tbody>\n",
              "</table>\n",
              "</div>"
            ],
            "text/plain": [
              "                      Quantity  Invoice Amount Item Promo Discount\n",
              "date       Asin                                                   \n",
              "2020-12-31 B07TM3LRVB        1          1135.0                   0\n",
              "2021-01-01 B07TM3LRVB        1          1135.0                   0\n",
              "           B08332221J        1          1499.0                   0\n",
              "           B07TM3LRVB        1          1135.0                   0\n",
              "           B07TM3LRVB        1          1135.0                   0\n",
              "2020-12-31 B07TM3LRVB        0             NaN                   0\n",
              "           B0849NLNTQ        0             NaN                   0\n",
              "           B08332221J        0             NaN                   0\n",
              "           B07MK32L49        0             NaN                   0\n",
              "           B08976V1BZ        0             NaN                   0"
            ]
          },
          "metadata": {
            "tags": []
          },
          "execution_count": 34
        }
      ]
    },
    {
      "cell_type": "code",
      "metadata": {
        "colab": {
          "base_uri": "https://localhost:8080/",
          "height": 355
        },
        "id": "ZGvP2z4gN--m",
        "outputId": "e4ffe940-134e-40aa-d1ea-c41b3fb0477b"
      },
      "source": [
        "df_concat.groupby(['date','Asin','Item Promo Discount'])['Quantity','Invoice Amount'].sum()"
      ],
      "execution_count": null,
      "outputs": [
        {
          "output_type": "stream",
          "text": [
            "/usr/local/lib/python3.7/dist-packages/ipykernel_launcher.py:1: FutureWarning: Indexing with multiple keys (implicitly converted to a tuple of keys) will be deprecated, use a list instead.\n",
            "  \"\"\"Entry point for launching an IPython kernel.\n"
          ],
          "name": "stderr"
        },
        {
          "output_type": "execute_result",
          "data": {
            "text/html": [
              "<div>\n",
              "<style scoped>\n",
              "    .dataframe tbody tr th:only-of-type {\n",
              "        vertical-align: middle;\n",
              "    }\n",
              "\n",
              "    .dataframe tbody tr th {\n",
              "        vertical-align: top;\n",
              "    }\n",
              "\n",
              "    .dataframe thead th {\n",
              "        text-align: right;\n",
              "    }\n",
              "</style>\n",
              "<table border=\"1\" class=\"dataframe\">\n",
              "  <thead>\n",
              "    <tr style=\"text-align: right;\">\n",
              "      <th></th>\n",
              "      <th></th>\n",
              "      <th></th>\n",
              "      <th>Invoice Amount</th>\n",
              "    </tr>\n",
              "    <tr>\n",
              "      <th>date</th>\n",
              "      <th>Asin</th>\n",
              "      <th>Item Promo Discount</th>\n",
              "      <th></th>\n",
              "    </tr>\n",
              "  </thead>\n",
              "  <tbody>\n",
              "    <tr>\n",
              "      <th rowspan=\"5\" valign=\"top\">2020-12-31</th>\n",
              "      <th>B07MK32L49</th>\n",
              "      <th>0.0</th>\n",
              "      <td>0.0</td>\n",
              "    </tr>\n",
              "    <tr>\n",
              "      <th>B07TM3LRVB</th>\n",
              "      <th>0.0</th>\n",
              "      <td>1135.0</td>\n",
              "    </tr>\n",
              "    <tr>\n",
              "      <th>B08332221J</th>\n",
              "      <th>0.0</th>\n",
              "      <td>0.0</td>\n",
              "    </tr>\n",
              "    <tr>\n",
              "      <th>B0849NLNTQ</th>\n",
              "      <th>0.0</th>\n",
              "      <td>0.0</td>\n",
              "    </tr>\n",
              "    <tr>\n",
              "      <th>B08976V1BZ</th>\n",
              "      <th>0.0</th>\n",
              "      <td>0.0</td>\n",
              "    </tr>\n",
              "    <tr>\n",
              "      <th rowspan=\"2\" valign=\"top\">2021-01-01</th>\n",
              "      <th>B07TM3LRVB</th>\n",
              "      <th>0.0</th>\n",
              "      <td>3405.0</td>\n",
              "    </tr>\n",
              "    <tr>\n",
              "      <th>B08332221J</th>\n",
              "      <th>0.0</th>\n",
              "      <td>1499.0</td>\n",
              "    </tr>\n",
              "  </tbody>\n",
              "</table>\n",
              "</div>"
            ],
            "text/plain": [
              "                                           Invoice Amount\n",
              "date       Asin       Item Promo Discount                \n",
              "2020-12-31 B07MK32L49 0.0                             0.0\n",
              "           B07TM3LRVB 0.0                          1135.0\n",
              "           B08332221J 0.0                             0.0\n",
              "           B0849NLNTQ 0.0                             0.0\n",
              "           B08976V1BZ 0.0                             0.0\n",
              "2021-01-01 B07TM3LRVB 0.0                          3405.0\n",
              "           B08332221J 0.0                          1499.0"
            ]
          },
          "metadata": {
            "tags": []
          },
          "execution_count": 37
        }
      ]
    },
    {
      "cell_type": "code",
      "metadata": {
        "id": "AiRsNuCyN-8T"
      },
      "source": [
        ""
      ],
      "execution_count": null,
      "outputs": []
    },
    {
      "cell_type": "code",
      "metadata": {
        "id": "zVxeZLfdN-5m"
      },
      "source": [
        ""
      ],
      "execution_count": null,
      "outputs": []
    },
    {
      "cell_type": "code",
      "metadata": {
        "id": "WYUYoXVVN-2-"
      },
      "source": [
        ""
      ],
      "execution_count": null,
      "outputs": []
    },
    {
      "cell_type": "code",
      "metadata": {
        "id": "xIfHq0vFN-0P"
      },
      "source": [
        ""
      ],
      "execution_count": null,
      "outputs": []
    },
    {
      "cell_type": "code",
      "metadata": {
        "id": "zTO6oMKBN-xU"
      },
      "source": [
        ""
      ],
      "execution_count": null,
      "outputs": []
    },
    {
      "cell_type": "code",
      "metadata": {
        "id": "IhMwCIgwgjU6"
      },
      "source": [
        ""
      ],
      "execution_count": null,
      "outputs": []
    },
    {
      "cell_type": "code",
      "metadata": {
        "id": "41Dbdo2ygjR-"
      },
      "source": [
        ""
      ],
      "execution_count": null,
      "outputs": []
    },
    {
      "cell_type": "code",
      "metadata": {
        "id": "2uGdTyJIgjPe"
      },
      "source": [
        ""
      ],
      "execution_count": null,
      "outputs": []
    },
    {
      "cell_type": "code",
      "metadata": {
        "id": "zVH7TJHHgjMP"
      },
      "source": [
        ""
      ],
      "execution_count": null,
      "outputs": []
    },
    {
      "cell_type": "code",
      "metadata": {
        "colab": {
          "base_uri": "https://localhost:8080/",
          "height": 455
        },
        "id": "fxA8FF0RqRv2",
        "outputId": "94a00b20-1374-420d-cbae-e1e11f32b2ce"
      },
      "source": [
        "df_1.set_index(['date','Asin'],inplace = True)\n",
        "df_1"
      ],
      "execution_count": null,
      "outputs": [
        {
          "output_type": "execute_result",
          "data": {
            "text/html": [
              "<div>\n",
              "<style scoped>\n",
              "    .dataframe tbody tr th:only-of-type {\n",
              "        vertical-align: middle;\n",
              "    }\n",
              "\n",
              "    .dataframe tbody tr th {\n",
              "        vertical-align: top;\n",
              "    }\n",
              "\n",
              "    .dataframe thead th {\n",
              "        text-align: right;\n",
              "    }\n",
              "</style>\n",
              "<table border=\"1\" class=\"dataframe\">\n",
              "  <thead>\n",
              "    <tr style=\"text-align: right;\">\n",
              "      <th></th>\n",
              "      <th></th>\n",
              "      <th>Item Promo Discount</th>\n",
              "      <th>Quantity</th>\n",
              "    </tr>\n",
              "    <tr>\n",
              "      <th>date</th>\n",
              "      <th>Asin</th>\n",
              "      <th></th>\n",
              "      <th></th>\n",
              "    </tr>\n",
              "  </thead>\n",
              "  <tbody>\n",
              "    <tr>\n",
              "      <th rowspan=\"5\" valign=\"top\">2020-12-31</th>\n",
              "      <th>B07TM3LRVB</th>\n",
              "      <td>0</td>\n",
              "      <td>0</td>\n",
              "    </tr>\n",
              "    <tr>\n",
              "      <th>B0849NLNTQ</th>\n",
              "      <td>0</td>\n",
              "      <td>0</td>\n",
              "    </tr>\n",
              "    <tr>\n",
              "      <th>B08332221J</th>\n",
              "      <td>0</td>\n",
              "      <td>0</td>\n",
              "    </tr>\n",
              "    <tr>\n",
              "      <th>B07MK32L49</th>\n",
              "      <td>0</td>\n",
              "      <td>0</td>\n",
              "    </tr>\n",
              "    <tr>\n",
              "      <th>B08976V1BZ</th>\n",
              "      <td>0</td>\n",
              "      <td>0</td>\n",
              "    </tr>\n",
              "    <tr>\n",
              "      <th>...</th>\n",
              "      <th>...</th>\n",
              "      <td>...</td>\n",
              "      <td>...</td>\n",
              "    </tr>\n",
              "    <tr>\n",
              "      <th rowspan=\"5\" valign=\"top\">2021-01-01</th>\n",
              "      <th>B07MK32L49</th>\n",
              "      <td>0</td>\n",
              "      <td>0</td>\n",
              "    </tr>\n",
              "    <tr>\n",
              "      <th>B08976V1BZ</th>\n",
              "      <td>0</td>\n",
              "      <td>0</td>\n",
              "    </tr>\n",
              "    <tr>\n",
              "      <th>B0859193NJ</th>\n",
              "      <td>0</td>\n",
              "      <td>0</td>\n",
              "    </tr>\n",
              "    <tr>\n",
              "      <th>B07TJ1HDTM</th>\n",
              "      <td>0</td>\n",
              "      <td>0</td>\n",
              "    </tr>\n",
              "    <tr>\n",
              "      <th>B0858X26QM</th>\n",
              "      <td>0</td>\n",
              "      <td>0</td>\n",
              "    </tr>\n",
              "  </tbody>\n",
              "</table>\n",
              "<p>25 rows × 2 columns</p>\n",
              "</div>"
            ],
            "text/plain": [
              "                      Item Promo Discount Quantity\n",
              "date       Asin                                   \n",
              "2020-12-31 B07TM3LRVB                   0        0\n",
              "           B0849NLNTQ                   0        0\n",
              "           B08332221J                   0        0\n",
              "           B07MK32L49                   0        0\n",
              "           B08976V1BZ                   0        0\n",
              "...                                   ...      ...\n",
              "2021-01-01 B07MK32L49                   0        0\n",
              "           B08976V1BZ                   0        0\n",
              "           B0859193NJ                   0        0\n",
              "           B07TJ1HDTM                   0        0\n",
              "           B0858X26QM                   0        0\n",
              "\n",
              "[25 rows x 2 columns]"
            ]
          },
          "metadata": {
            "tags": []
          },
          "execution_count": 75
        }
      ]
    },
    {
      "cell_type": "code",
      "metadata": {
        "colab": {
          "base_uri": "https://localhost:8080/",
          "height": 708
        },
        "id": "-Hk921NbhQ3Z",
        "outputId": "1f743103-878a-446e-c800-613c55998d83"
      },
      "source": [
        "df_2.set_index(['date', 'Asin'],inplace = True)\n",
        "df_2"
      ],
      "execution_count": null,
      "outputs": [
        {
          "output_type": "execute_result",
          "data": {
            "text/html": [
              "<div>\n",
              "<style scoped>\n",
              "    .dataframe tbody tr th:only-of-type {\n",
              "        vertical-align: middle;\n",
              "    }\n",
              "\n",
              "    .dataframe tbody tr th {\n",
              "        vertical-align: top;\n",
              "    }\n",
              "\n",
              "    .dataframe thead th {\n",
              "        text-align: right;\n",
              "    }\n",
              "</style>\n",
              "<table border=\"1\" class=\"dataframe\">\n",
              "  <thead>\n",
              "    <tr style=\"text-align: right;\">\n",
              "      <th></th>\n",
              "      <th></th>\n",
              "      <th>Quantity</th>\n",
              "      <th>Invoice Amount</th>\n",
              "      <th>Item Promo Discount</th>\n",
              "    </tr>\n",
              "    <tr>\n",
              "      <th>date</th>\n",
              "      <th>Asin</th>\n",
              "      <th></th>\n",
              "      <th></th>\n",
              "      <th></th>\n",
              "    </tr>\n",
              "  </thead>\n",
              "  <tbody>\n",
              "    <tr>\n",
              "      <th>2020-12-31</th>\n",
              "      <th>B07TM3LRVB</th>\n",
              "      <td>1.0</td>\n",
              "      <td>1135.0</td>\n",
              "      <td>0.0</td>\n",
              "    </tr>\n",
              "    <tr>\n",
              "      <th rowspan=\"12\" valign=\"top\">2021-01-01</th>\n",
              "      <th>B07TM3LRVB</th>\n",
              "      <td>1.0</td>\n",
              "      <td>1135.0</td>\n",
              "      <td>0.0</td>\n",
              "    </tr>\n",
              "    <tr>\n",
              "      <th>B08332221J</th>\n",
              "      <td>1.0</td>\n",
              "      <td>1499.0</td>\n",
              "      <td>0.0</td>\n",
              "    </tr>\n",
              "    <tr>\n",
              "      <th>B07TM3LRVB</th>\n",
              "      <td>1.0</td>\n",
              "      <td>1135.0</td>\n",
              "      <td>0.0</td>\n",
              "    </tr>\n",
              "    <tr>\n",
              "      <th>B07TM3LRVB</th>\n",
              "      <td>1.0</td>\n",
              "      <td>1135.0</td>\n",
              "      <td>0.0</td>\n",
              "    </tr>\n",
              "    <tr>\n",
              "      <th>B07TM3LRVB</th>\n",
              "      <td>1.0</td>\n",
              "      <td>1135.0</td>\n",
              "      <td>0.0</td>\n",
              "    </tr>\n",
              "    <tr>\n",
              "      <th>B07TM3LRVB</th>\n",
              "      <td>1.0</td>\n",
              "      <td>1135.0</td>\n",
              "      <td>0.0</td>\n",
              "    </tr>\n",
              "    <tr>\n",
              "      <th>B08332221J</th>\n",
              "      <td>1.0</td>\n",
              "      <td>1499.0</td>\n",
              "      <td>0.0</td>\n",
              "    </tr>\n",
              "    <tr>\n",
              "      <th>B07TM3LRVB</th>\n",
              "      <td>1.0</td>\n",
              "      <td>1135.0</td>\n",
              "      <td>0.0</td>\n",
              "    </tr>\n",
              "    <tr>\n",
              "      <th>B07TM3LRVB</th>\n",
              "      <td>1.0</td>\n",
              "      <td>1135.0</td>\n",
              "      <td>0.0</td>\n",
              "    </tr>\n",
              "    <tr>\n",
              "      <th>B07TM3LRVB</th>\n",
              "      <td>1.0</td>\n",
              "      <td>1135.0</td>\n",
              "      <td>0.0</td>\n",
              "    </tr>\n",
              "    <tr>\n",
              "      <th>B0849NLNTQ</th>\n",
              "      <td>1.0</td>\n",
              "      <td>1599.0</td>\n",
              "      <td>0.0</td>\n",
              "    </tr>\n",
              "    <tr>\n",
              "      <th>B08332221J</th>\n",
              "      <td>1.0</td>\n",
              "      <td>1499.0</td>\n",
              "      <td>0.0</td>\n",
              "    </tr>\n",
              "    <tr>\n",
              "      <th rowspan=\"2\" valign=\"top\">2021-01-02</th>\n",
              "      <th>B07TM3LRVB</th>\n",
              "      <td>1.0</td>\n",
              "      <td>1135.0</td>\n",
              "      <td>0.0</td>\n",
              "    </tr>\n",
              "    <tr>\n",
              "      <th>B0849NLNTQ</th>\n",
              "      <td>1.0</td>\n",
              "      <td>1599.0</td>\n",
              "      <td>0.0</td>\n",
              "    </tr>\n",
              "    <tr>\n",
              "      <th rowspan=\"3\" valign=\"top\">2021-01-01</th>\n",
              "      <th>B0849NLNTQ</th>\n",
              "      <td>1.0</td>\n",
              "      <td>1599.0</td>\n",
              "      <td>0.0</td>\n",
              "    </tr>\n",
              "    <tr>\n",
              "      <th>B07TM3LRVB</th>\n",
              "      <td>1.0</td>\n",
              "      <td>1135.0</td>\n",
              "      <td>0.0</td>\n",
              "    </tr>\n",
              "    <tr>\n",
              "      <th>B07TM3LRVB</th>\n",
              "      <td>1.0</td>\n",
              "      <td>1135.0</td>\n",
              "      <td>0.0</td>\n",
              "    </tr>\n",
              "    <tr>\n",
              "      <th rowspan=\"2\" valign=\"top\">2021-01-02</th>\n",
              "      <th>B07TM3LRVB</th>\n",
              "      <td>2.0</td>\n",
              "      <td>2270.0</td>\n",
              "      <td>0.0</td>\n",
              "    </tr>\n",
              "    <tr>\n",
              "      <th>B07TM3LRVB</th>\n",
              "      <td>2.0</td>\n",
              "      <td>2270.0</td>\n",
              "      <td>0.0</td>\n",
              "    </tr>\n",
              "  </tbody>\n",
              "</table>\n",
              "</div>"
            ],
            "text/plain": [
              "                       Quantity  Invoice Amount  Item Promo Discount\n",
              "date       Asin                                                     \n",
              "2020-12-31 B07TM3LRVB       1.0          1135.0                  0.0\n",
              "2021-01-01 B07TM3LRVB       1.0          1135.0                  0.0\n",
              "           B08332221J       1.0          1499.0                  0.0\n",
              "           B07TM3LRVB       1.0          1135.0                  0.0\n",
              "           B07TM3LRVB       1.0          1135.0                  0.0\n",
              "           B07TM3LRVB       1.0          1135.0                  0.0\n",
              "           B07TM3LRVB       1.0          1135.0                  0.0\n",
              "           B08332221J       1.0          1499.0                  0.0\n",
              "           B07TM3LRVB       1.0          1135.0                  0.0\n",
              "           B07TM3LRVB       1.0          1135.0                  0.0\n",
              "           B07TM3LRVB       1.0          1135.0                  0.0\n",
              "           B0849NLNTQ       1.0          1599.0                  0.0\n",
              "           B08332221J       1.0          1499.0                  0.0\n",
              "2021-01-02 B07TM3LRVB       1.0          1135.0                  0.0\n",
              "           B0849NLNTQ       1.0          1599.0                  0.0\n",
              "2021-01-01 B0849NLNTQ       1.0          1599.0                  0.0\n",
              "           B07TM3LRVB       1.0          1135.0                  0.0\n",
              "           B07TM3LRVB       1.0          1135.0                  0.0\n",
              "2021-01-02 B07TM3LRVB       2.0          2270.0                  0.0\n",
              "           B07TM3LRVB       2.0          2270.0                  0.0"
            ]
          },
          "metadata": {
            "tags": []
          },
          "execution_count": 76
        }
      ]
    },
    {
      "cell_type": "code",
      "metadata": {
        "colab": {
          "base_uri": "https://localhost:8080/"
        },
        "id": "IRmT21DIrMlv",
        "outputId": "6ce329ce-8acb-4b70-b1fa-1e598b5eeabd"
      },
      "source": [
        "df_1.shape, df_2.shape"
      ],
      "execution_count": null,
      "outputs": [
        {
          "output_type": "execute_result",
          "data": {
            "text/plain": [
              "((25, 2), (20, 3))"
            ]
          },
          "metadata": {
            "tags": []
          },
          "execution_count": 80
        }
      ]
    },
    {
      "cell_type": "code",
      "metadata": {
        "id": "FZi20KJvuHKx"
      },
      "source": [
        "df_2.merge(df_1,how='left', )"
      ],
      "execution_count": null,
      "outputs": []
    },
    {
      "cell_type": "code",
      "metadata": {
        "colab": {
          "base_uri": "https://localhost:8080/",
          "height": 677
        },
        "id": "O4xqbX93soU5",
        "outputId": "0aa677c9-b656-4604-e010-b5c290daa815"
      },
      "source": [
        "df_2.merge(df_1,how='left')"
      ],
      "execution_count": null,
      "outputs": [
        {
          "output_type": "execute_result",
          "data": {
            "text/html": [
              "<div>\n",
              "<style scoped>\n",
              "    .dataframe tbody tr th:only-of-type {\n",
              "        vertical-align: middle;\n",
              "    }\n",
              "\n",
              "    .dataframe tbody tr th {\n",
              "        vertical-align: top;\n",
              "    }\n",
              "\n",
              "    .dataframe thead th {\n",
              "        text-align: right;\n",
              "    }\n",
              "</style>\n",
              "<table border=\"1\" class=\"dataframe\">\n",
              "  <thead>\n",
              "    <tr style=\"text-align: right;\">\n",
              "      <th></th>\n",
              "      <th>Quantity</th>\n",
              "      <th>Asin</th>\n",
              "      <th>Invoice Amount</th>\n",
              "      <th>Item Promo Discount</th>\n",
              "      <th>date</th>\n",
              "    </tr>\n",
              "  </thead>\n",
              "  <tbody>\n",
              "    <tr>\n",
              "      <th>0</th>\n",
              "      <td>1</td>\n",
              "      <td>B07TM3LRVB</td>\n",
              "      <td>1135.0</td>\n",
              "      <td>0</td>\n",
              "      <td>2020-12-31</td>\n",
              "    </tr>\n",
              "    <tr>\n",
              "      <th>1</th>\n",
              "      <td>1</td>\n",
              "      <td>B07TM3LRVB</td>\n",
              "      <td>1135.0</td>\n",
              "      <td>0</td>\n",
              "      <td>2021-01-01</td>\n",
              "    </tr>\n",
              "    <tr>\n",
              "      <th>2</th>\n",
              "      <td>1</td>\n",
              "      <td>B08332221J</td>\n",
              "      <td>1499.0</td>\n",
              "      <td>0</td>\n",
              "      <td>2021-01-01</td>\n",
              "    </tr>\n",
              "    <tr>\n",
              "      <th>3</th>\n",
              "      <td>1</td>\n",
              "      <td>B07TM3LRVB</td>\n",
              "      <td>1135.0</td>\n",
              "      <td>0</td>\n",
              "      <td>2021-01-01</td>\n",
              "    </tr>\n",
              "    <tr>\n",
              "      <th>4</th>\n",
              "      <td>1</td>\n",
              "      <td>B07TM3LRVB</td>\n",
              "      <td>1135.0</td>\n",
              "      <td>0</td>\n",
              "      <td>2021-01-01</td>\n",
              "    </tr>\n",
              "    <tr>\n",
              "      <th>5</th>\n",
              "      <td>1</td>\n",
              "      <td>B07TM3LRVB</td>\n",
              "      <td>1135.0</td>\n",
              "      <td>0</td>\n",
              "      <td>2021-01-01</td>\n",
              "    </tr>\n",
              "    <tr>\n",
              "      <th>6</th>\n",
              "      <td>1</td>\n",
              "      <td>B07TM3LRVB</td>\n",
              "      <td>1135.0</td>\n",
              "      <td>0</td>\n",
              "      <td>2021-01-01</td>\n",
              "    </tr>\n",
              "    <tr>\n",
              "      <th>7</th>\n",
              "      <td>1</td>\n",
              "      <td>B08332221J</td>\n",
              "      <td>1499.0</td>\n",
              "      <td>0</td>\n",
              "      <td>2021-01-01</td>\n",
              "    </tr>\n",
              "    <tr>\n",
              "      <th>8</th>\n",
              "      <td>1</td>\n",
              "      <td>B07TM3LRVB</td>\n",
              "      <td>1135.0</td>\n",
              "      <td>0</td>\n",
              "      <td>2021-01-01</td>\n",
              "    </tr>\n",
              "    <tr>\n",
              "      <th>9</th>\n",
              "      <td>1</td>\n",
              "      <td>B07TM3LRVB</td>\n",
              "      <td>1135.0</td>\n",
              "      <td>0</td>\n",
              "      <td>2021-01-01</td>\n",
              "    </tr>\n",
              "    <tr>\n",
              "      <th>10</th>\n",
              "      <td>1</td>\n",
              "      <td>B07TM3LRVB</td>\n",
              "      <td>1135.0</td>\n",
              "      <td>0</td>\n",
              "      <td>2021-01-01</td>\n",
              "    </tr>\n",
              "    <tr>\n",
              "      <th>11</th>\n",
              "      <td>1</td>\n",
              "      <td>B0849NLNTQ</td>\n",
              "      <td>1599.0</td>\n",
              "      <td>0</td>\n",
              "      <td>2021-01-01</td>\n",
              "    </tr>\n",
              "    <tr>\n",
              "      <th>12</th>\n",
              "      <td>1</td>\n",
              "      <td>B08332221J</td>\n",
              "      <td>1499.0</td>\n",
              "      <td>0</td>\n",
              "      <td>2021-01-01</td>\n",
              "    </tr>\n",
              "    <tr>\n",
              "      <th>13</th>\n",
              "      <td>1</td>\n",
              "      <td>B07TM3LRVB</td>\n",
              "      <td>1135.0</td>\n",
              "      <td>0</td>\n",
              "      <td>2021-01-02</td>\n",
              "    </tr>\n",
              "    <tr>\n",
              "      <th>14</th>\n",
              "      <td>1</td>\n",
              "      <td>B0849NLNTQ</td>\n",
              "      <td>1599.0</td>\n",
              "      <td>0</td>\n",
              "      <td>2021-01-02</td>\n",
              "    </tr>\n",
              "    <tr>\n",
              "      <th>15</th>\n",
              "      <td>1</td>\n",
              "      <td>B0849NLNTQ</td>\n",
              "      <td>1599.0</td>\n",
              "      <td>0</td>\n",
              "      <td>2021-01-01</td>\n",
              "    </tr>\n",
              "    <tr>\n",
              "      <th>16</th>\n",
              "      <td>1</td>\n",
              "      <td>B07TM3LRVB</td>\n",
              "      <td>1135.0</td>\n",
              "      <td>0</td>\n",
              "      <td>2021-01-01</td>\n",
              "    </tr>\n",
              "    <tr>\n",
              "      <th>17</th>\n",
              "      <td>1</td>\n",
              "      <td>B07TM3LRVB</td>\n",
              "      <td>1135.0</td>\n",
              "      <td>0</td>\n",
              "      <td>2021-01-01</td>\n",
              "    </tr>\n",
              "    <tr>\n",
              "      <th>18</th>\n",
              "      <td>2</td>\n",
              "      <td>B07TM3LRVB</td>\n",
              "      <td>2270.0</td>\n",
              "      <td>0</td>\n",
              "      <td>2021-01-02</td>\n",
              "    </tr>\n",
              "    <tr>\n",
              "      <th>19</th>\n",
              "      <td>2</td>\n",
              "      <td>B07TM3LRVB</td>\n",
              "      <td>2270.0</td>\n",
              "      <td>0</td>\n",
              "      <td>2021-01-02</td>\n",
              "    </tr>\n",
              "  </tbody>\n",
              "</table>\n",
              "</div>"
            ],
            "text/plain": [
              "   Quantity        Asin  Invoice Amount Item Promo Discount       date\n",
              "0         1  B07TM3LRVB          1135.0                   0 2020-12-31\n",
              "1         1  B07TM3LRVB          1135.0                   0 2021-01-01\n",
              "2         1  B08332221J          1499.0                   0 2021-01-01\n",
              "3         1  B07TM3LRVB          1135.0                   0 2021-01-01\n",
              "4         1  B07TM3LRVB          1135.0                   0 2021-01-01\n",
              "5         1  B07TM3LRVB          1135.0                   0 2021-01-01\n",
              "6         1  B07TM3LRVB          1135.0                   0 2021-01-01\n",
              "7         1  B08332221J          1499.0                   0 2021-01-01\n",
              "8         1  B07TM3LRVB          1135.0                   0 2021-01-01\n",
              "9         1  B07TM3LRVB          1135.0                   0 2021-01-01\n",
              "10        1  B07TM3LRVB          1135.0                   0 2021-01-01\n",
              "11        1  B0849NLNTQ          1599.0                   0 2021-01-01\n",
              "12        1  B08332221J          1499.0                   0 2021-01-01\n",
              "13        1  B07TM3LRVB          1135.0                   0 2021-01-02\n",
              "14        1  B0849NLNTQ          1599.0                   0 2021-01-02\n",
              "15        1  B0849NLNTQ          1599.0                   0 2021-01-01\n",
              "16        1  B07TM3LRVB          1135.0                   0 2021-01-01\n",
              "17        1  B07TM3LRVB          1135.0                   0 2021-01-01\n",
              "18        2  B07TM3LRVB          2270.0                   0 2021-01-02\n",
              "19        2  B07TM3LRVB          2270.0                   0 2021-01-02"
            ]
          },
          "metadata": {
            "tags": []
          },
          "execution_count": 89
        }
      ]
    },
    {
      "cell_type": "code",
      "metadata": {
        "colab": {
          "base_uri": "https://localhost:8080/",
          "height": 424
        },
        "id": "WbMHLvlJqzou",
        "outputId": "2f717255-249a-4186-b9c5-80e56eb72a69"
      },
      "source": [
        "pd.concat([df_2,df_1],join='outer')"
      ],
      "execution_count": null,
      "outputs": [
        {
          "output_type": "execute_result",
          "data": {
            "text/html": [
              "<div>\n",
              "<style scoped>\n",
              "    .dataframe tbody tr th:only-of-type {\n",
              "        vertical-align: middle;\n",
              "    }\n",
              "\n",
              "    .dataframe tbody tr th {\n",
              "        vertical-align: top;\n",
              "    }\n",
              "\n",
              "    .dataframe thead th {\n",
              "        text-align: right;\n",
              "    }\n",
              "</style>\n",
              "<table border=\"1\" class=\"dataframe\">\n",
              "  <thead>\n",
              "    <tr style=\"text-align: right;\">\n",
              "      <th></th>\n",
              "      <th>Quantity</th>\n",
              "      <th>Asin</th>\n",
              "      <th>Invoice Amount</th>\n",
              "      <th>Item Promo Discount</th>\n",
              "      <th>date</th>\n",
              "    </tr>\n",
              "  </thead>\n",
              "  <tbody>\n",
              "    <tr>\n",
              "      <th>22</th>\n",
              "      <td>1</td>\n",
              "      <td>B07TM3LRVB</td>\n",
              "      <td>1135.0</td>\n",
              "      <td>0</td>\n",
              "      <td>2020-12-31</td>\n",
              "    </tr>\n",
              "    <tr>\n",
              "      <th>23</th>\n",
              "      <td>1</td>\n",
              "      <td>B07TM3LRVB</td>\n",
              "      <td>1135.0</td>\n",
              "      <td>0</td>\n",
              "      <td>2021-01-01</td>\n",
              "    </tr>\n",
              "    <tr>\n",
              "      <th>24</th>\n",
              "      <td>1</td>\n",
              "      <td>B08332221J</td>\n",
              "      <td>1499.0</td>\n",
              "      <td>0</td>\n",
              "      <td>2021-01-01</td>\n",
              "    </tr>\n",
              "    <tr>\n",
              "      <th>25</th>\n",
              "      <td>1</td>\n",
              "      <td>B07TM3LRVB</td>\n",
              "      <td>1135.0</td>\n",
              "      <td>0</td>\n",
              "      <td>2021-01-01</td>\n",
              "    </tr>\n",
              "    <tr>\n",
              "      <th>26</th>\n",
              "      <td>1</td>\n",
              "      <td>B07TM3LRVB</td>\n",
              "      <td>1135.0</td>\n",
              "      <td>0</td>\n",
              "      <td>2021-01-01</td>\n",
              "    </tr>\n",
              "    <tr>\n",
              "      <th>...</th>\n",
              "      <td>...</td>\n",
              "      <td>...</td>\n",
              "      <td>...</td>\n",
              "      <td>...</td>\n",
              "      <td>...</td>\n",
              "    </tr>\n",
              "    <tr>\n",
              "      <th>20</th>\n",
              "      <td>0</td>\n",
              "      <td>B07MK32L49</td>\n",
              "      <td>NaN</td>\n",
              "      <td>0</td>\n",
              "      <td>2021-01-01</td>\n",
              "    </tr>\n",
              "    <tr>\n",
              "      <th>21</th>\n",
              "      <td>0</td>\n",
              "      <td>B08976V1BZ</td>\n",
              "      <td>NaN</td>\n",
              "      <td>0</td>\n",
              "      <td>2021-01-01</td>\n",
              "    </tr>\n",
              "    <tr>\n",
              "      <th>22</th>\n",
              "      <td>0</td>\n",
              "      <td>B0859193NJ</td>\n",
              "      <td>NaN</td>\n",
              "      <td>0</td>\n",
              "      <td>2021-01-01</td>\n",
              "    </tr>\n",
              "    <tr>\n",
              "      <th>23</th>\n",
              "      <td>0</td>\n",
              "      <td>B07TJ1HDTM</td>\n",
              "      <td>NaN</td>\n",
              "      <td>0</td>\n",
              "      <td>2021-01-01</td>\n",
              "    </tr>\n",
              "    <tr>\n",
              "      <th>24</th>\n",
              "      <td>0</td>\n",
              "      <td>B0858X26QM</td>\n",
              "      <td>NaN</td>\n",
              "      <td>0</td>\n",
              "      <td>2021-01-01</td>\n",
              "    </tr>\n",
              "  </tbody>\n",
              "</table>\n",
              "<p>45 rows × 5 columns</p>\n",
              "</div>"
            ],
            "text/plain": [
              "   Quantity        Asin  Invoice Amount Item Promo Discount       date\n",
              "22        1  B07TM3LRVB          1135.0                   0 2020-12-31\n",
              "23        1  B07TM3LRVB          1135.0                   0 2021-01-01\n",
              "24        1  B08332221J          1499.0                   0 2021-01-01\n",
              "25        1  B07TM3LRVB          1135.0                   0 2021-01-01\n",
              "26        1  B07TM3LRVB          1135.0                   0 2021-01-01\n",
              "..      ...         ...             ...                 ...        ...\n",
              "20        0  B07MK32L49             NaN                   0 2021-01-01\n",
              "21        0  B08976V1BZ             NaN                   0 2021-01-01\n",
              "22        0  B0859193NJ             NaN                   0 2021-01-01\n",
              "23        0  B07TJ1HDTM             NaN                   0 2021-01-01\n",
              "24        0  B0858X26QM             NaN                   0 2021-01-01\n",
              "\n",
              "[45 rows x 5 columns]"
            ]
          },
          "metadata": {
            "tags": []
          },
          "execution_count": 90
        }
      ]
    },
    {
      "cell_type": "code",
      "metadata": {
        "colab": {
          "base_uri": "https://localhost:8080/",
          "height": 300
        },
        "id": "lt71hzXToCH7",
        "outputId": "3cad9544-ec90-49c9-a936-8e826ebb31ad"
      },
      "source": [
        "df_2 = pd.DataFrame(df_2.groupby(['date','Asin','Invoice Amount','Item Promo Discount'])['Quantity'].sum())\n",
        "df_2"
      ],
      "execution_count": null,
      "outputs": [
        {
          "output_type": "execute_result",
          "data": {
            "text/html": [
              "<div>\n",
              "<style scoped>\n",
              "    .dataframe tbody tr th:only-of-type {\n",
              "        vertical-align: middle;\n",
              "    }\n",
              "\n",
              "    .dataframe tbody tr th {\n",
              "        vertical-align: top;\n",
              "    }\n",
              "\n",
              "    .dataframe thead th {\n",
              "        text-align: right;\n",
              "    }\n",
              "</style>\n",
              "<table border=\"1\" class=\"dataframe\">\n",
              "  <thead>\n",
              "    <tr style=\"text-align: right;\">\n",
              "      <th></th>\n",
              "      <th></th>\n",
              "      <th></th>\n",
              "      <th>Quantity</th>\n",
              "    </tr>\n",
              "    <tr>\n",
              "      <th>date</th>\n",
              "      <th>Asin</th>\n",
              "      <th>Invoice Amount</th>\n",
              "      <th></th>\n",
              "    </tr>\n",
              "  </thead>\n",
              "  <tbody>\n",
              "    <tr>\n",
              "      <th>2020-12-31</th>\n",
              "      <th>B07TM3LRVB</th>\n",
              "      <th>1135.0</th>\n",
              "      <td>1.0</td>\n",
              "    </tr>\n",
              "    <tr>\n",
              "      <th rowspan=\"3\" valign=\"top\">2021-01-01</th>\n",
              "      <th>B07TM3LRVB</th>\n",
              "      <th>1135.0</th>\n",
              "      <td>10.0</td>\n",
              "    </tr>\n",
              "    <tr>\n",
              "      <th>B08332221J</th>\n",
              "      <th>1499.0</th>\n",
              "      <td>3.0</td>\n",
              "    </tr>\n",
              "    <tr>\n",
              "      <th>B0849NLNTQ</th>\n",
              "      <th>1599.0</th>\n",
              "      <td>2.0</td>\n",
              "    </tr>\n",
              "    <tr>\n",
              "      <th rowspan=\"3\" valign=\"top\">2021-01-02</th>\n",
              "      <th rowspan=\"2\" valign=\"top\">B07TM3LRVB</th>\n",
              "      <th>1135.0</th>\n",
              "      <td>1.0</td>\n",
              "    </tr>\n",
              "    <tr>\n",
              "      <th>2270.0</th>\n",
              "      <td>4.0</td>\n",
              "    </tr>\n",
              "    <tr>\n",
              "      <th>B0849NLNTQ</th>\n",
              "      <th>1599.0</th>\n",
              "      <td>1.0</td>\n",
              "    </tr>\n",
              "  </tbody>\n",
              "</table>\n",
              "</div>"
            ],
            "text/plain": [
              "                                      Quantity\n",
              "date       Asin       Invoice Amount          \n",
              "2020-12-31 B07TM3LRVB 1135.0               1.0\n",
              "2021-01-01 B07TM3LRVB 1135.0              10.0\n",
              "           B08332221J 1499.0               3.0\n",
              "           B0849NLNTQ 1599.0               2.0\n",
              "2021-01-02 B07TM3LRVB 1135.0               1.0\n",
              "                      2270.0               4.0\n",
              "           B0849NLNTQ 1599.0               1.0"
            ]
          },
          "metadata": {
            "tags": []
          },
          "execution_count": 66
        }
      ]
    },
    {
      "cell_type": "code",
      "metadata": {
        "id": "vReK4iyGohgw"
      },
      "source": [
        ""
      ],
      "execution_count": null,
      "outputs": []
    }
  ]
}