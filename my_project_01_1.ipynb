{
  "nbformat": 4,
  "nbformat_minor": 0,
  "metadata": {
    "colab": {
      "name": "my_project_01.1.ipynb",
      "provenance": [],
      "collapsed_sections": [
        "B3mvcZOYfJhS"
      ],
      "include_colab_link": true
    },
    "kernelspec": {
      "name": "python3",
      "display_name": "Python 3"
    },
    "language_info": {
      "name": "python"
    },
    "accelerator": "GPU"
  },
  "cells": [
    {
      "cell_type": "markdown",
      "metadata": {
        "id": "view-in-github",
        "colab_type": "text"
      },
      "source": [
        "<a href=\"https://colab.research.google.com/github/akshaypt7/amazon_sales_prediction/blob/main/my_project_01_1.ipynb\" target=\"_parent\"><img src=\"https://colab.research.google.com/assets/colab-badge.svg\" alt=\"Open In Colab\"/></a>"
      ]
    },
    {
      "cell_type": "markdown",
      "metadata": {
        "id": "YM0oZ2H6ckHC"
      },
      "source": [
        "### Introduction\n",
        "\n",
        "This is part 2 of the project. Here we make improvements that we have learnt from part 1 of the project."
      ]
    },
    {
      "cell_type": "markdown",
      "metadata": {
        "id": "UAzw8Qltc-_D"
      },
      "source": [
        "#### Improvements \n",
        "\n",
        "- One of the mistakes we have done in the first part was that there was data leakage. \n",
        "\n",
        "  - **When the sales are made for each asins in a day, we are not considering the asins that were not sold that day. so the thing is we need to add ASINS even when there was no sale made for that. We can give the quantity as 0. **\n",
        "\n",
        "\n",
        "How do we do this?\n",
        "\n",
        "When we read data for each month, we see which are the unique ASINs, then these asins should be added to each days in that month, even for the days when these asins are not sold. \n",
        "\n",
        "one another thing to note is we can even look at working this for the enitre dataframe at once, rather than going month by month. The reason is what if for one month the product was laucnhed but on second month there was no sales, even though that product was available. this means that for all those we wont even mention the asin, but on the third month we mention it again.\n",
        "\n",
        "But finally we have decided to add the asins based on months. Since during months if the products were out of stock it is better to not to show the asin rather than showing the sold quantities as zero"
      ]
    },
    {
      "cell_type": "markdown",
      "metadata": {
        "id": "vTchGGkVhwft"
      },
      "source": [
        "- we can change the continous and categorical variables that we have defined."
      ]
    },
    {
      "cell_type": "markdown",
      "metadata": {
        "id": "qmhSJWC2lYYP"
      },
      "source": [
        "- One another mistake that we had done in part 1 was that we had only taken 679 data points as the validation set, we have used 10,500 as the train set. we should have atleast taken 3000 units as validation set.\n",
        "\n",
        "  This was the reason we had high training error and less validation error. This makes sense why we also had high OOB_error and less validation error, as oob_error is calculated with atleast 30% data."
      ]
    },
    {
      "cell_type": "markdown",
      "metadata": {
        "id": "kuWoNG7RYDQP"
      },
      "source": [
        "- Also we will sum up all the orders placed for one product in a single day. This gives a structure to the dataset, and also a format like this can be used to realtime predictions.\n",
        "\n",
        "  "
      ]
    },
    {
      "cell_type": "markdown",
      "metadata": {
        "id": "B2__VVcNmW4K"
      },
      "source": [
        "- Next thing we learnt is we need to understand what metric we have to use.\n",
        "\n",
        "- We can use both classification and regression. When we use both then we need to understand what has to be used as the metric. This assumption was wrong, we cannot use classification since the quanities can varry btw 0-41. We had thought of this assumpltion when we were working of the first version of the project. Now it does not apply.\n",
        "\n",
        "- we have to create a baseline model which predicts the majority class for all the data points.\n",
        "\n",
        "- Learn more about metrics. We have decided to use MAE, since this goes well with inventory prediction.\n",
        "\n",
        "- One another thing what we can note is, we should be able to change the threshold. We have to able to convert the predictions for example, from 1.4 to 2, if we are going with regression. Here we need to come up with something like np.where(). We can see what is the performance at different thresholds.\n",
        "\n",
        "- We will be adding one more that is price for each product. We also have Invoice amount, which is the price at which the product is sold (coupons).\n",
        "  - This is done because Invoice is the sum of all the orders placed, maybe the customer made two purchases of same product. Where as price is constant.\n"
      ]
    },
    {
      "cell_type": "markdown",
      "metadata": {
        "id": "755SaAJ6L7wR"
      },
      "source": [
        "### Importing Libraries"
      ]
    },
    {
      "cell_type": "code",
      "metadata": {
        "id": "AOf7-glAqKQD",
        "colab": {
          "base_uri": "https://localhost:8080/"
        },
        "outputId": "e2f0af52-6305-4b2d-a68f-62d13c3d3eed"
      },
      "source": [
        "#hide\n",
        "!pip install -Uqq fastbook kaggle waterfallcharts treeinterpreter dtreeviz\n",
        "import fastbook\n",
        "fastbook.setup_book()"
      ],
      "execution_count": null,
      "outputs": [
        {
          "output_type": "stream",
          "text": [
            "\u001b[K     |████████████████████████████████| 720 kB 29.9 MB/s \n",
            "\u001b[K     |████████████████████████████████| 60 kB 9.6 MB/s \n",
            "\u001b[K     |████████████████████████████████| 188 kB 53.5 MB/s \n",
            "\u001b[K     |████████████████████████████████| 46 kB 4.4 MB/s \n",
            "\u001b[K     |████████████████████████████████| 1.2 MB 52.2 MB/s \n",
            "\u001b[K     |████████████████████████████████| 53 kB 2.6 MB/s \n",
            "\u001b[K     |████████████████████████████████| 51 kB 326 kB/s \n",
            "\u001b[?25h  Building wheel for waterfallcharts (setup.py) ... \u001b[?25l\u001b[?25hdone\n",
            "  Building wheel for dtreeviz (setup.py) ... \u001b[?25l\u001b[?25hdone\n",
            "Mounted at /content/gdrive\n"
          ],
          "name": "stdout"
        }
      ]
    },
    {
      "cell_type": "code",
      "metadata": {
        "id": "xDDCJxlBR58G"
      },
      "source": [
        "#hide\n",
        "from fastbook import *\n",
        "# from kaggle import api\n",
        "from pandas.api.types import is_string_dtype, is_numeric_dtype, is_categorical_dtype\n",
        "from fastai.tabular.all import *\n",
        "from sklearn.ensemble import RandomForestRegressor, RandomForestClassifier\n",
        "from sklearn.tree import DecisionTreeRegressor\n",
        "from dtreeviz.trees import *\n",
        "from IPython.display import Image, display_svg, SVG\n",
        "\n",
        "pd.options.display.max_rows = 20\n",
        "pd.options.display.max_columns = 8"
      ],
      "execution_count": null,
      "outputs": []
    },
    {
      "cell_type": "code",
      "metadata": {
        "id": "z-pt33Frb0Tz"
      },
      "source": [
        "import pandas as pd"
      ],
      "execution_count": null,
      "outputs": []
    },
    {
      "cell_type": "markdown",
      "metadata": {
        "id": "GcTWQmoNbljz"
      },
      "source": [
        "### Getting all the csv & excel files from the folder."
      ]
    },
    {
      "cell_type": "code",
      "metadata": {
        "id": "Szn3aw0FUQGb"
      },
      "source": [
        "import os\n",
        "files = os.listdir('/content/gdrive/MyDrive/my_project_01')\n"
      ],
      "execution_count": null,
      "outputs": []
    },
    {
      "cell_type": "code",
      "metadata": {
        "id": "0FcpG4fAZDOy"
      },
      "source": [
        "dict_files = {}\n",
        "for i,file in enumerate(files):\n",
        "  try:\n",
        "    # dict_files[i] = pd.read_csv( '/content/drive/MyDrive/my_project_01/' +str(file),low_memory=False)\n",
        "    dict_files[i] = pd.read_csv( '/content/gdrive/MyDrive/my_project_01/' +str(file),low_memory=False)\n",
        "  except:\n",
        "    # dict_files[i] = pd.read_excel( '/content/drive/MyDrive/my_project_01/' +str(file))\n",
        "    if files[i] == '.ipynb_checkpoints':\n",
        "      continue\n",
        "    dict_files[i] = pd.read_excel( '/content/gdrive/MyDrive/my_project_01/' +str(file))\n"
      ],
      "execution_count": null,
      "outputs": []
    },
    {
      "cell_type": "markdown",
      "metadata": {
        "id": "xXDTJvCnUT4z"
      },
      "source": [
        "We have to take in Invoice Amount instead of Principal amount (since it helps to sepearate canceled and refund orders)"
      ]
    },
    {
      "cell_type": "markdown",
      "metadata": {
        "id": "ECGYcHvgb4Fq"
      },
      "source": [
        "#### Creating Dataframes"
      ]
    },
    {
      "cell_type": "code",
      "metadata": {
        "id": "pmM6Zg7TSYqD"
      },
      "source": [
        "df_dicts = {}\n",
        "\n",
        "for i in range(len(dict_files)):\n",
        "  df_dicts[i] = dict_files[i][['Order Date','Quantity','Asin','Invoice Amount','Item Promo Discount']]\n"
      ],
      "execution_count": null,
      "outputs": []
    },
    {
      "cell_type": "markdown",
      "metadata": {
        "id": "B3mvcZOYfJhS"
      },
      "source": [
        "#### Trying the Data processing on 1 month\n",
        "\n",
        "We will then apply this on all months."
      ]
    },
    {
      "cell_type": "code",
      "metadata": {
        "id": "GTOGpgzQgEo2"
      },
      "source": [
        "df_new = df_dicts[2]\n",
        "df_new_1 = df_new.copy()"
      ],
      "execution_count": null,
      "outputs": []
    },
    {
      "cell_type": "code",
      "metadata": {
        "id": "39aZFCRNgEo3"
      },
      "source": [
        "df_new_1['date'] = df_new['Order Date'].dt.date"
      ],
      "execution_count": null,
      "outputs": []
    },
    {
      "cell_type": "code",
      "metadata": {
        "id": "FKVIygqkgEo6"
      },
      "source": [
        "df_new  = df_new_1.drop(['Order Date'],axis=1)"
      ],
      "execution_count": null,
      "outputs": []
    },
    {
      "cell_type": "code",
      "metadata": {
        "colab": {
          "base_uri": "https://localhost:8080/"
        },
        "id": "KAatLqBEgEo7",
        "outputId": "cd598a9a-1657-450f-da54-b15442717c5d"
      },
      "source": [
        "asin_list = df_new.Asin.unique()\n",
        "asin_list"
      ],
      "execution_count": null,
      "outputs": [
        {
          "output_type": "execute_result",
          "data": {
            "text/plain": [
              "array(['B07TM3LRVB', 'B0849NLNTQ', 'B08332221J', 'B07MK32L49', 'B08976V1BZ', 'B0859193NJ', 'B07TJ1HDTM', 'B0858X26QM', 'B07KYFHTGF', 'B0859B5J8T', 'B0897LPBHR', 'B084JJWJ31', 'B07W1YYQ9G',\n",
              "       'B07ZBCTB9N', 'B07S8NC532', 'B07YC69QKT', 'B07Z7QX6ST'], dtype=object)"
            ]
          },
          "metadata": {
            "tags": []
          },
          "execution_count": 56
        }
      ]
    },
    {
      "cell_type": "code",
      "metadata": {
        "id": "FSUMiINdgEo_"
      },
      "source": [
        "df_new['date'] = pd.to_datetime(df_new['date'])"
      ],
      "execution_count": null,
      "outputs": []
    },
    {
      "cell_type": "code",
      "metadata": {
        "id": "j1_VlxXxgEpA"
      },
      "source": [
        "# Removing refund and return\n",
        "cond = df_new['Invoice Amount'] > 0\n",
        "\n",
        "df_new_2  = df_new.where(cond)\n",
        "df_new_2.dropna(how='all',inplace = True)"
      ],
      "execution_count": null,
      "outputs": []
    },
    {
      "cell_type": "code",
      "metadata": {
        "id": "xCDp12PhgEpC"
      },
      "source": [
        "max_date = max(df_new_2['date']) \n",
        "min_date = (min(df_new_2['date']))"
      ],
      "execution_count": null,
      "outputs": []
    },
    {
      "cell_type": "code",
      "metadata": {
        "id": "d7KBkhWggEpC"
      },
      "source": [
        "# finding all the dates btw max and min\n",
        "\n",
        "date_list  = pd.date_range(min_date,max_date)"
      ],
      "execution_count": null,
      "outputs": []
    },
    {
      "cell_type": "code",
      "metadata": {
        "id": "MAl5FaadgEpE"
      },
      "source": [
        "df_asin = pd.DataFrame(columns = ['date', 'Asin'])"
      ],
      "execution_count": null,
      "outputs": []
    },
    {
      "cell_type": "code",
      "metadata": {
        "id": "up7azysKgEpE"
      },
      "source": [
        "# Creating the dataframe - ASINs , for days no sales have made\n",
        "index = 0\n",
        "while True:\n",
        "\n",
        "  for date in (date_list) :\n",
        "    for asin in (asin_list):\n",
        "      df_asin.loc[index] = [date,asin]\n",
        "      index = index + 1\n",
        "\n",
        "  break    "
      ],
      "execution_count": null,
      "outputs": []
    },
    {
      "cell_type": "code",
      "metadata": {
        "colab": {
          "base_uri": "https://localhost:8080/",
          "height": 206
        },
        "id": "5FH2l1fZg3FP",
        "outputId": "2ef8ca84-2266-4e3f-e22e-3e99c4866a0b"
      },
      "source": [
        "df_asin.head()"
      ],
      "execution_count": null,
      "outputs": [
        {
          "output_type": "execute_result",
          "data": {
            "text/html": [
              "<div>\n",
              "<style scoped>\n",
              "    .dataframe tbody tr th:only-of-type {\n",
              "        vertical-align: middle;\n",
              "    }\n",
              "\n",
              "    .dataframe tbody tr th {\n",
              "        vertical-align: top;\n",
              "    }\n",
              "\n",
              "    .dataframe thead th {\n",
              "        text-align: right;\n",
              "    }\n",
              "</style>\n",
              "<table border=\"1\" class=\"dataframe\">\n",
              "  <thead>\n",
              "    <tr style=\"text-align: right;\">\n",
              "      <th></th>\n",
              "      <th>date</th>\n",
              "      <th>Asin</th>\n",
              "    </tr>\n",
              "  </thead>\n",
              "  <tbody>\n",
              "    <tr>\n",
              "      <th>0</th>\n",
              "      <td>2020-12-31</td>\n",
              "      <td>B07TM3LRVB</td>\n",
              "    </tr>\n",
              "    <tr>\n",
              "      <th>1</th>\n",
              "      <td>2020-12-31</td>\n",
              "      <td>B0849NLNTQ</td>\n",
              "    </tr>\n",
              "    <tr>\n",
              "      <th>2</th>\n",
              "      <td>2020-12-31</td>\n",
              "      <td>B08332221J</td>\n",
              "    </tr>\n",
              "    <tr>\n",
              "      <th>3</th>\n",
              "      <td>2020-12-31</td>\n",
              "      <td>B07MK32L49</td>\n",
              "    </tr>\n",
              "    <tr>\n",
              "      <th>4</th>\n",
              "      <td>2020-12-31</td>\n",
              "      <td>B08976V1BZ</td>\n",
              "    </tr>\n",
              "  </tbody>\n",
              "</table>\n",
              "</div>"
            ],
            "text/plain": [
              "        date        Asin\n",
              "0 2020-12-31  B07TM3LRVB\n",
              "1 2020-12-31  B0849NLNTQ\n",
              "2 2020-12-31  B08332221J\n",
              "3 2020-12-31  B07MK32L49\n",
              "4 2020-12-31  B08976V1BZ"
            ]
          },
          "metadata": {
            "tags": []
          },
          "execution_count": 65
        }
      ]
    },
    {
      "cell_type": "code",
      "metadata": {
        "id": "J3iOy9_qhC4M"
      },
      "source": [
        "df_new = df_new_2"
      ],
      "execution_count": null,
      "outputs": []
    },
    {
      "cell_type": "code",
      "metadata": {
        "colab": {
          "base_uri": "https://localhost:8080/",
          "height": 424
        },
        "id": "1i0kWc9C_WZd",
        "outputId": "02f6710a-e917-4ab7-fdee-0c8cc97b505d"
      },
      "source": [
        "# Merging the datasets, so we have the details for all Asins for each day\n",
        "df_merge = df_new.merge(df_asin, how='outer', on=['date','Asin'])\n",
        "df_merge"
      ],
      "execution_count": null,
      "outputs": [
        {
          "output_type": "execute_result",
          "data": {
            "text/html": [
              "<div>\n",
              "<style scoped>\n",
              "    .dataframe tbody tr th:only-of-type {\n",
              "        vertical-align: middle;\n",
              "    }\n",
              "\n",
              "    .dataframe tbody tr th {\n",
              "        vertical-align: top;\n",
              "    }\n",
              "\n",
              "    .dataframe thead th {\n",
              "        text-align: right;\n",
              "    }\n",
              "</style>\n",
              "<table border=\"1\" class=\"dataframe\">\n",
              "  <thead>\n",
              "    <tr style=\"text-align: right;\">\n",
              "      <th></th>\n",
              "      <th>Quantity</th>\n",
              "      <th>Asin</th>\n",
              "      <th>Invoice Amount</th>\n",
              "      <th>Item Promo Discount</th>\n",
              "      <th>date</th>\n",
              "    </tr>\n",
              "  </thead>\n",
              "  <tbody>\n",
              "    <tr>\n",
              "      <th>0</th>\n",
              "      <td>1.0</td>\n",
              "      <td>B07TM3LRVB</td>\n",
              "      <td>1135.0</td>\n",
              "      <td>0.0</td>\n",
              "      <td>2020-12-31</td>\n",
              "    </tr>\n",
              "    <tr>\n",
              "      <th>1</th>\n",
              "      <td>1.0</td>\n",
              "      <td>B07TM3LRVB</td>\n",
              "      <td>1135.0</td>\n",
              "      <td>0.0</td>\n",
              "      <td>2021-01-01</td>\n",
              "    </tr>\n",
              "    <tr>\n",
              "      <th>2</th>\n",
              "      <td>1.0</td>\n",
              "      <td>B07TM3LRVB</td>\n",
              "      <td>1135.0</td>\n",
              "      <td>0.0</td>\n",
              "      <td>2021-01-01</td>\n",
              "    </tr>\n",
              "    <tr>\n",
              "      <th>3</th>\n",
              "      <td>1.0</td>\n",
              "      <td>B07TM3LRVB</td>\n",
              "      <td>1135.0</td>\n",
              "      <td>0.0</td>\n",
              "      <td>2021-01-01</td>\n",
              "    </tr>\n",
              "    <tr>\n",
              "      <th>4</th>\n",
              "      <td>1.0</td>\n",
              "      <td>B07TM3LRVB</td>\n",
              "      <td>1135.0</td>\n",
              "      <td>0.0</td>\n",
              "      <td>2021-01-01</td>\n",
              "    </tr>\n",
              "    <tr>\n",
              "      <th>...</th>\n",
              "      <td>...</td>\n",
              "      <td>...</td>\n",
              "      <td>...</td>\n",
              "      <td>...</td>\n",
              "      <td>...</td>\n",
              "    </tr>\n",
              "    <tr>\n",
              "      <th>810</th>\n",
              "      <td>NaN</td>\n",
              "      <td>B084JJWJ31</td>\n",
              "      <td>NaN</td>\n",
              "      <td>NaN</td>\n",
              "      <td>2021-01-28</td>\n",
              "    </tr>\n",
              "    <tr>\n",
              "      <th>811</th>\n",
              "      <td>NaN</td>\n",
              "      <td>B07KYFHTGF</td>\n",
              "      <td>NaN</td>\n",
              "      <td>NaN</td>\n",
              "      <td>2021-01-29</td>\n",
              "    </tr>\n",
              "    <tr>\n",
              "      <th>812</th>\n",
              "      <td>NaN</td>\n",
              "      <td>B08976V1BZ</td>\n",
              "      <td>NaN</td>\n",
              "      <td>NaN</td>\n",
              "      <td>2021-01-29</td>\n",
              "    </tr>\n",
              "    <tr>\n",
              "      <th>813</th>\n",
              "      <td>NaN</td>\n",
              "      <td>B08332221J</td>\n",
              "      <td>NaN</td>\n",
              "      <td>NaN</td>\n",
              "      <td>2021-01-29</td>\n",
              "    </tr>\n",
              "    <tr>\n",
              "      <th>814</th>\n",
              "      <td>NaN</td>\n",
              "      <td>B07TJ1HDTM</td>\n",
              "      <td>NaN</td>\n",
              "      <td>NaN</td>\n",
              "      <td>2021-01-29</td>\n",
              "    </tr>\n",
              "  </tbody>\n",
              "</table>\n",
              "<p>815 rows × 5 columns</p>\n",
              "</div>"
            ],
            "text/plain": [
              "     Quantity        Asin  Invoice Amount  Item Promo Discount       date\n",
              "0         1.0  B07TM3LRVB          1135.0                  0.0 2020-12-31\n",
              "1         1.0  B07TM3LRVB          1135.0                  0.0 2021-01-01\n",
              "2         1.0  B07TM3LRVB          1135.0                  0.0 2021-01-01\n",
              "3         1.0  B07TM3LRVB          1135.0                  0.0 2021-01-01\n",
              "4         1.0  B07TM3LRVB          1135.0                  0.0 2021-01-01\n",
              "..        ...         ...             ...                  ...        ...\n",
              "810       NaN  B084JJWJ31             NaN                  NaN 2021-01-28\n",
              "811       NaN  B07KYFHTGF             NaN                  NaN 2021-01-29\n",
              "812       NaN  B08976V1BZ             NaN                  NaN 2021-01-29\n",
              "813       NaN  B08332221J             NaN                  NaN 2021-01-29\n",
              "814       NaN  B07TJ1HDTM             NaN                  NaN 2021-01-29\n",
              "\n",
              "[815 rows x 5 columns]"
            ]
          },
          "metadata": {
            "tags": []
          },
          "execution_count": 147
        }
      ]
    },
    {
      "cell_type": "code",
      "metadata": {
        "colab": {
          "base_uri": "https://localhost:8080/",
          "height": 424
        },
        "id": "MzgntvQHg6oF",
        "outputId": "b4c360cf-bb2c-4172-f10b-ccaff2f35869"
      },
      "source": [
        "df_merge = df_new.merge(df_asin, how='outer', on=['date','Asin'])\n",
        "df_merge"
      ],
      "execution_count": null,
      "outputs": [
        {
          "output_type": "execute_result",
          "data": {
            "text/html": [
              "<div>\n",
              "<style scoped>\n",
              "    .dataframe tbody tr th:only-of-type {\n",
              "        vertical-align: middle;\n",
              "    }\n",
              "\n",
              "    .dataframe tbody tr th {\n",
              "        vertical-align: top;\n",
              "    }\n",
              "\n",
              "    .dataframe thead th {\n",
              "        text-align: right;\n",
              "    }\n",
              "</style>\n",
              "<table border=\"1\" class=\"dataframe\">\n",
              "  <thead>\n",
              "    <tr style=\"text-align: right;\">\n",
              "      <th></th>\n",
              "      <th>Quantity</th>\n",
              "      <th>Asin</th>\n",
              "      <th>Invoice Amount</th>\n",
              "      <th>Item Promo Discount</th>\n",
              "      <th>date</th>\n",
              "    </tr>\n",
              "  </thead>\n",
              "  <tbody>\n",
              "    <tr>\n",
              "      <th>0</th>\n",
              "      <td>1.0</td>\n",
              "      <td>B07TM3LRVB</td>\n",
              "      <td>1135.0</td>\n",
              "      <td>0.0</td>\n",
              "      <td>2020-12-31</td>\n",
              "    </tr>\n",
              "    <tr>\n",
              "      <th>1</th>\n",
              "      <td>1.0</td>\n",
              "      <td>B07TM3LRVB</td>\n",
              "      <td>1135.0</td>\n",
              "      <td>0.0</td>\n",
              "      <td>2021-01-01</td>\n",
              "    </tr>\n",
              "    <tr>\n",
              "      <th>2</th>\n",
              "      <td>1.0</td>\n",
              "      <td>B07TM3LRVB</td>\n",
              "      <td>1135.0</td>\n",
              "      <td>0.0</td>\n",
              "      <td>2021-01-01</td>\n",
              "    </tr>\n",
              "    <tr>\n",
              "      <th>3</th>\n",
              "      <td>1.0</td>\n",
              "      <td>B07TM3LRVB</td>\n",
              "      <td>1135.0</td>\n",
              "      <td>0.0</td>\n",
              "      <td>2021-01-01</td>\n",
              "    </tr>\n",
              "    <tr>\n",
              "      <th>4</th>\n",
              "      <td>1.0</td>\n",
              "      <td>B07TM3LRVB</td>\n",
              "      <td>1135.0</td>\n",
              "      <td>0.0</td>\n",
              "      <td>2021-01-01</td>\n",
              "    </tr>\n",
              "    <tr>\n",
              "      <th>...</th>\n",
              "      <td>...</td>\n",
              "      <td>...</td>\n",
              "      <td>...</td>\n",
              "      <td>...</td>\n",
              "      <td>...</td>\n",
              "    </tr>\n",
              "    <tr>\n",
              "      <th>1101</th>\n",
              "      <td>NaN</td>\n",
              "      <td>B07W1YYQ9G</td>\n",
              "      <td>NaN</td>\n",
              "      <td>NaN</td>\n",
              "      <td>2021-01-31</td>\n",
              "    </tr>\n",
              "    <tr>\n",
              "      <th>1102</th>\n",
              "      <td>NaN</td>\n",
              "      <td>B07ZBCTB9N</td>\n",
              "      <td>NaN</td>\n",
              "      <td>NaN</td>\n",
              "      <td>2021-01-31</td>\n",
              "    </tr>\n",
              "    <tr>\n",
              "      <th>1103</th>\n",
              "      <td>NaN</td>\n",
              "      <td>B07S8NC532</td>\n",
              "      <td>NaN</td>\n",
              "      <td>NaN</td>\n",
              "      <td>2021-01-31</td>\n",
              "    </tr>\n",
              "    <tr>\n",
              "      <th>1104</th>\n",
              "      <td>NaN</td>\n",
              "      <td>B07YC69QKT</td>\n",
              "      <td>NaN</td>\n",
              "      <td>NaN</td>\n",
              "      <td>2021-01-31</td>\n",
              "    </tr>\n",
              "    <tr>\n",
              "      <th>1105</th>\n",
              "      <td>NaN</td>\n",
              "      <td>B07Z7QX6ST</td>\n",
              "      <td>NaN</td>\n",
              "      <td>NaN</td>\n",
              "      <td>2021-01-31</td>\n",
              "    </tr>\n",
              "  </tbody>\n",
              "</table>\n",
              "<p>1106 rows × 5 columns</p>\n",
              "</div>"
            ],
            "text/plain": [
              "      Quantity        Asin  Invoice Amount  Item Promo Discount       date\n",
              "0          1.0  B07TM3LRVB          1135.0                  0.0 2020-12-31\n",
              "1          1.0  B07TM3LRVB          1135.0                  0.0 2021-01-01\n",
              "2          1.0  B07TM3LRVB          1135.0                  0.0 2021-01-01\n",
              "3          1.0  B07TM3LRVB          1135.0                  0.0 2021-01-01\n",
              "4          1.0  B07TM3LRVB          1135.0                  0.0 2021-01-01\n",
              "...        ...         ...             ...                  ...        ...\n",
              "1101       NaN  B07W1YYQ9G             NaN                  NaN 2021-01-31\n",
              "1102       NaN  B07ZBCTB9N             NaN                  NaN 2021-01-31\n",
              "1103       NaN  B07S8NC532             NaN                  NaN 2021-01-31\n",
              "1104       NaN  B07YC69QKT             NaN                  NaN 2021-01-31\n",
              "1105       NaN  B07Z7QX6ST             NaN                  NaN 2021-01-31\n",
              "\n",
              "[1106 rows x 5 columns]"
            ]
          },
          "metadata": {
            "tags": []
          },
          "execution_count": 70
        }
      ]
    },
    {
      "cell_type": "code",
      "metadata": {
        "id": "qnjKIPvMoV-p"
      },
      "source": [
        "# Calculating the price for each product\n",
        "df_merge['price'] = df_merge['Invoice Amount']/df_merge['Quantity']"
      ],
      "execution_count": null,
      "outputs": []
    },
    {
      "cell_type": "code",
      "metadata": {
        "id": "5-v9ZLHHpLR3"
      },
      "source": [
        "# Filling NA with 0 for quantities\n",
        "df_merge['Quantity'] = df_merge['Quantity'].fillna(0)"
      ],
      "execution_count": null,
      "outputs": []
    },
    {
      "cell_type": "code",
      "metadata": {
        "id": "0L2ftoYCpbDE"
      },
      "source": [
        "# This will be zero for missing values since the sales have not been made for missing values.\n",
        "df_merge['Invoice Amount'] = df_merge['Invoice Amount'].fillna(0)"
      ],
      "execution_count": null,
      "outputs": []
    },
    {
      "cell_type": "code",
      "metadata": {
        "id": "NzMm-5ivpnWk"
      },
      "source": [
        "# This will be zero for missing values since the sales have not been made for missing values.\n",
        "df_merge['Item Promo Discount'] = df_merge['Item Promo Discount'].fillna(0)"
      ],
      "execution_count": null,
      "outputs": []
    },
    {
      "cell_type": "code",
      "metadata": {
        "colab": {
          "base_uri": "https://localhost:8080/",
          "height": 206
        },
        "id": "1J_gnMaqpEEs",
        "outputId": "028abd1e-67ed-4196-8b2f-c1a81f0e0a49"
      },
      "source": [
        "df_merge.head()"
      ],
      "execution_count": null,
      "outputs": [
        {
          "output_type": "execute_result",
          "data": {
            "text/html": [
              "<div>\n",
              "<style scoped>\n",
              "    .dataframe tbody tr th:only-of-type {\n",
              "        vertical-align: middle;\n",
              "    }\n",
              "\n",
              "    .dataframe tbody tr th {\n",
              "        vertical-align: top;\n",
              "    }\n",
              "\n",
              "    .dataframe thead th {\n",
              "        text-align: right;\n",
              "    }\n",
              "</style>\n",
              "<table border=\"1\" class=\"dataframe\">\n",
              "  <thead>\n",
              "    <tr style=\"text-align: right;\">\n",
              "      <th></th>\n",
              "      <th>Quantity</th>\n",
              "      <th>Asin</th>\n",
              "      <th>Invoice Amount</th>\n",
              "      <th>Item Promo Discount</th>\n",
              "      <th>date</th>\n",
              "      <th>price</th>\n",
              "    </tr>\n",
              "  </thead>\n",
              "  <tbody>\n",
              "    <tr>\n",
              "      <th>0</th>\n",
              "      <td>1.0</td>\n",
              "      <td>B07TM3LRVB</td>\n",
              "      <td>1135.0</td>\n",
              "      <td>0.0</td>\n",
              "      <td>2020-12-31</td>\n",
              "      <td>1135.0</td>\n",
              "    </tr>\n",
              "    <tr>\n",
              "      <th>1</th>\n",
              "      <td>1.0</td>\n",
              "      <td>B07TM3LRVB</td>\n",
              "      <td>1135.0</td>\n",
              "      <td>0.0</td>\n",
              "      <td>2021-01-01</td>\n",
              "      <td>1135.0</td>\n",
              "    </tr>\n",
              "    <tr>\n",
              "      <th>2</th>\n",
              "      <td>1.0</td>\n",
              "      <td>B07TM3LRVB</td>\n",
              "      <td>1135.0</td>\n",
              "      <td>0.0</td>\n",
              "      <td>2021-01-01</td>\n",
              "      <td>1135.0</td>\n",
              "    </tr>\n",
              "    <tr>\n",
              "      <th>3</th>\n",
              "      <td>1.0</td>\n",
              "      <td>B07TM3LRVB</td>\n",
              "      <td>1135.0</td>\n",
              "      <td>0.0</td>\n",
              "      <td>2021-01-01</td>\n",
              "      <td>1135.0</td>\n",
              "    </tr>\n",
              "    <tr>\n",
              "      <th>4</th>\n",
              "      <td>1.0</td>\n",
              "      <td>B07TM3LRVB</td>\n",
              "      <td>1135.0</td>\n",
              "      <td>0.0</td>\n",
              "      <td>2021-01-01</td>\n",
              "      <td>1135.0</td>\n",
              "    </tr>\n",
              "  </tbody>\n",
              "</table>\n",
              "</div>"
            ],
            "text/plain": [
              "   Quantity        Asin  Invoice Amount  Item Promo Discount       date  \\\n",
              "0       1.0  B07TM3LRVB          1135.0                  0.0 2020-12-31   \n",
              "1       1.0  B07TM3LRVB          1135.0                  0.0 2021-01-01   \n",
              "2       1.0  B07TM3LRVB          1135.0                  0.0 2021-01-01   \n",
              "3       1.0  B07TM3LRVB          1135.0                  0.0 2021-01-01   \n",
              "4       1.0  B07TM3LRVB          1135.0                  0.0 2021-01-01   \n",
              "\n",
              "    price  \n",
              "0  1135.0  \n",
              "1  1135.0  \n",
              "2  1135.0  \n",
              "3  1135.0  \n",
              "4  1135.0  "
            ]
          },
          "metadata": {
            "tags": []
          },
          "execution_count": 100
        }
      ]
    },
    {
      "cell_type": "code",
      "metadata": {
        "id": "CiuVtEw7oYBU"
      },
      "source": [
        "# Finding the mode value for prices of each product, we can use that to as the price value for each asins(NA).\n",
        "df_price = df_merge.groupby('Asin')['price'].agg(lambda x: np.mean(pd.Series.mode(x))).reset_index()"
      ],
      "execution_count": null,
      "outputs": []
    },
    {
      "cell_type": "code",
      "metadata": {
        "id": "LA3gIb9uuKw1"
      },
      "source": [
        "df = df_merge.set_index('Asin')"
      ],
      "execution_count": null,
      "outputs": []
    },
    {
      "cell_type": "code",
      "metadata": {
        "id": "kdl1327PsRV6"
      },
      "source": [
        "df_price = df_price.set_index('Asin')"
      ],
      "execution_count": null,
      "outputs": []
    },
    {
      "cell_type": "code",
      "metadata": {
        "id": "6L9y1837uVJk"
      },
      "source": [
        "df.update(df_price,overwrite = False, join = 'left')"
      ],
      "execution_count": null,
      "outputs": []
    },
    {
      "cell_type": "code",
      "metadata": {
        "id": "xf2ak66ruicV"
      },
      "source": [
        ""
      ],
      "execution_count": null,
      "outputs": []
    },
    {
      "cell_type": "code",
      "metadata": {
        "id": "is42-OOCoX7E"
      },
      "source": [
        "# df = df_merge.update(df_price, overwrite = False, join = 'left')"
      ],
      "execution_count": null,
      "outputs": []
    },
    {
      "cell_type": "code",
      "metadata": {
        "id": "Gu1vj542oX3X"
      },
      "source": [
        "df.reset_index(inplace = True)"
      ],
      "execution_count": null,
      "outputs": []
    },
    {
      "cell_type": "code",
      "metadata": {
        "colab": {
          "base_uri": "https://localhost:8080/",
          "height": 455
        },
        "id": "QLnUzuO3sFse",
        "outputId": "70368ae8-4515-4cfc-86a2-e6c03641364a"
      },
      "source": [
        "x = df.groupby(['date','Asin','Item Promo Discount','price']).sum()\n",
        "x"
      ],
      "execution_count": null,
      "outputs": [
        {
          "output_type": "execute_result",
          "data": {
            "text/html": [
              "<div>\n",
              "<style scoped>\n",
              "    .dataframe tbody tr th:only-of-type {\n",
              "        vertical-align: middle;\n",
              "    }\n",
              "\n",
              "    .dataframe tbody tr th {\n",
              "        vertical-align: top;\n",
              "    }\n",
              "\n",
              "    .dataframe thead th {\n",
              "        text-align: right;\n",
              "    }\n",
              "</style>\n",
              "<table border=\"1\" class=\"dataframe\">\n",
              "  <thead>\n",
              "    <tr style=\"text-align: right;\">\n",
              "      <th></th>\n",
              "      <th></th>\n",
              "      <th></th>\n",
              "      <th></th>\n",
              "      <th>Quantity</th>\n",
              "      <th>Invoice Amount</th>\n",
              "    </tr>\n",
              "    <tr>\n",
              "      <th>date</th>\n",
              "      <th>Asin</th>\n",
              "      <th>Item Promo Discount</th>\n",
              "      <th>price</th>\n",
              "      <th></th>\n",
              "      <th></th>\n",
              "    </tr>\n",
              "  </thead>\n",
              "  <tbody>\n",
              "    <tr>\n",
              "      <th rowspan=\"5\" valign=\"top\">2020-12-31</th>\n",
              "      <th>B07KYFHTGF</th>\n",
              "      <th>0.0</th>\n",
              "      <th>1995.000</th>\n",
              "      <td>0.0</td>\n",
              "      <td>0.0</td>\n",
              "    </tr>\n",
              "    <tr>\n",
              "      <th>B07MK32L49</th>\n",
              "      <th>0.0</th>\n",
              "      <th>149.000</th>\n",
              "      <td>0.0</td>\n",
              "      <td>0.0</td>\n",
              "    </tr>\n",
              "    <tr>\n",
              "      <th>B07S8NC532</th>\n",
              "      <th>0.0</th>\n",
              "      <th>2099.000</th>\n",
              "      <td>0.0</td>\n",
              "      <td>0.0</td>\n",
              "    </tr>\n",
              "    <tr>\n",
              "      <th>B07TJ1HDTM</th>\n",
              "      <th>0.0</th>\n",
              "      <th>1649.000</th>\n",
              "      <td>0.0</td>\n",
              "      <td>0.0</td>\n",
              "    </tr>\n",
              "    <tr>\n",
              "      <th>B07TM3LRVB</th>\n",
              "      <th>0.0</th>\n",
              "      <th>1135.000</th>\n",
              "      <td>1.0</td>\n",
              "      <td>1135.0</td>\n",
              "    </tr>\n",
              "    <tr>\n",
              "      <th>...</th>\n",
              "      <th>...</th>\n",
              "      <th>...</th>\n",
              "      <th>...</th>\n",
              "      <td>...</td>\n",
              "      <td>...</td>\n",
              "    </tr>\n",
              "    <tr>\n",
              "      <th rowspan=\"5\" valign=\"top\">2021-01-31</th>\n",
              "      <th>B0858X26QM</th>\n",
              "      <th>0.0</th>\n",
              "      <th>599.000</th>\n",
              "      <td>0.0</td>\n",
              "      <td>0.0</td>\n",
              "    </tr>\n",
              "    <tr>\n",
              "      <th>B0859193NJ</th>\n",
              "      <th>0.0</th>\n",
              "      <th>599.000</th>\n",
              "      <td>0.0</td>\n",
              "      <td>0.0</td>\n",
              "    </tr>\n",
              "    <tr>\n",
              "      <th>B0859B5J8T</th>\n",
              "      <th>0.0</th>\n",
              "      <th>499.000</th>\n",
              "      <td>1.0</td>\n",
              "      <td>499.0</td>\n",
              "    </tr>\n",
              "    <tr>\n",
              "      <th>B08976V1BZ</th>\n",
              "      <th>0.0</th>\n",
              "      <th>1599.000</th>\n",
              "      <td>0.0</td>\n",
              "      <td>0.0</td>\n",
              "    </tr>\n",
              "    <tr>\n",
              "      <th>B0897LPBHR</th>\n",
              "      <th>0.0</th>\n",
              "      <th>1896.375</th>\n",
              "      <td>0.0</td>\n",
              "      <td>0.0</td>\n",
              "    </tr>\n",
              "  </tbody>\n",
              "</table>\n",
              "<p>618 rows × 2 columns</p>\n",
              "</div>"
            ],
            "text/plain": [
              "                                                    Quantity  Invoice Amount\n",
              "date       Asin       Item Promo Discount price                             \n",
              "2020-12-31 B07KYFHTGF 0.0                 1995.000       0.0             0.0\n",
              "           B07MK32L49 0.0                 149.000        0.0             0.0\n",
              "           B07S8NC532 0.0                 2099.000       0.0             0.0\n",
              "           B07TJ1HDTM 0.0                 1649.000       0.0             0.0\n",
              "           B07TM3LRVB 0.0                 1135.000       1.0          1135.0\n",
              "...                                                      ...             ...\n",
              "2021-01-31 B0858X26QM 0.0                 599.000        0.0             0.0\n",
              "           B0859193NJ 0.0                 599.000        0.0             0.0\n",
              "           B0859B5J8T 0.0                 499.000        1.0           499.0\n",
              "           B08976V1BZ 0.0                 1599.000       0.0             0.0\n",
              "           B0897LPBHR 0.0                 1896.375       0.0             0.0\n",
              "\n",
              "[618 rows x 2 columns]"
            ]
          },
          "metadata": {
            "tags": []
          },
          "execution_count": 141
        }
      ]
    },
    {
      "cell_type": "code",
      "metadata": {
        "colab": {
          "base_uri": "https://localhost:8080/",
          "height": 424
        },
        "id": "nq7dwf49vpzj",
        "outputId": "8fcb8ee0-8adc-41fd-ed36-89d4f775772a"
      },
      "source": [
        "x.reset_index()"
      ],
      "execution_count": null,
      "outputs": [
        {
          "output_type": "execute_result",
          "data": {
            "text/html": [
              "<div>\n",
              "<style scoped>\n",
              "    .dataframe tbody tr th:only-of-type {\n",
              "        vertical-align: middle;\n",
              "    }\n",
              "\n",
              "    .dataframe tbody tr th {\n",
              "        vertical-align: top;\n",
              "    }\n",
              "\n",
              "    .dataframe thead th {\n",
              "        text-align: right;\n",
              "    }\n",
              "</style>\n",
              "<table border=\"1\" class=\"dataframe\">\n",
              "  <thead>\n",
              "    <tr style=\"text-align: right;\">\n",
              "      <th></th>\n",
              "      <th>date</th>\n",
              "      <th>Asin</th>\n",
              "      <th>Item Promo Discount</th>\n",
              "      <th>price</th>\n",
              "      <th>Quantity</th>\n",
              "      <th>Invoice Amount</th>\n",
              "    </tr>\n",
              "  </thead>\n",
              "  <tbody>\n",
              "    <tr>\n",
              "      <th>0</th>\n",
              "      <td>2020-12-31</td>\n",
              "      <td>B07KYFHTGF</td>\n",
              "      <td>0.0</td>\n",
              "      <td>1995.000</td>\n",
              "      <td>0.0</td>\n",
              "      <td>0.0</td>\n",
              "    </tr>\n",
              "    <tr>\n",
              "      <th>1</th>\n",
              "      <td>2020-12-31</td>\n",
              "      <td>B07MK32L49</td>\n",
              "      <td>0.0</td>\n",
              "      <td>149.000</td>\n",
              "      <td>0.0</td>\n",
              "      <td>0.0</td>\n",
              "    </tr>\n",
              "    <tr>\n",
              "      <th>2</th>\n",
              "      <td>2020-12-31</td>\n",
              "      <td>B07S8NC532</td>\n",
              "      <td>0.0</td>\n",
              "      <td>2099.000</td>\n",
              "      <td>0.0</td>\n",
              "      <td>0.0</td>\n",
              "    </tr>\n",
              "    <tr>\n",
              "      <th>3</th>\n",
              "      <td>2020-12-31</td>\n",
              "      <td>B07TJ1HDTM</td>\n",
              "      <td>0.0</td>\n",
              "      <td>1649.000</td>\n",
              "      <td>0.0</td>\n",
              "      <td>0.0</td>\n",
              "    </tr>\n",
              "    <tr>\n",
              "      <th>4</th>\n",
              "      <td>2020-12-31</td>\n",
              "      <td>B07TM3LRVB</td>\n",
              "      <td>0.0</td>\n",
              "      <td>1135.000</td>\n",
              "      <td>1.0</td>\n",
              "      <td>1135.0</td>\n",
              "    </tr>\n",
              "    <tr>\n",
              "      <th>...</th>\n",
              "      <td>...</td>\n",
              "      <td>...</td>\n",
              "      <td>...</td>\n",
              "      <td>...</td>\n",
              "      <td>...</td>\n",
              "      <td>...</td>\n",
              "    </tr>\n",
              "    <tr>\n",
              "      <th>613</th>\n",
              "      <td>2021-01-31</td>\n",
              "      <td>B0858X26QM</td>\n",
              "      <td>0.0</td>\n",
              "      <td>599.000</td>\n",
              "      <td>0.0</td>\n",
              "      <td>0.0</td>\n",
              "    </tr>\n",
              "    <tr>\n",
              "      <th>614</th>\n",
              "      <td>2021-01-31</td>\n",
              "      <td>B0859193NJ</td>\n",
              "      <td>0.0</td>\n",
              "      <td>599.000</td>\n",
              "      <td>0.0</td>\n",
              "      <td>0.0</td>\n",
              "    </tr>\n",
              "    <tr>\n",
              "      <th>615</th>\n",
              "      <td>2021-01-31</td>\n",
              "      <td>B0859B5J8T</td>\n",
              "      <td>0.0</td>\n",
              "      <td>499.000</td>\n",
              "      <td>1.0</td>\n",
              "      <td>499.0</td>\n",
              "    </tr>\n",
              "    <tr>\n",
              "      <th>616</th>\n",
              "      <td>2021-01-31</td>\n",
              "      <td>B08976V1BZ</td>\n",
              "      <td>0.0</td>\n",
              "      <td>1599.000</td>\n",
              "      <td>0.0</td>\n",
              "      <td>0.0</td>\n",
              "    </tr>\n",
              "    <tr>\n",
              "      <th>617</th>\n",
              "      <td>2021-01-31</td>\n",
              "      <td>B0897LPBHR</td>\n",
              "      <td>0.0</td>\n",
              "      <td>1896.375</td>\n",
              "      <td>0.0</td>\n",
              "      <td>0.0</td>\n",
              "    </tr>\n",
              "  </tbody>\n",
              "</table>\n",
              "<p>618 rows × 6 columns</p>\n",
              "</div>"
            ],
            "text/plain": [
              "          date        Asin  Item Promo Discount     price  Quantity  \\\n",
              "0   2020-12-31  B07KYFHTGF                  0.0  1995.000       0.0   \n",
              "1   2020-12-31  B07MK32L49                  0.0   149.000       0.0   \n",
              "2   2020-12-31  B07S8NC532                  0.0  2099.000       0.0   \n",
              "3   2020-12-31  B07TJ1HDTM                  0.0  1649.000       0.0   \n",
              "4   2020-12-31  B07TM3LRVB                  0.0  1135.000       1.0   \n",
              "..         ...         ...                  ...       ...       ...   \n",
              "613 2021-01-31  B0858X26QM                  0.0   599.000       0.0   \n",
              "614 2021-01-31  B0859193NJ                  0.0   599.000       0.0   \n",
              "615 2021-01-31  B0859B5J8T                  0.0   499.000       1.0   \n",
              "616 2021-01-31  B08976V1BZ                  0.0  1599.000       0.0   \n",
              "617 2021-01-31  B0897LPBHR                  0.0  1896.375       0.0   \n",
              "\n",
              "     Invoice Amount  \n",
              "0               0.0  \n",
              "1               0.0  \n",
              "2               0.0  \n",
              "3               0.0  \n",
              "4            1135.0  \n",
              "..              ...  \n",
              "613             0.0  \n",
              "614             0.0  \n",
              "615           499.0  \n",
              "616             0.0  \n",
              "617             0.0  \n",
              "\n",
              "[618 rows x 6 columns]"
            ]
          },
          "metadata": {
            "tags": []
          },
          "execution_count": 142
        }
      ]
    },
    {
      "cell_type": "code",
      "metadata": {
        "colab": {
          "base_uri": "https://localhost:8080/",
          "height": 645
        },
        "id": "sNlcOWQGv1jq",
        "outputId": "bc05459f-d7b1-4c10-ac41-ae5276711b04"
      },
      "source": [
        "x.loc['2021-01-31']"
      ],
      "execution_count": null,
      "outputs": [
        {
          "output_type": "execute_result",
          "data": {
            "text/html": [
              "<div>\n",
              "<style scoped>\n",
              "    .dataframe tbody tr th:only-of-type {\n",
              "        vertical-align: middle;\n",
              "    }\n",
              "\n",
              "    .dataframe tbody tr th {\n",
              "        vertical-align: top;\n",
              "    }\n",
              "\n",
              "    .dataframe thead th {\n",
              "        text-align: right;\n",
              "    }\n",
              "</style>\n",
              "<table border=\"1\" class=\"dataframe\">\n",
              "  <thead>\n",
              "    <tr style=\"text-align: right;\">\n",
              "      <th></th>\n",
              "      <th></th>\n",
              "      <th></th>\n",
              "      <th></th>\n",
              "      <th>Quantity</th>\n",
              "      <th>Invoice Amount</th>\n",
              "    </tr>\n",
              "    <tr>\n",
              "      <th>date</th>\n",
              "      <th>Asin</th>\n",
              "      <th>Item Promo Discount</th>\n",
              "      <th>price</th>\n",
              "      <th></th>\n",
              "      <th></th>\n",
              "    </tr>\n",
              "  </thead>\n",
              "  <tbody>\n",
              "    <tr>\n",
              "      <th rowspan=\"18\" valign=\"top\">2021-01-31</th>\n",
              "      <th>B07KYFHTGF</th>\n",
              "      <th>0.00</th>\n",
              "      <th>1995.000</th>\n",
              "      <td>0.0</td>\n",
              "      <td>0.00</td>\n",
              "    </tr>\n",
              "    <tr>\n",
              "      <th>B07MK32L49</th>\n",
              "      <th>0.00</th>\n",
              "      <th>149.000</th>\n",
              "      <td>0.0</td>\n",
              "      <td>0.00</td>\n",
              "    </tr>\n",
              "    <tr>\n",
              "      <th>B07S8NC532</th>\n",
              "      <th>0.00</th>\n",
              "      <th>2099.000</th>\n",
              "      <td>0.0</td>\n",
              "      <td>0.00</td>\n",
              "    </tr>\n",
              "    <tr>\n",
              "      <th>B07TJ1HDTM</th>\n",
              "      <th>0.00</th>\n",
              "      <th>1649.000</th>\n",
              "      <td>0.0</td>\n",
              "      <td>0.00</td>\n",
              "    </tr>\n",
              "    <tr>\n",
              "      <th rowspan=\"2\" valign=\"top\">B07TM3LRVB</th>\n",
              "      <th>-56.75</th>\n",
              "      <th>1078.250</th>\n",
              "      <td>6.0</td>\n",
              "      <td>6469.50</td>\n",
              "    </tr>\n",
              "    <tr>\n",
              "      <th>0.00</th>\n",
              "      <th>1135.000</th>\n",
              "      <td>12.0</td>\n",
              "      <td>13620.00</td>\n",
              "    </tr>\n",
              "    <tr>\n",
              "      <th>B07W1YYQ9G</th>\n",
              "      <th>0.00</th>\n",
              "      <th>399.000</th>\n",
              "      <td>0.0</td>\n",
              "      <td>0.00</td>\n",
              "    </tr>\n",
              "    <tr>\n",
              "      <th>B07YC69QKT</th>\n",
              "      <th>0.00</th>\n",
              "      <th>1649.000</th>\n",
              "      <td>0.0</td>\n",
              "      <td>0.00</td>\n",
              "    </tr>\n",
              "    <tr>\n",
              "      <th>B07Z7QX6ST</th>\n",
              "      <th>0.00</th>\n",
              "      <th>486.525</th>\n",
              "      <td>0.0</td>\n",
              "      <td>0.00</td>\n",
              "    </tr>\n",
              "    <tr>\n",
              "      <th>B07ZBCTB9N</th>\n",
              "      <th>0.00</th>\n",
              "      <th>1135.000</th>\n",
              "      <td>0.0</td>\n",
              "      <td>0.00</td>\n",
              "    </tr>\n",
              "    <tr>\n",
              "      <th>B08332221J</th>\n",
              "      <th>-74.95</th>\n",
              "      <th>1424.050</th>\n",
              "      <td>1.0</td>\n",
              "      <td>1424.05</td>\n",
              "    </tr>\n",
              "    <tr>\n",
              "      <th>B0849NLNTQ</th>\n",
              "      <th>0.00</th>\n",
              "      <th>1599.000</th>\n",
              "      <td>2.0</td>\n",
              "      <td>3198.00</td>\n",
              "    </tr>\n",
              "    <tr>\n",
              "      <th>B084JJWJ31</th>\n",
              "      <th>0.00</th>\n",
              "      <th>599.000</th>\n",
              "      <td>0.0</td>\n",
              "      <td>0.00</td>\n",
              "    </tr>\n",
              "    <tr>\n",
              "      <th>B0858X26QM</th>\n",
              "      <th>0.00</th>\n",
              "      <th>599.000</th>\n",
              "      <td>0.0</td>\n",
              "      <td>0.00</td>\n",
              "    </tr>\n",
              "    <tr>\n",
              "      <th>B0859193NJ</th>\n",
              "      <th>0.00</th>\n",
              "      <th>599.000</th>\n",
              "      <td>0.0</td>\n",
              "      <td>0.00</td>\n",
              "    </tr>\n",
              "    <tr>\n",
              "      <th>B0859B5J8T</th>\n",
              "      <th>0.00</th>\n",
              "      <th>499.000</th>\n",
              "      <td>1.0</td>\n",
              "      <td>499.00</td>\n",
              "    </tr>\n",
              "    <tr>\n",
              "      <th>B08976V1BZ</th>\n",
              "      <th>0.00</th>\n",
              "      <th>1599.000</th>\n",
              "      <td>0.0</td>\n",
              "      <td>0.00</td>\n",
              "    </tr>\n",
              "    <tr>\n",
              "      <th>B0897LPBHR</th>\n",
              "      <th>0.00</th>\n",
              "      <th>1896.375</th>\n",
              "      <td>0.0</td>\n",
              "      <td>0.00</td>\n",
              "    </tr>\n",
              "  </tbody>\n",
              "</table>\n",
              "</div>"
            ],
            "text/plain": [
              "                                                    Quantity  Invoice Amount\n",
              "date       Asin       Item Promo Discount price                             \n",
              "2021-01-31 B07KYFHTGF  0.00               1995.000       0.0            0.00\n",
              "           B07MK32L49  0.00               149.000        0.0            0.00\n",
              "           B07S8NC532  0.00               2099.000       0.0            0.00\n",
              "           B07TJ1HDTM  0.00               1649.000       0.0            0.00\n",
              "           B07TM3LRVB -56.75              1078.250       6.0         6469.50\n",
              "                       0.00               1135.000      12.0        13620.00\n",
              "           B07W1YYQ9G  0.00               399.000        0.0            0.00\n",
              "           B07YC69QKT  0.00               1649.000       0.0            0.00\n",
              "           B07Z7QX6ST  0.00               486.525        0.0            0.00\n",
              "           B07ZBCTB9N  0.00               1135.000       0.0            0.00\n",
              "           B08332221J -74.95              1424.050       1.0         1424.05\n",
              "           B0849NLNTQ  0.00               1599.000       2.0         3198.00\n",
              "           B084JJWJ31  0.00               599.000        0.0            0.00\n",
              "           B0858X26QM  0.00               599.000        0.0            0.00\n",
              "           B0859193NJ  0.00               599.000        0.0            0.00\n",
              "           B0859B5J8T  0.00               499.000        1.0          499.00\n",
              "           B08976V1BZ  0.00               1599.000       0.0            0.00\n",
              "           B0897LPBHR  0.00               1896.375       0.0            0.00"
            ]
          },
          "metadata": {
            "tags": []
          },
          "execution_count": 143
        }
      ]
    },
    {
      "cell_type": "code",
      "metadata": {
        "id": "yBbnX0o7rxQh"
      },
      "source": [
        ""
      ],
      "execution_count": null,
      "outputs": []
    },
    {
      "cell_type": "markdown",
      "metadata": {
        "id": "3iT5L5KCzyrM"
      },
      "source": [
        "### Processing all the data"
      ]
    },
    {
      "cell_type": "code",
      "metadata": {
        "id": "HvKBg2HZrxOA"
      },
      "source": [
        "# concat all df\n",
        "def process_data(df_dicts):\n",
        "\n",
        "  df_main = pd.DataFrame()\n",
        "\n",
        "\n",
        "  for i in range(len(df_dicts)):\n",
        "  # we need to convert the Order date column into date_time\n",
        "  # if df_dicts[i]['Order Date'].dtype != 'datetime64[ns]' :\n",
        "    df_copy = df_dicts[i].copy()\n",
        "\n",
        "    df_copy['Order Date'] = pd.to_datetime(df_dicts[i]['Order Date'])\n",
        "\n",
        "    # adding new columns\n",
        "    df_copy['date'] = df_copy['Order Date'].dt.date #\n",
        "    df_copy['hour'] = df_copy['Order Date'].dt.hour\n",
        "\n",
        "    # print(df_copy.hour.nunique())\n",
        "\n",
        "    df_dicts[i] = df_copy.drop(['Order Date'],axis=1) \n",
        "\n",
        "    # Creating dataframe for all unique asins in one month\n",
        "    asin_list = df_dicts[i].Asin.unique()\n",
        "\n",
        "    # Removing refund and return\n",
        "    cond = df_dicts[i]['Invoice Amount'] > 0\n",
        "\n",
        "    df_copy_2  = df_dicts[i].where(cond)\n",
        "    df_copy_2.dropna(how='all',inplace = True) # Removing all transactions that are either refund or return\n",
        "\n",
        "    max_date = max(df_copy_2['date']) \n",
        "    min_date = (min(df_copy_2['date']))\n",
        "    date_list  = pd.date_range(min_date,max_date)\n",
        "\n",
        "\n",
        "    # Creating Asin Dataframe\n",
        "    df_asin = pd.DataFrame(columns = ['date', 'Asin'])\n",
        "    index = 0\n",
        "    while True:\n",
        "\n",
        "        for date in (date_list) :\n",
        "          for asin in (asin_list):\n",
        "            df_asin.loc[index] = [date,asin]\n",
        "            ndex = index + 1\n",
        "\n",
        "        break    \n",
        "    df_copy_2['date'] = pd.to_datetime(df_copy_2['date'])  \n",
        "\n",
        "    df_dicts[i] = df_copy_2\n",
        "\n",
        "\n",
        "    # Merging the dataframes\n",
        "    df_merge = df_copy_2.merge(df_asin, how='outer', on=['date','Asin'])\n",
        "\n",
        "    # print(df_merge.hour.nunique())\n",
        "    \n",
        "    \n",
        "    # Creating new columns\n",
        "    df_merge['price'] = df_merge['Invoice Amount']/df_merge['Quantity']\n",
        "    df_merge['Quantity'] = df_merge['Quantity'].fillna(0)\n",
        "    df_merge['Invoice Amount'] = df_merge['Invoice Amount'].fillna(0)\n",
        "    df_merge['Item Promo Discount'] = df_merge['Item Promo Discount'].fillna(0)\n",
        "\n",
        "    # Filling missing values in df_price\n",
        "    df_price = df_merge.groupby('Asin')['price'].agg(lambda x: np.mean(pd.Series.mode(x))).reset_index()\n",
        "\n",
        "    df = df_merge.set_index('Asin')\n",
        "    df_price = df_price.set_index('Asin')\n",
        "\n",
        "    df.update(df_price,overwrite = False, join = 'left')\n",
        "    # print(df.hour.nunique())\n",
        "\n",
        "    df = df.groupby(['date','Asin','Item Promo Discount','price','hour']).sum()\n",
        "    df.reset_index(inplace=True)\n",
        "\n",
        "    df_main = pd.concat([df_main , df])\n",
        "    # print(df_main.hour.nunique())\n",
        "  \n",
        "  return df_main    \n"
      ],
      "execution_count": null,
      "outputs": []
    },
    {
      "cell_type": "code",
      "metadata": {
        "id": "2lky7qapFzAB"
      },
      "source": [
        ""
      ],
      "execution_count": null,
      "outputs": []
    },
    {
      "cell_type": "code",
      "metadata": {
        "id": "qa2xe82RojlW"
      },
      "source": [
        "df_main = process_data(df_dicts)\n"
      ],
      "execution_count": null,
      "outputs": []
    },
    {
      "cell_type": "code",
      "metadata": {
        "id": "zF39UaZH9U4C"
      },
      "source": [
        "# save_pickle('/content/gdrive/MyDrive/bluebook/df_main.pkl',df_main)"
      ],
      "execution_count": null,
      "outputs": []
    },
    {
      "cell_type": "markdown",
      "metadata": {
        "id": "HxAwwTB9b0i6"
      },
      "source": [
        "#### Loading the saved dataframe"
      ]
    },
    {
      "cell_type": "code",
      "metadata": {
        "id": "ZEWjj3qnbjg5"
      },
      "source": [
        "df_main = load_pickle('/content/gdrive/MyDrive/bluebook/df_main.pkl')"
      ],
      "execution_count": null,
      "outputs": []
    },
    {
      "cell_type": "markdown",
      "metadata": {
        "id": "HsBi2g76_uLY"
      },
      "source": [
        "### Setting up train and validation data"
      ]
    },
    {
      "cell_type": "code",
      "metadata": {
        "id": "10DnVGLwCRXa"
      },
      "source": [
        "df_main = add_datepart(df_main , 'date') # Adding date details"
      ],
      "execution_count": null,
      "outputs": []
    },
    {
      "cell_type": "code",
      "metadata": {
        "id": "CZYXI1nprxGg"
      },
      "source": [
        "procs = [Categorify, FillMissing]"
      ],
      "execution_count": null,
      "outputs": []
    },
    {
      "cell_type": "code",
      "metadata": {
        "id": "IObgmjvjB0oo"
      },
      "source": [
        "dep_var = 'Quantity'"
      ],
      "execution_count": null,
      "outputs": []
    },
    {
      "cell_type": "code",
      "metadata": {
        "id": "qS4xPlg3rxEF"
      },
      "source": [
        "cont, cat = cont_cat_split( df_main,1,dep_var= dep_var)"
      ],
      "execution_count": null,
      "outputs": []
    },
    {
      "cell_type": "code",
      "metadata": {
        "id": "rWE4_N7OBgLV"
      },
      "source": [
        "# SPLITS \n",
        "condition = (df_main.Year < 2020) | (df_main.Month < 8)\n",
        "train_idx = np.where(condition)[0]\n",
        "valid_idx = np.where(~condition)[0]"
      ],
      "execution_count": null,
      "outputs": []
    },
    {
      "cell_type": "code",
      "metadata": {
        "colab": {
          "base_uri": "https://localhost:8080/"
        },
        "id": "naA-yq3xDbdK",
        "outputId": "59c3c886-4da1-431b-8cab-abcebd4f5ce7"
      },
      "source": [
        "len(train_idx), len(valid_idx)"
      ],
      "execution_count": null,
      "outputs": [
        {
          "output_type": "execute_result",
          "data": {
            "text/plain": [
              "(7517, 3429)"
            ]
          },
          "metadata": {
            "tags": []
          },
          "execution_count": 57
        }
      ]
    },
    {
      "cell_type": "code",
      "metadata": {
        "id": "TKSM7u9yGf1g"
      },
      "source": [
        "splits = (list(train_idx),list(valid_idx))"
      ],
      "execution_count": null,
      "outputs": []
    },
    {
      "cell_type": "markdown",
      "metadata": {
        "id": "cvskSqnqnupC"
      },
      "source": [
        "#### Creating Tabular Pandas"
      ]
    },
    {
      "cell_type": "code",
      "metadata": {
        "id": "Z-ZPT60zrxBy"
      },
      "source": [
        "to = TabularPandas(df_main, procs= procs,cat_names= cat, cont_names=cont, splits= splits,y_names=dep_var)"
      ],
      "execution_count": null,
      "outputs": []
    },
    {
      "cell_type": "code",
      "metadata": {
        "colab": {
          "base_uri": "https://localhost:8080/",
          "height": 198
        },
        "id": "MkXZuWIQHXzR",
        "outputId": "7ff4a188-4c47-4171-df22-86b2662f5e7e"
      },
      "source": [
        "to.show(3)"
      ],
      "execution_count": null,
      "outputs": [
        {
          "output_type": "display_data",
          "data": {
            "text/html": [
              "<table border=\"1\" class=\"dataframe\">\n",
              "  <thead>\n",
              "    <tr style=\"text-align: right;\">\n",
              "      <th></th>\n",
              "      <th>Asin</th>\n",
              "      <th>Is_month_end</th>\n",
              "      <th>Is_month_start</th>\n",
              "      <th>Is_quarter_end</th>\n",
              "      <th>Is_quarter_start</th>\n",
              "      <th>Is_year_end</th>\n",
              "      <th>Is_year_start</th>\n",
              "      <th>Item Promo Discount</th>\n",
              "      <th>price</th>\n",
              "      <th>hour</th>\n",
              "      <th>Invoice Amount</th>\n",
              "      <th>Year</th>\n",
              "      <th>Month</th>\n",
              "      <th>Week</th>\n",
              "      <th>Day</th>\n",
              "      <th>Dayofweek</th>\n",
              "      <th>Dayofyear</th>\n",
              "      <th>Elapsed</th>\n",
              "      <th>Quantity</th>\n",
              "    </tr>\n",
              "  </thead>\n",
              "  <tbody>\n",
              "    <tr>\n",
              "      <th>0</th>\n",
              "      <td>B07KYFHTGF</td>\n",
              "      <td>False</td>\n",
              "      <td>False</td>\n",
              "      <td>False</td>\n",
              "      <td>False</td>\n",
              "      <td>False</td>\n",
              "      <td>False</td>\n",
              "      <td>0.000000</td>\n",
              "      <td>1995.000000</td>\n",
              "      <td>12.0</td>\n",
              "      <td>1995.000000</td>\n",
              "      <td>2021</td>\n",
              "      <td>1</td>\n",
              "      <td>1</td>\n",
              "      <td>4</td>\n",
              "      <td>0</td>\n",
              "      <td>4</td>\n",
              "      <td>1.609718e+09</td>\n",
              "      <td>1.0</td>\n",
              "    </tr>\n",
              "    <tr>\n",
              "      <th>1</th>\n",
              "      <td>B07TM3LRVB</td>\n",
              "      <td>False</td>\n",
              "      <td>False</td>\n",
              "      <td>False</td>\n",
              "      <td>False</td>\n",
              "      <td>False</td>\n",
              "      <td>False</td>\n",
              "      <td>-56.750000</td>\n",
              "      <td>1078.250000</td>\n",
              "      <td>20.0</td>\n",
              "      <td>1078.250000</td>\n",
              "      <td>2021</td>\n",
              "      <td>1</td>\n",
              "      <td>1</td>\n",
              "      <td>8</td>\n",
              "      <td>4</td>\n",
              "      <td>8</td>\n",
              "      <td>1.610064e+09</td>\n",
              "      <td>1.0</td>\n",
              "    </tr>\n",
              "    <tr>\n",
              "      <th>2</th>\n",
              "      <td>B08976V1BZ</td>\n",
              "      <td>False</td>\n",
              "      <td>False</td>\n",
              "      <td>False</td>\n",
              "      <td>False</td>\n",
              "      <td>False</td>\n",
              "      <td>False</td>\n",
              "      <td>-79.949997</td>\n",
              "      <td>1519.050049</td>\n",
              "      <td>22.0</td>\n",
              "      <td>1519.050049</td>\n",
              "      <td>2021</td>\n",
              "      <td>1</td>\n",
              "      <td>1</td>\n",
              "      <td>9</td>\n",
              "      <td>5</td>\n",
              "      <td>9</td>\n",
              "      <td>1.610150e+09</td>\n",
              "      <td>1.0</td>\n",
              "    </tr>\n",
              "  </tbody>\n",
              "</table>"
            ],
            "text/plain": [
              "<IPython.core.display.HTML object>"
            ]
          },
          "metadata": {
            "tags": []
          }
        }
      ]
    },
    {
      "cell_type": "markdown",
      "metadata": {
        "id": "zfhn2fdjnzkz"
      },
      "source": [
        "#### Creating Train and Test set"
      ]
    },
    {
      "cell_type": "code",
      "metadata": {
        "id": "HW9ZlBHDrw9U"
      },
      "source": [
        "x_train,y_train = to.train.xs, to.train.y\n",
        "x_valid, y_valid = to.valid.xs, to.valid.y"
      ],
      "execution_count": null,
      "outputs": []
    },
    {
      "cell_type": "markdown",
      "metadata": {
        "id": "49pUqfu5g7Hx"
      },
      "source": [
        "### Base Line Model\n",
        "\n",
        "\n",
        "Base line model will predict the most frequent y variable (which is 1)"
      ]
    },
    {
      "cell_type": "code",
      "metadata": {
        "colab": {
          "base_uri": "https://localhost:8080/"
        },
        "id": "C5bV4N4WSAit",
        "outputId": "c889baa0-7a14-49c2-a5fd-ad6c8155c740"
      },
      "source": [
        "y_train.value_counts()"
      ],
      "execution_count": null,
      "outputs": [
        {
          "output_type": "execute_result",
          "data": {
            "text/plain": [
              "1.0     6330\n",
              "2.0      978\n",
              "3.0      161\n",
              "4.0       36\n",
              "5.0        7\n",
              "7.0        2\n",
              "39.0       1\n",
              "9.0        1\n",
              "6.0        1\n",
              "Name: Quantity, dtype: int64"
            ]
          },
          "metadata": {
            "tags": []
          },
          "execution_count": 62
        }
      ]
    },
    {
      "cell_type": "code",
      "metadata": {
        "id": "_Zt1KutkhjBy"
      },
      "source": [
        "\n",
        "base_y = [1]*len(y_valid)\n",
        "base_y = np.array(base_y)"
      ],
      "execution_count": null,
      "outputs": []
    },
    {
      "cell_type": "markdown",
      "metadata": {
        "id": "84ZvCrv3NZLb"
      },
      "source": [
        "#### Mean Absolute Error & RMSE of Baseline model"
      ]
    },
    {
      "cell_type": "markdown",
      "metadata": {
        "id": "TXouwbpESKJq"
      },
      "source": [
        "The baseline prediction error is 0.226 using **MAE**"
      ]
    },
    {
      "cell_type": "code",
      "metadata": {
        "id": "VGYfKAN9L8s4"
      },
      "source": [
        "from sklearn.metrics import mean_absolute_error as mae\n"
      ],
      "execution_count": null,
      "outputs": []
    },
    {
      "cell_type": "code",
      "metadata": {
        "colab": {
          "base_uri": "https://localhost:8080/"
        },
        "id": "UGNXUph0hy_1",
        "outputId": "e0871445-ba52-4970-9827-ac621456fc47"
      },
      "source": [
        "mae(y_valid,base_y)"
      ],
      "execution_count": null,
      "outputs": [
        {
          "output_type": "execute_result",
          "data": {
            "text/plain": [
              "0.226305045202683"
            ]
          },
          "metadata": {
            "tags": []
          },
          "execution_count": 73
        }
      ]
    },
    {
      "cell_type": "markdown",
      "metadata": {
        "id": "GSvXZvKKeDzK"
      },
      "source": [
        "RMSE"
      ]
    },
    {
      "cell_type": "code",
      "metadata": {
        "id": "NDNnt7HIeGUw"
      },
      "source": [
        "\n",
        "def r_mse(pred,y): return round(math.sqrt(((pred-y)**2).mean()), 6)\n",
        "def m_rmse(m, xs, y): return r_mse(m.predict(xs), y)"
      ],
      "execution_count": null,
      "outputs": []
    },
    {
      "cell_type": "code",
      "metadata": {
        "colab": {
          "base_uri": "https://localhost:8080/"
        },
        "id": "ttbV2Q8_feWW",
        "outputId": "56ed4e5e-332a-46a8-8e9e-02bd47a369b7"
      },
      "source": [
        "y_valid"
      ],
      "execution_count": null,
      "outputs": [
        {
          "output_type": "execute_result",
          "data": {
            "text/plain": [
              "0      1.0\n",
              "159    1.0\n",
              "160    1.0\n",
              "161    1.0\n",
              "162    3.0\n",
              "      ... \n",
              "198    5.0\n",
              "199    1.0\n",
              "200    1.0\n",
              "201    1.0\n",
              "202    0.0\n",
              "Name: Quantity, Length: 2195, dtype: float32"
            ]
          },
          "metadata": {
            "tags": []
          },
          "execution_count": 71
        }
      ]
    },
    {
      "cell_type": "code",
      "metadata": {
        "colab": {
          "base_uri": "https://localhost:8080/"
        },
        "id": "yH1TZH4afcgl",
        "outputId": "3d309b48-d994-4f36-ff2c-3d74199effae"
      },
      "source": [
        "base_y"
      ],
      "execution_count": null,
      "outputs": [
        {
          "output_type": "execute_result",
          "data": {
            "text/plain": [
              "array([1, 1, 1, ..., 1, 1, 1])"
            ]
          },
          "metadata": {
            "tags": []
          },
          "execution_count": 70
        }
      ]
    },
    {
      "cell_type": "code",
      "metadata": {
        "id": "AXYL7_j7fwTN"
      },
      "source": [
        "from sklearn.metrics import mean_squared_error\n",
        "\n",
        "def rmse(y_actual,y_predicted):\n",
        "  return mean_squared_error(y_actual, y_predicted, squared=False)"
      ],
      "execution_count": null,
      "outputs": []
    },
    {
      "cell_type": "code",
      "metadata": {
        "colab": {
          "base_uri": "https://localhost:8080/"
        },
        "id": "oUltwKDreLU5",
        "outputId": "5b7f2ea3-c84b-41b3-bf71-9f86bc0478d6"
      },
      "source": [
        "rmse(y_valid.values,base_y)"
      ],
      "execution_count": null,
      "outputs": [
        {
          "output_type": "execute_result",
          "data": {
            "text/plain": [
              "0.5964803934127824"
            ]
          },
          "metadata": {
            "tags": []
          },
          "execution_count": 77
        }
      ]
    },
    {
      "cell_type": "markdown",
      "metadata": {
        "id": "GwhhalAKn5Gx"
      },
      "source": [
        "### Random forest"
      ]
    },
    {
      "cell_type": "code",
      "metadata": {
        "id": "M4qXAvIRhmuW"
      },
      "source": [
        "def rf(xs, y, n_estimators=40,\n",
        "       max_features=0.5, min_samples_leaf=5, **kwargs):\n",
        "    return RandomForestRegressor(n_jobs=-1, n_estimators=n_estimators,\n",
        "         max_features=max_features,\n",
        "        min_samples_leaf=min_samples_leaf, oob_score=True).fit(xs, y)"
      ],
      "execution_count": null,
      "outputs": []
    },
    {
      "cell_type": "code",
      "metadata": {
        "id": "ZYGDUVHAIe-3"
      },
      "source": [
        "rf =rf(x_train,y_train)"
      ],
      "execution_count": null,
      "outputs": []
    },
    {
      "cell_type": "code",
      "metadata": {
        "colab": {
          "base_uri": "https://localhost:8080/"
        },
        "id": "O09YE3KAciy4",
        "outputId": "876891b8-36e0-4642-bed6-135b65c67b14"
      },
      "source": [
        "rf.get_params"
      ],
      "execution_count": null,
      "outputs": [
        {
          "output_type": "execute_result",
          "data": {
            "text/plain": [
              "<bound method BaseEstimator.get_params of RandomForestRegressor(bootstrap=True, ccp_alpha=0.0, criterion='mse',\n",
              "                      max_depth=None, max_features=0.5, max_leaf_nodes=None,\n",
              "                      max_samples=None, min_impurity_decrease=0.0,\n",
              "                      min_impurity_split=None, min_samples_leaf=5,\n",
              "                      min_samples_split=2, min_weight_fraction_leaf=0.0,\n",
              "                      n_estimators=40, n_jobs=-1, oob_score=True,\n",
              "                      random_state=None, verbose=0, warm_start=False)>"
            ]
          },
          "metadata": {
            "tags": []
          },
          "execution_count": 81
        }
      ]
    },
    {
      "cell_type": "markdown",
      "metadata": {
        "id": "j5VZhgjAn83h"
      },
      "source": [
        "#### Mean Root Square Error"
      ]
    },
    {
      "cell_type": "code",
      "metadata": {
        "id": "xoKG90VaIj9o"
      },
      "source": [
        "\n",
        "def r_mse(pred,y): return round(math.sqrt(((pred-y)**2).mean()), 6)\n",
        "def m_rmse(m, xs, y): return r_mse(m.predict(xs), y)"
      ],
      "execution_count": null,
      "outputs": []
    },
    {
      "cell_type": "code",
      "metadata": {
        "colab": {
          "base_uri": "https://localhost:8080/"
        },
        "id": "z2umQbUjIqhO",
        "outputId": "d8e65737-95b8-4204-f8a4-c231a6593dc6"
      },
      "source": [
        "m_rmse(rf,x_train,y_train), m_rmse(rf,x_valid,y_valid)"
      ],
      "execution_count": null,
      "outputs": [
        {
          "output_type": "execute_result",
          "data": {
            "text/plain": [
              "(0.373049, 0.094752)"
            ]
          },
          "metadata": {
            "tags": []
          },
          "execution_count": 82
        }
      ]
    },
    {
      "cell_type": "code",
      "metadata": {
        "colab": {
          "base_uri": "https://localhost:8080/"
        },
        "id": "M_W-aQc1I8N0",
        "outputId": "86e834b6-d80b-4af3-b229-ef3460e6b206"
      },
      "source": [
        "x_train.shape, y_train.shape, x_valid.shape, y_valid.shape"
      ],
      "execution_count": null,
      "outputs": [
        {
          "output_type": "execute_result",
          "data": {
            "text/plain": [
              "((7517, 18), (7517,), (3429, 18), (3429,))"
            ]
          },
          "metadata": {
            "tags": []
          },
          "execution_count": 83
        }
      ]
    },
    {
      "cell_type": "markdown",
      "metadata": {
        "id": "DO4Hs0eFKHw7"
      },
      "source": [
        "#####We need to think about someother metric to use other than this, which is more accurate to the problem at hand. "
      ]
    },
    {
      "cell_type": "markdown",
      "metadata": {
        "id": "HdBGM311Svn-"
      },
      "source": [
        "#### Using Mean Absolute Error"
      ]
    },
    {
      "cell_type": "code",
      "metadata": {
        "id": "rKnhgQ8xX3ZP"
      },
      "source": [
        "from sklearn.metrics import mean_absolute_error as mae"
      ],
      "execution_count": null,
      "outputs": []
    },
    {
      "cell_type": "code",
      "metadata": {
        "colab": {
          "base_uri": "https://localhost:8080/"
        },
        "id": "m6mglwjaTbY2",
        "outputId": "43291692-feba-4fe7-8215-e581a80e048a"
      },
      "source": [
        "mae(y_valid,rf.predict(x_valid))"
      ],
      "execution_count": null,
      "outputs": [
        {
          "output_type": "execute_result",
          "data": {
            "text/plain": [
              "0.028076104794112888"
            ]
          },
          "metadata": {
            "tags": []
          },
          "execution_count": 85
        }
      ]
    },
    {
      "cell_type": "code",
      "metadata": {
        "colab": {
          "base_uri": "https://localhost:8080/"
        },
        "id": "03HRVhwlYZMK",
        "outputId": "d7052fe5-525d-43af-eb0a-8622c183c5c1"
      },
      "source": [
        "mae(y_train,rf.predict(x_train))"
      ],
      "execution_count": null,
      "outputs": [
        {
          "output_type": "execute_result",
          "data": {
            "text/plain": [
              "0.020305458216946435"
            ]
          },
          "metadata": {
            "tags": []
          },
          "execution_count": 86
        }
      ]
    },
    {
      "cell_type": "markdown",
      "metadata": {
        "id": "4ehvwkHUOMfX"
      },
      "source": [
        "***The Random Forest model is better than the baseline model.***"
      ]
    },
    {
      "cell_type": "markdown",
      "metadata": {
        "id": "v_g4qACfYfMs"
      },
      "source": [
        "##### Creating our own function to change threshold."
      ]
    },
    {
      "cell_type": "code",
      "metadata": {
        "id": "VnDeJo8sYdro"
      },
      "source": [
        "# This functions helps to convert the value into integ\n",
        "def pred(y_pred,thres= 0.5):\n",
        "  new_pred = np.where((y_pred-int(y_pred)) < thres,int(y_pred), int(y_pred)+1)\n",
        "  return new_pred"
      ],
      "execution_count": null,
      "outputs": []
    },
    {
      "cell_type": "code",
      "metadata": {
        "id": "ZYBpczpSbUkW"
      },
      "source": [
        "new_pred = np.vectorize(pred) # So that the function will accept list of integers."
      ],
      "execution_count": null,
      "outputs": []
    },
    {
      "cell_type": "markdown",
      "metadata": {
        "id": "LLs5WGMaSTNp"
      },
      "source": [
        "***Random forest prediction, with a threshold of 0.42 gives the best results. The result is better than the baseline model error of 0.226.***\n",
        "\n",
        "We were able to improve the performance of the model again."
      ]
    },
    {
      "cell_type": "code",
      "metadata": {
        "colab": {
          "base_uri": "https://localhost:8080/"
        },
        "id": "aclHjwcUdrSh",
        "outputId": "c6f1ac98-1bfc-4a88-f342-1a46d3877769"
      },
      "source": [
        "mae(y_valid,(new_pred(rf.predict(x_valid),0.42)))\n",
        "\n"
      ],
      "execution_count": null,
      "outputs": [
        {
          "output_type": "execute_result",
          "data": {
            "text/plain": [
              "0.005540974044911053"
            ]
          },
          "metadata": {
            "tags": []
          },
          "execution_count": 98
        }
      ]
    },
    {
      "cell_type": "markdown",
      "metadata": {
        "id": "_smFVAgkTWGR"
      },
      "source": [
        "#### Predictions based on number of trees"
      ]
    },
    {
      "cell_type": "code",
      "metadata": {
        "id": "Tyy-HEY9h6wM"
      },
      "source": [
        "preds = np.stack([t.predict(x_valid) for t in rf.estimators_])"
      ],
      "execution_count": null,
      "outputs": []
    },
    {
      "cell_type": "code",
      "metadata": {
        "colab": {
          "base_uri": "https://localhost:8080/",
          "height": 265
        },
        "id": "-1BeDe3ajpw3",
        "outputId": "52b5fb55-468f-437f-ed93-6f7835aceee8"
      },
      "source": [
        "plt.plot([mae(new_pred(preds[:i+1].mean(0),0.42), y_valid) for i in range(40)]);"
      ],
      "execution_count": null,
      "outputs": [
        {
          "output_type": "display_data",
          "data": {
            "image/png": "[encoded data removed]",
            "text/plain": [
              "<Figure size 432x288 with 1 Axes>"
            ]
          },
          "metadata": {
            "tags": [],
            "needs_background": "light"
          }
        }
      ]
    },
    {
      "cell_type": "code",
      "metadata": {
        "id": "aAXs2pHRj-TY"
      },
      "source": [
        ""
      ],
      "execution_count": null,
      "outputs": []
    },
    {
      "cell_type": "markdown",
      "metadata": {
        "id": "crH-AfOiTbkC"
      },
      "source": [
        "### Feature Importances"
      ]
    },
    {
      "cell_type": "code",
      "metadata": {
        "id": "T91cgziBgiyU"
      },
      "source": [
        "def rf_feat_importance(m, df):\n",
        "    return pd.DataFrame({'cols':df.columns, 'imp':m.feature_importances_}\n",
        "                       ).sort_values('imp', ascending=False)"
      ],
      "execution_count": null,
      "outputs": []
    },
    {
      "cell_type": "code",
      "metadata": {
        "colab": {
          "base_uri": "https://localhost:8080/",
          "height": 363
        },
        "id": "rESzkCpHkFfG",
        "outputId": "43ae52ad-443c-42bc-ad1b-446ce22d9b99"
      },
      "source": [
        "fi = rf_feat_importance(rf, x_train)\n",
        "fi[:10]"
      ],
      "execution_count": null,
      "outputs": [
        {
          "output_type": "execute_result",
          "data": {
            "text/html": [
              "<div>\n",
              "<style scoped>\n",
              "    .dataframe tbody tr th:only-of-type {\n",
              "        vertical-align: middle;\n",
              "    }\n",
              "\n",
              "    .dataframe tbody tr th {\n",
              "        vertical-align: top;\n",
              "    }\n",
              "\n",
              "    .dataframe thead th {\n",
              "        text-align: right;\n",
              "    }\n",
              "</style>\n",
              "<table border=\"1\" class=\"dataframe\">\n",
              "  <thead>\n",
              "    <tr style=\"text-align: right;\">\n",
              "      <th></th>\n",
              "      <th>cols</th>\n",
              "      <th>imp</th>\n",
              "    </tr>\n",
              "  </thead>\n",
              "  <tbody>\n",
              "    <tr>\n",
              "      <th>10</th>\n",
              "      <td>Invoice Amount</td>\n",
              "      <td>0.817458</td>\n",
              "    </tr>\n",
              "    <tr>\n",
              "      <th>8</th>\n",
              "      <td>price</td>\n",
              "      <td>0.101535</td>\n",
              "    </tr>\n",
              "    <tr>\n",
              "      <th>0</th>\n",
              "      <td>Asin</td>\n",
              "      <td>0.028686</td>\n",
              "    </tr>\n",
              "    <tr>\n",
              "      <th>17</th>\n",
              "      <td>Elapsed</td>\n",
              "      <td>0.011727</td>\n",
              "    </tr>\n",
              "    <tr>\n",
              "      <th>16</th>\n",
              "      <td>Dayofyear</td>\n",
              "      <td>0.011217</td>\n",
              "    </tr>\n",
              "    <tr>\n",
              "      <th>14</th>\n",
              "      <td>Day</td>\n",
              "      <td>0.010034</td>\n",
              "    </tr>\n",
              "    <tr>\n",
              "      <th>9</th>\n",
              "      <td>hour</td>\n",
              "      <td>0.006583</td>\n",
              "    </tr>\n",
              "    <tr>\n",
              "      <th>15</th>\n",
              "      <td>Dayofweek</td>\n",
              "      <td>0.003802</td>\n",
              "    </tr>\n",
              "    <tr>\n",
              "      <th>13</th>\n",
              "      <td>Week</td>\n",
              "      <td>0.003509</td>\n",
              "    </tr>\n",
              "    <tr>\n",
              "      <th>7</th>\n",
              "      <td>Item Promo Discount</td>\n",
              "      <td>0.003053</td>\n",
              "    </tr>\n",
              "  </tbody>\n",
              "</table>\n",
              "</div>"
            ],
            "text/plain": [
              "                   cols       imp\n",
              "10       Invoice Amount  0.817458\n",
              "8                 price  0.101535\n",
              "0                  Asin  0.028686\n",
              "17              Elapsed  0.011727\n",
              "16            Dayofyear  0.011217\n",
              "14                  Day  0.010034\n",
              "9                  hour  0.006583\n",
              "15            Dayofweek  0.003802\n",
              "13                 Week  0.003509\n",
              "7   Item Promo Discount  0.003053"
            ]
          },
          "metadata": {
            "tags": []
          },
          "execution_count": 105
        }
      ]
    },
    {
      "cell_type": "code",
      "metadata": {
        "colab": {
          "base_uri": "https://localhost:8080/",
          "height": 428
        },
        "id": "qWKbZ-VrkJKi",
        "outputId": "0826dac3-9d61-4344-f2bb-35a417e946f3"
      },
      "source": [
        "def plot_fi(fi):\n",
        "    return fi.plot('cols', 'imp', 'barh', figsize=(12,7), legend=False)\n",
        "\n",
        "plot_fi(fi[:10]);"
      ],
      "execution_count": null,
      "outputs": [
        {
          "output_type": "display_data",
          "data": {
            "image/png": "[encoded data removed]",
            "text/plain": [
              "<Figure size 864x504 with 1 Axes>"
            ]
          },
          "metadata": {
            "tags": [],
            "needs_background": "light"
          }
        }
      ]
    },
    {
      "cell_type": "markdown",
      "metadata": {
        "id": "Qz3DEB9HTfix"
      },
      "source": [
        "### Redundant Features"
      ]
    },
    {
      "cell_type": "markdown",
      "metadata": {
        "id": "OKRgmjhCTvIG"
      },
      "source": [
        "We can observe that only few columns are highly dependent, like Dayodyear and Month."
      ]
    },
    {
      "cell_type": "code",
      "metadata": {
        "colab": {
          "base_uri": "https://localhost:8080/",
          "height": 374
        },
        "id": "99OqCeZckU78",
        "outputId": "fe91332a-5b73-4d26-b8ba-421a180681c2"
      },
      "source": [
        "cluster_columns(x_train)"
      ],
      "execution_count": null,
      "outputs": [
        {
          "output_type": "display_data",
          "data": {
            "image/png": "[encoded data removed]",
            "text/plain": [
              "<Figure size 720x432 with 1 Axes>"
            ]
          },
          "metadata": {
            "tags": [],
            "needs_background": "light"
          }
        }
      ]
    },
    {
      "cell_type": "markdown",
      "metadata": {
        "id": "vpNgBv_TPHj2"
      },
      "source": [
        "Day of year and Month features are highly correlated. We can remove one feature and get the same performance."
      ]
    },
    {
      "cell_type": "code",
      "metadata": {
        "colab": {
          "base_uri": "https://localhost:8080/",
          "height": 279
        },
        "id": "ccTCmRf6kb_M",
        "outputId": "812e580e-5174-4166-d000-7cd44b71a81d"
      },
      "source": [
        "from sklearn.inspection import plot_partial_dependence\n",
        "\n",
        "fig,ax = plt.subplots(figsize=(12, 4))\n",
        "plot_partial_dependence(rf, x_valid, ['Dayofyear','Invoice Amount','Asin'],\n",
        "                        grid_resolution=20, ax=ax);"
      ],
      "execution_count": null,
      "outputs": [
        {
          "output_type": "display_data",
          "data": {
            "image/png": "[encoded data removed]",
            "text/plain": [
              "<Figure size 864x288 with 4 Axes>"
            ]
          },
          "metadata": {
            "tags": [],
            "needs_background": "light"
          }
        }
      ]
    },
    {
      "cell_type": "markdown",
      "metadata": {
        "id": "5XJam2_4VmFk"
      },
      "source": [
        "### Tree Intrepter\n"
      ]
    },
    {
      "cell_type": "code",
      "metadata": {
        "id": "xTjvkXo-HxPa"
      },
      "source": [
        "#hide\n",
        "import warnings\n",
        "warnings.simplefilter('ignore', FutureWarning)\n",
        "\n",
        "from treeinterpreter import treeinterpreter\n",
        "from waterfall_chart import plot as waterfall"
      ],
      "execution_count": null,
      "outputs": []
    },
    {
      "cell_type": "code",
      "metadata": {
        "id": "A8bxlMp9HxPb"
      },
      "source": [
        "row = x_valid.iloc[:5]"
      ],
      "execution_count": null,
      "outputs": []
    },
    {
      "cell_type": "code",
      "metadata": {
        "id": "jZo1ca8HHxPb"
      },
      "source": [
        "prediction,bias,contributions = treeinterpreter.predict(rf, row.values)"
      ],
      "execution_count": null,
      "outputs": []
    },
    {
      "cell_type": "code",
      "metadata": {
        "id": "gSD2AkvBHxPc",
        "colab": {
          "base_uri": "https://localhost:8080/"
        },
        "outputId": "1b3f7c62-8f3b-4ae7-dd03-f1567f7c34a0"
      },
      "source": [
        "prediction[0], bias[0], contributions[0].sum()"
      ],
      "execution_count": null,
      "outputs": [
        {
          "output_type": "execute_result",
          "data": {
            "text/plain": [
              "(array([1.06099432]), 1.2006219236397504, -0.13962760545793174)"
            ]
          },
          "metadata": {
            "tags": []
          },
          "execution_count": 116
        }
      ]
    },
    {
      "cell_type": "code",
      "metadata": {
        "id": "POnl6p29HxPd",
        "colab": {
          "base_uri": "https://localhost:8080/",
          "height": 297
        },
        "outputId": "585c7d44-b1f3-414b-b6d6-adb63d4f5fec"
      },
      "source": [
        "waterfall(x_valid.columns, contributions[0], threshold=0.08, \n",
        "          rotation_value=45,formatting='{:,.3f}');"
      ],
      "execution_count": null,
      "outputs": [
        {
          "output_type": "display_data",
          "data": {
            "image/png": "[encoded data removed]",
            "text/plain": [
              "<Figure size 432x288 with 1 Axes>"
            ]
          },
          "metadata": {
            "tags": [],
            "needs_background": "light"
          }
        }
      ]
    },
    {
      "cell_type": "markdown",
      "metadata": {
        "id": "As2V6hq_VrGV"
      },
      "source": [
        "## Creating a Neural network"
      ]
    },
    {
      "cell_type": "code",
      "metadata": {
        "id": "WnY_PCGSl5Fl"
      },
      "source": [
        "cont_nn,cat_nn = cont_cat_split(df_main, max_card=9000, dep_var=dep_var)"
      ],
      "execution_count": null,
      "outputs": []
    },
    {
      "cell_type": "code",
      "metadata": {
        "colab": {
          "base_uri": "https://localhost:8080/"
        },
        "id": "AMNS6QnKmJXF",
        "outputId": "eb68bf5a-e942-46ef-d094-5af09483b996"
      },
      "source": [
        "df_main[cat_nn].nunique()"
      ],
      "execution_count": null,
      "outputs": [
        {
          "output_type": "execute_result",
          "data": {
            "text/plain": [
              "Asin                 46\n",
              "Year                  3\n",
              "Month                12\n",
              "Week                 53\n",
              "Day                  31\n",
              "Dayofweek             7\n",
              "Dayofyear           366\n",
              "Is_month_end          2\n",
              "Is_month_start        2\n",
              "Is_quarter_end        2\n",
              "Is_quarter_start      2\n",
              "Is_year_end           2\n",
              "Is_year_start         2\n",
              "dtype: int64"
            ]
          },
          "metadata": {
            "tags": []
          },
          "execution_count": 119
        }
      ]
    },
    {
      "cell_type": "code",
      "metadata": {
        "id": "VHnjCABcmQ3O"
      },
      "source": [
        "procs_nn = [Categorify, FillMissing, Normalize]\n",
        "to_nn = TabularPandas(df_main, procs_nn, cat_nn, cont_nn,\n",
        "                      splits=splits, y_names=dep_var)"
      ],
      "execution_count": null,
      "outputs": []
    },
    {
      "cell_type": "code",
      "metadata": {
        "id": "ck_KuvZImgPg"
      },
      "source": [
        "dls = to_nn.dataloaders(528)"
      ],
      "execution_count": null,
      "outputs": []
    },
    {
      "cell_type": "code",
      "metadata": {
        "colab": {
          "base_uri": "https://localhost:8080/"
        },
        "id": "tm4Nx5bCmlsK",
        "outputId": "53c3977f-aa31-4d08-dd31-baad8b6521a1"
      },
      "source": [
        "y = to_nn.train.y\n",
        "y.min(),y.max()"
      ],
      "execution_count": null,
      "outputs": [
        {
          "output_type": "execute_result",
          "data": {
            "text/plain": [
              "(1.0, 39.0)"
            ]
          },
          "metadata": {
            "tags": []
          },
          "execution_count": 122
        }
      ]
    },
    {
      "cell_type": "markdown",
      "metadata": {
        "id": "NJbFuMsrWAKD"
      },
      "source": [
        "Creating the learner and using MAE as the metric."
      ]
    },
    {
      "cell_type": "code",
      "metadata": {
        "id": "qx0EPXLPmq6R"
      },
      "source": [
        "learn = tabular_learner(dls, y_range=(0,42), layers=[500,250],\n",
        "                        n_out=1, loss_func=F.mse_loss, metrics= torch.nn.L1Loss)"
      ],
      "execution_count": null,
      "outputs": []
    },
    {
      "cell_type": "code",
      "metadata": {
        "colab": {
          "base_uri": "https://localhost:8080/",
          "height": 301
        },
        "id": "Qc8wzXOIm0Pf",
        "outputId": "fa80098d-83f6-49d2-b1bc-6978222e65b7"
      },
      "source": [
        "learn.lr_find()"
      ],
      "execution_count": null,
      "outputs": [
        {
          "output_type": "display_data",
          "data": {
            "text/html": [
              ""
            ],
            "text/plain": [
              "<IPython.core.display.HTML object>"
            ]
          },
          "metadata": {
            "tags": []
          }
        },
        {
          "output_type": "execute_result",
          "data": {
            "text/plain": [
              "SuggestedLRs(valley=0.001737800776027143)"
            ]
          },
          "metadata": {
            "tags": []
          },
          "execution_count": 132
        },
        {
          "output_type": "display_data",
          "data": {
            "image/png": "[encoded data removed]",
            "text/plain": [
              "<Figure size 432x288 with 1 Axes>"
            ]
          },
          "metadata": {
            "tags": [],
            "needs_background": "light"
          }
        }
      ]
    },
    {
      "cell_type": "code",
      "metadata": {
        "colab": {
          "base_uri": "https://localhost:8080/",
          "height": 206
        },
        "id": "_6VLOKfqm2_o",
        "outputId": "8333473b-ada4-4058-f4d2-5cde22dc7be9"
      },
      "source": [
        "learn.fit_one_cycle(5, 1e-3)"
      ],
      "execution_count": null,
      "outputs": [
        {
          "output_type": "display_data",
          "data": {
            "text/html": [
              "<table border=\"1\" class=\"dataframe\">\n",
              "  <thead>\n",
              "    <tr style=\"text-align: left;\">\n",
              "      <th>epoch</th>\n",
              "      <th>train_loss</th>\n",
              "      <th>valid_loss</th>\n",
              "      <th>None</th>\n",
              "      <th>time</th>\n",
              "    </tr>\n",
              "  </thead>\n",
              "  <tbody>\n",
              "    <tr>\n",
              "      <td>0</td>\n",
              "      <td>372.822235</td>\n",
              "      <td>379.405029</td>\n",
              "      <td>19.417332</td>\n",
              "      <td>00:00</td>\n",
              "    </tr>\n",
              "    <tr>\n",
              "      <td>1</td>\n",
              "      <td>303.498322</td>\n",
              "      <td>432.771057</td>\n",
              "      <td>20.098303</td>\n",
              "      <td>00:00</td>\n",
              "    </tr>\n",
              "    <tr>\n",
              "      <td>2</td>\n",
              "      <td>254.218079</td>\n",
              "      <td>345.267303</td>\n",
              "      <td>17.397095</td>\n",
              "      <td>00:00</td>\n",
              "    </tr>\n",
              "    <tr>\n",
              "      <td>3</td>\n",
              "      <td>219.247574</td>\n",
              "      <td>197.446472</td>\n",
              "      <td>11.554172</td>\n",
              "      <td>00:00</td>\n",
              "    </tr>\n",
              "    <tr>\n",
              "      <td>4</td>\n",
              "      <td>196.244095</td>\n",
              "      <td>154.227966</td>\n",
              "      <td>8.943225</td>\n",
              "      <td>00:00</td>\n",
              "    </tr>\n",
              "  </tbody>\n",
              "</table>"
            ],
            "text/plain": [
              "<IPython.core.display.HTML object>"
            ]
          },
          "metadata": {
            "tags": []
          }
        }
      ]
    },
    {
      "cell_type": "code",
      "metadata": {
        "colab": {
          "base_uri": "https://localhost:8080/",
          "height": 269
        },
        "id": "qzjFtgJrY1OO",
        "outputId": "b6df6634-3204-4d49-db54-e1189d575a3a"
      },
      "source": [
        "# Using weight Decay\n",
        "learn = tabular_learner(dls, y_range=(0,42), layers=[500,250],\n",
        "                        n_out=1, loss_func=F.mse_loss, metrics= torch.nn.L1Loss)\n",
        "learn.fit_one_cycle(7, 1e-3,wd=0.1)"
      ],
      "execution_count": null,
      "outputs": [
        {
          "output_type": "display_data",
          "data": {
            "text/html": [
              "<table border=\"1\" class=\"dataframe\">\n",
              "  <thead>\n",
              "    <tr style=\"text-align: left;\">\n",
              "      <th>epoch</th>\n",
              "      <th>train_loss</th>\n",
              "      <th>valid_loss</th>\n",
              "      <th>None</th>\n",
              "      <th>time</th>\n",
              "    </tr>\n",
              "  </thead>\n",
              "  <tbody>\n",
              "    <tr>\n",
              "      <td>0</td>\n",
              "      <td>415.050323</td>\n",
              "      <td>368.318848</td>\n",
              "      <td>19.181446</td>\n",
              "      <td>00:00</td>\n",
              "    </tr>\n",
              "    <tr>\n",
              "      <td>1</td>\n",
              "      <td>391.548187</td>\n",
              "      <td>301.503632</td>\n",
              "      <td>16.527311</td>\n",
              "      <td>00:00</td>\n",
              "    </tr>\n",
              "    <tr>\n",
              "      <td>2</td>\n",
              "      <td>323.645782</td>\n",
              "      <td>250.139923</td>\n",
              "      <td>13.706243</td>\n",
              "      <td>00:00</td>\n",
              "    </tr>\n",
              "    <tr>\n",
              "      <td>3</td>\n",
              "      <td>266.135895</td>\n",
              "      <td>166.949661</td>\n",
              "      <td>9.263852</td>\n",
              "      <td>00:00</td>\n",
              "    </tr>\n",
              "    <tr>\n",
              "      <td>4</td>\n",
              "      <td>224.753204</td>\n",
              "      <td>141.152115</td>\n",
              "      <td>6.903642</td>\n",
              "      <td>00:00</td>\n",
              "    </tr>\n",
              "    <tr>\n",
              "      <td>5</td>\n",
              "      <td>197.286102</td>\n",
              "      <td>139.188156</td>\n",
              "      <td>6.743922</td>\n",
              "      <td>00:00</td>\n",
              "    </tr>\n",
              "    <tr>\n",
              "      <td>6</td>\n",
              "      <td>177.649429</td>\n",
              "      <td>136.893204</td>\n",
              "      <td>6.467886</td>\n",
              "      <td>00:00</td>\n",
              "    </tr>\n",
              "  </tbody>\n",
              "</table>"
            ],
            "text/plain": [
              "<IPython.core.display.HTML object>"
            ]
          },
          "metadata": {
            "tags": []
          }
        }
      ]
    },
    {
      "cell_type": "markdown",
      "metadata": {
        "id": "KR-NgHIJb8Ti"
      },
      "source": [
        "Using Weight Decay we were able to improve the performance of the Neural network. \n",
        "\n",
        "But here the random forest has performed better than the neural network.\n",
        "\n",
        "The Mean Absolute score for the \n",
        "\n",
        "- Neural Network is 6.46\n",
        "\n",
        "- Random Forest is 0.028\n",
        "\n",
        "- Random Forest with threshold of 4.2 = 0.005\n",
        "\n",
        "- & Base line model is  0.226 "
      ]
    },
    {
      "cell_type": "code",
      "metadata": {
        "id": "iEZFXAi_nJGa"
      },
      "source": [
        ""
      ],
      "execution_count": null,
      "outputs": []
    }
  ]
}