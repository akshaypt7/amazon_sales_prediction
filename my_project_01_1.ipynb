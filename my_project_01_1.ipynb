{
  "nbformat": 4,
  "nbformat_minor": 0,
  "metadata": {
    "colab": {
      "name": "my_project_01.1.ipynb",
      "provenance": [],
      "collapsed_sections": [],
      "authorship_tag": "ABX9TyNy1sHpNAtTS8RZsiIh/jT8",
      "include_colab_link": true
    },
    "kernelspec": {
      "name": "python3",
      "display_name": "Python 3"
    },
    "language_info": {
      "name": "python"
    },
    "accelerator": "GPU"
  },
  "cells": [
    {
      "cell_type": "markdown",
      "metadata": {
        "id": "view-in-github",
        "colab_type": "text"
      },
      "source": [
        "<a href=\"https://colab.research.google.com/github/akshaypt7/amazon_sales_prediction/blob/main/my_project_01_1.ipynb\" target=\"_parent\"><img src=\"https://colab.research.google.com/assets/colab-badge.svg\" alt=\"Open In Colab\"/></a>"
      ]
    },
    {
      "cell_type": "markdown",
      "metadata": {
        "id": "YM0oZ2H6ckHC"
      },
      "source": [
        "This is part 2 of the project. Here we make improvements that we have learnt from part 1 of the project."
      ]
    },
    {
      "cell_type": "markdown",
      "metadata": {
        "id": "UAzw8Qltc-_D"
      },
      "source": [
        "One of the mistakes we have done in the first part was that there was data leakage. \n",
        "\n",
        "**When the sales are made for each asins in a day, we are not considering the asins that were not sold that day. so the thing is we need to add ASINS even when there was no sale made for that. We can give the quantity as 0. **\n",
        "\n",
        "\n",
        "How do we do this?\n",
        "\n",
        "When we read data each month, we see what are the unique ASINs, then these asins should be added to each days, even for the days when these asins are not sold. \n",
        "but what other details can we give, what about promotions and other details, we can take the entire row not just the ASIN, but what if there are two rows with coupon and without coupon, if we can see which row is closer to that, that is with coupon or without coupon we can copy that coupon.\n",
        "\n",
        "one another thing to note is we can even look at working this for the enitre dataframe at once, rather than going month by month. The reason is what if for one month the product was laucnhed but on second month there was no sales, even though that product was available. this means that for all those we wont even mention the asin, but on the third month we mention again."
      ]
    },
    {
      "cell_type": "markdown",
      "metadata": {
        "id": "vTchGGkVhwft"
      },
      "source": [
        "- we can change the continous and categorical variables that we have defined."
      ]
    },
    {
      "cell_type": "code",
      "metadata": {
        "id": "VotfceFCcE5Q"
      },
      "source": [
        ""
      ],
      "execution_count": null,
      "outputs": []
    },
    {
      "cell_type": "markdown",
      "metadata": {
        "id": "qmhSJWC2lYYP"
      },
      "source": [
        "One another mistake that we had done in part 1 was that we had only taken 679 data points as the validation set, we have used 10,500 as the train set. we should have atleast taken 3000 units as validation set.\n",
        "\n",
        "This was the reason we had high training error and less validation error. This makes sense why we also had high OOB_error and less validation error, as oob_error is calculated with atleast 30% data."
      ]
    },
    {
      "cell_type": "markdown",
      "metadata": {
        "id": "B2__VVcNmW4K"
      },
      "source": [
        "Next thing we learnt is we need to understand what metric we have to use.\n",
        "\n",
        "**We can use both classification and regression. When we use both then we need to understand what has to be used as the metric.**\n",
        "\n",
        "Also if we are considering accuracy or even other metrics we have to create a baseline model which predicts the majority class for all the data points.\n",
        "\n",
        "Learn more about metrics.\n",
        "\n",
        "One another thing what we can note is, we can convert 1.4 to 2, if we are going with regression. Here we need to come up with something like np.where(). We can see what is the performance at different thresholds. "
      ]
    },
    {
      "cell_type": "code",
      "metadata": {
        "id": "Bef9c6Til9cZ"
      },
      "source": [
        ""
      ],
      "execution_count": null,
      "outputs": []
    },
    {
      "cell_type": "markdown",
      "metadata": {
        "id": "6Xc1fT_9qCd_"
      },
      "source": [
        "We should also try to create the functions without copying and trying on a smaller set to know if it works."
      ]
    },
    {
      "cell_type": "code",
      "metadata": {
        "id": "AOf7-glAqKQD",
        "colab": {
          "base_uri": "https://localhost:8080/"
        },
        "outputId": "68bd289e-8cf8-4bdd-bfec-cba3fdf38475"
      },
      "source": [
        "#hide\n",
        "!pip install -Uqq fastbook kaggle waterfallcharts treeinterpreter dtreeviz\n",
        "import fastbook\n",
        "fastbook.setup_book()"
      ],
      "execution_count": null,
      "outputs": [
        {
          "output_type": "stream",
          "text": [
            "\u001b[K     |████████████████████████████████| 727kB 33.9MB/s \n",
            "\u001b[K     |████████████████████████████████| 61kB 9.0MB/s \n",
            "\u001b[K     |████████████████████████████████| 1.2MB 45.3MB/s \n",
            "\u001b[K     |████████████████████████████████| 51kB 6.9MB/s \n",
            "\u001b[K     |████████████████████████████████| 194kB 50.5MB/s \n",
            "\u001b[K     |████████████████████████████████| 61kB 9.1MB/s \n",
            "\u001b[K     |████████████████████████████████| 61kB 9.3MB/s \n",
            "\u001b[?25h  Building wheel for waterfallcharts (setup.py) ... \u001b[?25l\u001b[?25hdone\n",
            "  Building wheel for dtreeviz (setup.py) ... \u001b[?25l\u001b[?25hdone\n",
            "Mounted at /content/gdrive\n"
          ],
          "name": "stdout"
        }
      ]
    },
    {
      "cell_type": "code",
      "metadata": {
        "id": "xDDCJxlBR58G"
      },
      "source": [
        "#hide\n",
        "from fastbook import *\n",
        "# from kaggle import api\n",
        "from pandas.api.types import is_string_dtype, is_numeric_dtype, is_categorical_dtype\n",
        "from fastai.tabular.all import *\n",
        "from sklearn.ensemble import RandomForestRegressor, RandomForestClassifier\n",
        "from sklearn.tree import DecisionTreeRegressor\n",
        "from dtreeviz.trees import *\n",
        "from IPython.display import Image, display_svg, SVG\n",
        "\n",
        "pd.options.display.max_rows = 20\n",
        "pd.options.display.max_columns = 8"
      ],
      "execution_count": null,
      "outputs": []
    },
    {
      "cell_type": "code",
      "metadata": {
        "id": "z-pt33Frb0Tz"
      },
      "source": [
        "import pandas as pd"
      ],
      "execution_count": null,
      "outputs": []
    },
    {
      "cell_type": "code",
      "metadata": {
        "id": "Szn3aw0FUQGb"
      },
      "source": [
        "import os\n",
        "files = os.listdir('/content/gdrive/MyDrive/my_project_01')\n"
      ],
      "execution_count": null,
      "outputs": []
    },
    {
      "cell_type": "code",
      "metadata": {
        "id": "H5QMwiy6SA8_"
      },
      "source": [
        ""
      ],
      "execution_count": null,
      "outputs": []
    },
    {
      "cell_type": "code",
      "metadata": {
        "id": "0FcpG4fAZDOy"
      },
      "source": [
        "dict_files = {}\n",
        "for i,file in enumerate(files):\n",
        "  try:\n",
        "    # dict_files[i] = pd.read_csv( '/content/drive/MyDrive/my_project_01/' +str(file),low_memory=False)\n",
        "    dict_files[i] = pd.read_csv( '/content/gdrive/MyDrive/my_project_01/' +str(file),low_memory=False)\n",
        "  except:\n",
        "    # dict_files[i] = pd.read_excel( '/content/drive/MyDrive/my_project_01/' +str(file))\n",
        "    dict_files[i] = pd.read_excel( '/content/gdrive/MyDrive/my_project_01/' +str(file))\n"
      ],
      "execution_count": null,
      "outputs": []
    },
    {
      "cell_type": "markdown",
      "metadata": {
        "id": "xXDTJvCnUT4z"
      },
      "source": [
        "We have to take in Invoice Amount instead of Principal amount (since it helps to sepearate canceled and refund orders)"
      ]
    },
    {
      "cell_type": "code",
      "metadata": {
        "id": "pmM6Zg7TSYqD"
      },
      "source": [
        "df_dicts = {}\n",
        "\n",
        "for i in range(len(dict_files)):\n",
        "  df_dicts[i] = dict_files[i][['Order Date','Quantity','Asin','Invoice Amount','Item Promo Discount']]\n"
      ],
      "execution_count": null,
      "outputs": []
    },
    {
      "cell_type": "markdown",
      "metadata": {
        "id": "orRx9qfhShQi"
      },
      "source": [
        "Testing out with 1 dataframe"
      ]
    },
    {
      "cell_type": "code",
      "metadata": {
        "id": "4pr09WXDbepJ"
      },
      "source": [
        "df_copy = df.copy()"
      ],
      "execution_count": null,
      "outputs": []
    },
    {
      "cell_type": "code",
      "metadata": {
        "colab": {
          "base_uri": "https://localhost:8080/",
          "height": 394
        },
        "id": "zr-5ioH8Sf3c",
        "outputId": "d77ddbad-d569-4e29-9e0b-de24e4c16777"
      },
      "source": [
        "df = df_dicts[1]\n",
        "df"
      ],
      "execution_count": null,
      "outputs": [
        {
          "output_type": "execute_result",
          "data": {
            "text/html": [
              "<div>\n",
              "<style scoped>\n",
              "    .dataframe tbody tr th:only-of-type {\n",
              "        vertical-align: middle;\n",
              "    }\n",
              "\n",
              "    .dataframe tbody tr th {\n",
              "        vertical-align: top;\n",
              "    }\n",
              "\n",
              "    .dataframe thead th {\n",
              "        text-align: right;\n",
              "    }\n",
              "</style>\n",
              "<table border=\"1\" class=\"dataframe\">\n",
              "  <thead>\n",
              "    <tr style=\"text-align: right;\">\n",
              "      <th></th>\n",
              "      <th>Order Date</th>\n",
              "      <th>Quantity</th>\n",
              "      <th>Asin</th>\n",
              "      <th>Invoice Amount</th>\n",
              "      <th>Item Promo Discount</th>\n",
              "    </tr>\n",
              "  </thead>\n",
              "  <tbody>\n",
              "    <tr>\n",
              "      <th>0</th>\n",
              "      <td>2021-02-01 17:28:51</td>\n",
              "      <td>1</td>\n",
              "      <td>B07TM3LRVB</td>\n",
              "      <td>1135.00</td>\n",
              "      <td>0.00</td>\n",
              "    </tr>\n",
              "    <tr>\n",
              "      <th>1</th>\n",
              "      <td>2021-02-04 09:18:42</td>\n",
              "      <td>1</td>\n",
              "      <td>B07TM3LRVB</td>\n",
              "      <td>1078.25</td>\n",
              "      <td>-56.75</td>\n",
              "    </tr>\n",
              "    <tr>\n",
              "      <th>2</th>\n",
              "      <td>2021-02-12 00:30:53</td>\n",
              "      <td>1</td>\n",
              "      <td>B07TM3LRVB</td>\n",
              "      <td>1078.25</td>\n",
              "      <td>-56.75</td>\n",
              "    </tr>\n",
              "    <tr>\n",
              "      <th>3</th>\n",
              "      <td>2021-02-13 10:30:28</td>\n",
              "      <td>1</td>\n",
              "      <td>B0849NLNTQ</td>\n",
              "      <td>1599.00</td>\n",
              "      <td>0.00</td>\n",
              "    </tr>\n",
              "    <tr>\n",
              "      <th>4</th>\n",
              "      <td>2021-02-13 12:35:00</td>\n",
              "      <td>1</td>\n",
              "      <td>B0849NLNTQ</td>\n",
              "      <td>1519.05</td>\n",
              "      <td>-79.95</td>\n",
              "    </tr>\n",
              "    <tr>\n",
              "      <th>5</th>\n",
              "      <td>2021-02-14 18:47:44</td>\n",
              "      <td>1</td>\n",
              "      <td>B07KYFHTGF</td>\n",
              "      <td>1895.25</td>\n",
              "      <td>-99.75</td>\n",
              "    </tr>\n",
              "    <tr>\n",
              "      <th>6</th>\n",
              "      <td>2021-02-14 21:49:20</td>\n",
              "      <td>1</td>\n",
              "      <td>B07TM3LRVB</td>\n",
              "      <td>1078.25</td>\n",
              "      <td>-56.75</td>\n",
              "    </tr>\n",
              "    <tr>\n",
              "      <th>7</th>\n",
              "      <td>2021-02-18 07:55:57</td>\n",
              "      <td>1</td>\n",
              "      <td>B0849NLNTQ</td>\n",
              "      <td>1599.00</td>\n",
              "      <td>0.00</td>\n",
              "    </tr>\n",
              "    <tr>\n",
              "      <th>8</th>\n",
              "      <td>2021-02-24 14:11:53</td>\n",
              "      <td>1</td>\n",
              "      <td>B07TM3LRVB</td>\n",
              "      <td>1078.25</td>\n",
              "      <td>-56.75</td>\n",
              "    </tr>\n",
              "    <tr>\n",
              "      <th>9</th>\n",
              "      <td>2021-01-24 16:47:48</td>\n",
              "      <td>1</td>\n",
              "      <td>B0849NLNTQ</td>\n",
              "      <td>-1599.00</td>\n",
              "      <td>0.00</td>\n",
              "    </tr>\n",
              "    <tr>\n",
              "      <th>10</th>\n",
              "      <td>2021-01-28 10:02:02</td>\n",
              "      <td>1</td>\n",
              "      <td>B08332221J</td>\n",
              "      <td>-1499.00</td>\n",
              "      <td>0.00</td>\n",
              "    </tr>\n",
              "  </tbody>\n",
              "</table>\n",
              "</div>"
            ],
            "text/plain": [
              "            Order Date  Quantity        Asin  Invoice Amount  \\\n",
              "0  2021-02-01 17:28:51         1  B07TM3LRVB         1135.00   \n",
              "1  2021-02-04 09:18:42         1  B07TM3LRVB         1078.25   \n",
              "2  2021-02-12 00:30:53         1  B07TM3LRVB         1078.25   \n",
              "3  2021-02-13 10:30:28         1  B0849NLNTQ         1599.00   \n",
              "4  2021-02-13 12:35:00         1  B0849NLNTQ         1519.05   \n",
              "5  2021-02-14 18:47:44         1  B07KYFHTGF         1895.25   \n",
              "6  2021-02-14 21:49:20         1  B07TM3LRVB         1078.25   \n",
              "7  2021-02-18 07:55:57         1  B0849NLNTQ         1599.00   \n",
              "8  2021-02-24 14:11:53         1  B07TM3LRVB         1078.25   \n",
              "9  2021-01-24 16:47:48         1  B0849NLNTQ        -1599.00   \n",
              "10 2021-01-28 10:02:02         1  B08332221J        -1499.00   \n",
              "\n",
              "    Item Promo Discount  \n",
              "0                  0.00  \n",
              "1                -56.75  \n",
              "2                -56.75  \n",
              "3                  0.00  \n",
              "4                -79.95  \n",
              "5                -99.75  \n",
              "6                -56.75  \n",
              "7                  0.00  \n",
              "8                -56.75  \n",
              "9                  0.00  \n",
              "10                 0.00  "
            ]
          },
          "metadata": {
            "tags": []
          },
          "execution_count": 56
        }
      ]
    },
    {
      "cell_type": "code",
      "metadata": {
        "id": "e07wiSSHSrOB"
      },
      "source": [
        "df_copy['Date'] = df['Order Date'].dt.date"
      ],
      "execution_count": null,
      "outputs": []
    },
    {
      "cell_type": "code",
      "metadata": {
        "id": "izytEAm3aqsJ"
      },
      "source": [
        "df_copy.drop(['Order Date'], inplace = True, axis = 1)"
      ],
      "execution_count": null,
      "outputs": []
    },
    {
      "cell_type": "code",
      "metadata": {
        "colab": {
          "base_uri": "https://localhost:8080/",
          "height": 394
        },
        "id": "YpnEhBAGa5iC",
        "outputId": "a911a2b3-e8d1-4590-8b19-a5a813d581cc"
      },
      "source": [
        "df_copy"
      ],
      "execution_count": null,
      "outputs": [
        {
          "output_type": "execute_result",
          "data": {
            "text/html": [
              "<div>\n",
              "<style scoped>\n",
              "    .dataframe tbody tr th:only-of-type {\n",
              "        vertical-align: middle;\n",
              "    }\n",
              "\n",
              "    .dataframe tbody tr th {\n",
              "        vertical-align: top;\n",
              "    }\n",
              "\n",
              "    .dataframe thead th {\n",
              "        text-align: right;\n",
              "    }\n",
              "</style>\n",
              "<table border=\"1\" class=\"dataframe\">\n",
              "  <thead>\n",
              "    <tr style=\"text-align: right;\">\n",
              "      <th></th>\n",
              "      <th>Quantity</th>\n",
              "      <th>Asin</th>\n",
              "      <th>Invoice Amount</th>\n",
              "      <th>Item Promo Discount</th>\n",
              "      <th>Date</th>\n",
              "    </tr>\n",
              "  </thead>\n",
              "  <tbody>\n",
              "    <tr>\n",
              "      <th>0</th>\n",
              "      <td>1</td>\n",
              "      <td>B07TM3LRVB</td>\n",
              "      <td>1135.00</td>\n",
              "      <td>0.00</td>\n",
              "      <td>2021-02-01</td>\n",
              "    </tr>\n",
              "    <tr>\n",
              "      <th>1</th>\n",
              "      <td>1</td>\n",
              "      <td>B07TM3LRVB</td>\n",
              "      <td>1078.25</td>\n",
              "      <td>-56.75</td>\n",
              "      <td>2021-02-04</td>\n",
              "    </tr>\n",
              "    <tr>\n",
              "      <th>2</th>\n",
              "      <td>1</td>\n",
              "      <td>B07TM3LRVB</td>\n",
              "      <td>1078.25</td>\n",
              "      <td>-56.75</td>\n",
              "      <td>2021-02-12</td>\n",
              "    </tr>\n",
              "    <tr>\n",
              "      <th>3</th>\n",
              "      <td>1</td>\n",
              "      <td>B0849NLNTQ</td>\n",
              "      <td>1599.00</td>\n",
              "      <td>0.00</td>\n",
              "      <td>2021-02-13</td>\n",
              "    </tr>\n",
              "    <tr>\n",
              "      <th>4</th>\n",
              "      <td>1</td>\n",
              "      <td>B0849NLNTQ</td>\n",
              "      <td>1519.05</td>\n",
              "      <td>-79.95</td>\n",
              "      <td>2021-02-13</td>\n",
              "    </tr>\n",
              "    <tr>\n",
              "      <th>5</th>\n",
              "      <td>1</td>\n",
              "      <td>B07KYFHTGF</td>\n",
              "      <td>1895.25</td>\n",
              "      <td>-99.75</td>\n",
              "      <td>2021-02-14</td>\n",
              "    </tr>\n",
              "    <tr>\n",
              "      <th>6</th>\n",
              "      <td>1</td>\n",
              "      <td>B07TM3LRVB</td>\n",
              "      <td>1078.25</td>\n",
              "      <td>-56.75</td>\n",
              "      <td>2021-02-14</td>\n",
              "    </tr>\n",
              "    <tr>\n",
              "      <th>7</th>\n",
              "      <td>1</td>\n",
              "      <td>B0849NLNTQ</td>\n",
              "      <td>1599.00</td>\n",
              "      <td>0.00</td>\n",
              "      <td>2021-02-18</td>\n",
              "    </tr>\n",
              "    <tr>\n",
              "      <th>8</th>\n",
              "      <td>1</td>\n",
              "      <td>B07TM3LRVB</td>\n",
              "      <td>1078.25</td>\n",
              "      <td>-56.75</td>\n",
              "      <td>2021-02-24</td>\n",
              "    </tr>\n",
              "    <tr>\n",
              "      <th>9</th>\n",
              "      <td>1</td>\n",
              "      <td>B0849NLNTQ</td>\n",
              "      <td>-1599.00</td>\n",
              "      <td>0.00</td>\n",
              "      <td>2021-01-24</td>\n",
              "    </tr>\n",
              "    <tr>\n",
              "      <th>10</th>\n",
              "      <td>1</td>\n",
              "      <td>B08332221J</td>\n",
              "      <td>-1499.00</td>\n",
              "      <td>0.00</td>\n",
              "      <td>2021-01-28</td>\n",
              "    </tr>\n",
              "  </tbody>\n",
              "</table>\n",
              "</div>"
            ],
            "text/plain": [
              "    Quantity        Asin  Invoice Amount  Item Promo Discount        Date\n",
              "0          1  B07TM3LRVB         1135.00                 0.00  2021-02-01\n",
              "1          1  B07TM3LRVB         1078.25               -56.75  2021-02-04\n",
              "2          1  B07TM3LRVB         1078.25               -56.75  2021-02-12\n",
              "3          1  B0849NLNTQ         1599.00                 0.00  2021-02-13\n",
              "4          1  B0849NLNTQ         1519.05               -79.95  2021-02-13\n",
              "5          1  B07KYFHTGF         1895.25               -99.75  2021-02-14\n",
              "6          1  B07TM3LRVB         1078.25               -56.75  2021-02-14\n",
              "7          1  B0849NLNTQ         1599.00                 0.00  2021-02-18\n",
              "8          1  B07TM3LRVB         1078.25               -56.75  2021-02-24\n",
              "9          1  B0849NLNTQ        -1599.00                 0.00  2021-01-24\n",
              "10         1  B08332221J        -1499.00                 0.00  2021-01-28"
            ]
          },
          "metadata": {
            "tags": []
          },
          "execution_count": 62
        }
      ]
    },
    {
      "cell_type": "code",
      "metadata": {
        "colab": {
          "base_uri": "https://localhost:8080/"
        },
        "id": "sfMLeeerS7WR",
        "outputId": "78118bc6-2307-4cdf-c38c-925e74915a88"
      },
      "source": [
        "df_copy.groupby(['Date', 'Asin','Invoice Amount','Item Promo Discount'])['Quantity'].sum()"
      ],
      "execution_count": null,
      "outputs": [
        {
          "output_type": "execute_result",
          "data": {
            "text/plain": [
              "Date        Asin        Invoice Amount  Item Promo Discount\n",
              "2021-01-24  B0849NLNTQ  -1599.00         0.00                  1\n",
              "2021-01-28  B08332221J  -1499.00         0.00                  1\n",
              "2021-02-01  B07TM3LRVB   1135.00         0.00                  1\n",
              "2021-02-04  B07TM3LRVB   1078.25        -56.75                 1\n",
              "2021-02-12  B07TM3LRVB   1078.25        -56.75                 1\n",
              "2021-02-13  B0849NLNTQ   1519.05        -79.95                 1\n",
              "                         1599.00         0.00                  1\n",
              "2021-02-14  B07KYFHTGF   1895.25        -99.75                 1\n",
              "            B07TM3LRVB   1078.25        -56.75                 1\n",
              "2021-02-18  B0849NLNTQ   1599.00         0.00                  1\n",
              "2021-02-24  B07TM3LRVB   1078.25        -56.75                 1\n",
              "Name: Quantity, dtype: int64"
            ]
          },
          "metadata": {
            "tags": []
          },
          "execution_count": 63
        }
      ]
    },
    {
      "cell_type": "code",
      "metadata": {
        "id": "GYUbs44dTmPZ"
      },
      "source": [
        "cond  = df_copy['Invoice Amount'] > 0"
      ],
      "execution_count": null,
      "outputs": []
    },
    {
      "cell_type": "code",
      "metadata": {
        "id": "9ATNG6dCWBxC"
      },
      "source": [
        "df = df_copy.where(cond )"
      ],
      "execution_count": null,
      "outputs": []
    },
    {
      "cell_type": "code",
      "metadata": {
        "colab": {
          "base_uri": "https://localhost:8080/",
          "height": 394
        },
        "id": "rp9lhRcPWN7a",
        "outputId": "82c8d6d8-ff89-4800-aeec-fbacaecfb2fb"
      },
      "source": [
        "df"
      ],
      "execution_count": null,
      "outputs": [
        {
          "output_type": "execute_result",
          "data": {
            "text/html": [
              "<div>\n",
              "<style scoped>\n",
              "    .dataframe tbody tr th:only-of-type {\n",
              "        vertical-align: middle;\n",
              "    }\n",
              "\n",
              "    .dataframe tbody tr th {\n",
              "        vertical-align: top;\n",
              "    }\n",
              "\n",
              "    .dataframe thead th {\n",
              "        text-align: right;\n",
              "    }\n",
              "</style>\n",
              "<table border=\"1\" class=\"dataframe\">\n",
              "  <thead>\n",
              "    <tr style=\"text-align: right;\">\n",
              "      <th></th>\n",
              "      <th>Quantity</th>\n",
              "      <th>Asin</th>\n",
              "      <th>Invoice Amount</th>\n",
              "      <th>Item Promo Discount</th>\n",
              "      <th>Date</th>\n",
              "    </tr>\n",
              "  </thead>\n",
              "  <tbody>\n",
              "    <tr>\n",
              "      <th>0</th>\n",
              "      <td>1.0</td>\n",
              "      <td>B07TM3LRVB</td>\n",
              "      <td>1135.00</td>\n",
              "      <td>0.00</td>\n",
              "      <td>2021-02-01</td>\n",
              "    </tr>\n",
              "    <tr>\n",
              "      <th>1</th>\n",
              "      <td>1.0</td>\n",
              "      <td>B07TM3LRVB</td>\n",
              "      <td>1078.25</td>\n",
              "      <td>-56.75</td>\n",
              "      <td>2021-02-04</td>\n",
              "    </tr>\n",
              "    <tr>\n",
              "      <th>2</th>\n",
              "      <td>1.0</td>\n",
              "      <td>B07TM3LRVB</td>\n",
              "      <td>1078.25</td>\n",
              "      <td>-56.75</td>\n",
              "      <td>2021-02-12</td>\n",
              "    </tr>\n",
              "    <tr>\n",
              "      <th>3</th>\n",
              "      <td>1.0</td>\n",
              "      <td>B0849NLNTQ</td>\n",
              "      <td>1599.00</td>\n",
              "      <td>0.00</td>\n",
              "      <td>2021-02-13</td>\n",
              "    </tr>\n",
              "    <tr>\n",
              "      <th>4</th>\n",
              "      <td>1.0</td>\n",
              "      <td>B0849NLNTQ</td>\n",
              "      <td>1519.05</td>\n",
              "      <td>-79.95</td>\n",
              "      <td>2021-02-13</td>\n",
              "    </tr>\n",
              "    <tr>\n",
              "      <th>5</th>\n",
              "      <td>1.0</td>\n",
              "      <td>B07KYFHTGF</td>\n",
              "      <td>1895.25</td>\n",
              "      <td>-99.75</td>\n",
              "      <td>2021-02-14</td>\n",
              "    </tr>\n",
              "    <tr>\n",
              "      <th>6</th>\n",
              "      <td>1.0</td>\n",
              "      <td>B07TM3LRVB</td>\n",
              "      <td>1078.25</td>\n",
              "      <td>-56.75</td>\n",
              "      <td>2021-02-14</td>\n",
              "    </tr>\n",
              "    <tr>\n",
              "      <th>7</th>\n",
              "      <td>1.0</td>\n",
              "      <td>B0849NLNTQ</td>\n",
              "      <td>1599.00</td>\n",
              "      <td>0.00</td>\n",
              "      <td>2021-02-18</td>\n",
              "    </tr>\n",
              "    <tr>\n",
              "      <th>8</th>\n",
              "      <td>1.0</td>\n",
              "      <td>B07TM3LRVB</td>\n",
              "      <td>1078.25</td>\n",
              "      <td>-56.75</td>\n",
              "      <td>2021-02-24</td>\n",
              "    </tr>\n",
              "    <tr>\n",
              "      <th>9</th>\n",
              "      <td>NaN</td>\n",
              "      <td>NaN</td>\n",
              "      <td>NaN</td>\n",
              "      <td>NaN</td>\n",
              "      <td>NaN</td>\n",
              "    </tr>\n",
              "    <tr>\n",
              "      <th>10</th>\n",
              "      <td>NaN</td>\n",
              "      <td>NaN</td>\n",
              "      <td>NaN</td>\n",
              "      <td>NaN</td>\n",
              "      <td>NaN</td>\n",
              "    </tr>\n",
              "  </tbody>\n",
              "</table>\n",
              "</div>"
            ],
            "text/plain": [
              "    Quantity        Asin  Invoice Amount  Item Promo Discount        Date\n",
              "0        1.0  B07TM3LRVB         1135.00                 0.00  2021-02-01\n",
              "1        1.0  B07TM3LRVB         1078.25               -56.75  2021-02-04\n",
              "2        1.0  B07TM3LRVB         1078.25               -56.75  2021-02-12\n",
              "3        1.0  B0849NLNTQ         1599.00                 0.00  2021-02-13\n",
              "4        1.0  B0849NLNTQ         1519.05               -79.95  2021-02-13\n",
              "5        1.0  B07KYFHTGF         1895.25               -99.75  2021-02-14\n",
              "6        1.0  B07TM3LRVB         1078.25               -56.75  2021-02-14\n",
              "7        1.0  B0849NLNTQ         1599.00                 0.00  2021-02-18\n",
              "8        1.0  B07TM3LRVB         1078.25               -56.75  2021-02-24\n",
              "9        NaN         NaN             NaN                  NaN         NaN\n",
              "10       NaN         NaN             NaN                  NaN         NaN"
            ]
          },
          "metadata": {
            "tags": []
          },
          "execution_count": 66
        }
      ]
    },
    {
      "cell_type": "code",
      "metadata": {
        "id": "pA7no7NhXx2J"
      },
      "source": [
        "df.dropna(how='all',inplace=True)"
      ],
      "execution_count": null,
      "outputs": []
    },
    {
      "cell_type": "code",
      "metadata": {
        "id": "YmHQ8JNEX1sy"
      },
      "source": [
        "df_1 = pd.DataFrame(df.groupby(['Date', 'Asin','Invoice Amount','Item Promo Discount'])['Quantity'].sum())"
      ],
      "execution_count": null,
      "outputs": []
    },
    {
      "cell_type": "code",
      "metadata": {
        "id": "26ioqGN_j0vP"
      },
      "source": [
        "df_1['Date'] = pd.to_datetime(df_1['Date'])"
      ],
      "execution_count": null,
      "outputs": []
    },
    {
      "cell_type": "code",
      "metadata": {
        "id": "KKBh7WXfYp5K"
      },
      "source": [
        "df_1 = df_1.reset_index()"
      ],
      "execution_count": null,
      "outputs": []
    },
    {
      "cell_type": "code",
      "metadata": {
        "colab": {
          "base_uri": "https://localhost:8080/",
          "height": 332
        },
        "id": "H1F4uf7TY4XK",
        "outputId": "2e1fcb79-c0b6-45b5-e585-6f567721e280"
      },
      "source": [
        "df_1"
      ],
      "execution_count": null,
      "outputs": [
        {
          "output_type": "execute_result",
          "data": {
            "text/html": [
              "<div>\n",
              "<style scoped>\n",
              "    .dataframe tbody tr th:only-of-type {\n",
              "        vertical-align: middle;\n",
              "    }\n",
              "\n",
              "    .dataframe tbody tr th {\n",
              "        vertical-align: top;\n",
              "    }\n",
              "\n",
              "    .dataframe thead th {\n",
              "        text-align: right;\n",
              "    }\n",
              "</style>\n",
              "<table border=\"1\" class=\"dataframe\">\n",
              "  <thead>\n",
              "    <tr style=\"text-align: right;\">\n",
              "      <th></th>\n",
              "      <th>Date</th>\n",
              "      <th>Asin</th>\n",
              "      <th>Invoice Amount</th>\n",
              "      <th>Item Promo Discount</th>\n",
              "      <th>Quantity</th>\n",
              "    </tr>\n",
              "  </thead>\n",
              "  <tbody>\n",
              "    <tr>\n",
              "      <th>0</th>\n",
              "      <td>2021-02-01</td>\n",
              "      <td>B07TM3LRVB</td>\n",
              "      <td>1135.00</td>\n",
              "      <td>0.00</td>\n",
              "      <td>1.0</td>\n",
              "    </tr>\n",
              "    <tr>\n",
              "      <th>1</th>\n",
              "      <td>2021-02-04</td>\n",
              "      <td>B07TM3LRVB</td>\n",
              "      <td>1078.25</td>\n",
              "      <td>-56.75</td>\n",
              "      <td>1.0</td>\n",
              "    </tr>\n",
              "    <tr>\n",
              "      <th>2</th>\n",
              "      <td>2021-02-12</td>\n",
              "      <td>B07TM3LRVB</td>\n",
              "      <td>1078.25</td>\n",
              "      <td>-56.75</td>\n",
              "      <td>1.0</td>\n",
              "    </tr>\n",
              "    <tr>\n",
              "      <th>3</th>\n",
              "      <td>2021-02-13</td>\n",
              "      <td>B0849NLNTQ</td>\n",
              "      <td>1519.05</td>\n",
              "      <td>-79.95</td>\n",
              "      <td>1.0</td>\n",
              "    </tr>\n",
              "    <tr>\n",
              "      <th>4</th>\n",
              "      <td>2021-02-13</td>\n",
              "      <td>B0849NLNTQ</td>\n",
              "      <td>1599.00</td>\n",
              "      <td>0.00</td>\n",
              "      <td>1.0</td>\n",
              "    </tr>\n",
              "    <tr>\n",
              "      <th>5</th>\n",
              "      <td>2021-02-14</td>\n",
              "      <td>B07KYFHTGF</td>\n",
              "      <td>1895.25</td>\n",
              "      <td>-99.75</td>\n",
              "      <td>1.0</td>\n",
              "    </tr>\n",
              "    <tr>\n",
              "      <th>6</th>\n",
              "      <td>2021-02-14</td>\n",
              "      <td>B07TM3LRVB</td>\n",
              "      <td>1078.25</td>\n",
              "      <td>-56.75</td>\n",
              "      <td>1.0</td>\n",
              "    </tr>\n",
              "    <tr>\n",
              "      <th>7</th>\n",
              "      <td>2021-02-18</td>\n",
              "      <td>B0849NLNTQ</td>\n",
              "      <td>1599.00</td>\n",
              "      <td>0.00</td>\n",
              "      <td>1.0</td>\n",
              "    </tr>\n",
              "    <tr>\n",
              "      <th>8</th>\n",
              "      <td>2021-02-24</td>\n",
              "      <td>B07TM3LRVB</td>\n",
              "      <td>1078.25</td>\n",
              "      <td>-56.75</td>\n",
              "      <td>1.0</td>\n",
              "    </tr>\n",
              "  </tbody>\n",
              "</table>\n",
              "</div>"
            ],
            "text/plain": [
              "         Date        Asin  Invoice Amount  Item Promo Discount  Quantity\n",
              "0  2021-02-01  B07TM3LRVB         1135.00                 0.00       1.0\n",
              "1  2021-02-04  B07TM3LRVB         1078.25               -56.75       1.0\n",
              "2  2021-02-12  B07TM3LRVB         1078.25               -56.75       1.0\n",
              "3  2021-02-13  B0849NLNTQ         1519.05               -79.95       1.0\n",
              "4  2021-02-13  B0849NLNTQ         1599.00                 0.00       1.0\n",
              "5  2021-02-14  B07KYFHTGF         1895.25               -99.75       1.0\n",
              "6  2021-02-14  B07TM3LRVB         1078.25               -56.75       1.0\n",
              "7  2021-02-18  B0849NLNTQ         1599.00                 0.00       1.0\n",
              "8  2021-02-24  B07TM3LRVB         1078.25               -56.75       1.0"
            ]
          },
          "metadata": {
            "tags": []
          },
          "execution_count": 71
        }
      ]
    },
    {
      "cell_type": "code",
      "metadata": {
        "id": "Kbp-2y8ggomg"
      },
      "source": [
        "df_2 = df_1.set_index('Date')"
      ],
      "execution_count": null,
      "outputs": []
    },
    {
      "cell_type": "code",
      "metadata": {
        "colab": {
          "base_uri": "https://localhost:8080/"
        },
        "id": "Yh9oCtytkSe-",
        "outputId": "cdd984d4-0a18-499f-cc16-808382f2db39"
      },
      "source": [
        "df_2.loc['2021-02-12']"
      ],
      "execution_count": null,
      "outputs": [
        {
          "output_type": "execute_result",
          "data": {
            "text/plain": [
              "Asin                   B07TM3LRVB\n",
              "Invoice Amount            1078.25\n",
              "Item Promo Discount        -56.75\n",
              "Quantity                        1\n",
              "Name: 2021-02-12 00:00:00, dtype: object"
            ]
          },
          "metadata": {
            "tags": []
          },
          "execution_count": 105
        }
      ]
    },
    {
      "cell_type": "code",
      "metadata": {
        "colab": {
          "base_uri": "https://localhost:8080/",
          "height": 36
        },
        "id": "KreYsjmyggr5",
        "outputId": "0cfdae2e-7625-4221-d46f-96560510bdb0"
      },
      "source": [
        "df_2.loc['2021-02-12']['Asin']"
      ],
      "execution_count": null,
      "outputs": [
        {
          "output_type": "execute_result",
          "data": {
            "application/vnd.google.colaboratory.intrinsic+json": {
              "type": "string"
            },
            "text/plain": [
              "'B07TM3LRVB'"
            ]
          },
          "metadata": {
            "tags": []
          },
          "execution_count": 106
        }
      ]
    },
    {
      "cell_type": "code",
      "metadata": {
        "id": "LZ8ku7vhlakE"
      },
      "source": [
        ""
      ],
      "execution_count": null,
      "outputs": []
    }
  ]
}