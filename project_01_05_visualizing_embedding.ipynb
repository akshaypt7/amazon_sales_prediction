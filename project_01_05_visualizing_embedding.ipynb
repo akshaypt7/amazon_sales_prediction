{
  "nbformat": 4,
  "nbformat_minor": 0,
  "metadata": {
    "colab": {
      "name": "project_01.05_visualizing_embedding.ipynb",
      "provenance": [],
      "authorship_tag": "ABX9TyNwWz7ThvsqUemNhW6IMtca",
      "include_colab_link": true
    },
    "kernelspec": {
      "name": "python3",
      "display_name": "Python 3"
    },
    "language_info": {
      "name": "python"
    }
  },
  "cells": [
    {
      "cell_type": "markdown",
      "metadata": {
        "id": "view-in-github",
        "colab_type": "text"
      },
      "source": [
        "<a href=\"https://colab.research.google.com/github/akshaypt7/amazon_sales_prediction/blob/main/project_01_05_visualizing_embedding.ipynb\" target=\"_parent\"><img src=\"https://colab.research.google.com/assets/colab-badge.svg\" alt=\"Open In Colab\"/></a>"
      ]
    },
    {
      "cell_type": "code",
      "metadata": {
        "id": "AOf7-glAqKQD",
        "colab": {
          "base_uri": "https://localhost:8080/"
        },
        "outputId": "21480692-6aac-4318-c733-2807d02d898b"
      },
      "source": [
        "!pip install -Uqq fastbook\n",
        "import fastbook\n",
        "fastbook.setup_book()"
      ],
      "execution_count": 2,
      "outputs": [
        {
          "output_type": "stream",
          "text": [
            "\u001b[K     |████████████████████████████████| 720 kB 5.2 MB/s \n",
            "\u001b[K     |████████████████████████████████| 188 kB 17.3 MB/s \n",
            "\u001b[K     |████████████████████████████████| 1.2 MB 19.5 MB/s \n",
            "\u001b[K     |████████████████████████████████| 46 kB 4.1 MB/s \n",
            "\u001b[K     |████████████████████████████████| 54 kB 2.9 MB/s \n",
            "\u001b[K     |████████████████████████████████| 51 kB 281 kB/s \n",
            "\u001b[?25hMounted at /content/gdrive\n"
          ],
          "name": "stdout"
        }
      ]
    },
    {
      "cell_type": "code",
      "metadata": {
        "id": "CMc_wTu9apCs"
      },
      "source": [
        "#hide\n",
        "from fastbook import *\n",
        "# from kaggle import api\n",
        "from pandas.api.types import is_string_dtype, is_numeric_dtype, is_categorical_dtype\n",
        "from fastai.tabular.all import *\n",
        "from sklearn.ensemble import RandomForestRegressor, RandomForestClassifier\n",
        "from sklearn.tree import DecisionTreeRegressor\n",
        "# from dtreeviz.trees import *\n",
        "from IPython.display import Image, display_svg, SVG\n",
        "\n",
        "pd.options.display.max_rows = 20\n",
        "pd.options.display.max_columns = 8"
      ],
      "execution_count": 3,
      "outputs": []
    },
    {
      "cell_type": "code",
      "metadata": {
        "id": "q26gA0_jd4-C"
      },
      "source": [
        "from sklearn.model_selection import ParameterGrid\n",
        "from keras.models import Sequential\n",
        "from keras.models import Model as KerasModel\n",
        "from keras.layers import Input, Dense, Activation, Reshape\n",
        "from keras.layers import Concatenate\n",
        "from keras.layers import Dense, Flatten, Dropout, Input, Embedding, Reshape\n",
        "from keras.layers import concatenate\n",
        "from sklearn.ensemble import RandomForestRegressor\n",
        "from sklearn import linear_model\n",
        "import pickle\n",
        "import csv\n",
        "from datetime import datetime\n",
        "from sklearn import preprocessing\n",
        "from keras.callbacks import ModelCheckpoint\n",
        "import xgboost as xgb\n",
        "from sklearn.preprocessing import OneHotEncoder\n",
        "%matplotlib inline\n",
        "\n",
        "from sklearn.model_selection import train_test_split\n",
        "import math\n",
        "import pandas as pd\n",
        "\n",
        "from sklearn.model_selection import train_test_split\n",
        "from sklearn.preprocessing import OrdinalEncoder"
      ],
      "execution_count": 4,
      "outputs": []
    },
    {
      "cell_type": "markdown",
      "metadata": {
        "id": "p1CeqUoznKkg"
      },
      "source": [
        "What we could do here is visualize the entity embedding, we might not able to gather anything huge, but somethings like Asin_embedding and hour embedding might give us some info. And also this is something I can use somewhere else too.\n"
      ]
    },
    {
      "cell_type": "markdown",
      "metadata": {
        "id": "thTaYABDo3ew"
      },
      "source": [
        "The beauty of embedding is it is so beautiful, some numbers which starts as an assumption or random creates a meaning btw the numbers is awesome, which means it might be able to show relations that maybe we miss. \n",
        "\n",
        "This is definitely that can be beautiful to see how its going to happen, even though I am a bit lacking in clarity on how to proceed with doing this. \n",
        "\n",
        "The reason is whenever I looked at certain codes, everything seems confusing to me. but that is the fun of this from confusion of where to work we focused of visualizing the embeddings, and from there it might be again a confusing road but i think that is okay, rather than trying to visualize lets break down and see what is going to happen. \n",
        "\n",
        "We can put out a theory which can help us on how to proceed.\n",
        "\n",
        "\n",
        "the theory is , we take one embedding like asin_embedding this will have a rows of list of numbers, say 10 columns of list, with as many rows as the number of, but we have given embeddings not the same size of unique asins?, should we give the size of the same , but i didnt observed that anywhere else, but if we have not given the same size, what will they represent, the chance is they would represent, maybe like groups of asin, but then how would you know which asins are which. but i think one of the input we have given is unique asin number, so there would be some data which represents that, and we can use that.\n",
        "\n",
        "\n",
        "\n",
        "Using Diffused thinking, which I should do more often which gives more clarity and a break to our mind, what i found out is two things\n",
        "\n",
        "1) that we will have unqiue number of list(embeddings), each embeddings is a list of numbers and this number of embeddings = number of unique asins. And then we use PCA analysis to understand what it is. exciting news is we will also learn about PCA.\n",
        "\n",
        "2) we can try this embedding in fastai version of the learner, when we create our own module, i think it wont be that confusing, and it is simple(not easy), where we create a class from module, and it that we pass in the embedding details and also at the end, we can get this by calling something like learner.embs etc..\n",
        "\n",
        "\n",
        "\n",
        "\n",
        "\n",
        "about learning diffused\n",
        "\n",
        "\n",
        "\n",
        "\n",
        "\n",
        "\n",
        "\n",
        "\n",
        "One thing we can try later as well is using embeddings of fastai, use the collab chapter one, there there is only two variables, they have considered it both cat variables."
      ]
    },
    {
      "cell_type": "code",
      "metadata": {
        "id": "slbGkR51mymi"
      },
      "source": [
        ""
      ],
      "execution_count": null,
      "outputs": []
    },
    {
      "cell_type": "markdown",
      "metadata": {
        "id": "9DcuzOOw1FpW"
      },
      "source": [
        "#### Lets look at the embeddings in detail and understand its attributes"
      ]
    },
    {
      "cell_type": "code",
      "metadata": {
        "id": "ZBnyq1hJ2nOt"
      },
      "source": [
        ""
      ],
      "execution_count": null,
      "outputs": []
    },
    {
      "cell_type": "code",
      "metadata": {
        "id": "hrSVr08wZYGu"
      },
      "source": [
        "infile = open('/content/gdrive/MyDrive/bluebook/df_main.pkl','rb')\n",
        "df_main = pickle.load(infile)"
      ],
      "execution_count": 21,
      "outputs": []
    },
    {
      "cell_type": "code",
      "metadata": {
        "id": "MIW-uPJ5ahf5"
      },
      "source": [
        "df_main = add_datepart(df_main,'date')"
      ],
      "execution_count": 6,
      "outputs": []
    },
    {
      "cell_type": "code",
      "metadata": {
        "id": "A5dnKBUL2RBl"
      },
      "source": [
        "condition = (df_main.Year < 2020) | (df_main.Month < 8)\n",
        "train_idx = np.where(condition)[0]\n",
        "valid_idx = np.where(~condition)[0]"
      ],
      "execution_count": 7,
      "outputs": []
    },
    {
      "cell_type": "code",
      "metadata": {
        "id": "HM10uhszhO_H"
      },
      "source": [
        "cat = ['Asin',\n",
        " 'Is_month_end',\n",
        " 'Is_month_start',\n",
        " 'Is_quarter_end',\n",
        " 'Is_quarter_start',\n",
        " 'Is_year_end',\n",
        " 'Is_year_start',\n",
        " 'hour','Month','Week', 'Day','Dayofweek','Dayofyear']"
      ],
      "execution_count": 8,
      "outputs": []
    },
    {
      "cell_type": "code",
      "metadata": {
        "id": "XXYHFhuLjIE5"
      },
      "source": [
        "enc = OrdinalEncoder()\n",
        "enc.fit(df_main[cat])\n",
        "df_main[cat]= enc.transform(df_main[cat])"
      ],
      "execution_count": 9,
      "outputs": []
    },
    {
      "cell_type": "code",
      "metadata": {
        "id": "Y7qjx52S284p"
      },
      "source": [
        "X =df_main.drop(['Quantity'],axis=1)"
      ],
      "execution_count": 10,
      "outputs": []
    },
    {
      "cell_type": "code",
      "metadata": {
        "id": "7SuVDLcj1LFJ"
      },
      "source": [
        "saved_embeddings_fname = '/content/gdrive/MyDrive/bluebook/embeddings.pickle'"
      ],
      "execution_count": 11,
      "outputs": []
    },
    {
      "cell_type": "code",
      "metadata": {
        "id": "iyyUwWjg10Al"
      },
      "source": [
        "def embed_features(X, saved_embeddings_fname):\n",
        "    f_embeddings = open(saved_embeddings_fname, \"rb\")\n",
        "    embeddings = pickle.load(f_embeddings)\n",
        "\n",
        "    index_embedding_mapping = {0: 0, 3: 1, 9: 2, 6: 3, 8: 4, 7: 5}\n",
        "    X_embedded = []\n",
        "\n",
        "    (num_records, num_features) = X.shape\n",
        "    for record in X: \n",
        "        embedded_features = []\n",
        "        for i, feat in enumerate(record):\n",
        "            feat = int(feat)\n",
        "            if i not in index_embedding_mapping.keys():\n",
        "                embedded_features += [feat]\n",
        "            else:\n",
        "                embedding_index = index_embedding_mapping[i]\n",
        "                embedded_features += embeddings[embedding_index][feat].tolist()\n",
        "\n",
        "        X_embedded.append(embedded_features)\n",
        "\n",
        "    return np.array(X_embedded)"
      ],
      "execution_count": 12,
      "outputs": []
    },
    {
      "cell_type": "code",
      "metadata": {
        "id": "PjAXe4Fy12oc"
      },
      "source": [
        "X_emb = embed_features(X.values,saved_embeddings_fname)"
      ],
      "execution_count": 13,
      "outputs": []
    },
    {
      "cell_type": "code",
      "metadata": {
        "id": "9WPjwqVvHAbf"
      },
      "source": [
        "X_train = list(itemgetter(*train_idx)(X_emb)) \n",
        "X_valid = list(itemgetter(*valid_idx)(X_emb)) \n",
        "\n",
        "# or we can use list comprehension too for ex, test = [X_emb[i] for i in train_idx ]"
      ],
      "execution_count": 14,
      "outputs": []
    },
    {
      "cell_type": "code",
      "metadata": {
        "id": "YuNywq7-EhEr"
      },
      "source": [
        "\n",
        "y_train = df_main['Quantity'].iloc[train_idx]\n",
        "\n",
        "y_valid = df_main['Quantity'].iloc[valid_idx]"
      ],
      "execution_count": 15,
      "outputs": []
    },
    {
      "cell_type": "code",
      "metadata": {
        "colab": {
          "base_uri": "https://localhost:8080/"
        },
        "id": "4fOJ30j93iMF",
        "outputId": "8b4d5b70-b533-477f-8005-e42715bb341a"
      },
      "source": [
        "X_emb.shape"
      ],
      "execution_count": 16,
      "outputs": [
        {
          "output_type": "execute_result",
          "data": {
            "text/plain": [
              "(10946, 47)"
            ]
          },
          "metadata": {
            "tags": []
          },
          "execution_count": 16
        }
      ]
    },
    {
      "cell_type": "code",
      "metadata": {
        "colab": {
          "base_uri": "https://localhost:8080/"
        },
        "id": "YJxjpd7y31BV",
        "outputId": "dec95276-d8f8-41aa-cadf-6f8f5ade64a1"
      },
      "source": [
        "array(X_train).shape"
      ],
      "execution_count": null,
      "outputs": [
        {
          "output_type": "execute_result",
          "data": {
            "text/plain": [
              "(7517, 47)"
            ]
          },
          "metadata": {
            "tags": []
          },
          "execution_count": 26
        }
      ]
    },
    {
      "cell_type": "code",
      "metadata": {
        "colab": {
          "base_uri": "https://localhost:8080/"
        },
        "id": "lwP_7-H2333R",
        "outputId": "ec4d39f4-6f72-4275-d8a3-695a19dab184"
      },
      "source": [
        "df_main.shape"
      ],
      "execution_count": null,
      "outputs": [
        {
          "output_type": "execute_result",
          "data": {
            "text/plain": [
              "(10946, 19)"
            ]
          },
          "metadata": {
            "tags": []
          },
          "execution_count": 27
        }
      ]
    },
    {
      "cell_type": "code",
      "metadata": {
        "colab": {
          "base_uri": "https://localhost:8080/"
        },
        "id": "ZisNTWrv4ckj",
        "outputId": "1db301dd-6284-4d98-efc3-a16a05725335"
      },
      "source": [
        "47-19"
      ],
      "execution_count": null,
      "outputs": [
        {
          "output_type": "execute_result",
          "data": {
            "text/plain": [
              "28"
            ]
          },
          "metadata": {
            "tags": []
          },
          "execution_count": 28
        }
      ]
    },
    {
      "cell_type": "markdown",
      "metadata": {
        "id": "My5fIcpy7Ewn"
      },
      "source": [
        "The difference in column sizes can be attributed of X_embed and df_main , to the embedding sizes of 6 columns which is 6+4+3+7+5+10 =35, this 35 new columns minus 6 columns of which we applied embedding and 1 column of quanity gives us the extra 28 columns"
      ]
    },
    {
      "cell_type": "code",
      "metadata": {
        "colab": {
          "base_uri": "https://localhost:8080/"
        },
        "id": "-_gD52ZI4eyT",
        "outputId": "708511ed-9f13-4e06-ee83-57d9fb035373"
      },
      "source": [
        "X_emb[0].shape"
      ],
      "execution_count": null,
      "outputs": [
        {
          "output_type": "execute_result",
          "data": {
            "text/plain": [
              "(47,)"
            ]
          },
          "metadata": {
            "tags": []
          },
          "execution_count": 30
        }
      ]
    },
    {
      "cell_type": "code",
      "metadata": {
        "id": "DZfU21Q88XjX"
      },
      "source": [
        "f_embeddings = open(saved_embeddings_fname, \"rb\")\n",
        "embeddings = pickle.load(f_embeddings)"
      ],
      "execution_count": 17,
      "outputs": []
    },
    {
      "cell_type": "code",
      "metadata": {
        "colab": {
          "base_uri": "https://localhost:8080/"
        },
        "id": "dbuK4Ju899qx",
        "outputId": "969e4dba-7f0d-45fd-d201-eae80bde55bd"
      },
      "source": [
        "array(embeddings).shape"
      ],
      "execution_count": null,
      "outputs": [
        {
          "output_type": "stream",
          "text": [
            "/usr/local/lib/python3.7/dist-packages/ipykernel_launcher.py:1: VisibleDeprecationWarning: Creating an ndarray from ragged nested sequences (which is a list-or-tuple of lists-or-tuples-or ndarrays with different lengths or shapes) is deprecated. If you meant to do this, you must specify 'dtype=object' when creating the ndarray\n",
            "  \"\"\"Entry point for launching an IPython kernel.\n"
          ],
          "name": "stderr"
        },
        {
          "output_type": "execute_result",
          "data": {
            "text/plain": [
              "(6,)"
            ]
          },
          "metadata": {
            "tags": []
          },
          "execution_count": 38
        }
      ]
    },
    {
      "cell_type": "code",
      "metadata": {
        "colab": {
          "base_uri": "https://localhost:8080/"
        },
        "id": "nFjNiT1o8iXl",
        "outputId": "a5800164-4835-451f-d976-007cb2146d0c"
      },
      "source": [
        "array(embeddings[0]).shape #Asin"
      ],
      "execution_count": null,
      "outputs": [
        {
          "output_type": "execute_result",
          "data": {
            "text/plain": [
              "(46, 6)"
            ]
          },
          "metadata": {
            "tags": []
          },
          "execution_count": 40
        }
      ]
    },
    {
      "cell_type": "markdown",
      "metadata": {
        "id": "2YDmkC1W9anc"
      },
      "source": [
        "When we look at the saved embeddings what we notice is that, espiecally the shapes of the embedding, there are 6. This 6 are the embeddings we created for the 6 categories.\n",
        "\n",
        "When we look inside each of the 6 embedding what we can see is that, each embedding has the shape specified by us in the begining, for example, unique Asins and the number of ouput we specified. \n",
        "\n",
        "Now what happened in the function above is that we replace for example asin one, with the values in the embedding[0] (which is asin) and within that the asin one, will be a list of numbers of size we defined earlier. In the asin case it is 46."
      ]
    },
    {
      "cell_type": "code",
      "metadata": {
        "colab": {
          "base_uri": "https://localhost:8080/"
        },
        "id": "_mkmFctf8lxZ",
        "outputId": "e2055660-285f-48b4-db45-979d99bed767"
      },
      "source": [
        "embeddings[0][0] # for example this is the list we can use to replace the asin one"
      ],
      "execution_count": null,
      "outputs": [
        {
          "output_type": "execute_result",
          "data": {
            "text/plain": [
              "array([ 0.01826725,  0.03898218, -0.01056361,  0.02101258, -0.0374638 , -0.04034017], dtype=float32)"
            ]
          },
          "metadata": {
            "tags": []
          },
          "execution_count": 41
        }
      ]
    },
    {
      "cell_type": "markdown",
      "metadata": {
        "id": "g_Y_PVP9EwHv"
      },
      "source": [
        "In papers code they have given github links for projects they have used entity embeddings, this is one such project, which we can refer to create viz for embeddings.-https://github.com/entron/entity-embedding-rossmann/blob/master/plot_embeddings.ipynb"
      ]
    },
    {
      "cell_type": "markdown",
      "metadata": {
        "id": "7Fk8UQeLAurP"
      },
      "source": [
        "#### Entity Embedding Visualization"
      ]
    },
    {
      "cell_type": "code",
      "metadata": {
        "id": "C52TIuFF8yev",
        "colab": {
          "base_uri": "https://localhost:8080/"
        },
        "outputId": "199bef49-ed7d-456e-a6a6-13b11c265745"
      },
      "source": [
        "embeddings[0].shape # For asin"
      ],
      "execution_count": 19,
      "outputs": [
        {
          "output_type": "execute_result",
          "data": {
            "text/plain": [
              "(46, 6)"
            ]
          },
          "metadata": {
            "tags": []
          },
          "execution_count": 19
        }
      ]
    },
    {
      "cell_type": "markdown",
      "metadata": {
        "id": "XvAYPT7hCUhk"
      },
      "source": [
        "We need to know the order in which the embeddings are created, because we have 46 asins and 46 embeddings for these asins, assuming that embeddings are in the same order as that for unique we are proceeding. We will come back to this later."
      ]
    },
    {
      "cell_type": "code",
      "metadata": {
        "colab": {
          "base_uri": "https://localhost:8080/"
        },
        "id": "EDaKjEnuA48S",
        "outputId": "3c6cb067-5ff3-4e8c-fbcc-3bdeaa29c466"
      },
      "source": [
        "df_main['Asin'].unique()"
      ],
      "execution_count": 20,
      "outputs": [
        {
          "output_type": "execute_result",
          "data": {
            "text/plain": [
              "array([ 1.,  7., 27., 21., 22., 23.,  6., 24., 25., 26., 28.,  8.,  3., 14.,  5., 11., 13., 30., 32., 33., 29., 31., 38., 17., 19., 35., 34., 37., 36., 18., 20., 39., 42., 40., 43., 44., 41., 45.,\n",
              "        4.,  2., 15., 16.,  9., 10.,  0., 12.])"
            ]
          },
          "metadata": {
            "tags": []
          },
          "execution_count": 20
        }
      ]
    },
    {
      "cell_type": "code",
      "metadata": {
        "colab": {
          "base_uri": "https://localhost:8080/"
        },
        "id": "uXHPgyjnBbg6",
        "outputId": "2aed106b-4038-4666-860b-9e4fcec40a01"
      },
      "source": [
        "df_main['Asin'].unique()"
      ],
      "execution_count": 25,
      "outputs": [
        {
          "output_type": "execute_result",
          "data": {
            "text/plain": [
              "array(['B07KYFHTGF', 'B07TM3LRVB', 'B08976V1BZ', 'B08332221J', 'B0849NLNTQ', 'B084JJWJ31', 'B07TJ1HDTM', 'B0858X26QM', 'B0859193NJ', 'B0859B5J8T', 'B0897LPBHR', 'B07W1YYQ9G', 'B07MK32L49',\n",
              "       'B07ZBCTB9N', 'B07S8NC532', 'B07YC69QKT', 'B07Z7QX6ST', 'B08Y6L3QDG', 'B08Y6N8ZSJ', 'B08Y6PGH7S', 'B08Y6K9FCX', 'B08Y6L69M2', 'B08ZDFSC56', 'B07ZVX96TY', 'B07ZVYKYNZ', 'B08ZDC735Z',\n",
              "       'B08ZCP8DBS', 'B08ZDDJLMB', 'B08ZDCSBC9', 'B07ZVXZNVD', 'B081S1V3MQ', 'B0957WJB9N', 'B096K5FMKQ', 'B096FHQXT5', 'B096K61TPQ', 'B0972MS2X7', 'B096FJ31NK', 'B097BRX6ZY', 'B07MQT276Q',\n",
              "       'B07MGH1T39', 'B07ZQKDR9F', 'B07ZRBV7NW', 'B07X543RP7', 'B07Y237BXQ', 'B00S0PEI64', 'B07YQ3PV5H'], dtype=object)"
            ]
          },
          "metadata": {
            "tags": []
          },
          "execution_count": 25
        }
      ]
    },
    {
      "cell_type": "code",
      "metadata": {
        "id": "5GCZVs-tD9rF"
      },
      "source": [
        "import pickle\n",
        "from sklearn import manifold\n",
        "import matplotlib.pyplot as plt\n",
        "import numpy as np\n",
        "%matplotlib inline"
      ],
      "execution_count": 26,
      "outputs": []
    },
    {
      "cell_type": "code",
      "metadata": {
        "id": "rXXNPXabB_W7"
      },
      "source": [
        "Asin_names = df_main['Asin'].unique()"
      ],
      "execution_count": 23,
      "outputs": []
    },
    {
      "cell_type": "code",
      "metadata": {
        "id": "0HzMLiiEEDyR"
      },
      "source": [
        "asin_embedding = embeddings[0]"
      ],
      "execution_count": 27,
      "outputs": []
    },
    {
      "cell_type": "code",
      "metadata": {
        "colab": {
          "base_uri": "https://localhost:8080/",
          "height": 863
        },
        "id": "2Irk55g7CPG7",
        "outputId": "03f78307-6d94-4e6c-8b87-87f38a400f8e"
      },
      "source": [
        "\n",
        "\n",
        "tsne = manifold.TSNE(init='pca', random_state=0, method='exact', perplexity=5, learning_rate=100)\n",
        "Y = tsne.fit_transform(asin_embedding)\n",
        "plt.figure(figsize=(15,15))\n",
        "plt.scatter(-Y[:, 0], -Y[:, 1])\n",
        "for i, txt in enumerate(Asin_names):\n",
        "    plt.annotate(txt, (-Y[i, 0],-Y[i, 1]), xytext = (-20, 8), textcoords = 'offset points')\n",
        "plt.savefig('asin_embedding.pdf')\n",
        "\n"
      ],
      "execution_count": 29,
      "outputs": [
        {
          "output_type": "display_data",
          "data": {
            "image/png": "[encoded data removed]",
            "text/plain": [
              "<Figure size 1080x1080 with 1 Axes>"
            ]
          },
          "metadata": {
            "tags": [],
            "needs_background": "light"
          }
        }
      ]
    },
    {
      "cell_type": "code",
      "metadata": {
        "colab": {
          "base_uri": "https://localhost:8080/"
        },
        "id": "Rs91fwXpEhCi",
        "outputId": "040420da-da13-48f5-be15-b45b4d14a2eb"
      },
      "source": [
        "df_main['Asin'].unique()"
      ],
      "execution_count": 30,
      "outputs": [
        {
          "output_type": "execute_result",
          "data": {
            "text/plain": [
              "array(['B07KYFHTGF', 'B07TM3LRVB', 'B08976V1BZ', 'B08332221J', 'B0849NLNTQ', 'B084JJWJ31', 'B07TJ1HDTM', 'B0858X26QM', 'B0859193NJ', 'B0859B5J8T', 'B0897LPBHR', 'B07W1YYQ9G', 'B07MK32L49',\n",
              "       'B07ZBCTB9N', 'B07S8NC532', 'B07YC69QKT', 'B07Z7QX6ST', 'B08Y6L3QDG', 'B08Y6N8ZSJ', 'B08Y6PGH7S', 'B08Y6K9FCX', 'B08Y6L69M2', 'B08ZDFSC56', 'B07ZVX96TY', 'B07ZVYKYNZ', 'B08ZDC735Z',\n",
              "       'B08ZCP8DBS', 'B08ZDDJLMB', 'B08ZDCSBC9', 'B07ZVXZNVD', 'B081S1V3MQ', 'B0957WJB9N', 'B096K5FMKQ', 'B096FHQXT5', 'B096K61TPQ', 'B0972MS2X7', 'B096FJ31NK', 'B097BRX6ZY', 'B07MQT276Q',\n",
              "       'B07MGH1T39', 'B07ZQKDR9F', 'B07ZRBV7NW', 'B07X543RP7', 'B07Y237BXQ', 'B00S0PEI64', 'B07YQ3PV5H'], dtype=object)"
            ]
          },
          "metadata": {
            "tags": []
          },
          "execution_count": 30
        }
      ]
    },
    {
      "cell_type": "code",
      "metadata": {
        "id": "23PPFrM9Es9a"
      },
      "source": [
        "B08332221J - Shower head filter\n",
        "B08ZDFSC56 - Nemora Dec light-05\n",
        "B07ZVX96TY - Wooden frame"
      ],
      "execution_count": null,
      "outputs": []
    },
    {
      "cell_type": "markdown",
      "metadata": {
        "id": "0z7HPgnCFnah"
      },
      "source": [
        "B0897LPBHR - 10STAGE\n",
        "B08ZDC735Z - Wooden light"
      ]
    },
    {
      "cell_type": "markdown",
      "metadata": {
        "id": "_EW_rvuSGUmv"
      },
      "source": [
        "#### Hour"
      ]
    },
    {
      "cell_type": "code",
      "metadata": {
        "colab": {
          "base_uri": "https://localhost:8080/"
        },
        "id": "2wHh4wKIGUDE",
        "outputId": "4630d5d2-45bd-4342-a51e-3272960b76c1"
      },
      "source": [
        "hours = df_main['hour'].unique()\n",
        "hours"
      ],
      "execution_count": 33,
      "outputs": [
        {
          "output_type": "execute_result",
          "data": {
            "text/plain": [
              "array([12., 20., 22., 10.,  0., 17., 13., 14., 16., 18., 11., 21.,  9.,  7.,  2., 15., 23., 19.,  8.,  3.,  6.,  1.,  4.,  5.])"
            ]
          },
          "metadata": {
            "tags": []
          },
          "execution_count": 33
        }
      ]
    },
    {
      "cell_type": "code",
      "metadata": {
        "id": "_8o0zNbtGT9v"
      },
      "source": [
        "hour_embedding = embeddings[1]"
      ],
      "execution_count": 36,
      "outputs": []
    },
    {
      "cell_type": "code",
      "metadata": {
        "colab": {
          "base_uri": "https://localhost:8080/",
          "height": 863
        },
        "id": "fHTPPnd1GZsZ",
        "outputId": "1ae2f9d4-a30b-4d6e-c204-335117df6b8b"
      },
      "source": [
        "\n",
        "\n",
        "tsne = manifold.TSNE(init='pca', random_state=0, method='exact', perplexity=5, learning_rate=100)\n",
        "Y = tsne.fit_transform(hour_embedding)\n",
        "plt.figure(figsize=(15,15))\n",
        "plt.scatter(-Y[:, 0], -Y[:, 1])\n",
        "for i, txt in enumerate(hours):\n",
        "    plt.annotate(txt, (-Y[i, 0],-Y[i, 1]), xytext = (-20, 8), textcoords = 'offset points')\n",
        "plt.savefig('hours.pdf')\n",
        "\n"
      ],
      "execution_count": 37,
      "outputs": [
        {
          "output_type": "display_data",
          "data": {
            "image/png": "[encoded data removed]",
            "text/plain": [
              "<Figure size 1080x1080 with 1 Axes>"
            ]
          },
          "metadata": {
            "tags": [],
            "needs_background": "light"
          }
        }
      ]
    },
    {
      "cell_type": "code",
      "metadata": {
        "id": "Y41WsivpG55x"
      },
      "source": [
        ""
      ],
      "execution_count": null,
      "outputs": []
    }
  ]
}