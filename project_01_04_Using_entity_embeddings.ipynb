{
  "nbformat": 4,
  "nbformat_minor": 0,
  "metadata": {
    "colab": {
      "name": "project_01.04_Using_entity_embeddings.ipynb",
      "provenance": [],
      "mount_file_id": "1owKHQAQBZnfWiLo2oEu7kkdxcjlHNd39",
      "authorship_tag": "ABX9TyOOAFZyiiwog6RmkAp9aB2a",
      "include_colab_link": true
    },
    "kernelspec": {
      "name": "python3",
      "display_name": "Python 3"
    },
    "language_info": {
      "name": "python"
    }
  },
  "cells": [
    {
      "cell_type": "markdown",
      "metadata": {
        "id": "view-in-github",
        "colab_type": "text"
      },
      "source": [
        "<a href=\"https://colab.research.google.com/github/akshaypt7/amazon_sales_prediction/blob/main/project_01_04_Using_entity_embeddings.ipynb\" target=\"_parent\"><img src=\"https://colab.research.google.com/assets/colab-badge.svg\" alt=\"Open In Colab\"/></a>"
      ]
    },
    {
      "cell_type": "code",
      "metadata": {
        "id": "AOf7-glAqKQD",
        "colab": {
          "base_uri": "https://localhost:8080/"
        },
        "outputId": "37375d9f-0203-4c21-d07e-add33ea3be61"
      },
      "source": [
        "!pip install -Uqq fastbook\n",
        "import fastbook\n",
        "fastbook.setup_book()"
      ],
      "execution_count": null,
      "outputs": [
        {
          "output_type": "stream",
          "text": [
            "\u001b[K     |████████████████████████████████| 720 kB 4.9 MB/s \n",
            "\u001b[K     |████████████████████████████████| 46 kB 3.4 MB/s \n",
            "\u001b[K     |████████████████████████████████| 1.2 MB 39.0 MB/s \n",
            "\u001b[K     |████████████████████████████████| 188 kB 54.2 MB/s \n",
            "\u001b[K     |████████████████████████████████| 54 kB 2.3 MB/s \n",
            "\u001b[K     |████████████████████████████████| 51 kB 268 kB/s \n",
            "\u001b[?25hMounted at /content/gdrive\n"
          ],
          "name": "stdout"
        }
      ]
    },
    {
      "cell_type": "code",
      "metadata": {
        "id": "CMc_wTu9apCs"
      },
      "source": [
        "#hide\n",
        "from fastbook import *\n",
        "# from kaggle import api\n",
        "from pandas.api.types import is_string_dtype, is_numeric_dtype, is_categorical_dtype\n",
        "from fastai.tabular.all import *\n",
        "from sklearn.ensemble import RandomForestRegressor, RandomForestClassifier\n",
        "from sklearn.tree import DecisionTreeRegressor\n",
        "# from dtreeviz.trees import *\n",
        "from IPython.display import Image, display_svg, SVG\n",
        "\n",
        "pd.options.display.max_rows = 20\n",
        "pd.options.display.max_columns = 8"
      ],
      "execution_count": null,
      "outputs": []
    },
    {
      "cell_type": "code",
      "metadata": {
        "id": "q26gA0_jd4-C"
      },
      "source": [
        "from sklearn.model_selection import ParameterGrid\n",
        "from keras.models import Sequential\n",
        "from keras.models import Model as KerasModel\n",
        "from keras.layers import Input, Dense, Activation, Reshape\n",
        "from keras.layers import Concatenate\n",
        "from keras.layers import Dense, Flatten, Dropout, Input, Embedding, Reshape\n",
        "from keras.layers import concatenate\n",
        "from sklearn.ensemble import RandomForestRegressor\n",
        "from sklearn import linear_model\n",
        "import pickle\n",
        "import csv\n",
        "from datetime import datetime\n",
        "from sklearn import preprocessing\n",
        "from keras.callbacks import ModelCheckpoint\n",
        "import xgboost as xgb\n",
        "from sklearn.preprocessing import OneHotEncoder\n",
        "%matplotlib inline\n",
        "\n",
        "from sklearn.model_selection import train_test_split\n",
        "import math\n",
        "import pandas as pd"
      ],
      "execution_count": null,
      "outputs": []
    },
    {
      "cell_type": "code",
      "metadata": {
        "id": "hrSVr08wZYGu"
      },
      "source": [
        "infile = open('/content/gdrive/MyDrive/bluebook/df_main.pkl','rb')\n",
        "df_main = pickle.load(infile)"
      ],
      "execution_count": null,
      "outputs": []
    },
    {
      "cell_type": "code",
      "metadata": {
        "id": "MIW-uPJ5ahf5"
      },
      "source": [
        "df_main = add_datepart(df_main,'date')"
      ],
      "execution_count": null,
      "outputs": []
    },
    {
      "cell_type": "code",
      "metadata": {
        "id": "HM10uhszhO_H"
      },
      "source": [
        "cat = ['Asin',\n",
        " 'Is_month_end',\n",
        " 'Is_month_start',\n",
        " 'Is_quarter_end',\n",
        " 'Is_quarter_start',\n",
        " 'Is_year_end',\n",
        " 'Is_year_start',\n",
        " 'hour','Month','Week', 'Day','Dayofweek','Dayofyear']"
      ],
      "execution_count": null,
      "outputs": []
    },
    {
      "cell_type": "code",
      "metadata": {
        "id": "PLVFHWR1g0S9"
      },
      "source": [
        "from sklearn.model_selection import train_test_split\n",
        "from sklearn.preprocessing import OrdinalEncoder"
      ],
      "execution_count": null,
      "outputs": []
    },
    {
      "cell_type": "code",
      "metadata": {
        "id": "XXYHFhuLjIE5"
      },
      "source": [
        "enc = OrdinalEncoder()\n",
        "enc.fit(df_main[cat])\n",
        "df_main[cat]= enc.transform(df_main[cat])"
      ],
      "execution_count": null,
      "outputs": []
    },
    {
      "cell_type": "code",
      "metadata": {
        "id": "A5dnKBUL2RBl"
      },
      "source": [
        "condition = (df_main.Year < 2020) | (df_main.Month < 8)\n",
        "train_idx = np.where(condition)[0]\n",
        "valid_idx = np.where(~condition)[0]"
      ],
      "execution_count": null,
      "outputs": []
    },
    {
      "cell_type": "code",
      "metadata": {
        "id": "3xBYrnvNErMh"
      },
      "source": [
        "X =df_main.drop(['Quantity'],axis=1)"
      ],
      "execution_count": null,
      "outputs": []
    },
    {
      "cell_type": "code",
      "metadata": {
        "id": "J3lBx8b-2X_h"
      },
      "source": [
        "# X_train = df_main.drop(['Quantity'],axis=1).iloc[train_idx]\n",
        "# y_train = df_main['Quantity'].iloc[train_idx]\n",
        "\n",
        "# X_valid = df_main.drop(['Quantity'],axis=1).iloc[valid_idx]\n",
        "# y_valid = df_main['Quantity'].iloc[valid_idx]"
      ],
      "execution_count": null,
      "outputs": []
    },
    {
      "cell_type": "code",
      "metadata": {
        "id": "2mHj7Ux0Culm"
      },
      "source": [
        "saved_embeddings_fname = '/content/gdrive/MyDrive/bluebook/embeddings.pickle'"
      ],
      "execution_count": null,
      "outputs": []
    },
    {
      "cell_type": "code",
      "metadata": {
        "colab": {
          "base_uri": "https://localhost:8080/"
        },
        "id": "16REwiIfVypk",
        "outputId": "e28c0d88-bb3f-4a5c-c1c3-70c681fb1eef"
      },
      "source": [
        "X.columns"
      ],
      "execution_count": null,
      "outputs": [
        {
          "output_type": "execute_result",
          "data": {
            "text/plain": [
              "Index(['Asin', 'Item Promo Discount', 'price', 'hour', 'Invoice Amount',\n",
              "       'Year', 'Month', 'Week', 'Day', 'Dayofweek', 'Dayofyear',\n",
              "       'Is_month_end', 'Is_month_start', 'Is_quarter_end', 'Is_quarter_start',\n",
              "       'Is_year_end', 'Is_year_start', 'Elapsed'],\n",
              "      dtype='object')"
            ]
          },
          "metadata": {
            "tags": []
          },
          "execution_count": 14
        }
      ]
    },
    {
      "cell_type": "markdown",
      "metadata": {
        "id": "t4mG2r57WPs8"
      },
      "source": [
        "##### Explaining the function.\n",
        "\n",
        "\n",
        "\n",
        "In the below function, the index_embedding_mapping is used to replace the categorical columns of X, using the embedding we created earlier. \n",
        "\n",
        "Now the mapping will change (that is the content in the dictionary) we have to compare that with the order in the embeddings we created. \n",
        "\n",
        "Which is [input_asin, input_hour, input_dayofweek, input_month, input_day, input_week ]\n",
        "\n",
        "Now the keys of the dictionary should be the position of the embedding in the X.\n",
        "For example the 2nd item in the dictionary is Hour, so we have to see which position is hour in X, and that position will be the key.\n",
        "\n",
        "Like this we replace the categorical values for all categorical variables, and the continous columns are left unchanged.\n",
        "\n",
        "Once we create the index_embedding_mapping, we next do a for loop, here you have to note, this X is not a dataframe, we are passing X.values into the function.\n",
        "\n",
        "so each record in a row, now the second for loop comes which again helps us to go deeper, here i is the index of the column and feat is the values of each column index. \n",
        "\n",
        "Now if the index, i is in the index_embedding_mapping.keys we replace the entire value with the value of embedding if not we make it unchanged."
      ]
    },
    {
      "cell_type": "code",
      "metadata": {
        "id": "llLf5Q39Ckk7"
      },
      "source": [
        "def embed_features(X, saved_embeddings_fname):\n",
        "    f_embeddings = open(saved_embeddings_fname, \"rb\")\n",
        "    embeddings = pickle.load(f_embeddings)\n",
        "\n",
        "    index_embedding_mapping = {0: 0, 3: 1, 9: 2, 6: 3, 8: 4, 7: 5}\n",
        "    X_embedded = []\n",
        "\n",
        "    (num_records, num_features) = X.shape\n",
        "    for record in X: \n",
        "        embedded_features = []\n",
        "        for i, feat in enumerate(record):\n",
        "            feat = int(feat)\n",
        "            if i not in index_embedding_mapping.keys():\n",
        "                embedded_features += [feat]\n",
        "            else:\n",
        "                embedding_index = index_embedding_mapping[i]\n",
        "                embedded_features += embeddings[embedding_index][feat].tolist()\n",
        "\n",
        "        X_embedded.append(embedded_features)\n",
        "\n",
        "    return np.array(X_embedded)"
      ],
      "execution_count": null,
      "outputs": []
    },
    {
      "cell_type": "code",
      "metadata": {
        "id": "2eeSEWujEdvm"
      },
      "source": [
        "X_emb = embed_features(X.values,saved_embeddings_fname)"
      ],
      "execution_count": null,
      "outputs": []
    },
    {
      "cell_type": "markdown",
      "metadata": {
        "id": "t0cjIk_RHMfk"
      },
      "source": [
        "This works - result_list = list(itemgetter(*index_list)(test_list)) , we need to make X_train and y_train in the form of list"
      ]
    },
    {
      "cell_type": "code",
      "metadata": {
        "id": "9WPjwqVvHAbf"
      },
      "source": [
        "X_train = list(itemgetter(*train_idx)(X_emb)) \n",
        "X_valid = list(itemgetter(*valid_idx)(X_emb)) \n",
        "\n",
        "# or we can use list comprehension too for ex, test = [X_emb[i] for i in train_idx ]"
      ],
      "execution_count": null,
      "outputs": []
    },
    {
      "cell_type": "code",
      "metadata": {
        "colab": {
          "base_uri": "https://localhost:8080/"
        },
        "id": "AcvMNtpN4GbT",
        "outputId": "18433900-3302-459c-8766-ef31f727b97d"
      },
      "source": [
        "tensor(X_train).shape"
      ],
      "execution_count": null,
      "outputs": [
        {
          "output_type": "execute_result",
          "data": {
            "text/plain": [
              "torch.Size([8423, 47])"
            ]
          },
          "metadata": {
            "tags": []
          },
          "execution_count": 72
        }
      ]
    },
    {
      "cell_type": "code",
      "metadata": {
        "id": "YuNywq7-EhEr"
      },
      "source": [
        "\n",
        "y_train = df_main['Quantity'].iloc[train_idx]\n",
        "\n",
        "y_valid = df_main['Quantity'].iloc[valid_idx]"
      ],
      "execution_count": null,
      "outputs": []
    },
    {
      "cell_type": "markdown",
      "metadata": {
        "id": "al9iWyAEPzZI"
      },
      "source": [
        "Note : We have created the train and test set from the X_embeddings. since X_embeddings is a list we use either list comprehension or list(itemgetter)"
      ]
    },
    {
      "cell_type": "markdown",
      "metadata": {
        "id": "BLGiPhR5G3_D"
      },
      "source": [
        "refer - https://stackoverflow.com/questions/25431850/passing-a-list-of-indices-to-another-list-in-python-correct-syntax"
      ]
    },
    {
      "cell_type": "markdown",
      "metadata": {
        "id": "1hs_HQsbRhfQ"
      },
      "source": [
        "### Add the embeddings into the Models and check their MAE"
      ]
    },
    {
      "cell_type": "code",
      "metadata": {
        "id": "_1dzX6JkG3aT"
      },
      "source": [
        "from sklearn.metrics import mean_absolute_error as mae"
      ],
      "execution_count": null,
      "outputs": []
    },
    {
      "cell_type": "code",
      "metadata": {
        "id": "DCxcIIWUTqmO"
      },
      "source": [
        "# This functions helps to convert the value into integ\n",
        "def pred(y_pred,thres= 0.5):\n",
        "  new_pred = np.where((y_pred-int(y_pred)) < thres,int(y_pred), int(y_pred)+1)\n",
        "  return new_pred"
      ],
      "execution_count": null,
      "outputs": []
    },
    {
      "cell_type": "code",
      "metadata": {
        "id": "orVRyOsdTsyw"
      },
      "source": [
        "new_pred = np.vectorize(pred) # So that the function will accept list of integers."
      ],
      "execution_count": null,
      "outputs": []
    },
    {
      "cell_type": "markdown",
      "metadata": {
        "id": "ivrrmLqVTgqf"
      },
      "source": [
        "#### Model 1- Random Forest"
      ]
    },
    {
      "cell_type": "code",
      "metadata": {
        "id": "gko2d5UDTwnl"
      },
      "source": [
        "def rf(xs, y, n_estimators=40,\n",
        "       max_features=0.5, min_samples_leaf=5, **kwargs):\n",
        "    return RandomForestRegressor(n_jobs=-1, n_estimators=n_estimators,\n",
        "         max_features=max_features,\n",
        "        min_samples_leaf=min_samples_leaf, oob_score=True).fit(xs, y)"
      ],
      "execution_count": null,
      "outputs": []
    },
    {
      "cell_type": "code",
      "metadata": {
        "id": "9w22-0BsFcHf"
      },
      "source": [
        "rf =rf(X_train,y_train)"
      ],
      "execution_count": null,
      "outputs": []
    },
    {
      "cell_type": "code",
      "metadata": {
        "colab": {
          "base_uri": "https://localhost:8080/"
        },
        "id": "0HzfOAWuT5AD",
        "outputId": "d671f31a-724a-44df-f747-423e4df24f7f"
      },
      "source": [
        "mae(y_valid,rf.predict(X_valid))"
      ],
      "execution_count": null,
      "outputs": [
        {
          "output_type": "execute_result",
          "data": {
            "text/plain": [
              "0.02120989401593102"
            ]
          },
          "metadata": {
            "tags": []
          },
          "execution_count": 36
        }
      ]
    },
    {
      "cell_type": "markdown",
      "metadata": {
        "id": "ZOTyw4luhFdj"
      },
      "source": [
        "**Our model with Embedding performed better than the model without it.**\n",
        "\n",
        "Random Forest with Embedding = 0.0212\n",
        "Random Forest without Embedding = 0.280"
      ]
    },
    {
      "cell_type": "code",
      "metadata": {
        "colab": {
          "base_uri": "https://localhost:8080/"
        },
        "id": "vcstu2WsUAFX",
        "outputId": "c1d496aa-a6fb-4457-8c55-a53d23c04bb8"
      },
      "source": [
        "mae(y_valid,(new_pred(rf.predict(X_valid),0.42))) # predicting the accuracy by changing the threshold\n",
        "\n"
      ],
      "execution_count": null,
      "outputs": [
        {
          "output_type": "execute_result",
          "data": {
            "text/plain": [
              "0.004359889021006738"
            ]
          },
          "metadata": {
            "tags": []
          },
          "execution_count": 38
        }
      ]
    },
    {
      "cell_type": "markdown",
      "metadata": {
        "id": "RCQ5xHHWfGhM"
      },
      "source": [
        "**Our Model using Embeddings performed better than the previous models**"
      ]
    },
    {
      "cell_type": "code",
      "metadata": {
        "colab": {
          "base_uri": "https://localhost:8080/"
        },
        "id": "NuBObhtbUS6f",
        "outputId": "92d00dc7-97d9-4ad2-8e05-b8154e3d209e"
      },
      "source": [
        "X_emb.shape"
      ],
      "execution_count": null,
      "outputs": [
        {
          "output_type": "execute_result",
          "data": {
            "text/plain": [
              "(10946, 47)"
            ]
          },
          "metadata": {
            "tags": []
          },
          "execution_count": 50
        }
      ]
    },
    {
      "cell_type": "code",
      "metadata": {
        "colab": {
          "base_uri": "https://localhost:8080/"
        },
        "id": "BGflv-1efwlA",
        "outputId": "af0b8826-b9ca-4277-833b-0e6214e0741c"
      },
      "source": [
        "df_main.shape"
      ],
      "execution_count": null,
      "outputs": [
        {
          "output_type": "execute_result",
          "data": {
            "text/plain": [
              "(10946, 19)"
            ]
          },
          "metadata": {
            "tags": []
          },
          "execution_count": 51
        }
      ]
    },
    {
      "cell_type": "code",
      "metadata": {
        "id": "seYaczHHgCuN"
      },
      "source": [
        "f_embeddings = open(saved_embeddings_fname, \"rb\")\n",
        "embeddings = pickle.load(f_embeddings)"
      ],
      "execution_count": null,
      "outputs": []
    },
    {
      "cell_type": "code",
      "metadata": {
        "id": "lDQYkNf_p9UO"
      },
      "source": [
        "class TabDataset():\n",
        "    \"A `NumPy` dataset from a `TabularPandas` object\"\n",
        "    def __init__(self, to):\n",
        "        self.cats = to.cats.to_numpy().astype(np.long)\n",
        "        self.conts = to.conts.to_numpy().astype(np.float32)\n",
        "        self.ys = to.ys.to_numpy()\n",
        "\n",
        "    def __getitem__(self, idx):\n",
        "        idx = idx[0]\n",
        "        return self.cats[idx:idx+self.bs], self.conts[idx:idx+self.bs], self.ys[idx:idx+self.bs]\n",
        "\n",
        "    def __len__(self): return len(self.cats)"
      ],
      "execution_count": null,
      "outputs": []
    },
    {
      "cell_type": "code",
      "metadata": {
        "id": "-7ws0xdhxG4u"
      },
      "source": [
        "train_dl = DataLoader(X_train, bs=128, shuffle=False)\n",
        "valid_dl = DataLoader(X_valid, bs=128, shuffle=False)"
      ],
      "execution_count": null,
      "outputs": []
    },
    {
      "cell_type": "code",
      "metadata": {
        "id": "gZ2jAe5-xG19"
      },
      "source": [
        "dls = DataLoaders(train_dl, valid_dl, device='cpu')"
      ],
      "execution_count": null,
      "outputs": []
    },
    {
      "cell_type": "code",
      "metadata": {
        "id": "tTTHSWMxxGy_"
      },
      "source": [
        ""
      ],
      "execution_count": null,
      "outputs": []
    },
    {
      "cell_type": "code",
      "metadata": {
        "id": "xXJ69EZUxGwd"
      },
      "source": [
        ""
      ],
      "execution_count": null,
      "outputs": []
    },
    {
      "cell_type": "code",
      "metadata": {
        "id": "qx0EPXLPmq6R",
        "colab": {
          "base_uri": "https://localhost:8080/",
          "height": 185
        },
        "outputId": "196e69f8-e9ce-4300-8868-0cee9492a278"
      },
      "source": [
        "learn = Learner(dls, layers=[500,250],\n",
        "                        n_out=1, loss_func=F.mse_loss, metrics= torch.nn.L1Loss)"
      ],
      "execution_count": null,
      "outputs": [
        {
          "output_type": "error",
          "ename": "TypeError",
          "evalue": "ignored",
          "traceback": [
            "\u001b[0;31m---------------------------------------------------------------------------\u001b[0m",
            "\u001b[0;31mTypeError\u001b[0m                                 Traceback (most recent call last)",
            "\u001b[0;32m<ipython-input-79-f76b46ff0086>\u001b[0m in \u001b[0;36m<module>\u001b[0;34m()\u001b[0m\n\u001b[1;32m      1\u001b[0m learn = Learner(dls, layers=[500,250],\n\u001b[0;32m----> 2\u001b[0;31m                         n_out=1, loss_func=F.mse_loss, metrics= torch.nn.L1Loss)\n\u001b[0m",
            "\u001b[0;31mTypeError\u001b[0m: __init__() got an unexpected keyword argument 'layers'"
          ]
        }
      ]
    },
    {
      "cell_type": "code",
      "metadata": {
        "colab": {
          "base_uri": "https://localhost:8080/",
          "height": 301
        },
        "id": "Qc8wzXOIm0Pf",
        "outputId": "fa80098d-83f6-49d2-b1bc-6978222e65b7"
      },
      "source": [
        "learn.lr_find()"
      ],
      "execution_count": null,
      "outputs": [
        {
          "output_type": "display_data",
          "data": {
            "text/html": [
              ""
            ],
            "text/plain": [
              "<IPython.core.display.HTML object>"
            ]
          },
          "metadata": {
            "tags": []
          }
        },
        {
          "output_type": "execute_result",
          "data": {
            "text/plain": [
              "SuggestedLRs(valley=0.001737800776027143)"
            ]
          },
          "metadata": {
            "tags": []
          },
          "execution_count": 132
        },
        {
          "output_type": "display_data",
          "data": {
            "image/png": "[encoded data removed]",
            "text/plain": [
              "<Figure size 432x288 with 1 Axes>"
            ]
          },
          "metadata": {
            "tags": [],
            "needs_background": "light"
          }
        }
      ]
    },
    {
      "cell_type": "code",
      "metadata": {
        "colab": {
          "base_uri": "https://localhost:8080/",
          "height": 206
        },
        "id": "_6VLOKfqm2_o",
        "outputId": "8333473b-ada4-4058-f4d2-5cde22dc7be9"
      },
      "source": [
        "learn.fit_one_cycle(5, 1e-3)"
      ],
      "execution_count": null,
      "outputs": [
        {
          "output_type": "display_data",
          "data": {
            "text/html": [
              "<table border=\"1\" class=\"dataframe\">\n",
              "  <thead>\n",
              "    <tr style=\"text-align: left;\">\n",
              "      <th>epoch</th>\n",
              "      <th>train_loss</th>\n",
              "      <th>valid_loss</th>\n",
              "      <th>None</th>\n",
              "      <th>time</th>\n",
              "    </tr>\n",
              "  </thead>\n",
              "  <tbody>\n",
              "    <tr>\n",
              "      <td>0</td>\n",
              "      <td>372.822235</td>\n",
              "      <td>379.405029</td>\n",
              "      <td>19.417332</td>\n",
              "      <td>00:00</td>\n",
              "    </tr>\n",
              "    <tr>\n",
              "      <td>1</td>\n",
              "      <td>303.498322</td>\n",
              "      <td>432.771057</td>\n",
              "      <td>20.098303</td>\n",
              "      <td>00:00</td>\n",
              "    </tr>\n",
              "    <tr>\n",
              "      <td>2</td>\n",
              "      <td>254.218079</td>\n",
              "      <td>345.267303</td>\n",
              "      <td>17.397095</td>\n",
              "      <td>00:00</td>\n",
              "    </tr>\n",
              "    <tr>\n",
              "      <td>3</td>\n",
              "      <td>219.247574</td>\n",
              "      <td>197.446472</td>\n",
              "      <td>11.554172</td>\n",
              "      <td>00:00</td>\n",
              "    </tr>\n",
              "    <tr>\n",
              "      <td>4</td>\n",
              "      <td>196.244095</td>\n",
              "      <td>154.227966</td>\n",
              "      <td>8.943225</td>\n",
              "      <td>00:00</td>\n",
              "    </tr>\n",
              "  </tbody>\n",
              "</table>"
            ],
            "text/plain": [
              "<IPython.core.display.HTML object>"
            ]
          },
          "metadata": {
            "tags": []
          }
        }
      ]
    },
    {
      "cell_type": "code",
      "metadata": {
        "colab": {
          "base_uri": "https://localhost:8080/",
          "height": 269
        },
        "id": "qzjFtgJrY1OO",
        "outputId": "b6df6634-3204-4d49-db54-e1189d575a3a"
      },
      "source": [
        "# Using weight Decay\n",
        "learn = tabular_learner(dls, y_range=(0,42), layers=[500,250],\n",
        "                        n_out=1, loss_func=F.mse_loss, metrics= torch.nn.L1Loss)\n",
        "learn.fit_one_cycle(7, 1e-3,wd=0.1)"
      ],
      "execution_count": null,
      "outputs": [
        {
          "output_type": "display_data",
          "data": {
            "text/html": [
              "<table border=\"1\" class=\"dataframe\">\n",
              "  <thead>\n",
              "    <tr style=\"text-align: left;\">\n",
              "      <th>epoch</th>\n",
              "      <th>train_loss</th>\n",
              "      <th>valid_loss</th>\n",
              "      <th>None</th>\n",
              "      <th>time</th>\n",
              "    </tr>\n",
              "  </thead>\n",
              "  <tbody>\n",
              "    <tr>\n",
              "      <td>0</td>\n",
              "      <td>415.050323</td>\n",
              "      <td>368.318848</td>\n",
              "      <td>19.181446</td>\n",
              "      <td>00:00</td>\n",
              "    </tr>\n",
              "    <tr>\n",
              "      <td>1</td>\n",
              "      <td>391.548187</td>\n",
              "      <td>301.503632</td>\n",
              "      <td>16.527311</td>\n",
              "      <td>00:00</td>\n",
              "    </tr>\n",
              "    <tr>\n",
              "      <td>2</td>\n",
              "      <td>323.645782</td>\n",
              "      <td>250.139923</td>\n",
              "      <td>13.706243</td>\n",
              "      <td>00:00</td>\n",
              "    </tr>\n",
              "    <tr>\n",
              "      <td>3</td>\n",
              "      <td>266.135895</td>\n",
              "      <td>166.949661</td>\n",
              "      <td>9.263852</td>\n",
              "      <td>00:00</td>\n",
              "    </tr>\n",
              "    <tr>\n",
              "      <td>4</td>\n",
              "      <td>224.753204</td>\n",
              "      <td>141.152115</td>\n",
              "      <td>6.903642</td>\n",
              "      <td>00:00</td>\n",
              "    </tr>\n",
              "    <tr>\n",
              "      <td>5</td>\n",
              "      <td>197.286102</td>\n",
              "      <td>139.188156</td>\n",
              "      <td>6.743922</td>\n",
              "      <td>00:00</td>\n",
              "    </tr>\n",
              "    <tr>\n",
              "      <td>6</td>\n",
              "      <td>177.649429</td>\n",
              "      <td>136.893204</td>\n",
              "      <td>6.467886</td>\n",
              "      <td>00:00</td>\n",
              "    </tr>\n",
              "  </tbody>\n",
              "</table>"
            ],
            "text/plain": [
              "<IPython.core.display.HTML object>"
            ]
          },
          "metadata": {
            "tags": []
          }
        }
      ]
    },
    {
      "cell_type": "code",
      "metadata": {
        "id": "mfLvDKrUxGt2"
      },
      "source": [
        ""
      ],
      "execution_count": null,
      "outputs": []
    },
    {
      "cell_type": "code",
      "metadata": {
        "id": "27JJdWOExGrO"
      },
      "source": [
        ""
      ],
      "execution_count": null,
      "outputs": []
    },
    {
      "cell_type": "code",
      "metadata": {
        "id": "MxOA-rMtxGoR"
      },
      "source": [
        ""
      ],
      "execution_count": null,
      "outputs": []
    },
    {
      "cell_type": "markdown",
      "metadata": {
        "id": "rdWtGjm3ub5y"
      },
      "source": [
        "### Further work, \n",
        "\n",
        "- We can apply the same thing in neural network and boosting.\n",
        "  - The problem with implementing in NN is that, after embedding our dataset is a list, we either have to convert that into a** dataframe** to use in fastai or we can create a new neural network using other method, where we pass in list in both cases.\n",
        "  - Boosting is something we can try but which requires hyper parameter tuning, we can try one without that. Just to work with boosting.\n",
        "\n",
        "- But it is better to work on this, maybe after we write a blog on this, it doesnt have to be super detailed in the sense that you have to feel any discomfort, we can work in pomodoro, maybe 1-3 pomodoros a day.\n",
        "- Meanwhile we can work on creating dataloader and learner by ourself. the issue is we do not have much idea on how its done. Maybe we can do that when we learn more about the course like a dataloader or maybe in univ.ai \n",
        "\n",
        "- In between we also have to work on what we have learnt so far, maybe tomorrow. When we start writing the blog after few pomodoro maybe we can work on revision, we can have a look at the notebook questions we created. "
      ]
    },
    {
      "cell_type": "markdown",
      "metadata": {
        "id": "ZTKEAnsG7iyE"
      },
      "source": [
        ""
      ]
    }
  ]
}