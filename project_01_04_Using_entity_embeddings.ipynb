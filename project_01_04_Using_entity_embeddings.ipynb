{
  "nbformat": 4,
  "nbformat_minor": 0,
  "metadata": {
    "colab": {
      "name": "project_01.04_Using_entity_embeddings.ipynb",
      "provenance": [],
      "collapsed_sections": [],
      "mount_file_id": "1owKHQAQBZnfWiLo2oEu7kkdxcjlHNd39",
      "authorship_tag": "ABX9TyO1ZLkcz9Qg85TNazFzgzpo",
      "include_colab_link": true
    },
    "kernelspec": {
      "name": "python3",
      "display_name": "Python 3"
    },
    "language_info": {
      "name": "python"
    }
  },
  "cells": [
    {
      "cell_type": "markdown",
      "metadata": {
        "id": "view-in-github",
        "colab_type": "text"
      },
      "source": [
        "<a href=\"https://colab.research.google.com/github/akshaypt7/amazon_sales_prediction/blob/main/project_01_04_Using_entity_embeddings.ipynb\" target=\"_parent\"><img src=\"https://colab.research.google.com/assets/colab-badge.svg\" alt=\"Open In Colab\"/></a>"
      ]
    },
    {
      "cell_type": "code",
      "metadata": {
        "id": "AOf7-glAqKQD",
        "colab": {
          "base_uri": "https://localhost:8080/"
        },
        "outputId": "e2770499-0528-48ef-e651-c9634bbd4503"
      },
      "source": [
        "!pip install -Uqq fastbook\n",
        "import fastbook\n",
        "fastbook.setup_book()"
      ],
      "execution_count": 1,
      "outputs": [
        {
          "output_type": "stream",
          "text": [
            "\u001b[K     |████████████████████████████████| 720 kB 29.4 MB/s \n",
            "\u001b[K     |████████████████████████████████| 188 kB 65.1 MB/s \n",
            "\u001b[K     |████████████████████████████████| 1.2 MB 69.3 MB/s \n",
            "\u001b[K     |████████████████████████████████| 46 kB 4.1 MB/s \n",
            "\u001b[K     |████████████████████████████████| 56 kB 2.6 MB/s \n",
            "\u001b[K     |████████████████████████████████| 51 kB 305 kB/s \n",
            "\u001b[?25hMounted at /content/gdrive\n"
          ],
          "name": "stdout"
        }
      ]
    },
    {
      "cell_type": "code",
      "metadata": {
        "id": "CMc_wTu9apCs"
      },
      "source": [
        "#hide\n",
        "from fastbook import *\n",
        "# from kaggle import api\n",
        "from pandas.api.types import is_string_dtype, is_numeric_dtype, is_categorical_dtype\n",
        "from fastai.tabular.all import *\n",
        "from sklearn.ensemble import RandomForestRegressor, RandomForestClassifier\n",
        "from sklearn.tree import DecisionTreeRegressor\n",
        "# from dtreeviz.trees import *\n",
        "from IPython.display import Image, display_svg, SVG\n",
        "\n",
        "pd.options.display.max_rows = 20\n",
        "pd.options.display.max_columns = 8"
      ],
      "execution_count": 2,
      "outputs": []
    },
    {
      "cell_type": "code",
      "metadata": {
        "id": "q26gA0_jd4-C"
      },
      "source": [
        "from sklearn.model_selection import ParameterGrid\n",
        "from keras.models import Sequential\n",
        "from keras.models import Model as KerasModel\n",
        "from keras.layers import Input, Dense, Activation, Reshape\n",
        "from keras.layers import Concatenate\n",
        "from keras.layers import Dense, Flatten, Dropout, Input, Embedding, Reshape\n",
        "from keras.layers import concatenate\n",
        "from sklearn.ensemble import RandomForestRegressor\n",
        "from sklearn import linear_model\n",
        "import pickle\n",
        "import csv\n",
        "from datetime import datetime\n",
        "from sklearn import preprocessing\n",
        "from keras.callbacks import ModelCheckpoint\n",
        "import xgboost as xgb\n",
        "from sklearn.preprocessing import OneHotEncoder\n",
        "%matplotlib inline\n",
        "\n",
        "from sklearn.model_selection import train_test_split\n",
        "import math\n",
        "import pandas as pd"
      ],
      "execution_count": 3,
      "outputs": []
    },
    {
      "cell_type": "code",
      "metadata": {
        "id": "hrSVr08wZYGu"
      },
      "source": [
        "infile = open('/content/gdrive/MyDrive/bluebook/df_main.pkl','rb')\n",
        "df_main = pickle.load(infile)"
      ],
      "execution_count": 4,
      "outputs": []
    },
    {
      "cell_type": "code",
      "metadata": {
        "id": "MIW-uPJ5ahf5"
      },
      "source": [
        "df_main = add_datepart(df_main,'date')"
      ],
      "execution_count": 5,
      "outputs": []
    },
    {
      "cell_type": "code",
      "metadata": {
        "id": "HM10uhszhO_H"
      },
      "source": [
        "cat = ['Asin',\n",
        " 'Is_month_end',\n",
        " 'Is_month_start',\n",
        " 'Is_quarter_end',\n",
        " 'Is_quarter_start',\n",
        " 'Is_year_end',\n",
        " 'Is_year_start',\n",
        " 'hour','Month','Week', 'Day','Dayofweek','Dayofyear']"
      ],
      "execution_count": 6,
      "outputs": []
    },
    {
      "cell_type": "code",
      "metadata": {
        "id": "PLVFHWR1g0S9"
      },
      "source": [
        "from sklearn.model_selection import train_test_split\n",
        "from sklearn.preprocessing import OrdinalEncoder"
      ],
      "execution_count": 7,
      "outputs": []
    },
    {
      "cell_type": "code",
      "metadata": {
        "id": "XXYHFhuLjIE5"
      },
      "source": [
        "enc = OrdinalEncoder()\n",
        "enc.fit(df_main[cat])\n",
        "df_main[cat]= enc.transform(df_main[cat])"
      ],
      "execution_count": 8,
      "outputs": []
    },
    {
      "cell_type": "code",
      "metadata": {
        "id": "A5dnKBUL2RBl"
      },
      "source": [
        "condition = (df_main.Year < 2020) | (df_main.Month < 8)\n",
        "train_idx = np.where(condition)[0]\n",
        "valid_idx = np.where(~condition)[0]"
      ],
      "execution_count": 9,
      "outputs": []
    },
    {
      "cell_type": "code",
      "metadata": {
        "id": "S7IOXt2hncDq"
      },
      "source": [
        "splits = (list(train_idx),list(valid_idx))"
      ],
      "execution_count": 51,
      "outputs": []
    },
    {
      "cell_type": "code",
      "metadata": {
        "colab": {
          "base_uri": "https://localhost:8080/"
        },
        "id": "ANCvN6JWu9MB",
        "outputId": "017143d6-c239-4564-bd49-d89c20e02220"
      },
      "source": [
        "len(train_idx), len(valid_idx)"
      ],
      "execution_count": 70,
      "outputs": [
        {
          "output_type": "execute_result",
          "data": {
            "text/plain": [
              "(8423, 2523)"
            ]
          },
          "metadata": {
            "tags": []
          },
          "execution_count": 70
        }
      ]
    },
    {
      "cell_type": "code",
      "metadata": {
        "id": "3xBYrnvNErMh"
      },
      "source": [
        "X =df_main.drop(['Quantity'],axis=1)"
      ],
      "execution_count": 10,
      "outputs": []
    },
    {
      "cell_type": "code",
      "metadata": {
        "id": "J3lBx8b-2X_h"
      },
      "source": [
        "# X_train = df_main.drop(['Quantity'],axis=1).iloc[train_idx]\n",
        "# y_train = df_main['Quantity'].iloc[train_idx]\n",
        "\n",
        "# X_valid = df_main.drop(['Quantity'],axis=1).iloc[valid_idx]\n",
        "# y_valid = df_main['Quantity'].iloc[valid_idx]"
      ],
      "execution_count": null,
      "outputs": []
    },
    {
      "cell_type": "code",
      "metadata": {
        "id": "2mHj7Ux0Culm"
      },
      "source": [
        "saved_embeddings_fname = '/content/gdrive/MyDrive/bluebook/embeddings.pickle'"
      ],
      "execution_count": 11,
      "outputs": []
    },
    {
      "cell_type": "code",
      "metadata": {
        "colab": {
          "base_uri": "https://localhost:8080/"
        },
        "id": "16REwiIfVypk",
        "outputId": "1a260672-8bb2-471d-a8a3-9cf64c6a91d8"
      },
      "source": [
        "X.columns"
      ],
      "execution_count": null,
      "outputs": [
        {
          "output_type": "execute_result",
          "data": {
            "text/plain": [
              "Index(['Asin', 'Item Promo Discount', 'price', 'hour', 'Invoice Amount',\n",
              "       'Year', 'Month', 'Week', 'Day', 'Dayofweek', 'Dayofyear',\n",
              "       'Is_month_end', 'Is_month_start', 'Is_quarter_end', 'Is_quarter_start',\n",
              "       'Is_year_end', 'Is_year_start', 'Elapsed'],\n",
              "      dtype='object')"
            ]
          },
          "metadata": {
            "tags": []
          },
          "execution_count": 12
        }
      ]
    },
    {
      "cell_type": "markdown",
      "metadata": {
        "id": "t4mG2r57WPs8"
      },
      "source": [
        "##### Explaining the function.\n",
        "\n",
        "\n",
        "\n",
        "In the below function, the index_embedding_mapping is used to replace the categorical columns of X, using the embedding we created earlier. \n",
        "\n",
        "Now the mapping will change (that is the content in the dictionary) we have to compare that with the order in the embeddings we created. \n",
        "\n",
        "Which is [input_asin, input_hour, input_dayofweek, input_month, input_day, input_week ]\n",
        "\n",
        "Now the keys of the dictionary should be the position of the embedding in the X.\n",
        "For example the 2nd item in the dictionary is Hour, so we have to see which position is hour in X, and that position will be the key.\n",
        "\n",
        "Like this we replace the categorical values for all categorical variables, and the continous columns are left unchanged.\n",
        "\n",
        "Once we create the index_embedding_mapping, we next do a for loop, here you have to note, this X is not a dataframe, we are passing X.values into the function.\n",
        "\n",
        "so each record in a row, now the second for loop comes which again helps us to go deeper, here i is the index of the column and feat is the values of each column index. \n",
        "\n",
        "Now if the index, i is in the index_embedding_mapping.keys we replace the entire value with the value of embedding if not we make it unchanged."
      ]
    },
    {
      "cell_type": "code",
      "metadata": {
        "id": "llLf5Q39Ckk7"
      },
      "source": [
        "def embed_features(X, saved_embeddings_fname):\n",
        "    f_embeddings = open(saved_embeddings_fname, \"rb\")\n",
        "    embeddings = pickle.load(f_embeddings)\n",
        "\n",
        "    index_embedding_mapping = {0: 0, 3: 1, 9: 2, 6: 3, 8: 4, 7: 5}\n",
        "    X_embedded = []\n",
        "\n",
        "    (num_records, num_features) = X.shape\n",
        "    for record in X: \n",
        "        embedded_features = []\n",
        "        for i, feat in enumerate(record):\n",
        "            feat = int(feat)\n",
        "            if i not in index_embedding_mapping.keys():\n",
        "                embedded_features += [feat]\n",
        "            else:\n",
        "                embedding_index = index_embedding_mapping[i]\n",
        "                embedded_features += embeddings[embedding_index][feat].tolist()\n",
        "\n",
        "        X_embedded.append(embedded_features)\n",
        "\n",
        "    return np.array(X_embedded)"
      ],
      "execution_count": 12,
      "outputs": []
    },
    {
      "cell_type": "code",
      "metadata": {
        "id": "2eeSEWujEdvm"
      },
      "source": [
        "X_emb = embed_features(X.values,saved_embeddings_fname)"
      ],
      "execution_count": 13,
      "outputs": []
    },
    {
      "cell_type": "markdown",
      "metadata": {
        "id": "1hs_HQsbRhfQ"
      },
      "source": [
        "### Add the embeddings into the Models and check their MAE"
      ]
    },
    {
      "cell_type": "markdown",
      "metadata": {
        "id": "tzOXpGMS0Pg-"
      },
      "source": [
        "#### Creating training and validation set"
      ]
    },
    {
      "cell_type": "markdown",
      "metadata": {
        "id": "pNUjrOY00OgC"
      },
      "source": [
        "This works - result_list = list(itemgetter(*index_list)(test_list)) , we need to make X_train and y_train in the form of list"
      ]
    },
    {
      "cell_type": "code",
      "metadata": {
        "id": "br8RTJTX0OgE"
      },
      "source": [
        "X_train = list(itemgetter(*train_idx)(X_emb)) \n",
        "X_valid = list(itemgetter(*valid_idx)(X_emb)) \n",
        "\n",
        "# or we can use list comprehension too for ex, test = [X_emb[i] for i in train_idx ]"
      ],
      "execution_count": null,
      "outputs": []
    },
    {
      "cell_type": "code",
      "metadata": {
        "id": "ksHKtMXi0OgF"
      },
      "source": [
        "\n",
        "y_train = df_main['Quantity'].iloc[train_idx]\n",
        "\n",
        "y_valid = df_main['Quantity'].iloc[valid_idx]"
      ],
      "execution_count": null,
      "outputs": []
    },
    {
      "cell_type": "markdown",
      "metadata": {
        "id": "xmJ4r9uX0OgF"
      },
      "source": [
        "Note : We have created the train and test set from the X_embeddings. since X_embeddings is a list we use either list comprehension or list(itemgetter)"
      ]
    },
    {
      "cell_type": "code",
      "metadata": {
        "id": "_1dzX6JkG3aT"
      },
      "source": [
        "from sklearn.metrics import mean_absolute_error as mae"
      ],
      "execution_count": null,
      "outputs": []
    },
    {
      "cell_type": "code",
      "metadata": {
        "id": "DCxcIIWUTqmO"
      },
      "source": [
        "# This functions helps to convert the value into integ\n",
        "def pred(y_pred,thres= 0.5):\n",
        "  new_pred = np.where((y_pred-int(y_pred)) < thres,int(y_pred), int(y_pred)+1)\n",
        "  return new_pred"
      ],
      "execution_count": null,
      "outputs": []
    },
    {
      "cell_type": "code",
      "metadata": {
        "id": "orVRyOsdTsyw"
      },
      "source": [
        "new_pred = np.vectorize(pred) # So that the function will accept list of integers."
      ],
      "execution_count": null,
      "outputs": []
    },
    {
      "cell_type": "markdown",
      "metadata": {
        "id": "ivrrmLqVTgqf"
      },
      "source": [
        "#### Model 1- Random Forest"
      ]
    },
    {
      "cell_type": "code",
      "metadata": {
        "id": "gko2d5UDTwnl"
      },
      "source": [
        "def rf(xs, y, n_estimators=40,\n",
        "       max_features=0.5, min_samples_leaf=5, **kwargs):\n",
        "    return RandomForestRegressor(n_jobs=-1, n_estimators=n_estimators,\n",
        "         max_features=max_features,\n",
        "        min_samples_leaf=min_samples_leaf, oob_score=True).fit(xs, y)"
      ],
      "execution_count": null,
      "outputs": []
    },
    {
      "cell_type": "code",
      "metadata": {
        "id": "9w22-0BsFcHf"
      },
      "source": [
        "rf =rf(X_train,y_train)"
      ],
      "execution_count": null,
      "outputs": []
    },
    {
      "cell_type": "code",
      "metadata": {
        "colab": {
          "base_uri": "https://localhost:8080/"
        },
        "id": "0HzfOAWuT5AD",
        "outputId": "0cf3aff1-85ed-4a2c-df85-34b54232e649"
      },
      "source": [
        "mae(y_valid,rf.predict(X_valid))"
      ],
      "execution_count": null,
      "outputs": [
        {
          "output_type": "execute_result",
          "data": {
            "text/plain": [
              "0.021638241267109636"
            ]
          },
          "metadata": {
            "tags": []
          },
          "execution_count": 35
        }
      ]
    },
    {
      "cell_type": "markdown",
      "metadata": {
        "id": "ZOTyw4luhFdj"
      },
      "source": [
        "**Our model with Embedding performed better than the model without it.**\n",
        "\n",
        "Random Forest with Embedding = 0.0216\n",
        "\n",
        "Random Forest without Embedding = 0.0280"
      ]
    },
    {
      "cell_type": "code",
      "metadata": {
        "colab": {
          "base_uri": "https://localhost:8080/"
        },
        "id": "vcstu2WsUAFX",
        "outputId": "784e7a89-efcd-4da4-cf0f-66a7f8da8627"
      },
      "source": [
        "mae(y_valid,(new_pred(rf.predict(X_valid),0.42))) # predicting the accuracy by changing the threshold"
      ],
      "execution_count": null,
      "outputs": [
        {
          "output_type": "execute_result",
          "data": {
            "text/plain": [
              "0.005152596115735236"
            ]
          },
          "metadata": {
            "tags": []
          },
          "execution_count": 36
        }
      ]
    },
    {
      "cell_type": "markdown",
      "metadata": {
        "id": "RCQ5xHHWfGhM"
      },
      "source": [
        "**Our Model using Embeddings performed better than the previous models**"
      ]
    },
    {
      "cell_type": "markdown",
      "metadata": {
        "id": "85VMpJV3kuRT"
      },
      "source": [
        "### Neural Network with Embedding"
      ]
    },
    {
      "cell_type": "code",
      "metadata": {
        "id": "BKtf9xVyk-R0"
      },
      "source": [
        "f_embeddings = open(saved_embeddings_fname, \"rb\")\n",
        "embeddings = pickle.load(f_embeddings)"
      ],
      "execution_count": 18,
      "outputs": []
    },
    {
      "cell_type": "code",
      "metadata": {
        "id": "ZggqrqInmcfc"
      },
      "source": [
        "df = pd.DataFrame(X_emb)"
      ],
      "execution_count": 28,
      "outputs": []
    },
    {
      "cell_type": "code",
      "metadata": {
        "id": "p_Gv8HMkonAP"
      },
      "source": [
        "df_main.reset_index(inplace=True)"
      ],
      "execution_count": 81,
      "outputs": []
    },
    {
      "cell_type": "code",
      "metadata": {
        "id": "7UAu8bm5owhW"
      },
      "source": [
        "df_main.drop(['index'], axis =1, inplace=True)"
      ],
      "execution_count": 82,
      "outputs": []
    },
    {
      "cell_type": "code",
      "metadata": {
        "id": "9MlK4-U5oHuW"
      },
      "source": [
        "df['Quantity'] = df_main['Quantity']"
      ],
      "execution_count": 83,
      "outputs": []
    },
    {
      "cell_type": "code",
      "metadata": {
        "colab": {
          "base_uri": "https://localhost:8080/"
        },
        "id": "i6htuNM2mwQL",
        "outputId": "24e25bfd-ec84-43d2-f9f9-7adc5533bc31"
      },
      "source": [
        "df.shape"
      ],
      "execution_count": 30,
      "outputs": [
        {
          "output_type": "execute_result",
          "data": {
            "text/plain": [
              "(10946, 47)"
            ]
          },
          "metadata": {
            "tags": []
          },
          "execution_count": 30
        }
      ]
    },
    {
      "cell_type": "code",
      "metadata": {
        "id": "0b4oPB0-nBSc"
      },
      "source": [
        "cont, cat = cont_cat_split(df, max_card=900)"
      ],
      "execution_count": 34,
      "outputs": []
    },
    {
      "cell_type": "code",
      "metadata": {
        "id": "lD8_cyeqn2Pa"
      },
      "source": [
        "procs = [Categorify,FillMissing, Normalize]"
      ],
      "execution_count": 35,
      "outputs": []
    },
    {
      "cell_type": "code",
      "metadata": {
        "colab": {
          "base_uri": "https://localhost:8080/"
        },
        "id": "BpAk4IFlp8l2",
        "outputId": "f6a8c308-2efe-4b45-e697-86e4df9f19c5"
      },
      "source": [
        "df.shape"
      ],
      "execution_count": 50,
      "outputs": [
        {
          "output_type": "execute_result",
          "data": {
            "text/plain": [
              "(10946, 48)"
            ]
          },
          "metadata": {
            "tags": []
          },
          "execution_count": 50
        }
      ]
    },
    {
      "cell_type": "code",
      "metadata": {
        "id": "oVRv-1B7nHDA"
      },
      "source": [
        "to_nn = TabularPandas(df,procs= procs, cont_names= cont, cat_names= cat, y_names= 'Quantity', splits =splits)"
      ],
      "execution_count": 52,
      "outputs": []
    },
    {
      "cell_type": "code",
      "metadata": {
        "id": "3nZ6XrcOnHAt"
      },
      "source": [
        "dls = to_nn.dataloaders(64)"
      ],
      "execution_count": 84,
      "outputs": []
    },
    {
      "cell_type": "code",
      "metadata": {
        "colab": {
          "base_uri": "https://localhost:8080/"
        },
        "id": "V49j7umznG-W",
        "outputId": "5b741867-15fb-4fd0-d74b-9e3ac59d4e91"
      },
      "source": [
        "dls.one_batch()[2].shape"
      ],
      "execution_count": 65,
      "outputs": [
        {
          "output_type": "execute_result",
          "data": {
            "text/plain": [
              "torch.Size([528, 1])"
            ]
          },
          "metadata": {
            "tags": []
          },
          "execution_count": 65
        }
      ]
    },
    {
      "cell_type": "code",
      "metadata": {
        "colab": {
          "base_uri": "https://localhost:8080/"
        },
        "id": "KcnCqqhfnG7W",
        "outputId": "30a14f39-8e34-4fe1-ee73-5611afa2ae0b"
      },
      "source": [
        "dls.valid.xs.shape"
      ],
      "execution_count": 71,
      "outputs": [
        {
          "output_type": "execute_result",
          "data": {
            "text/plain": [
              "(2523, 47)"
            ]
          },
          "metadata": {
            "tags": []
          },
          "execution_count": 71
        }
      ]
    },
    {
      "cell_type": "code",
      "metadata": {
        "id": "8SQ1xNBSnBL8"
      },
      "source": [
        "learner_nn = tabular_learner(dls, y_range=(0,42), layers=[500,250],n_out=1, loss_func=F.mse_loss, metrics= torch.nn.L1Loss )"
      ],
      "execution_count": 85,
      "outputs": []
    },
    {
      "cell_type": "code",
      "metadata": {
        "colab": {
          "base_uri": "https://localhost:8080/",
          "height": 300
        },
        "id": "RlASOOaQwER0",
        "outputId": "839272cd-9b2a-46af-e023-4edd8b4b85ca"
      },
      "source": [
        "learner_nn.lr_find()"
      ],
      "execution_count": 86,
      "outputs": [
        {
          "output_type": "display_data",
          "data": {
            "text/html": [
              ""
            ],
            "text/plain": [
              "<IPython.core.display.HTML object>"
            ]
          },
          "metadata": {
            "tags": []
          }
        },
        {
          "output_type": "execute_result",
          "data": {
            "text/plain": [
              "SuggestedLRs(valley=0.00363078061491251)"
            ]
          },
          "metadata": {
            "tags": []
          },
          "execution_count": 86
        },
        {
          "output_type": "display_data",
          "data": {
            "image/png": "[encoded data removed]",
            "text/plain": [
              "<Figure size 432x288 with 1 Axes>"
            ]
          },
          "metadata": {
            "tags": [],
            "needs_background": "light"
          }
        }
      ]
    },
    {
      "cell_type": "code",
      "metadata": {
        "colab": {
          "base_uri": "https://localhost:8080/",
          "height": 269
        },
        "id": "JfwOjhDowlez",
        "outputId": "14023254-0acf-4b54-cd99-7776335772e6"
      },
      "source": [
        "learner_nn = tabular_learner(dls, y_range=(0,42), layers=[500,250],n_out=1, loss_func=F.mse_loss, metrics= torch.nn.L1Loss )\n",
        "learner_nn.fit_one_cycle(7,lr_max=1e-3)"
      ],
      "execution_count": 93,
      "outputs": [
        {
          "output_type": "display_data",
          "data": {
            "text/html": [
              "<table border=\"1\" class=\"dataframe\">\n",
              "  <thead>\n",
              "    <tr style=\"text-align: left;\">\n",
              "      <th>epoch</th>\n",
              "      <th>train_loss</th>\n",
              "      <th>valid_loss</th>\n",
              "      <th>None</th>\n",
              "      <th>time</th>\n",
              "    </tr>\n",
              "  </thead>\n",
              "  <tbody>\n",
              "    <tr>\n",
              "      <td>0</td>\n",
              "      <td>345.049805</td>\n",
              "      <td>317.459900</td>\n",
              "      <td>17.350271</td>\n",
              "      <td>00:01</td>\n",
              "    </tr>\n",
              "    <tr>\n",
              "      <td>1</td>\n",
              "      <td>64.082642</td>\n",
              "      <td>14.473331</td>\n",
              "      <td>1.669761</td>\n",
              "      <td>00:01</td>\n",
              "    </tr>\n",
              "    <tr>\n",
              "      <td>2</td>\n",
              "      <td>7.298007</td>\n",
              "      <td>12.177769</td>\n",
              "      <td>0.939022</td>\n",
              "      <td>00:01</td>\n",
              "    </tr>\n",
              "    <tr>\n",
              "      <td>3</td>\n",
              "      <td>1.969537</td>\n",
              "      <td>11.776754</td>\n",
              "      <td>0.727522</td>\n",
              "      <td>00:01</td>\n",
              "    </tr>\n",
              "    <tr>\n",
              "      <td>4</td>\n",
              "      <td>0.805031</td>\n",
              "      <td>0.416644</td>\n",
              "      <td>0.466517</td>\n",
              "      <td>00:01</td>\n",
              "    </tr>\n",
              "    <tr>\n",
              "      <td>5</td>\n",
              "      <td>0.321921</td>\n",
              "      <td>0.495924</td>\n",
              "      <td>0.539164</td>\n",
              "      <td>00:01</td>\n",
              "    </tr>\n",
              "    <tr>\n",
              "      <td>6</td>\n",
              "      <td>0.212124</td>\n",
              "      <td>0.426709</td>\n",
              "      <td>0.486565</td>\n",
              "      <td>00:01</td>\n",
              "    </tr>\n",
              "  </tbody>\n",
              "</table>"
            ],
            "text/plain": [
              "<IPython.core.display.HTML object>"
            ]
          },
          "metadata": {
            "tags": []
          }
        }
      ]
    },
    {
      "cell_type": "code",
      "metadata": {
        "colab": {
          "base_uri": "https://localhost:8080/",
          "height": 269
        },
        "id": "xR8FWpp9nBB_",
        "outputId": "fdd38c69-aa88-4e4c-8df7-d0058fe76049"
      },
      "source": [
        "learner_nn = tabular_learner(dls, y_range=(0,42), layers=[500,250],n_out=1, loss_func=F.mse_loss, metrics= torch.nn.L1Loss )\n",
        "learner_nn.fit_one_cycle(7,lr_max=1e-3,wd=0.1)"
      ],
      "execution_count": 90,
      "outputs": [
        {
          "output_type": "display_data",
          "data": {
            "text/html": [
              "<table border=\"1\" class=\"dataframe\">\n",
              "  <thead>\n",
              "    <tr style=\"text-align: left;\">\n",
              "      <th>epoch</th>\n",
              "      <th>train_loss</th>\n",
              "      <th>valid_loss</th>\n",
              "      <th>None</th>\n",
              "      <th>time</th>\n",
              "    </tr>\n",
              "  </thead>\n",
              "  <tbody>\n",
              "    <tr>\n",
              "      <td>0</td>\n",
              "      <td>350.405060</td>\n",
              "      <td>210.911026</td>\n",
              "      <td>13.892867</td>\n",
              "      <td>00:01</td>\n",
              "    </tr>\n",
              "    <tr>\n",
              "      <td>1</td>\n",
              "      <td>64.316002</td>\n",
              "      <td>4.290181</td>\n",
              "      <td>1.724079</td>\n",
              "      <td>00:01</td>\n",
              "    </tr>\n",
              "    <tr>\n",
              "      <td>2</td>\n",
              "      <td>5.979640</td>\n",
              "      <td>0.600164</td>\n",
              "      <td>0.495257</td>\n",
              "      <td>00:01</td>\n",
              "    </tr>\n",
              "    <tr>\n",
              "      <td>3</td>\n",
              "      <td>0.821564</td>\n",
              "      <td>0.449848</td>\n",
              "      <td>0.503147</td>\n",
              "      <td>00:01</td>\n",
              "    </tr>\n",
              "    <tr>\n",
              "      <td>4</td>\n",
              "      <td>0.253618</td>\n",
              "      <td>0.425819</td>\n",
              "      <td>0.479580</td>\n",
              "      <td>00:01</td>\n",
              "    </tr>\n",
              "    <tr>\n",
              "      <td>5</td>\n",
              "      <td>0.177444</td>\n",
              "      <td>0.384029</td>\n",
              "      <td>0.459301</td>\n",
              "      <td>00:01</td>\n",
              "    </tr>\n",
              "    <tr>\n",
              "      <td>6</td>\n",
              "      <td>0.135783</td>\n",
              "      <td>0.377105</td>\n",
              "      <td>0.451703</td>\n",
              "      <td>00:01</td>\n",
              "    </tr>\n",
              "  </tbody>\n",
              "</table>"
            ],
            "text/plain": [
              "<IPython.core.display.HTML object>"
            ]
          },
          "metadata": {
            "tags": []
          }
        }
      ]
    },
    {
      "cell_type": "markdown",
      "metadata": {
        "id": "BLGiPhR5G3_D"
      },
      "source": [
        "refer - https://stackoverflow.com/questions/25431850/passing-a-list-of-indices-to-another-list-in-python-correct-syntax"
      ]
    },
    {
      "cell_type": "markdown",
      "metadata": {
        "id": "SE4eoaoDDup7"
      },
      "source": [
        "### Creating our own model"
      ]
    },
    {
      "cell_type": "code",
      "metadata": {
        "id": "BmKGQwmf1KDk"
      },
      "source": [
        "f_embeddings = open(saved_embeddings_fname, \"rb\")\n",
        "embeddings = pickle.load(f_embeddings)"
      ],
      "execution_count": null,
      "outputs": []
    },
    {
      "cell_type": "code",
      "metadata": {
        "colab": {
          "base_uri": "https://localhost:8080/"
        },
        "id": "w1WGYXl71KDl",
        "outputId": "e978a42d-d145-4f39-823a-f94048d5ed18"
      },
      "source": [
        "dset = list(zip(X_train,y_train))\n",
        "x,y = dset[0]\n",
        "x.shape"
      ],
      "execution_count": null,
      "outputs": [
        {
          "output_type": "execute_result",
          "data": {
            "text/plain": [
              "(47,)"
            ]
          },
          "metadata": {
            "tags": []
          },
          "execution_count": 53
        }
      ]
    },
    {
      "cell_type": "code",
      "metadata": {
        "id": "9UqGjvFL1KDp"
      },
      "source": [
        "valid_dset = list(zip(X_valid,y_valid))"
      ],
      "execution_count": null,
      "outputs": []
    },
    {
      "cell_type": "code",
      "metadata": {
        "id": "kNqi5yrm1KDr"
      },
      "source": [
        "dset = list(zip(tensor(X_train).float(),tensor(y_train).float())) # now\n",
        "valid_dset = list(zip(tensor(X_valid).float(),tensor(y_valid).float())) # now"
      ],
      "execution_count": null,
      "outputs": []
    },
    {
      "cell_type": "code",
      "metadata": {
        "id": "ZxfPUc0J1KDu"
      },
      "source": [
        "train_dl = DataLoader(dset,bs=128,shuffle=False)\n",
        "valid_dl = DataLoader(valid_dset, bs=128, shuffle=False)"
      ],
      "execution_count": null,
      "outputs": []
    },
    {
      "cell_type": "code",
      "metadata": {
        "colab": {
          "base_uri": "https://localhost:8080/"
        },
        "id": "WG0vPsIe1KDv",
        "outputId": "b7bee1cd-101c-45f3-9c06-31dac1f26ed9"
      },
      "source": [
        "dls= DataLoaders(train_dl,valid_dl) # now\n",
        "x,y = dls.one_batch()\n",
        "x.shape, y.shape"
      ],
      "execution_count": null,
      "outputs": [
        {
          "output_type": "execute_result",
          "data": {
            "text/plain": [
              "(torch.Size([128, 47]), torch.Size([128]))"
            ]
          },
          "metadata": {
            "tags": []
          },
          "execution_count": 98
        }
      ]
    },
    {
      "cell_type": "code",
      "metadata": {
        "id": "ZmslglTirqWn"
      },
      "source": [
        "class model(Module):\n",
        "  def __init__(self, no_emb,n_act=20):\n",
        "    self.layers = nn.Sequential(\n",
        "        \n",
        "        nn.Linear(no_emb,n_act),\n",
        "        nn.ReLU(),\n",
        "        # nn.Linear(n_act,100),\n",
        "        # nn.ReLU(),\n",
        "        nn.Linear(n_act,1)\n",
        "    )\n",
        "\n",
        "        \n",
        "\n",
        "  def forward(self,x):\n",
        "    x = self.layers(x)  \n",
        "    return x"
      ],
      "execution_count": null,
      "outputs": []
    },
    {
      "cell_type": "code",
      "metadata": {
        "id": "6ps2Gwfz7sra"
      },
      "source": [
        "model = model(47) # 47 is the embedding size"
      ],
      "execution_count": null,
      "outputs": []
    },
    {
      "cell_type": "code",
      "metadata": {
        "id": "qx0EPXLPmq6R"
      },
      "source": [
        "learn = Learner( dls, model,\n",
        "                   loss_func=F.mse_loss, metrics= torch.nn.L1Loss)"
      ],
      "execution_count": null,
      "outputs": []
    },
    {
      "cell_type": "code",
      "metadata": {
        "id": "Qc8wzXOIm0Pf"
      },
      "source": [
        "learn.lr_find()"
      ],
      "execution_count": null,
      "outputs": []
    },
    {
      "cell_type": "code",
      "metadata": {
        "colab": {
          "base_uri": "https://localhost:8080/",
          "height": 870
        },
        "id": "_6VLOKfqm2_o",
        "outputId": "eea51c4e-313d-4033-952b-1f19ac9c4b3b"
      },
      "source": [
        "learn.fit_one_cycle(20, 1e-3)"
      ],
      "execution_count": null,
      "outputs": [
        {
          "output_type": "display_data",
          "data": {
            "text/html": [
              "<table border=\"1\" class=\"dataframe\">\n",
              "  <thead>\n",
              "    <tr style=\"text-align: left;\">\n",
              "      <th>epoch</th>\n",
              "      <th>train_loss</th>\n",
              "      <th>valid_loss</th>\n",
              "      <th>None</th>\n",
              "      <th>time</th>\n",
              "    </tr>\n",
              "  </thead>\n",
              "  <tbody>\n",
              "    <tr>\n",
              "      <td>0</td>\n",
              "      <td>1162380416.000000</td>\n",
              "      <td>477888608.000000</td>\n",
              "      <td>21860.464844</td>\n",
              "      <td>00:00</td>\n",
              "    </tr>\n",
              "    <tr>\n",
              "      <td>1</td>\n",
              "      <td>288144704.000000</td>\n",
              "      <td>158149760.000000</td>\n",
              "      <td>12575.568359</td>\n",
              "      <td>00:00</td>\n",
              "    </tr>\n",
              "    <tr>\n",
              "      <td>2</td>\n",
              "      <td>9205341184.000000</td>\n",
              "      <td>25893945344.000000</td>\n",
              "      <td>160914.890625</td>\n",
              "      <td>00:00</td>\n",
              "    </tr>\n",
              "    <tr>\n",
              "      <td>3</td>\n",
              "      <td>12249784320.000000</td>\n",
              "      <td>357415808.000000</td>\n",
              "      <td>18905.228516</td>\n",
              "      <td>00:00</td>\n",
              "    </tr>\n",
              "    <tr>\n",
              "      <td>4</td>\n",
              "      <td>25530286080.000000</td>\n",
              "      <td>89434808.000000</td>\n",
              "      <td>9456.764648</td>\n",
              "      <td>00:00</td>\n",
              "    </tr>\n",
              "    <tr>\n",
              "      <td>5</td>\n",
              "      <td>6738661888.000000</td>\n",
              "      <td>655304192.000000</td>\n",
              "      <td>25598.689453</td>\n",
              "      <td>00:00</td>\n",
              "    </tr>\n",
              "    <tr>\n",
              "      <td>6</td>\n",
              "      <td>18157910016.000000</td>\n",
              "      <td>46143260.000000</td>\n",
              "      <td>6792.602539</td>\n",
              "      <td>00:00</td>\n",
              "    </tr>\n",
              "    <tr>\n",
              "      <td>7</td>\n",
              "      <td>4787015168.000000</td>\n",
              "      <td>8387.522461</td>\n",
              "      <td>82.174248</td>\n",
              "      <td>00:00</td>\n",
              "    </tr>\n",
              "    <tr>\n",
              "      <td>8</td>\n",
              "      <td>11566524416.000000</td>\n",
              "      <td>338279520.000000</td>\n",
              "      <td>18392.162109</td>\n",
              "      <td>00:00</td>\n",
              "    </tr>\n",
              "    <tr>\n",
              "      <td>9</td>\n",
              "      <td>3061414912.000000</td>\n",
              "      <td>63249.390625</td>\n",
              "      <td>245.160172</td>\n",
              "      <td>00:00</td>\n",
              "    </tr>\n",
              "    <tr>\n",
              "      <td>10</td>\n",
              "      <td>807840320.000000</td>\n",
              "      <td>8782981.000000</td>\n",
              "      <td>2963.072266</td>\n",
              "      <td>00:00</td>\n",
              "    </tr>\n",
              "    <tr>\n",
              "      <td>11</td>\n",
              "      <td>2978715648.000000</td>\n",
              "      <td>4996.002930</td>\n",
              "      <td>54.542397</td>\n",
              "      <td>00:00</td>\n",
              "    </tr>\n",
              "    <tr>\n",
              "      <td>12</td>\n",
              "      <td>788486144.000000</td>\n",
              "      <td>51356.164062</td>\n",
              "      <td>219.737640</td>\n",
              "      <td>00:00</td>\n",
              "    </tr>\n",
              "    <tr>\n",
              "      <td>13</td>\n",
              "      <td>207840336.000000</td>\n",
              "      <td>11374.184570</td>\n",
              "      <td>97.649696</td>\n",
              "      <td>00:00</td>\n",
              "    </tr>\n",
              "    <tr>\n",
              "      <td>14</td>\n",
              "      <td>54788340.000000</td>\n",
              "      <td>7435.506348</td>\n",
              "      <td>70.454056</td>\n",
              "      <td>00:00</td>\n",
              "    </tr>\n",
              "    <tr>\n",
              "      <td>15</td>\n",
              "      <td>14448012.000000</td>\n",
              "      <td>6022.993652</td>\n",
              "      <td>61.975388</td>\n",
              "      <td>00:00</td>\n",
              "    </tr>\n",
              "    <tr>\n",
              "      <td>16</td>\n",
              "      <td>3811312.750000</td>\n",
              "      <td>3069.913574</td>\n",
              "      <td>39.811424</td>\n",
              "      <td>00:00</td>\n",
              "    </tr>\n",
              "    <tr>\n",
              "      <td>17</td>\n",
              "      <td>1007431.062500</td>\n",
              "      <td>3786.551270</td>\n",
              "      <td>47.833496</td>\n",
              "      <td>00:00</td>\n",
              "    </tr>\n",
              "    <tr>\n",
              "      <td>18</td>\n",
              "      <td>268708.687500</td>\n",
              "      <td>3086.842285</td>\n",
              "      <td>40.055099</td>\n",
              "      <td>00:00</td>\n",
              "    </tr>\n",
              "    <tr>\n",
              "      <td>19</td>\n",
              "      <td>73584.859375</td>\n",
              "      <td>3407.713135</td>\n",
              "      <td>44.143173</td>\n",
              "      <td>00:00</td>\n",
              "    </tr>\n",
              "  </tbody>\n",
              "</table>"
            ],
            "text/plain": [
              "<IPython.core.display.HTML object>"
            ]
          },
          "metadata": {
            "tags": []
          }
        },
        {
          "output_type": "stream",
          "text": [
            "/usr/local/lib/python3.7/dist-packages/fastai/learner.py:175: UserWarning: Using a target size (torch.Size([128])) that is different to the input size (torch.Size([128, 1])). This will likely lead to incorrect results due to broadcasting. Please ensure they have the same size.\n",
            "  self.loss_grad = self.loss_func(self.pred, *self.yb)\n",
            "/usr/local/lib/python3.7/dist-packages/fastai/learner.py:175: UserWarning: Using a target size (torch.Size([103])) that is different to the input size (torch.Size([103, 1])). This will likely lead to incorrect results due to broadcasting. Please ensure they have the same size.\n",
            "  self.loss_grad = self.loss_func(self.pred, *self.yb)\n",
            "/usr/local/lib/python3.7/dist-packages/torch/nn/modules/loss.py:97: UserWarning: Using a target size (torch.Size([128])) that is different to the input size (torch.Size([128, 1])). This will likely lead to incorrect results due to broadcasting. Please ensure they have the same size.\n",
            "  return F.l1_loss(input, target, reduction=self.reduction)\n",
            "/usr/local/lib/python3.7/dist-packages/fastai/learner.py:175: UserWarning: Using a target size (torch.Size([91])) that is different to the input size (torch.Size([91, 1])). This will likely lead to incorrect results due to broadcasting. Please ensure they have the same size.\n",
            "  self.loss_grad = self.loss_func(self.pred, *self.yb)\n",
            "/usr/local/lib/python3.7/dist-packages/torch/nn/modules/loss.py:97: UserWarning: Using a target size (torch.Size([91])) that is different to the input size (torch.Size([91, 1])). This will likely lead to incorrect results due to broadcasting. Please ensure they have the same size.\n",
            "  return F.l1_loss(input, target, reduction=self.reduction)\n"
          ],
          "name": "stderr"
        }
      ]
    },
    {
      "cell_type": "code",
      "metadata": {
        "id": "27JJdWOExGrO"
      },
      "source": [
        ""
      ],
      "execution_count": null,
      "outputs": []
    },
    {
      "cell_type": "code",
      "metadata": {
        "id": "MxOA-rMtxGoR"
      },
      "source": [
        ""
      ],
      "execution_count": null,
      "outputs": []
    },
    {
      "cell_type": "markdown",
      "metadata": {
        "id": "zGNA1fEG3fmN"
      },
      "source": [
        "### Conclusion\n",
        "\n",
        "**Performance of the models with and without Embedding**\n",
        "\n",
        "**MAE of Random Forest without EE = 0.02807**\n",
        "\n",
        "**MAE of Random Forest with EE = 0.021209**\n",
        "\n",
        "**MAE of Neural Network without EE = 0.186**\n",
        "\n",
        "**MAE of Neural Network with EE = 0.451**\n"
      ]
    },
    {
      "cell_type": "markdown",
      "metadata": {
        "id": "rdWtGjm3ub5y"
      },
      "source": [
        "### Further work, \n",
        "\n",
        "- We can apply the same thing in neural network and boosting.\n",
        "  - The problem with implementing in NN is that, after embedding our dataset is a list, we either have to convert that into a** dataframe** to use in fastai or we can create a new neural network using other method, where we pass in list in both cases.\n",
        "  - Boosting is something we can try but which requires hyper parameter tuning, we can try one without that. Just to work with boosting.\n",
        "\n",
        "- But it is better to work on this, maybe after we write a blog on this, it doesnt have to be super detailed in the sense that you have to feel any discomfort, we can work in pomodoro, maybe 1-3 pomodoros a day.\n",
        "- Meanwhile we can work on creating dataloader and learner by ourself. the issue is we do not have much idea on how its done. Maybe we can do that when we learn more about the course like a dataloader or maybe in univ.ai \n",
        "\n",
        "- In between we also have to work on what we have learnt so far, maybe tomorrow. When we start writing the blog after few pomodoro maybe we can work on revision, we can have a look at the notebook questions we created. "
      ]
    },
    {
      "cell_type": "markdown",
      "metadata": {
        "id": "ZTKEAnsG7iyE"
      },
      "source": [
        ""
      ]
    }
  ]
}