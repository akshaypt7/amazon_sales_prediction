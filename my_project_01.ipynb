{
  "nbformat": 4,
  "nbformat_minor": 0,
  "metadata": {
    "colab": {
      "name": "my_project_01",
      "provenance": [],
      "collapsed_sections": [
        "a3rPdE0nXgaN",
        "yJaXd7C8Y4pV",
        "OqDuRS2EixFC",
        "-06Qtn16Q3Gq"
      ],
      "include_colab_link": true
    },
    "kernelspec": {
      "name": "python3",
      "display_name": "Python 3"
    },
    "language_info": {
      "name": "python"
    },
    "accelerator": "GPU"
  },
  "cells": [
    {
      "cell_type": "markdown",
      "metadata": {
        "id": "view-in-github",
        "colab_type": "text"
      },
      "source": [
        "<a href=\"https://colab.research.google.com/github/akshaypt7/amazon_sales_prediction/blob/main/my_project_01.ipynb\" target=\"_parent\"><img src=\"https://colab.research.google.com/assets/colab-badge.svg\" alt=\"Open In Colab\"/></a>"
      ]
    },
    {
      "cell_type": "markdown",
      "metadata": {
        "id": "LTKr6zcJIqcY"
      },
      "source": [
        "### Introduction\n",
        "\n",
        "In this notebook, we will first try out creating a very basic model with the data we have. This is done so that while trying to create a model, we will come across a lot of issues we would have to solve, we will note down these problems and address it in a new note book."
      ]
    },
    {
      "cell_type": "code",
      "metadata": {
        "id": "gsce6bYj1L4a",
        "colab": {
          "base_uri": "https://localhost:8080/"
        },
        "outputId": "f06b5603-a613-4a2d-e56a-d1739cf746ae"
      },
      "source": [
        "#hide\n",
        "!pip install -Uqq fastbook kaggle waterfallcharts treeinterpreter dtreeviz\n",
        "import fastbook\n",
        "fastbook.setup_book()"
      ],
      "execution_count": null,
      "outputs": [
        {
          "output_type": "stream",
          "text": [
            "\u001b[K     |████████████████████████████████| 727kB 23.3MB/s \n",
            "\u001b[K     |████████████████████████████████| 61kB 9.8MB/s \n",
            "\u001b[K     |████████████████████████████████| 1.2MB 43.8MB/s \n",
            "\u001b[K     |████████████████████████████████| 194kB 51.6MB/s \n",
            "\u001b[K     |████████████████████████████████| 51kB 8.8MB/s \n",
            "\u001b[K     |████████████████████████████████| 61kB 9.3MB/s \n",
            "\u001b[K     |████████████████████████████████| 61kB 10.1MB/s \n",
            "\u001b[?25h  Building wheel for waterfallcharts (setup.py) ... \u001b[?25l\u001b[?25hdone\n",
            "  Building wheel for dtreeviz (setup.py) ... \u001b[?25l\u001b[?25hdone\n",
            "Mounted at /content/gdrive\n"
          ],
          "name": "stdout"
        }
      ]
    },
    {
      "cell_type": "code",
      "metadata": {
        "hide_input": false,
        "id": "UiwWjPU41L4g"
      },
      "source": [
        "#hide\n",
        "from fastbook import *\n",
        "# from kaggle import api\n",
        "from pandas.api.types import is_string_dtype, is_numeric_dtype, is_categorical_dtype\n",
        "from fastai.tabular.all import *\n",
        "from sklearn.ensemble import RandomForestRegressor, RandomForestClassifier\n",
        "from sklearn.tree import DecisionTreeRegressor\n",
        "from dtreeviz.trees import *\n",
        "from IPython.display import Image, display_svg, SVG\n",
        "\n",
        "pd.options.display.max_rows = 20\n",
        "pd.options.display.max_columns = 8"
      ],
      "execution_count": null,
      "outputs": []
    },
    {
      "cell_type": "code",
      "metadata": {
        "id": "z-pt33Frb0Tz"
      },
      "source": [
        "import pandas as pd"
      ],
      "execution_count": null,
      "outputs": []
    },
    {
      "cell_type": "code",
      "metadata": {
        "colab": {
          "base_uri": "https://localhost:8080/"
        },
        "id": "Szn3aw0FUQGb",
        "outputId": "345f58bd-1da6-4961-d572-6e5a43483d07"
      },
      "source": [
        "import os\n",
        "files = os.listdir('/content/gdrive/MyDrive/my_project_01')\n"
      ],
      "execution_count": null,
      "outputs": [
        {
          "output_type": "execute_result",
          "data": {
            "text/plain": [
              "39"
            ]
          },
          "metadata": {
            "tags": []
          },
          "execution_count": 25
        }
      ]
    },
    {
      "cell_type": "markdown",
      "metadata": {
        "id": "PlTrCziMdFyN"
      },
      "source": [
        "### Reading files into Dataframes"
      ]
    },
    {
      "cell_type": "code",
      "metadata": {
        "id": "0FcpG4fAZDOy"
      },
      "source": [
        "dict_files = {}\n",
        "for i,file in enumerate(files):\n",
        "  try:\n",
        "    # dict_files[i] = pd.read_csv( '/content/drive/MyDrive/my_project_01/' +str(file),low_memory=False)\n",
        "    dict_files[i] = pd.read_csv( '/content/gdrive/MyDrive/my_project_01/' +str(file),low_memory=False)\n",
        "  except:\n",
        "    # dict_files[i] = pd.read_excel( '/content/drive/MyDrive/my_project_01/' +str(file))\n",
        "    dict_files[i] = pd.read_excel( '/content/gdrive/MyDrive/my_project_01/' +str(file))\n"
      ],
      "execution_count": null,
      "outputs": []
    },
    {
      "cell_type": "markdown",
      "metadata": {
        "id": "nphLqJgF-X9F"
      },
      "source": [
        "Data Details-\n",
        "\n",
        "We are removing all the columns that could create data leakage, like invoice number, transaction type, etc..because these data are only available when sales are made.\n",
        "\n",
        "Here quantity is the dependent variable\n",
        "\n",
        "The columns that we are keeping include : \n",
        "\n",
        "\n",
        "- Order Date\n",
        "- Quantity\n",
        "- Asin\n",
        "- Principal Amount\n",
        "- Item Promo Discount"
      ]
    },
    {
      "cell_type": "markdown",
      "metadata": {
        "id": "Zh9C62EwEu9M"
      },
      "source": [
        "##### Selecting columns\n",
        "\n"
      ]
    },
    {
      "cell_type": "code",
      "metadata": {
        "id": "1sXt06DFCeYL"
      },
      "source": [
        "df_dicts = {}\n",
        "\n",
        "for i in range(len(dict_files)):\n",
        "  df_dicts[i] = dict_files[i][['Order Date','Quantity','Asin','Principal Amount','Item Promo Discount']]\n"
      ],
      "execution_count": null,
      "outputs": []
    },
    {
      "cell_type": "code",
      "metadata": {
        "colab": {
          "base_uri": "https://localhost:8080/",
          "height": 236
        },
        "id": "I0p_4o0WG1Hl",
        "outputId": "d4e2a56b-43a1-441a-863f-734991668696"
      },
      "source": [
        "dict_files[1].head()"
      ],
      "execution_count": null,
      "outputs": [
        {
          "output_type": "execute_result",
          "data": {
            "text/html": [
              "<div>\n",
              "<style scoped>\n",
              "    .dataframe tbody tr th:only-of-type {\n",
              "        vertical-align: middle;\n",
              "    }\n",
              "\n",
              "    .dataframe tbody tr th {\n",
              "        vertical-align: top;\n",
              "    }\n",
              "\n",
              "    .dataframe thead th {\n",
              "        text-align: right;\n",
              "    }\n",
              "</style>\n",
              "<table border=\"1\" class=\"dataframe\">\n",
              "  <thead>\n",
              "    <tr style=\"text-align: right;\">\n",
              "      <th></th>\n",
              "      <th>Seller Gstin</th>\n",
              "      <th>Invoice Number</th>\n",
              "      <th>Invoice Date</th>\n",
              "      <th>Transaction Type</th>\n",
              "      <th>...</th>\n",
              "      <th>Irn Number</th>\n",
              "      <th>Irn Filing Status</th>\n",
              "      <th>Irn Date</th>\n",
              "      <th>Irn Error Code</th>\n",
              "    </tr>\n",
              "  </thead>\n",
              "  <tbody>\n",
              "    <tr>\n",
              "      <th>0</th>\n",
              "      <td>07CJVPA2317N1ZW</td>\n",
              "      <td>IN-SDEE-951</td>\n",
              "      <td>2021-02-01 17:34:28</td>\n",
              "      <td>Shipment</td>\n",
              "      <td>...</td>\n",
              "      <td>NaN</td>\n",
              "      <td>NaN</td>\n",
              "      <td>NaN</td>\n",
              "      <td>NaN</td>\n",
              "    </tr>\n",
              "    <tr>\n",
              "      <th>1</th>\n",
              "      <td>27CJVPA2317N1ZU</td>\n",
              "      <td>IN-BOM5-985</td>\n",
              "      <td>2021-02-04 09:24:18</td>\n",
              "      <td>Shipment</td>\n",
              "      <td>...</td>\n",
              "      <td>NaN</td>\n",
              "      <td>NaN</td>\n",
              "      <td>NaN</td>\n",
              "      <td>NaN</td>\n",
              "    </tr>\n",
              "    <tr>\n",
              "      <th>2</th>\n",
              "      <td>07CJVPA2317N1ZW</td>\n",
              "      <td>IN-SDEE-1000</td>\n",
              "      <td>2021-02-12 01:52:08</td>\n",
              "      <td>Shipment</td>\n",
              "      <td>...</td>\n",
              "      <td>NaN</td>\n",
              "      <td>NaN</td>\n",
              "      <td>NaN</td>\n",
              "      <td>NaN</td>\n",
              "    </tr>\n",
              "    <tr>\n",
              "      <th>3</th>\n",
              "      <td>07CJVPA2317N1ZW</td>\n",
              "      <td>IN-SDEE-1005</td>\n",
              "      <td>2021-02-13 10:36:09</td>\n",
              "      <td>Shipment</td>\n",
              "      <td>...</td>\n",
              "      <td>NaN</td>\n",
              "      <td>NaN</td>\n",
              "      <td>NaN</td>\n",
              "      <td>NaN</td>\n",
              "    </tr>\n",
              "    <tr>\n",
              "      <th>4</th>\n",
              "      <td>07CJVPA2317N1ZW</td>\n",
              "      <td>IN-SDEE-1006</td>\n",
              "      <td>2021-02-13 12:40:33</td>\n",
              "      <td>Shipment</td>\n",
              "      <td>...</td>\n",
              "      <td>NaN</td>\n",
              "      <td>NaN</td>\n",
              "      <td>NaN</td>\n",
              "      <td>NaN</td>\n",
              "    </tr>\n",
              "  </tbody>\n",
              "</table>\n",
              "<p>5 rows × 89 columns</p>\n",
              "</div>"
            ],
            "text/plain": [
              "      Seller Gstin Invoice Number        Invoice Date Transaction Type  ...  \\\n",
              "0  07CJVPA2317N1ZW    IN-SDEE-951 2021-02-01 17:34:28         Shipment  ...   \n",
              "1  27CJVPA2317N1ZU    IN-BOM5-985 2021-02-04 09:24:18         Shipment  ...   \n",
              "2  07CJVPA2317N1ZW   IN-SDEE-1000 2021-02-12 01:52:08         Shipment  ...   \n",
              "3  07CJVPA2317N1ZW   IN-SDEE-1005 2021-02-13 10:36:09         Shipment  ...   \n",
              "4  07CJVPA2317N1ZW   IN-SDEE-1006 2021-02-13 12:40:33         Shipment  ...   \n",
              "\n",
              "  Irn Number  Irn Filing Status Irn Date Irn Error Code  \n",
              "0        NaN                NaN      NaN            NaN  \n",
              "1        NaN                NaN      NaN            NaN  \n",
              "2        NaN                NaN      NaN            NaN  \n",
              "3        NaN                NaN      NaN            NaN  \n",
              "4        NaN                NaN      NaN            NaN  \n",
              "\n",
              "[5 rows x 89 columns]"
            ]
          },
          "metadata": {
            "tags": []
          },
          "execution_count": 31
        }
      ]
    },
    {
      "cell_type": "code",
      "metadata": {
        "colab": {
          "base_uri": "https://localhost:8080/",
          "height": 206
        },
        "id": "1JqwmfHlGAop",
        "outputId": "ca6286e8-71fb-49d3-fda2-8cfdd043eb7c"
      },
      "source": [
        "df_dicts[2].head()"
      ],
      "execution_count": null,
      "outputs": [
        {
          "output_type": "execute_result",
          "data": {
            "text/html": [
              "<div>\n",
              "<style scoped>\n",
              "    .dataframe tbody tr th:only-of-type {\n",
              "        vertical-align: middle;\n",
              "    }\n",
              "\n",
              "    .dataframe tbody tr th {\n",
              "        vertical-align: top;\n",
              "    }\n",
              "\n",
              "    .dataframe thead th {\n",
              "        text-align: right;\n",
              "    }\n",
              "</style>\n",
              "<table border=\"1\" class=\"dataframe\">\n",
              "  <thead>\n",
              "    <tr style=\"text-align: right;\">\n",
              "      <th></th>\n",
              "      <th>Order Date</th>\n",
              "      <th>Quantity</th>\n",
              "      <th>Asin</th>\n",
              "      <th>Principal Amount</th>\n",
              "      <th>Item Promo Discount</th>\n",
              "    </tr>\n",
              "  </thead>\n",
              "  <tbody>\n",
              "    <tr>\n",
              "      <th>0</th>\n",
              "      <td>2020-12-28 15:41:42</td>\n",
              "      <td>1</td>\n",
              "      <td>B07TM3LRVB</td>\n",
              "      <td>1135</td>\n",
              "      <td>0.0</td>\n",
              "    </tr>\n",
              "    <tr>\n",
              "      <th>1</th>\n",
              "      <td>2020-12-25 18:50:21</td>\n",
              "      <td>1</td>\n",
              "      <td>B07TM3LRVB</td>\n",
              "      <td>1135</td>\n",
              "      <td>0.0</td>\n",
              "    </tr>\n",
              "    <tr>\n",
              "      <th>2</th>\n",
              "      <td>2020-12-28 23:01:59</td>\n",
              "      <td>1</td>\n",
              "      <td>B07TM3LRVB</td>\n",
              "      <td>1135</td>\n",
              "      <td>0.0</td>\n",
              "    </tr>\n",
              "    <tr>\n",
              "      <th>3</th>\n",
              "      <td>2020-12-23 10:27:16</td>\n",
              "      <td>1</td>\n",
              "      <td>B07TM3LRVB</td>\n",
              "      <td>1135</td>\n",
              "      <td>0.0</td>\n",
              "    </tr>\n",
              "    <tr>\n",
              "      <th>4</th>\n",
              "      <td>2020-12-18 11:41:24</td>\n",
              "      <td>1</td>\n",
              "      <td>B07TM3LRVB</td>\n",
              "      <td>1135</td>\n",
              "      <td>0.0</td>\n",
              "    </tr>\n",
              "  </tbody>\n",
              "</table>\n",
              "</div>"
            ],
            "text/plain": [
              "           Order Date  Quantity        Asin  Principal Amount  \\\n",
              "0 2020-12-28 15:41:42         1  B07TM3LRVB              1135   \n",
              "1 2020-12-25 18:50:21         1  B07TM3LRVB              1135   \n",
              "2 2020-12-28 23:01:59         1  B07TM3LRVB              1135   \n",
              "3 2020-12-23 10:27:16         1  B07TM3LRVB              1135   \n",
              "4 2020-12-18 11:41:24         1  B07TM3LRVB              1135   \n",
              "\n",
              "   Item Promo Discount  \n",
              "0                  0.0  \n",
              "1                  0.0  \n",
              "2                  0.0  \n",
              "3                  0.0  \n",
              "4                  0.0  "
            ]
          },
          "metadata": {
            "tags": []
          },
          "execution_count": 32
        }
      ]
    },
    {
      "cell_type": "code",
      "metadata": {
        "id": "PnenJxVzGLyC"
      },
      "source": [
        "dep_var = 'Quantity'"
      ],
      "execution_count": null,
      "outputs": []
    },
    {
      "cell_type": "markdown",
      "metadata": {
        "id": "Mn_-kfzEgkr2"
      },
      "source": [
        "#### Converting the Order date into datetime format"
      ]
    },
    {
      "cell_type": "code",
      "metadata": {
        "id": "aA33SNYo_Y19"
      },
      "source": [
        "# concat all df\n",
        "df = pd.DataFrame()\n",
        "for i in range(len(df_dicts)):\n",
        "  # we need to convert the Order date column into date_time\n",
        "  if df_dicts[i]['Order Date'].dtype != 'datetime64[ns]' :\n",
        "    df_copy = df_dicts[i].copy()\n",
        "\n",
        "    df_copy['Order Date'] = pd.to_datetime(df_dicts[i]['Order Date'])\n",
        "\n",
        "    df_dicts[i] = df_copy\n",
        "\n",
        "\n",
        "  df = pd.concat([df , df_dicts[i]])\n"
      ],
      "execution_count": null,
      "outputs": []
    },
    {
      "cell_type": "code",
      "metadata": {
        "colab": {
          "base_uri": "https://localhost:8080/"
        },
        "id": "KjxEDDQLMWCK",
        "outputId": "5033bdd1-1950-4f97-80a2-95c6d4ee40f2"
      },
      "source": [
        "df.dtypes"
      ],
      "execution_count": null,
      "outputs": [
        {
          "output_type": "execute_result",
          "data": {
            "text/plain": [
              "Order Date             datetime64[ns]\n",
              "Quantity                        int64\n",
              "Asin                           object\n",
              "Principal Amount              float64\n",
              "Item Promo Discount           float64\n",
              "dtype: object"
            ]
          },
          "metadata": {
            "tags": []
          },
          "execution_count": 35
        }
      ]
    },
    {
      "cell_type": "code",
      "metadata": {
        "colab": {
          "base_uri": "https://localhost:8080/",
          "height": 206
        },
        "id": "rcVWK9NvCdbf",
        "outputId": "5a0319ca-918d-4b93-d960-5379ab6a0bdf"
      },
      "source": [
        "df.head()"
      ],
      "execution_count": null,
      "outputs": [
        {
          "output_type": "execute_result",
          "data": {
            "text/html": [
              "<div>\n",
              "<style scoped>\n",
              "    .dataframe tbody tr th:only-of-type {\n",
              "        vertical-align: middle;\n",
              "    }\n",
              "\n",
              "    .dataframe tbody tr th {\n",
              "        vertical-align: top;\n",
              "    }\n",
              "\n",
              "    .dataframe thead th {\n",
              "        text-align: right;\n",
              "    }\n",
              "</style>\n",
              "<table border=\"1\" class=\"dataframe\">\n",
              "  <thead>\n",
              "    <tr style=\"text-align: right;\">\n",
              "      <th></th>\n",
              "      <th>Order Date</th>\n",
              "      <th>Quantity</th>\n",
              "      <th>Asin</th>\n",
              "      <th>Principal Amount</th>\n",
              "      <th>Item Promo Discount</th>\n",
              "    </tr>\n",
              "  </thead>\n",
              "  <tbody>\n",
              "    <tr>\n",
              "      <th>0</th>\n",
              "      <td>2021-01-04 12:29:25</td>\n",
              "      <td>1</td>\n",
              "      <td>B07KYFHTGF</td>\n",
              "      <td>1995.0</td>\n",
              "      <td>0.00</td>\n",
              "    </tr>\n",
              "    <tr>\n",
              "      <th>1</th>\n",
              "      <td>2021-01-04 12:29:25</td>\n",
              "      <td>1</td>\n",
              "      <td>B07KYFHTGF</td>\n",
              "      <td>1995.0</td>\n",
              "      <td>0.00</td>\n",
              "    </tr>\n",
              "    <tr>\n",
              "      <th>2</th>\n",
              "      <td>2021-01-08 20:26:01</td>\n",
              "      <td>1</td>\n",
              "      <td>B07TM3LRVB</td>\n",
              "      <td>1135.0</td>\n",
              "      <td>-56.75</td>\n",
              "    </tr>\n",
              "    <tr>\n",
              "      <th>3</th>\n",
              "      <td>2021-01-09 22:11:09</td>\n",
              "      <td>1</td>\n",
              "      <td>B08976V1BZ</td>\n",
              "      <td>1599.0</td>\n",
              "      <td>-79.95</td>\n",
              "    </tr>\n",
              "    <tr>\n",
              "      <th>4</th>\n",
              "      <td>2021-01-11 10:24:45</td>\n",
              "      <td>1</td>\n",
              "      <td>B07TM3LRVB</td>\n",
              "      <td>1135.0</td>\n",
              "      <td>0.00</td>\n",
              "    </tr>\n",
              "  </tbody>\n",
              "</table>\n",
              "</div>"
            ],
            "text/plain": [
              "            Order Date  Quantity        Asin  Principal Amount  \\\n",
              "0  2021-01-04 12:29:25         1  B07KYFHTGF            1995.0   \n",
              "1  2021-01-04 12:29:25         1  B07KYFHTGF            1995.0   \n",
              "2  2021-01-08 20:26:01         1  B07TM3LRVB            1135.0   \n",
              "3  2021-01-09 22:11:09         1  B08976V1BZ            1599.0   \n",
              "4  2021-01-11 10:24:45         1  B07TM3LRVB            1135.0   \n",
              "\n",
              "   Item Promo Discount  \n",
              "0                 0.00  \n",
              "1                 0.00  \n",
              "2               -56.75  \n",
              "3               -79.95  \n",
              "4                 0.00  "
            ]
          },
          "metadata": {
            "tags": []
          },
          "execution_count": 79
        }
      ]
    },
    {
      "cell_type": "markdown",
      "metadata": {
        "id": "4P2wPupNgtZm"
      },
      "source": [
        "##### Adding hour of the day"
      ]
    },
    {
      "cell_type": "markdown",
      "metadata": {
        "id": "96OResMIJmkU"
      },
      "source": [
        "During Purchases in amazon, the purchase time plays a major role."
      ]
    },
    {
      "cell_type": "code",
      "metadata": {
        "id": "TYxwKx0mDm5i"
      },
      "source": [
        "# Adding hour of the day\n",
        "df['hour'] = df['Order Date'].dt.hour"
      ],
      "execution_count": null,
      "outputs": []
    },
    {
      "cell_type": "code",
      "metadata": {
        "colab": {
          "base_uri": "https://localhost:8080/",
          "height": 206
        },
        "id": "bijYyl52JMxa",
        "outputId": "a1feb211-bf0a-41cd-fe0e-6c1992db7052"
      },
      "source": [
        "df.head()"
      ],
      "execution_count": null,
      "outputs": [
        {
          "output_type": "execute_result",
          "data": {
            "text/html": [
              "<div>\n",
              "<style scoped>\n",
              "    .dataframe tbody tr th:only-of-type {\n",
              "        vertical-align: middle;\n",
              "    }\n",
              "\n",
              "    .dataframe tbody tr th {\n",
              "        vertical-align: top;\n",
              "    }\n",
              "\n",
              "    .dataframe thead th {\n",
              "        text-align: right;\n",
              "    }\n",
              "</style>\n",
              "<table border=\"1\" class=\"dataframe\">\n",
              "  <thead>\n",
              "    <tr style=\"text-align: right;\">\n",
              "      <th></th>\n",
              "      <th>Order Date</th>\n",
              "      <th>Quantity</th>\n",
              "      <th>Asin</th>\n",
              "      <th>Principal Amount</th>\n",
              "      <th>Item Promo Discount</th>\n",
              "      <th>hour</th>\n",
              "    </tr>\n",
              "  </thead>\n",
              "  <tbody>\n",
              "    <tr>\n",
              "      <th>0</th>\n",
              "      <td>2021-01-04 12:29:25</td>\n",
              "      <td>1</td>\n",
              "      <td>B07KYFHTGF</td>\n",
              "      <td>1995.0</td>\n",
              "      <td>0.00</td>\n",
              "      <td>12.0</td>\n",
              "    </tr>\n",
              "    <tr>\n",
              "      <th>1</th>\n",
              "      <td>2021-01-04 12:29:25</td>\n",
              "      <td>1</td>\n",
              "      <td>B07KYFHTGF</td>\n",
              "      <td>1995.0</td>\n",
              "      <td>0.00</td>\n",
              "      <td>12.0</td>\n",
              "    </tr>\n",
              "    <tr>\n",
              "      <th>2</th>\n",
              "      <td>2021-01-08 20:26:01</td>\n",
              "      <td>1</td>\n",
              "      <td>B07TM3LRVB</td>\n",
              "      <td>1135.0</td>\n",
              "      <td>-56.75</td>\n",
              "      <td>20.0</td>\n",
              "    </tr>\n",
              "    <tr>\n",
              "      <th>3</th>\n",
              "      <td>2021-01-09 22:11:09</td>\n",
              "      <td>1</td>\n",
              "      <td>B08976V1BZ</td>\n",
              "      <td>1599.0</td>\n",
              "      <td>-79.95</td>\n",
              "      <td>22.0</td>\n",
              "    </tr>\n",
              "    <tr>\n",
              "      <th>4</th>\n",
              "      <td>2021-01-11 10:24:45</td>\n",
              "      <td>1</td>\n",
              "      <td>B07TM3LRVB</td>\n",
              "      <td>1135.0</td>\n",
              "      <td>0.00</td>\n",
              "      <td>10.0</td>\n",
              "    </tr>\n",
              "  </tbody>\n",
              "</table>\n",
              "</div>"
            ],
            "text/plain": [
              "           Order Date  Quantity        Asin  Principal Amount  \\\n",
              "0 2021-01-04 12:29:25         1  B07KYFHTGF            1995.0   \n",
              "1 2021-01-04 12:29:25         1  B07KYFHTGF            1995.0   \n",
              "2 2021-01-08 20:26:01         1  B07TM3LRVB            1135.0   \n",
              "3 2021-01-09 22:11:09         1  B08976V1BZ            1599.0   \n",
              "4 2021-01-11 10:24:45         1  B07TM3LRVB            1135.0   \n",
              "\n",
              "   Item Promo Discount  hour  \n",
              "0                 0.00  12.0  \n",
              "1                 0.00  12.0  \n",
              "2               -56.75  20.0  \n",
              "3               -79.95  22.0  \n",
              "4                 0.00  10.0  "
            ]
          },
          "metadata": {
            "tags": []
          },
          "execution_count": 131
        }
      ]
    },
    {
      "cell_type": "markdown",
      "metadata": {
        "id": "0xKPNeEZg29I"
      },
      "source": [
        "##### Adding date "
      ]
    },
    {
      "cell_type": "code",
      "metadata": {
        "id": "gAFj-KMgMxYF"
      },
      "source": [
        "# Adding day of the day\n",
        "df['date'] = df['Order Date'].dt.date"
      ],
      "execution_count": null,
      "outputs": []
    },
    {
      "cell_type": "code",
      "metadata": {
        "colab": {
          "base_uri": "https://localhost:8080/",
          "height": 206
        },
        "id": "vbtpIskrPqbw",
        "outputId": "a7e9c4e9-66ca-4821-a0a2-568406ffd398"
      },
      "source": [
        "df.head()"
      ],
      "execution_count": null,
      "outputs": [
        {
          "output_type": "execute_result",
          "data": {
            "text/html": [
              "<div>\n",
              "<style scoped>\n",
              "    .dataframe tbody tr th:only-of-type {\n",
              "        vertical-align: middle;\n",
              "    }\n",
              "\n",
              "    .dataframe tbody tr th {\n",
              "        vertical-align: top;\n",
              "    }\n",
              "\n",
              "    .dataframe thead th {\n",
              "        text-align: right;\n",
              "    }\n",
              "</style>\n",
              "<table border=\"1\" class=\"dataframe\">\n",
              "  <thead>\n",
              "    <tr style=\"text-align: right;\">\n",
              "      <th></th>\n",
              "      <th>Order Date</th>\n",
              "      <th>Quantity</th>\n",
              "      <th>Asin</th>\n",
              "      <th>Principal Amount</th>\n",
              "      <th>Item Promo Discount</th>\n",
              "      <th>hour</th>\n",
              "      <th>date</th>\n",
              "    </tr>\n",
              "  </thead>\n",
              "  <tbody>\n",
              "    <tr>\n",
              "      <th>0</th>\n",
              "      <td>2021-01-04 12:29:25</td>\n",
              "      <td>1</td>\n",
              "      <td>B07KYFHTGF</td>\n",
              "      <td>1995.0</td>\n",
              "      <td>0.00</td>\n",
              "      <td>12.0</td>\n",
              "      <td>2021-01-04</td>\n",
              "    </tr>\n",
              "    <tr>\n",
              "      <th>1</th>\n",
              "      <td>2021-01-04 12:29:25</td>\n",
              "      <td>1</td>\n",
              "      <td>B07KYFHTGF</td>\n",
              "      <td>1995.0</td>\n",
              "      <td>0.00</td>\n",
              "      <td>12.0</td>\n",
              "      <td>2021-01-04</td>\n",
              "    </tr>\n",
              "    <tr>\n",
              "      <th>2</th>\n",
              "      <td>2021-01-08 20:26:01</td>\n",
              "      <td>1</td>\n",
              "      <td>B07TM3LRVB</td>\n",
              "      <td>1135.0</td>\n",
              "      <td>-56.75</td>\n",
              "      <td>20.0</td>\n",
              "      <td>2021-01-08</td>\n",
              "    </tr>\n",
              "    <tr>\n",
              "      <th>3</th>\n",
              "      <td>2021-01-09 22:11:09</td>\n",
              "      <td>1</td>\n",
              "      <td>B08976V1BZ</td>\n",
              "      <td>1599.0</td>\n",
              "      <td>-79.95</td>\n",
              "      <td>22.0</td>\n",
              "      <td>2021-01-09</td>\n",
              "    </tr>\n",
              "    <tr>\n",
              "      <th>4</th>\n",
              "      <td>2021-01-11 10:24:45</td>\n",
              "      <td>1</td>\n",
              "      <td>B07TM3LRVB</td>\n",
              "      <td>1135.0</td>\n",
              "      <td>0.00</td>\n",
              "      <td>10.0</td>\n",
              "      <td>2021-01-11</td>\n",
              "    </tr>\n",
              "  </tbody>\n",
              "</table>\n",
              "</div>"
            ],
            "text/plain": [
              "           Order Date  Quantity        Asin  Principal Amount  \\\n",
              "0 2021-01-04 12:29:25         1  B07KYFHTGF            1995.0   \n",
              "1 2021-01-04 12:29:25         1  B07KYFHTGF            1995.0   \n",
              "2 2021-01-08 20:26:01         1  B07TM3LRVB            1135.0   \n",
              "3 2021-01-09 22:11:09         1  B08976V1BZ            1599.0   \n",
              "4 2021-01-11 10:24:45         1  B07TM3LRVB            1135.0   \n",
              "\n",
              "   Item Promo Discount  hour        date  \n",
              "0                 0.00  12.0  2021-01-04  \n",
              "1                 0.00  12.0  2021-01-04  \n",
              "2               -56.75  20.0  2021-01-08  \n",
              "3               -79.95  22.0  2021-01-09  \n",
              "4                 0.00  10.0  2021-01-11  "
            ]
          },
          "metadata": {
            "tags": []
          },
          "execution_count": 134
        }
      ]
    },
    {
      "cell_type": "markdown",
      "metadata": {
        "id": "mdzU0XxfUlnz"
      },
      "source": [
        "##### We can try adding one more column later on whether there was discount or not            "
      ]
    },
    {
      "cell_type": "markdown",
      "metadata": {
        "id": "a3rPdE0nXgaN"
      },
      "source": [
        "#### Creating the final Dataframe\n",
        "\n",
        "We creare the dataframe by grouping the below columns together."
      ]
    },
    {
      "cell_type": "code",
      "metadata": {
        "id": "u5GWe1mTXFYc"
      },
      "source": [
        "df_new = pd.DataFrame(df.groupby(['date','hour' ,'Asin','Principal Amount','Item Promo Discount'])['Quantity'].sum()).reset_index()"
      ],
      "execution_count": null,
      "outputs": []
    },
    {
      "cell_type": "code",
      "metadata": {
        "colab": {
          "base_uri": "https://localhost:8080/",
          "height": 206
        },
        "id": "pArdwIwDYTys",
        "outputId": "30b880df-cc0f-4e68-920c-90520320cc52"
      },
      "source": [
        "df_new.head()"
      ],
      "execution_count": null,
      "outputs": [
        {
          "output_type": "execute_result",
          "data": {
            "text/html": [
              "<div>\n",
              "<style scoped>\n",
              "    .dataframe tbody tr th:only-of-type {\n",
              "        vertical-align: middle;\n",
              "    }\n",
              "\n",
              "    .dataframe tbody tr th {\n",
              "        vertical-align: top;\n",
              "    }\n",
              "\n",
              "    .dataframe thead th {\n",
              "        text-align: right;\n",
              "    }\n",
              "</style>\n",
              "<table border=\"1\" class=\"dataframe\">\n",
              "  <thead>\n",
              "    <tr style=\"text-align: right;\">\n",
              "      <th></th>\n",
              "      <th>date</th>\n",
              "      <th>hour</th>\n",
              "      <th>Asin</th>\n",
              "      <th>Principal Amount</th>\n",
              "      <th>Item Promo Discount</th>\n",
              "      <th>Quantity</th>\n",
              "    </tr>\n",
              "  </thead>\n",
              "  <tbody>\n",
              "    <tr>\n",
              "      <th>0</th>\n",
              "      <td>2019-07-07</td>\n",
              "      <td>22.0</td>\n",
              "      <td>B07KYFHTGF</td>\n",
              "      <td>2099.0</td>\n",
              "      <td>0.0</td>\n",
              "      <td>1</td>\n",
              "    </tr>\n",
              "    <tr>\n",
              "      <th>1</th>\n",
              "      <td>2019-07-16</td>\n",
              "      <td>11.0</td>\n",
              "      <td>B07S8NC532</td>\n",
              "      <td>2099.0</td>\n",
              "      <td>0.0</td>\n",
              "      <td>1</td>\n",
              "    </tr>\n",
              "    <tr>\n",
              "      <th>2</th>\n",
              "      <td>2019-07-16</td>\n",
              "      <td>17.0</td>\n",
              "      <td>B07KYFHTGF</td>\n",
              "      <td>2099.0</td>\n",
              "      <td>0.0</td>\n",
              "      <td>1</td>\n",
              "    </tr>\n",
              "    <tr>\n",
              "      <th>3</th>\n",
              "      <td>2019-07-23</td>\n",
              "      <td>18.0</td>\n",
              "      <td>B07KYFHTGF</td>\n",
              "      <td>2099.0</td>\n",
              "      <td>0.0</td>\n",
              "      <td>1</td>\n",
              "    </tr>\n",
              "    <tr>\n",
              "      <th>4</th>\n",
              "      <td>2019-07-28</td>\n",
              "      <td>20.0</td>\n",
              "      <td>B07TM3LRVB</td>\n",
              "      <td>1295.0</td>\n",
              "      <td>0.0</td>\n",
              "      <td>1</td>\n",
              "    </tr>\n",
              "  </tbody>\n",
              "</table>\n",
              "</div>"
            ],
            "text/plain": [
              "         date  hour        Asin  Principal Amount  Item Promo Discount  \\\n",
              "0  2019-07-07  22.0  B07KYFHTGF            2099.0                  0.0   \n",
              "1  2019-07-16  11.0  B07S8NC532            2099.0                  0.0   \n",
              "2  2019-07-16  17.0  B07KYFHTGF            2099.0                  0.0   \n",
              "3  2019-07-23  18.0  B07KYFHTGF            2099.0                  0.0   \n",
              "4  2019-07-28  20.0  B07TM3LRVB            1295.0                  0.0   \n",
              "\n",
              "   Quantity  \n",
              "0         1  \n",
              "1         1  \n",
              "2         1  \n",
              "3         1  \n",
              "4         1  "
            ]
          },
          "metadata": {
            "tags": []
          },
          "execution_count": 40
        }
      ]
    },
    {
      "cell_type": "code",
      "metadata": {
        "colab": {
          "base_uri": "https://localhost:8080/"
        },
        "id": "K0o4LpvDYXBZ",
        "outputId": "89a71b29-c3bb-4c9d-e36e-9d14d5ebee63"
      },
      "source": [
        "df_new.shape"
      ],
      "execution_count": null,
      "outputs": [
        {
          "output_type": "execute_result",
          "data": {
            "text/plain": [
              "(11199, 6)"
            ]
          },
          "metadata": {
            "tags": []
          },
          "execution_count": 41
        }
      ]
    },
    {
      "cell_type": "markdown",
      "metadata": {
        "id": "DEdJqh5zhQGh"
      },
      "source": [
        "##### Adding all the date information"
      ]
    },
    {
      "cell_type": "code",
      "metadata": {
        "id": "EEVwakyxYaqs"
      },
      "source": [
        "df_new = add_datepart(df_new,'date')"
      ],
      "execution_count": null,
      "outputs": []
    },
    {
      "cell_type": "code",
      "metadata": {
        "colab": {
          "base_uri": "https://localhost:8080/"
        },
        "id": "Qp1Bn_6veQqC",
        "outputId": "9399886b-4939-4b8d-e5f7-6f42536be111"
      },
      "source": [
        "df_new.columns"
      ],
      "execution_count": null,
      "outputs": [
        {
          "output_type": "execute_result",
          "data": {
            "text/plain": [
              "Index(['hour', 'Asin', 'Principal Amount', 'Item Promo Discount', 'Quantity',\n",
              "       'Year', 'Month', 'Week', 'Day', 'Dayofweek', 'Dayofyear',\n",
              "       'Is_month_end', 'Is_month_start', 'Is_quarter_end', 'Is_quarter_start',\n",
              "       'Is_year_end', 'Is_year_start', 'Elapsed'],\n",
              "      dtype='object')"
            ]
          },
          "metadata": {
            "tags": []
          },
          "execution_count": 177
        }
      ]
    },
    {
      "cell_type": "code",
      "metadata": {
        "colab": {
          "base_uri": "https://localhost:8080/"
        },
        "id": "p8wbUkkHYtxg",
        "outputId": "5764fdaf-6627-48d0-e099-299abde5e5e7"
      },
      "source": [
        "df_new.shape"
      ],
      "execution_count": null,
      "outputs": [
        {
          "output_type": "execute_result",
          "data": {
            "text/plain": [
              "(11199, 18)"
            ]
          },
          "metadata": {
            "tags": []
          },
          "execution_count": 43
        }
      ]
    },
    {
      "cell_type": "markdown",
      "metadata": {
        "id": "yJaXd7C8Y4pV"
      },
      "source": [
        "#### Creating Tabular pandas"
      ]
    },
    {
      "cell_type": "code",
      "metadata": {
        "id": "xECOwtV4ZO1u"
      },
      "source": [
        "dep_var = 'Quantity'"
      ],
      "execution_count": null,
      "outputs": []
    },
    {
      "cell_type": "code",
      "metadata": {
        "id": "DNu7t8WfY_8K"
      },
      "source": [
        "procs = [Categorify, FillMissing]"
      ],
      "execution_count": null,
      "outputs": []
    },
    {
      "cell_type": "markdown",
      "metadata": {
        "id": "AThePLn2haUO"
      },
      "source": [
        "cont_cat_split makes the split of the features based on the second para we give in, the number of levels"
      ]
    },
    {
      "cell_type": "code",
      "metadata": {
        "id": "YZNJiREUZGPc"
      },
      "source": [
        "cont, cat = cont_cat_split(df_new,1,dep_var= dep_var )"
      ],
      "execution_count": null,
      "outputs": []
    },
    {
      "cell_type": "code",
      "metadata": {
        "colab": {
          "base_uri": "https://localhost:8080/"
        },
        "id": "-TOuhiqbZnHo",
        "outputId": "a1dd4c6e-f246-4ed4-aa55-873158c7b539"
      },
      "source": [
        "cat"
      ],
      "execution_count": null,
      "outputs": [
        {
          "output_type": "execute_result",
          "data": {
            "text/plain": [
              "['Asin',\n",
              " 'Is_month_end',\n",
              " 'Is_month_start',\n",
              " 'Is_quarter_end',\n",
              " 'Is_quarter_start',\n",
              " 'Is_year_end',\n",
              " 'Is_year_start']"
            ]
          },
          "metadata": {
            "tags": []
          },
          "execution_count": 185
        }
      ]
    },
    {
      "cell_type": "markdown",
      "metadata": {
        "id": "Lc38c0maaQu_"
      },
      "source": [
        "##### We might have to change the continous and categorical variables, which we will do in the next notebook."
      ]
    },
    {
      "cell_type": "code",
      "metadata": {
        "colab": {
          "base_uri": "https://localhost:8080/"
        },
        "id": "0agtgycUZlDQ",
        "outputId": "d4a07f3e-0f05-406f-cf1c-19953292eb3f"
      },
      "source": [
        "cont"
      ],
      "execution_count": null,
      "outputs": [
        {
          "output_type": "execute_result",
          "data": {
            "text/plain": [
              "['hour',\n",
              " 'Principal Amount',\n",
              " 'Item Promo Discount',\n",
              " 'Year',\n",
              " 'Month',\n",
              " 'Week',\n",
              " 'Day',\n",
              " 'Dayofweek',\n",
              " 'Dayofyear',\n",
              " 'Elapsed']"
            ]
          },
          "metadata": {
            "tags": []
          },
          "execution_count": 186
        }
      ]
    },
    {
      "cell_type": "code",
      "metadata": {
        "id": "TjQ4V8Jaavar"
      },
      "source": [
        "# splits\n",
        "max_date = max(df['date'])\n",
        "min_date = min(df['date'])\n",
        "max_date , min_date\n",
        "\n",
        "# lets take 3 months\n",
        "\n",
        "# the last date in feb 2021 so lets take dec 2020,jan and feb as the test set \n",
        "condition = (df_new.Year < 2020) | (df_new.Month < 12)\n",
        "train_idx = np.where(condition)[0]\n",
        "valid_idx = np.where(~condition)[0]"
      ],
      "execution_count": null,
      "outputs": []
    },
    {
      "cell_type": "code",
      "metadata": {
        "id": "L2hJ8fWogCpP"
      },
      "source": [
        "splits = (list(train_idx), list(valid_idx))"
      ],
      "execution_count": null,
      "outputs": []
    },
    {
      "cell_type": "code",
      "metadata": {
        "colab": {
          "base_uri": "https://localhost:8080/"
        },
        "id": "Mmq6-mKWfEPx",
        "outputId": "741df7ad-b2b5-44f6-ed7d-93d6aaab4190"
      },
      "source": [
        "df_new.columns"
      ],
      "execution_count": null,
      "outputs": [
        {
          "output_type": "execute_result",
          "data": {
            "text/plain": [
              "Index(['hour', 'Asin', 'Principal Amount', 'Item Promo Discount', 'Quantity',\n",
              "       'Year', 'Month', 'Week', 'Day', 'Dayofweek', 'Dayofyear',\n",
              "       'Is_month_end', 'Is_month_start', 'Is_quarter_end', 'Is_quarter_start',\n",
              "       'Is_year_end', 'Is_year_start', 'Elapsed'],\n",
              "      dtype='object')"
            ]
          },
          "metadata": {
            "tags": []
          },
          "execution_count": 189
        }
      ]
    },
    {
      "cell_type": "code",
      "metadata": {
        "id": "6a5qQojIYvs5"
      },
      "source": [
        "to = TabularPandas(df_new, procs = procs, cat_names = cat, cont_names = cont, y_names= dep_var, splits = splits)"
      ],
      "execution_count": null,
      "outputs": []
    },
    {
      "cell_type": "code",
      "metadata": {
        "colab": {
          "base_uri": "https://localhost:8080/",
          "height": 167
        },
        "id": "IgXjNhATgMj9",
        "outputId": "4ec0b325-6786-48d7-8c8e-91125ffee1a3"
      },
      "source": [
        "to.show(2)"
      ],
      "execution_count": null,
      "outputs": [
        {
          "output_type": "display_data",
          "data": {
            "text/html": [
              "<table border=\"1\" class=\"dataframe\">\n",
              "  <thead>\n",
              "    <tr style=\"text-align: right;\">\n",
              "      <th></th>\n",
              "      <th>Asin</th>\n",
              "      <th>Is_month_end</th>\n",
              "      <th>Is_month_start</th>\n",
              "      <th>Is_quarter_end</th>\n",
              "      <th>Is_quarter_start</th>\n",
              "      <th>Is_year_end</th>\n",
              "      <th>Is_year_start</th>\n",
              "      <th>hour</th>\n",
              "      <th>Principal Amount</th>\n",
              "      <th>Item Promo Discount</th>\n",
              "      <th>Year</th>\n",
              "      <th>Month</th>\n",
              "      <th>Week</th>\n",
              "      <th>Day</th>\n",
              "      <th>Dayofweek</th>\n",
              "      <th>Dayofyear</th>\n",
              "      <th>Elapsed</th>\n",
              "      <th>Quantity</th>\n",
              "    </tr>\n",
              "  </thead>\n",
              "  <tbody>\n",
              "    <tr>\n",
              "      <th>0</th>\n",
              "      <td>B07KYFHTGF</td>\n",
              "      <td>False</td>\n",
              "      <td>False</td>\n",
              "      <td>False</td>\n",
              "      <td>False</td>\n",
              "      <td>False</td>\n",
              "      <td>False</td>\n",
              "      <td>22.0</td>\n",
              "      <td>2099.0</td>\n",
              "      <td>0.0</td>\n",
              "      <td>2019</td>\n",
              "      <td>7</td>\n",
              "      <td>27</td>\n",
              "      <td>7</td>\n",
              "      <td>6</td>\n",
              "      <td>188</td>\n",
              "      <td>1.562458e+09</td>\n",
              "      <td>1</td>\n",
              "    </tr>\n",
              "    <tr>\n",
              "      <th>1</th>\n",
              "      <td>B07S8NC532</td>\n",
              "      <td>False</td>\n",
              "      <td>False</td>\n",
              "      <td>False</td>\n",
              "      <td>False</td>\n",
              "      <td>False</td>\n",
              "      <td>False</td>\n",
              "      <td>11.0</td>\n",
              "      <td>2099.0</td>\n",
              "      <td>0.0</td>\n",
              "      <td>2019</td>\n",
              "      <td>7</td>\n",
              "      <td>29</td>\n",
              "      <td>16</td>\n",
              "      <td>1</td>\n",
              "      <td>197</td>\n",
              "      <td>1.563235e+09</td>\n",
              "      <td>1</td>\n",
              "    </tr>\n",
              "  </tbody>\n",
              "</table>"
            ],
            "text/plain": [
              "<IPython.core.display.HTML object>"
            ]
          },
          "metadata": {
            "tags": []
          }
        }
      ]
    },
    {
      "cell_type": "code",
      "metadata": {
        "colab": {
          "base_uri": "https://localhost:8080/",
          "height": 159
        },
        "id": "64Wu-ts8hHrs",
        "outputId": "99a0c685-4f41-4f79-8bc0-23a032a288ab"
      },
      "source": [
        "to.items.head(2)"
      ],
      "execution_count": null,
      "outputs": [
        {
          "output_type": "execute_result",
          "data": {
            "text/html": [
              "<div>\n",
              "<style scoped>\n",
              "    .dataframe tbody tr th:only-of-type {\n",
              "        vertical-align: middle;\n",
              "    }\n",
              "\n",
              "    .dataframe tbody tr th {\n",
              "        vertical-align: top;\n",
              "    }\n",
              "\n",
              "    .dataframe thead th {\n",
              "        text-align: right;\n",
              "    }\n",
              "</style>\n",
              "<table border=\"1\" class=\"dataframe\">\n",
              "  <thead>\n",
              "    <tr style=\"text-align: right;\">\n",
              "      <th></th>\n",
              "      <th>hour</th>\n",
              "      <th>Asin</th>\n",
              "      <th>Principal Amount</th>\n",
              "      <th>Item Promo Discount</th>\n",
              "      <th>...</th>\n",
              "      <th>Is_quarter_start</th>\n",
              "      <th>Is_year_end</th>\n",
              "      <th>Is_year_start</th>\n",
              "      <th>Elapsed</th>\n",
              "    </tr>\n",
              "  </thead>\n",
              "  <tbody>\n",
              "    <tr>\n",
              "      <th>0</th>\n",
              "      <td>22.0</td>\n",
              "      <td>2</td>\n",
              "      <td>2099.0</td>\n",
              "      <td>0.0</td>\n",
              "      <td>...</td>\n",
              "      <td>1</td>\n",
              "      <td>1</td>\n",
              "      <td>1</td>\n",
              "      <td>1.562458e+09</td>\n",
              "    </tr>\n",
              "    <tr>\n",
              "      <th>1</th>\n",
              "      <td>11.0</td>\n",
              "      <td>6</td>\n",
              "      <td>2099.0</td>\n",
              "      <td>0.0</td>\n",
              "      <td>...</td>\n",
              "      <td>1</td>\n",
              "      <td>1</td>\n",
              "      <td>1</td>\n",
              "      <td>1.563235e+09</td>\n",
              "    </tr>\n",
              "  </tbody>\n",
              "</table>\n",
              "<p>2 rows × 18 columns</p>\n",
              "</div>"
            ],
            "text/plain": [
              "   hour  Asin  Principal Amount  Item Promo Discount  ...  Is_quarter_start  \\\n",
              "0  22.0     2            2099.0                  0.0  ...                 1   \n",
              "1  11.0     6            2099.0                  0.0  ...                 1   \n",
              "\n",
              "   Is_year_end  Is_year_start       Elapsed  \n",
              "0            1              1  1.562458e+09  \n",
              "1            1              1  1.563235e+09  \n",
              "\n",
              "[2 rows x 18 columns]"
            ]
          },
          "metadata": {
            "tags": []
          },
          "execution_count": 199
        }
      ]
    },
    {
      "cell_type": "markdown",
      "metadata": {
        "id": "2NZpahX6hrXT"
      },
      "source": [
        "##### Saving the Tabular Pandas"
      ]
    },
    {
      "cell_type": "code",
      "metadata": {
        "id": "Rx0_STaPhgIP"
      },
      "source": [
        "# save_pickle('/content/gdrive/MyDrive/bluebook/to.pkl',to)"
      ],
      "execution_count": null,
      "outputs": []
    },
    {
      "cell_type": "code",
      "metadata": {
        "id": "rfbzRnRJLWGR"
      },
      "source": [
        "\n",
        "import pickle"
      ],
      "execution_count": null,
      "outputs": []
    },
    {
      "cell_type": "code",
      "metadata": {
        "id": "qPwYC_7zO25U"
      },
      "source": [
        "file = open('/content/gdrive/MyDrive/bluebook/to.pkl', 'rb')\n",
        "\n",
        "# dump information to that file\n",
        "to = pickle.load(file)\n",
        "\n",
        "# close the file\n",
        "file.close()"
      ],
      "execution_count": null,
      "outputs": []
    },
    {
      "cell_type": "code",
      "metadata": {
        "colab": {
          "base_uri": "https://localhost:8080/",
          "height": 167
        },
        "id": "ICcDH_LcKzjO",
        "outputId": "e9aa1bdd-4b7e-4b84-afc3-5cb70e02553a"
      },
      "source": [
        "to.show(2)"
      ],
      "execution_count": null,
      "outputs": [
        {
          "output_type": "display_data",
          "data": {
            "text/html": [
              "<table border=\"1\" class=\"dataframe\">\n",
              "  <thead>\n",
              "    <tr style=\"text-align: right;\">\n",
              "      <th></th>\n",
              "      <th>Asin</th>\n",
              "      <th>Is_month_end</th>\n",
              "      <th>Is_month_start</th>\n",
              "      <th>Is_quarter_end</th>\n",
              "      <th>Is_quarter_start</th>\n",
              "      <th>Is_year_end</th>\n",
              "      <th>Is_year_start</th>\n",
              "      <th>hour</th>\n",
              "      <th>Principal Amount</th>\n",
              "      <th>Item Promo Discount</th>\n",
              "      <th>Year</th>\n",
              "      <th>Month</th>\n",
              "      <th>Week</th>\n",
              "      <th>Day</th>\n",
              "      <th>Dayofweek</th>\n",
              "      <th>Dayofyear</th>\n",
              "      <th>Elapsed</th>\n",
              "      <th>Quantity</th>\n",
              "    </tr>\n",
              "  </thead>\n",
              "  <tbody>\n",
              "    <tr>\n",
              "      <th>0</th>\n",
              "      <td>B07KYFHTGF</td>\n",
              "      <td>False</td>\n",
              "      <td>False</td>\n",
              "      <td>False</td>\n",
              "      <td>False</td>\n",
              "      <td>False</td>\n",
              "      <td>False</td>\n",
              "      <td>22.0</td>\n",
              "      <td>2099.0</td>\n",
              "      <td>0.0</td>\n",
              "      <td>2019</td>\n",
              "      <td>7</td>\n",
              "      <td>27</td>\n",
              "      <td>7</td>\n",
              "      <td>6</td>\n",
              "      <td>188</td>\n",
              "      <td>1.562458e+09</td>\n",
              "      <td>1</td>\n",
              "    </tr>\n",
              "    <tr>\n",
              "      <th>1</th>\n",
              "      <td>B07S8NC532</td>\n",
              "      <td>False</td>\n",
              "      <td>False</td>\n",
              "      <td>False</td>\n",
              "      <td>False</td>\n",
              "      <td>False</td>\n",
              "      <td>False</td>\n",
              "      <td>11.0</td>\n",
              "      <td>2099.0</td>\n",
              "      <td>0.0</td>\n",
              "      <td>2019</td>\n",
              "      <td>7</td>\n",
              "      <td>29</td>\n",
              "      <td>16</td>\n",
              "      <td>1</td>\n",
              "      <td>197</td>\n",
              "      <td>1.563235e+09</td>\n",
              "      <td>1</td>\n",
              "    </tr>\n",
              "  </tbody>\n",
              "</table>"
            ],
            "text/plain": [
              "<IPython.core.display.HTML object>"
            ]
          },
          "metadata": {
            "tags": []
          }
        }
      ]
    },
    {
      "cell_type": "markdown",
      "metadata": {
        "id": "OqDuRS2EixFC"
      },
      "source": [
        "#### Train and test set"
      ]
    },
    {
      "cell_type": "code",
      "metadata": {
        "id": "y5IPWUHwinIf"
      },
      "source": [
        "xs,y = to.train.xs,to.train.y\n",
        "valid_xs,valid_y = to.valid.xs,to.valid.y"
      ],
      "execution_count": null,
      "outputs": []
    },
    {
      "cell_type": "code",
      "metadata": {
        "colab": {
          "base_uri": "https://localhost:8080/"
        },
        "id": "7OclfC0Xkxcy",
        "outputId": "d4ded04e-770f-4e36-a077-85527bbb157f"
      },
      "source": [
        "xs.shape, valid_xs.shape"
      ],
      "execution_count": null,
      "outputs": [
        {
          "output_type": "execute_result",
          "data": {
            "text/plain": [
              "((10520, 17), (679, 17))"
            ]
          },
          "metadata": {
            "tags": []
          },
          "execution_count": 9
        }
      ]
    },
    {
      "cell_type": "markdown",
      "metadata": {
        "id": "RrLKyOlOKO_S"
      },
      "source": [
        "### Root Mean Sqaure Error"
      ]
    },
    {
      "cell_type": "code",
      "metadata": {
        "id": "qqpHditRizip"
      },
      "source": [
        "def r_mse(pred,y): return round(math.sqrt(((pred-y)**2).mean()), 6)\n",
        "def m_rmse(m, xs, y): return r_mse(m.predict(xs), y)"
      ],
      "execution_count": null,
      "outputs": []
    },
    {
      "cell_type": "code",
      "metadata": {
        "colab": {
          "base_uri": "https://localhost:8080/"
        },
        "id": "Tt6E3coli3Fu",
        "outputId": "7d4d2762-6603-486e-a99c-cd8b6d531883"
      },
      "source": [
        "m = DecisionTreeRegressor(min_samples_leaf=25)\n",
        "m.fit(to.train.xs, to.train.y)\n",
        "m_rmse(m, xs, y), m_rmse(m, valid_xs, valid_y)"
      ],
      "execution_count": null,
      "outputs": [
        {
          "output_type": "execute_result",
          "data": {
            "text/plain": [
              "(0.870206, 0.748436)"
            ]
          },
          "metadata": {
            "tags": []
          },
          "execution_count": 71
        }
      ]
    },
    {
      "cell_type": "markdown",
      "metadata": {
        "id": "QeWUSPxgKWZi"
      },
      "source": [
        "### Random Forest"
      ]
    },
    {
      "cell_type": "code",
      "metadata": {
        "id": "JO9ZRIVmgiyI"
      },
      "source": [
        "def rf(xs, y, n_estimators=40, max_samples=2000,\n",
        "       max_features=0.5, min_samples_leaf=5, **kwargs):\n",
        "    return RandomForestRegressor(n_jobs=-1, n_estimators=n_estimators,\n",
        "        max_samples=max_samples, max_features=max_features,\n",
        "        min_samples_leaf=min_samples_leaf, oob_score=True).fit(xs, y)"
      ],
      "execution_count": null,
      "outputs": []
    },
    {
      "cell_type": "code",
      "metadata": {
        "id": "Ngqm-reeVU9s"
      },
      "source": [
        "# Creating RandomForestClassifier\n",
        "def rf_classify(xs, y, n_estimators=40, max_samples=2000,\n",
        "       max_features=0.5, min_samples_leaf=5, **kwargs):\n",
        "    return RandomForestClassifier(n_jobs=-1, n_estimators=n_estimators,\n",
        "        max_samples=max_samples, max_features=max_features,\n",
        "        min_samples_leaf=min_samples_leaf, oob_score=True).fit(xs, y)"
      ],
      "execution_count": null,
      "outputs": []
    },
    {
      "cell_type": "code",
      "metadata": {
        "id": "utFztD9sV1AY"
      },
      "source": [
        "m_classify = rf_classify(xs,y)"
      ],
      "execution_count": null,
      "outputs": []
    },
    {
      "cell_type": "code",
      "metadata": {
        "colab": {
          "base_uri": "https://localhost:8080/"
        },
        "id": "fC5u91LaWUiI",
        "outputId": "36f354f5-58f4-4a30-c167-6680d5748c7a"
      },
      "source": [
        "m_rmse(m_classify, xs, y), m_rmse(m_classify, valid_xs, valid_y)"
      ],
      "execution_count": null,
      "outputs": [
        {
          "output_type": "execute_result",
          "data": {
            "text/plain": [
              "(0.705087, 0.827545)"
            ]
          },
          "metadata": {
            "tags": []
          },
          "execution_count": 14
        }
      ]
    },
    {
      "cell_type": "markdown",
      "metadata": {
        "id": "cxlujibGKcM3"
      },
      "source": [
        "#### How the predictions look like"
      ]
    },
    {
      "cell_type": "code",
      "metadata": {
        "colab": {
          "base_uri": "https://localhost:8080/"
        },
        "id": "VsrnreJ7WcTq",
        "outputId": "c75566af-d19e-4b6e-f6c9-af34d6c3633a"
      },
      "source": [
        "m_classify.predict(valid_xs)"
      ],
      "execution_count": null,
      "outputs": [
        {
          "output_type": "execute_result",
          "data": {
            "text/plain": [
              "array([1, 1, 1, 1, 1, 1, 1, 2, 1, 1, 1, 1, 1, 1, 1, 1, 1, 1, 1, 1, 1, 1, 1, 1, 1, 1, 1, 1, 1, 1, 1, 1, 1, 1, 1, 1, 1, 1, 1, 1, 1, 1, 1, 1, 1, 1, 1, 1, 1, 1, 1, 1, 1, 1, 1, 1, 1, 1, 1, 1, 1, 1, 1, 1,\n",
              "       1, 1, 1, 1, 1, 1, 1, 1, 1, 1, 1, 1, 1, 1, 1, 1, 1, 1, 1, 1, 1, 1, 1, 1, 1, 1, 1, 1, 2, 1, 1, 1, 1, 1, 1, 1, 1, 1, 1, 1, 1, 1, 1, 1, 1, 1, 1, 2, 1, 1, 1, 1, 1, 1, 1, 1, 1, 1, 1, 1, 2, 1, 1, 1,\n",
              "       1, 1, 1, 1, 1, 1, 1, 1, 1, 1, 1, 1, 1, 1, 1, 1, 1, 1, 1, 1, 1, 1, 1, 1, 1, 1, 1, 1, 2, 1, 1, 1, 1, 1, 1, 1, 1, 1, 1, 3, 1, 1, 1, 1, 1, 1, 1, 1, 1, 1, 1, 1, 1, 1, 1, 1, 1, 1, 1, 1, 1, 1, 2, 1,\n",
              "       1, 1, 1, 1, 1, 1, 1, 1, 1, 1, 1, 1, 1, 1, 1, 1, 1, 1, 1, 1, 1, 1, 2, 1, 1, 1, 1, 1, 1, 1, 1, 1, 1, 1, 1, 1, 1, 1, 1, 1, 1, 1, 1, 1, 1, 1, 1, 1, 1, 2, 1, 1, 1, 1, 1, 1, 1, 1, 1, 1, 1, 1, 1, 1,\n",
              "       1, 1, 1, 1, 1, 1, 1, 1, 1, 1, 1, 1, 1, 1, 1, 1, 1, 1, 1, 1, 1, 1, 1, 1, 1, 1, 1, 1, 1, 1, 1, 1, 1, 1, 1, 1, 1, 1, 1, 1, 1, 1, 1, 3, 1, 1, 1, 1, 1, 2, 1, 1, 1, 1, 1, 1, 3, 1, 1, 1, 1, 1, 1, 1,\n",
              "       1, 1, 1, 1, 1, 1, 1, 1, 1, 1, 1, 1, 1, 1, 3, 1, 1, 1, 1, 1, 1, 1, 1, 1, 1, 2, 1, 1, 1, 1, 1, 1, 1, 1, 1, 1, 1, 1, 1, 1, 1, 1, 1, 1, 1, 1, 1, 1, 1, 1, 1, 1, 1, 1, 1, 1, 1, 1, 2, 1, 1, 1, 1, 1,\n",
              "       1, 1, 1, 1, 1, 1, 1, 1, 1, 1, 1, 1, 1, 1, 1, 1, 1, 1, 1, 1, 1, 1, 1, 1, 1, 1, 1, 1, 1, 1, 1, 1, 1, 1, 2, 1, 1, 1, 1, 2, 1, 1, 1, 1, 1, 1, 1, 1, 1, 1, 1, 1, 1, 1, 2, 1, 1, 1, 1, 1, 1, 1, 1, 1,\n",
              "       1, 1, 1, 1, 1, 1, 2, 1, 1, 1, 1, 1, 1, 1, 1, 1, 1, 1, 1, 1, 1, 1, 1, 2, 1, 1, 1, 1, 1, 1, 1, 1, 1, 1, 1, 1, 1, 1, 2, 1, 1, 1, 1, 1, 1, 1, 1, 1, 1, 1, 2, 1, 2, 1, 1, 1, 1, 1, 1, 1, 1, 1, 1, 1,\n",
              "       2, 1, 1, 1, 1, 1, 1, 1, 2, 1, 1, 1, 1, 1, 1, 1, 1, 1, 2, 1, 1, 1, 1, 1, 1, 1, 1, 1, 1, 1, 1, 1, 2, 1, 1, 1, 1, 1, 1, 1, 1, 1, 1, 1, 1, 1, 1, 1, 1, 1, 1, 1, 1, 1, 1, 1, 2, 1, 1, 1, 1, 1, 1, 1,\n",
              "       1, 1, 1, 1, 1, 1, 1, 1, 1, 1, 1, 1, 1, 1, 1, 2, 1, 1, 1, 1, 1, 1, 1, 1, 1, 1, 1, 1, 1, 1, 1, 1, 1, 1, 1, 2, 1, 1, 1, 1, 1, 1, 1, 1, 1, 1, 1, 1, 1, 1, 1, 1, 1, 1, 1, 1, 1, 1, 1, 1, 1, 1, 1, 1,\n",
              "       2, 1, 1, 1, 1, 1, 1, 1, 1, 1, 1, 1, 1, 1, 1, 1, 1, 1, 1, 1, 1, 1, 1, 1, 1, 1, 1, 1, 1, 1, 1, 1, 1, 2, 1, 1, 1, 1, 1], dtype=int8)"
            ]
          },
          "metadata": {
            "tags": []
          },
          "execution_count": 15
        }
      ]
    },
    {
      "cell_type": "code",
      "metadata": {
        "colab": {
          "base_uri": "https://localhost:8080/"
        },
        "id": "IX7Er7AWXWQg",
        "outputId": "da496bee-3d3e-4365-ab89-b932c185b6c3"
      },
      "source": [
        "valid_y"
      ],
      "execution_count": null,
      "outputs": [
        {
          "output_type": "execute_result",
          "data": {
            "text/plain": [
              "7370     1\n",
              "7371     1\n",
              "7372     1\n",
              "7373     1\n",
              "7374     1\n",
              "        ..\n",
              "11194    1\n",
              "11195    1\n",
              "11196    1\n",
              "11197    1\n",
              "11198    1\n",
              "Name: Quantity, Length: 679, dtype: int8"
            ]
          },
          "metadata": {
            "tags": []
          },
          "execution_count": 17
        }
      ]
    },
    {
      "cell_type": "code",
      "metadata": {
        "id": "wM9TxM5jgiyJ"
      },
      "source": [
        "m = rf(xs, y);"
      ],
      "execution_count": null,
      "outputs": []
    },
    {
      "cell_type": "markdown",
      "metadata": {
        "id": "--5LCp7lKio9"
      },
      "source": [
        "##### M_RMSE of the model"
      ]
    },
    {
      "cell_type": "code",
      "metadata": {
        "colab": {
          "base_uri": "https://localhost:8080/"
        },
        "id": "HIqVVNBqjI1n",
        "outputId": "d898708d-eea9-4259-cf86-d4751fe71770"
      },
      "source": [
        "m_rmse(m, xs, y), m_rmse(m, valid_xs, valid_y)"
      ],
      "execution_count": null,
      "outputs": [
        {
          "output_type": "execute_result",
          "data": {
            "text/plain": [
              "(0.870171, 0.724714)"
            ]
          },
          "metadata": {
            "tags": []
          },
          "execution_count": 74
        }
      ]
    },
    {
      "cell_type": "code",
      "metadata": {
        "id": "9PM0nLb0jUvp"
      },
      "source": [
        ""
      ],
      "execution_count": null,
      "outputs": []
    },
    {
      "cell_type": "code",
      "metadata": {
        "id": "z8FlfcUogiyK"
      },
      "source": [
        "preds = np.stack([t.predict(valid_xs) for t in m.estimators_])"
      ],
      "execution_count": null,
      "outputs": []
    },
    {
      "cell_type": "code",
      "metadata": {
        "id": "o8elD8qygiyL",
        "colab": {
          "base_uri": "https://localhost:8080/"
        },
        "outputId": "dc1082b1-be96-4a9c-e190-37bf4d502df0"
      },
      "source": [
        "r_mse(preds.mean(0), valid_y)"
      ],
      "execution_count": null,
      "outputs": [
        {
          "output_type": "execute_result",
          "data": {
            "text/plain": [
              "0.724714"
            ]
          },
          "metadata": {
            "tags": []
          },
          "execution_count": 214
        }
      ]
    },
    {
      "cell_type": "code",
      "metadata": {
        "colab": {
          "base_uri": "https://localhost:8080/",
          "height": 268
        },
        "id": "Z2eytLzSjcFP",
        "outputId": "7c6de934-5759-408b-cff7-74b1aa12a416"
      },
      "source": [
        "plt.plot([r_mse(preds[:i+1].mean(0), valid_y) for i in range(40)]);"
      ],
      "execution_count": null,
      "outputs": [
        {
          "output_type": "display_data",
          "data": {
            "image/png": "[encoded data removed]",
            "text/plain": [
              "<Figure size 432x288 with 1 Axes>"
            ]
          },
          "metadata": {
            "tags": [],
            "needs_background": "light"
          }
        }
      ]
    },
    {
      "cell_type": "code",
      "metadata": {
        "colab": {
          "base_uri": "https://localhost:8080/"
        },
        "id": "yieYSrcqjg-y",
        "outputId": "b599f19a-20b9-49e6-e746-1a0350020b83"
      },
      "source": [
        "r_mse(m.oob_prediction_, y)"
      ],
      "execution_count": null,
      "outputs": [
        {
          "output_type": "execute_result",
          "data": {
            "text/plain": [
              "0.910529"
            ]
          },
          "metadata": {
            "tags": []
          },
          "execution_count": 216
        }
      ]
    },
    {
      "cell_type": "markdown",
      "metadata": {
        "id": "XWY7vXQOKreR"
      },
      "source": [
        "#### Feature Importance"
      ]
    },
    {
      "cell_type": "code",
      "metadata": {
        "id": "T91cgziBgiyU"
      },
      "source": [
        "def rf_feat_importance(m, df):\n",
        "    return pd.DataFrame({'cols':df.columns, 'imp':m.feature_importances_}\n",
        "                       ).sort_values('imp', ascending=False)"
      ],
      "execution_count": null,
      "outputs": []
    },
    {
      "cell_type": "code",
      "metadata": {
        "id": "BC7ONu_FgiyU",
        "colab": {
          "base_uri": "https://localhost:8080/",
          "height": 363
        },
        "outputId": "384ced4f-0f36-41c1-edc9-110ab5e30aa4"
      },
      "source": [
        "fi = rf_feat_importance(m, xs)\n",
        "fi[:10]"
      ],
      "execution_count": null,
      "outputs": [
        {
          "output_type": "execute_result",
          "data": {
            "text/html": [
              "<div>\n",
              "<style scoped>\n",
              "    .dataframe tbody tr th:only-of-type {\n",
              "        vertical-align: middle;\n",
              "    }\n",
              "\n",
              "    .dataframe tbody tr th {\n",
              "        vertical-align: top;\n",
              "    }\n",
              "\n",
              "    .dataframe thead th {\n",
              "        text-align: right;\n",
              "    }\n",
              "</style>\n",
              "<table border=\"1\" class=\"dataframe\">\n",
              "  <thead>\n",
              "    <tr style=\"text-align: right;\">\n",
              "      <th></th>\n",
              "      <th>cols</th>\n",
              "      <th>imp</th>\n",
              "    </tr>\n",
              "  </thead>\n",
              "  <tbody>\n",
              "    <tr>\n",
              "      <th>8</th>\n",
              "      <td>Principal Amount</td>\n",
              "      <td>0.301418</td>\n",
              "    </tr>\n",
              "    <tr>\n",
              "      <th>7</th>\n",
              "      <td>hour</td>\n",
              "      <td>0.139414</td>\n",
              "    </tr>\n",
              "    <tr>\n",
              "      <th>16</th>\n",
              "      <td>Elapsed</td>\n",
              "      <td>0.122433</td>\n",
              "    </tr>\n",
              "    <tr>\n",
              "      <th>15</th>\n",
              "      <td>Dayofyear</td>\n",
              "      <td>0.115888</td>\n",
              "    </tr>\n",
              "    <tr>\n",
              "      <th>13</th>\n",
              "      <td>Day</td>\n",
              "      <td>0.093677</td>\n",
              "    </tr>\n",
              "    <tr>\n",
              "      <th>0</th>\n",
              "      <td>Asin</td>\n",
              "      <td>0.065416</td>\n",
              "    </tr>\n",
              "    <tr>\n",
              "      <th>14</th>\n",
              "      <td>Dayofweek</td>\n",
              "      <td>0.064194</td>\n",
              "    </tr>\n",
              "    <tr>\n",
              "      <th>12</th>\n",
              "      <td>Week</td>\n",
              "      <td>0.058535</td>\n",
              "    </tr>\n",
              "    <tr>\n",
              "      <th>11</th>\n",
              "      <td>Month</td>\n",
              "      <td>0.018391</td>\n",
              "    </tr>\n",
              "    <tr>\n",
              "      <th>9</th>\n",
              "      <td>Item Promo Discount</td>\n",
              "      <td>0.011592</td>\n",
              "    </tr>\n",
              "  </tbody>\n",
              "</table>\n",
              "</div>"
            ],
            "text/plain": [
              "                   cols       imp\n",
              "8      Principal Amount  0.301418\n",
              "7                  hour  0.139414\n",
              "16              Elapsed  0.122433\n",
              "15            Dayofyear  0.115888\n",
              "13                  Day  0.093677\n",
              "0                  Asin  0.065416\n",
              "14            Dayofweek  0.064194\n",
              "12                 Week  0.058535\n",
              "11                Month  0.018391\n",
              "9   Item Promo Discount  0.011592"
            ]
          },
          "metadata": {
            "tags": []
          },
          "execution_count": 219
        }
      ]
    },
    {
      "cell_type": "code",
      "metadata": {
        "id": "4OwjMf3QgiyV",
        "colab": {
          "base_uri": "https://localhost:8080/",
          "height": 431
        },
        "outputId": "5aeea734-f325-42aa-c535-5f8fcf31f4e0"
      },
      "source": [
        "def plot_fi(fi):\n",
        "    return fi.plot('cols', 'imp', 'barh', figsize=(12,7), legend=False)\n",
        "\n",
        "plot_fi(fi[:30]);"
      ],
      "execution_count": null,
      "outputs": [
        {
          "output_type": "display_data",
          "data": {
            "image/png": "[encoded data removed]",
            "text/plain": [
              "<Figure size 864x504 with 1 Axes>"
            ]
          },
          "metadata": {
            "tags": [],
            "needs_background": "light"
          }
        }
      ]
    },
    {
      "cell_type": "markdown",
      "metadata": {
        "id": "9QjALtrRLPO7"
      },
      "source": [
        "##### Looking at the get predictions"
      ]
    },
    {
      "cell_type": "markdown",
      "metadata": {
        "id": "BsaxEyk_OFFf"
      },
      "source": [
        "We try to work by chaning the Threshold. lets see what will happen when we say that above 1.4 can be considered as 2 and above 2.4 as 3"
      ]
    },
    {
      "cell_type": "code",
      "metadata": {
        "id": "fy0HJn_Oj2i3",
        "colab": {
          "base_uri": "https://localhost:8080/"
        },
        "outputId": "97d8f6fb-a2b0-443f-889e-e07e62eab815"
      },
      "source": [
        "predictions = m.predict(valid_xs)\n",
        "\n"
      ],
      "execution_count": null,
      "outputs": [
        {
          "output_type": "execute_result",
          "data": {
            "text/plain": [
              "array([1.1300496 , 1.14819444, 1.53545184, 1.57196429, 1.3169219 , 1.71105159, 1.67456349, 2.28889881, 1.60021825, 1.33059343])"
            ]
          },
          "metadata": {
            "tags": []
          },
          "execution_count": 81
        }
      ]
    },
    {
      "cell_type": "code",
      "metadata": {
        "id": "2znkYo_nOmdH"
      },
      "source": [
        "new_predictions = np.rint(predictions)"
      ],
      "execution_count": null,
      "outputs": []
    },
    {
      "cell_type": "code",
      "metadata": {
        "id": "B_x1-rLyOmZf"
      },
      "source": [
        "def r_mse(pred,y): return round(math.sqrt(((pred-y)**2).mean()), 6)\n",
        "def m_rmse(m, xs, y): return r_mse(m.predict(xs), y)"
      ],
      "execution_count": null,
      "outputs": []
    },
    {
      "cell_type": "code",
      "metadata": {
        "colab": {
          "base_uri": "https://localhost:8080/"
        },
        "id": "oNhDvVgePzoc",
        "outputId": "df52dead-e49d-435b-ee0b-1ad662df401f"
      },
      "source": [
        "m.predict(xs)"
      ],
      "execution_count": null,
      "outputs": [
        {
          "output_type": "execute_result",
          "data": {
            "text/plain": [
              "array([1.43736201, 1.3419246 , 1.26100379, ..., 1.29860841, 1.1625947 , 1.38383256])"
            ]
          },
          "metadata": {
            "tags": []
          },
          "execution_count": 86
        }
      ]
    },
    {
      "cell_type": "code",
      "metadata": {
        "colab": {
          "base_uri": "https://localhost:8080/"
        },
        "id": "WM84Y0INRUqb",
        "outputId": "b7acf0b5-c47f-4bf8-c687-f029eb5591ff"
      },
      "source": [
        "m_rmse(m, valid_xs,valid_y)"
      ],
      "execution_count": null,
      "outputs": [
        {
          "output_type": "execute_result",
          "data": {
            "text/plain": [
              "0.724714"
            ]
          },
          "metadata": {
            "tags": []
          },
          "execution_count": 95
        }
      ]
    },
    {
      "cell_type": "code",
      "metadata": {
        "colab": {
          "base_uri": "https://localhost:8080/"
        },
        "id": "J_d52ALbOmTz",
        "outputId": "c461d8d2-543f-4dd6-9283-5fb66017d81c"
      },
      "source": [
        "r_mse(new_predictions,valid_y)"
      ],
      "execution_count": null,
      "outputs": [
        {
          "output_type": "execute_result",
          "data": {
            "text/plain": [
              "0.819497"
            ]
          },
          "metadata": {
            "tags": []
          },
          "execution_count": 94
        }
      ]
    },
    {
      "cell_type": "markdown",
      "metadata": {
        "id": "-06Qtn16Q3Gq"
      },
      "source": [
        "#### Looking at Redundant Features"
      ]
    },
    {
      "cell_type": "code",
      "metadata": {
        "colab": {
          "base_uri": "https://localhost:8080/",
          "height": 374
        },
        "id": "KAu97ydvLXLx",
        "outputId": "afdf31ac-e793-4334-9533-d6f6bbcfec61"
      },
      "source": [
        "cluster_columns(xs)"
      ],
      "execution_count": null,
      "outputs": [
        {
          "output_type": "display_data",
          "data": {
            "image/png": "[encoded data removed]",
            "text/plain": [
              "<Figure size 720x432 with 1 Axes>"
            ]
          },
          "metadata": {
            "tags": [],
            "needs_background": "light"
          }
        }
      ]
    },
    {
      "cell_type": "code",
      "metadata": {
        "id": "ki1BvNHyNgOm"
      },
      "source": [
        ""
      ],
      "execution_count": null,
      "outputs": []
    }
  ]
}