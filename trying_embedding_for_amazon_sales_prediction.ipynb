{
  "nbformat": 4,
  "nbformat_minor": 0,
  "metadata": {
    "colab": {
      "name": "trying embedding for amazon_sales_prediction.ipynb",
      "provenance": [],
      "authorship_tag": "ABX9TyMCyFJ1ZQfVKlxN8Y1uDZmP",
      "include_colab_link": true
    },
    "kernelspec": {
      "name": "python3",
      "display_name": "Python 3"
    },
    "language_info": {
      "name": "python"
    }
  },
  "cells": [
    {
      "cell_type": "markdown",
      "metadata": {
        "id": "view-in-github",
        "colab_type": "text"
      },
      "source": [
        "<a href=\"https://colab.research.google.com/github/akshaypt7/amazon_sales_prediction/blob/main/trying_embedding_for_amazon_sales_prediction.ipynb\" target=\"_parent\"><img src=\"https://colab.research.google.com/assets/colab-badge.svg\" alt=\"Open In Colab\"/></a>"
      ]
    },
    {
      "cell_type": "code",
      "metadata": {
        "id": "40247roboK0P"
      },
      "source": [
        ""
      ],
      "execution_count": null,
      "outputs": []
    },
    {
      "cell_type": "code",
      "metadata": {
        "id": "AOf7-glAqKQD",
        "colab": {
          "base_uri": "https://localhost:8080/"
        },
        "outputId": "d534408d-de00-418a-e520-0913e30d1558"
      },
      "source": [
        "!pip install -Uqq fastbook\n",
        "import fastbook\n",
        "fastbook.setup_book()"
      ],
      "execution_count": 1,
      "outputs": [
        {
          "output_type": "stream",
          "text": [
            "\u001b[K     |████████████████████████████████| 720 kB 5.3 MB/s \n",
            "\u001b[K     |████████████████████████████████| 1.2 MB 34.7 MB/s \n",
            "\u001b[K     |████████████████████████████████| 46 kB 3.2 MB/s \n",
            "\u001b[K     |████████████████████████████████| 188 kB 53.9 MB/s \n",
            "\u001b[K     |████████████████████████████████| 53 kB 1.7 MB/s \n",
            "\u001b[K     |████████████████████████████████| 51 kB 193 kB/s \n",
            "\u001b[?25hMounted at /content/gdrive\n"
          ],
          "name": "stdout"
        }
      ]
    },
    {
      "cell_type": "code",
      "metadata": {
        "id": "CMc_wTu9apCs"
      },
      "source": [
        "#hide\n",
        "from fastbook import *\n",
        "# from kaggle import api\n",
        "from pandas.api.types import is_string_dtype, is_numeric_dtype, is_categorical_dtype\n",
        "from fastai.tabular.all import *\n",
        "from sklearn.ensemble import RandomForestRegressor, RandomForestClassifier\n",
        "from sklearn.tree import DecisionTreeRegressor\n",
        "# from dtreeviz.trees import *\n",
        "from IPython.display import Image, display_svg, SVG\n",
        "\n",
        "pd.options.display.max_rows = 20\n",
        "pd.options.display.max_columns = 8"
      ],
      "execution_count": 2,
      "outputs": []
    },
    {
      "cell_type": "code",
      "metadata": {
        "id": "q26gA0_jd4-C"
      },
      "source": [
        "from sklearn.model_selection import ParameterGrid\n",
        "from keras.models import Sequential\n",
        "from keras.models import Model as KerasModel\n",
        "from keras.layers import Input, Dense, Activation, Reshape\n",
        "from keras.layers import Concatenate\n",
        "from keras.layers import Dense, Flatten, Dropout, Input, Embedding, Reshape\n",
        "from keras.layers import concatenate\n",
        "from sklearn.ensemble import RandomForestRegressor\n",
        "from sklearn import linear_model\n",
        "import pickle\n",
        "import csv\n",
        "from datetime import datetime\n",
        "from sklearn import preprocessing\n",
        "from keras.callbacks import ModelCheckpoint\n",
        "import xgboost as xgb\n",
        "from sklearn.preprocessing import OneHotEncoder\n",
        "%matplotlib inline\n",
        "\n",
        "from sklearn.model_selection import train_test_split\n",
        "import math\n",
        "import pandas as pd"
      ],
      "execution_count": 3,
      "outputs": []
    },
    {
      "cell_type": "code",
      "metadata": {
        "id": "hrSVr08wZYGu"
      },
      "source": [
        "infile = open('/content/gdrive/MyDrive/bluebook/df_main.pkl','rb')\n",
        "df_main = pickle.load(infile)"
      ],
      "execution_count": 37,
      "outputs": []
    },
    {
      "cell_type": "code",
      "metadata": {
        "id": "MIW-uPJ5ahf5"
      },
      "source": [
        "df_main = add_datepart(df_main,'date')"
      ],
      "execution_count": 38,
      "outputs": []
    },
    {
      "cell_type": "code",
      "metadata": {
        "id": "LvpLxHx_dkUB"
      },
      "source": [
        ""
      ],
      "execution_count": 6,
      "outputs": []
    },
    {
      "cell_type": "code",
      "metadata": {
        "id": "1FiybRXQphHz"
      },
      "source": [
        ""
      ],
      "execution_count": null,
      "outputs": []
    },
    {
      "cell_type": "code",
      "metadata": {
        "id": "HM10uhszhO_H"
      },
      "source": [
        "cat = ['Asin',\n",
        " 'Is_month_end',\n",
        " 'Is_month_start',\n",
        " 'Is_quarter_end',\n",
        " 'Is_quarter_start',\n",
        " 'Is_year_end',\n",
        " 'Is_year_start',\n",
        " 'hour','Month','Week', 'Day','Dayofweek','Dayofyear']"
      ],
      "execution_count": 7,
      "outputs": []
    },
    {
      "cell_type": "code",
      "metadata": {
        "id": "PLVFHWR1g0S9"
      },
      "source": [
        "from sklearn.model_selection import train_test_split\n",
        "from sklearn.preprocessing import OrdinalEncoder"
      ],
      "execution_count": 8,
      "outputs": []
    },
    {
      "cell_type": "code",
      "metadata": {
        "id": "XXYHFhuLjIE5"
      },
      "source": [
        "enc = OrdinalEncoder()\n",
        "enc.fit(df_main[cat])\n",
        "df_main[cat]= enc.transform(df_main[cat])"
      ],
      "execution_count": 39,
      "outputs": []
    },
    {
      "cell_type": "code",
      "metadata": {
        "id": "A5dnKBUL2RBl"
      },
      "source": [
        "condition = (df_main.Year < 2020) | (df_main.Month < 8)\n",
        "train_idx = np.where(condition)[0]\n",
        "valid_idx = np.where(~condition)[0]"
      ],
      "execution_count": 40,
      "outputs": []
    },
    {
      "cell_type": "code",
      "metadata": {
        "id": "Z-2n3PIXhxv7"
      },
      "source": [
        "# X_train, X_test, y_train, y_test = train_test_split(df_main.drop(['Quantity'],axis=1), df_main['Quantity'], test_size=0.1, random_state=42)"
      ],
      "execution_count": 17,
      "outputs": []
    },
    {
      "cell_type": "code",
      "metadata": {
        "id": "J3lBx8b-2X_h"
      },
      "source": [
        "X_train = df_main.drop(['Quantity'],axis=1).iloc[train_idx]\n",
        "y_train = df_main['Quantity']\n",
        "\n",
        "X_valid = df_main.drop(['Quantity'],axis=1).iloc[valid_idx]\n",
        "y_valid = df_main['Quantity']"
      ],
      "execution_count": 41,
      "outputs": []
    },
    {
      "cell_type": "code",
      "metadata": {
        "colab": {
          "base_uri": "https://localhost:8080/"
        },
        "id": "75lfRZAIp7Aa",
        "outputId": "6b13c89a-16ea-4b52-c09e-a2bce1b27594"
      },
      "source": [
        "X_train.shape, X_valid.shape"
      ],
      "execution_count": 42,
      "outputs": [
        {
          "output_type": "execute_result",
          "data": {
            "text/plain": [
              "((8423, 18), (2523, 18))"
            ]
          },
          "metadata": {
            "tags": []
          },
          "execution_count": 42
        }
      ]
    },
    {
      "cell_type": "code",
      "metadata": {
        "id": "FSHYySxrqA7v"
      },
      "source": [
        ""
      ],
      "execution_count": null,
      "outputs": []
    },
    {
      "cell_type": "code",
      "metadata": {
        "id": "8d5qWaqQbMKH"
      },
      "source": [
        "# embedding for ASiN\n",
        "n_unique_asins = df_main.Asin.nunique()\n",
        "n_dim_asins = int(math.sqrt(n_unique_asins))\n",
        "\n",
        "\n",
        "input_asin = Input(shape=(1,))\n",
        "output_asin = Embedding(input_dim = n_unique_asins, output_dim= n_dim_asins, name='asin')(input_asin)\n",
        "output_asin = Reshape(target_shape=(n_dim_asins,))(output_asin)"
      ],
      "execution_count": 22,
      "outputs": []
    },
    {
      "cell_type": "code",
      "metadata": {
        "id": "riLKsL6-irQU"
      },
      "source": [
        "# embedding for hour\n",
        "n_unique_hour = df_main.hour.nunique()\n",
        "n_dim_hours = int(math.sqrt(n_unique_hour))\n",
        "\n",
        "input_hour = Input(shape=(1,))\n",
        "output_hour = Embedding(input_dim= n_unique_hour, output_dim=n_dim_hours,name='hours')(input_hour)\n",
        "output_hour = Reshape( target_shape= (n_dim_hours,))(output_hour)"
      ],
      "execution_count": 23,
      "outputs": []
    },
    {
      "cell_type": "code",
      "metadata": {
        "id": "I7tiImyTirMY"
      },
      "source": [
        "# day_of week\n",
        "n_unique_day_of_week = df_main['Dayofweek'].nunique()\n",
        "n_dim_dayofweek = 3\n",
        "\n",
        "input_dayofweek = Input(shape=(1,))\n",
        "output_dayofweek = Embedding(input_dim= n_unique_day_of_week, output_dim=n_dim_dayofweek,name='dayofweek')(input_dayofweek)\n",
        "output_dayofweek = Reshape( target_shape= (n_dim_dayofweek,))(output_dayofweek)"
      ],
      "execution_count": 24,
      "outputs": []
    },
    {
      "cell_type": "code",
      "metadata": {
        "id": "Nt5uDqWHirIb"
      },
      "source": [
        "# Month\n",
        "n_unique_month = df_main['Month'].nunique()\n",
        "n_dim_month = 7\n",
        "\n",
        "input_month = Input(shape=(1,))\n",
        "output_month = Embedding(input_dim= n_unique_month, output_dim=n_dim_month,name='month')(input_month)\n",
        "output_month = Reshape( target_shape= (n_dim_month,))(output_month)"
      ],
      "execution_count": 25,
      "outputs": []
    },
    {
      "cell_type": "code",
      "metadata": {
        "id": "_eJf4XtbmL9N"
      },
      "source": [
        "# Day (1-31)\n",
        "n_unique_day = df_main['Day'].nunique()\n",
        "n_dim_day = int(math.sqrt(n_unique_day))\n",
        "\n",
        "input_day = Input(shape=(1,))\n",
        "output_day= Embedding(input_dim= n_unique_day, output_dim=n_dim_day,name='day')(input_day)\n",
        "output_day = Reshape( target_shape= (n_dim_day,))(output_day)"
      ],
      "execution_count": 26,
      "outputs": []
    },
    {
      "cell_type": "code",
      "metadata": {
        "id": "xVce8z3CmL39"
      },
      "source": [
        "# Week (1-53)\n",
        "\n",
        "n_unique_week = df_main['Week'].nunique()\n",
        "n_dim_week = 10\n",
        "\n",
        "input_week = Input(shape=(1,))\n",
        "output_week= Embedding(input_dim= n_unique_week, output_dim=n_dim_week,name='week')(input_week)\n",
        "output_week = Reshape( target_shape= (n_dim_week,))(output_week)\n"
      ],
      "execution_count": 27,
      "outputs": []
    },
    {
      "cell_type": "code",
      "metadata": {
        "id": "Lv1_xdTiq_c-"
      },
      "source": [
        ""
      ],
      "execution_count": null,
      "outputs": []
    },
    {
      "cell_type": "code",
      "metadata": {
        "id": "1OdOFAOAoPXj"
      },
      "source": [
        "input_layers = [input_asin, input_hour, input_dayofweek, input_month, input_day, input_week ]\n",
        "output_layers = [output_asin, output_hour, output_dayofweek, output_month, output_day, output_week ] \n",
        "model = Concatenate()(output_layers)"
      ],
      "execution_count": 28,
      "outputs": []
    },
    {
      "cell_type": "code",
      "metadata": {
        "id": "crpMY7iJoPU9"
      },
      "source": [
        "\n",
        "model = Dense(1000, kernel_initializer='uniform')(model)\n",
        "model = Activation('relu')(model)\n",
        "\n",
        "model = Dense(500, kernel_initializer='uniform')(model)\n",
        "model = Activation('relu')(model)\n",
        "\n",
        "model = Dense(1)(model)\n",
        "model = Activation('sigmoid')(model)"
      ],
      "execution_count": 29,
      "outputs": []
    },
    {
      "cell_type": "code",
      "metadata": {
        "colab": {
          "base_uri": "https://localhost:8080/"
        },
        "id": "5ZR2Q1YMbqpv",
        "outputId": "d108b2c2-4a92-4270-d460-c0838674d957"
      },
      "source": [
        "modelNN_emb = KerasModel(inputs=input_layers, outputs=model)\n",
        "modelNN_emb.summary()"
      ],
      "execution_count": 30,
      "outputs": [
        {
          "output_type": "stream",
          "text": [
            "Model: \"model\"\n",
            "__________________________________________________________________________________________________\n",
            "Layer (type)                    Output Shape         Param #     Connected to                     \n",
            "==================================================================================================\n",
            "input_1 (InputLayer)            [(None, 1)]          0                                            \n",
            "__________________________________________________________________________________________________\n",
            "input_2 (InputLayer)            [(None, 1)]          0                                            \n",
            "__________________________________________________________________________________________________\n",
            "input_3 (InputLayer)            [(None, 1)]          0                                            \n",
            "__________________________________________________________________________________________________\n",
            "input_4 (InputLayer)            [(None, 1)]          0                                            \n",
            "__________________________________________________________________________________________________\n",
            "input_5 (InputLayer)            [(None, 1)]          0                                            \n",
            "__________________________________________________________________________________________________\n",
            "input_6 (InputLayer)            [(None, 1)]          0                                            \n",
            "__________________________________________________________________________________________________\n",
            "asin (Embedding)                (None, 1, 6)         276         input_1[0][0]                    \n",
            "__________________________________________________________________________________________________\n",
            "hours (Embedding)               (None, 1, 4)         96          input_2[0][0]                    \n",
            "__________________________________________________________________________________________________\n",
            "dayofweek (Embedding)           (None, 1, 3)         21          input_3[0][0]                    \n",
            "__________________________________________________________________________________________________\n",
            "month (Embedding)               (None, 1, 7)         84          input_4[0][0]                    \n",
            "__________________________________________________________________________________________________\n",
            "day (Embedding)                 (None, 1, 5)         155         input_5[0][0]                    \n",
            "__________________________________________________________________________________________________\n",
            "week (Embedding)                (None, 1, 10)        530         input_6[0][0]                    \n",
            "__________________________________________________________________________________________________\n",
            "reshape (Reshape)               (None, 6)            0           asin[0][0]                       \n",
            "__________________________________________________________________________________________________\n",
            "reshape_1 (Reshape)             (None, 4)            0           hours[0][0]                      \n",
            "__________________________________________________________________________________________________\n",
            "reshape_2 (Reshape)             (None, 3)            0           dayofweek[0][0]                  \n",
            "__________________________________________________________________________________________________\n",
            "reshape_3 (Reshape)             (None, 7)            0           month[0][0]                      \n",
            "__________________________________________________________________________________________________\n",
            "reshape_4 (Reshape)             (None, 5)            0           day[0][0]                        \n",
            "__________________________________________________________________________________________________\n",
            "reshape_5 (Reshape)             (None, 10)           0           week[0][0]                       \n",
            "__________________________________________________________________________________________________\n",
            "concatenate (Concatenate)       (None, 35)           0           reshape[0][0]                    \n",
            "                                                                 reshape_1[0][0]                  \n",
            "                                                                 reshape_2[0][0]                  \n",
            "                                                                 reshape_3[0][0]                  \n",
            "                                                                 reshape_4[0][0]                  \n",
            "                                                                 reshape_5[0][0]                  \n",
            "__________________________________________________________________________________________________\n",
            "dense (Dense)                   (None, 1000)         36000       concatenate[0][0]                \n",
            "__________________________________________________________________________________________________\n",
            "activation (Activation)         (None, 1000)         0           dense[0][0]                      \n",
            "__________________________________________________________________________________________________\n",
            "dense_1 (Dense)                 (None, 500)          500500      activation[0][0]                 \n",
            "__________________________________________________________________________________________________\n",
            "activation_1 (Activation)       (None, 500)          0           dense_1[0][0]                    \n",
            "__________________________________________________________________________________________________\n",
            "dense_2 (Dense)                 (None, 1)            501         activation_1[0][0]               \n",
            "__________________________________________________________________________________________________\n",
            "activation_2 (Activation)       (None, 1)            0           dense_2[0][0]                    \n",
            "==================================================================================================\n",
            "Total params: 538,163\n",
            "Trainable params: 538,163\n",
            "Non-trainable params: 0\n",
            "__________________________________________________________________________________________________\n"
          ],
          "name": "stdout"
        }
      ]
    },
    {
      "cell_type": "code",
      "metadata": {
        "id": "l2whd_GcrKkr"
      },
      "source": [
        ""
      ],
      "execution_count": null,
      "outputs": []
    },
    {
      "cell_type": "code",
      "metadata": {
        "colab": {
          "base_uri": "https://localhost:8080/"
        },
        "id": "0y9T4iN9iKQF",
        "outputId": "6bb28764-7c28-42c6-8934-8661031f05ed"
      },
      "source": [
        "\n",
        "\n",
        "from tensorflow.keras.optimizers import Adam\n",
        "opt =  Adam(lr=0.05)\n",
        "modelNN_emb.compile(loss='mae', optimizer=opt, metrics=['mae'])\n",
        "\n"
      ],
      "execution_count": 31,
      "outputs": [
        {
          "output_type": "stream",
          "text": [
            "/usr/local/lib/python3.7/dist-packages/tensorflow/python/keras/optimizer_v2/optimizer_v2.py:375: UserWarning: The `lr` argument is deprecated, use `learning_rate` instead.\n",
            "  \"The `lr` argument is deprecated, use `learning_rate` instead.\")\n"
          ],
          "name": "stderr"
        }
      ]
    },
    {
      "cell_type": "code",
      "metadata": {
        "colab": {
          "base_uri": "https://localhost:8080/"
        },
        "id": "aKxmjYpDrSJT",
        "outputId": "c3412f49-9b41-434f-b86d-cccef4ade1e9"
      },
      "source": [
        "X_train.columns"
      ],
      "execution_count": 32,
      "outputs": [
        {
          "output_type": "execute_result",
          "data": {
            "text/plain": [
              "Index(['Asin', 'Item Promo Discount', 'price', 'hour', 'Invoice Amount',\n",
              "       'Year', 'Month', 'Week', 'Day', 'Dayofweek', 'Dayofyear',\n",
              "       'Is_month_end', 'Is_month_start', 'Is_quarter_end', 'Is_quarter_start',\n",
              "       'Is_year_end', 'Is_year_start', 'Elapsed'],\n",
              "      dtype='object')"
            ]
          },
          "metadata": {
            "tags": []
          },
          "execution_count": 32
        }
      ]
    },
    {
      "cell_type": "code",
      "metadata": {
        "id": "8mEGI993rOeA"
      },
      "source": [
        "def split_features(X):\n",
        "    X_list = []\n",
        "\n",
        "    asin = X[:, [0]].reshape(-1,1)#\n",
        "    X_list.append(asin)\n",
        "\n",
        "    hour = X[:, [3]].reshape(-1,1)#\n",
        "    X_list.append(hour)\n",
        "\n",
        "    dayofweek = X[:, [9]].reshape(-1,1)\n",
        "    X_list.append(dayofweek)\n",
        "\n",
        "    month = X[:, [6]].reshape(-1,1)\n",
        "    X_list.append(month)\n",
        "\n",
        "    day = X[:, [8]].reshape(-1,1)\n",
        "    X_list.append(day)\n",
        "\n",
        "    week = X[:, [7]].reshape(-1,1)\n",
        "    X_list.append(week)\n",
        "\n",
        "    return X_list"
      ],
      "execution_count": 34,
      "outputs": []
    },
    {
      "cell_type": "code",
      "metadata": {
        "id": "34BY4s6EtkWK"
      },
      "source": [
        "def preprocessing(X):\n",
        "    X_list = split_features(X)\n",
        "    return X_list"
      ],
      "execution_count": 35,
      "outputs": []
    },
    {
      "cell_type": "code",
      "metadata": {
        "colab": {
          "base_uri": "https://localhost:8080/"
        },
        "id": "A38SKqigtov9",
        "outputId": "1987ef3b-202b-4447-99a2-2efae1fb5f40"
      },
      "source": [
        "\n",
        "\n",
        "modelNN_emb.checkpointer = ModelCheckpoint(filepath=\"best_model_weights.hdf5\", verbose=1, save_best_only=True)\n",
        "modelNN_emb.fit(preprocessing(X_train.values), y_train, epochs = 10, batch_size = 128, validation_data= (preprocessing(X_test.values),y_test), callbacks=[modelNN_emb.checkpointer])\n",
        "\n"
      ],
      "execution_count": 36,
      "outputs": [
        {
          "output_type": "stream",
          "text": [
            "Epoch 1/10\n",
            "77/77 [==============================] - 20s 29ms/step - loss: 0.2457 - mae: 0.2457 - val_loss: 0.1845 - val_mae: 0.1845\n",
            "\n",
            "Epoch 00001: val_loss improved from inf to 0.18447, saving model to best_model_weights.hdf5\n",
            "Epoch 2/10\n",
            "77/77 [==============================] - 1s 17ms/step - loss: 0.2241 - mae: 0.2241 - val_loss: 0.1845 - val_mae: 0.1845\n",
            "\n",
            "Epoch 00002: val_loss did not improve from 0.18447\n",
            "Epoch 3/10\n",
            "77/77 [==============================] - 1s 17ms/step - loss: 0.2223 - mae: 0.2223 - val_loss: 0.1845 - val_mae: 0.1845\n",
            "\n",
            "Epoch 00003: val_loss did not improve from 0.18447\n",
            "Epoch 4/10\n",
            "77/77 [==============================] - 1s 17ms/step - loss: 0.2203 - mae: 0.2203 - val_loss: 0.1845 - val_mae: 0.1845\n",
            "\n",
            "Epoch 00004: val_loss did not improve from 0.18447\n",
            "Epoch 5/10\n",
            "77/77 [==============================] - 1s 17ms/step - loss: 0.2125 - mae: 0.2125 - val_loss: 0.1845 - val_mae: 0.1845\n",
            "\n",
            "Epoch 00005: val_loss did not improve from 0.18447\n",
            "Epoch 6/10\n",
            "77/77 [==============================] - 1s 17ms/step - loss: 0.2145 - mae: 0.2145 - val_loss: 0.1845 - val_mae: 0.1845\n",
            "\n",
            "Epoch 00006: val_loss did not improve from 0.18447\n",
            "Epoch 7/10\n",
            "77/77 [==============================] - 1s 17ms/step - loss: 0.2124 - mae: 0.2124 - val_loss: 0.1845 - val_mae: 0.1845\n",
            "\n",
            "Epoch 00007: val_loss did not improve from 0.18447\n",
            "Epoch 8/10\n",
            "77/77 [==============================] - 1s 17ms/step - loss: 0.2104 - mae: 0.2104 - val_loss: 0.1845 - val_mae: 0.1845\n",
            "\n",
            "Epoch 00008: val_loss did not improve from 0.18447\n",
            "Epoch 9/10\n",
            "77/77 [==============================] - 1s 17ms/step - loss: 0.2126 - mae: 0.2126 - val_loss: 0.1845 - val_mae: 0.1845\n",
            "\n",
            "Epoch 00009: val_loss did not improve from 0.18447\n",
            "Epoch 10/10\n",
            "77/77 [==============================] - 1s 18ms/step - loss: 0.2067 - mae: 0.2067 - val_loss: 0.1845 - val_mae: 0.1845\n",
            "\n",
            "Epoch 00010: val_loss did not improve from 0.18447\n"
          ],
          "name": "stdout"
        },
        {
          "output_type": "execute_result",
          "data": {
            "text/plain": [
              "<keras.callbacks.History at 0x7f8a05bd6d50>"
            ]
          },
          "metadata": {
            "tags": []
          },
          "execution_count": 36
        }
      ]
    },
    {
      "cell_type": "code",
      "metadata": {
        "id": "uGNkec3Vtuw9"
      },
      "source": [
        "store_embedding = modelNN_emb.get_layer('store_embedding').get_weights()[0]\n",
        "dow_embedding = modelNN_emb.get_layer('dow_embedding').get_weights()[0]\n",
        "year_embedding = modelNN_emb.get_layer('year_embedding').get_weights()[0]\n",
        "month_embedding = modelNN_emb.get_layer('month_embedding').get_weights()[0]\n",
        "day_embedding = modelNN_emb.get_layer('day_embedding').get_weights()[0]\n",
        "german_states_embedding = modelNN_emb.get_layer('state_embedding').get_weights()[0]\n",
        "with open('/content/gdrive/MyDrive/bluebook', 'wb') as f:\n",
        "    pickle.dump([store_embedding, dow_embedding, year_embedding,\n",
        "                  month_embedding, day_embedding, german_states_embedding], f, -1)"
      ],
      "execution_count": null,
      "outputs": []
    }
  ]
}