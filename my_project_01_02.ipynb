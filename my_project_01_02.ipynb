{
  "nbformat": 4,
  "nbformat_minor": 0,
  "metadata": {
    "colab": {
      "name": "my_project_01.02.ipynb",
      "provenance": [],
      "mount_file_id": "1LR9Mpu_9x2dHkdOgBMVopFJSOcC05BkL",
      "authorship_tag": "ABX9TyMYgw8BiLx1O8KnjKUnBfXA",
      "include_colab_link": true
    },
    "kernelspec": {
      "name": "python3",
      "display_name": "Python 3"
    },
    "language_info": {
      "name": "python"
    },
    "accelerator": "GPU"
  },
  "cells": [
    {
      "cell_type": "markdown",
      "metadata": {
        "id": "view-in-github",
        "colab_type": "text"
      },
      "source": [
        "<a href=\"https://colab.research.google.com/github/akshaypt7/amazon_sales_prediction/blob/main/my_project_01_02.ipynb\" target=\"_parent\"><img src=\"https://colab.research.google.com/assets/colab-badge.svg\" alt=\"Open In Colab\"/></a>"
      ]
    },
    {
      "cell_type": "code",
      "metadata": {
        "id": "AOf7-glAqKQD",
        "colab": {
          "base_uri": "https://localhost:8080/"
        },
        "outputId": "79e0fda1-c190-4093-e3fb-a39ed27340d6"
      },
      "source": [
        "!pip install -Uqq fastbook\n",
        "import fastbook\n",
        "fastbook.setup_book()"
      ],
      "execution_count": 5,
      "outputs": [
        {
          "output_type": "stream",
          "text": [
            "\u001b[?25l\r\u001b[K     |▌                               | 10 kB 33.2 MB/s eta 0:00:01\r\u001b[K     |█                               | 20 kB 37.1 MB/s eta 0:00:01\r\u001b[K     |█▍                              | 30 kB 23.2 MB/s eta 0:00:01\r\u001b[K     |█▉                              | 40 kB 18.9 MB/s eta 0:00:01\r\u001b[K     |██▎                             | 51 kB 8.0 MB/s eta 0:00:01\r\u001b[K     |██▊                             | 61 kB 8.7 MB/s eta 0:00:01\r\u001b[K     |███▏                            | 71 kB 9.1 MB/s eta 0:00:01\r\u001b[K     |███▋                            | 81 kB 8.6 MB/s eta 0:00:01\r\u001b[K     |████                            | 92 kB 9.1 MB/s eta 0:00:01\r\u001b[K     |████▌                           | 102 kB 7.6 MB/s eta 0:00:01\r\u001b[K     |█████                           | 112 kB 7.6 MB/s eta 0:00:01\r\u001b[K     |█████▌                          | 122 kB 7.6 MB/s eta 0:00:01\r\u001b[K     |██████                          | 133 kB 7.6 MB/s eta 0:00:01\r\u001b[K     |██████▍                         | 143 kB 7.6 MB/s eta 0:00:01\r\u001b[K     |██████▉                         | 153 kB 7.6 MB/s eta 0:00:01\r\u001b[K     |███████▎                        | 163 kB 7.6 MB/s eta 0:00:01\r\u001b[K     |███████▊                        | 174 kB 7.6 MB/s eta 0:00:01\r\u001b[K     |████████▏                       | 184 kB 7.6 MB/s eta 0:00:01\r\u001b[K     |████████▋                       | 194 kB 7.6 MB/s eta 0:00:01\r\u001b[K     |█████████                       | 204 kB 7.6 MB/s eta 0:00:01\r\u001b[K     |█████████▋                      | 215 kB 7.6 MB/s eta 0:00:01\r\u001b[K     |██████████                      | 225 kB 7.6 MB/s eta 0:00:01\r\u001b[K     |██████████▌                     | 235 kB 7.6 MB/s eta 0:00:01\r\u001b[K     |███████████                     | 245 kB 7.6 MB/s eta 0:00:01\r\u001b[K     |███████████▍                    | 256 kB 7.6 MB/s eta 0:00:01\r\u001b[K     |███████████▉                    | 266 kB 7.6 MB/s eta 0:00:01\r\u001b[K     |████████████▎                   | 276 kB 7.6 MB/s eta 0:00:01\r\u001b[K     |████████████▊                   | 286 kB 7.6 MB/s eta 0:00:01\r\u001b[K     |█████████████▏                  | 296 kB 7.6 MB/s eta 0:00:01\r\u001b[K     |█████████████▋                  | 307 kB 7.6 MB/s eta 0:00:01\r\u001b[K     |██████████████                  | 317 kB 7.6 MB/s eta 0:00:01\r\u001b[K     |██████████████▋                 | 327 kB 7.6 MB/s eta 0:00:01\r\u001b[K     |███████████████                 | 337 kB 7.6 MB/s eta 0:00:01\r\u001b[K     |███████████████▌                | 348 kB 7.6 MB/s eta 0:00:01\r\u001b[K     |████████████████                | 358 kB 7.6 MB/s eta 0:00:01\r\u001b[K     |████████████████▍               | 368 kB 7.6 MB/s eta 0:00:01\r\u001b[K     |████████████████▉               | 378 kB 7.6 MB/s eta 0:00:01\r\u001b[K     |█████████████████▎              | 389 kB 7.6 MB/s eta 0:00:01\r\u001b[K     |█████████████████▊              | 399 kB 7.6 MB/s eta 0:00:01\r\u001b[K     |██████████████████▏             | 409 kB 7.6 MB/s eta 0:00:01\r\u001b[K     |██████████████████▋             | 419 kB 7.6 MB/s eta 0:00:01\r\u001b[K     |███████████████████▏            | 430 kB 7.6 MB/s eta 0:00:01\r\u001b[K     |███████████████████▋            | 440 kB 7.6 MB/s eta 0:00:01\r\u001b[K     |████████████████████            | 450 kB 7.6 MB/s eta 0:00:01\r\u001b[K     |████████████████████▌           | 460 kB 7.6 MB/s eta 0:00:01\r\u001b[K     |█████████████████████           | 471 kB 7.6 MB/s eta 0:00:01\r\u001b[K     |█████████████████████▍          | 481 kB 7.6 MB/s eta 0:00:01\r\u001b[K     |█████████████████████▉          | 491 kB 7.6 MB/s eta 0:00:01\r\u001b[K     |██████████████████████▎         | 501 kB 7.6 MB/s eta 0:00:01\r\u001b[K     |██████████████████████▊         | 512 kB 7.6 MB/s eta 0:00:01\r\u001b[K     |███████████████████████▏        | 522 kB 7.6 MB/s eta 0:00:01\r\u001b[K     |███████████████████████▋        | 532 kB 7.6 MB/s eta 0:00:01\r\u001b[K     |████████████████████████▏       | 542 kB 7.6 MB/s eta 0:00:01\r\u001b[K     |████████████████████████▋       | 552 kB 7.6 MB/s eta 0:00:01\r\u001b[K     |█████████████████████████       | 563 kB 7.6 MB/s eta 0:00:01\r\u001b[K     |█████████████████████████▌      | 573 kB 7.6 MB/s eta 0:00:01\r\u001b[K     |██████████████████████████      | 583 kB 7.6 MB/s eta 0:00:01\r\u001b[K     |██████████████████████████▍     | 593 kB 7.6 MB/s eta 0:00:01\r\u001b[K     |██████████████████████████▉     | 604 kB 7.6 MB/s eta 0:00:01\r\u001b[K     |███████████████████████████▎    | 614 kB 7.6 MB/s eta 0:00:01\r\u001b[K     |███████████████████████████▊    | 624 kB 7.6 MB/s eta 0:00:01\r\u001b[K     |████████████████████████████▏   | 634 kB 7.6 MB/s eta 0:00:01\r\u001b[K     |████████████████████████████▊   | 645 kB 7.6 MB/s eta 0:00:01\r\u001b[K     |█████████████████████████████▏  | 655 kB 7.6 MB/s eta 0:00:01\r\u001b[K     |█████████████████████████████▋  | 665 kB 7.6 MB/s eta 0:00:01\r\u001b[K     |██████████████████████████████  | 675 kB 7.6 MB/s eta 0:00:01\r\u001b[K     |██████████████████████████████▌ | 686 kB 7.6 MB/s eta 0:00:01\r\u001b[K     |███████████████████████████████ | 696 kB 7.6 MB/s eta 0:00:01\r\u001b[K     |███████████████████████████████▍| 706 kB 7.6 MB/s eta 0:00:01\r\u001b[K     |███████████████████████████████▉| 716 kB 7.6 MB/s eta 0:00:01\r\u001b[K     |████████████████████████████████| 720 kB 7.6 MB/s \n",
            "\u001b[K     |████████████████████████████████| 188 kB 70.0 MB/s \n",
            "\u001b[K     |████████████████████████████████| 1.2 MB 51.8 MB/s \n",
            "\u001b[K     |████████████████████████████████| 46 kB 6.1 MB/s \n",
            "\u001b[K     |████████████████████████████████| 53 kB 3.2 MB/s \n",
            "\u001b[K     |████████████████████████████████| 51 kB 238 kB/s \n",
            "\u001b[?25hMounted at /content/gdrive\n"
          ],
          "name": "stdout"
        }
      ]
    },
    {
      "cell_type": "code",
      "metadata": {
        "id": "CMc_wTu9apCs"
      },
      "source": [
        "#hide\n",
        "from fastbook import *\n",
        "# from kaggle import api\n",
        "from pandas.api.types import is_string_dtype, is_numeric_dtype, is_categorical_dtype\n",
        "from fastai.tabular.all import *\n",
        "from sklearn.ensemble import RandomForestRegressor, RandomForestClassifier\n",
        "from sklearn.tree import DecisionTreeRegressor\n",
        "# from dtreeviz.trees import *\n",
        "from IPython.display import Image, display_svg, SVG\n",
        "\n",
        "pd.options.display.max_rows = 20\n",
        "pd.options.display.max_columns = 8"
      ],
      "execution_count": 8,
      "outputs": []
    },
    {
      "cell_type": "code",
      "metadata": {
        "id": "q26gA0_jd4-C"
      },
      "source": [
        "from sklearn.model_selection import ParameterGrid\n",
        "from keras.models import Sequential\n",
        "from keras.models import Model as KerasModel\n",
        "from keras.layers import Input, Dense, Activation, Reshape\n",
        "from keras.layers import Concatenate\n",
        "from keras.layers import Dense, Flatten, Dropout, Input, Embedding, Reshape\n",
        "from keras.layers import concatenate\n",
        "from sklearn.ensemble import RandomForestRegressor\n",
        "from sklearn import linear_model\n",
        "import pickle\n",
        "import csv\n",
        "from datetime import datetime\n",
        "from sklearn import preprocessing\n",
        "from keras.callbacks import ModelCheckpoint\n",
        "import xgboost as xgb\n",
        "from sklearn.preprocessing import OneHotEncoder\n",
        "%matplotlib inline\n",
        "\n",
        "from sklearn.model_selection import train_test_split\n",
        "\n",
        "import pandas as pd"
      ],
      "execution_count": 9,
      "outputs": []
    },
    {
      "cell_type": "code",
      "metadata": {
        "id": "z-pt33Frb0Tz"
      },
      "source": [
        ""
      ],
      "execution_count": null,
      "outputs": []
    },
    {
      "cell_type": "markdown",
      "metadata": {
        "id": "4jvTEZXZdjR8"
      },
      "source": [
        "### Improvements from 1.01\n",
        "\n",
        "Here we are planning to improve the results we got from 1.2, by introducing Embedding. We create embeddings for the neural network we will also try to use the same in random forest and see its performance.\n",
        "\n",
        "We need to refresh our knowledge on Embeddgings. first we will write about it and then we can also look at the excersice we have done earlier."
      ]
    },
    {
      "cell_type": "markdown",
      "metadata": {
        "id": "bQW88LuB0MDJ"
      },
      "source": [
        "What do know about embeddings?\n",
        "\n",
        "We know that it looks like a list of number, and we can define how many number should represent a quantity. that can then stand of some measurement of the quantity we are trying a replicate.\n",
        "\n",
        "Technically speaking we can say that embedding is a computational shortcut for one-hot encoding, yes and we can say that even the list of numbers which we talked about earlier also be thought in those terms. \n",
        "\n",
        "we can also create embeddings, and i think where it differs with one hot encoding is that it will have continous values not just zero and one. \n",
        "\n",
        "We can even think of reading that embedding paper again.\n",
        "\n",
        "One thing which I cleared right now is there is two concepts embedding and entity embedding.\n",
        "\n",
        "Entity Embedding is where we define a quantity by a list of numbers and embedding is the computational shortcut."
      ]
    },
    {
      "cell_type": "markdown",
      "metadata": {
        "id": "odNKn0zmQguN"
      },
      "source": [
        "**Refer this - https://towardsdatascience.com/enhancing-categorical-features-with-entity-embeddings-e6850a5e34ff**"
      ]
    },
    {
      "cell_type": "code",
      "metadata": {
        "id": "eivIK9zpdVng"
      },
      "source": [
        ""
      ],
      "execution_count": null,
      "outputs": []
    },
    {
      "cell_type": "code",
      "metadata": {
        "id": "hrSVr08wZYGu"
      },
      "source": [
        "infile = open('/content/gdrive/MyDrive/bluebook/df_main.pkl','rb')\n",
        "df_main = pickle.load(infile)"
      ],
      "execution_count": 13,
      "outputs": []
    },
    {
      "cell_type": "code",
      "metadata": {
        "colab": {
          "base_uri": "https://localhost:8080/",
          "height": 206
        },
        "id": "umhNij-KZ6VX",
        "outputId": "7d097501-a4d3-4e02-872f-c0b81ec6c3ff"
      },
      "source": [
        "df_main.head()"
      ],
      "execution_count": null,
      "outputs": [
        {
          "output_type": "execute_result",
          "data": {
            "text/html": [
              "<div>\n",
              "<style scoped>\n",
              "    .dataframe tbody tr th:only-of-type {\n",
              "        vertical-align: middle;\n",
              "    }\n",
              "\n",
              "    .dataframe tbody tr th {\n",
              "        vertical-align: top;\n",
              "    }\n",
              "\n",
              "    .dataframe thead th {\n",
              "        text-align: right;\n",
              "    }\n",
              "</style>\n",
              "<table border=\"1\" class=\"dataframe\">\n",
              "  <thead>\n",
              "    <tr style=\"text-align: right;\">\n",
              "      <th></th>\n",
              "      <th>date</th>\n",
              "      <th>Asin</th>\n",
              "      <th>Item Promo Discount</th>\n",
              "      <th>price</th>\n",
              "      <th>hour</th>\n",
              "      <th>Quantity</th>\n",
              "      <th>Invoice Amount</th>\n",
              "    </tr>\n",
              "  </thead>\n",
              "  <tbody>\n",
              "    <tr>\n",
              "      <th>0</th>\n",
              "      <td>2021-01-04</td>\n",
              "      <td>B07KYFHTGF</td>\n",
              "      <td>0.00</td>\n",
              "      <td>1995.00</td>\n",
              "      <td>12.0</td>\n",
              "      <td>1.0</td>\n",
              "      <td>1995.00</td>\n",
              "    </tr>\n",
              "    <tr>\n",
              "      <th>1</th>\n",
              "      <td>2021-01-08</td>\n",
              "      <td>B07TM3LRVB</td>\n",
              "      <td>-56.75</td>\n",
              "      <td>1078.25</td>\n",
              "      <td>20.0</td>\n",
              "      <td>1.0</td>\n",
              "      <td>1078.25</td>\n",
              "    </tr>\n",
              "    <tr>\n",
              "      <th>2</th>\n",
              "      <td>2021-01-09</td>\n",
              "      <td>B08976V1BZ</td>\n",
              "      <td>-79.95</td>\n",
              "      <td>1519.05</td>\n",
              "      <td>22.0</td>\n",
              "      <td>1.0</td>\n",
              "      <td>1519.05</td>\n",
              "    </tr>\n",
              "    <tr>\n",
              "      <th>3</th>\n",
              "      <td>2021-01-11</td>\n",
              "      <td>B07TM3LRVB</td>\n",
              "      <td>0.00</td>\n",
              "      <td>1135.00</td>\n",
              "      <td>10.0</td>\n",
              "      <td>1.0</td>\n",
              "      <td>1135.00</td>\n",
              "    </tr>\n",
              "    <tr>\n",
              "      <th>4</th>\n",
              "      <td>2021-01-12</td>\n",
              "      <td>B08332221J</td>\n",
              "      <td>0.00</td>\n",
              "      <td>1499.00</td>\n",
              "      <td>12.0</td>\n",
              "      <td>1.0</td>\n",
              "      <td>1499.00</td>\n",
              "    </tr>\n",
              "  </tbody>\n",
              "</table>\n",
              "</div>"
            ],
            "text/plain": [
              "        date        Asin  Item Promo Discount    price  hour  Quantity  \\\n",
              "0 2021-01-04  B07KYFHTGF                 0.00  1995.00  12.0       1.0   \n",
              "1 2021-01-08  B07TM3LRVB               -56.75  1078.25  20.0       1.0   \n",
              "2 2021-01-09  B08976V1BZ               -79.95  1519.05  22.0       1.0   \n",
              "3 2021-01-11  B07TM3LRVB                 0.00  1135.00  10.0       1.0   \n",
              "4 2021-01-12  B08332221J                 0.00  1499.00  12.0       1.0   \n",
              "\n",
              "   Invoice Amount  \n",
              "0         1995.00  \n",
              "1         1078.25  \n",
              "2         1519.05  \n",
              "3         1135.00  \n",
              "4         1499.00  "
            ]
          },
          "metadata": {
            "tags": []
          },
          "execution_count": 5
        }
      ]
    },
    {
      "cell_type": "code",
      "metadata": {
        "id": "MIW-uPJ5ahf5"
      },
      "source": [
        "df_main = add_datepart(df_main,'date')"
      ],
      "execution_count": 21,
      "outputs": []
    },
    {
      "cell_type": "code",
      "metadata": {
        "colab": {
          "base_uri": "https://localhost:8080/"
        },
        "id": "_S3hY4Kpa4vq",
        "outputId": "780505f5-1ffd-4e92-c2df-835f212d9b51"
      },
      "source": [
        "df_main.columns"
      ],
      "execution_count": 22,
      "outputs": [
        {
          "output_type": "execute_result",
          "data": {
            "text/plain": [
              "Index(['Asin', 'Item Promo Discount', 'price', 'hour', 'Quantity',\n",
              "       'Invoice Amount', 'Year', 'Month', 'Week', 'Day', 'Dayofweek',\n",
              "       'Dayofyear', 'Is_month_end', 'Is_month_start', 'Is_quarter_end',\n",
              "       'Is_quarter_start', 'Is_year_end', 'Is_year_start', 'Elapsed'],\n",
              "      dtype='object')"
            ]
          },
          "metadata": {
            "tags": []
          },
          "execution_count": 22
        }
      ]
    },
    {
      "cell_type": "code",
      "metadata": {
        "id": "LvpLxHx_dkUB"
      },
      "source": [
        "import math"
      ],
      "execution_count": 16,
      "outputs": []
    },
    {
      "cell_type": "code",
      "metadata": {
        "id": "8d5qWaqQbMKH"
      },
      "source": [
        "# embedding for ASiN\n",
        "n_unique_asins = df_main.Asin.nunique()\n",
        "n_dim_asins = int(math.sqrt(n_unique_asins))\n",
        "\n",
        "\n",
        "input_asin = Input(shape=(1,))\n",
        "output_asin = Embedding(input_dim = n_unique_asins, output_dim= n_dim_asins, name='asin')(input_asin)\n",
        "output_asin = Reshape(target_shape=(n_dim_asins,))(output_asin)"
      ],
      "execution_count": 23,
      "outputs": []
    },
    {
      "cell_type": "code",
      "metadata": {
        "id": "riLKsL6-irQU"
      },
      "source": [
        "# embedding for hour\n",
        "n_unique_hour = df_main.hour.nunique()\n",
        "n_dim_hours = int(math.sqrt(n_unique_hour))\n",
        "\n",
        "input_hour = Input(shape=(1,))\n",
        "output_hour = Embedding(input_dim= n_unique_hour, output_dim=n_dim_hours,name='hours')(input_hour)\n",
        "output_hour = Reshape( target_shape= (n_dim_hours,))(output_hour)"
      ],
      "execution_count": 24,
      "outputs": []
    },
    {
      "cell_type": "code",
      "metadata": {
        "id": "I7tiImyTirMY"
      },
      "source": [
        "# day_of week\n",
        "n_unique_day_of_week = df_main['Dayofweek'].nunique()\n",
        "n_dim_dayofweek = 3\n",
        "\n",
        "input_dayofweek = Input(shape=(1,))\n",
        "output_dayofweek = Embedding(input_dim= n_unique_day_of_week, output_dim=n_dim_dayofweek,name='dayofweek')(input_dayofweek)\n",
        "output_dayofweek = Reshape( target_shape= (n_dim_dayofweek,))(output_dayofweek)"
      ],
      "execution_count": 25,
      "outputs": []
    },
    {
      "cell_type": "code",
      "metadata": {
        "id": "Nt5uDqWHirIb"
      },
      "source": [
        "# Month\n",
        "n_unique_month = df_main['Month'].nunique()\n",
        "n_dim_month = 7\n",
        "\n",
        "input_month = Input(shape=(1,))\n",
        "output_month = Embedding(input_dim= n_unique_month, output_dim=n_dim_month,name='month')(input_month)\n",
        "output_month = Reshape( target_shape= (n_dim_month,))(output_month)"
      ],
      "execution_count": 26,
      "outputs": []
    },
    {
      "cell_type": "code",
      "metadata": {
        "id": "_eJf4XtbmL9N"
      },
      "source": [
        "# Day (1-31)\n",
        "n_unique_day = df_main['Day'].nunique()\n",
        "n_dim_day = int(math.sqrt(n_unique_day))\n",
        "\n",
        "input_day = Input(shape=(1,))\n",
        "output_day= Embedding(input_dim= n_unique_day, output_dim=n_dim_day,name='day')(input_day)\n",
        "output_day = Reshape( target_shape= (n_dim_day,))(output_day)"
      ],
      "execution_count": 27,
      "outputs": []
    },
    {
      "cell_type": "code",
      "metadata": {
        "id": "xVce8z3CmL39"
      },
      "source": [
        "# Week\n",
        "\n",
        "n_unique_week = df_main['Week'].nunique()\n",
        "n_dim_week = 30\n",
        "\n",
        "input_week = Input(shape=(1,))\n",
        "output_week= Embedding(input_dim= n_unique_week, output_dim=n_dim_week,name='week')(input_week)\n",
        "output_week = Reshape( target_shape= (n_dim_week,))(output_week)\n"
      ],
      "execution_count": 28,
      "outputs": []
    },
    {
      "cell_type": "code",
      "metadata": {
        "id": "1OdOFAOAoPXj"
      },
      "source": [
        "input_model = [input_asin, input_hour, input_dayofweek, input_month, input_day, input_week ]\n",
        "output_embeddings = [output_asin, output_hour, output_dayofweek, output_month, output_day, output_week ] \n",
        "output_model = Concatenate()(output_embeddings)"
      ],
      "execution_count": 30,
      "outputs": []
    },
    {
      "cell_type": "code",
      "metadata": {
        "id": "crpMY7iJoPU9"
      },
      "source": [
        "\n",
        "output_model = Dense(1000, kernel_initializer='uniform')(output_model)\n",
        "output_model = Activation('relu')(output_model)\n",
        "\n",
        "output_model = Dense(500, kernel_initializer='uniform')(output_model)\n",
        "output_model = Activation('relu')(output_model)\n",
        "\n",
        "output_model = Dense(1)(output_model)\n",
        "output_model = Activation('sigmoid')(output_model)"
      ],
      "execution_count": 31,
      "outputs": []
    },
    {
      "cell_type": "code",
      "metadata": {
        "id": "D9o-Aon9oPSP"
      },
      "source": [
        "#Define the embedding NN model\n",
        "#your code here\n",
        "\n",
        "modelNN_emb = KerasModel(inputs = input_model, outputs = output_model)\n",
        "modelNN_emb.compile(optimizer='adam',loss='mean_absolute_error')"
      ],
      "execution_count": 32,
      "outputs": []
    },
    {
      "cell_type": "code",
      "metadata": {
        "colab": {
          "base_uri": "https://localhost:8080/"
        },
        "id": "d99oQeGOh-hC",
        "outputId": "93af09b7-288a-465b-f276-de3ab0c1eab1"
      },
      "source": [
        "input_model"
      ],
      "execution_count": null,
      "outputs": [
        {
          "output_type": "execute_result",
          "data": {
            "text/plain": [
              "[<KerasTensor: shape=(None, 1) dtype=float32 (created by layer 'input_1')>,\n",
              " <KerasTensor: shape=(None, 1) dtype=float32 (created by layer 'input_2')>,\n",
              " <KerasTensor: shape=(None, 1) dtype=float32 (created by layer 'input_3')>,\n",
              " <KerasTensor: shape=(None, 1) dtype=float32 (created by layer 'input_4')>,\n",
              " <KerasTensor: shape=(None, 1) dtype=float32 (created by layer 'input_5')>,\n",
              " <KerasTensor: shape=(None, 1) dtype=float32 (created by layer 'input_6')>]"
            ]
          },
          "metadata": {
            "tags": []
          },
          "execution_count": 21
        }
      ]
    },
    {
      "cell_type": "code",
      "metadata": {
        "colab": {
          "base_uri": "https://localhost:8080/"
        },
        "id": "8BD4t1SAqN3d",
        "outputId": "c2aca8c0-cbc0-4068-d7dc-4bde59752403"
      },
      "source": [
        "output_model"
      ],
      "execution_count": null,
      "outputs": [
        {
          "output_type": "execute_result",
          "data": {
            "text/plain": [
              "<KerasTensor: shape=(None, 1) dtype=float32 (created by layer 'activation_2')>"
            ]
          },
          "metadata": {
            "tags": []
          },
          "execution_count": 22
        }
      ]
    },
    {
      "cell_type": "code",
      "metadata": {
        "colab": {
          "base_uri": "https://localhost:8080/"
        },
        "id": "Kt9IjnLosyp3",
        "outputId": "d357dedd-dff7-45fa-c7e7-726a2ee5cda3"
      },
      "source": [
        "df_main.columns"
      ],
      "execution_count": null,
      "outputs": [
        {
          "output_type": "execute_result",
          "data": {
            "text/plain": [
              "Index(['Asin', 'Item Promo Discount', 'price', 'hour', 'Quantity',\n",
              "       'Invoice Amount', 'Year', 'Month', 'Week', 'Day', 'Dayofweek',\n",
              "       'Dayofyear', 'Is_month_end', 'Is_month_start', 'Is_quarter_end',\n",
              "       'Is_quarter_start', 'Is_year_end', 'Is_year_start', 'Elapsed'],\n",
              "      dtype='object')"
            ]
          },
          "metadata": {
            "tags": []
          },
          "execution_count": 23
        }
      ]
    },
    {
      "cell_type": "code",
      "metadata": {
        "id": "8-V5B3a8aXWf"
      },
      "source": [
        "input_asin, input_hour, input_dayofweek, input_month, input_day, input_week ]"
      ],
      "execution_count": null,
      "outputs": []
    },
    {
      "cell_type": "code",
      "metadata": {
        "id": "Q5xY743dPCI-"
      },
      "source": [
        "def split_features(X):\n",
        "    X_list = []\n",
        "\n",
        "    asin = X[:, [0]]\n",
        "    X_list.append(asin)\n",
        "\n",
        "    hour = X[:, [3]]\n",
        "    X_list.append(hour)\n",
        "\n",
        "    dayofweek = X[:, [10]]#\n",
        "    X_list.append(dayofweek)\n",
        "\n",
        "    month = X[:, [7]]\n",
        "    X_list.append(month)\n",
        "\n",
        "    day = X[:, [9]]\n",
        "    X_list.append(day)\n",
        "\n",
        "    week = X[:, [8]]\n",
        "    X_list.append(week)\n",
        "\n",
        "    return X_list"
      ],
      "execution_count": null,
      "outputs": []
    },
    {
      "cell_type": "code",
      "metadata": {
        "id": "JqHZ3DSVuE7n"
      },
      "source": [
        "def preprocessing(X):\n",
        "    X_list = split_features(X)\n",
        "    return X_list"
      ],
      "execution_count": null,
      "outputs": []
    },
    {
      "cell_type": "code",
      "metadata": {
        "id": "MaY9YEk80IdA"
      },
      "source": [
        ""
      ],
      "execution_count": null,
      "outputs": []
    },
    {
      "cell_type": "code",
      "metadata": {
        "id": "CZYXI1nprxGg"
      },
      "source": [
        "procs = [Categorify, FillMissing]"
      ],
      "execution_count": null,
      "outputs": []
    },
    {
      "cell_type": "code",
      "metadata": {
        "id": "IObgmjvjB0oo"
      },
      "source": [
        "\n",
        "dep_var = 'Quantity'"
      ],
      "execution_count": null,
      "outputs": []
    },
    {
      "cell_type": "code",
      "metadata": {
        "id": "qS4xPlg3rxEF"
      },
      "source": [
        "cont, cat = cont_cat_split( df_main,1,dep_var= dep_var)"
      ],
      "execution_count": null,
      "outputs": []
    },
    {
      "cell_type": "code",
      "metadata": {
        "id": "x5XOilIJXAKF"
      },
      "source": [
        "cont =['Item Promo Discount',\n",
        " 'price',\n",
        " 'Invoice Amount',\n",
        " 'Year',\n",
        " 'Elapsed']"
      ],
      "execution_count": null,
      "outputs": []
    },
    {
      "cell_type": "code",
      "metadata": {
        "id": "p7FJFKKYW-78"
      },
      "source": [
        "cat = ['Asin',\n",
        " 'Is_month_end',\n",
        " 'Is_month_start',\n",
        " 'Is_quarter_end',\n",
        " 'Is_quarter_start',\n",
        " 'Is_year_end',\n",
        " 'Is_year_start',\n",
        " 'hour','Month','Week', 'Day','Dayofweek','Dayofyear',]"
      ],
      "execution_count": null,
      "outputs": []
    },
    {
      "cell_type": "code",
      "metadata": {
        "id": "rWE4_N7OBgLV"
      },
      "source": [
        "# SPLITS \n",
        "condition = (df_main.Year < 2020) | (df_main.Month < 8)\n",
        "train_idx = np.where(condition)[0]\n",
        "valid_idx = np.where(~condition)[0]"
      ],
      "execution_count": null,
      "outputs": []
    },
    {
      "cell_type": "code",
      "metadata": {
        "colab": {
          "base_uri": "https://localhost:8080/"
        },
        "id": "naA-yq3xDbdK",
        "outputId": "0235b68b-c961-44f2-d7f6-599d91def6c0"
      },
      "source": [
        "len(train_idx), len(valid_idx)"
      ],
      "execution_count": null,
      "outputs": [
        {
          "output_type": "execute_result",
          "data": {
            "text/plain": [
              "(7517, 3429)"
            ]
          },
          "metadata": {
            "tags": []
          },
          "execution_count": 51
        }
      ]
    },
    {
      "cell_type": "code",
      "metadata": {
        "id": "TKSM7u9yGf1g"
      },
      "source": [
        "splits = (list(train_idx),list(valid_idx))"
      ],
      "execution_count": null,
      "outputs": []
    },
    {
      "cell_type": "code",
      "metadata": {
        "id": "Xn13V3eN0A5F"
      },
      "source": [
        "\n",
        "to = TabularPandas(df_main, procs= procs,cat_names= cat, cont_names=cont, splits= splits,y_names=dep_var)"
      ],
      "execution_count": null,
      "outputs": []
    },
    {
      "cell_type": "code",
      "metadata": {
        "id": "hOK02Cqo0P1V"
      },
      "source": [
        "x_train,y_train = to.train.xs, to.train.y\n",
        "x_valid, y_valid = to.valid.xs, to.valid.y"
      ],
      "execution_count": null,
      "outputs": []
    },
    {
      "cell_type": "code",
      "metadata": {
        "colab": {
          "base_uri": "https://localhost:8080/"
        },
        "id": "VxxH_eegbiEA",
        "outputId": "bb3ddbc3-c271-4412-ed9d-a04caf04626b"
      },
      "source": [
        "df_main.columns"
      ],
      "execution_count": null,
      "outputs": [
        {
          "output_type": "execute_result",
          "data": {
            "text/plain": [
              "Index(['Asin', 'Item Promo Discount', 'price', 'hour', 'Quantity',\n",
              "       'Invoice Amount', 'Year', 'Month', 'Week', 'Day', 'Dayofweek',\n",
              "       'Dayofyear', 'Is_month_end', 'Is_month_start', 'Is_quarter_end',\n",
              "       'Is_quarter_start', 'Is_year_end', 'Is_year_start', 'Elapsed'],\n",
              "      dtype='object')"
            ]
          },
          "metadata": {
            "tags": []
          },
          "execution_count": 34
        }
      ]
    },
    {
      "cell_type": "code",
      "metadata": {
        "colab": {
          "base_uri": "https://localhost:8080/",
          "height": 712
        },
        "id": "m0v3cY0pHA4v",
        "outputId": "4bae2af3-8bdc-4dcd-da08-378d7bdc3600"
      },
      "source": [
        "modelNN_emb.checkpointer = ModelCheckpoint(filepath=\"/content/drive/MyDrive/bluebook/best_model_weights.hdf5\", verbose=1, save_best_only=True)\n",
        "modelNN_emb.fit(preprocessing(x_train.values), y_train, epochs = 10, batch_size = 128, validation_data= (preprocessing(x_valid.values),y_valid), callbacks=[modelNN_emb.checkpointer])\n"
      ],
      "execution_count": null,
      "outputs": [
        {
          "output_type": "stream",
          "text": [
            "Epoch 1/10\n"
          ],
          "name": "stdout"
        },
        {
          "output_type": "error",
          "ename": "InvalidArgumentError",
          "evalue": "ignored",
          "traceback": [
            "\u001b[0;31m---------------------------------------------------------------------------\u001b[0m",
            "\u001b[0;31mInvalidArgumentError\u001b[0m                      Traceback (most recent call last)",
            "\u001b[0;32m<ipython-input-28-8ab185b69f6c>\u001b[0m in \u001b[0;36m<module>\u001b[0;34m()\u001b[0m\n\u001b[1;32m      1\u001b[0m \u001b[0mmodelNN_emb\u001b[0m\u001b[0;34m.\u001b[0m\u001b[0mcheckpointer\u001b[0m \u001b[0;34m=\u001b[0m \u001b[0mModelCheckpoint\u001b[0m\u001b[0;34m(\u001b[0m\u001b[0mfilepath\u001b[0m\u001b[0;34m=\u001b[0m\u001b[0;34m\"/content/drive/MyDrive/bluebook/best_model_weights.hdf5\"\u001b[0m\u001b[0;34m,\u001b[0m \u001b[0mverbose\u001b[0m\u001b[0;34m=\u001b[0m\u001b[0;36m1\u001b[0m\u001b[0;34m,\u001b[0m \u001b[0msave_best_only\u001b[0m\u001b[0;34m=\u001b[0m\u001b[0;32mTrue\u001b[0m\u001b[0;34m)\u001b[0m\u001b[0;34m\u001b[0m\u001b[0;34m\u001b[0m\u001b[0m\n\u001b[0;32m----> 2\u001b[0;31m \u001b[0mmodelNN_emb\u001b[0m\u001b[0;34m.\u001b[0m\u001b[0mfit\u001b[0m\u001b[0;34m(\u001b[0m\u001b[0mpreprocessing\u001b[0m\u001b[0;34m(\u001b[0m\u001b[0mx_train\u001b[0m\u001b[0;34m.\u001b[0m\u001b[0mvalues\u001b[0m\u001b[0;34m)\u001b[0m\u001b[0;34m,\u001b[0m \u001b[0my_train\u001b[0m\u001b[0;34m,\u001b[0m \u001b[0mepochs\u001b[0m \u001b[0;34m=\u001b[0m \u001b[0;36m10\u001b[0m\u001b[0;34m,\u001b[0m \u001b[0mbatch_size\u001b[0m \u001b[0;34m=\u001b[0m \u001b[0;36m128\u001b[0m\u001b[0;34m,\u001b[0m \u001b[0mvalidation_data\u001b[0m\u001b[0;34m=\u001b[0m \u001b[0;34m(\u001b[0m\u001b[0mpreprocessing\u001b[0m\u001b[0;34m(\u001b[0m\u001b[0mx_valid\u001b[0m\u001b[0;34m.\u001b[0m\u001b[0mvalues\u001b[0m\u001b[0;34m)\u001b[0m\u001b[0;34m,\u001b[0m\u001b[0my_valid\u001b[0m\u001b[0;34m)\u001b[0m\u001b[0;34m,\u001b[0m \u001b[0mcallbacks\u001b[0m\u001b[0;34m=\u001b[0m\u001b[0;34m[\u001b[0m\u001b[0mmodelNN_emb\u001b[0m\u001b[0;34m.\u001b[0m\u001b[0mcheckpointer\u001b[0m\u001b[0;34m]\u001b[0m\u001b[0;34m)\u001b[0m\u001b[0;34m\u001b[0m\u001b[0;34m\u001b[0m\u001b[0m\n\u001b[0m",
            "\u001b[0;32m/usr/local/lib/python3.7/dist-packages/keras/engine/training.py\u001b[0m in \u001b[0;36mfit\u001b[0;34m(self, x, y, batch_size, epochs, verbose, callbacks, validation_split, validation_data, shuffle, class_weight, sample_weight, initial_epoch, steps_per_epoch, validation_steps, validation_batch_size, validation_freq, max_queue_size, workers, use_multiprocessing)\u001b[0m\n\u001b[1;32m   1156\u001b[0m                 _r=1):\n\u001b[1;32m   1157\u001b[0m               \u001b[0mcallbacks\u001b[0m\u001b[0;34m.\u001b[0m\u001b[0mon_train_batch_begin\u001b[0m\u001b[0;34m(\u001b[0m\u001b[0mstep\u001b[0m\u001b[0;34m)\u001b[0m\u001b[0;34m\u001b[0m\u001b[0;34m\u001b[0m\u001b[0m\n\u001b[0;32m-> 1158\u001b[0;31m               \u001b[0mtmp_logs\u001b[0m \u001b[0;34m=\u001b[0m \u001b[0mself\u001b[0m\u001b[0;34m.\u001b[0m\u001b[0mtrain_function\u001b[0m\u001b[0;34m(\u001b[0m\u001b[0miterator\u001b[0m\u001b[0;34m)\u001b[0m\u001b[0;34m\u001b[0m\u001b[0;34m\u001b[0m\u001b[0m\n\u001b[0m\u001b[1;32m   1159\u001b[0m               \u001b[0;32mif\u001b[0m \u001b[0mdata_handler\u001b[0m\u001b[0;34m.\u001b[0m\u001b[0mshould_sync\u001b[0m\u001b[0;34m:\u001b[0m\u001b[0;34m\u001b[0m\u001b[0;34m\u001b[0m\u001b[0m\n\u001b[1;32m   1160\u001b[0m                 \u001b[0mcontext\u001b[0m\u001b[0;34m.\u001b[0m\u001b[0masync_wait\u001b[0m\u001b[0;34m(\u001b[0m\u001b[0;34m)\u001b[0m\u001b[0;34m\u001b[0m\u001b[0;34m\u001b[0m\u001b[0m\n",
            "\u001b[0;32m/usr/local/lib/python3.7/dist-packages/tensorflow/python/eager/def_function.py\u001b[0m in \u001b[0;36m__call__\u001b[0;34m(self, *args, **kwds)\u001b[0m\n\u001b[1;32m    887\u001b[0m \u001b[0;34m\u001b[0m\u001b[0m\n\u001b[1;32m    888\u001b[0m       \u001b[0;32mwith\u001b[0m \u001b[0mOptionalXlaContext\u001b[0m\u001b[0;34m(\u001b[0m\u001b[0mself\u001b[0m\u001b[0;34m.\u001b[0m\u001b[0m_jit_compile\u001b[0m\u001b[0;34m)\u001b[0m\u001b[0;34m:\u001b[0m\u001b[0;34m\u001b[0m\u001b[0;34m\u001b[0m\u001b[0m\n\u001b[0;32m--> 889\u001b[0;31m         \u001b[0mresult\u001b[0m \u001b[0;34m=\u001b[0m \u001b[0mself\u001b[0m\u001b[0;34m.\u001b[0m\u001b[0m_call\u001b[0m\u001b[0;34m(\u001b[0m\u001b[0;34m*\u001b[0m\u001b[0margs\u001b[0m\u001b[0;34m,\u001b[0m \u001b[0;34m**\u001b[0m\u001b[0mkwds\u001b[0m\u001b[0;34m)\u001b[0m\u001b[0;34m\u001b[0m\u001b[0;34m\u001b[0m\u001b[0m\n\u001b[0m\u001b[1;32m    890\u001b[0m \u001b[0;34m\u001b[0m\u001b[0m\n\u001b[1;32m    891\u001b[0m       \u001b[0mnew_tracing_count\u001b[0m \u001b[0;34m=\u001b[0m \u001b[0mself\u001b[0m\u001b[0;34m.\u001b[0m\u001b[0mexperimental_get_tracing_count\u001b[0m\u001b[0;34m(\u001b[0m\u001b[0;34m)\u001b[0m\u001b[0;34m\u001b[0m\u001b[0;34m\u001b[0m\u001b[0m\n",
            "\u001b[0;32m/usr/local/lib/python3.7/dist-packages/tensorflow/python/eager/def_function.py\u001b[0m in \u001b[0;36m_call\u001b[0;34m(self, *args, **kwds)\u001b[0m\n\u001b[1;32m    948\u001b[0m         \u001b[0;31m# Lifting succeeded, so variables are initialized and we can run the\u001b[0m\u001b[0;34m\u001b[0m\u001b[0;34m\u001b[0m\u001b[0;34m\u001b[0m\u001b[0m\n\u001b[1;32m    949\u001b[0m         \u001b[0;31m# stateless function.\u001b[0m\u001b[0;34m\u001b[0m\u001b[0;34m\u001b[0m\u001b[0;34m\u001b[0m\u001b[0m\n\u001b[0;32m--> 950\u001b[0;31m         \u001b[0;32mreturn\u001b[0m \u001b[0mself\u001b[0m\u001b[0;34m.\u001b[0m\u001b[0m_stateless_fn\u001b[0m\u001b[0;34m(\u001b[0m\u001b[0;34m*\u001b[0m\u001b[0margs\u001b[0m\u001b[0;34m,\u001b[0m \u001b[0;34m**\u001b[0m\u001b[0mkwds\u001b[0m\u001b[0;34m)\u001b[0m\u001b[0;34m\u001b[0m\u001b[0;34m\u001b[0m\u001b[0m\n\u001b[0m\u001b[1;32m    951\u001b[0m     \u001b[0;32melse\u001b[0m\u001b[0;34m:\u001b[0m\u001b[0;34m\u001b[0m\u001b[0;34m\u001b[0m\u001b[0m\n\u001b[1;32m    952\u001b[0m       \u001b[0m_\u001b[0m\u001b[0;34m,\u001b[0m \u001b[0m_\u001b[0m\u001b[0;34m,\u001b[0m \u001b[0m_\u001b[0m\u001b[0;34m,\u001b[0m \u001b[0mfiltered_flat_args\u001b[0m \u001b[0;34m=\u001b[0m\u001b[0;31m \u001b[0m\u001b[0;31m\\\u001b[0m\u001b[0;34m\u001b[0m\u001b[0;34m\u001b[0m\u001b[0m\n",
            "\u001b[0;32m/usr/local/lib/python3.7/dist-packages/tensorflow/python/eager/function.py\u001b[0m in \u001b[0;36m__call__\u001b[0;34m(self, *args, **kwargs)\u001b[0m\n\u001b[1;32m   3022\u001b[0m        filtered_flat_args) = self._maybe_define_function(args, kwargs)\n\u001b[1;32m   3023\u001b[0m     return graph_function._call_flat(\n\u001b[0;32m-> 3024\u001b[0;31m         filtered_flat_args, captured_inputs=graph_function.captured_inputs)  # pylint: disable=protected-access\n\u001b[0m\u001b[1;32m   3025\u001b[0m \u001b[0;34m\u001b[0m\u001b[0m\n\u001b[1;32m   3026\u001b[0m   \u001b[0;34m@\u001b[0m\u001b[0mproperty\u001b[0m\u001b[0;34m\u001b[0m\u001b[0;34m\u001b[0m\u001b[0m\n",
            "\u001b[0;32m/usr/local/lib/python3.7/dist-packages/tensorflow/python/eager/function.py\u001b[0m in \u001b[0;36m_call_flat\u001b[0;34m(self, args, captured_inputs, cancellation_manager)\u001b[0m\n\u001b[1;32m   1959\u001b[0m       \u001b[0;31m# No tape is watching; skip to running the function.\u001b[0m\u001b[0;34m\u001b[0m\u001b[0;34m\u001b[0m\u001b[0;34m\u001b[0m\u001b[0m\n\u001b[1;32m   1960\u001b[0m       return self._build_call_outputs(self._inference_function.call(\n\u001b[0;32m-> 1961\u001b[0;31m           ctx, args, cancellation_manager=cancellation_manager))\n\u001b[0m\u001b[1;32m   1962\u001b[0m     forward_backward = self._select_forward_and_backward_functions(\n\u001b[1;32m   1963\u001b[0m         \u001b[0margs\u001b[0m\u001b[0;34m,\u001b[0m\u001b[0;34m\u001b[0m\u001b[0;34m\u001b[0m\u001b[0m\n",
            "\u001b[0;32m/usr/local/lib/python3.7/dist-packages/tensorflow/python/eager/function.py\u001b[0m in \u001b[0;36mcall\u001b[0;34m(self, ctx, args, cancellation_manager)\u001b[0m\n\u001b[1;32m    594\u001b[0m               \u001b[0minputs\u001b[0m\u001b[0;34m=\u001b[0m\u001b[0margs\u001b[0m\u001b[0;34m,\u001b[0m\u001b[0;34m\u001b[0m\u001b[0;34m\u001b[0m\u001b[0m\n\u001b[1;32m    595\u001b[0m               \u001b[0mattrs\u001b[0m\u001b[0;34m=\u001b[0m\u001b[0mattrs\u001b[0m\u001b[0;34m,\u001b[0m\u001b[0;34m\u001b[0m\u001b[0;34m\u001b[0m\u001b[0m\n\u001b[0;32m--> 596\u001b[0;31m               ctx=ctx)\n\u001b[0m\u001b[1;32m    597\u001b[0m         \u001b[0;32melse\u001b[0m\u001b[0;34m:\u001b[0m\u001b[0;34m\u001b[0m\u001b[0;34m\u001b[0m\u001b[0m\n\u001b[1;32m    598\u001b[0m           outputs = execute.execute_with_cancellation(\n",
            "\u001b[0;32m/usr/local/lib/python3.7/dist-packages/tensorflow/python/eager/execute.py\u001b[0m in \u001b[0;36mquick_execute\u001b[0;34m(op_name, num_outputs, inputs, attrs, ctx, name)\u001b[0m\n\u001b[1;32m     58\u001b[0m     \u001b[0mctx\u001b[0m\u001b[0;34m.\u001b[0m\u001b[0mensure_initialized\u001b[0m\u001b[0;34m(\u001b[0m\u001b[0;34m)\u001b[0m\u001b[0;34m\u001b[0m\u001b[0;34m\u001b[0m\u001b[0m\n\u001b[1;32m     59\u001b[0m     tensors = pywrap_tfe.TFE_Py_Execute(ctx._handle, device_name, op_name,\n\u001b[0;32m---> 60\u001b[0;31m                                         inputs, attrs, num_outputs)\n\u001b[0m\u001b[1;32m     61\u001b[0m   \u001b[0;32mexcept\u001b[0m \u001b[0mcore\u001b[0m\u001b[0;34m.\u001b[0m\u001b[0m_NotOkStatusException\u001b[0m \u001b[0;32mas\u001b[0m \u001b[0me\u001b[0m\u001b[0;34m:\u001b[0m\u001b[0;34m\u001b[0m\u001b[0;34m\u001b[0m\u001b[0m\n\u001b[1;32m     62\u001b[0m     \u001b[0;32mif\u001b[0m \u001b[0mname\u001b[0m \u001b[0;32mis\u001b[0m \u001b[0;32mnot\u001b[0m \u001b[0;32mNone\u001b[0m\u001b[0;34m:\u001b[0m\u001b[0;34m\u001b[0m\u001b[0;34m\u001b[0m\u001b[0m\n",
            "\u001b[0;31mInvalidArgumentError\u001b[0m: 2 root error(s) found.\n  (0) Invalid argument:  indices[0,0] = 27 is not in [0, 7)\n\t [[node model/dayofweek/embedding_lookup (defined at /usr/local/lib/python3.7/dist-packages/keras/layers/embeddings.py:184) ]]\n  (1) Invalid argument:  indices[0,0] = 27 is not in [0, 7)\n\t [[node model/dayofweek/embedding_lookup (defined at /usr/local/lib/python3.7/dist-packages/keras/layers/embeddings.py:184) ]]\n\t [[model/dayofweek/embedding_lookup/_52]]\n0 successful operations.\n0 derived errors ignored. [Op:__inference_train_function_1595]\n\nErrors may have originated from an input operation.\nInput Source operations connected to node model/dayofweek/embedding_lookup:\n model/dayofweek/embedding_lookup/1076 (defined at /usr/lib/python3.7/contextlib.py:112)\t\n model/dayofweek/Cast (defined at /usr/local/lib/python3.7/dist-packages/keras/layers/embeddings.py:183)\n\nInput Source operations connected to node model/dayofweek/embedding_lookup:\n model/dayofweek/embedding_lookup/1076 (defined at /usr/lib/python3.7/contextlib.py:112)\t\n model/dayofweek/Cast (defined at /usr/local/lib/python3.7/dist-packages/keras/layers/embeddings.py:183)\n\nFunction call stack:\ntrain_function -> train_function\n"
          ]
        }
      ]
    },
    {
      "cell_type": "code",
      "metadata": {
        "colab": {
          "base_uri": "https://localhost:8080/"
        },
        "id": "gUIviCnJOC-H",
        "outputId": "3c7f3066-fc25-47fc-9f52-671ceb2d8795"
      },
      "source": [
        "df_main.columns"
      ],
      "execution_count": null,
      "outputs": [
        {
          "output_type": "execute_result",
          "data": {
            "text/plain": [
              "Index(['Asin', 'Item Promo Discount', 'price', 'hour', 'Quantity',\n",
              "       'Invoice Amount', 'Year', 'Month', 'Week', 'Day', 'Dayofweek',\n",
              "       'Dayofyear', 'Is_month_end', 'Is_month_start', 'Is_quarter_end',\n",
              "       'Is_quarter_start', 'Is_year_end', 'Is_year_start', 'Elapsed'],\n",
              "      dtype='object')"
            ]
          },
          "metadata": {
            "tags": []
          },
          "execution_count": 36
        }
      ]
    },
    {
      "cell_type": "markdown",
      "metadata": {
        "id": "c4pccyzuUy_9"
      },
      "source": [
        "### Fastai Approach"
      ]
    },
    {
      "cell_type": "code",
      "metadata": {
        "id": "caiOO38zUzm_"
      },
      "source": [
        "device =torch.device('cuda' if torch.cuda.is_available() else 'cpu')"
      ],
      "execution_count": null,
      "outputs": []
    },
    {
      "cell_type": "code",
      "metadata": {
        "id": "bUDi3HTpUztB"
      },
      "source": [
        "dls = to.dataloaders(1024)"
      ],
      "execution_count": null,
      "outputs": []
    },
    {
      "cell_type": "code",
      "metadata": {
        "colab": {
          "base_uri": "https://localhost:8080/",
          "height": 206
        },
        "id": "6Q6wPyowUzqG",
        "outputId": "f4acd7a2-5011-4054-f442-29d848d39783"
      },
      "source": [
        "learn = tabular_learner(dls, layers=[500,250], n_out=1)\n",
        "learn.fit_one_cycle(5, 1e-3)"
      ],
      "execution_count": null,
      "outputs": [
        {
          "output_type": "display_data",
          "data": {
            "text/html": [
              "<table border=\"1\" class=\"dataframe\">\n",
              "  <thead>\n",
              "    <tr style=\"text-align: left;\">\n",
              "      <th>epoch</th>\n",
              "      <th>train_loss</th>\n",
              "      <th>valid_loss</th>\n",
              "      <th>time</th>\n",
              "    </tr>\n",
              "  </thead>\n",
              "  <tbody>\n",
              "    <tr>\n",
              "      <td>0</td>\n",
              "      <td>1.742647</td>\n",
              "      <td>3.595780</td>\n",
              "      <td>00:00</td>\n",
              "    </tr>\n",
              "    <tr>\n",
              "      <td>1</td>\n",
              "      <td>1.612347</td>\n",
              "      <td>50.271015</td>\n",
              "      <td>00:00</td>\n",
              "    </tr>\n",
              "    <tr>\n",
              "      <td>2</td>\n",
              "      <td>1.511296</td>\n",
              "      <td>260.635101</td>\n",
              "      <td>00:00</td>\n",
              "    </tr>\n",
              "    <tr>\n",
              "      <td>3</td>\n",
              "      <td>1.424649</td>\n",
              "      <td>215.328995</td>\n",
              "      <td>00:00</td>\n",
              "    </tr>\n",
              "    <tr>\n",
              "      <td>4</td>\n",
              "      <td>1.357270</td>\n",
              "      <td>118.722649</td>\n",
              "      <td>00:00</td>\n",
              "    </tr>\n",
              "  </tbody>\n",
              "</table>"
            ],
            "text/plain": [
              "<IPython.core.display.HTML object>"
            ]
          },
          "metadata": {
            "tags": []
          }
        }
      ]
    },
    {
      "cell_type": "code",
      "metadata": {
        "id": "OLtqPWHPWN2d"
      },
      "source": [
        "def embed_features(learner, xs):\n",
        "  \"\"\"\n",
        "  learner: fastai Learner used to train the neural net\n",
        "  xs: DataFrame containing input variables. Categorical values are defined by their rank. \n",
        " ::return:: copy of `xs` with embeddings replacing each categorical variable\n",
        "  \"\"\"\n",
        "  xs = xs.copy()\n",
        "  for i,col in enumerate(learn.dls.cat_names):\n",
        "    \n",
        "    # get matrix containing each row's embedding vector\n",
        "    emb = learn.model.embeds[i]\n",
        "    emb_data = emb(tensor(xs[col], dtype=torch.int64))\n",
        "    emb_names = [f'{col}_{j}' for j in range(emb_data.shape[1])]\n",
        "    \n",
        "    # join the embedded category and drop the old feature column\n",
        "    feat_df = pd.DataFrame(data=emb_data, index=xs.index,               \n",
        "                           columns=emb_names)\n",
        "    xs = xs.drop(col, axis=1)\n",
        "    xs = xs.join(feat_df)\n",
        "  return xs"
      ],
      "execution_count": null,
      "outputs": []
    },
    {
      "cell_type": "code",
      "metadata": {
        "colab": {
          "base_uri": "https://localhost:8080/",
          "height": 365
        },
        "id": "c35VUNj9WNjf",
        "outputId": "b45fe1ec-4796-44ba-b81e-e9d53a81ad22"
      },
      "source": [
        "emb_xs = embed_features(learn, to.train.xs)\n",
        "emb_valid_xs = embed_features(learn, to.valid.xs)"
      ],
      "execution_count": null,
      "outputs": [
        {
          "output_type": "error",
          "ename": "RuntimeError",
          "evalue": "ignored",
          "traceback": [
            "\u001b[0;31m---------------------------------------------------------------------------\u001b[0m",
            "\u001b[0;31mRuntimeError\u001b[0m                              Traceback (most recent call last)",
            "\u001b[0;32m<ipython-input-63-7f504916f2a8>\u001b[0m in \u001b[0;36m<module>\u001b[0;34m()\u001b[0m\n\u001b[0;32m----> 1\u001b[0;31m \u001b[0memb_xs\u001b[0m \u001b[0;34m=\u001b[0m \u001b[0membed_features\u001b[0m\u001b[0;34m(\u001b[0m\u001b[0mlearn\u001b[0m\u001b[0;34m,\u001b[0m \u001b[0mto\u001b[0m\u001b[0;34m.\u001b[0m\u001b[0mtrain\u001b[0m\u001b[0;34m.\u001b[0m\u001b[0mxs\u001b[0m\u001b[0;34m)\u001b[0m\u001b[0;34m\u001b[0m\u001b[0;34m\u001b[0m\u001b[0m\n\u001b[0m\u001b[1;32m      2\u001b[0m \u001b[0memb_valid_xs\u001b[0m \u001b[0;34m=\u001b[0m \u001b[0membed_features\u001b[0m\u001b[0;34m(\u001b[0m\u001b[0mlearn\u001b[0m\u001b[0;34m,\u001b[0m \u001b[0mto\u001b[0m\u001b[0;34m.\u001b[0m\u001b[0mvalid\u001b[0m\u001b[0;34m.\u001b[0m\u001b[0mxs\u001b[0m\u001b[0;34m)\u001b[0m\u001b[0;34m\u001b[0m\u001b[0;34m\u001b[0m\u001b[0m\n",
            "\u001b[0;32m<ipython-input-62-250d2312f54e>\u001b[0m in \u001b[0;36membed_features\u001b[0;34m(learner, xs)\u001b[0m\n\u001b[1;32m     10\u001b[0m     \u001b[0;31m# get matrix containing each row's embedding vector\u001b[0m\u001b[0;34m\u001b[0m\u001b[0;34m\u001b[0m\u001b[0;34m\u001b[0m\u001b[0m\n\u001b[1;32m     11\u001b[0m     \u001b[0memb\u001b[0m \u001b[0;34m=\u001b[0m \u001b[0mlearn\u001b[0m\u001b[0;34m.\u001b[0m\u001b[0mmodel\u001b[0m\u001b[0;34m.\u001b[0m\u001b[0membeds\u001b[0m\u001b[0;34m[\u001b[0m\u001b[0mi\u001b[0m\u001b[0;34m]\u001b[0m\u001b[0;34m\u001b[0m\u001b[0;34m\u001b[0m\u001b[0m\n\u001b[0;32m---> 12\u001b[0;31m     \u001b[0memb_data\u001b[0m \u001b[0;34m=\u001b[0m \u001b[0memb\u001b[0m\u001b[0;34m(\u001b[0m\u001b[0mtensor\u001b[0m\u001b[0;34m(\u001b[0m\u001b[0mxs\u001b[0m\u001b[0;34m[\u001b[0m\u001b[0mcol\u001b[0m\u001b[0;34m]\u001b[0m\u001b[0;34m,\u001b[0m \u001b[0mdtype\u001b[0m\u001b[0;34m=\u001b[0m\u001b[0mtorch\u001b[0m\u001b[0;34m.\u001b[0m\u001b[0mint64\u001b[0m\u001b[0;34m)\u001b[0m\u001b[0;34m)\u001b[0m\u001b[0;34m\u001b[0m\u001b[0;34m\u001b[0m\u001b[0m\n\u001b[0m\u001b[1;32m     13\u001b[0m     \u001b[0memb_names\u001b[0m \u001b[0;34m=\u001b[0m \u001b[0;34m[\u001b[0m\u001b[0;34mf'{col}_{j}'\u001b[0m \u001b[0;32mfor\u001b[0m \u001b[0mj\u001b[0m \u001b[0;32min\u001b[0m \u001b[0mrange\u001b[0m\u001b[0;34m(\u001b[0m\u001b[0memb_data\u001b[0m\u001b[0;34m.\u001b[0m\u001b[0mshape\u001b[0m\u001b[0;34m[\u001b[0m\u001b[0;36m1\u001b[0m\u001b[0;34m]\u001b[0m\u001b[0;34m)\u001b[0m\u001b[0;34m]\u001b[0m\u001b[0;34m\u001b[0m\u001b[0;34m\u001b[0m\u001b[0m\n\u001b[1;32m     14\u001b[0m \u001b[0;34m\u001b[0m\u001b[0m\n",
            "\u001b[0;32m/usr/local/lib/python3.7/dist-packages/torch/nn/modules/module.py\u001b[0m in \u001b[0;36m_call_impl\u001b[0;34m(self, *input, **kwargs)\u001b[0m\n\u001b[1;32m   1049\u001b[0m         if not (self._backward_hooks or self._forward_hooks or self._forward_pre_hooks or _global_backward_hooks\n\u001b[1;32m   1050\u001b[0m                 or _global_forward_hooks or _global_forward_pre_hooks):\n\u001b[0;32m-> 1051\u001b[0;31m             \u001b[0;32mreturn\u001b[0m \u001b[0mforward_call\u001b[0m\u001b[0;34m(\u001b[0m\u001b[0;34m*\u001b[0m\u001b[0minput\u001b[0m\u001b[0;34m,\u001b[0m \u001b[0;34m**\u001b[0m\u001b[0mkwargs\u001b[0m\u001b[0;34m)\u001b[0m\u001b[0;34m\u001b[0m\u001b[0;34m\u001b[0m\u001b[0m\n\u001b[0m\u001b[1;32m   1052\u001b[0m         \u001b[0;31m# Do not call functions when jit is used\u001b[0m\u001b[0;34m\u001b[0m\u001b[0;34m\u001b[0m\u001b[0;34m\u001b[0m\u001b[0m\n\u001b[1;32m   1053\u001b[0m         \u001b[0mfull_backward_hooks\u001b[0m\u001b[0;34m,\u001b[0m \u001b[0mnon_full_backward_hooks\u001b[0m \u001b[0;34m=\u001b[0m \u001b[0;34m[\u001b[0m\u001b[0;34m]\u001b[0m\u001b[0;34m,\u001b[0m \u001b[0;34m[\u001b[0m\u001b[0;34m]\u001b[0m\u001b[0;34m\u001b[0m\u001b[0;34m\u001b[0m\u001b[0m\n",
            "\u001b[0;32m/usr/local/lib/python3.7/dist-packages/torch/nn/modules/sparse.py\u001b[0m in \u001b[0;36mforward\u001b[0;34m(self, input)\u001b[0m\n\u001b[1;32m    158\u001b[0m         return F.embedding(\n\u001b[1;32m    159\u001b[0m             \u001b[0minput\u001b[0m\u001b[0;34m,\u001b[0m \u001b[0mself\u001b[0m\u001b[0;34m.\u001b[0m\u001b[0mweight\u001b[0m\u001b[0;34m,\u001b[0m \u001b[0mself\u001b[0m\u001b[0;34m.\u001b[0m\u001b[0mpadding_idx\u001b[0m\u001b[0;34m,\u001b[0m \u001b[0mself\u001b[0m\u001b[0;34m.\u001b[0m\u001b[0mmax_norm\u001b[0m\u001b[0;34m,\u001b[0m\u001b[0;34m\u001b[0m\u001b[0;34m\u001b[0m\u001b[0m\n\u001b[0;32m--> 160\u001b[0;31m             self.norm_type, self.scale_grad_by_freq, self.sparse)\n\u001b[0m\u001b[1;32m    161\u001b[0m \u001b[0;34m\u001b[0m\u001b[0m\n\u001b[1;32m    162\u001b[0m     \u001b[0;32mdef\u001b[0m \u001b[0mextra_repr\u001b[0m\u001b[0;34m(\u001b[0m\u001b[0mself\u001b[0m\u001b[0;34m)\u001b[0m \u001b[0;34m->\u001b[0m \u001b[0mstr\u001b[0m\u001b[0;34m:\u001b[0m\u001b[0;34m\u001b[0m\u001b[0;34m\u001b[0m\u001b[0m\n",
            "\u001b[0;32m/usr/local/lib/python3.7/dist-packages/torch/nn/functional.py\u001b[0m in \u001b[0;36membedding\u001b[0;34m(input, weight, padding_idx, max_norm, norm_type, scale_grad_by_freq, sparse)\u001b[0m\n\u001b[1;32m   2041\u001b[0m         \u001b[0;31m# remove once script supports set_grad_enabled\u001b[0m\u001b[0;34m\u001b[0m\u001b[0;34m\u001b[0m\u001b[0;34m\u001b[0m\u001b[0m\n\u001b[1;32m   2042\u001b[0m         \u001b[0m_no_grad_embedding_renorm_\u001b[0m\u001b[0;34m(\u001b[0m\u001b[0mweight\u001b[0m\u001b[0;34m,\u001b[0m \u001b[0minput\u001b[0m\u001b[0;34m,\u001b[0m \u001b[0mmax_norm\u001b[0m\u001b[0;34m,\u001b[0m \u001b[0mnorm_type\u001b[0m\u001b[0;34m)\u001b[0m\u001b[0;34m\u001b[0m\u001b[0;34m\u001b[0m\u001b[0m\n\u001b[0;32m-> 2043\u001b[0;31m     \u001b[0;32mreturn\u001b[0m \u001b[0mtorch\u001b[0m\u001b[0;34m.\u001b[0m\u001b[0membedding\u001b[0m\u001b[0;34m(\u001b[0m\u001b[0mweight\u001b[0m\u001b[0;34m,\u001b[0m \u001b[0minput\u001b[0m\u001b[0;34m,\u001b[0m \u001b[0mpadding_idx\u001b[0m\u001b[0;34m,\u001b[0m \u001b[0mscale_grad_by_freq\u001b[0m\u001b[0;34m,\u001b[0m \u001b[0msparse\u001b[0m\u001b[0;34m)\u001b[0m\u001b[0;34m\u001b[0m\u001b[0;34m\u001b[0m\u001b[0m\n\u001b[0m\u001b[1;32m   2044\u001b[0m \u001b[0;34m\u001b[0m\u001b[0m\n\u001b[1;32m   2045\u001b[0m \u001b[0;34m\u001b[0m\u001b[0m\n",
            "\u001b[0;31mRuntimeError\u001b[0m: Expected all tensors to be on the same device, but found at least two devices, cuda:0 and cpu! (when checking arugment for argument index in method wrapper_index_select)"
          ]
        }
      ]
    },
    {
      "cell_type": "code",
      "metadata": {
        "id": "0YOP9nG3WNeE"
      },
      "source": [
        ""
      ],
      "execution_count": null,
      "outputs": []
    },
    {
      "cell_type": "markdown",
      "metadata": {
        "id": "fjPkqoy7SzXy"
      },
      "source": [
        "### New"
      ]
    },
    {
      "cell_type": "code",
      "metadata": {
        "id": "t-4I9dpZS0mD"
      },
      "source": [
        ""
      ],
      "execution_count": null,
      "outputs": []
    },
    {
      "cell_type": "code",
      "metadata": {
        "id": "Zk8XbhnlS8n-"
      },
      "source": [
        "# embedding for ASiN\n",
        "n_unique_asins = df_main.Asin.nunique()\n",
        "n_dim_asins = int(math.sqrt(n_unique_asins))\n",
        "\n",
        "\n",
        "input_asin = Input(shape=(1,))\n",
        "output_asin = Embedding(input_dim = n_unique_asins, output_dim= n_dim_asins, name='asin')(input_asin)\n",
        "output_asin = Reshape(target_shape=(n_dim_asins,))(output_asin)"
      ],
      "execution_count": null,
      "outputs": []
    },
    {
      "cell_type": "code",
      "metadata": {
        "id": "bn6cAgmpS8n_"
      },
      "source": [
        "# embedding for hour\n",
        "n_unique_hour = df_main.hour.nunique()\n",
        "n_dim_hours = int(math.sqrt(n_unique_hour))\n",
        "\n",
        "input_hour = Input(shape=(1,))\n",
        "output_hour = Embedding(input_dim= n_unique_hour, output_dim=n_dim_hours,name='hours')(input_hour)\n",
        "output_hour = Reshape( target_shape= (n_dim_hours,))(output_hour)"
      ],
      "execution_count": null,
      "outputs": []
    },
    {
      "cell_type": "code",
      "metadata": {
        "id": "CgTUs3GzS8oB"
      },
      "source": [
        "# day_of week\n",
        "n_unique_day_of_week = df_main['Dayofweek'].nunique()\n",
        "n_dim_dayofweek = 3\n",
        "\n",
        "input_dayofweek = Input(shape=(1,))\n",
        "output_dayofweek = Embedding(input_dim= n_unique_day_of_week, output_dim=n_dim_dayofweek,name='dayofweek')(input_dayofweek)\n",
        "output_dayofweek = Reshape( target_shape= (n_dim_dayofweek,))(output_dayofweek)"
      ],
      "execution_count": null,
      "outputs": []
    },
    {
      "cell_type": "code",
      "metadata": {
        "id": "sdQFjpJrS8oC"
      },
      "source": [
        "# Month\n",
        "n_unique_month = df_main['Month'].nunique()\n",
        "n_dim_month = 7\n",
        "\n",
        "input_month = Input(shape=(1,))\n",
        "output_month = Embedding(input_dim= n_unique_month, output_dim=n_dim_month,name='month')(input_month)\n",
        "output_month = Reshape( target_shape= (n_dim_month,))(output_month)"
      ],
      "execution_count": null,
      "outputs": []
    },
    {
      "cell_type": "code",
      "metadata": {
        "id": "__DP4buHS8oE"
      },
      "source": [
        "# Day (1-31)\n",
        "n_unique_day = df_main['Day'].nunique()\n",
        "n_dim_day = int(math.sqrt(n_unique_day))\n",
        "\n",
        "input_day = Input(shape=(1,))\n",
        "output_day= Embedding(input_dim= n_unique_day, output_dim=n_dim_day,name='day')(input_day)\n",
        "output_day = Reshape( target_shape= (n_dim_day,))(output_day)"
      ],
      "execution_count": null,
      "outputs": []
    },
    {
      "cell_type": "code",
      "metadata": {
        "id": "gpkdFD50S8oF"
      },
      "source": [
        "# Week\n",
        "\n",
        "n_unique_week = df_main['Week'].nunique()\n",
        "n_dim_week = 30\n",
        "\n",
        "input_week = Input(shape=(1,))\n",
        "output_week= Embedding(input_dim= n_unique_week, output_dim=n_dim_week,name='week')(input_week)\n",
        "output_week = Reshape( target_shape= (n_dim_week,))(output_week)\n"
      ],
      "execution_count": null,
      "outputs": []
    },
    {
      "cell_type": "code",
      "metadata": {
        "id": "Yz2KS9cTS8xd"
      },
      "source": [
        "input_layers = [input_asin, input_hour, input_dayofweek, input_month, input_day, input_week ]\n",
        "output_layers = [output_asin, output_hour, output_dayofweek, output_month, output_day, output_week ] "
      ],
      "execution_count": null,
      "outputs": []
    },
    {
      "cell_type": "code",
      "metadata": {
        "id": "5v_zS6XgTaVQ"
      },
      "source": [
        "model = Concatenate()(output_layers)"
      ],
      "execution_count": null,
      "outputs": []
    },
    {
      "cell_type": "code",
      "metadata": {
        "id": "ATV4bSJSTcqS"
      },
      "source": [
        "# Add a few hidden layers\n",
        "model = Dense(200, kernel_initializer=\"uniform\")(model)\n",
        "model = Activation('relu')(model)\n",
        "\n",
        "model = Dense(100, kernel_initializer=\"uniform\")(model)\n",
        "model = Activation('relu')(model)\n",
        "# And finally our output layer\n",
        "model = Dense(1)(model)\n",
        "model = Activation('sigmoid')(model)"
      ],
      "execution_count": null,
      "outputs": []
    },
    {
      "cell_type": "code",
      "metadata": {
        "colab": {
          "base_uri": "https://localhost:8080/"
        },
        "id": "juknxdojTfXw",
        "outputId": "0029426b-59b8-451a-d498-a65285231c58"
      },
      "source": [
        "model = KerasModel(inputs=input_layers, outputs=model)\n",
        "model.summary()"
      ],
      "execution_count": null,
      "outputs": [
        {
          "output_type": "stream",
          "text": [
            "Model: \"model_1\"\n",
            "__________________________________________________________________________________________________\n",
            "Layer (type)                    Output Shape         Param #     Connected to                     \n",
            "==================================================================================================\n",
            "input_8 (InputLayer)            [(None, 1)]          0                                            \n",
            "__________________________________________________________________________________________________\n",
            "input_9 (InputLayer)            [(None, 1)]          0                                            \n",
            "__________________________________________________________________________________________________\n",
            "input_10 (InputLayer)           [(None, 1)]          0                                            \n",
            "__________________________________________________________________________________________________\n",
            "input_11 (InputLayer)           [(None, 1)]          0                                            \n",
            "__________________________________________________________________________________________________\n",
            "input_12 (InputLayer)           [(None, 1)]          0                                            \n",
            "__________________________________________________________________________________________________\n",
            "input_13 (InputLayer)           [(None, 1)]          0                                            \n",
            "__________________________________________________________________________________________________\n",
            "asin (Embedding)                (None, 1, 6)         276         input_8[0][0]                    \n",
            "__________________________________________________________________________________________________\n",
            "hours (Embedding)               (None, 1, 4)         96          input_9[0][0]                    \n",
            "__________________________________________________________________________________________________\n",
            "dayofweek (Embedding)           (None, 1, 3)         21          input_10[0][0]                   \n",
            "__________________________________________________________________________________________________\n",
            "month (Embedding)               (None, 1, 7)         84          input_11[0][0]                   \n",
            "__________________________________________________________________________________________________\n",
            "day (Embedding)                 (None, 1, 5)         155         input_12[0][0]                   \n",
            "__________________________________________________________________________________________________\n",
            "week (Embedding)                (None, 1, 30)        1590        input_13[0][0]                   \n",
            "__________________________________________________________________________________________________\n",
            "reshape_7 (Reshape)             (None, 6)            0           asin[0][0]                       \n",
            "__________________________________________________________________________________________________\n",
            "reshape_8 (Reshape)             (None, 4)            0           hours[0][0]                      \n",
            "__________________________________________________________________________________________________\n",
            "reshape_9 (Reshape)             (None, 3)            0           dayofweek[0][0]                  \n",
            "__________________________________________________________________________________________________\n",
            "reshape_10 (Reshape)            (None, 7)            0           month[0][0]                      \n",
            "__________________________________________________________________________________________________\n",
            "reshape_11 (Reshape)            (None, 5)            0           day[0][0]                        \n",
            "__________________________________________________________________________________________________\n",
            "reshape_12 (Reshape)            (None, 30)           0           week[0][0]                       \n",
            "__________________________________________________________________________________________________\n",
            "concatenate_1 (Concatenate)     (None, 55)           0           reshape_7[0][0]                  \n",
            "                                                                 reshape_8[0][0]                  \n",
            "                                                                 reshape_9[0][0]                  \n",
            "                                                                 reshape_10[0][0]                 \n",
            "                                                                 reshape_11[0][0]                 \n",
            "                                                                 reshape_12[0][0]                 \n",
            "__________________________________________________________________________________________________\n",
            "dense_3 (Dense)                 (None, 200)          11200       concatenate_1[0][0]              \n",
            "__________________________________________________________________________________________________\n",
            "activation_3 (Activation)       (None, 200)          0           dense_3[0][0]                    \n",
            "__________________________________________________________________________________________________\n",
            "dense_4 (Dense)                 (None, 200)          40200       activation_3[0][0]               \n",
            "__________________________________________________________________________________________________\n",
            "activation_4 (Activation)       (None, 200)          0           dense_4[0][0]                    \n",
            "__________________________________________________________________________________________________\n",
            "dense_5 (Dense)                 (None, 100)          20100       activation_4[0][0]               \n",
            "__________________________________________________________________________________________________\n",
            "activation_5 (Activation)       (None, 100)          0           dense_5[0][0]                    \n",
            "__________________________________________________________________________________________________\n",
            "dense_6 (Dense)                 (None, 1)            101         activation_5[0][0]               \n",
            "__________________________________________________________________________________________________\n",
            "activation_6 (Activation)       (None, 1)            0           dense_6[0][0]                    \n",
            "==================================================================================================\n",
            "Total params: 73,823\n",
            "Trainable params: 73,823\n",
            "Non-trainable params: 0\n",
            "__________________________________________________________________________________________________\n"
          ],
          "name": "stdout"
        }
      ]
    },
    {
      "cell_type": "code",
      "metadata": {
        "colab": {
          "base_uri": "https://localhost:8080/",
          "height": 185
        },
        "id": "tP2B4w7JTlEo",
        "outputId": "a4bb6475-e71f-47ef-9bae-c463eb1815bd"
      },
      "source": [
        "opt = SGD(  ,lr=0.05)\n",
        "model.compile(loss='mse', optimizer=opt, metrics=['mse'])"
      ],
      "execution_count": null,
      "outputs": [
        {
          "output_type": "error",
          "ename": "TypeError",
          "evalue": "ignored",
          "traceback": [
            "\u001b[0;31m---------------------------------------------------------------------------\u001b[0m",
            "\u001b[0;31mTypeError\u001b[0m                                 Traceback (most recent call last)",
            "\u001b[0;32m<ipython-input-53-4fb507175423>\u001b[0m in \u001b[0;36m<module>\u001b[0;34m()\u001b[0m\n\u001b[0;32m----> 1\u001b[0;31m \u001b[0mopt\u001b[0m \u001b[0;34m=\u001b[0m \u001b[0mSGD\u001b[0m\u001b[0;34m(\u001b[0m\u001b[0mlr\u001b[0m\u001b[0;34m=\u001b[0m\u001b[0;36m0.05\u001b[0m\u001b[0;34m)\u001b[0m\u001b[0;34m\u001b[0m\u001b[0;34m\u001b[0m\u001b[0m\n\u001b[0m\u001b[1;32m      2\u001b[0m \u001b[0mmodel\u001b[0m\u001b[0;34m.\u001b[0m\u001b[0mcompile\u001b[0m\u001b[0;34m(\u001b[0m\u001b[0mloss\u001b[0m\u001b[0;34m=\u001b[0m\u001b[0;34m'mse'\u001b[0m\u001b[0;34m,\u001b[0m \u001b[0moptimizer\u001b[0m\u001b[0;34m=\u001b[0m\u001b[0mopt\u001b[0m\u001b[0;34m,\u001b[0m \u001b[0mmetrics\u001b[0m\u001b[0;34m=\u001b[0m\u001b[0;34m[\u001b[0m\u001b[0;34m'mse'\u001b[0m\u001b[0;34m]\u001b[0m\u001b[0;34m)\u001b[0m\u001b[0;34m\u001b[0m\u001b[0;34m\u001b[0m\u001b[0m\n",
            "\u001b[0;31mTypeError\u001b[0m: SGD() missing 1 required positional argument: 'params'"
          ]
        }
      ]
    },
    {
      "cell_type": "code",
      "metadata": {
        "id": "vRYfoIz1TvcY"
      },
      "source": [
        ""
      ],
      "execution_count": null,
      "outputs": []
    }
  ]
}