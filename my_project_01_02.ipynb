{
  "nbformat": 4,
  "nbformat_minor": 0,
  "metadata": {
    "colab": {
      "name": "my_project_01.02.ipynb",
      "provenance": [],
      "collapsed_sections": [
        "c4pccyzuUy_9",
        "fjPkqoy7SzXy"
      ],
      "include_colab_link": true
    },
    "kernelspec": {
      "name": "python3",
      "display_name": "Python 3"
    },
    "language_info": {
      "name": "python"
    },
    "accelerator": "GPU"
  },
  "cells": [
    {
      "cell_type": "markdown",
      "metadata": {
        "id": "view-in-github",
        "colab_type": "text"
      },
      "source": [
        "<a href=\"https://colab.research.google.com/github/akshaypt7/amazon_sales_prediction/blob/main/my_project_01_02.ipynb\" target=\"_parent\"><img src=\"https://colab.research.google.com/assets/colab-badge.svg\" alt=\"Open In Colab\"/></a>"
      ]
    },
    {
      "cell_type": "markdown",
      "metadata": {
        "id": "urz7J5nfOrzm"
      },
      "source": [
        "### Introductions"
      ]
    },
    {
      "cell_type": "markdown",
      "metadata": {
        "id": "4jvTEZXZdjR8"
      },
      "source": [
        "#### Improvements from 1.01\n",
        "\n",
        "- Here we are planning to improve the results we got from 1.2, by introducing Embedding. We create embeddings for the neural network we will also try to use the same in random forest and see its performance.\n",
        "\n",
        "  We need to refresh our knowledge on Embeddgings. first we will write about it and then we can also look at the excersice we have done earlier."
      ]
    },
    {
      "cell_type": "markdown",
      "metadata": {
        "id": "bQW88LuB0MDJ"
      },
      "source": [
        ""
      ]
    },
    {
      "cell_type": "markdown",
      "metadata": {
        "id": "odNKn0zmQguN"
      },
      "source": [
        "**Refer this - https://towardsdatascience.com/enhancing-categorical-features-with-entity-embeddings-e6850a5e34ff**"
      ]
    },
    {
      "cell_type": "markdown",
      "metadata": {
        "id": "ZhjMxORePGWY"
      },
      "source": [
        "#### Importing Libraries"
      ]
    },
    {
      "cell_type": "code",
      "metadata": {
        "id": "AOf7-glAqKQD",
        "colab": {
          "base_uri": "https://localhost:8080/"
        },
        "outputId": "eb144b69-6452-4425-ea0a-3f45835eea60"
      },
      "source": [
        "!pip install -Uqq fastbook\n",
        "import fastbook\n",
        "fastbook.setup_book()"
      ],
      "execution_count": null,
      "outputs": [
        {
          "output_type": "stream",
          "text": [
            "\u001b[K     |████████████████████████████████| 720 kB 11.5 MB/s \n",
            "\u001b[K     |████████████████████████████████| 46 kB 4.0 MB/s \n",
            "\u001b[K     |████████████████████████████████| 188 kB 50.2 MB/s \n",
            "\u001b[K     |████████████████████████████████| 1.2 MB 41.0 MB/s \n",
            "\u001b[K     |████████████████████████████████| 53 kB 1.9 MB/s \n",
            "\u001b[K     |████████████████████████████████| 51 kB 292 kB/s \n",
            "\u001b[?25hMounted at /content/gdrive\n"
          ],
          "name": "stdout"
        }
      ]
    },
    {
      "cell_type": "code",
      "metadata": {
        "id": "CMc_wTu9apCs"
      },
      "source": [
        "#hide\n",
        "from fastbook import *\n",
        "# from kaggle import api\n",
        "from pandas.api.types import is_string_dtype, is_numeric_dtype, is_categorical_dtype\n",
        "from fastai.tabular.all import *\n",
        "from sklearn.ensemble import RandomForestRegressor, RandomForestClassifier\n",
        "from sklearn.tree import DecisionTreeRegressor\n",
        "# from dtreeviz.trees import *\n",
        "from IPython.display import Image, display_svg, SVG\n",
        "\n",
        "pd.options.display.max_rows = 20\n",
        "pd.options.display.max_columns = 8"
      ],
      "execution_count": null,
      "outputs": []
    },
    {
      "cell_type": "code",
      "metadata": {
        "id": "q26gA0_jd4-C"
      },
      "source": [
        "from sklearn.model_selection import ParameterGrid\n",
        "from keras.models import Sequential\n",
        "from keras.models import Model as KerasModel\n",
        "from keras.layers import Input, Dense, Activation, Reshape\n",
        "from keras.layers import Concatenate\n",
        "from keras.layers import Dense, Flatten, Dropout, Input, Embedding, Reshape\n",
        "from keras.layers import concatenate\n",
        "from sklearn.ensemble import RandomForestRegressor\n",
        "from sklearn import linear_model\n",
        "import pickle\n",
        "import csv\n",
        "from datetime import datetime\n",
        "from sklearn import preprocessing\n",
        "from keras.callbacks import ModelCheckpoint\n",
        "import xgboost as xgb\n",
        "from sklearn.preprocessing import OneHotEncoder\n",
        "%matplotlib inline\n",
        "import math\n",
        "from sklearn.model_selection import train_test_split\n",
        "\n",
        "import pandas as pd"
      ],
      "execution_count": null,
      "outputs": []
    },
    {
      "cell_type": "markdown",
      "metadata": {
        "id": "ll26EDVsPLWR"
      },
      "source": [
        "#### Loading the Dataframe"
      ]
    },
    {
      "cell_type": "code",
      "metadata": {
        "id": "hrSVr08wZYGu"
      },
      "source": [
        "infile = open('/content/gdrive/MyDrive/bluebook/df_main.pkl','rb')\n",
        "df_main = pickle.load(infile)"
      ],
      "execution_count": null,
      "outputs": []
    },
    {
      "cell_type": "code",
      "metadata": {
        "id": "MIW-uPJ5ahf5"
      },
      "source": [
        "df_main = add_datepart(df_main,'date')"
      ],
      "execution_count": null,
      "outputs": []
    },
    {
      "cell_type": "code",
      "metadata": {
        "colab": {
          "base_uri": "https://localhost:8080/",
          "height": 236
        },
        "id": "umhNij-KZ6VX",
        "outputId": "c28506f6-a7c8-4536-d8d2-7ca1b61a6a47"
      },
      "source": [
        "df_main.head()"
      ],
      "execution_count": null,
      "outputs": [
        {
          "output_type": "execute_result",
          "data": {
            "text/html": [
              "<div>\n",
              "<style scoped>\n",
              "    .dataframe tbody tr th:only-of-type {\n",
              "        vertical-align: middle;\n",
              "    }\n",
              "\n",
              "    .dataframe tbody tr th {\n",
              "        vertical-align: top;\n",
              "    }\n",
              "\n",
              "    .dataframe thead th {\n",
              "        text-align: right;\n",
              "    }\n",
              "</style>\n",
              "<table border=\"1\" class=\"dataframe\">\n",
              "  <thead>\n",
              "    <tr style=\"text-align: right;\">\n",
              "      <th></th>\n",
              "      <th>Asin</th>\n",
              "      <th>Item Promo Discount</th>\n",
              "      <th>price</th>\n",
              "      <th>hour</th>\n",
              "      <th>...</th>\n",
              "      <th>Is_quarter_start</th>\n",
              "      <th>Is_year_end</th>\n",
              "      <th>Is_year_start</th>\n",
              "      <th>Elapsed</th>\n",
              "    </tr>\n",
              "  </thead>\n",
              "  <tbody>\n",
              "    <tr>\n",
              "      <th>0</th>\n",
              "      <td>B07KYFHTGF</td>\n",
              "      <td>0.00</td>\n",
              "      <td>1995.00</td>\n",
              "      <td>12.0</td>\n",
              "      <td>...</td>\n",
              "      <td>False</td>\n",
              "      <td>False</td>\n",
              "      <td>False</td>\n",
              "      <td>1.609718e+09</td>\n",
              "    </tr>\n",
              "    <tr>\n",
              "      <th>1</th>\n",
              "      <td>B07TM3LRVB</td>\n",
              "      <td>-56.75</td>\n",
              "      <td>1078.25</td>\n",
              "      <td>20.0</td>\n",
              "      <td>...</td>\n",
              "      <td>False</td>\n",
              "      <td>False</td>\n",
              "      <td>False</td>\n",
              "      <td>1.610064e+09</td>\n",
              "    </tr>\n",
              "    <tr>\n",
              "      <th>2</th>\n",
              "      <td>B08976V1BZ</td>\n",
              "      <td>-79.95</td>\n",
              "      <td>1519.05</td>\n",
              "      <td>22.0</td>\n",
              "      <td>...</td>\n",
              "      <td>False</td>\n",
              "      <td>False</td>\n",
              "      <td>False</td>\n",
              "      <td>1.610150e+09</td>\n",
              "    </tr>\n",
              "    <tr>\n",
              "      <th>3</th>\n",
              "      <td>B07TM3LRVB</td>\n",
              "      <td>0.00</td>\n",
              "      <td>1135.00</td>\n",
              "      <td>10.0</td>\n",
              "      <td>...</td>\n",
              "      <td>False</td>\n",
              "      <td>False</td>\n",
              "      <td>False</td>\n",
              "      <td>1.610323e+09</td>\n",
              "    </tr>\n",
              "    <tr>\n",
              "      <th>4</th>\n",
              "      <td>B08332221J</td>\n",
              "      <td>0.00</td>\n",
              "      <td>1499.00</td>\n",
              "      <td>12.0</td>\n",
              "      <td>...</td>\n",
              "      <td>False</td>\n",
              "      <td>False</td>\n",
              "      <td>False</td>\n",
              "      <td>1.610410e+09</td>\n",
              "    </tr>\n",
              "  </tbody>\n",
              "</table>\n",
              "<p>5 rows × 19 columns</p>\n",
              "</div>"
            ],
            "text/plain": [
              "         Asin  Item Promo Discount    price  hour  ...  Is_quarter_start  \\\n",
              "0  B07KYFHTGF                 0.00  1995.00  12.0  ...             False   \n",
              "1  B07TM3LRVB               -56.75  1078.25  20.0  ...             False   \n",
              "2  B08976V1BZ               -79.95  1519.05  22.0  ...             False   \n",
              "3  B07TM3LRVB                 0.00  1135.00  10.0  ...             False   \n",
              "4  B08332221J                 0.00  1499.00  12.0  ...             False   \n",
              "\n",
              "   Is_year_end  Is_year_start       Elapsed  \n",
              "0        False          False  1.609718e+09  \n",
              "1        False          False  1.610064e+09  \n",
              "2        False          False  1.610150e+09  \n",
              "3        False          False  1.610323e+09  \n",
              "4        False          False  1.610410e+09  \n",
              "\n",
              "[5 rows x 19 columns]"
            ]
          },
          "metadata": {
            "tags": []
          },
          "execution_count": 19
        }
      ]
    },
    {
      "cell_type": "code",
      "metadata": {
        "colab": {
          "base_uri": "https://localhost:8080/"
        },
        "id": "_S3hY4Kpa4vq",
        "outputId": "0fb3998d-2541-44fa-e606-6caf46a75d18"
      },
      "source": [
        "df_main.columns"
      ],
      "execution_count": null,
      "outputs": [
        {
          "output_type": "execute_result",
          "data": {
            "text/plain": [
              "Index(['Asin', 'Item Promo Discount', 'price', 'hour', 'Quantity',\n",
              "       'Invoice Amount', 'Year', 'Month', 'Week', 'Day', 'Dayofweek',\n",
              "       'Dayofyear', 'Is_month_end', 'Is_month_start', 'Is_quarter_end',\n",
              "       'Is_quarter_start', 'Is_year_end', 'Is_year_start', 'Elapsed'],\n",
              "      dtype='object')"
            ]
          },
          "metadata": {
            "tags": []
          },
          "execution_count": 20
        }
      ]
    },
    {
      "cell_type": "code",
      "metadata": {
        "id": "LvpLxHx_dkUB"
      },
      "source": [
        "import math"
      ],
      "execution_count": null,
      "outputs": []
    },
    {
      "cell_type": "markdown",
      "metadata": {
        "id": "brc7cT-ZjBNU"
      },
      "source": [
        "#### Xtrain and X_valid"
      ]
    },
    {
      "cell_type": "code",
      "metadata": {
        "id": "CZYXI1nprxGg"
      },
      "source": [
        "procs = [Categorify, FillMissing]"
      ],
      "execution_count": null,
      "outputs": []
    },
    {
      "cell_type": "code",
      "metadata": {
        "id": "IObgmjvjB0oo"
      },
      "source": [
        "\n",
        "dep_var = 'Quantity'"
      ],
      "execution_count": null,
      "outputs": []
    },
    {
      "cell_type": "code",
      "metadata": {
        "id": "qS4xPlg3rxEF"
      },
      "source": [
        "cont, cat = cont_cat_split( df_main,1,dep_var= dep_var)"
      ],
      "execution_count": null,
      "outputs": []
    },
    {
      "cell_type": "code",
      "metadata": {
        "id": "x5XOilIJXAKF"
      },
      "source": [
        "cont =['Item Promo Discount',\n",
        " 'price',\n",
        " 'Invoice Amount',\n",
        " 'Year',\n",
        " 'Elapsed']"
      ],
      "execution_count": null,
      "outputs": []
    },
    {
      "cell_type": "code",
      "metadata": {
        "id": "p7FJFKKYW-78"
      },
      "source": [
        "cat = ['Asin',\n",
        " 'Is_month_end',\n",
        " 'Is_month_start',\n",
        " 'Is_quarter_end',\n",
        " 'Is_quarter_start',\n",
        " 'Is_year_end',\n",
        " 'Is_year_start',\n",
        " 'hour','Month','Week', 'Day','Dayofweek','Dayofyear']"
      ],
      "execution_count": null,
      "outputs": []
    },
    {
      "cell_type": "code",
      "metadata": {
        "id": "rWE4_N7OBgLV"
      },
      "source": [
        "# SPLITS \n",
        "condition = (df_main.Year < 2020) | (df_main.Month < 8)\n",
        "train_idx = np.where(condition)[0]\n",
        "valid_idx = np.where(~condition)[0]"
      ],
      "execution_count": null,
      "outputs": []
    },
    {
      "cell_type": "code",
      "metadata": {
        "colab": {
          "base_uri": "https://localhost:8080/"
        },
        "id": "naA-yq3xDbdK",
        "outputId": "92054ca9-cc5a-48ca-bf42-82a6b856c2f3"
      },
      "source": [
        "len(train_idx), len(valid_idx)"
      ],
      "execution_count": null,
      "outputs": [
        {
          "output_type": "execute_result",
          "data": {
            "text/plain": [
              "(7517, 3429)"
            ]
          },
          "metadata": {
            "tags": []
          },
          "execution_count": 13
        }
      ]
    },
    {
      "cell_type": "code",
      "metadata": {
        "id": "TKSM7u9yGf1g"
      },
      "source": [
        "splits = (list(train_idx),list(valid_idx))"
      ],
      "execution_count": null,
      "outputs": []
    },
    {
      "cell_type": "code",
      "metadata": {
        "id": "Xn13V3eN0A5F"
      },
      "source": [
        "\n",
        "to = TabularPandas(df_main, procs= procs,cat_names= cat, cont_names=cont, splits= splits,y_names=dep_var)"
      ],
      "execution_count": null,
      "outputs": []
    },
    {
      "cell_type": "code",
      "metadata": {
        "id": "hOK02Cqo0P1V"
      },
      "source": [
        "x_train,y_train = to.train.xs, to.train.y\n",
        "x_valid, y_valid = to.valid.xs, to.valid.y"
      ],
      "execution_count": null,
      "outputs": []
    },
    {
      "cell_type": "code",
      "metadata": {
        "colab": {
          "base_uri": "https://localhost:8080/"
        },
        "id": "pBLmJ9cScJhA",
        "outputId": "3b399d06-a750-4e04-cd05-f812290277e5"
      },
      "source": [
        "df_main.Month.unique()"
      ],
      "execution_count": null,
      "outputs": [
        {
          "output_type": "execute_result",
          "data": {
            "text/plain": [
              "array([ 1,  2, 12,  3,  4,  5,  6,  7,  8,  9, 10, 11])"
            ]
          },
          "metadata": {
            "tags": []
          },
          "execution_count": 20
        }
      ]
    },
    {
      "cell_type": "code",
      "metadata": {
        "colab": {
          "base_uri": "https://localhost:8080/"
        },
        "id": "YlwbXjRdb3WF",
        "outputId": "2e67f342-1622-4c09-c794-fed513b03bd4"
      },
      "source": [
        "x_train.Month.unique() , x_train.Month.nunique()"
      ],
      "execution_count": null,
      "outputs": [
        {
          "output_type": "execute_result",
          "data": {
            "text/plain": [
              "(array([ 1,  2,  3,  4,  5,  6,  7, 10,  9,  8], dtype=int8), 10)"
            ]
          },
          "metadata": {
            "tags": []
          },
          "execution_count": 22
        }
      ]
    },
    {
      "cell_type": "markdown",
      "metadata": {
        "id": "_ATn5_W3o_hm"
      },
      "source": [
        "##### New splits "
      ]
    },
    {
      "cell_type": "code",
      "metadata": {
        "id": "ctMIN7lQpC_K"
      },
      "source": [
        "condition_1 = (df_main.Year < 2022)\n",
        "train_idx_1 = np.where(condition_1)[0]\n",
        "valid_idx_1 = np.where(~condition_1)[0]"
      ],
      "execution_count": null,
      "outputs": []
    },
    {
      "cell_type": "code",
      "metadata": {
        "colab": {
          "base_uri": "https://localhost:8080/"
        },
        "id": "CrOktPQRpC7F",
        "outputId": "ad19ab6b-51f0-48cb-c48c-d9a6492dd18d"
      },
      "source": [
        "len(train_idx_1), len(valid_idx_1)"
      ],
      "execution_count": null,
      "outputs": [
        {
          "output_type": "execute_result",
          "data": {
            "text/plain": [
              "(10946, 0)"
            ]
          },
          "metadata": {
            "tags": []
          },
          "execution_count": 24
        }
      ]
    },
    {
      "cell_type": "code",
      "metadata": {
        "id": "qwqevq2wprk1"
      },
      "source": [
        "splits_1 = (list(train_idx_1),list(valid_idx_1))"
      ],
      "execution_count": null,
      "outputs": []
    },
    {
      "cell_type": "code",
      "metadata": {
        "id": "ApCWfVH7pxJK"
      },
      "source": [
        ""
      ],
      "execution_count": null,
      "outputs": []
    },
    {
      "cell_type": "code",
      "metadata": {
        "id": "MIdtnbbppxVS"
      },
      "source": [
        "\n",
        "to_1 = TabularPandas(df_main, procs= procs,cat_names= cat, cont_names=cont, splits= splits_1,y_names=dep_var)"
      ],
      "execution_count": null,
      "outputs": []
    },
    {
      "cell_type": "code",
      "metadata": {
        "id": "GhJm8r1KpxVU"
      },
      "source": [
        "x_train_1,y_train_1 = to_1.train.xs, to_1.train.y\n",
        "x_valid_1, y_valid_1 = to_1.valid.xs, to_1.valid.y"
      ],
      "execution_count": null,
      "outputs": []
    },
    {
      "cell_type": "code",
      "metadata": {
        "colab": {
          "base_uri": "https://localhost:8080/"
        },
        "id": "-vAN3rlfcfm4",
        "outputId": "59ee692b-d70c-430a-a0d1-f4ac5514ca82"
      },
      "source": [
        "x_train_1.Month.unique() , x_train_1.Month.nunique()"
      ],
      "execution_count": null,
      "outputs": [
        {
          "output_type": "execute_result",
          "data": {
            "text/plain": [
              "(array([ 1,  2, 12,  3,  4,  5,  6,  7,  8,  9, 10, 11], dtype=int8), 12)"
            ]
          },
          "metadata": {
            "tags": []
          },
          "execution_count": 29
        }
      ]
    },
    {
      "cell_type": "markdown",
      "metadata": {
        "id": "HV5-by4gXmM_"
      },
      "source": [
        "### Rough Work\n",
        "\n",
        "One thing we have to note is we have done embedding in univ.ai with dictionary."
      ]
    },
    {
      "cell_type": "markdown",
      "metadata": {
        "id": "DjA9osY6epP6"
      },
      "source": [
        "#### Encoding"
      ]
    },
    {
      "cell_type": "markdown",
      "metadata": {
        "id": "RlVBPEw2hbeS"
      },
      "source": [
        "[input_asin, input_hour, input_dayofweek, input_month, input_day, input_week ]"
      ]
    },
    {
      "cell_type": "code",
      "metadata": {
        "colab": {
          "base_uri": "https://localhost:8080/"
        },
        "id": "VSUFXqZWheM1",
        "outputId": "6a96797d-a658-42b7-ae58-9094ba1653c7"
      },
      "source": [
        "df_main.columns"
      ],
      "execution_count": null,
      "outputs": [
        {
          "output_type": "execute_result",
          "data": {
            "text/plain": [
              "Index(['Asin', 'Item Promo Discount', 'price', 'hour', 'Quantity',\n",
              "       'Invoice Amount', 'Year', 'Month', 'Week', 'Day', 'Dayofweek',\n",
              "       'Dayofyear', 'Is_month_end', 'Is_month_start', 'Is_quarter_end',\n",
              "       'Is_quarter_start', 'Is_year_end', 'Is_year_start', 'Elapsed'],\n",
              "      dtype='object')"
            ]
          },
          "metadata": {
            "tags": []
          },
          "execution_count": 33
        }
      ]
    },
    {
      "cell_type": "code",
      "metadata": {
        "id": "HM10uhszhO_H"
      },
      "source": [
        "cat = ['Asin',\n",
        " 'Is_month_end',\n",
        " 'Is_month_start',\n",
        " 'Is_quarter_end',\n",
        " 'Is_quarter_start',\n",
        " 'Is_year_end',\n",
        " 'Is_year_start',\n",
        " 'hour','Month','Week', 'Day','Dayofweek','Dayofyear']"
      ],
      "execution_count": null,
      "outputs": []
    },
    {
      "cell_type": "code",
      "metadata": {
        "id": "PLVFHWR1g0S9"
      },
      "source": [
        "from sklearn.model_selection import train_test_split\n",
        "from sklearn.preprocessing import OrdinalEncoder"
      ],
      "execution_count": null,
      "outputs": []
    },
    {
      "cell_type": "code",
      "metadata": {
        "id": "Z-2n3PIXhxv7"
      },
      "source": [
        "X_train, X_test, y_train, y_test = train_test_split(df_main.drop(['Quantity'],axis=1), df_main['Quantity'], test_size=0.1, random_state=42)"
      ],
      "execution_count": null,
      "outputs": []
    },
    {
      "cell_type": "code",
      "metadata": {
        "id": "XXYHFhuLjIE5"
      },
      "source": [
        "enc = OrdinalEncoder()\n",
        "enc.fit(df_main[cat])\n",
        "df_main[cat]= enc.transform(df_main[cat])"
      ],
      "execution_count": null,
      "outputs": []
    },
    {
      "cell_type": "code",
      "metadata": {
        "colab": {
          "base_uri": "https://localhost:8080/",
          "height": 236
        },
        "id": "q1k4aKIpjH-p",
        "outputId": "29141d97-d90c-4e9d-b026-0388e4f59ceb"
      },
      "source": [
        "df_main.head()"
      ],
      "execution_count": null,
      "outputs": [
        {
          "output_type": "execute_result",
          "data": {
            "text/html": [
              "<div>\n",
              "<style scoped>\n",
              "    .dataframe tbody tr th:only-of-type {\n",
              "        vertical-align: middle;\n",
              "    }\n",
              "\n",
              "    .dataframe tbody tr th {\n",
              "        vertical-align: top;\n",
              "    }\n",
              "\n",
              "    .dataframe thead th {\n",
              "        text-align: right;\n",
              "    }\n",
              "</style>\n",
              "<table border=\"1\" class=\"dataframe\">\n",
              "  <thead>\n",
              "    <tr style=\"text-align: right;\">\n",
              "      <th></th>\n",
              "      <th>Asin</th>\n",
              "      <th>Item Promo Discount</th>\n",
              "      <th>price</th>\n",
              "      <th>hour</th>\n",
              "      <th>...</th>\n",
              "      <th>Is_quarter_start</th>\n",
              "      <th>Is_year_end</th>\n",
              "      <th>Is_year_start</th>\n",
              "      <th>Elapsed</th>\n",
              "    </tr>\n",
              "  </thead>\n",
              "  <tbody>\n",
              "    <tr>\n",
              "      <th>0</th>\n",
              "      <td>1.0</td>\n",
              "      <td>0.00</td>\n",
              "      <td>1995.00</td>\n",
              "      <td>12.0</td>\n",
              "      <td>...</td>\n",
              "      <td>0.0</td>\n",
              "      <td>0.0</td>\n",
              "      <td>0.0</td>\n",
              "      <td>1.609718e+09</td>\n",
              "    </tr>\n",
              "    <tr>\n",
              "      <th>1</th>\n",
              "      <td>7.0</td>\n",
              "      <td>-56.75</td>\n",
              "      <td>1078.25</td>\n",
              "      <td>20.0</td>\n",
              "      <td>...</td>\n",
              "      <td>0.0</td>\n",
              "      <td>0.0</td>\n",
              "      <td>0.0</td>\n",
              "      <td>1.610064e+09</td>\n",
              "    </tr>\n",
              "    <tr>\n",
              "      <th>2</th>\n",
              "      <td>27.0</td>\n",
              "      <td>-79.95</td>\n",
              "      <td>1519.05</td>\n",
              "      <td>22.0</td>\n",
              "      <td>...</td>\n",
              "      <td>0.0</td>\n",
              "      <td>0.0</td>\n",
              "      <td>0.0</td>\n",
              "      <td>1.610150e+09</td>\n",
              "    </tr>\n",
              "    <tr>\n",
              "      <th>3</th>\n",
              "      <td>7.0</td>\n",
              "      <td>0.00</td>\n",
              "      <td>1135.00</td>\n",
              "      <td>10.0</td>\n",
              "      <td>...</td>\n",
              "      <td>0.0</td>\n",
              "      <td>0.0</td>\n",
              "      <td>0.0</td>\n",
              "      <td>1.610323e+09</td>\n",
              "    </tr>\n",
              "    <tr>\n",
              "      <th>4</th>\n",
              "      <td>21.0</td>\n",
              "      <td>0.00</td>\n",
              "      <td>1499.00</td>\n",
              "      <td>12.0</td>\n",
              "      <td>...</td>\n",
              "      <td>0.0</td>\n",
              "      <td>0.0</td>\n",
              "      <td>0.0</td>\n",
              "      <td>1.610410e+09</td>\n",
              "    </tr>\n",
              "  </tbody>\n",
              "</table>\n",
              "<p>5 rows × 19 columns</p>\n",
              "</div>"
            ],
            "text/plain": [
              "   Asin  Item Promo Discount    price  hour  ...  Is_quarter_start  \\\n",
              "0   1.0                 0.00  1995.00  12.0  ...               0.0   \n",
              "1   7.0               -56.75  1078.25  20.0  ...               0.0   \n",
              "2  27.0               -79.95  1519.05  22.0  ...               0.0   \n",
              "3   7.0                 0.00  1135.00  10.0  ...               0.0   \n",
              "4  21.0                 0.00  1499.00  12.0  ...               0.0   \n",
              "\n",
              "   Is_year_end  Is_year_start       Elapsed  \n",
              "0          0.0            0.0  1.609718e+09  \n",
              "1          0.0            0.0  1.610064e+09  \n",
              "2          0.0            0.0  1.610150e+09  \n",
              "3          0.0            0.0  1.610323e+09  \n",
              "4          0.0            0.0  1.610410e+09  \n",
              "\n",
              "[5 rows x 19 columns]"
            ]
          },
          "metadata": {
            "tags": []
          },
          "execution_count": 41
        }
      ]
    },
    {
      "cell_type": "code",
      "metadata": {
        "id": "lnosN99Vgk-V"
      },
      "source": [
        ""
      ],
      "execution_count": null,
      "outputs": []
    },
    {
      "cell_type": "markdown",
      "metadata": {
        "id": "J-sIXLtWjQ0-"
      },
      "source": [
        "### Embedding"
      ]
    },
    {
      "cell_type": "code",
      "metadata": {
        "id": "8d5qWaqQbMKH"
      },
      "source": [
        "# embedding for ASiN\n",
        "n_unique_asins = df_main.Asin.nunique()\n",
        "n_dim_asins = int(math.sqrt(n_unique_asins))\n",
        "\n",
        "\n",
        "input_asin = Input(shape=(1,))\n",
        "output_asin = Embedding(input_dim = n_unique_asins, output_dim= n_dim_asins, name='asin')(input_asin)\n",
        "output_asin = Reshape(target_shape=(n_dim_asins,))(output_asin)"
      ],
      "execution_count": null,
      "outputs": []
    },
    {
      "cell_type": "code",
      "metadata": {
        "id": "riLKsL6-irQU"
      },
      "source": [
        "# embedding for hour\n",
        "n_unique_hour = df_main.hour.nunique()\n",
        "n_dim_hours = int(math.sqrt(n_unique_hour))\n",
        "\n",
        "input_hour = Input(shape=(1,))\n",
        "output_hour = Embedding(input_dim= n_unique_hour, output_dim=n_dim_hours,name='hours')(input_hour)\n",
        "output_hour = Reshape( target_shape= (n_dim_hours,))(output_hour)"
      ],
      "execution_count": null,
      "outputs": []
    },
    {
      "cell_type": "code",
      "metadata": {
        "id": "I7tiImyTirMY"
      },
      "source": [
        "# day_of week\n",
        "n_unique_day_of_week = df_main['Dayofweek'].nunique()\n",
        "n_dim_dayofweek = 3\n",
        "\n",
        "input_dayofweek = Input(shape=(1,))\n",
        "output_dayofweek = Embedding(input_dim= n_unique_day_of_week, output_dim=n_dim_dayofweek,name='dayofweek')(input_dayofweek)\n",
        "output_dayofweek = Reshape( target_shape= (n_dim_dayofweek,))(output_dayofweek)"
      ],
      "execution_count": null,
      "outputs": []
    },
    {
      "cell_type": "code",
      "metadata": {
        "id": "Nt5uDqWHirIb"
      },
      "source": [
        "# Month\n",
        "n_unique_month = df_main['Month'].nunique()\n",
        "n_dim_month = 7\n",
        "\n",
        "input_month = Input(shape=(1,))\n",
        "output_month = Embedding(input_dim= n_unique_month, output_dim=n_dim_month,name='month')(input_month)\n",
        "output_month = Reshape( target_shape= (n_dim_month,))(output_month)"
      ],
      "execution_count": null,
      "outputs": []
    },
    {
      "cell_type": "code",
      "metadata": {
        "id": "_eJf4XtbmL9N"
      },
      "source": [
        "# Day (1-31)\n",
        "n_unique_day = df_main['Day'].nunique()\n",
        "n_dim_day = int(math.sqrt(n_unique_day))\n",
        "\n",
        "input_day = Input(shape=(1,))\n",
        "output_day= Embedding(input_dim= n_unique_day, output_dim=n_dim_day,name='day')(input_day)\n",
        "output_day = Reshape( target_shape= (n_dim_day,))(output_day)"
      ],
      "execution_count": null,
      "outputs": []
    },
    {
      "cell_type": "code",
      "metadata": {
        "id": "xVce8z3CmL39"
      },
      "source": [
        "# Week (1-53)\n",
        "\n",
        "n_unique_week = df_main['Week'].nunique()\n",
        "n_dim_week = 30\n",
        "\n",
        "input_week = Input(shape=(1,))\n",
        "output_week= Embedding(input_dim= n_unique_week, output_dim=n_dim_week,name='week')(input_week)\n",
        "output_week = Reshape( target_shape= (n_dim_week,))(output_week)\n"
      ],
      "execution_count": null,
      "outputs": []
    },
    {
      "cell_type": "code",
      "metadata": {
        "id": "1OdOFAOAoPXj"
      },
      "source": [
        "input_layers = [input_asin, input_hour, input_dayofweek, input_month, input_day, input_week ]\n",
        "output_layers = [output_asin, output_hour, output_dayofweek, output_month, output_day, output_week ] \n",
        "model = Concatenate()(output_layers)"
      ],
      "execution_count": null,
      "outputs": []
    },
    {
      "cell_type": "code",
      "metadata": {
        "id": "crpMY7iJoPU9"
      },
      "source": [
        "\n",
        "model = Dense(1000, kernel_initializer='uniform')(model)\n",
        "model = Activation('relu')(model)\n",
        "\n",
        "model = Dense(500, kernel_initializer='uniform')(model)\n",
        "model = Activation('relu')(model)\n",
        "\n",
        "model = Dense(1)(model)\n",
        "model = Activation('sigmoid')(model)"
      ],
      "execution_count": null,
      "outputs": []
    },
    {
      "cell_type": "code",
      "metadata": {
        "colab": {
          "base_uri": "https://localhost:8080/"
        },
        "id": "5ZR2Q1YMbqpv",
        "outputId": "a4a1d972-190f-4e0d-e0fa-124133a2601a"
      },
      "source": [
        "modelNN_emb = KerasModel(inputs=input_layers, outputs=model)\n",
        "modelNN_emb.summary()"
      ],
      "execution_count": null,
      "outputs": [
        {
          "output_type": "stream",
          "text": [
            "Model: \"model_1\"\n",
            "__________________________________________________________________________________________________\n",
            "Layer (type)                    Output Shape         Param #     Connected to                     \n",
            "==================================================================================================\n",
            "input_13 (InputLayer)           [(None, 1)]          0                                            \n",
            "__________________________________________________________________________________________________\n",
            "input_14 (InputLayer)           [(None, 1)]          0                                            \n",
            "__________________________________________________________________________________________________\n",
            "input_15 (InputLayer)           [(None, 1)]          0                                            \n",
            "__________________________________________________________________________________________________\n",
            "input_16 (InputLayer)           [(None, 1)]          0                                            \n",
            "__________________________________________________________________________________________________\n",
            "input_17 (InputLayer)           [(None, 1)]          0                                            \n",
            "__________________________________________________________________________________________________\n",
            "input_18 (InputLayer)           [(None, 1)]          0                                            \n",
            "__________________________________________________________________________________________________\n",
            "asin (Embedding)                (None, 1, 6)         276         input_13[0][0]                   \n",
            "__________________________________________________________________________________________________\n",
            "hours (Embedding)               (None, 1, 4)         96          input_14[0][0]                   \n",
            "__________________________________________________________________________________________________\n",
            "dayofweek (Embedding)           (None, 1, 3)         21          input_15[0][0]                   \n",
            "__________________________________________________________________________________________________\n",
            "month (Embedding)               (None, 1, 7)         84          input_16[0][0]                   \n",
            "__________________________________________________________________________________________________\n",
            "day (Embedding)                 (None, 1, 5)         155         input_17[0][0]                   \n",
            "__________________________________________________________________________________________________\n",
            "week (Embedding)                (None, 1, 30)        1590        input_18[0][0]                   \n",
            "__________________________________________________________________________________________________\n",
            "reshape_12 (Reshape)            (None, 6)            0           asin[0][0]                       \n",
            "__________________________________________________________________________________________________\n",
            "reshape_13 (Reshape)            (None, 4)            0           hours[0][0]                      \n",
            "__________________________________________________________________________________________________\n",
            "reshape_14 (Reshape)            (None, 3)            0           dayofweek[0][0]                  \n",
            "__________________________________________________________________________________________________\n",
            "reshape_15 (Reshape)            (None, 7)            0           month[0][0]                      \n",
            "__________________________________________________________________________________________________\n",
            "reshape_16 (Reshape)            (None, 5)            0           day[0][0]                        \n",
            "__________________________________________________________________________________________________\n",
            "reshape_17 (Reshape)            (None, 30)           0           week[0][0]                       \n",
            "__________________________________________________________________________________________________\n",
            "concatenate_1 (Concatenate)     (None, 55)           0           reshape_12[0][0]                 \n",
            "                                                                 reshape_13[0][0]                 \n",
            "                                                                 reshape_14[0][0]                 \n",
            "                                                                 reshape_15[0][0]                 \n",
            "                                                                 reshape_16[0][0]                 \n",
            "                                                                 reshape_17[0][0]                 \n",
            "__________________________________________________________________________________________________\n",
            "dense_3 (Dense)                 (None, 1000)         56000       concatenate_1[0][0]              \n",
            "__________________________________________________________________________________________________\n",
            "activation_3 (Activation)       (None, 1000)         0           dense_3[0][0]                    \n",
            "__________________________________________________________________________________________________\n",
            "dense_4 (Dense)                 (None, 500)          500500      activation_3[0][0]               \n",
            "__________________________________________________________________________________________________\n",
            "activation_4 (Activation)       (None, 500)          0           dense_4[0][0]                    \n",
            "__________________________________________________________________________________________________\n",
            "dense_5 (Dense)                 (None, 1)            501         activation_4[0][0]               \n",
            "__________________________________________________________________________________________________\n",
            "activation_5 (Activation)       (None, 1)            0           dense_5[0][0]                    \n",
            "==================================================================================================\n",
            "Total params: 559,223\n",
            "Trainable params: 559,223\n",
            "Non-trainable params: 0\n",
            "__________________________________________________________________________________________________\n"
          ],
          "name": "stdout"
        }
      ]
    },
    {
      "cell_type": "code",
      "metadata": {
        "colab": {
          "base_uri": "https://localhost:8080/"
        },
        "id": "0y9T4iN9iKQF",
        "outputId": "cb5dec03-f8df-4022-b997-b4b203ae5ac6"
      },
      "source": [
        "\n",
        "\n",
        "from tensorflow.keras.optimizers import Adam\n",
        "opt =  Adam(lr=0.05)\n",
        "modelNN_emb.compile(loss='mae', optimizer=opt, metrics=['mae'])\n",
        "\n"
      ],
      "execution_count": null,
      "outputs": [
        {
          "output_type": "stream",
          "text": [
            "/usr/local/lib/python3.7/dist-packages/tensorflow/python/keras/optimizer_v2/optimizer_v2.py:375: UserWarning: The `lr` argument is deprecated, use `learning_rate` instead.\n",
            "  \"The `lr` argument is deprecated, use `learning_rate` instead.\")\n"
          ],
          "name": "stderr"
        }
      ]
    },
    {
      "cell_type": "code",
      "metadata": {
        "id": "FJs9rXpXiN1N"
      },
      "source": [
        "from IPython.display import SVG\n",
        "from keras.utils.vis_utils import model_to_dot"
      ],
      "execution_count": null,
      "outputs": []
    },
    {
      "cell_type": "code",
      "metadata": {
        "colab": {
          "base_uri": "https://localhost:8080/",
          "height": 784
        },
        "id": "6XUdK8EsiNxk",
        "outputId": "492767e7-a1f7-4ced-9ec5-bb1c630051fa"
      },
      "source": [
        "SVG(model_to_dot(modelNN_emb,  show_shapes=True, show_layer_names=True, dpi=50, rankdir='TB').create_svg())"
      ],
      "execution_count": null,
      "outputs": [
        {
          "output_type": "execute_result",
          "data": {
            "text/plain": [
              "<IPython.core.display.SVG object>"
            ],
            "image/svg+xml": "<svg height=\"557pt\" viewBox=\"0.00 0.00 1794.50 802.00\" width=\"1246pt\" xmlns=\"http://www.w3.org/2000/svg\" xmlns:xlink=\"http://www.w3.org/1999/xlink\">\n<g class=\"graph\" id=\"graph0\" transform=\"scale(.6944 .6944) rotate(0) translate(4 798)\">\n<title>G</title>\n<polygon fill=\"#ffffff\" points=\"-4,4 -4,-798 1790.5,-798 1790.5,4 -4,4\" stroke=\"transparent\"/>\n<!-- 140636341342672 -->\n<g class=\"node\" id=\"node1\">\n<title>140636341342672</title>\n<polygon fill=\"none\" points=\"5.5,-747.5 5.5,-793.5 277.5,-793.5 277.5,-747.5 5.5,-747.5\" stroke=\"#000000\"/>\n<text fill=\"#000000\" font-family=\"Times,serif\" font-size=\"14.00\" text-anchor=\"middle\" x=\"72\" y=\"-766.8\">input_7: InputLayer</text>\n<polyline fill=\"none\" points=\"138.5,-747.5 138.5,-793.5 \" stroke=\"#000000\"/>\n<text fill=\"#000000\" font-family=\"Times,serif\" font-size=\"14.00\" text-anchor=\"middle\" x=\"167.5\" y=\"-778.3\">input:</text>\n<polyline fill=\"none\" points=\"138.5,-770.5 196.5,-770.5 \" stroke=\"#000000\"/>\n<text fill=\"#000000\" font-family=\"Times,serif\" font-size=\"14.00\" text-anchor=\"middle\" x=\"167.5\" y=\"-755.3\">output:</text>\n<polyline fill=\"none\" points=\"196.5,-747.5 196.5,-793.5 \" stroke=\"#000000\"/>\n<text fill=\"#000000\" font-family=\"Times,serif\" font-size=\"14.00\" text-anchor=\"middle\" x=\"237\" y=\"-778.3\">[(None, 1)]</text>\n<polyline fill=\"none\" points=\"196.5,-770.5 277.5,-770.5 \" stroke=\"#000000\"/>\n<text fill=\"#000000\" font-family=\"Times,serif\" font-size=\"14.00\" text-anchor=\"middle\" x=\"237\" y=\"-755.3\">[(None, 1)]</text>\n</g>\n<!-- 140636341213776 -->\n<g class=\"node\" id=\"node7\">\n<title>140636341213776</title>\n<polygon fill=\"none\" points=\"8,-664.5 8,-710.5 275,-710.5 275,-664.5 8,-664.5\" stroke=\"#000000\"/>\n<text fill=\"#000000\" font-family=\"Times,serif\" font-size=\"14.00\" text-anchor=\"middle\" x=\"65\" y=\"-683.8\">asin: Embedding</text>\n<polyline fill=\"none\" points=\"122,-664.5 122,-710.5 \" stroke=\"#000000\"/>\n<text fill=\"#000000\" font-family=\"Times,serif\" font-size=\"14.00\" text-anchor=\"middle\" x=\"151\" y=\"-695.3\">input:</text>\n<polyline fill=\"none\" points=\"122,-687.5 180,-687.5 \" stroke=\"#000000\"/>\n<text fill=\"#000000\" font-family=\"Times,serif\" font-size=\"14.00\" text-anchor=\"middle\" x=\"151\" y=\"-672.3\">output:</text>\n<polyline fill=\"none\" points=\"180,-664.5 180,-710.5 \" stroke=\"#000000\"/>\n<text fill=\"#000000\" font-family=\"Times,serif\" font-size=\"14.00\" text-anchor=\"middle\" x=\"227.5\" y=\"-695.3\">(None, 1)</text>\n<polyline fill=\"none\" points=\"180,-687.5 275,-687.5 \" stroke=\"#000000\"/>\n<text fill=\"#000000\" font-family=\"Times,serif\" font-size=\"14.00\" text-anchor=\"middle\" x=\"227.5\" y=\"-672.3\">(None, 1, 10)</text>\n</g>\n<!-- 140636341342672&#45;&gt;140636341213776 -->\n<g class=\"edge\" id=\"edge1\">\n<title>140636341342672-&gt;140636341213776</title>\n<path d=\"M141.5,-747.3799C141.5,-739.1745 141.5,-729.7679 141.5,-720.8786\" fill=\"none\" stroke=\"#000000\"/>\n<polygon fill=\"#000000\" points=\"145.0001,-720.784 141.5,-710.784 138.0001,-720.784 145.0001,-720.784\" stroke=\"#000000\"/>\n</g>\n<!-- 140636343929616 -->\n<g class=\"node\" id=\"node2\">\n<title>140636343929616</title>\n<polygon fill=\"none\" points=\"295.5,-747.5 295.5,-793.5 567.5,-793.5 567.5,-747.5 295.5,-747.5\" stroke=\"#000000\"/>\n<text fill=\"#000000\" font-family=\"Times,serif\" font-size=\"14.00\" text-anchor=\"middle\" x=\"362\" y=\"-766.8\">input_8: InputLayer</text>\n<polyline fill=\"none\" points=\"428.5,-747.5 428.5,-793.5 \" stroke=\"#000000\"/>\n<text fill=\"#000000\" font-family=\"Times,serif\" font-size=\"14.00\" text-anchor=\"middle\" x=\"457.5\" y=\"-778.3\">input:</text>\n<polyline fill=\"none\" points=\"428.5,-770.5 486.5,-770.5 \" stroke=\"#000000\"/>\n<text fill=\"#000000\" font-family=\"Times,serif\" font-size=\"14.00\" text-anchor=\"middle\" x=\"457.5\" y=\"-755.3\">output:</text>\n<polyline fill=\"none\" points=\"486.5,-747.5 486.5,-793.5 \" stroke=\"#000000\"/>\n<text fill=\"#000000\" font-family=\"Times,serif\" font-size=\"14.00\" text-anchor=\"middle\" x=\"527\" y=\"-778.3\">[(None, 1)]</text>\n<polyline fill=\"none\" points=\"486.5,-770.5 567.5,-770.5 \" stroke=\"#000000\"/>\n<text fill=\"#000000\" font-family=\"Times,serif\" font-size=\"14.00\" text-anchor=\"middle\" x=\"527\" y=\"-755.3\">[(None, 1)]</text>\n</g>\n<!-- 140636343929424 -->\n<g class=\"node\" id=\"node8\">\n<title>140636343929424</title>\n<polygon fill=\"none\" points=\"293,-664.5 293,-710.5 570,-710.5 570,-664.5 293,-664.5\" stroke=\"#000000\"/>\n<text fill=\"#000000\" font-family=\"Times,serif\" font-size=\"14.00\" text-anchor=\"middle\" x=\"355\" y=\"-683.8\">hours: Embedding</text>\n<polyline fill=\"none\" points=\"417,-664.5 417,-710.5 \" stroke=\"#000000\"/>\n<text fill=\"#000000\" font-family=\"Times,serif\" font-size=\"14.00\" text-anchor=\"middle\" x=\"446\" y=\"-695.3\">input:</text>\n<polyline fill=\"none\" points=\"417,-687.5 475,-687.5 \" stroke=\"#000000\"/>\n<text fill=\"#000000\" font-family=\"Times,serif\" font-size=\"14.00\" text-anchor=\"middle\" x=\"446\" y=\"-672.3\">output:</text>\n<polyline fill=\"none\" points=\"475,-664.5 475,-710.5 \" stroke=\"#000000\"/>\n<text fill=\"#000000\" font-family=\"Times,serif\" font-size=\"14.00\" text-anchor=\"middle\" x=\"522.5\" y=\"-695.3\">(None, 1)</text>\n<polyline fill=\"none\" points=\"475,-687.5 570,-687.5 \" stroke=\"#000000\"/>\n<text fill=\"#000000\" font-family=\"Times,serif\" font-size=\"14.00\" text-anchor=\"middle\" x=\"522.5\" y=\"-672.3\">(None, 1, 10)</text>\n</g>\n<!-- 140636343929616&#45;&gt;140636343929424 -->\n<g class=\"edge\" id=\"edge2\">\n<title>140636343929616-&gt;140636343929424</title>\n<path d=\"M431.5,-747.3799C431.5,-739.1745 431.5,-729.7679 431.5,-720.8786\" fill=\"none\" stroke=\"#000000\"/>\n<polygon fill=\"#000000\" points=\"435.0001,-720.784 431.5,-710.784 428.0001,-720.784 435.0001,-720.784\" stroke=\"#000000\"/>\n</g>\n<!-- 140636340928016 -->\n<g class=\"node\" id=\"node3\">\n<title>140636340928016</title>\n<polygon fill=\"none\" points=\"602.5,-747.5 602.5,-793.5 874.5,-793.5 874.5,-747.5 602.5,-747.5\" stroke=\"#000000\"/>\n<text fill=\"#000000\" font-family=\"Times,serif\" font-size=\"14.00\" text-anchor=\"middle\" x=\"669\" y=\"-766.8\">input_9: InputLayer</text>\n<polyline fill=\"none\" points=\"735.5,-747.5 735.5,-793.5 \" stroke=\"#000000\"/>\n<text fill=\"#000000\" font-family=\"Times,serif\" font-size=\"14.00\" text-anchor=\"middle\" x=\"764.5\" y=\"-778.3\">input:</text>\n<polyline fill=\"none\" points=\"735.5,-770.5 793.5,-770.5 \" stroke=\"#000000\"/>\n<text fill=\"#000000\" font-family=\"Times,serif\" font-size=\"14.00\" text-anchor=\"middle\" x=\"764.5\" y=\"-755.3\">output:</text>\n<polyline fill=\"none\" points=\"793.5,-747.5 793.5,-793.5 \" stroke=\"#000000\"/>\n<text fill=\"#000000\" font-family=\"Times,serif\" font-size=\"14.00\" text-anchor=\"middle\" x=\"834\" y=\"-778.3\">[(None, 1)]</text>\n<polyline fill=\"none\" points=\"793.5,-770.5 874.5,-770.5 \" stroke=\"#000000\"/>\n<text fill=\"#000000\" font-family=\"Times,serif\" font-size=\"14.00\" text-anchor=\"middle\" x=\"834\" y=\"-755.3\">[(None, 1)]</text>\n</g>\n<!-- 140636340927952 -->\n<g class=\"node\" id=\"node9\">\n<title>140636340927952</title>\n<polygon fill=\"none\" points=\"588.5,-664.5 588.5,-710.5 888.5,-710.5 888.5,-664.5 588.5,-664.5\" stroke=\"#000000\"/>\n<text fill=\"#000000\" font-family=\"Times,serif\" font-size=\"14.00\" text-anchor=\"middle\" x=\"666\" y=\"-683.8\">dayofweek: Embedding</text>\n<polyline fill=\"none\" points=\"743.5,-664.5 743.5,-710.5 \" stroke=\"#000000\"/>\n<text fill=\"#000000\" font-family=\"Times,serif\" font-size=\"14.00\" text-anchor=\"middle\" x=\"772.5\" y=\"-695.3\">input:</text>\n<polyline fill=\"none\" points=\"743.5,-687.5 801.5,-687.5 \" stroke=\"#000000\"/>\n<text fill=\"#000000\" font-family=\"Times,serif\" font-size=\"14.00\" text-anchor=\"middle\" x=\"772.5\" y=\"-672.3\">output:</text>\n<polyline fill=\"none\" points=\"801.5,-664.5 801.5,-710.5 \" stroke=\"#000000\"/>\n<text fill=\"#000000\" font-family=\"Times,serif\" font-size=\"14.00\" text-anchor=\"middle\" x=\"845\" y=\"-695.3\">(None, 1)</text>\n<polyline fill=\"none\" points=\"801.5,-687.5 888.5,-687.5 \" stroke=\"#000000\"/>\n<text fill=\"#000000\" font-family=\"Times,serif\" font-size=\"14.00\" text-anchor=\"middle\" x=\"845\" y=\"-672.3\">(None, 1, 3)</text>\n</g>\n<!-- 140636340928016&#45;&gt;140636340927952 -->\n<g class=\"edge\" id=\"edge3\">\n<title>140636340928016-&gt;140636340927952</title>\n<path d=\"M738.5,-747.3799C738.5,-739.1745 738.5,-729.7679 738.5,-720.8786\" fill=\"none\" stroke=\"#000000\"/>\n<polygon fill=\"#000000\" points=\"742.0001,-720.784 738.5,-710.784 735.0001,-720.784 742.0001,-720.784\" stroke=\"#000000\"/>\n</g>\n<!-- 140636341278864 -->\n<g class=\"node\" id=\"node4\">\n<title>140636341278864</title>\n<polygon fill=\"none\" points=\"902,-747.5 902,-793.5 1181,-793.5 1181,-747.5 902,-747.5\" stroke=\"#000000\"/>\n<text fill=\"#000000\" font-family=\"Times,serif\" font-size=\"14.00\" text-anchor=\"middle\" x=\"972\" y=\"-766.8\">input_10: InputLayer</text>\n<polyline fill=\"none\" points=\"1042,-747.5 1042,-793.5 \" stroke=\"#000000\"/>\n<text fill=\"#000000\" font-family=\"Times,serif\" font-size=\"14.00\" text-anchor=\"middle\" x=\"1071\" y=\"-778.3\">input:</text>\n<polyline fill=\"none\" points=\"1042,-770.5 1100,-770.5 \" stroke=\"#000000\"/>\n<text fill=\"#000000\" font-family=\"Times,serif\" font-size=\"14.00\" text-anchor=\"middle\" x=\"1071\" y=\"-755.3\">output:</text>\n<polyline fill=\"none\" points=\"1100,-747.5 1100,-793.5 \" stroke=\"#000000\"/>\n<text fill=\"#000000\" font-family=\"Times,serif\" font-size=\"14.00\" text-anchor=\"middle\" x=\"1140.5\" y=\"-778.3\">[(None, 1)]</text>\n<polyline fill=\"none\" points=\"1100,-770.5 1181,-770.5 \" stroke=\"#000000\"/>\n<text fill=\"#000000\" font-family=\"Times,serif\" font-size=\"14.00\" text-anchor=\"middle\" x=\"1140.5\" y=\"-755.3\">[(None, 1)]</text>\n</g>\n<!-- 140636341278544 -->\n<g class=\"node\" id=\"node10\">\n<title>140636341278544</title>\n<polygon fill=\"none\" points=\"906.5,-664.5 906.5,-710.5 1180.5,-710.5 1180.5,-664.5 906.5,-664.5\" stroke=\"#000000\"/>\n<text fill=\"#000000\" font-family=\"Times,serif\" font-size=\"14.00\" text-anchor=\"middle\" x=\"971\" y=\"-683.8\">month: Embedding</text>\n<polyline fill=\"none\" points=\"1035.5,-664.5 1035.5,-710.5 \" stroke=\"#000000\"/>\n<text fill=\"#000000\" font-family=\"Times,serif\" font-size=\"14.00\" text-anchor=\"middle\" x=\"1064.5\" y=\"-695.3\">input:</text>\n<polyline fill=\"none\" points=\"1035.5,-687.5 1093.5,-687.5 \" stroke=\"#000000\"/>\n<text fill=\"#000000\" font-family=\"Times,serif\" font-size=\"14.00\" text-anchor=\"middle\" x=\"1064.5\" y=\"-672.3\">output:</text>\n<polyline fill=\"none\" points=\"1093.5,-664.5 1093.5,-710.5 \" stroke=\"#000000\"/>\n<text fill=\"#000000\" font-family=\"Times,serif\" font-size=\"14.00\" text-anchor=\"middle\" x=\"1137\" y=\"-695.3\">(None, 1)</text>\n<polyline fill=\"none\" points=\"1093.5,-687.5 1180.5,-687.5 \" stroke=\"#000000\"/>\n<text fill=\"#000000\" font-family=\"Times,serif\" font-size=\"14.00\" text-anchor=\"middle\" x=\"1137\" y=\"-672.3\">(None, 1, 7)</text>\n</g>\n<!-- 140636341278864&#45;&gt;140636341278544 -->\n<g class=\"edge\" id=\"edge4\">\n<title>140636341278864-&gt;140636341278544</title>\n<path d=\"M1042.0571,-747.3799C1042.2548,-739.1745 1042.4815,-729.7679 1042.6957,-720.8786\" fill=\"none\" stroke=\"#000000\"/>\n<polygon fill=\"#000000\" points=\"1046.1969,-720.8655 1042.9389,-710.784 1039.199,-720.6968 1046.1969,-720.8655\" stroke=\"#000000\"/>\n</g>\n<!-- 140636341043472 -->\n<g class=\"node\" id=\"node5\">\n<title>140636341043472</title>\n<polygon fill=\"none\" points=\"1199,-747.5 1199,-793.5 1478,-793.5 1478,-747.5 1199,-747.5\" stroke=\"#000000\"/>\n<text fill=\"#000000\" font-family=\"Times,serif\" font-size=\"14.00\" text-anchor=\"middle\" x=\"1269\" y=\"-766.8\">input_11: InputLayer</text>\n<polyline fill=\"none\" points=\"1339,-747.5 1339,-793.5 \" stroke=\"#000000\"/>\n<text fill=\"#000000\" font-family=\"Times,serif\" font-size=\"14.00\" text-anchor=\"middle\" x=\"1368\" y=\"-778.3\">input:</text>\n<polyline fill=\"none\" points=\"1339,-770.5 1397,-770.5 \" stroke=\"#000000\"/>\n<text fill=\"#000000\" font-family=\"Times,serif\" font-size=\"14.00\" text-anchor=\"middle\" x=\"1368\" y=\"-755.3\">output:</text>\n<polyline fill=\"none\" points=\"1397,-747.5 1397,-793.5 \" stroke=\"#000000\"/>\n<text fill=\"#000000\" font-family=\"Times,serif\" font-size=\"14.00\" text-anchor=\"middle\" x=\"1437.5\" y=\"-778.3\">[(None, 1)]</text>\n<polyline fill=\"none\" points=\"1397,-770.5 1478,-770.5 \" stroke=\"#000000\"/>\n<text fill=\"#000000\" font-family=\"Times,serif\" font-size=\"14.00\" text-anchor=\"middle\" x=\"1437.5\" y=\"-755.3\">[(None, 1)]</text>\n</g>\n<!-- 140636341043280 -->\n<g class=\"node\" id=\"node11\">\n<title>140636341043280</title>\n<polygon fill=\"none\" points=\"1203.5,-664.5 1203.5,-710.5 1469.5,-710.5 1469.5,-664.5 1203.5,-664.5\" stroke=\"#000000\"/>\n<text fill=\"#000000\" font-family=\"Times,serif\" font-size=\"14.00\" text-anchor=\"middle\" x=\"1260\" y=\"-683.8\">day: Embedding</text>\n<polyline fill=\"none\" points=\"1316.5,-664.5 1316.5,-710.5 \" stroke=\"#000000\"/>\n<text fill=\"#000000\" font-family=\"Times,serif\" font-size=\"14.00\" text-anchor=\"middle\" x=\"1345.5\" y=\"-695.3\">input:</text>\n<polyline fill=\"none\" points=\"1316.5,-687.5 1374.5,-687.5 \" stroke=\"#000000\"/>\n<text fill=\"#000000\" font-family=\"Times,serif\" font-size=\"14.00\" text-anchor=\"middle\" x=\"1345.5\" y=\"-672.3\">output:</text>\n<polyline fill=\"none\" points=\"1374.5,-664.5 1374.5,-710.5 \" stroke=\"#000000\"/>\n<text fill=\"#000000\" font-family=\"Times,serif\" font-size=\"14.00\" text-anchor=\"middle\" x=\"1422\" y=\"-695.3\">(None, 1)</text>\n<polyline fill=\"none\" points=\"1374.5,-687.5 1469.5,-687.5 \" stroke=\"#000000\"/>\n<text fill=\"#000000\" font-family=\"Times,serif\" font-size=\"14.00\" text-anchor=\"middle\" x=\"1422\" y=\"-672.3\">(None, 1, 10)</text>\n</g>\n<!-- 140636341043472&#45;&gt;140636341043280 -->\n<g class=\"edge\" id=\"edge5\">\n<title>140636341043472-&gt;140636341043280</title>\n<path d=\"M1337.9429,-747.3799C1337.7452,-739.1745 1337.5185,-729.7679 1337.3043,-720.8786\" fill=\"none\" stroke=\"#000000\"/>\n<polygon fill=\"#000000\" points=\"1340.801,-720.6968 1337.0611,-710.784 1333.8031,-720.8655 1340.801,-720.6968\" stroke=\"#000000\"/>\n</g>\n<!-- 140636341063760 -->\n<g class=\"node\" id=\"node6\">\n<title>140636341063760</title>\n<polygon fill=\"none\" points=\"1502,-747.5 1502,-793.5 1781,-793.5 1781,-747.5 1502,-747.5\" stroke=\"#000000\"/>\n<text fill=\"#000000\" font-family=\"Times,serif\" font-size=\"14.00\" text-anchor=\"middle\" x=\"1572\" y=\"-766.8\">input_12: InputLayer</text>\n<polyline fill=\"none\" points=\"1642,-747.5 1642,-793.5 \" stroke=\"#000000\"/>\n<text fill=\"#000000\" font-family=\"Times,serif\" font-size=\"14.00\" text-anchor=\"middle\" x=\"1671\" y=\"-778.3\">input:</text>\n<polyline fill=\"none\" points=\"1642,-770.5 1700,-770.5 \" stroke=\"#000000\"/>\n<text fill=\"#000000\" font-family=\"Times,serif\" font-size=\"14.00\" text-anchor=\"middle\" x=\"1671\" y=\"-755.3\">output:</text>\n<polyline fill=\"none\" points=\"1700,-747.5 1700,-793.5 \" stroke=\"#000000\"/>\n<text fill=\"#000000\" font-family=\"Times,serif\" font-size=\"14.00\" text-anchor=\"middle\" x=\"1740.5\" y=\"-778.3\">[(None, 1)]</text>\n<polyline fill=\"none\" points=\"1700,-770.5 1781,-770.5 \" stroke=\"#000000\"/>\n<text fill=\"#000000\" font-family=\"Times,serif\" font-size=\"14.00\" text-anchor=\"middle\" x=\"1740.5\" y=\"-755.3\">[(None, 1)]</text>\n</g>\n<!-- 140636341047248 -->\n<g class=\"node\" id=\"node12\">\n<title>140636341047248</title>\n<polygon fill=\"none\" points=\"1504,-664.5 1504,-710.5 1779,-710.5 1779,-664.5 1504,-664.5\" stroke=\"#000000\"/>\n<text fill=\"#000000\" font-family=\"Times,serif\" font-size=\"14.00\" text-anchor=\"middle\" x=\"1565\" y=\"-683.8\">week: Embedding</text>\n<polyline fill=\"none\" points=\"1626,-664.5 1626,-710.5 \" stroke=\"#000000\"/>\n<text fill=\"#000000\" font-family=\"Times,serif\" font-size=\"14.00\" text-anchor=\"middle\" x=\"1655\" y=\"-695.3\">input:</text>\n<polyline fill=\"none\" points=\"1626,-687.5 1684,-687.5 \" stroke=\"#000000\"/>\n<text fill=\"#000000\" font-family=\"Times,serif\" font-size=\"14.00\" text-anchor=\"middle\" x=\"1655\" y=\"-672.3\">output:</text>\n<polyline fill=\"none\" points=\"1684,-664.5 1684,-710.5 \" stroke=\"#000000\"/>\n<text fill=\"#000000\" font-family=\"Times,serif\" font-size=\"14.00\" text-anchor=\"middle\" x=\"1731.5\" y=\"-695.3\">(None, 1)</text>\n<polyline fill=\"none\" points=\"1684,-687.5 1779,-687.5 \" stroke=\"#000000\"/>\n<text fill=\"#000000\" font-family=\"Times,serif\" font-size=\"14.00\" text-anchor=\"middle\" x=\"1731.5\" y=\"-672.3\">(None, 1, 30)</text>\n</g>\n<!-- 140636341063760&#45;&gt;140636341047248 -->\n<g class=\"edge\" id=\"edge6\">\n<title>140636341063760-&gt;140636341047248</title>\n<path d=\"M1641.5,-747.3799C1641.5,-739.1745 1641.5,-729.7679 1641.5,-720.8786\" fill=\"none\" stroke=\"#000000\"/>\n<polygon fill=\"#000000\" points=\"1645.0001,-720.784 1641.5,-710.784 1638.0001,-720.784 1645.0001,-720.784\" stroke=\"#000000\"/>\n</g>\n<!-- 140636341344080 -->\n<g class=\"node\" id=\"node13\">\n<title>140636341344080</title>\n<polygon fill=\"none\" points=\"0,-581.5 0,-627.5 283,-627.5 283,-581.5 0,-581.5\" stroke=\"#000000\"/>\n<text fill=\"#000000\" font-family=\"Times,serif\" font-size=\"14.00\" text-anchor=\"middle\" x=\"65\" y=\"-600.8\">reshape_6: Reshape</text>\n<polyline fill=\"none\" points=\"130,-581.5 130,-627.5 \" stroke=\"#000000\"/>\n<text fill=\"#000000\" font-family=\"Times,serif\" font-size=\"14.00\" text-anchor=\"middle\" x=\"159\" y=\"-612.3\">input:</text>\n<polyline fill=\"none\" points=\"130,-604.5 188,-604.5 \" stroke=\"#000000\"/>\n<text fill=\"#000000\" font-family=\"Times,serif\" font-size=\"14.00\" text-anchor=\"middle\" x=\"159\" y=\"-589.3\">output:</text>\n<polyline fill=\"none\" points=\"188,-581.5 188,-627.5 \" stroke=\"#000000\"/>\n<text fill=\"#000000\" font-family=\"Times,serif\" font-size=\"14.00\" text-anchor=\"middle\" x=\"235.5\" y=\"-612.3\">(None, 1, 10)</text>\n<polyline fill=\"none\" points=\"188,-604.5 283,-604.5 \" stroke=\"#000000\"/>\n<text fill=\"#000000\" font-family=\"Times,serif\" font-size=\"14.00\" text-anchor=\"middle\" x=\"235.5\" y=\"-589.3\">(None, 10)</text>\n</g>\n<!-- 140636341213776&#45;&gt;140636341344080 -->\n<g class=\"edge\" id=\"edge7\">\n<title>140636341213776-&gt;140636341344080</title>\n<path d=\"M141.5,-664.3799C141.5,-656.1745 141.5,-646.7679 141.5,-637.8786\" fill=\"none\" stroke=\"#000000\"/>\n<polygon fill=\"#000000\" points=\"145.0001,-637.784 141.5,-627.784 138.0001,-637.784 145.0001,-637.784\" stroke=\"#000000\"/>\n</g>\n<!-- 140636343930768 -->\n<g class=\"node\" id=\"node14\">\n<title>140636343930768</title>\n<polygon fill=\"none\" points=\"301,-581.5 301,-627.5 584,-627.5 584,-581.5 301,-581.5\" stroke=\"#000000\"/>\n<text fill=\"#000000\" font-family=\"Times,serif\" font-size=\"14.00\" text-anchor=\"middle\" x=\"366\" y=\"-600.8\">reshape_7: Reshape</text>\n<polyline fill=\"none\" points=\"431,-581.5 431,-627.5 \" stroke=\"#000000\"/>\n<text fill=\"#000000\" font-family=\"Times,serif\" font-size=\"14.00\" text-anchor=\"middle\" x=\"460\" y=\"-612.3\">input:</text>\n<polyline fill=\"none\" points=\"431,-604.5 489,-604.5 \" stroke=\"#000000\"/>\n<text fill=\"#000000\" font-family=\"Times,serif\" font-size=\"14.00\" text-anchor=\"middle\" x=\"460\" y=\"-589.3\">output:</text>\n<polyline fill=\"none\" points=\"489,-581.5 489,-627.5 \" stroke=\"#000000\"/>\n<text fill=\"#000000\" font-family=\"Times,serif\" font-size=\"14.00\" text-anchor=\"middle\" x=\"536.5\" y=\"-612.3\">(None, 1, 10)</text>\n<polyline fill=\"none\" points=\"489,-604.5 584,-604.5 \" stroke=\"#000000\"/>\n<text fill=\"#000000\" font-family=\"Times,serif\" font-size=\"14.00\" text-anchor=\"middle\" x=\"536.5\" y=\"-589.3\">(None, 10)</text>\n</g>\n<!-- 140636343929424&#45;&gt;140636343930768 -->\n<g class=\"edge\" id=\"edge8\">\n<title>140636343929424-&gt;140636343930768</title>\n<path d=\"M434.5641,-664.3799C435.6516,-656.1745 436.8982,-646.7679 438.0763,-637.8786\" fill=\"none\" stroke=\"#000000\"/>\n<polygon fill=\"#000000\" points=\"441.5699,-638.1572 439.4142,-627.784 434.6306,-637.2375 441.5699,-638.1572\" stroke=\"#000000\"/>\n</g>\n<!-- 140636340928272 -->\n<g class=\"node\" id=\"node15\">\n<title>140636340928272</title>\n<polygon fill=\"none\" points=\"602,-581.5 602,-627.5 877,-627.5 877,-581.5 602,-581.5\" stroke=\"#000000\"/>\n<text fill=\"#000000\" font-family=\"Times,serif\" font-size=\"14.00\" text-anchor=\"middle\" x=\"667\" y=\"-600.8\">reshape_8: Reshape</text>\n<polyline fill=\"none\" points=\"732,-581.5 732,-627.5 \" stroke=\"#000000\"/>\n<text fill=\"#000000\" font-family=\"Times,serif\" font-size=\"14.00\" text-anchor=\"middle\" x=\"761\" y=\"-612.3\">input:</text>\n<polyline fill=\"none\" points=\"732,-604.5 790,-604.5 \" stroke=\"#000000\"/>\n<text fill=\"#000000\" font-family=\"Times,serif\" font-size=\"14.00\" text-anchor=\"middle\" x=\"761\" y=\"-589.3\">output:</text>\n<polyline fill=\"none\" points=\"790,-581.5 790,-627.5 \" stroke=\"#000000\"/>\n<text fill=\"#000000\" font-family=\"Times,serif\" font-size=\"14.00\" text-anchor=\"middle\" x=\"833.5\" y=\"-612.3\">(None, 1, 3)</text>\n<polyline fill=\"none\" points=\"790,-604.5 877,-604.5 \" stroke=\"#000000\"/>\n<text fill=\"#000000\" font-family=\"Times,serif\" font-size=\"14.00\" text-anchor=\"middle\" x=\"833.5\" y=\"-589.3\">(None, 3)</text>\n</g>\n<!-- 140636340927952&#45;&gt;140636340928272 -->\n<g class=\"edge\" id=\"edge9\">\n<title>140636340927952-&gt;140636340928272</title>\n<path d=\"M738.7786,-664.3799C738.8774,-656.1745 738.9907,-646.7679 739.0978,-637.8786\" fill=\"none\" stroke=\"#000000\"/>\n<polygon fill=\"#000000\" points=\"742.5986,-637.8255 739.2195,-627.784 735.5992,-637.7411 742.5986,-637.8255\" stroke=\"#000000\"/>\n</g>\n<!-- 140636341297552 -->\n<g class=\"node\" id=\"node16\">\n<title>140636341297552</title>\n<polygon fill=\"none\" points=\"895,-581.5 895,-627.5 1170,-627.5 1170,-581.5 895,-581.5\" stroke=\"#000000\"/>\n<text fill=\"#000000\" font-family=\"Times,serif\" font-size=\"14.00\" text-anchor=\"middle\" x=\"960\" y=\"-600.8\">reshape_9: Reshape</text>\n<polyline fill=\"none\" points=\"1025,-581.5 1025,-627.5 \" stroke=\"#000000\"/>\n<text fill=\"#000000\" font-family=\"Times,serif\" font-size=\"14.00\" text-anchor=\"middle\" x=\"1054\" y=\"-612.3\">input:</text>\n<polyline fill=\"none\" points=\"1025,-604.5 1083,-604.5 \" stroke=\"#000000\"/>\n<text fill=\"#000000\" font-family=\"Times,serif\" font-size=\"14.00\" text-anchor=\"middle\" x=\"1054\" y=\"-589.3\">output:</text>\n<polyline fill=\"none\" points=\"1083,-581.5 1083,-627.5 \" stroke=\"#000000\"/>\n<text fill=\"#000000\" font-family=\"Times,serif\" font-size=\"14.00\" text-anchor=\"middle\" x=\"1126.5\" y=\"-612.3\">(None, 1, 7)</text>\n<polyline fill=\"none\" points=\"1083,-604.5 1170,-604.5 \" stroke=\"#000000\"/>\n<text fill=\"#000000\" font-family=\"Times,serif\" font-size=\"14.00\" text-anchor=\"middle\" x=\"1126.5\" y=\"-589.3\">(None, 7)</text>\n</g>\n<!-- 140636341278544&#45;&gt;140636341297552 -->\n<g class=\"edge\" id=\"edge10\">\n<title>140636341278544-&gt;140636341297552</title>\n<path d=\"M1040.4359,-664.3799C1039.3484,-656.1745 1038.1018,-646.7679 1036.9237,-637.8786\" fill=\"none\" stroke=\"#000000\"/>\n<polygon fill=\"#000000\" points=\"1040.3694,-637.2375 1035.5858,-627.784 1033.4301,-638.1572 1040.3694,-637.2375\" stroke=\"#000000\"/>\n</g>\n<!-- 140636340986640 -->\n<g class=\"node\" id=\"node17\">\n<title>140636340986640</title>\n<polygon fill=\"none\" points=\"1188.5,-581.5 1188.5,-627.5 1478.5,-627.5 1478.5,-581.5 1188.5,-581.5\" stroke=\"#000000\"/>\n<text fill=\"#000000\" font-family=\"Times,serif\" font-size=\"14.00\" text-anchor=\"middle\" x=\"1257\" y=\"-600.8\">reshape_10: Reshape</text>\n<polyline fill=\"none\" points=\"1325.5,-581.5 1325.5,-627.5 \" stroke=\"#000000\"/>\n<text fill=\"#000000\" font-family=\"Times,serif\" font-size=\"14.00\" text-anchor=\"middle\" x=\"1354.5\" y=\"-612.3\">input:</text>\n<polyline fill=\"none\" points=\"1325.5,-604.5 1383.5,-604.5 \" stroke=\"#000000\"/>\n<text fill=\"#000000\" font-family=\"Times,serif\" font-size=\"14.00\" text-anchor=\"middle\" x=\"1354.5\" y=\"-589.3\">output:</text>\n<polyline fill=\"none\" points=\"1383.5,-581.5 1383.5,-627.5 \" stroke=\"#000000\"/>\n<text fill=\"#000000\" font-family=\"Times,serif\" font-size=\"14.00\" text-anchor=\"middle\" x=\"1431\" y=\"-612.3\">(None, 1, 10)</text>\n<polyline fill=\"none\" points=\"1383.5,-604.5 1478.5,-604.5 \" stroke=\"#000000\"/>\n<text fill=\"#000000\" font-family=\"Times,serif\" font-size=\"14.00\" text-anchor=\"middle\" x=\"1431\" y=\"-589.3\">(None, 10)</text>\n</g>\n<!-- 140636341043280&#45;&gt;140636340986640 -->\n<g class=\"edge\" id=\"edge11\">\n<title>140636341043280-&gt;140636340986640</title>\n<path d=\"M1335.6643,-664.3799C1335.3678,-656.1745 1335.0278,-646.7679 1334.7065,-637.8786\" fill=\"none\" stroke=\"#000000\"/>\n<polygon fill=\"#000000\" points=\"1338.2006,-637.651 1334.3416,-627.784 1331.2052,-637.9039 1338.2006,-637.651\" stroke=\"#000000\"/>\n</g>\n<!-- 140636341065040 -->\n<g class=\"node\" id=\"node18\">\n<title>140636341065040</title>\n<polygon fill=\"none\" points=\"1496.5,-581.5 1496.5,-627.5 1786.5,-627.5 1786.5,-581.5 1496.5,-581.5\" stroke=\"#000000\"/>\n<text fill=\"#000000\" font-family=\"Times,serif\" font-size=\"14.00\" text-anchor=\"middle\" x=\"1565\" y=\"-600.8\">reshape_11: Reshape</text>\n<polyline fill=\"none\" points=\"1633.5,-581.5 1633.5,-627.5 \" stroke=\"#000000\"/>\n<text fill=\"#000000\" font-family=\"Times,serif\" font-size=\"14.00\" text-anchor=\"middle\" x=\"1662.5\" y=\"-612.3\">input:</text>\n<polyline fill=\"none\" points=\"1633.5,-604.5 1691.5,-604.5 \" stroke=\"#000000\"/>\n<text fill=\"#000000\" font-family=\"Times,serif\" font-size=\"14.00\" text-anchor=\"middle\" x=\"1662.5\" y=\"-589.3\">output:</text>\n<polyline fill=\"none\" points=\"1691.5,-581.5 1691.5,-627.5 \" stroke=\"#000000\"/>\n<text fill=\"#000000\" font-family=\"Times,serif\" font-size=\"14.00\" text-anchor=\"middle\" x=\"1739\" y=\"-612.3\">(None, 1, 30)</text>\n<polyline fill=\"none\" points=\"1691.5,-604.5 1786.5,-604.5 \" stroke=\"#000000\"/>\n<text fill=\"#000000\" font-family=\"Times,serif\" font-size=\"14.00\" text-anchor=\"middle\" x=\"1739\" y=\"-589.3\">(None, 30)</text>\n</g>\n<!-- 140636341047248&#45;&gt;140636341065040 -->\n<g class=\"edge\" id=\"edge12\">\n<title>140636341047248-&gt;140636341065040</title>\n<path d=\"M1641.5,-664.3799C1641.5,-656.1745 1641.5,-646.7679 1641.5,-637.8786\" fill=\"none\" stroke=\"#000000\"/>\n<polygon fill=\"#000000\" points=\"1645.0001,-637.784 1641.5,-627.784 1638.0001,-637.784 1645.0001,-637.784\" stroke=\"#000000\"/>\n</g>\n<!-- 140636341046800 -->\n<g class=\"node\" id=\"node19\">\n<title>140636341046800</title>\n<polygon fill=\"none\" points=\"563.5,-498.5 563.5,-544.5 1207.5,-544.5 1207.5,-498.5 563.5,-498.5\" stroke=\"#000000\"/>\n<text fill=\"#000000\" font-family=\"Times,serif\" font-size=\"14.00\" text-anchor=\"middle\" x=\"643.5\" y=\"-517.8\">concatenate: Concatenate</text>\n<polyline fill=\"none\" points=\"723.5,-498.5 723.5,-544.5 \" stroke=\"#000000\"/>\n<text fill=\"#000000\" font-family=\"Times,serif\" font-size=\"14.00\" text-anchor=\"middle\" x=\"752.5\" y=\"-529.3\">input:</text>\n<polyline fill=\"none\" points=\"723.5,-521.5 781.5,-521.5 \" stroke=\"#000000\"/>\n<text fill=\"#000000\" font-family=\"Times,serif\" font-size=\"14.00\" text-anchor=\"middle\" x=\"752.5\" y=\"-506.3\">output:</text>\n<polyline fill=\"none\" points=\"781.5,-498.5 781.5,-544.5 \" stroke=\"#000000\"/>\n<text fill=\"#000000\" font-family=\"Times,serif\" font-size=\"14.00\" text-anchor=\"middle\" x=\"994.5\" y=\"-529.3\">[(None, 10), (None, 10), (None, 3), (None, 7), (None, 10), (None, 30)]</text>\n<polyline fill=\"none\" points=\"781.5,-521.5 1207.5,-521.5 \" stroke=\"#000000\"/>\n<text fill=\"#000000\" font-family=\"Times,serif\" font-size=\"14.00\" text-anchor=\"middle\" x=\"994.5\" y=\"-506.3\">(None, 70)</text>\n</g>\n<!-- 140636341344080&#45;&gt;140636341046800 -->\n<g class=\"edge\" id=\"edge13\">\n<title>140636341344080-&gt;140636341046800</title>\n<path d=\"M283.1897,-582.0872C285.9824,-581.7152 288.7548,-581.3523 291.5,-581 396.7058,-567.5003 512.727,-555.2851 614.1024,-545.4847\" fill=\"none\" stroke=\"#000000\"/>\n<polygon fill=\"#000000\" points=\"614.5618,-548.9568 624.18,-544.5138 613.8904,-541.989 614.5618,-548.9568\" stroke=\"#000000\"/>\n</g>\n<!-- 140636343930768&#45;&gt;140636341046800 -->\n<g class=\"edge\" id=\"edge14\">\n<title>140636343930768-&gt;140636341046800</title>\n<path d=\"M565.3119,-581.4901C623.5259,-570.5832 693.1716,-557.5344 752.6194,-546.3964\" fill=\"none\" stroke=\"#000000\"/>\n<polygon fill=\"#000000\" points=\"753.2648,-549.8364 762.4492,-544.5547 751.9757,-542.9562 753.2648,-549.8364\" stroke=\"#000000\"/>\n</g>\n<!-- 140636340928272&#45;&gt;140636341046800 -->\n<g class=\"edge\" id=\"edge15\">\n<title>140636340928272-&gt;140636341046800</title>\n<path d=\"M780.1691,-581.3799C797.4991,-571.5279 817.8753,-559.9442 836.0651,-549.6034\" fill=\"none\" stroke=\"#000000\"/>\n<polygon fill=\"#000000\" points=\"837.8323,-552.6248 844.796,-544.6399 834.3728,-546.5394 837.8323,-552.6248\" stroke=\"#000000\"/>\n</g>\n<!-- 140636341297552&#45;&gt;140636341046800 -->\n<g class=\"edge\" id=\"edge16\">\n<title>140636341297552-&gt;140636341046800</title>\n<path d=\"M991.5523,-581.3799C974.1037,-571.5279 953.5878,-559.9442 935.2735,-549.6034\" fill=\"none\" stroke=\"#000000\"/>\n<polygon fill=\"#000000\" points=\"936.9115,-546.5089 926.4828,-544.6399 933.4698,-552.6044 936.9115,-546.5089\" stroke=\"#000000\"/>\n</g>\n<!-- 140636340986640&#45;&gt;140636341046800 -->\n<g class=\"edge\" id=\"edge17\">\n<title>140636340986640-&gt;140636341046800</title>\n<path d=\"M1209.302,-581.4901C1150.4309,-570.5832 1079.9991,-557.5344 1019.8804,-546.3964\" fill=\"none\" stroke=\"#000000\"/>\n<polygon fill=\"#000000\" points=\"1020.4099,-542.935 1009.9396,-544.5547 1019.1347,-549.8179 1020.4099,-542.935\" stroke=\"#000000\"/>\n</g>\n<!-- 140636341065040&#45;&gt;140636341046800 -->\n<g class=\"edge\" id=\"edge18\">\n<title>140636341065040-&gt;140636341046800</title>\n<path d=\"M1496.4393,-582.1454C1493.4343,-581.7532 1490.4518,-581.3708 1487.5,-581 1380.4773,-567.555 1262.4331,-555.3212 1159.4368,-545.4908\" fill=\"none\" stroke=\"#000000\"/>\n<polygon fill=\"#000000\" points=\"1159.4851,-541.9797 1149.1986,-544.5168 1158.8221,-548.9483 1159.4851,-541.9797\" stroke=\"#000000\"/>\n</g>\n<!-- 140636341145488 -->\n<g class=\"node\" id=\"node20\">\n<title>140636341145488</title>\n<polygon fill=\"none\" points=\"763,-415.5 763,-461.5 1008,-461.5 1008,-415.5 763,-415.5\" stroke=\"#000000\"/>\n<text fill=\"#000000\" font-family=\"Times,serif\" font-size=\"14.00\" text-anchor=\"middle\" x=\"809\" y=\"-434.8\">dense: Dense</text>\n<polyline fill=\"none\" points=\"855,-415.5 855,-461.5 \" stroke=\"#000000\"/>\n<text fill=\"#000000\" font-family=\"Times,serif\" font-size=\"14.00\" text-anchor=\"middle\" x=\"884\" y=\"-446.3\">input:</text>\n<polyline fill=\"none\" points=\"855,-438.5 913,-438.5 \" stroke=\"#000000\"/>\n<text fill=\"#000000\" font-family=\"Times,serif\" font-size=\"14.00\" text-anchor=\"middle\" x=\"884\" y=\"-423.3\">output:</text>\n<polyline fill=\"none\" points=\"913,-415.5 913,-461.5 \" stroke=\"#000000\"/>\n<text fill=\"#000000\" font-family=\"Times,serif\" font-size=\"14.00\" text-anchor=\"middle\" x=\"960.5\" y=\"-446.3\">(None, 70)</text>\n<polyline fill=\"none\" points=\"913,-438.5 1008,-438.5 \" stroke=\"#000000\"/>\n<text fill=\"#000000\" font-family=\"Times,serif\" font-size=\"14.00\" text-anchor=\"middle\" x=\"960.5\" y=\"-423.3\">(None, 1000)</text>\n</g>\n<!-- 140636341046800&#45;&gt;140636341145488 -->\n<g class=\"edge\" id=\"edge19\">\n<title>140636341046800-&gt;140636341145488</title>\n<path d=\"M885.5,-498.3799C885.5,-490.1745 885.5,-480.7679 885.5,-471.8786\" fill=\"none\" stroke=\"#000000\"/>\n<polygon fill=\"#000000\" points=\"889.0001,-471.784 885.5,-461.784 882.0001,-471.784 889.0001,-471.784\" stroke=\"#000000\"/>\n</g>\n<!-- 140636341145424 -->\n<g class=\"node\" id=\"node21\">\n<title>140636341145424</title>\n<polygon fill=\"none\" points=\"739.5,-332.5 739.5,-378.5 1031.5,-378.5 1031.5,-332.5 739.5,-332.5\" stroke=\"#000000\"/>\n<text fill=\"#000000\" font-family=\"Times,serif\" font-size=\"14.00\" text-anchor=\"middle\" x=\"809\" y=\"-351.8\">activation: Activation</text>\n<polyline fill=\"none\" points=\"878.5,-332.5 878.5,-378.5 \" stroke=\"#000000\"/>\n<text fill=\"#000000\" font-family=\"Times,serif\" font-size=\"14.00\" text-anchor=\"middle\" x=\"907.5\" y=\"-363.3\">input:</text>\n<polyline fill=\"none\" points=\"878.5,-355.5 936.5,-355.5 \" stroke=\"#000000\"/>\n<text fill=\"#000000\" font-family=\"Times,serif\" font-size=\"14.00\" text-anchor=\"middle\" x=\"907.5\" y=\"-340.3\">output:</text>\n<polyline fill=\"none\" points=\"936.5,-332.5 936.5,-378.5 \" stroke=\"#000000\"/>\n<text fill=\"#000000\" font-family=\"Times,serif\" font-size=\"14.00\" text-anchor=\"middle\" x=\"984\" y=\"-363.3\">(None, 1000)</text>\n<polyline fill=\"none\" points=\"936.5,-355.5 1031.5,-355.5 \" stroke=\"#000000\"/>\n<text fill=\"#000000\" font-family=\"Times,serif\" font-size=\"14.00\" text-anchor=\"middle\" x=\"984\" y=\"-340.3\">(None, 1000)</text>\n</g>\n<!-- 140636341145488&#45;&gt;140636341145424 -->\n<g class=\"edge\" id=\"edge20\">\n<title>140636341145488-&gt;140636341145424</title>\n<path d=\"M885.5,-415.3799C885.5,-407.1745 885.5,-397.7679 885.5,-388.8786\" fill=\"none\" stroke=\"#000000\"/>\n<polygon fill=\"#000000\" points=\"889.0001,-388.784 885.5,-378.784 882.0001,-388.784 889.0001,-388.784\" stroke=\"#000000\"/>\n</g>\n<!-- 140636340941456 -->\n<g class=\"node\" id=\"node22\">\n<title>140636340941456</title>\n<polygon fill=\"none\" points=\"755.5,-249.5 755.5,-295.5 1015.5,-295.5 1015.5,-249.5 755.5,-249.5\" stroke=\"#000000\"/>\n<text fill=\"#000000\" font-family=\"Times,serif\" font-size=\"14.00\" text-anchor=\"middle\" x=\"809\" y=\"-268.8\">dense_1: Dense</text>\n<polyline fill=\"none\" points=\"862.5,-249.5 862.5,-295.5 \" stroke=\"#000000\"/>\n<text fill=\"#000000\" font-family=\"Times,serif\" font-size=\"14.00\" text-anchor=\"middle\" x=\"891.5\" y=\"-280.3\">input:</text>\n<polyline fill=\"none\" points=\"862.5,-272.5 920.5,-272.5 \" stroke=\"#000000\"/>\n<text fill=\"#000000\" font-family=\"Times,serif\" font-size=\"14.00\" text-anchor=\"middle\" x=\"891.5\" y=\"-257.3\">output:</text>\n<polyline fill=\"none\" points=\"920.5,-249.5 920.5,-295.5 \" stroke=\"#000000\"/>\n<text fill=\"#000000\" font-family=\"Times,serif\" font-size=\"14.00\" text-anchor=\"middle\" x=\"968\" y=\"-280.3\">(None, 1000)</text>\n<polyline fill=\"none\" points=\"920.5,-272.5 1015.5,-272.5 \" stroke=\"#000000\"/>\n<text fill=\"#000000\" font-family=\"Times,serif\" font-size=\"14.00\" text-anchor=\"middle\" x=\"968\" y=\"-257.3\">(None, 500)</text>\n</g>\n<!-- 140636341145424&#45;&gt;140636340941456 -->\n<g class=\"edge\" id=\"edge21\">\n<title>140636341145424-&gt;140636340941456</title>\n<path d=\"M885.5,-332.3799C885.5,-324.1745 885.5,-314.7679 885.5,-305.8786\" fill=\"none\" stroke=\"#000000\"/>\n<polygon fill=\"#000000\" points=\"889.0001,-305.784 885.5,-295.784 882.0001,-305.784 889.0001,-305.784\" stroke=\"#000000\"/>\n</g>\n<!-- 140636340989136 -->\n<g class=\"node\" id=\"node23\">\n<title>140636340989136</title>\n<polygon fill=\"none\" points=\"736,-166.5 736,-212.5 1035,-212.5 1035,-166.5 736,-166.5\" stroke=\"#000000\"/>\n<text fill=\"#000000\" font-family=\"Times,serif\" font-size=\"14.00\" text-anchor=\"middle\" x=\"813\" y=\"-185.8\">activation_1: Activation</text>\n<polyline fill=\"none\" points=\"890,-166.5 890,-212.5 \" stroke=\"#000000\"/>\n<text fill=\"#000000\" font-family=\"Times,serif\" font-size=\"14.00\" text-anchor=\"middle\" x=\"919\" y=\"-197.3\">input:</text>\n<polyline fill=\"none\" points=\"890,-189.5 948,-189.5 \" stroke=\"#000000\"/>\n<text fill=\"#000000\" font-family=\"Times,serif\" font-size=\"14.00\" text-anchor=\"middle\" x=\"919\" y=\"-174.3\">output:</text>\n<polyline fill=\"none\" points=\"948,-166.5 948,-212.5 \" stroke=\"#000000\"/>\n<text fill=\"#000000\" font-family=\"Times,serif\" font-size=\"14.00\" text-anchor=\"middle\" x=\"991.5\" y=\"-197.3\">(None, 500)</text>\n<polyline fill=\"none\" points=\"948,-189.5 1035,-189.5 \" stroke=\"#000000\"/>\n<text fill=\"#000000\" font-family=\"Times,serif\" font-size=\"14.00\" text-anchor=\"middle\" x=\"991.5\" y=\"-174.3\">(None, 500)</text>\n</g>\n<!-- 140636340941456&#45;&gt;140636340989136 -->\n<g class=\"edge\" id=\"edge22\">\n<title>140636340941456-&gt;140636340989136</title>\n<path d=\"M885.5,-249.3799C885.5,-241.1745 885.5,-231.7679 885.5,-222.8786\" fill=\"none\" stroke=\"#000000\"/>\n<polygon fill=\"#000000\" points=\"889.0001,-222.784 885.5,-212.784 882.0001,-222.784 889.0001,-222.784\" stroke=\"#000000\"/>\n</g>\n<!-- 140636341321232 -->\n<g class=\"node\" id=\"node24\">\n<title>140636341321232</title>\n<polygon fill=\"none\" points=\"759.5,-83.5 759.5,-129.5 1011.5,-129.5 1011.5,-83.5 759.5,-83.5\" stroke=\"#000000\"/>\n<text fill=\"#000000\" font-family=\"Times,serif\" font-size=\"14.00\" text-anchor=\"middle\" x=\"813\" y=\"-102.8\">dense_2: Dense</text>\n<polyline fill=\"none\" points=\"866.5,-83.5 866.5,-129.5 \" stroke=\"#000000\"/>\n<text fill=\"#000000\" font-family=\"Times,serif\" font-size=\"14.00\" text-anchor=\"middle\" x=\"895.5\" y=\"-114.3\">input:</text>\n<polyline fill=\"none\" points=\"866.5,-106.5 924.5,-106.5 \" stroke=\"#000000\"/>\n<text fill=\"#000000\" font-family=\"Times,serif\" font-size=\"14.00\" text-anchor=\"middle\" x=\"895.5\" y=\"-91.3\">output:</text>\n<polyline fill=\"none\" points=\"924.5,-83.5 924.5,-129.5 \" stroke=\"#000000\"/>\n<text fill=\"#000000\" font-family=\"Times,serif\" font-size=\"14.00\" text-anchor=\"middle\" x=\"968\" y=\"-114.3\">(None, 500)</text>\n<polyline fill=\"none\" points=\"924.5,-106.5 1011.5,-106.5 \" stroke=\"#000000\"/>\n<text fill=\"#000000\" font-family=\"Times,serif\" font-size=\"14.00\" text-anchor=\"middle\" x=\"968\" y=\"-91.3\">(None, 1)</text>\n</g>\n<!-- 140636340989136&#45;&gt;140636341321232 -->\n<g class=\"edge\" id=\"edge23\">\n<title>140636340989136-&gt;140636341321232</title>\n<path d=\"M885.5,-166.3799C885.5,-158.1745 885.5,-148.7679 885.5,-139.8786\" fill=\"none\" stroke=\"#000000\"/>\n<polygon fill=\"#000000\" points=\"889.0001,-139.784 885.5,-129.784 882.0001,-139.784 889.0001,-139.784\" stroke=\"#000000\"/>\n</g>\n<!-- 140636341279760 -->\n<g class=\"node\" id=\"node25\">\n<title>140636341279760</title>\n<polygon fill=\"none\" points=\"743.5,-.5 743.5,-46.5 1027.5,-46.5 1027.5,-.5 743.5,-.5\" stroke=\"#000000\"/>\n<text fill=\"#000000\" font-family=\"Times,serif\" font-size=\"14.00\" text-anchor=\"middle\" x=\"820.5\" y=\"-19.8\">activation_2: Activation</text>\n<polyline fill=\"none\" points=\"897.5,-.5 897.5,-46.5 \" stroke=\"#000000\"/>\n<text fill=\"#000000\" font-family=\"Times,serif\" font-size=\"14.00\" text-anchor=\"middle\" x=\"926.5\" y=\"-31.3\">input:</text>\n<polyline fill=\"none\" points=\"897.5,-23.5 955.5,-23.5 \" stroke=\"#000000\"/>\n<text fill=\"#000000\" font-family=\"Times,serif\" font-size=\"14.00\" text-anchor=\"middle\" x=\"926.5\" y=\"-8.3\">output:</text>\n<polyline fill=\"none\" points=\"955.5,-.5 955.5,-46.5 \" stroke=\"#000000\"/>\n<text fill=\"#000000\" font-family=\"Times,serif\" font-size=\"14.00\" text-anchor=\"middle\" x=\"991.5\" y=\"-31.3\">(None, 1)</text>\n<polyline fill=\"none\" points=\"955.5,-23.5 1027.5,-23.5 \" stroke=\"#000000\"/>\n<text fill=\"#000000\" font-family=\"Times,serif\" font-size=\"14.00\" text-anchor=\"middle\" x=\"991.5\" y=\"-8.3\">(None, 1)</text>\n</g>\n<!-- 140636341321232&#45;&gt;140636341279760 -->\n<g class=\"edge\" id=\"edge24\">\n<title>140636341321232-&gt;140636341279760</title>\n<path d=\"M885.5,-83.3799C885.5,-75.1745 885.5,-65.7679 885.5,-56.8786\" fill=\"none\" stroke=\"#000000\"/>\n<polygon fill=\"#000000\" points=\"889.0001,-56.784 885.5,-46.784 882.0001,-56.784 889.0001,-56.784\" stroke=\"#000000\"/>\n</g>\n</g>\n</svg>"
          },
          "metadata": {
            "tags": []
          },
          "execution_count": 60
        }
      ]
    },
    {
      "cell_type": "code",
      "metadata": {
        "id": "r3yRW9HUiNuV"
      },
      "source": [
        "def split_features(X):\n",
        "    X_list = []\n",
        "\n",
        "    asin = X[:, [0]].reshape(-1,1)\n",
        "    X_list.append(asin)\n",
        "\n",
        "    hour = X[:, [3]].reshape(-1,1)\n",
        "    X_list.append(hour)\n",
        "\n",
        "    dayofweek = X[:, [10]].reshape(-1,1)\n",
        "    X_list.append(dayofweek)\n",
        "\n",
        "    month = X[:, [7]].reshape(-1,1)\n",
        "    X_list.append(month)\n",
        "\n",
        "    day = X[:, [9]].reshape(-1,1)\n",
        "    X_list.append(day)\n",
        "\n",
        "    week = X[:, [8]].reshape(-1,1)\n",
        "    X_list.append(week)\n",
        "\n",
        "    return X_list"
      ],
      "execution_count": null,
      "outputs": []
    },
    {
      "cell_type": "code",
      "metadata": {
        "id": "gj-9-XnqkttC"
      },
      "source": [
        "def split_features(X):\n",
        "    X_list = []\n",
        "\n",
        "    asin = X[:, [0]].reshape(-1,1)\n",
        "    X_list.append(asin)\n",
        "\n",
        "    # hour = X[:, [3]].reshape(-1,1)\n",
        "    # X_list.append(hour)\n",
        "\n",
        "    # dayofweek = X[:, [10]].reshape(-1,1)\n",
        "    # X_list.append(dayofweek)\n",
        "\n",
        "    month = X[:, [1]].reshape(-1,1)\n",
        "    X_list.append(month)\n",
        "\n",
        "    # day = X[:, [9]].reshape(-1,1)\n",
        "    # X_list.append(day)\n",
        "\n",
        "    # week = X[:, [8]].reshape(-1,1)\n",
        "    # X_list.append(week)\n",
        "\n",
        "    return X_list"
      ],
      "execution_count": null,
      "outputs": []
    },
    {
      "cell_type": "code",
      "metadata": {
        "id": "abIfThptiNo2"
      },
      "source": [
        "def preprocessing(X):\n",
        "    X_list = split_features(X)\n",
        "    return X_list"
      ],
      "execution_count": null,
      "outputs": []
    },
    {
      "cell_type": "code",
      "metadata": {
        "colab": {
          "base_uri": "https://localhost:8080/"
        },
        "id": "-P9sqmotlt0h",
        "outputId": "4e0ce623-3f98-4177-8fa2-cdb32b1a5bdf"
      },
      "source": [
        "X = preprocessing(X_train.values)\n",
        "X"
      ],
      "execution_count": null,
      "outputs": [
        {
          "output_type": "execute_result",
          "data": {
            "text/plain": [
              "[array([[ 7.],\n",
              "        [ 1.],\n",
              "        [ 7.],\n",
              "        ...,\n",
              "        [ 7.],\n",
              "        [22.],\n",
              "        [ 7.]]), array([[0.],\n",
              "        [0.],\n",
              "        [0.],\n",
              "        ...,\n",
              "        [0.],\n",
              "        [0.],\n",
              "        [0.]])]"
            ]
          },
          "metadata": {
            "tags": []
          },
          "execution_count": 87
        }
      ]
    },
    {
      "cell_type": "code",
      "metadata": {
        "colab": {
          "base_uri": "https://localhost:8080/"
        },
        "id": "yxVuXDngF908",
        "outputId": "d68231bb-4bb8-4ace-eea8-16f8b1990a09"
      },
      "source": [
        "x_train.nunique()"
      ],
      "execution_count": null,
      "outputs": [
        {
          "output_type": "execute_result",
          "data": {
            "text/plain": [
              "Asin                    46\n",
              "Is_month_end             2\n",
              "Is_month_start           2\n",
              "Is_quarter_end           2\n",
              "Is_quarter_start         2\n",
              "Is_year_end              2\n",
              "Is_year_start            2\n",
              "hour                    24\n",
              "Month                   10\n",
              "Week                    45\n",
              "Day                     31\n",
              "Dayofweek                7\n",
              "Dayofyear              305\n",
              "Item Promo Discount     61\n",
              "price                  157\n",
              "Invoice Amount         268\n",
              "Year                     3\n",
              "Elapsed                442\n",
              "dtype: int64"
            ]
          },
          "metadata": {
            "tags": []
          },
          "execution_count": 88
        }
      ]
    },
    {
      "cell_type": "code",
      "metadata": {
        "colab": {
          "base_uri": "https://localhost:8080/",
          "height": 643
        },
        "id": "1zqQ8dPGnYG2",
        "outputId": "a6bfe6c5-2f08-4373-c716-1169070f3746"
      },
      "source": [
        "\n",
        "\n",
        "modelNN_emb.checkpointer = ModelCheckpoint(filepath=\"best_model_weights.hdf5\", verbose=1, save_best_only=True)\n",
        "modelNN_emb.fit(preprocessing(X_train.values), y_train, epochs = 10, batch_size = 128, validation_data= (preprocessing(X_test.values),y_test), callbacks=[modelNN_emb.checkpointer])\n",
        "\n"
      ],
      "execution_count": null,
      "outputs": [
        {
          "output_type": "stream",
          "text": [
            "Epoch 1/10\n"
          ],
          "name": "stdout"
        },
        {
          "output_type": "error",
          "ename": "ValueError",
          "evalue": "ignored",
          "traceback": [
            "\u001b[0;31m---------------------------------------------------------------------------\u001b[0m",
            "\u001b[0;31mValueError\u001b[0m                                Traceback (most recent call last)",
            "\u001b[0;32m<ipython-input-91-8290f71ae83e>\u001b[0m in \u001b[0;36m<module>\u001b[0;34m()\u001b[0m\n\u001b[1;32m      2\u001b[0m \u001b[0;34m\u001b[0m\u001b[0m\n\u001b[1;32m      3\u001b[0m \u001b[0mmodelNN_emb\u001b[0m\u001b[0;34m.\u001b[0m\u001b[0mcheckpointer\u001b[0m \u001b[0;34m=\u001b[0m \u001b[0mModelCheckpoint\u001b[0m\u001b[0;34m(\u001b[0m\u001b[0mfilepath\u001b[0m\u001b[0;34m=\u001b[0m\u001b[0;34m\"best_model_weights.hdf5\"\u001b[0m\u001b[0;34m,\u001b[0m \u001b[0mverbose\u001b[0m\u001b[0;34m=\u001b[0m\u001b[0;36m1\u001b[0m\u001b[0;34m,\u001b[0m \u001b[0msave_best_only\u001b[0m\u001b[0;34m=\u001b[0m\u001b[0;32mTrue\u001b[0m\u001b[0;34m)\u001b[0m\u001b[0;34m\u001b[0m\u001b[0;34m\u001b[0m\u001b[0m\n\u001b[0;32m----> 4\u001b[0;31m \u001b[0mmodelNN_emb\u001b[0m\u001b[0;34m.\u001b[0m\u001b[0mfit\u001b[0m\u001b[0;34m(\u001b[0m\u001b[0mpreprocessing\u001b[0m\u001b[0;34m(\u001b[0m\u001b[0mX_train\u001b[0m\u001b[0;34m.\u001b[0m\u001b[0mvalues\u001b[0m\u001b[0;34m)\u001b[0m\u001b[0;34m,\u001b[0m \u001b[0my_train\u001b[0m\u001b[0;34m,\u001b[0m \u001b[0mepochs\u001b[0m \u001b[0;34m=\u001b[0m \u001b[0;36m10\u001b[0m\u001b[0;34m,\u001b[0m \u001b[0mbatch_size\u001b[0m \u001b[0;34m=\u001b[0m \u001b[0;36m128\u001b[0m\u001b[0;34m,\u001b[0m \u001b[0mvalidation_data\u001b[0m\u001b[0;34m=\u001b[0m \u001b[0;34m(\u001b[0m\u001b[0mpreprocessing\u001b[0m\u001b[0;34m(\u001b[0m\u001b[0mX_test\u001b[0m\u001b[0;34m.\u001b[0m\u001b[0mvalues\u001b[0m\u001b[0;34m)\u001b[0m\u001b[0;34m,\u001b[0m\u001b[0my_test\u001b[0m\u001b[0;34m)\u001b[0m\u001b[0;34m,\u001b[0m \u001b[0mcallbacks\u001b[0m\u001b[0;34m=\u001b[0m\u001b[0;34m[\u001b[0m\u001b[0mmodelNN_emb\u001b[0m\u001b[0;34m.\u001b[0m\u001b[0mcheckpointer\u001b[0m\u001b[0;34m]\u001b[0m\u001b[0;34m)\u001b[0m\u001b[0;34m\u001b[0m\u001b[0;34m\u001b[0m\u001b[0m\n\u001b[0m\u001b[1;32m      5\u001b[0m \u001b[0;34m\u001b[0m\u001b[0m\n",
            "\u001b[0;32m/usr/local/lib/python3.7/dist-packages/keras/engine/training.py\u001b[0m in \u001b[0;36mfit\u001b[0;34m(self, x, y, batch_size, epochs, verbose, callbacks, validation_split, validation_data, shuffle, class_weight, sample_weight, initial_epoch, steps_per_epoch, validation_steps, validation_batch_size, validation_freq, max_queue_size, workers, use_multiprocessing)\u001b[0m\n\u001b[1;32m   1156\u001b[0m                 _r=1):\n\u001b[1;32m   1157\u001b[0m               \u001b[0mcallbacks\u001b[0m\u001b[0;34m.\u001b[0m\u001b[0mon_train_batch_begin\u001b[0m\u001b[0;34m(\u001b[0m\u001b[0mstep\u001b[0m\u001b[0;34m)\u001b[0m\u001b[0;34m\u001b[0m\u001b[0;34m\u001b[0m\u001b[0m\n\u001b[0;32m-> 1158\u001b[0;31m               \u001b[0mtmp_logs\u001b[0m \u001b[0;34m=\u001b[0m \u001b[0mself\u001b[0m\u001b[0;34m.\u001b[0m\u001b[0mtrain_function\u001b[0m\u001b[0;34m(\u001b[0m\u001b[0miterator\u001b[0m\u001b[0;34m)\u001b[0m\u001b[0;34m\u001b[0m\u001b[0;34m\u001b[0m\u001b[0m\n\u001b[0m\u001b[1;32m   1159\u001b[0m               \u001b[0;32mif\u001b[0m \u001b[0mdata_handler\u001b[0m\u001b[0;34m.\u001b[0m\u001b[0mshould_sync\u001b[0m\u001b[0;34m:\u001b[0m\u001b[0;34m\u001b[0m\u001b[0;34m\u001b[0m\u001b[0m\n\u001b[1;32m   1160\u001b[0m                 \u001b[0mcontext\u001b[0m\u001b[0;34m.\u001b[0m\u001b[0masync_wait\u001b[0m\u001b[0;34m(\u001b[0m\u001b[0;34m)\u001b[0m\u001b[0;34m\u001b[0m\u001b[0;34m\u001b[0m\u001b[0m\n",
            "\u001b[0;32m/usr/local/lib/python3.7/dist-packages/tensorflow/python/eager/def_function.py\u001b[0m in \u001b[0;36m__call__\u001b[0;34m(self, *args, **kwds)\u001b[0m\n\u001b[1;32m    887\u001b[0m \u001b[0;34m\u001b[0m\u001b[0m\n\u001b[1;32m    888\u001b[0m       \u001b[0;32mwith\u001b[0m \u001b[0mOptionalXlaContext\u001b[0m\u001b[0;34m(\u001b[0m\u001b[0mself\u001b[0m\u001b[0;34m.\u001b[0m\u001b[0m_jit_compile\u001b[0m\u001b[0;34m)\u001b[0m\u001b[0;34m:\u001b[0m\u001b[0;34m\u001b[0m\u001b[0;34m\u001b[0m\u001b[0m\n\u001b[0;32m--> 889\u001b[0;31m         \u001b[0mresult\u001b[0m \u001b[0;34m=\u001b[0m \u001b[0mself\u001b[0m\u001b[0;34m.\u001b[0m\u001b[0m_call\u001b[0m\u001b[0;34m(\u001b[0m\u001b[0;34m*\u001b[0m\u001b[0margs\u001b[0m\u001b[0;34m,\u001b[0m \u001b[0;34m**\u001b[0m\u001b[0mkwds\u001b[0m\u001b[0;34m)\u001b[0m\u001b[0;34m\u001b[0m\u001b[0;34m\u001b[0m\u001b[0m\n\u001b[0m\u001b[1;32m    890\u001b[0m \u001b[0;34m\u001b[0m\u001b[0m\n\u001b[1;32m    891\u001b[0m       \u001b[0mnew_tracing_count\u001b[0m \u001b[0;34m=\u001b[0m \u001b[0mself\u001b[0m\u001b[0;34m.\u001b[0m\u001b[0mexperimental_get_tracing_count\u001b[0m\u001b[0;34m(\u001b[0m\u001b[0;34m)\u001b[0m\u001b[0;34m\u001b[0m\u001b[0;34m\u001b[0m\u001b[0m\n",
            "\u001b[0;32m/usr/local/lib/python3.7/dist-packages/tensorflow/python/eager/def_function.py\u001b[0m in \u001b[0;36m_call\u001b[0;34m(self, *args, **kwds)\u001b[0m\n\u001b[1;32m    922\u001b[0m       \u001b[0;31m# In this case we have not created variables on the first call. So we can\u001b[0m\u001b[0;34m\u001b[0m\u001b[0;34m\u001b[0m\u001b[0;34m\u001b[0m\u001b[0m\n\u001b[1;32m    923\u001b[0m       \u001b[0;31m# run the first trace but we should fail if variables are created.\u001b[0m\u001b[0;34m\u001b[0m\u001b[0;34m\u001b[0m\u001b[0;34m\u001b[0m\u001b[0m\n\u001b[0;32m--> 924\u001b[0;31m       \u001b[0mresults\u001b[0m \u001b[0;34m=\u001b[0m \u001b[0mself\u001b[0m\u001b[0;34m.\u001b[0m\u001b[0m_stateful_fn\u001b[0m\u001b[0;34m(\u001b[0m\u001b[0;34m*\u001b[0m\u001b[0margs\u001b[0m\u001b[0;34m,\u001b[0m \u001b[0;34m**\u001b[0m\u001b[0mkwds\u001b[0m\u001b[0;34m)\u001b[0m\u001b[0;34m\u001b[0m\u001b[0;34m\u001b[0m\u001b[0m\n\u001b[0m\u001b[1;32m    925\u001b[0m       \u001b[0;32mif\u001b[0m \u001b[0mself\u001b[0m\u001b[0;34m.\u001b[0m\u001b[0m_created_variables\u001b[0m\u001b[0;34m:\u001b[0m\u001b[0;34m\u001b[0m\u001b[0;34m\u001b[0m\u001b[0m\n\u001b[1;32m    926\u001b[0m         raise ValueError(\"Creating variables on a non-first call to a function\"\n",
            "\u001b[0;32m/usr/local/lib/python3.7/dist-packages/tensorflow/python/eager/function.py\u001b[0m in \u001b[0;36m__call__\u001b[0;34m(self, *args, **kwargs)\u001b[0m\n\u001b[1;32m   3020\u001b[0m     \u001b[0;32mwith\u001b[0m \u001b[0mself\u001b[0m\u001b[0;34m.\u001b[0m\u001b[0m_lock\u001b[0m\u001b[0;34m:\u001b[0m\u001b[0;34m\u001b[0m\u001b[0;34m\u001b[0m\u001b[0m\n\u001b[1;32m   3021\u001b[0m       (graph_function,\n\u001b[0;32m-> 3022\u001b[0;31m        filtered_flat_args) = self._maybe_define_function(args, kwargs)\n\u001b[0m\u001b[1;32m   3023\u001b[0m     return graph_function._call_flat(\n\u001b[1;32m   3024\u001b[0m         filtered_flat_args, captured_inputs=graph_function.captured_inputs)  # pylint: disable=protected-access\n",
            "\u001b[0;32m/usr/local/lib/python3.7/dist-packages/tensorflow/python/eager/function.py\u001b[0m in \u001b[0;36m_maybe_define_function\u001b[0;34m(self, args, kwargs)\u001b[0m\n\u001b[1;32m   3439\u001b[0m               call_context_key in self._function_cache.missed):\n\u001b[1;32m   3440\u001b[0m             return self._define_function_with_shape_relaxation(\n\u001b[0;32m-> 3441\u001b[0;31m                 args, kwargs, flat_args, filtered_flat_args, cache_key_context)\n\u001b[0m\u001b[1;32m   3442\u001b[0m \u001b[0;34m\u001b[0m\u001b[0m\n\u001b[1;32m   3443\u001b[0m           \u001b[0mself\u001b[0m\u001b[0;34m.\u001b[0m\u001b[0m_function_cache\u001b[0m\u001b[0;34m.\u001b[0m\u001b[0mmissed\u001b[0m\u001b[0;34m.\u001b[0m\u001b[0madd\u001b[0m\u001b[0;34m(\u001b[0m\u001b[0mcall_context_key\u001b[0m\u001b[0;34m)\u001b[0m\u001b[0;34m\u001b[0m\u001b[0;34m\u001b[0m\u001b[0m\n",
            "\u001b[0;32m/usr/local/lib/python3.7/dist-packages/tensorflow/python/eager/function.py\u001b[0m in \u001b[0;36m_define_function_with_shape_relaxation\u001b[0;34m(self, args, kwargs, flat_args, filtered_flat_args, cache_key_context)\u001b[0m\n\u001b[1;32m   3361\u001b[0m \u001b[0;34m\u001b[0m\u001b[0m\n\u001b[1;32m   3362\u001b[0m     graph_function = self._create_graph_function(\n\u001b[0;32m-> 3363\u001b[0;31m         args, kwargs, override_flat_arg_shapes=relaxed_arg_shapes)\n\u001b[0m\u001b[1;32m   3364\u001b[0m     \u001b[0mself\u001b[0m\u001b[0;34m.\u001b[0m\u001b[0m_function_cache\u001b[0m\u001b[0;34m.\u001b[0m\u001b[0marg_relaxed\u001b[0m\u001b[0;34m[\u001b[0m\u001b[0mrank_only_cache_key\u001b[0m\u001b[0;34m]\u001b[0m \u001b[0;34m=\u001b[0m \u001b[0mgraph_function\u001b[0m\u001b[0;34m\u001b[0m\u001b[0;34m\u001b[0m\u001b[0m\n\u001b[1;32m   3365\u001b[0m \u001b[0;34m\u001b[0m\u001b[0m\n",
            "\u001b[0;32m/usr/local/lib/python3.7/dist-packages/tensorflow/python/eager/function.py\u001b[0m in \u001b[0;36m_create_graph_function\u001b[0;34m(self, args, kwargs, override_flat_arg_shapes)\u001b[0m\n\u001b[1;32m   3287\u001b[0m             \u001b[0marg_names\u001b[0m\u001b[0;34m=\u001b[0m\u001b[0marg_names\u001b[0m\u001b[0;34m,\u001b[0m\u001b[0;34m\u001b[0m\u001b[0;34m\u001b[0m\u001b[0m\n\u001b[1;32m   3288\u001b[0m             \u001b[0moverride_flat_arg_shapes\u001b[0m\u001b[0;34m=\u001b[0m\u001b[0moverride_flat_arg_shapes\u001b[0m\u001b[0;34m,\u001b[0m\u001b[0;34m\u001b[0m\u001b[0;34m\u001b[0m\u001b[0m\n\u001b[0;32m-> 3289\u001b[0;31m             capture_by_value=self._capture_by_value),\n\u001b[0m\u001b[1;32m   3290\u001b[0m         \u001b[0mself\u001b[0m\u001b[0;34m.\u001b[0m\u001b[0m_function_attributes\u001b[0m\u001b[0;34m,\u001b[0m\u001b[0;34m\u001b[0m\u001b[0;34m\u001b[0m\u001b[0m\n\u001b[1;32m   3291\u001b[0m         \u001b[0mfunction_spec\u001b[0m\u001b[0;34m=\u001b[0m\u001b[0mself\u001b[0m\u001b[0;34m.\u001b[0m\u001b[0mfunction_spec\u001b[0m\u001b[0;34m,\u001b[0m\u001b[0;34m\u001b[0m\u001b[0;34m\u001b[0m\u001b[0m\n",
            "\u001b[0;32m/usr/local/lib/python3.7/dist-packages/tensorflow/python/framework/func_graph.py\u001b[0m in \u001b[0;36mfunc_graph_from_py_func\u001b[0;34m(name, python_func, args, kwargs, signature, func_graph, autograph, autograph_options, add_control_dependencies, arg_names, op_return_value, collections, capture_by_value, override_flat_arg_shapes)\u001b[0m\n\u001b[1;32m    997\u001b[0m         \u001b[0m_\u001b[0m\u001b[0;34m,\u001b[0m \u001b[0moriginal_func\u001b[0m \u001b[0;34m=\u001b[0m \u001b[0mtf_decorator\u001b[0m\u001b[0;34m.\u001b[0m\u001b[0munwrap\u001b[0m\u001b[0;34m(\u001b[0m\u001b[0mpython_func\u001b[0m\u001b[0;34m)\u001b[0m\u001b[0;34m\u001b[0m\u001b[0;34m\u001b[0m\u001b[0m\n\u001b[1;32m    998\u001b[0m \u001b[0;34m\u001b[0m\u001b[0m\n\u001b[0;32m--> 999\u001b[0;31m       \u001b[0mfunc_outputs\u001b[0m \u001b[0;34m=\u001b[0m \u001b[0mpython_func\u001b[0m\u001b[0;34m(\u001b[0m\u001b[0;34m*\u001b[0m\u001b[0mfunc_args\u001b[0m\u001b[0;34m,\u001b[0m \u001b[0;34m**\u001b[0m\u001b[0mfunc_kwargs\u001b[0m\u001b[0;34m)\u001b[0m\u001b[0;34m\u001b[0m\u001b[0;34m\u001b[0m\u001b[0m\n\u001b[0m\u001b[1;32m   1000\u001b[0m \u001b[0;34m\u001b[0m\u001b[0m\n\u001b[1;32m   1001\u001b[0m       \u001b[0;31m# invariant: `func_outputs` contains only Tensors, CompositeTensors,\u001b[0m\u001b[0;34m\u001b[0m\u001b[0;34m\u001b[0m\u001b[0;34m\u001b[0m\u001b[0m\n",
            "\u001b[0;32m/usr/local/lib/python3.7/dist-packages/tensorflow/python/eager/def_function.py\u001b[0m in \u001b[0;36mwrapped_fn\u001b[0;34m(*args, **kwds)\u001b[0m\n\u001b[1;32m    670\u001b[0m         \u001b[0;31m# the function a weak reference to itself to avoid a reference cycle.\u001b[0m\u001b[0;34m\u001b[0m\u001b[0;34m\u001b[0m\u001b[0;34m\u001b[0m\u001b[0m\n\u001b[1;32m    671\u001b[0m         \u001b[0;32mwith\u001b[0m \u001b[0mOptionalXlaContext\u001b[0m\u001b[0;34m(\u001b[0m\u001b[0mcompile_with_xla\u001b[0m\u001b[0;34m)\u001b[0m\u001b[0;34m:\u001b[0m\u001b[0;34m\u001b[0m\u001b[0;34m\u001b[0m\u001b[0m\n\u001b[0;32m--> 672\u001b[0;31m           \u001b[0mout\u001b[0m \u001b[0;34m=\u001b[0m \u001b[0mweak_wrapped_fn\u001b[0m\u001b[0;34m(\u001b[0m\u001b[0;34m)\u001b[0m\u001b[0;34m.\u001b[0m\u001b[0m__wrapped__\u001b[0m\u001b[0;34m(\u001b[0m\u001b[0;34m*\u001b[0m\u001b[0margs\u001b[0m\u001b[0;34m,\u001b[0m \u001b[0;34m**\u001b[0m\u001b[0mkwds\u001b[0m\u001b[0;34m)\u001b[0m\u001b[0;34m\u001b[0m\u001b[0;34m\u001b[0m\u001b[0m\n\u001b[0m\u001b[1;32m    673\u001b[0m         \u001b[0;32mreturn\u001b[0m \u001b[0mout\u001b[0m\u001b[0;34m\u001b[0m\u001b[0;34m\u001b[0m\u001b[0m\n\u001b[1;32m    674\u001b[0m \u001b[0;34m\u001b[0m\u001b[0m\n",
            "\u001b[0;32m/usr/local/lib/python3.7/dist-packages/tensorflow/python/framework/func_graph.py\u001b[0m in \u001b[0;36mwrapper\u001b[0;34m(*args, **kwargs)\u001b[0m\n\u001b[1;32m    984\u001b[0m           \u001b[0;32mexcept\u001b[0m \u001b[0mException\u001b[0m \u001b[0;32mas\u001b[0m \u001b[0me\u001b[0m\u001b[0;34m:\u001b[0m  \u001b[0;31m# pylint:disable=broad-except\u001b[0m\u001b[0;34m\u001b[0m\u001b[0;34m\u001b[0m\u001b[0m\n\u001b[1;32m    985\u001b[0m             \u001b[0;32mif\u001b[0m \u001b[0mhasattr\u001b[0m\u001b[0;34m(\u001b[0m\u001b[0me\u001b[0m\u001b[0;34m,\u001b[0m \u001b[0;34m\"ag_error_metadata\"\u001b[0m\u001b[0;34m)\u001b[0m\u001b[0;34m:\u001b[0m\u001b[0;34m\u001b[0m\u001b[0;34m\u001b[0m\u001b[0m\n\u001b[0;32m--> 986\u001b[0;31m               \u001b[0;32mraise\u001b[0m \u001b[0me\u001b[0m\u001b[0;34m.\u001b[0m\u001b[0mag_error_metadata\u001b[0m\u001b[0;34m.\u001b[0m\u001b[0mto_exception\u001b[0m\u001b[0;34m(\u001b[0m\u001b[0me\u001b[0m\u001b[0;34m)\u001b[0m\u001b[0;34m\u001b[0m\u001b[0;34m\u001b[0m\u001b[0m\n\u001b[0m\u001b[1;32m    987\u001b[0m             \u001b[0;32melse\u001b[0m\u001b[0;34m:\u001b[0m\u001b[0;34m\u001b[0m\u001b[0;34m\u001b[0m\u001b[0m\n\u001b[1;32m    988\u001b[0m               \u001b[0;32mraise\u001b[0m\u001b[0;34m\u001b[0m\u001b[0;34m\u001b[0m\u001b[0m\n",
            "\u001b[0;31mValueError\u001b[0m: in user code:\n\n    /usr/local/lib/python3.7/dist-packages/keras/engine/training.py:830 train_function  *\n        return step_function(self, iterator)\n    /usr/local/lib/python3.7/dist-packages/keras/engine/training.py:813 run_step  *\n        outputs = model.train_step(data)\n    /usr/local/lib/python3.7/dist-packages/keras/engine/training.py:770 train_step  *\n        y_pred = self(x, training=True)\n    /usr/local/lib/python3.7/dist-packages/keras/engine/base_layer.py:989 __call__  *\n        input_spec.assert_input_compatibility(self.input_spec, inputs, self.name)\n    /usr/local/lib/python3.7/dist-packages/keras/engine/input_spec.py:197 assert_input_compatibility  *\n        raise ValueError('Layer ' + layer_name + ' expects ' +\n\n    ValueError: Layer model_1 expects 6 input(s), but it received 2 input tensors. Inputs received: [<tf.Tensor 'IteratorGetNext:0' shape=(None, 1) dtype=float32>, <tf.Tensor 'IteratorGetNext:1' shape=(None, 1) dtype=float32>]\n"
          ]
        }
      ]
    },
    {
      "cell_type": "code",
      "metadata": {
        "colab": {
          "base_uri": "https://localhost:8080/",
          "height": 608
        },
        "id": "PqWrYKfHn8Pf",
        "outputId": "f1a8ae7a-4501-4fb2-94dc-2243c5e439a5"
      },
      "source": [
        "modelNN_emb.checkpointer = ModelCheckpoint(filepath=\"best_model_weights.hdf5\", verbose=1, save_best_only=True)\n",
        "modelNN_emb.fit(preprocessing(X_train.values), y_train.values.reshape(-1,1), epochs = 10, batch_size = 128, validation_data= (preprocessing(X_test.values), y_test.values.reshape(-1,1)), callbacks=[modelNN_emb.checkpointer])"
      ],
      "execution_count": null,
      "outputs": [
        {
          "output_type": "stream",
          "text": [
            "Epoch 1/10\n"
          ],
          "name": "stdout"
        },
        {
          "output_type": "error",
          "ename": "ValueError",
          "evalue": "ignored",
          "traceback": [
            "\u001b[0;31m---------------------------------------------------------------------------\u001b[0m",
            "\u001b[0;31mValueError\u001b[0m                                Traceback (most recent call last)",
            "\u001b[0;32m<ipython-input-89-b73aca3edd0a>\u001b[0m in \u001b[0;36m<module>\u001b[0;34m()\u001b[0m\n\u001b[1;32m      1\u001b[0m \u001b[0mmodelNN_emb\u001b[0m\u001b[0;34m.\u001b[0m\u001b[0mcheckpointer\u001b[0m \u001b[0;34m=\u001b[0m \u001b[0mModelCheckpoint\u001b[0m\u001b[0;34m(\u001b[0m\u001b[0mfilepath\u001b[0m\u001b[0;34m=\u001b[0m\u001b[0;34m\"best_model_weights.hdf5\"\u001b[0m\u001b[0;34m,\u001b[0m \u001b[0mverbose\u001b[0m\u001b[0;34m=\u001b[0m\u001b[0;36m1\u001b[0m\u001b[0;34m,\u001b[0m \u001b[0msave_best_only\u001b[0m\u001b[0;34m=\u001b[0m\u001b[0;32mTrue\u001b[0m\u001b[0;34m)\u001b[0m\u001b[0;34m\u001b[0m\u001b[0;34m\u001b[0m\u001b[0m\n\u001b[0;32m----> 2\u001b[0;31m \u001b[0mmodelNN_emb\u001b[0m\u001b[0;34m.\u001b[0m\u001b[0mfit\u001b[0m\u001b[0;34m(\u001b[0m\u001b[0mpreprocessing\u001b[0m\u001b[0;34m(\u001b[0m\u001b[0mX_train\u001b[0m\u001b[0;34m.\u001b[0m\u001b[0mvalues\u001b[0m\u001b[0;34m)\u001b[0m\u001b[0;34m,\u001b[0m \u001b[0my_train\u001b[0m\u001b[0;34m.\u001b[0m\u001b[0mvalues\u001b[0m\u001b[0;34m.\u001b[0m\u001b[0mreshape\u001b[0m\u001b[0;34m(\u001b[0m\u001b[0;34m-\u001b[0m\u001b[0;36m1\u001b[0m\u001b[0;34m,\u001b[0m\u001b[0;36m1\u001b[0m\u001b[0;34m)\u001b[0m\u001b[0;34m,\u001b[0m \u001b[0mepochs\u001b[0m \u001b[0;34m=\u001b[0m \u001b[0;36m10\u001b[0m\u001b[0;34m,\u001b[0m \u001b[0mbatch_size\u001b[0m \u001b[0;34m=\u001b[0m \u001b[0;36m128\u001b[0m\u001b[0;34m,\u001b[0m \u001b[0mvalidation_data\u001b[0m\u001b[0;34m=\u001b[0m \u001b[0;34m(\u001b[0m\u001b[0mpreprocessing\u001b[0m\u001b[0;34m(\u001b[0m\u001b[0mX_test\u001b[0m\u001b[0;34m.\u001b[0m\u001b[0mvalues\u001b[0m\u001b[0;34m)\u001b[0m\u001b[0;34m,\u001b[0m \u001b[0my_test\u001b[0m\u001b[0;34m.\u001b[0m\u001b[0mvalues\u001b[0m\u001b[0;34m.\u001b[0m\u001b[0mreshape\u001b[0m\u001b[0;34m(\u001b[0m\u001b[0;34m-\u001b[0m\u001b[0;36m1\u001b[0m\u001b[0;34m,\u001b[0m\u001b[0;36m1\u001b[0m\u001b[0;34m)\u001b[0m\u001b[0;34m)\u001b[0m\u001b[0;34m,\u001b[0m \u001b[0mcallbacks\u001b[0m\u001b[0;34m=\u001b[0m\u001b[0;34m[\u001b[0m\u001b[0mmodelNN_emb\u001b[0m\u001b[0;34m.\u001b[0m\u001b[0mcheckpointer\u001b[0m\u001b[0;34m]\u001b[0m\u001b[0;34m)\u001b[0m\u001b[0;34m\u001b[0m\u001b[0;34m\u001b[0m\u001b[0m\n\u001b[0m",
            "\u001b[0;32m/usr/local/lib/python3.7/dist-packages/keras/engine/training.py\u001b[0m in \u001b[0;36mfit\u001b[0;34m(self, x, y, batch_size, epochs, verbose, callbacks, validation_split, validation_data, shuffle, class_weight, sample_weight, initial_epoch, steps_per_epoch, validation_steps, validation_batch_size, validation_freq, max_queue_size, workers, use_multiprocessing)\u001b[0m\n\u001b[1;32m   1156\u001b[0m                 _r=1):\n\u001b[1;32m   1157\u001b[0m               \u001b[0mcallbacks\u001b[0m\u001b[0;34m.\u001b[0m\u001b[0mon_train_batch_begin\u001b[0m\u001b[0;34m(\u001b[0m\u001b[0mstep\u001b[0m\u001b[0;34m)\u001b[0m\u001b[0;34m\u001b[0m\u001b[0;34m\u001b[0m\u001b[0m\n\u001b[0;32m-> 1158\u001b[0;31m               \u001b[0mtmp_logs\u001b[0m \u001b[0;34m=\u001b[0m \u001b[0mself\u001b[0m\u001b[0;34m.\u001b[0m\u001b[0mtrain_function\u001b[0m\u001b[0;34m(\u001b[0m\u001b[0miterator\u001b[0m\u001b[0;34m)\u001b[0m\u001b[0;34m\u001b[0m\u001b[0;34m\u001b[0m\u001b[0m\n\u001b[0m\u001b[1;32m   1159\u001b[0m               \u001b[0;32mif\u001b[0m \u001b[0mdata_handler\u001b[0m\u001b[0;34m.\u001b[0m\u001b[0mshould_sync\u001b[0m\u001b[0;34m:\u001b[0m\u001b[0;34m\u001b[0m\u001b[0;34m\u001b[0m\u001b[0m\n\u001b[1;32m   1160\u001b[0m                 \u001b[0mcontext\u001b[0m\u001b[0;34m.\u001b[0m\u001b[0masync_wait\u001b[0m\u001b[0;34m(\u001b[0m\u001b[0;34m)\u001b[0m\u001b[0;34m\u001b[0m\u001b[0;34m\u001b[0m\u001b[0m\n",
            "\u001b[0;32m/usr/local/lib/python3.7/dist-packages/tensorflow/python/eager/def_function.py\u001b[0m in \u001b[0;36m__call__\u001b[0;34m(self, *args, **kwds)\u001b[0m\n\u001b[1;32m    887\u001b[0m \u001b[0;34m\u001b[0m\u001b[0m\n\u001b[1;32m    888\u001b[0m       \u001b[0;32mwith\u001b[0m \u001b[0mOptionalXlaContext\u001b[0m\u001b[0;34m(\u001b[0m\u001b[0mself\u001b[0m\u001b[0;34m.\u001b[0m\u001b[0m_jit_compile\u001b[0m\u001b[0;34m)\u001b[0m\u001b[0;34m:\u001b[0m\u001b[0;34m\u001b[0m\u001b[0;34m\u001b[0m\u001b[0m\n\u001b[0;32m--> 889\u001b[0;31m         \u001b[0mresult\u001b[0m \u001b[0;34m=\u001b[0m \u001b[0mself\u001b[0m\u001b[0;34m.\u001b[0m\u001b[0m_call\u001b[0m\u001b[0;34m(\u001b[0m\u001b[0;34m*\u001b[0m\u001b[0margs\u001b[0m\u001b[0;34m,\u001b[0m \u001b[0;34m**\u001b[0m\u001b[0mkwds\u001b[0m\u001b[0;34m)\u001b[0m\u001b[0;34m\u001b[0m\u001b[0;34m\u001b[0m\u001b[0m\n\u001b[0m\u001b[1;32m    890\u001b[0m \u001b[0;34m\u001b[0m\u001b[0m\n\u001b[1;32m    891\u001b[0m       \u001b[0mnew_tracing_count\u001b[0m \u001b[0;34m=\u001b[0m \u001b[0mself\u001b[0m\u001b[0;34m.\u001b[0m\u001b[0mexperimental_get_tracing_count\u001b[0m\u001b[0;34m(\u001b[0m\u001b[0;34m)\u001b[0m\u001b[0;34m\u001b[0m\u001b[0;34m\u001b[0m\u001b[0m\n",
            "\u001b[0;32m/usr/local/lib/python3.7/dist-packages/tensorflow/python/eager/def_function.py\u001b[0m in \u001b[0;36m_call\u001b[0;34m(self, *args, **kwds)\u001b[0m\n\u001b[1;32m    931\u001b[0m       \u001b[0;31m# This is the first call of __call__, so we have to initialize.\u001b[0m\u001b[0;34m\u001b[0m\u001b[0;34m\u001b[0m\u001b[0;34m\u001b[0m\u001b[0m\n\u001b[1;32m    932\u001b[0m       \u001b[0minitializers\u001b[0m \u001b[0;34m=\u001b[0m \u001b[0;34m[\u001b[0m\u001b[0;34m]\u001b[0m\u001b[0;34m\u001b[0m\u001b[0;34m\u001b[0m\u001b[0m\n\u001b[0;32m--> 933\u001b[0;31m       \u001b[0mself\u001b[0m\u001b[0;34m.\u001b[0m\u001b[0m_initialize\u001b[0m\u001b[0;34m(\u001b[0m\u001b[0margs\u001b[0m\u001b[0;34m,\u001b[0m \u001b[0mkwds\u001b[0m\u001b[0;34m,\u001b[0m \u001b[0madd_initializers_to\u001b[0m\u001b[0;34m=\u001b[0m\u001b[0minitializers\u001b[0m\u001b[0;34m)\u001b[0m\u001b[0;34m\u001b[0m\u001b[0;34m\u001b[0m\u001b[0m\n\u001b[0m\u001b[1;32m    934\u001b[0m     \u001b[0;32mfinally\u001b[0m\u001b[0;34m:\u001b[0m\u001b[0;34m\u001b[0m\u001b[0;34m\u001b[0m\u001b[0m\n\u001b[1;32m    935\u001b[0m       \u001b[0;31m# At this point we know that the initialization is complete (or less\u001b[0m\u001b[0;34m\u001b[0m\u001b[0;34m\u001b[0m\u001b[0;34m\u001b[0m\u001b[0m\n",
            "\u001b[0;32m/usr/local/lib/python3.7/dist-packages/tensorflow/python/eager/def_function.py\u001b[0m in \u001b[0;36m_initialize\u001b[0;34m(self, args, kwds, add_initializers_to)\u001b[0m\n\u001b[1;32m    762\u001b[0m     self._concrete_stateful_fn = (\n\u001b[1;32m    763\u001b[0m         self._stateful_fn._get_concrete_function_internal_garbage_collected(  # pylint: disable=protected-access\n\u001b[0;32m--> 764\u001b[0;31m             *args, **kwds))\n\u001b[0m\u001b[1;32m    765\u001b[0m \u001b[0;34m\u001b[0m\u001b[0m\n\u001b[1;32m    766\u001b[0m     \u001b[0;32mdef\u001b[0m \u001b[0minvalid_creator_scope\u001b[0m\u001b[0;34m(\u001b[0m\u001b[0;34m*\u001b[0m\u001b[0munused_args\u001b[0m\u001b[0;34m,\u001b[0m \u001b[0;34m**\u001b[0m\u001b[0munused_kwds\u001b[0m\u001b[0;34m)\u001b[0m\u001b[0;34m:\u001b[0m\u001b[0;34m\u001b[0m\u001b[0;34m\u001b[0m\u001b[0m\n",
            "\u001b[0;32m/usr/local/lib/python3.7/dist-packages/tensorflow/python/eager/function.py\u001b[0m in \u001b[0;36m_get_concrete_function_internal_garbage_collected\u001b[0;34m(self, *args, **kwargs)\u001b[0m\n\u001b[1;32m   3048\u001b[0m       \u001b[0margs\u001b[0m\u001b[0;34m,\u001b[0m \u001b[0mkwargs\u001b[0m \u001b[0;34m=\u001b[0m \u001b[0;32mNone\u001b[0m\u001b[0;34m,\u001b[0m \u001b[0;32mNone\u001b[0m\u001b[0;34m\u001b[0m\u001b[0;34m\u001b[0m\u001b[0m\n\u001b[1;32m   3049\u001b[0m     \u001b[0;32mwith\u001b[0m \u001b[0mself\u001b[0m\u001b[0;34m.\u001b[0m\u001b[0m_lock\u001b[0m\u001b[0;34m:\u001b[0m\u001b[0;34m\u001b[0m\u001b[0;34m\u001b[0m\u001b[0m\n\u001b[0;32m-> 3050\u001b[0;31m       \u001b[0mgraph_function\u001b[0m\u001b[0;34m,\u001b[0m \u001b[0m_\u001b[0m \u001b[0;34m=\u001b[0m \u001b[0mself\u001b[0m\u001b[0;34m.\u001b[0m\u001b[0m_maybe_define_function\u001b[0m\u001b[0;34m(\u001b[0m\u001b[0margs\u001b[0m\u001b[0;34m,\u001b[0m \u001b[0mkwargs\u001b[0m\u001b[0;34m)\u001b[0m\u001b[0;34m\u001b[0m\u001b[0;34m\u001b[0m\u001b[0m\n\u001b[0m\u001b[1;32m   3051\u001b[0m     \u001b[0;32mreturn\u001b[0m \u001b[0mgraph_function\u001b[0m\u001b[0;34m\u001b[0m\u001b[0;34m\u001b[0m\u001b[0m\n\u001b[1;32m   3052\u001b[0m \u001b[0;34m\u001b[0m\u001b[0m\n",
            "\u001b[0;32m/usr/local/lib/python3.7/dist-packages/tensorflow/python/eager/function.py\u001b[0m in \u001b[0;36m_maybe_define_function\u001b[0;34m(self, args, kwargs)\u001b[0m\n\u001b[1;32m   3442\u001b[0m \u001b[0;34m\u001b[0m\u001b[0m\n\u001b[1;32m   3443\u001b[0m           \u001b[0mself\u001b[0m\u001b[0;34m.\u001b[0m\u001b[0m_function_cache\u001b[0m\u001b[0;34m.\u001b[0m\u001b[0mmissed\u001b[0m\u001b[0;34m.\u001b[0m\u001b[0madd\u001b[0m\u001b[0;34m(\u001b[0m\u001b[0mcall_context_key\u001b[0m\u001b[0;34m)\u001b[0m\u001b[0;34m\u001b[0m\u001b[0;34m\u001b[0m\u001b[0m\n\u001b[0;32m-> 3444\u001b[0;31m           \u001b[0mgraph_function\u001b[0m \u001b[0;34m=\u001b[0m \u001b[0mself\u001b[0m\u001b[0;34m.\u001b[0m\u001b[0m_create_graph_function\u001b[0m\u001b[0;34m(\u001b[0m\u001b[0margs\u001b[0m\u001b[0;34m,\u001b[0m \u001b[0mkwargs\u001b[0m\u001b[0;34m)\u001b[0m\u001b[0;34m\u001b[0m\u001b[0;34m\u001b[0m\u001b[0m\n\u001b[0m\u001b[1;32m   3445\u001b[0m           \u001b[0mself\u001b[0m\u001b[0;34m.\u001b[0m\u001b[0m_function_cache\u001b[0m\u001b[0;34m.\u001b[0m\u001b[0mprimary\u001b[0m\u001b[0;34m[\u001b[0m\u001b[0mcache_key\u001b[0m\u001b[0;34m]\u001b[0m \u001b[0;34m=\u001b[0m \u001b[0mgraph_function\u001b[0m\u001b[0;34m\u001b[0m\u001b[0;34m\u001b[0m\u001b[0m\n\u001b[1;32m   3446\u001b[0m \u001b[0;34m\u001b[0m\u001b[0m\n",
            "\u001b[0;32m/usr/local/lib/python3.7/dist-packages/tensorflow/python/eager/function.py\u001b[0m in \u001b[0;36m_create_graph_function\u001b[0;34m(self, args, kwargs, override_flat_arg_shapes)\u001b[0m\n\u001b[1;32m   3287\u001b[0m             \u001b[0marg_names\u001b[0m\u001b[0;34m=\u001b[0m\u001b[0marg_names\u001b[0m\u001b[0;34m,\u001b[0m\u001b[0;34m\u001b[0m\u001b[0;34m\u001b[0m\u001b[0m\n\u001b[1;32m   3288\u001b[0m             \u001b[0moverride_flat_arg_shapes\u001b[0m\u001b[0;34m=\u001b[0m\u001b[0moverride_flat_arg_shapes\u001b[0m\u001b[0;34m,\u001b[0m\u001b[0;34m\u001b[0m\u001b[0;34m\u001b[0m\u001b[0m\n\u001b[0;32m-> 3289\u001b[0;31m             capture_by_value=self._capture_by_value),\n\u001b[0m\u001b[1;32m   3290\u001b[0m         \u001b[0mself\u001b[0m\u001b[0;34m.\u001b[0m\u001b[0m_function_attributes\u001b[0m\u001b[0;34m,\u001b[0m\u001b[0;34m\u001b[0m\u001b[0;34m\u001b[0m\u001b[0m\n\u001b[1;32m   3291\u001b[0m         \u001b[0mfunction_spec\u001b[0m\u001b[0;34m=\u001b[0m\u001b[0mself\u001b[0m\u001b[0;34m.\u001b[0m\u001b[0mfunction_spec\u001b[0m\u001b[0;34m,\u001b[0m\u001b[0;34m\u001b[0m\u001b[0;34m\u001b[0m\u001b[0m\n",
            "\u001b[0;32m/usr/local/lib/python3.7/dist-packages/tensorflow/python/framework/func_graph.py\u001b[0m in \u001b[0;36mfunc_graph_from_py_func\u001b[0;34m(name, python_func, args, kwargs, signature, func_graph, autograph, autograph_options, add_control_dependencies, arg_names, op_return_value, collections, capture_by_value, override_flat_arg_shapes)\u001b[0m\n\u001b[1;32m    997\u001b[0m         \u001b[0m_\u001b[0m\u001b[0;34m,\u001b[0m \u001b[0moriginal_func\u001b[0m \u001b[0;34m=\u001b[0m \u001b[0mtf_decorator\u001b[0m\u001b[0;34m.\u001b[0m\u001b[0munwrap\u001b[0m\u001b[0;34m(\u001b[0m\u001b[0mpython_func\u001b[0m\u001b[0;34m)\u001b[0m\u001b[0;34m\u001b[0m\u001b[0;34m\u001b[0m\u001b[0m\n\u001b[1;32m    998\u001b[0m \u001b[0;34m\u001b[0m\u001b[0m\n\u001b[0;32m--> 999\u001b[0;31m       \u001b[0mfunc_outputs\u001b[0m \u001b[0;34m=\u001b[0m \u001b[0mpython_func\u001b[0m\u001b[0;34m(\u001b[0m\u001b[0;34m*\u001b[0m\u001b[0mfunc_args\u001b[0m\u001b[0;34m,\u001b[0m \u001b[0;34m**\u001b[0m\u001b[0mfunc_kwargs\u001b[0m\u001b[0;34m)\u001b[0m\u001b[0;34m\u001b[0m\u001b[0;34m\u001b[0m\u001b[0m\n\u001b[0m\u001b[1;32m   1000\u001b[0m \u001b[0;34m\u001b[0m\u001b[0m\n\u001b[1;32m   1001\u001b[0m       \u001b[0;31m# invariant: `func_outputs` contains only Tensors, CompositeTensors,\u001b[0m\u001b[0;34m\u001b[0m\u001b[0;34m\u001b[0m\u001b[0;34m\u001b[0m\u001b[0m\n",
            "\u001b[0;32m/usr/local/lib/python3.7/dist-packages/tensorflow/python/eager/def_function.py\u001b[0m in \u001b[0;36mwrapped_fn\u001b[0;34m(*args, **kwds)\u001b[0m\n\u001b[1;32m    670\u001b[0m         \u001b[0;31m# the function a weak reference to itself to avoid a reference cycle.\u001b[0m\u001b[0;34m\u001b[0m\u001b[0;34m\u001b[0m\u001b[0;34m\u001b[0m\u001b[0m\n\u001b[1;32m    671\u001b[0m         \u001b[0;32mwith\u001b[0m \u001b[0mOptionalXlaContext\u001b[0m\u001b[0;34m(\u001b[0m\u001b[0mcompile_with_xla\u001b[0m\u001b[0;34m)\u001b[0m\u001b[0;34m:\u001b[0m\u001b[0;34m\u001b[0m\u001b[0;34m\u001b[0m\u001b[0m\n\u001b[0;32m--> 672\u001b[0;31m           \u001b[0mout\u001b[0m \u001b[0;34m=\u001b[0m \u001b[0mweak_wrapped_fn\u001b[0m\u001b[0;34m(\u001b[0m\u001b[0;34m)\u001b[0m\u001b[0;34m.\u001b[0m\u001b[0m__wrapped__\u001b[0m\u001b[0;34m(\u001b[0m\u001b[0;34m*\u001b[0m\u001b[0margs\u001b[0m\u001b[0;34m,\u001b[0m \u001b[0;34m**\u001b[0m\u001b[0mkwds\u001b[0m\u001b[0;34m)\u001b[0m\u001b[0;34m\u001b[0m\u001b[0;34m\u001b[0m\u001b[0m\n\u001b[0m\u001b[1;32m    673\u001b[0m         \u001b[0;32mreturn\u001b[0m \u001b[0mout\u001b[0m\u001b[0;34m\u001b[0m\u001b[0;34m\u001b[0m\u001b[0m\n\u001b[1;32m    674\u001b[0m \u001b[0;34m\u001b[0m\u001b[0m\n",
            "\u001b[0;32m/usr/local/lib/python3.7/dist-packages/tensorflow/python/framework/func_graph.py\u001b[0m in \u001b[0;36mwrapper\u001b[0;34m(*args, **kwargs)\u001b[0m\n\u001b[1;32m    984\u001b[0m           \u001b[0;32mexcept\u001b[0m \u001b[0mException\u001b[0m \u001b[0;32mas\u001b[0m \u001b[0me\u001b[0m\u001b[0;34m:\u001b[0m  \u001b[0;31m# pylint:disable=broad-except\u001b[0m\u001b[0;34m\u001b[0m\u001b[0;34m\u001b[0m\u001b[0m\n\u001b[1;32m    985\u001b[0m             \u001b[0;32mif\u001b[0m \u001b[0mhasattr\u001b[0m\u001b[0;34m(\u001b[0m\u001b[0me\u001b[0m\u001b[0;34m,\u001b[0m \u001b[0;34m\"ag_error_metadata\"\u001b[0m\u001b[0;34m)\u001b[0m\u001b[0;34m:\u001b[0m\u001b[0;34m\u001b[0m\u001b[0;34m\u001b[0m\u001b[0m\n\u001b[0;32m--> 986\u001b[0;31m               \u001b[0;32mraise\u001b[0m \u001b[0me\u001b[0m\u001b[0;34m.\u001b[0m\u001b[0mag_error_metadata\u001b[0m\u001b[0;34m.\u001b[0m\u001b[0mto_exception\u001b[0m\u001b[0;34m(\u001b[0m\u001b[0me\u001b[0m\u001b[0;34m)\u001b[0m\u001b[0;34m\u001b[0m\u001b[0;34m\u001b[0m\u001b[0m\n\u001b[0m\u001b[1;32m    987\u001b[0m             \u001b[0;32melse\u001b[0m\u001b[0;34m:\u001b[0m\u001b[0;34m\u001b[0m\u001b[0;34m\u001b[0m\u001b[0m\n\u001b[1;32m    988\u001b[0m               \u001b[0;32mraise\u001b[0m\u001b[0;34m\u001b[0m\u001b[0;34m\u001b[0m\u001b[0m\n",
            "\u001b[0;31mValueError\u001b[0m: in user code:\n\n    /usr/local/lib/python3.7/dist-packages/keras/engine/training.py:830 train_function  *\n        return step_function(self, iterator)\n    /usr/local/lib/python3.7/dist-packages/keras/engine/training.py:813 run_step  *\n        outputs = model.train_step(data)\n    /usr/local/lib/python3.7/dist-packages/keras/engine/training.py:770 train_step  *\n        y_pred = self(x, training=True)\n    /usr/local/lib/python3.7/dist-packages/keras/engine/base_layer.py:989 __call__  *\n        input_spec.assert_input_compatibility(self.input_spec, inputs, self.name)\n    /usr/local/lib/python3.7/dist-packages/keras/engine/input_spec.py:197 assert_input_compatibility  *\n        raise ValueError('Layer ' + layer_name + ' expects ' +\n\n    ValueError: Layer model_1 expects 6 input(s), but it received 2 input tensors. Inputs received: [<tf.Tensor 'IteratorGetNext:0' shape=(None, 1) dtype=float32>, <tf.Tensor 'IteratorGetNext:1' shape=(None, 1) dtype=float32>]\n"
          ]
        }
      ]
    },
    {
      "cell_type": "markdown",
      "metadata": {
        "id": "4iNlRKsOPmpF"
      },
      "source": [
        "### Conclusion\n",
        "\n",
        "Why we were not able to create entity embedding was becasue of the few mistakes that we did.\n",
        "- We passed in the dataframe to keras which was not processed, we had to ordinal encode it.\n",
        "- we combined two methods, we could create embeddings using keras or using fastai. I was trying to do both. "
      ]
    },
    {
      "cell_type": "code",
      "metadata": {
        "id": "0YOP9nG3WNeE"
      },
      "source": [
        ""
      ],
      "execution_count": null,
      "outputs": []
    }
  ]
}