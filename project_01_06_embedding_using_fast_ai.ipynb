{
  "nbformat": 4,
  "nbformat_minor": 0,
  "metadata": {
    "colab": {
      "name": "project_01.06_embedding_using_fast_ai.ipynb",
      "provenance": [],
      "collapsed_sections": [
        "9I1vjMlkb3k_"
      ],
      "mount_file_id": "1_TTCchFei8L9SEpO2gY3FYZohbk17ygp",
      "authorship_tag": "ABX9TyNe4Bd5XbbgHky0vRXnfNoB",
      "include_colab_link": true
    },
    "kernelspec": {
      "name": "python3",
      "display_name": "Python 3"
    },
    "language_info": {
      "name": "python"
    }
  },
  "cells": [
    {
      "cell_type": "markdown",
      "metadata": {
        "id": "view-in-github",
        "colab_type": "text"
      },
      "source": [
        "<a href=\"https://colab.research.google.com/github/akshaypt7/amazon_sales_prediction/blob/main/project_01_06_embedding_using_fast_ai.ipynb\" target=\"_parent\"><img src=\"https://colab.research.google.com/assets/colab-badge.svg\" alt=\"Open In Colab\"/></a>"
      ]
    },
    {
      "cell_type": "code",
      "metadata": {
        "id": "AOf7-glAqKQD",
        "colab": {
          "base_uri": "https://localhost:8080/"
        },
        "outputId": "efa18274-6dd6-4b03-a99d-6a8cff64660e"
      },
      "source": [
        "!pip install -Uqq fastbook\n",
        "import fastbook\n",
        "fastbook.setup_book()"
      ],
      "execution_count": 1,
      "outputs": [
        {
          "output_type": "stream",
          "text": [
            "\u001b[K     |████████████████████████████████| 720 kB 14.1 MB/s \n",
            "\u001b[K     |████████████████████████████████| 46 kB 4.3 MB/s \n",
            "\u001b[K     |████████████████████████████████| 1.2 MB 27.3 MB/s \n",
            "\u001b[K     |████████████████████████████████| 188 kB 59.2 MB/s \n",
            "\u001b[K     |████████████████████████████████| 56 kB 3.6 MB/s \n",
            "\u001b[K     |████████████████████████████████| 51 kB 280 kB/s \n",
            "\u001b[?25hMounted at /content/gdrive\n"
          ],
          "name": "stdout"
        }
      ]
    },
    {
      "cell_type": "code",
      "metadata": {
        "id": "CMc_wTu9apCs"
      },
      "source": [
        "#hide\n",
        "from fastbook import *\n",
        "# from kaggle import api\n",
        "from pandas.api.types import is_string_dtype, is_numeric_dtype, is_categorical_dtype\n",
        "from fastai.tabular.all import *\n",
        "from sklearn.ensemble import RandomForestRegressor, RandomForestClassifier\n",
        "from sklearn.tree import DecisionTreeRegressor\n",
        "# from dtreeviz.trees import *\n",
        "from IPython.display import Image, display_svg, SVG\n",
        "\n",
        "pd.options.display.max_rows = 20\n",
        "pd.options.display.max_columns = 8\n",
        "from sklearn.metrics import mean_absolute_error as MAE\n",
        "from sklearn.metrics import mean_squared_error as MSE"
      ],
      "execution_count": 2,
      "outputs": []
    },
    {
      "cell_type": "code",
      "metadata": {
        "id": "q26gA0_jd4-C"
      },
      "source": [
        "from sklearn.model_selection import ParameterGrid\n",
        "from keras.models import Sequential\n",
        "from keras.models import Model as KerasModel\n",
        "from keras.layers import Input, Dense, Activation, Reshape\n",
        "from keras.layers import Concatenate\n",
        "from keras.layers import Dense, Flatten, Dropout, Input, Embedding, Reshape\n",
        "from keras.layers import concatenate\n",
        "from sklearn.ensemble import RandomForestRegressor\n",
        "from sklearn import linear_model\n",
        "import pickle\n",
        "import csv\n",
        "from datetime import datetime\n",
        "from sklearn import preprocessing\n",
        "from keras.callbacks import ModelCheckpoint\n",
        "import xgboost as xgb\n",
        "from sklearn.preprocessing import OneHotEncoder\n",
        "%matplotlib inline\n",
        "\n",
        "from sklearn.model_selection import train_test_split\n",
        "import math\n",
        "import pandas as pd"
      ],
      "execution_count": 3,
      "outputs": []
    },
    {
      "cell_type": "code",
      "metadata": {
        "id": "NFLW182ZPN2n"
      },
      "source": [
        "\n",
        "#hide\n",
        "!pip install -Uqq fastbook\n",
        "import fastbook\n",
        "fastbook.setup_book()"
      ],
      "execution_count": 4,
      "outputs": []
    },
    {
      "cell_type": "code",
      "metadata": {
        "id": "v9IAgVuTPN2u"
      },
      "source": [
        "#hide\n",
        "from fastbook import *"
      ],
      "execution_count": 5,
      "outputs": []
    },
    {
      "cell_type": "code",
      "metadata": {
        "id": "4JQTi9fHKrMs"
      },
      "source": [
        "infile = open('/content/gdrive/MyDrive/bluebook/df_main.pkl','rb')\n",
        "df_main = pickle.load(infile)"
      ],
      "execution_count": 6,
      "outputs": []
    },
    {
      "cell_type": "code",
      "metadata": {
        "colab": {
          "base_uri": "https://localhost:8080/",
          "height": 206
        },
        "id": "nepdmJpIZGxL",
        "outputId": "5a56c5e6-6084-4781-81b9-2a23e85feae6"
      },
      "source": [
        "df_main.head()"
      ],
      "execution_count": 7,
      "outputs": [
        {
          "output_type": "execute_result",
          "data": {
            "text/html": [
              "<div>\n",
              "<style scoped>\n",
              "    .dataframe tbody tr th:only-of-type {\n",
              "        vertical-align: middle;\n",
              "    }\n",
              "\n",
              "    .dataframe tbody tr th {\n",
              "        vertical-align: top;\n",
              "    }\n",
              "\n",
              "    .dataframe thead th {\n",
              "        text-align: right;\n",
              "    }\n",
              "</style>\n",
              "<table border=\"1\" class=\"dataframe\">\n",
              "  <thead>\n",
              "    <tr style=\"text-align: right;\">\n",
              "      <th></th>\n",
              "      <th>date</th>\n",
              "      <th>Asin</th>\n",
              "      <th>Item Promo Discount</th>\n",
              "      <th>price</th>\n",
              "      <th>hour</th>\n",
              "      <th>Quantity</th>\n",
              "      <th>Invoice Amount</th>\n",
              "    </tr>\n",
              "  </thead>\n",
              "  <tbody>\n",
              "    <tr>\n",
              "      <th>0</th>\n",
              "      <td>2021-01-04</td>\n",
              "      <td>B07KYFHTGF</td>\n",
              "      <td>0.00</td>\n",
              "      <td>1995.00</td>\n",
              "      <td>12.0</td>\n",
              "      <td>1.0</td>\n",
              "      <td>1995.00</td>\n",
              "    </tr>\n",
              "    <tr>\n",
              "      <th>1</th>\n",
              "      <td>2021-01-08</td>\n",
              "      <td>B07TM3LRVB</td>\n",
              "      <td>-56.75</td>\n",
              "      <td>1078.25</td>\n",
              "      <td>20.0</td>\n",
              "      <td>1.0</td>\n",
              "      <td>1078.25</td>\n",
              "    </tr>\n",
              "    <tr>\n",
              "      <th>2</th>\n",
              "      <td>2021-01-09</td>\n",
              "      <td>B08976V1BZ</td>\n",
              "      <td>-79.95</td>\n",
              "      <td>1519.05</td>\n",
              "      <td>22.0</td>\n",
              "      <td>1.0</td>\n",
              "      <td>1519.05</td>\n",
              "    </tr>\n",
              "    <tr>\n",
              "      <th>3</th>\n",
              "      <td>2021-01-11</td>\n",
              "      <td>B07TM3LRVB</td>\n",
              "      <td>0.00</td>\n",
              "      <td>1135.00</td>\n",
              "      <td>10.0</td>\n",
              "      <td>1.0</td>\n",
              "      <td>1135.00</td>\n",
              "    </tr>\n",
              "    <tr>\n",
              "      <th>4</th>\n",
              "      <td>2021-01-12</td>\n",
              "      <td>B08332221J</td>\n",
              "      <td>0.00</td>\n",
              "      <td>1499.00</td>\n",
              "      <td>12.0</td>\n",
              "      <td>1.0</td>\n",
              "      <td>1499.00</td>\n",
              "    </tr>\n",
              "  </tbody>\n",
              "</table>\n",
              "</div>"
            ],
            "text/plain": [
              "        date        Asin  Item Promo Discount    price  hour  Quantity  \\\n",
              "0 2021-01-04  B07KYFHTGF                 0.00  1995.00  12.0       1.0   \n",
              "1 2021-01-08  B07TM3LRVB               -56.75  1078.25  20.0       1.0   \n",
              "2 2021-01-09  B08976V1BZ               -79.95  1519.05  22.0       1.0   \n",
              "3 2021-01-11  B07TM3LRVB                 0.00  1135.00  10.0       1.0   \n",
              "4 2021-01-12  B08332221J                 0.00  1499.00  12.0       1.0   \n",
              "\n",
              "   Invoice Amount  \n",
              "0         1995.00  \n",
              "1         1078.25  \n",
              "2         1519.05  \n",
              "3         1135.00  \n",
              "4         1499.00  "
            ]
          },
          "metadata": {
            "tags": []
          },
          "execution_count": 7
        }
      ]
    },
    {
      "cell_type": "code",
      "metadata": {
        "id": "kCbmmWMgZR4-"
      },
      "source": [
        "df_main = add_datepart(df_main,'date')"
      ],
      "execution_count": 8,
      "outputs": []
    },
    {
      "cell_type": "code",
      "metadata": {
        "id": "LEjWYAcAa6Mi"
      },
      "source": [
        "procs = [Categorify, FillMissing, Normalize]"
      ],
      "execution_count": 9,
      "outputs": []
    },
    {
      "cell_type": "markdown",
      "metadata": {
        "id": "aVPTsw2VdcO1"
      },
      "source": [
        "We are changing the category variables and continous variables, because we think when we apply entity embedding, we get more value from these variables. (so we don't add quanity in both cat and cont)"
      ]
    },
    {
      "cell_type": "code",
      "metadata": {
        "id": "TP01FE31bzyd"
      },
      "source": [
        "cat = ['Asin',\n",
        " 'hour',\n",
        " 'Dayofweek',\n",
        " 'Month',\n",
        " 'Day',\n",
        " 'Week',\n",
        " 'Year',\n",
        " 'Is_month_end',\n",
        " 'Is_month_start',\n",
        " 'Is_quarter_end',\n",
        " 'Is_quarter_start',\n",
        " 'Is_year_end',\n",
        " 'Is_year_start']"
      ],
      "execution_count": 10,
      "outputs": []
    },
    {
      "cell_type": "code",
      "metadata": {
        "id": "bpquDB9Jciv7"
      },
      "source": [
        "cont = ['Item Promo Discount',\n",
        " 'price',\n",
        " 'Invoice Amount',\n",
        " 'Dayofyear',\n",
        " 'Elapsed']"
      ],
      "execution_count": 11,
      "outputs": []
    },
    {
      "cell_type": "code",
      "metadata": {
        "id": "rWE4_N7OBgLV"
      },
      "source": [
        "# SPLITS \n",
        "condition = (df_main.Year < 2020) | (df_main.Month < 8)\n",
        "train_idx = np.where(condition)[0]\n",
        "valid_idx = np.where(~condition)[0]"
      ],
      "execution_count": 12,
      "outputs": []
    },
    {
      "cell_type": "code",
      "metadata": {
        "id": "TKSM7u9yGf1g"
      },
      "source": [
        "splits = (list(train_idx),list(valid_idx))"
      ],
      "execution_count": 13,
      "outputs": []
    },
    {
      "cell_type": "code",
      "metadata": {
        "id": "1JBMbxbudOsG"
      },
      "source": [
        "dep_var = 'Quantity'"
      ],
      "execution_count": 14,
      "outputs": []
    },
    {
      "cell_type": "code",
      "metadata": {
        "id": "Q4XlfcCGdyAD"
      },
      "source": [
        "to_emb = TabularPandas(df_main,procs= procs, cat_names=cat, cont_names = cont, y_names=dep_var, splits = splits)"
      ],
      "execution_count": 15,
      "outputs": []
    },
    {
      "cell_type": "code",
      "metadata": {
        "colab": {
          "base_uri": "https://localhost:8080/",
          "height": 141
        },
        "id": "9cp9nFLpR1nj",
        "outputId": "634b9258-e0e6-434e-df54-be2acca14435"
      },
      "source": [
        "to_emb.items.head(2)"
      ],
      "execution_count": null,
      "outputs": [
        {
          "output_type": "execute_result",
          "data": {
            "text/html": [
              "<div>\n",
              "<style scoped>\n",
              "    .dataframe tbody tr th:only-of-type {\n",
              "        vertical-align: middle;\n",
              "    }\n",
              "\n",
              "    .dataframe tbody tr th {\n",
              "        vertical-align: top;\n",
              "    }\n",
              "\n",
              "    .dataframe thead th {\n",
              "        text-align: right;\n",
              "    }\n",
              "</style>\n",
              "<table border=\"1\" class=\"dataframe\">\n",
              "  <thead>\n",
              "    <tr style=\"text-align: right;\">\n",
              "      <th></th>\n",
              "      <th>Asin</th>\n",
              "      <th>Item Promo Discount</th>\n",
              "      <th>price</th>\n",
              "      <th>hour</th>\n",
              "      <th>...</th>\n",
              "      <th>Is_quarter_start</th>\n",
              "      <th>Is_year_end</th>\n",
              "      <th>Is_year_start</th>\n",
              "      <th>Elapsed</th>\n",
              "    </tr>\n",
              "  </thead>\n",
              "  <tbody>\n",
              "    <tr>\n",
              "      <th>0</th>\n",
              "      <td>2</td>\n",
              "      <td>0.393801</td>\n",
              "      <td>1.289015</td>\n",
              "      <td>13</td>\n",
              "      <td>...</td>\n",
              "      <td>1</td>\n",
              "      <td>1</td>\n",
              "      <td>1</td>\n",
              "      <td>0.704794</td>\n",
              "    </tr>\n",
              "    <tr>\n",
              "      <th>1</th>\n",
              "      <td>8</td>\n",
              "      <td>-1.607343</td>\n",
              "      <td>-0.424478</td>\n",
              "      <td>21</td>\n",
              "      <td>...</td>\n",
              "      <td>1</td>\n",
              "      <td>1</td>\n",
              "      <td>1</td>\n",
              "      <td>0.724514</td>\n",
              "    </tr>\n",
              "  </tbody>\n",
              "</table>\n",
              "<p>2 rows × 19 columns</p>\n",
              "</div>"
            ],
            "text/plain": [
              "   Asin  Item Promo Discount     price  hour  ...  Is_quarter_start  \\\n",
              "0     2             0.393801  1.289015    13  ...                 1   \n",
              "1     8            -1.607343 -0.424478    21  ...                 1   \n",
              "\n",
              "   Is_year_end  Is_year_start   Elapsed  \n",
              "0            1              1  0.704794  \n",
              "1            1              1  0.724514  \n",
              "\n",
              "[2 rows x 19 columns]"
            ]
          },
          "metadata": {
            "tags": []
          },
          "execution_count": 40
        }
      ]
    },
    {
      "cell_type": "code",
      "metadata": {
        "id": "96w8czmPeOxA"
      },
      "source": [
        "x_train = to_emb.train.xs\n",
        "y_train = to_emb.train.ys\n",
        "\n",
        "x_valid = to_emb.valid.xs\n",
        "y_valid = to_emb.valid.ys"
      ],
      "execution_count": 16,
      "outputs": []
    },
    {
      "cell_type": "code",
      "metadata": {
        "colab": {
          "base_uri": "https://localhost:8080/"
        },
        "id": "TudNIHlFjOL9",
        "outputId": "326e18ac-1c53-4ff0-892b-dd7a9473c460"
      },
      "source": [
        "upper_limit =max(df_main[dep_var].values)\n",
        "lower_limit =min(df_main[dep_var].values)\n",
        "upper_limit, lower_limit\n"
      ],
      "execution_count": 17,
      "outputs": [
        {
          "output_type": "execute_result",
          "data": {
            "text/plain": [
              "(39.0, 1.0)"
            ]
          },
          "metadata": {
            "tags": []
          },
          "execution_count": 17
        }
      ]
    },
    {
      "cell_type": "code",
      "metadata": {
        "id": "GkrAlhzJiEpW"
      },
      "source": [
        "dls_emb = to_emb.dataloaders(bs=256)"
      ],
      "execution_count": 18,
      "outputs": []
    },
    {
      "cell_type": "code",
      "metadata": {
        "id": "i7-pI52AjIZS"
      },
      "source": [
        "learner_emb = tabular_learner(dls_emb,y_range= (1,39), layers= [250,100],n_out =1,loss_func= F.mse_loss, metrics=nn.L1Loss())"
      ],
      "execution_count": 19,
      "outputs": []
    },
    {
      "cell_type": "code",
      "metadata": {
        "colab": {
          "base_uri": "https://localhost:8080/",
          "height": 300
        },
        "id": "SXweRZTVkT6R",
        "outputId": "ce9a1fd3-d0e1-4663-bb91-a784214cd68f"
      },
      "source": [
        "learner_emb.lr_find()"
      ],
      "execution_count": null,
      "outputs": [
        {
          "output_type": "display_data",
          "data": {
            "text/html": [
              ""
            ],
            "text/plain": [
              "<IPython.core.display.HTML object>"
            ]
          },
          "metadata": {
            "tags": []
          }
        },
        {
          "output_type": "execute_result",
          "data": {
            "text/plain": [
              "SuggestedLRs(valley=0.001737800776027143)"
            ]
          },
          "metadata": {
            "tags": []
          },
          "execution_count": 21
        },
        {
          "output_type": "display_data",
          "data": {
            "image/png": "[encoded data removed]",
            "text/plain": [
              "<Figure size 432x288 with 1 Axes>"
            ]
          },
          "metadata": {
            "tags": [],
            "needs_background": "light"
          }
        }
      ]
    },
    {
      "cell_type": "code",
      "metadata": {
        "colab": {
          "base_uri": "https://localhost:8080/",
          "height": 269
        },
        "id": "oGMzrpInlEu0",
        "outputId": "1ab5e33d-1af4-4bbb-9c01-a821c075ea21"
      },
      "source": [
        "learner_emb.fit(7,lr=1e-2)"
      ],
      "execution_count": 20,
      "outputs": [
        {
          "output_type": "display_data",
          "data": {
            "text/html": [
              "<table border=\"1\" class=\"dataframe\">\n",
              "  <thead>\n",
              "    <tr style=\"text-align: left;\">\n",
              "      <th>epoch</th>\n",
              "      <th>train_loss</th>\n",
              "      <th>valid_loss</th>\n",
              "      <th>None</th>\n",
              "      <th>time</th>\n",
              "    </tr>\n",
              "  </thead>\n",
              "  <tbody>\n",
              "    <tr>\n",
              "      <td>0</td>\n",
              "      <td>134.234924</td>\n",
              "      <td>11.277353</td>\n",
              "      <td>0.997926</td>\n",
              "      <td>00:00</td>\n",
              "    </tr>\n",
              "    <tr>\n",
              "      <td>1</td>\n",
              "      <td>59.618591</td>\n",
              "      <td>4.480414</td>\n",
              "      <td>0.901078</td>\n",
              "      <td>00:00</td>\n",
              "    </tr>\n",
              "    <tr>\n",
              "      <td>2</td>\n",
              "      <td>33.574810</td>\n",
              "      <td>10.256067</td>\n",
              "      <td>0.753429</td>\n",
              "      <td>00:00</td>\n",
              "    </tr>\n",
              "    <tr>\n",
              "      <td>3</td>\n",
              "      <td>19.825918</td>\n",
              "      <td>2.024719</td>\n",
              "      <td>0.972567</td>\n",
              "      <td>00:00</td>\n",
              "    </tr>\n",
              "    <tr>\n",
              "      <td>4</td>\n",
              "      <td>10.872602</td>\n",
              "      <td>0.430109</td>\n",
              "      <td>0.481111</td>\n",
              "      <td>00:00</td>\n",
              "    </tr>\n",
              "    <tr>\n",
              "      <td>5</td>\n",
              "      <td>6.133352</td>\n",
              "      <td>0.283235</td>\n",
              "      <td>0.299530</td>\n",
              "      <td>00:00</td>\n",
              "    </tr>\n",
              "    <tr>\n",
              "      <td>6</td>\n",
              "      <td>3.577172</td>\n",
              "      <td>0.269458</td>\n",
              "      <td>0.272369</td>\n",
              "      <td>00:00</td>\n",
              "    </tr>\n",
              "  </tbody>\n",
              "</table>"
            ],
            "text/plain": [
              "<IPython.core.display.HTML object>"
            ]
          },
          "metadata": {
            "tags": []
          }
        }
      ]
    },
    {
      "cell_type": "markdown",
      "metadata": {
        "id": "Yzf4bjDRldHl"
      },
      "source": [
        "Training with weight decay and without have a huge impact in the loss"
      ]
    },
    {
      "cell_type": "code",
      "metadata": {
        "colab": {
          "base_uri": "https://localhost:8080/",
          "height": 269
        },
        "id": "_PqSpYMKky0O",
        "outputId": "0bb4fba7-23c3-4c3a-b42e-ac861cc02555"
      },
      "source": [
        "learner_emb.fit(7,lr=1e-2,wd=0.01)"
      ],
      "execution_count": null,
      "outputs": [
        {
          "output_type": "display_data",
          "data": {
            "text/html": [
              "<table border=\"1\" class=\"dataframe\">\n",
              "  <thead>\n",
              "    <tr style=\"text-align: left;\">\n",
              "      <th>epoch</th>\n",
              "      <th>train_loss</th>\n",
              "      <th>valid_loss</th>\n",
              "      <th>None</th>\n",
              "      <th>time</th>\n",
              "    </tr>\n",
              "  </thead>\n",
              "  <tbody>\n",
              "    <tr>\n",
              "      <td>0</td>\n",
              "      <td>121.911285</td>\n",
              "      <td>2.662129</td>\n",
              "      <td>0.821382</td>\n",
              "      <td>00:00</td>\n",
              "    </tr>\n",
              "    <tr>\n",
              "      <td>1</td>\n",
              "      <td>57.037003</td>\n",
              "      <td>21.404379</td>\n",
              "      <td>1.088229</td>\n",
              "      <td>00:00</td>\n",
              "    </tr>\n",
              "    <tr>\n",
              "      <td>2</td>\n",
              "      <td>35.338722</td>\n",
              "      <td>0.399664</td>\n",
              "      <td>0.430365</td>\n",
              "      <td>00:00</td>\n",
              "    </tr>\n",
              "    <tr>\n",
              "      <td>3</td>\n",
              "      <td>20.743139</td>\n",
              "      <td>0.348871</td>\n",
              "      <td>0.454211</td>\n",
              "      <td>00:00</td>\n",
              "    </tr>\n",
              "    <tr>\n",
              "      <td>4</td>\n",
              "      <td>13.084545</td>\n",
              "      <td>0.238974</td>\n",
              "      <td>0.310623</td>\n",
              "      <td>00:00</td>\n",
              "    </tr>\n",
              "    <tr>\n",
              "      <td>5</td>\n",
              "      <td>7.328192</td>\n",
              "      <td>0.289073</td>\n",
              "      <td>0.397446</td>\n",
              "      <td>00:00</td>\n",
              "    </tr>\n",
              "    <tr>\n",
              "      <td>6</td>\n",
              "      <td>4.189364</td>\n",
              "      <td>0.606473</td>\n",
              "      <td>0.308012</td>\n",
              "      <td>00:00</td>\n",
              "    </tr>\n",
              "  </tbody>\n",
              "</table>"
            ],
            "text/plain": [
              "<IPython.core.display.HTML object>"
            ]
          },
          "metadata": {
            "tags": []
          }
        }
      ]
    },
    {
      "cell_type": "code",
      "metadata": {
        "colab": {
          "base_uri": "https://localhost:8080/",
          "height": 17
        },
        "id": "fSUvqfnUlo5X",
        "outputId": "b75747e1-d155-4433-ffc8-33cdda67b8ea"
      },
      "source": [
        "preds, targs = learner_emb.get_preds()"
      ],
      "execution_count": 21,
      "outputs": [
        {
          "output_type": "display_data",
          "data": {
            "text/html": [
              ""
            ],
            "text/plain": [
              "<IPython.core.display.HTML object>"
            ]
          },
          "metadata": {
            "tags": []
          }
        }
      ]
    },
    {
      "cell_type": "code",
      "metadata": {
        "colab": {
          "base_uri": "https://localhost:8080/"
        },
        "id": "vccQqLSEmq0D",
        "outputId": "4dfe02d8-fef1-4ac9-9f54-9958668155e7"
      },
      "source": [
        "MAE(targs,preds)"
      ],
      "execution_count": 22,
      "outputs": [
        {
          "output_type": "execute_result",
          "data": {
            "text/plain": [
              "0.27236873"
            ]
          },
          "metadata": {
            "tags": []
          },
          "execution_count": 22
        }
      ]
    },
    {
      "cell_type": "markdown",
      "metadata": {
        "id": "Lf40Jxm1SVa5"
      },
      "source": [
        "**MAE is 0.27**"
      ]
    },
    {
      "cell_type": "markdown",
      "metadata": {
        "id": "wOIk_9zPrCTv"
      },
      "source": [
        "### Now we need to get the embeddings from the learner"
      ]
    },
    {
      "cell_type": "code",
      "metadata": {
        "id": "N0_QdV3NtxAV"
      },
      "source": [
        "import torch\n",
        "\n",
        "\n",
        "# Just right before the actual usage\n",
        "device = torch.device('cuda' if torch.cuda.is_available() else 'cpu')\n"
      ],
      "execution_count": 23,
      "outputs": []
    },
    {
      "cell_type": "markdown",
      "metadata": {
        "id": "2ruyoqzCVHcg"
      },
      "source": [
        "#### Creating Dataframe which will have all the embeddings"
      ]
    },
    {
      "cell_type": "code",
      "metadata": {
        "id": "HCOGlPTeVld6"
      },
      "source": [
        "embedding_cols = ['Asin','hour','Dayofweek','Month','Day','Week','Year']"
      ],
      "execution_count": 24,
      "outputs": []
    },
    {
      "cell_type": "markdown",
      "metadata": {
        "id": "L3G2J5p8wga9"
      },
      "source": [
        "Instead of just the above columns, we decide to get embedding for all categories"
      ]
    },
    {
      "cell_type": "code",
      "metadata": {
        "id": "PHtTxveLVDkI"
      },
      "source": [
        "new_df = pd.DataFrame()\n",
        "\n",
        "for i,col in enumerate(cat):\n",
        "  embedding = learner_emb.model.embeds[i]\n",
        "\n",
        "  to_emb.items[col] = torch.tensor(to_emb.items[col].values).to(device).long()\n",
        "\n",
        "  new_column = embedding(tensor(to_emb.items[col]))\n",
        "  new_column = new_column.detach().numpy()\n",
        "\n",
        "\n",
        "  \n",
        "\n",
        "  for e_dim in range(embedding.embedding_dim):\n",
        "    new_df[col+f'_{e_dim}'] = new_column[:,e_dim]"
      ],
      "execution_count": 26,
      "outputs": []
    },
    {
      "cell_type": "code",
      "metadata": {
        "colab": {
          "base_uri": "https://localhost:8080/"
        },
        "id": "QKKeSgdrWkW2",
        "outputId": "57d8cf50-f7a3-44d2-f576-7b170d1c7325"
      },
      "source": [
        "new_df.shape # there are total 63 embeddings"
      ],
      "execution_count": 27,
      "outputs": [
        {
          "output_type": "execute_result",
          "data": {
            "text/plain": [
              "(10946, 81)"
            ]
          },
          "metadata": {
            "tags": []
          },
          "execution_count": 27
        }
      ]
    },
    {
      "cell_type": "markdown",
      "metadata": {
        "id": "x0WqJpWXZ9It"
      },
      "source": [
        "##### Merging the dataframes"
      ]
    },
    {
      "cell_type": "code",
      "metadata": {
        "id": "p_6XW50wawEL"
      },
      "source": [
        "df = df_main.copy()\n",
        "for col in new_df.columns:\n",
        "  df[col] = new_df[col]\n",
        "\n",
        "for old_columns in cat:\n",
        "  df.drop(old_columns,axis=1,inplace=True)"
      ],
      "execution_count": 28,
      "outputs": []
    },
    {
      "cell_type": "markdown",
      "metadata": {
        "id": "R0yzFVzM4vrD"
      },
      "source": [
        "##### Save the Dataframe with embeddings\n",
        "\n"
      ]
    },
    {
      "cell_type": "code",
      "metadata": {
        "id": "IwniDkAq40ZI"
      },
      "source": [
        "# save_pickle('/content/gdrive/MyDrive/bluebook/df_with_embeddings.pkl',df)"
      ],
      "execution_count": null,
      "outputs": []
    },
    {
      "cell_type": "code",
      "metadata": {
        "id": "ZVyZNMdg7QAc"
      },
      "source": [
        "import pickle"
      ],
      "execution_count": 29,
      "outputs": []
    },
    {
      "cell_type": "code",
      "metadata": {
        "id": "Bdfdpjzz85Mq"
      },
      "source": [
        "def open_test_data():\n",
        "    return open('/content/drive/MyDrive/bluebook/df_with_embeddings.pkl', 'rb')\n",
        "\n",
        "with open_test_data() as f:\n",
        "    df = pickle.load(f) "
      ],
      "execution_count": null,
      "outputs": []
    },
    {
      "cell_type": "code",
      "metadata": {
        "id": "O6L-zvCq5EYr"
      },
      "source": [
        "# df= load_pickle('/content/gdrive/MyDrive/bluebook/df_with_embeddings.pkl')"
      ],
      "execution_count": null,
      "outputs": []
    },
    {
      "cell_type": "markdown",
      "metadata": {
        "id": "9I1vjMlkb3k_"
      },
      "source": [
        "### Working with Embedding on Neural Network & Random Forest"
      ]
    },
    {
      "cell_type": "code",
      "metadata": {
        "id": "WnY_PCGSl5Fl"
      },
      "source": [
        "cont_nn,cat_nn = cont_cat_split(df, dep_var=dep_var)"
      ],
      "execution_count": 31,
      "outputs": []
    },
    {
      "cell_type": "code",
      "metadata": {
        "id": "VHnjCABcmQ3O"
      },
      "source": [
        "procs_nn = [Categorify, FillMissing, Normalize]\n",
        "to_nn = TabularPandas(df, procs_nn, cat_nn, cont_nn,\n",
        "                      splits=splits, y_names=dep_var)"
      ],
      "execution_count": 32,
      "outputs": []
    },
    {
      "cell_type": "code",
      "metadata": {
        "id": "eWmPzLWmcViq"
      },
      "source": [
        "dls = to_nn.dataloaders(bs=256)"
      ],
      "execution_count": 33,
      "outputs": []
    },
    {
      "cell_type": "code",
      "metadata": {
        "id": "OKTXiI7gcVis"
      },
      "source": [
        "learner = tabular_learner(dls,y_range= (1,39), layers= [250,100],n_out =1,loss_func= F.mse_loss, metrics=nn.L1Loss())"
      ],
      "execution_count": 36,
      "outputs": []
    },
    {
      "cell_type": "code",
      "metadata": {
        "colab": {
          "base_uri": "https://localhost:8080/",
          "height": 300
        },
        "id": "xrh4c2xEcVit",
        "outputId": "771a2c8d-5fba-4f8c-8448-b67a1afab2ba"
      },
      "source": [
        "learner.lr_find()"
      ],
      "execution_count": null,
      "outputs": [
        {
          "output_type": "display_data",
          "data": {
            "text/html": [
              ""
            ],
            "text/plain": [
              "<IPython.core.display.HTML object>"
            ]
          },
          "metadata": {
            "tags": []
          }
        },
        {
          "output_type": "execute_result",
          "data": {
            "text/plain": [
              "SuggestedLRs(valley=0.0030199517495930195)"
            ]
          },
          "metadata": {
            "tags": []
          },
          "execution_count": 47
        },
        {
          "output_type": "display_data",
          "data": {
            "image/png": "[encoded data removed]",
            "text/plain": [
              "<Figure size 432x288 with 1 Axes>"
            ]
          },
          "metadata": {
            "tags": [],
            "needs_background": "light"
          }
        }
      ]
    },
    {
      "cell_type": "code",
      "metadata": {
        "colab": {
          "base_uri": "https://localhost:8080/",
          "height": 269
        },
        "id": "QGeO1kT_d2yD",
        "outputId": "39a6e7bf-3df9-4c38-e9db-1eea3dc7dcd5"
      },
      "source": [
        "learner.fit(7,lr=1e-2)"
      ],
      "execution_count": 35,
      "outputs": [
        {
          "output_type": "display_data",
          "data": {
            "text/html": [
              "<table border=\"1\" class=\"dataframe\">\n",
              "  <thead>\n",
              "    <tr style=\"text-align: left;\">\n",
              "      <th>epoch</th>\n",
              "      <th>train_loss</th>\n",
              "      <th>valid_loss</th>\n",
              "      <th>None</th>\n",
              "      <th>time</th>\n",
              "    </tr>\n",
              "  </thead>\n",
              "  <tbody>\n",
              "    <tr>\n",
              "      <td>0</td>\n",
              "      <td>139.124435</td>\n",
              "      <td>121.771317</td>\n",
              "      <td>3.591618</td>\n",
              "      <td>00:00</td>\n",
              "    </tr>\n",
              "    <tr>\n",
              "      <td>1</td>\n",
              "      <td>118.894829</td>\n",
              "      <td>121.772789</td>\n",
              "      <td>3.507370</td>\n",
              "      <td>00:00</td>\n",
              "    </tr>\n",
              "    <tr>\n",
              "      <td>2</td>\n",
              "      <td>111.212471</td>\n",
              "      <td>121.768425</td>\n",
              "      <td>3.525963</td>\n",
              "      <td>00:00</td>\n",
              "    </tr>\n",
              "    <tr>\n",
              "      <td>3</td>\n",
              "      <td>108.561363</td>\n",
              "      <td>121.768738</td>\n",
              "      <td>3.518264</td>\n",
              "      <td>00:00</td>\n",
              "    </tr>\n",
              "    <tr>\n",
              "      <td>4</td>\n",
              "      <td>107.969688</td>\n",
              "      <td>121.769012</td>\n",
              "      <td>3.512348</td>\n",
              "      <td>00:00</td>\n",
              "    </tr>\n",
              "    <tr>\n",
              "      <td>5</td>\n",
              "      <td>107.850655</td>\n",
              "      <td>121.766212</td>\n",
              "      <td>3.517601</td>\n",
              "      <td>00:00</td>\n",
              "    </tr>\n",
              "    <tr>\n",
              "      <td>6</td>\n",
              "      <td>107.563812</td>\n",
              "      <td>121.764015</td>\n",
              "      <td>3.516802</td>\n",
              "      <td>00:00</td>\n",
              "    </tr>\n",
              "  </tbody>\n",
              "</table>"
            ],
            "text/plain": [
              "<IPython.core.display.HTML object>"
            ]
          },
          "metadata": {
            "tags": []
          }
        }
      ]
    },
    {
      "cell_type": "code",
      "metadata": {
        "colab": {
          "base_uri": "https://localhost:8080/",
          "height": 269
        },
        "id": "GhPKxRdwd8w0",
        "outputId": "74128cbc-9f02-4725-c426-3240e10868d0"
      },
      "source": [
        "learner.fit(7,lr=1e-2,wd=0.001)"
      ],
      "execution_count": 37,
      "outputs": [
        {
          "output_type": "display_data",
          "data": {
            "text/html": [
              "<table border=\"1\" class=\"dataframe\">\n",
              "  <thead>\n",
              "    <tr style=\"text-align: left;\">\n",
              "      <th>epoch</th>\n",
              "      <th>train_loss</th>\n",
              "      <th>valid_loss</th>\n",
              "      <th>None</th>\n",
              "      <th>time</th>\n",
              "    </tr>\n",
              "  </thead>\n",
              "  <tbody>\n",
              "    <tr>\n",
              "      <td>0</td>\n",
              "      <td>126.307610</td>\n",
              "      <td>84.267769</td>\n",
              "      <td>2.684967</td>\n",
              "      <td>00:00</td>\n",
              "    </tr>\n",
              "    <tr>\n",
              "      <td>1</td>\n",
              "      <td>91.452095</td>\n",
              "      <td>84.211006</td>\n",
              "      <td>2.540029</td>\n",
              "      <td>00:00</td>\n",
              "    </tr>\n",
              "    <tr>\n",
              "      <td>2</td>\n",
              "      <td>81.702370</td>\n",
              "      <td>84.203560</td>\n",
              "      <td>2.526334</td>\n",
              "      <td>00:00</td>\n",
              "    </tr>\n",
              "    <tr>\n",
              "      <td>3</td>\n",
              "      <td>76.852531</td>\n",
              "      <td>84.365059</td>\n",
              "      <td>2.525842</td>\n",
              "      <td>00:00</td>\n",
              "    </tr>\n",
              "    <tr>\n",
              "      <td>4</td>\n",
              "      <td>74.027740</td>\n",
              "      <td>84.205811</td>\n",
              "      <td>2.536857</td>\n",
              "      <td>00:00</td>\n",
              "    </tr>\n",
              "    <tr>\n",
              "      <td>5</td>\n",
              "      <td>73.182953</td>\n",
              "      <td>84.205643</td>\n",
              "      <td>2.532498</td>\n",
              "      <td>00:00</td>\n",
              "    </tr>\n",
              "    <tr>\n",
              "      <td>6</td>\n",
              "      <td>72.858650</td>\n",
              "      <td>84.197571</td>\n",
              "      <td>2.520708</td>\n",
              "      <td>00:00</td>\n",
              "    </tr>\n",
              "  </tbody>\n",
              "</table>"
            ],
            "text/plain": [
              "<IPython.core.display.HTML object>"
            ]
          },
          "metadata": {
            "tags": []
          }
        }
      ]
    },
    {
      "cell_type": "markdown",
      "metadata": {
        "id": "Ky7ZAIMwrYLX"
      },
      "source": [
        "The model with Entity Embedding didnt performed better than the one without.\n",
        "\n",
        "**Model without entity embedding = MAE is 0.27**\n",
        "\n",
        "**Model with entity embedding = MAE is 0.252**\n",
        "\n",
        "\n"
      ]
    },
    {
      "cell_type": "code",
      "metadata": {
        "colab": {
          "base_uri": "https://localhost:8080/",
          "height": 17
        },
        "id": "bANCii3gcViw",
        "outputId": "02b6ba43-f718-4545-b842-f8eb119e9a8c"
      },
      "source": [
        "preds, targs = learner.get_preds()"
      ],
      "execution_count": 38,
      "outputs": [
        {
          "output_type": "display_data",
          "data": {
            "text/html": [
              ""
            ],
            "text/plain": [
              "<IPython.core.display.HTML object>"
            ]
          },
          "metadata": {
            "tags": []
          }
        }
      ]
    },
    {
      "cell_type": "code",
      "metadata": {
        "colab": {
          "base_uri": "https://localhost:8080/"
        },
        "id": "eg2xwyJKcViw",
        "outputId": "e0a0b245-827a-442f-ed0b-4135bfc4967d"
      },
      "source": [
        "MAE(targs,preds)"
      ],
      "execution_count": 39,
      "outputs": [
        {
          "output_type": "execute_result",
          "data": {
            "text/plain": [
              "2.520708"
            ]
          },
          "metadata": {
            "tags": []
          },
          "execution_count": 39
        }
      ]
    },
    {
      "cell_type": "markdown",
      "metadata": {
        "id": "0VqpHfkyeFPs"
      },
      "source": [
        "#### Random Forest"
      ]
    },
    {
      "cell_type": "code",
      "metadata": {
        "colab": {
          "base_uri": "https://localhost:8080/",
          "height": 236
        },
        "id": "wEPVUVW-eEB8",
        "outputId": "3e91f955-47a0-497b-d97a-ea039fea21d2"
      },
      "source": [
        "df.head()"
      ],
      "execution_count": 40,
      "outputs": [
        {
          "output_type": "execute_result",
          "data": {
            "text/html": [
              "<div>\n",
              "<style scoped>\n",
              "    .dataframe tbody tr th:only-of-type {\n",
              "        vertical-align: middle;\n",
              "    }\n",
              "\n",
              "    .dataframe tbody tr th {\n",
              "        vertical-align: top;\n",
              "    }\n",
              "\n",
              "    .dataframe thead th {\n",
              "        text-align: right;\n",
              "    }\n",
              "</style>\n",
              "<table border=\"1\" class=\"dataframe\">\n",
              "  <thead>\n",
              "    <tr style=\"text-align: right;\">\n",
              "      <th></th>\n",
              "      <th>Item Promo Discount</th>\n",
              "      <th>price</th>\n",
              "      <th>Quantity</th>\n",
              "      <th>Invoice Amount</th>\n",
              "      <th>...</th>\n",
              "      <th>Is_year_end_2</th>\n",
              "      <th>Is_year_start_0</th>\n",
              "      <th>Is_year_start_1</th>\n",
              "      <th>Is_year_start_2</th>\n",
              "    </tr>\n",
              "  </thead>\n",
              "  <tbody>\n",
              "    <tr>\n",
              "      <th>0</th>\n",
              "      <td>0.00</td>\n",
              "      <td>1995.00</td>\n",
              "      <td>1.0</td>\n",
              "      <td>1995.00</td>\n",
              "      <td>...</td>\n",
              "      <td>0.095454</td>\n",
              "      <td>-0.101134</td>\n",
              "      <td>-0.130301</td>\n",
              "      <td>-0.158558</td>\n",
              "    </tr>\n",
              "    <tr>\n",
              "      <th>1</th>\n",
              "      <td>-56.75</td>\n",
              "      <td>1078.25</td>\n",
              "      <td>1.0</td>\n",
              "      <td>1078.25</td>\n",
              "      <td>...</td>\n",
              "      <td>0.095454</td>\n",
              "      <td>-0.101134</td>\n",
              "      <td>-0.130301</td>\n",
              "      <td>-0.158558</td>\n",
              "    </tr>\n",
              "    <tr>\n",
              "      <th>2</th>\n",
              "      <td>-79.95</td>\n",
              "      <td>1519.05</td>\n",
              "      <td>1.0</td>\n",
              "      <td>1519.05</td>\n",
              "      <td>...</td>\n",
              "      <td>0.095454</td>\n",
              "      <td>-0.101134</td>\n",
              "      <td>-0.130301</td>\n",
              "      <td>-0.158558</td>\n",
              "    </tr>\n",
              "    <tr>\n",
              "      <th>3</th>\n",
              "      <td>0.00</td>\n",
              "      <td>1135.00</td>\n",
              "      <td>1.0</td>\n",
              "      <td>1135.00</td>\n",
              "      <td>...</td>\n",
              "      <td>0.095454</td>\n",
              "      <td>-0.101134</td>\n",
              "      <td>-0.130301</td>\n",
              "      <td>-0.158558</td>\n",
              "    </tr>\n",
              "    <tr>\n",
              "      <th>4</th>\n",
              "      <td>0.00</td>\n",
              "      <td>1499.00</td>\n",
              "      <td>1.0</td>\n",
              "      <td>1499.00</td>\n",
              "      <td>...</td>\n",
              "      <td>0.095454</td>\n",
              "      <td>-0.101134</td>\n",
              "      <td>-0.130301</td>\n",
              "      <td>-0.158558</td>\n",
              "    </tr>\n",
              "  </tbody>\n",
              "</table>\n",
              "<p>5 rows × 87 columns</p>\n",
              "</div>"
            ],
            "text/plain": [
              "   Item Promo Discount    price  Quantity  Invoice Amount  ...  Is_year_end_2  \\\n",
              "0                 0.00  1995.00       1.0         1995.00  ...       0.095454   \n",
              "1               -56.75  1078.25       1.0         1078.25  ...       0.095454   \n",
              "2               -79.95  1519.05       1.0         1519.05  ...       0.095454   \n",
              "3                 0.00  1135.00       1.0         1135.00  ...       0.095454   \n",
              "4                 0.00  1499.00       1.0         1499.00  ...       0.095454   \n",
              "\n",
              "   Is_year_start_0  Is_year_start_1  Is_year_start_2  \n",
              "0        -0.101134        -0.130301        -0.158558  \n",
              "1        -0.101134        -0.130301        -0.158558  \n",
              "2        -0.101134        -0.130301        -0.158558  \n",
              "3        -0.101134        -0.130301        -0.158558  \n",
              "4        -0.101134        -0.130301        -0.158558  \n",
              "\n",
              "[5 rows x 87 columns]"
            ]
          },
          "metadata": {
            "tags": []
          },
          "execution_count": 40
        }
      ]
    },
    {
      "cell_type": "code",
      "metadata": {
        "id": "CZYXI1nprxGg"
      },
      "source": [
        "procs = [Categorify, FillMissing]"
      ],
      "execution_count": 41,
      "outputs": []
    },
    {
      "cell_type": "code",
      "metadata": {
        "id": "IObgmjvjB0oo"
      },
      "source": [
        "dep_var = 'Quantity'"
      ],
      "execution_count": 42,
      "outputs": []
    },
    {
      "cell_type": "code",
      "metadata": {
        "id": "qS4xPlg3rxEF"
      },
      "source": [
        "cont, cat = cont_cat_split( df,1,dep_var= dep_var)"
      ],
      "execution_count": 43,
      "outputs": []
    },
    {
      "cell_type": "markdown",
      "metadata": {
        "id": "d_dWbbhFfyIH"
      },
      "source": [
        "We will use the splits that is defined earlier (also we have dropped the year column, so we cannot use it to create the splits)"
      ]
    },
    {
      "cell_type": "code",
      "metadata": {
        "id": "Z-ZPT60zrxBy"
      },
      "source": [
        "to = TabularPandas(df, procs= procs,cat_names= cat, cont_names=cont, splits= splits,y_names=dep_var)"
      ],
      "execution_count": 44,
      "outputs": []
    },
    {
      "cell_type": "code",
      "metadata": {
        "id": "HW9ZlBHDrw9U"
      },
      "source": [
        "x_train,y_train = to.train.xs, to.train.y\n",
        "x_valid, y_valid = to.valid.xs, to.valid.y"
      ],
      "execution_count": 45,
      "outputs": []
    },
    {
      "cell_type": "code",
      "metadata": {
        "id": "fIcISmCagJqd"
      },
      "source": [
        ""
      ],
      "execution_count": null,
      "outputs": []
    },
    {
      "cell_type": "code",
      "metadata": {
        "id": "M4qXAvIRhmuW"
      },
      "source": [
        "def rf(xs, y, n_estimators=40,\n",
        "       max_features=0.5, min_samples_leaf=5, **kwargs):\n",
        "    return RandomForestRegressor(n_jobs=-1, n_estimators=n_estimators,\n",
        "         max_features=max_features,\n",
        "        min_samples_leaf=min_samples_leaf, oob_score=True).fit(xs, y)"
      ],
      "execution_count": 46,
      "outputs": []
    },
    {
      "cell_type": "code",
      "metadata": {
        "id": "ZYGDUVHAIe-3"
      },
      "source": [
        "rf =rf(x_train,y_train)"
      ],
      "execution_count": 47,
      "outputs": []
    },
    {
      "cell_type": "code",
      "metadata": {
        "id": "lDTLOcimgbyn"
      },
      "source": [
        ""
      ],
      "execution_count": null,
      "outputs": []
    },
    {
      "cell_type": "code",
      "metadata": {
        "colab": {
          "base_uri": "https://localhost:8080/"
        },
        "id": "m6mglwjaTbY2",
        "outputId": "9524dcc6-0818-4ba9-ad28-d7839cb8d5c0"
      },
      "source": [
        "MAE(y_valid,rf.predict(x_valid))"
      ],
      "execution_count": 48,
      "outputs": [
        {
          "output_type": "execute_result",
          "data": {
            "text/plain": [
              "0.03268607737187094"
            ]
          },
          "metadata": {
            "tags": []
          },
          "execution_count": 48
        }
      ]
    },
    {
      "cell_type": "markdown",
      "metadata": {
        "id": "GASHgddpspQh"
      },
      "source": [
        "The Model performance without embedding is - 0.02807\n",
        "\n",
        "The Model performance with embedding is    - 0.028"
      ]
    }
  ]
}