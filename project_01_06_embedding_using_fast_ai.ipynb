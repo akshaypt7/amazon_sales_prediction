{
  "nbformat": 4,
  "nbformat_minor": 0,
  "metadata": {
    "colab": {
      "name": "project_01.06_embedding_using_fast_ai.ipynb",
      "provenance": [],
      "authorship_tag": "ABX9TyMavnAUqeXdV9O+sT9FEBh/",
      "include_colab_link": true
    },
    "kernelspec": {
      "name": "python3",
      "display_name": "Python 3"
    },
    "language_info": {
      "name": "python"
    }
  },
  "cells": [
    {
      "cell_type": "markdown",
      "metadata": {
        "id": "view-in-github",
        "colab_type": "text"
      },
      "source": [
        "<a href=\"https://colab.research.google.com/github/akshaypt7/amazon_sales_prediction/blob/main/project_01_06_embedding_using_fast_ai.ipynb\" target=\"_parent\"><img src=\"https://colab.research.google.com/assets/colab-badge.svg\" alt=\"Open In Colab\"/></a>"
      ]
    },
    {
      "cell_type": "markdown",
      "metadata": {
        "id": "wYLd7xeiK94Y"
      },
      "source": [
        "What do you plan to do now,\n",
        "\n",
        "The idea is to try out embedding using fast ai.\n",
        "\n",
        "For that first we would have to create the model ourselves to create the embeddings.\n",
        "\n",
        "We would have to create the model using nn.Sequential on how it created the model in collab filtering, we would have to concat the embeddings.\n",
        "\n",
        "But there are certain questions we might have to answer. such as what we will train on, that would be y-quantity. \n",
        "\n",
        "\n",
        "Then we would have to get the embedding from the model, and then save it and pass it into main_data, remember it will be in the form of list, we might be able to use the function in the last part."
      ]
    },
    {
      "cell_type": "code",
      "metadata": {
        "id": "4JQTi9fHKrMs"
      },
      "source": [
        "class model(Module):\n",
        "\n",
        "  def __init__(self,size_asin, )"
      ],
      "execution_count": null,
      "outputs": []
    }
  ]
}