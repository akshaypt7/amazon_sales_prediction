{
  "nbformat": 4,
  "nbformat_minor": 0,
  "metadata": {
    "colab": {
      "name": "project_01.06_embedding_using_fast_ai.ipynb",
      "provenance": [],
      "authorship_tag": "ABX9TyNpYjviM6p1ogWmqcCky/VW",
      "include_colab_link": true
    },
    "kernelspec": {
      "name": "python3",
      "display_name": "Python 3"
    },
    "language_info": {
      "name": "python"
    }
  },
  "cells": [
    {
      "cell_type": "markdown",
      "metadata": {
        "id": "view-in-github",
        "colab_type": "text"
      },
      "source": [
        "<a href=\"https://colab.research.google.com/github/akshaypt7/amazon_sales_prediction/blob/main/project_01_06_embedding_using_fast_ai.ipynb\" target=\"_parent\"><img src=\"https://colab.research.google.com/assets/colab-badge.svg\" alt=\"Open In Colab\"/></a>"
      ]
    },
    {
      "cell_type": "code",
      "metadata": {
        "id": "AOf7-glAqKQD",
        "colab": {
          "base_uri": "https://localhost:8080/"
        },
        "outputId": "078c1530-6670-4f5d-d081-0d226826967c"
      },
      "source": [
        "!pip install -Uqq fastbook\n",
        "import fastbook\n",
        "fastbook.setup_book()"
      ],
      "execution_count": 1,
      "outputs": [
        {
          "output_type": "stream",
          "text": [
            "\u001b[?25l\r\u001b[K     |▌                               | 10 kB 22.6 MB/s eta 0:00:01\r\u001b[K     |█                               | 20 kB 28.6 MB/s eta 0:00:01\r\u001b[K     |█▍                              | 30 kB 23.7 MB/s eta 0:00:01\r\u001b[K     |█▉                              | 40 kB 18.5 MB/s eta 0:00:01\r\u001b[K     |██▎                             | 51 kB 8.1 MB/s eta 0:00:01\r\u001b[K     |██▊                             | 61 kB 8.5 MB/s eta 0:00:01\r\u001b[K     |███▏                            | 71 kB 7.3 MB/s eta 0:00:01\r\u001b[K     |███▋                            | 81 kB 8.1 MB/s eta 0:00:01\r\u001b[K     |████                            | 92 kB 8.3 MB/s eta 0:00:01\r\u001b[K     |████▌                           | 102 kB 7.6 MB/s eta 0:00:01\r\u001b[K     |█████                           | 112 kB 7.6 MB/s eta 0:00:01\r\u001b[K     |█████▌                          | 122 kB 7.6 MB/s eta 0:00:01\r\u001b[K     |██████                          | 133 kB 7.6 MB/s eta 0:00:01\r\u001b[K     |██████▍                         | 143 kB 7.6 MB/s eta 0:00:01\r\u001b[K     |██████▉                         | 153 kB 7.6 MB/s eta 0:00:01\r\u001b[K     |███████▎                        | 163 kB 7.6 MB/s eta 0:00:01\r\u001b[K     |███████▊                        | 174 kB 7.6 MB/s eta 0:00:01\r\u001b[K     |████████▏                       | 184 kB 7.6 MB/s eta 0:00:01\r\u001b[K     |████████▋                       | 194 kB 7.6 MB/s eta 0:00:01\r\u001b[K     |█████████                       | 204 kB 7.6 MB/s eta 0:00:01\r\u001b[K     |█████████▋                      | 215 kB 7.6 MB/s eta 0:00:01\r\u001b[K     |██████████                      | 225 kB 7.6 MB/s eta 0:00:01\r\u001b[K     |██████████▌                     | 235 kB 7.6 MB/s eta 0:00:01\r\u001b[K     |███████████                     | 245 kB 7.6 MB/s eta 0:00:01\r\u001b[K     |███████████▍                    | 256 kB 7.6 MB/s eta 0:00:01\r\u001b[K     |███████████▉                    | 266 kB 7.6 MB/s eta 0:00:01\r\u001b[K     |████████████▎                   | 276 kB 7.6 MB/s eta 0:00:01\r\u001b[K     |████████████▊                   | 286 kB 7.6 MB/s eta 0:00:01\r\u001b[K     |█████████████▏                  | 296 kB 7.6 MB/s eta 0:00:01\r\u001b[K     |█████████████▋                  | 307 kB 7.6 MB/s eta 0:00:01\r\u001b[K     |██████████████                  | 317 kB 7.6 MB/s eta 0:00:01\r\u001b[K     |██████████████▋                 | 327 kB 7.6 MB/s eta 0:00:01\r\u001b[K     |███████████████                 | 337 kB 7.6 MB/s eta 0:00:01\r\u001b[K     |███████████████▌                | 348 kB 7.6 MB/s eta 0:00:01\r\u001b[K     |████████████████                | 358 kB 7.6 MB/s eta 0:00:01\r\u001b[K     |████████████████▍               | 368 kB 7.6 MB/s eta 0:00:01\r\u001b[K     |████████████████▉               | 378 kB 7.6 MB/s eta 0:00:01\r\u001b[K     |█████████████████▎              | 389 kB 7.6 MB/s eta 0:00:01\r\u001b[K     |█████████████████▊              | 399 kB 7.6 MB/s eta 0:00:01\r\u001b[K     |██████████████████▏             | 409 kB 7.6 MB/s eta 0:00:01\r\u001b[K     |██████████████████▋             | 419 kB 7.6 MB/s eta 0:00:01\r\u001b[K     |███████████████████▏            | 430 kB 7.6 MB/s eta 0:00:01\r\u001b[K     |███████████████████▋            | 440 kB 7.6 MB/s eta 0:00:01\r\u001b[K     |████████████████████            | 450 kB 7.6 MB/s eta 0:00:01\r\u001b[K     |████████████████████▌           | 460 kB 7.6 MB/s eta 0:00:01\r\u001b[K     |█████████████████████           | 471 kB 7.6 MB/s eta 0:00:01\r\u001b[K     |█████████████████████▍          | 481 kB 7.6 MB/s eta 0:00:01\r\u001b[K     |█████████████████████▉          | 491 kB 7.6 MB/s eta 0:00:01\r\u001b[K     |██████████████████████▎         | 501 kB 7.6 MB/s eta 0:00:01\r\u001b[K     |██████████████████████▊         | 512 kB 7.6 MB/s eta 0:00:01\r\u001b[K     |███████████████████████▏        | 522 kB 7.6 MB/s eta 0:00:01\r\u001b[K     |███████████████████████▋        | 532 kB 7.6 MB/s eta 0:00:01\r\u001b[K     |████████████████████████▏       | 542 kB 7.6 MB/s eta 0:00:01\r\u001b[K     |████████████████████████▋       | 552 kB 7.6 MB/s eta 0:00:01\r\u001b[K     |█████████████████████████       | 563 kB 7.6 MB/s eta 0:00:01\r\u001b[K     |█████████████████████████▌      | 573 kB 7.6 MB/s eta 0:00:01\r\u001b[K     |██████████████████████████      | 583 kB 7.6 MB/s eta 0:00:01\r\u001b[K     |██████████████████████████▍     | 593 kB 7.6 MB/s eta 0:00:01\r\u001b[K     |██████████████████████████▉     | 604 kB 7.6 MB/s eta 0:00:01\r\u001b[K     |███████████████████████████▎    | 614 kB 7.6 MB/s eta 0:00:01\r\u001b[K     |███████████████████████████▊    | 624 kB 7.6 MB/s eta 0:00:01\r\u001b[K     |████████████████████████████▏   | 634 kB 7.6 MB/s eta 0:00:01\r\u001b[K     |████████████████████████████▊   | 645 kB 7.6 MB/s eta 0:00:01\r\u001b[K     |█████████████████████████████▏  | 655 kB 7.6 MB/s eta 0:00:01\r\u001b[K     |█████████████████████████████▋  | 665 kB 7.6 MB/s eta 0:00:01\r\u001b[K     |██████████████████████████████  | 675 kB 7.6 MB/s eta 0:00:01\r\u001b[K     |██████████████████████████████▌ | 686 kB 7.6 MB/s eta 0:00:01\r\u001b[K     |███████████████████████████████ | 696 kB 7.6 MB/s eta 0:00:01\r\u001b[K     |███████████████████████████████▍| 706 kB 7.6 MB/s eta 0:00:01\r\u001b[K     |███████████████████████████████▉| 716 kB 7.6 MB/s eta 0:00:01\r\u001b[K     |████████████████████████████████| 720 kB 7.6 MB/s \n",
            "\u001b[K     |████████████████████████████████| 46 kB 4.9 MB/s \n",
            "\u001b[K     |████████████████████████████████| 188 kB 68.1 MB/s \n",
            "\u001b[K     |████████████████████████████████| 1.2 MB 38.8 MB/s \n",
            "\u001b[K     |████████████████████████████████| 56 kB 4.7 MB/s \n",
            "\u001b[K     |████████████████████████████████| 51 kB 335 kB/s \n",
            "\u001b[?25hMounted at /content/gdrive\n"
          ],
          "name": "stdout"
        }
      ]
    },
    {
      "cell_type": "code",
      "metadata": {
        "id": "CMc_wTu9apCs"
      },
      "source": [
        "#hide\n",
        "from fastbook import *\n",
        "# from kaggle import api\n",
        "from pandas.api.types import is_string_dtype, is_numeric_dtype, is_categorical_dtype\n",
        "from fastai.tabular.all import *\n",
        "from sklearn.ensemble import RandomForestRegressor, RandomForestClassifier\n",
        "from sklearn.tree import DecisionTreeRegressor\n",
        "# from dtreeviz.trees import *\n",
        "from IPython.display import Image, display_svg, SVG\n",
        "\n",
        "pd.options.display.max_rows = 20\n",
        "pd.options.display.max_columns = 8\n",
        "from sklearn.metrics import mean_absolute_error as MAE\n",
        "from sklearn.metrics import mean_squared_error as MSE"
      ],
      "execution_count": 2,
      "outputs": []
    },
    {
      "cell_type": "code",
      "metadata": {
        "id": "q26gA0_jd4-C"
      },
      "source": [
        "from sklearn.model_selection import ParameterGrid\n",
        "from keras.models import Sequential\n",
        "from keras.models import Model as KerasModel\n",
        "from keras.layers import Input, Dense, Activation, Reshape\n",
        "from keras.layers import Concatenate\n",
        "from keras.layers import Dense, Flatten, Dropout, Input, Embedding, Reshape\n",
        "from keras.layers import concatenate\n",
        "from sklearn.ensemble import RandomForestRegressor\n",
        "from sklearn import linear_model\n",
        "import pickle\n",
        "import csv\n",
        "from datetime import datetime\n",
        "from sklearn import preprocessing\n",
        "from keras.callbacks import ModelCheckpoint\n",
        "import xgboost as xgb\n",
        "from sklearn.preprocessing import OneHotEncoder\n",
        "%matplotlib inline\n",
        "\n",
        "from sklearn.model_selection import train_test_split\n",
        "import math\n",
        "import pandas as pd"
      ],
      "execution_count": 3,
      "outputs": []
    },
    {
      "cell_type": "code",
      "metadata": {
        "id": "NFLW182ZPN2n"
      },
      "source": [
        "#hide\n",
        "!pip install -Uqq fastbook\n",
        "import fastbook\n",
        "fastbook.setup_book()"
      ],
      "execution_count": 4,
      "outputs": []
    },
    {
      "cell_type": "code",
      "metadata": {
        "id": "v9IAgVuTPN2u"
      },
      "source": [
        "#hide\n",
        "from fastbook import *"
      ],
      "execution_count": 5,
      "outputs": []
    },
    {
      "cell_type": "markdown",
      "metadata": {
        "id": "wYLd7xeiK94Y"
      },
      "source": [
        "What do you plan to do now,\n",
        "\n",
        "The idea is to try out embedding using fast ai.\n",
        "\n",
        "For that first we would have to create the model ourselves to create the embeddings.\n",
        "\n",
        "We would have to create the model using nn.Sequential on how it created the model in collab filtering, we would have to concat the embeddings.\n",
        "\n",
        "But there are certain questions we might have to answer. such as what we will train on, that would be y-quantity. \n",
        "\n",
        "\n",
        "Then we would have to get the embedding from the model, and then save it and pass it into main_data, remember it will be in the form of list, we might be able to use the function in the last part.\n",
        "\n",
        "**May be we can try dot product of two of our embedding (how google play is built**"
      ]
    },
    {
      "cell_type": "code",
      "metadata": {
        "id": "PO6d5zl_OvjU"
      },
      "source": [
        "[input_asin, input_hour, input_dayofweek, input_month, input_day, input_week ]"
      ],
      "execution_count": null,
      "outputs": []
    },
    {
      "cell_type": "code",
      "metadata": {
        "id": "4JQTi9fHKrMs"
      },
      "source": [
        "infile = open('/content/gdrive/MyDrive/bluebook/df_main.pkl','rb')\n",
        "df_main = pickle.load(infile)"
      ],
      "execution_count": 7,
      "outputs": []
    },
    {
      "cell_type": "code",
      "metadata": {
        "colab": {
          "base_uri": "https://localhost:8080/",
          "height": 206
        },
        "id": "nepdmJpIZGxL",
        "outputId": "d6d53d63-b592-4dad-f34e-c3a4e7aa91a1"
      },
      "source": [
        "df_main.head()"
      ],
      "execution_count": null,
      "outputs": [
        {
          "output_type": "execute_result",
          "data": {
            "text/html": [
              "<div>\n",
              "<style scoped>\n",
              "    .dataframe tbody tr th:only-of-type {\n",
              "        vertical-align: middle;\n",
              "    }\n",
              "\n",
              "    .dataframe tbody tr th {\n",
              "        vertical-align: top;\n",
              "    }\n",
              "\n",
              "    .dataframe thead th {\n",
              "        text-align: right;\n",
              "    }\n",
              "</style>\n",
              "<table border=\"1\" class=\"dataframe\">\n",
              "  <thead>\n",
              "    <tr style=\"text-align: right;\">\n",
              "      <th></th>\n",
              "      <th>date</th>\n",
              "      <th>Asin</th>\n",
              "      <th>Item Promo Discount</th>\n",
              "      <th>price</th>\n",
              "      <th>hour</th>\n",
              "      <th>Quantity</th>\n",
              "      <th>Invoice Amount</th>\n",
              "    </tr>\n",
              "  </thead>\n",
              "  <tbody>\n",
              "    <tr>\n",
              "      <th>0</th>\n",
              "      <td>2021-01-04</td>\n",
              "      <td>B07KYFHTGF</td>\n",
              "      <td>0.00</td>\n",
              "      <td>1995.00</td>\n",
              "      <td>12.0</td>\n",
              "      <td>1.0</td>\n",
              "      <td>1995.00</td>\n",
              "    </tr>\n",
              "    <tr>\n",
              "      <th>1</th>\n",
              "      <td>2021-01-08</td>\n",
              "      <td>B07TM3LRVB</td>\n",
              "      <td>-56.75</td>\n",
              "      <td>1078.25</td>\n",
              "      <td>20.0</td>\n",
              "      <td>1.0</td>\n",
              "      <td>1078.25</td>\n",
              "    </tr>\n",
              "    <tr>\n",
              "      <th>2</th>\n",
              "      <td>2021-01-09</td>\n",
              "      <td>B08976V1BZ</td>\n",
              "      <td>-79.95</td>\n",
              "      <td>1519.05</td>\n",
              "      <td>22.0</td>\n",
              "      <td>1.0</td>\n",
              "      <td>1519.05</td>\n",
              "    </tr>\n",
              "    <tr>\n",
              "      <th>3</th>\n",
              "      <td>2021-01-11</td>\n",
              "      <td>B07TM3LRVB</td>\n",
              "      <td>0.00</td>\n",
              "      <td>1135.00</td>\n",
              "      <td>10.0</td>\n",
              "      <td>1.0</td>\n",
              "      <td>1135.00</td>\n",
              "    </tr>\n",
              "    <tr>\n",
              "      <th>4</th>\n",
              "      <td>2021-01-12</td>\n",
              "      <td>B08332221J</td>\n",
              "      <td>0.00</td>\n",
              "      <td>1499.00</td>\n",
              "      <td>12.0</td>\n",
              "      <td>1.0</td>\n",
              "      <td>1499.00</td>\n",
              "    </tr>\n",
              "  </tbody>\n",
              "</table>\n",
              "</div>"
            ],
            "text/plain": [
              "        date        Asin  Item Promo Discount    price  hour  Quantity  \\\n",
              "0 2021-01-04  B07KYFHTGF                 0.00  1995.00  12.0       1.0   \n",
              "1 2021-01-08  B07TM3LRVB               -56.75  1078.25  20.0       1.0   \n",
              "2 2021-01-09  B08976V1BZ               -79.95  1519.05  22.0       1.0   \n",
              "3 2021-01-11  B07TM3LRVB                 0.00  1135.00  10.0       1.0   \n",
              "4 2021-01-12  B08332221J                 0.00  1499.00  12.0       1.0   \n",
              "\n",
              "   Invoice Amount  \n",
              "0         1995.00  \n",
              "1         1078.25  \n",
              "2         1519.05  \n",
              "3         1135.00  \n",
              "4         1499.00  "
            ]
          },
          "metadata": {
            "tags": []
          },
          "execution_count": 7
        }
      ]
    },
    {
      "cell_type": "code",
      "metadata": {
        "id": "kCbmmWMgZR4-"
      },
      "source": [
        "df_main = add_datepart(df_main,'date')"
      ],
      "execution_count": 8,
      "outputs": []
    },
    {
      "cell_type": "code",
      "metadata": {
        "id": "LEjWYAcAa6Mi"
      },
      "source": [
        "procs = [Categorify, FillMissing, Normalize]"
      ],
      "execution_count": 9,
      "outputs": []
    },
    {
      "cell_type": "markdown",
      "metadata": {
        "id": "aVPTsw2VdcO1"
      },
      "source": [
        "We are changing the category variables and continous variables, because we think when we apply entity embedding, we get more value from these variables. (so we don't add quanity in both cat and cont)"
      ]
    },
    {
      "cell_type": "code",
      "metadata": {
        "id": "TP01FE31bzyd"
      },
      "source": [
        "cat = ['Asin',\n",
        " 'hour',\n",
        " 'Dayofweek',\n",
        " 'Month',\n",
        " 'Day',\n",
        " 'Week',\n",
        " 'Year',\n",
        " 'Is_month_end',\n",
        " 'Is_month_start',\n",
        " 'Is_quarter_end',\n",
        " 'Is_quarter_start',\n",
        " 'Is_year_end',\n",
        " 'Is_year_start']"
      ],
      "execution_count": 10,
      "outputs": []
    },
    {
      "cell_type": "code",
      "metadata": {
        "id": "bpquDB9Jciv7"
      },
      "source": [
        "cont = ['Item Promo Discount',\n",
        " 'price',\n",
        " 'Invoice Amount',\n",
        " 'Dayofyear',\n",
        " 'Elapsed']"
      ],
      "execution_count": 11,
      "outputs": []
    },
    {
      "cell_type": "code",
      "metadata": {
        "id": "rWE4_N7OBgLV"
      },
      "source": [
        "# SPLITS \n",
        "condition = (df_main.Year < 2020) | (df_main.Month < 8)\n",
        "train_idx = np.where(condition)[0]\n",
        "valid_idx = np.where(~condition)[0]"
      ],
      "execution_count": 12,
      "outputs": []
    },
    {
      "cell_type": "code",
      "metadata": {
        "id": "TKSM7u9yGf1g"
      },
      "source": [
        "splits = (list(train_idx),list(valid_idx))"
      ],
      "execution_count": 13,
      "outputs": []
    },
    {
      "cell_type": "code",
      "metadata": {
        "id": "1JBMbxbudOsG"
      },
      "source": [
        "dep_var = 'Quantity'"
      ],
      "execution_count": 14,
      "outputs": []
    },
    {
      "cell_type": "code",
      "metadata": {
        "id": "Q4XlfcCGdyAD"
      },
      "source": [
        "to = TabularPandas(df_main,procs= procs, cat_names=cat, cont_names = cont, y_names=dep_var, splits = splits)"
      ],
      "execution_count": 15,
      "outputs": []
    },
    {
      "cell_type": "code",
      "metadata": {
        "colab": {
          "base_uri": "https://localhost:8080/",
          "height": 167
        },
        "id": "XT_kL2tneMz3",
        "outputId": "e3e9efeb-caac-4e04-a409-e622760355b0"
      },
      "source": [
        "to.show(2)"
      ],
      "execution_count": null,
      "outputs": [
        {
          "output_type": "display_data",
          "data": {
            "text/html": [
              "<table border=\"1\" class=\"dataframe\">\n",
              "  <thead>\n",
              "    <tr style=\"text-align: right;\">\n",
              "      <th></th>\n",
              "      <th>Asin</th>\n",
              "      <th>hour</th>\n",
              "      <th>Dayofweek</th>\n",
              "      <th>Month</th>\n",
              "      <th>Day</th>\n",
              "      <th>Week</th>\n",
              "      <th>Year</th>\n",
              "      <th>Is_month_end</th>\n",
              "      <th>Is_month_start</th>\n",
              "      <th>Is_quarter_end</th>\n",
              "      <th>Is_quarter_start</th>\n",
              "      <th>Is_year_end</th>\n",
              "      <th>Is_year_start</th>\n",
              "      <th>Item Promo Discount</th>\n",
              "      <th>price</th>\n",
              "      <th>Invoice Amount</th>\n",
              "      <th>Dayofyear</th>\n",
              "      <th>Elapsed</th>\n",
              "      <th>Quantity</th>\n",
              "    </tr>\n",
              "  </thead>\n",
              "  <tbody>\n",
              "    <tr>\n",
              "      <th>0</th>\n",
              "      <td>B07KYFHTGF</td>\n",
              "      <td>12</td>\n",
              "      <td>0</td>\n",
              "      <td>1</td>\n",
              "      <td>4</td>\n",
              "      <td>1</td>\n",
              "      <td>2021</td>\n",
              "      <td>False</td>\n",
              "      <td>False</td>\n",
              "      <td>False</td>\n",
              "      <td>False</td>\n",
              "      <td>False</td>\n",
              "      <td>False</td>\n",
              "      <td>0.00</td>\n",
              "      <td>1995.00</td>\n",
              "      <td>1995.00</td>\n",
              "      <td>4.0</td>\n",
              "      <td>1.609718e+09</td>\n",
              "      <td>1.0</td>\n",
              "    </tr>\n",
              "    <tr>\n",
              "      <th>1</th>\n",
              "      <td>B07TM3LRVB</td>\n",
              "      <td>20</td>\n",
              "      <td>4</td>\n",
              "      <td>1</td>\n",
              "      <td>8</td>\n",
              "      <td>1</td>\n",
              "      <td>2021</td>\n",
              "      <td>False</td>\n",
              "      <td>False</td>\n",
              "      <td>False</td>\n",
              "      <td>False</td>\n",
              "      <td>False</td>\n",
              "      <td>False</td>\n",
              "      <td>-56.75</td>\n",
              "      <td>1078.25</td>\n",
              "      <td>1078.25</td>\n",
              "      <td>8.0</td>\n",
              "      <td>1.610064e+09</td>\n",
              "      <td>1.0</td>\n",
              "    </tr>\n",
              "  </tbody>\n",
              "</table>"
            ],
            "text/plain": [
              "<IPython.core.display.HTML object>"
            ]
          },
          "metadata": {
            "tags": []
          }
        }
      ]
    },
    {
      "cell_type": "code",
      "metadata": {
        "colab": {
          "base_uri": "https://localhost:8080/",
          "height": 141
        },
        "id": "9cp9nFLpR1nj",
        "outputId": "c9cd5de7-9dda-4592-c87e-53170acd937d"
      },
      "source": [
        "to.items.head(2)"
      ],
      "execution_count": 17,
      "outputs": [
        {
          "output_type": "execute_result",
          "data": {
            "text/html": [
              "<div>\n",
              "<style scoped>\n",
              "    .dataframe tbody tr th:only-of-type {\n",
              "        vertical-align: middle;\n",
              "    }\n",
              "\n",
              "    .dataframe tbody tr th {\n",
              "        vertical-align: top;\n",
              "    }\n",
              "\n",
              "    .dataframe thead th {\n",
              "        text-align: right;\n",
              "    }\n",
              "</style>\n",
              "<table border=\"1\" class=\"dataframe\">\n",
              "  <thead>\n",
              "    <tr style=\"text-align: right;\">\n",
              "      <th></th>\n",
              "      <th>Asin</th>\n",
              "      <th>Item Promo Discount</th>\n",
              "      <th>price</th>\n",
              "      <th>hour</th>\n",
              "      <th>...</th>\n",
              "      <th>Is_quarter_start</th>\n",
              "      <th>Is_year_end</th>\n",
              "      <th>Is_year_start</th>\n",
              "      <th>Elapsed</th>\n",
              "    </tr>\n",
              "  </thead>\n",
              "  <tbody>\n",
              "    <tr>\n",
              "      <th>0</th>\n",
              "      <td>2</td>\n",
              "      <td>0.393801</td>\n",
              "      <td>1.289015</td>\n",
              "      <td>13</td>\n",
              "      <td>...</td>\n",
              "      <td>1</td>\n",
              "      <td>1</td>\n",
              "      <td>1</td>\n",
              "      <td>0.704794</td>\n",
              "    </tr>\n",
              "    <tr>\n",
              "      <th>1</th>\n",
              "      <td>8</td>\n",
              "      <td>-1.607343</td>\n",
              "      <td>-0.424478</td>\n",
              "      <td>21</td>\n",
              "      <td>...</td>\n",
              "      <td>1</td>\n",
              "      <td>1</td>\n",
              "      <td>1</td>\n",
              "      <td>0.724514</td>\n",
              "    </tr>\n",
              "  </tbody>\n",
              "</table>\n",
              "<p>2 rows × 19 columns</p>\n",
              "</div>"
            ],
            "text/plain": [
              "   Asin  Item Promo Discount     price  hour  ...  Is_quarter_start  \\\n",
              "0     2             0.393801  1.289015    13  ...                 1   \n",
              "1     8            -1.607343 -0.424478    21  ...                 1   \n",
              "\n",
              "   Is_year_end  Is_year_start   Elapsed  \n",
              "0            1              1  0.704794  \n",
              "1            1              1  0.724514  \n",
              "\n",
              "[2 rows x 19 columns]"
            ]
          },
          "metadata": {
            "tags": []
          },
          "execution_count": 17
        }
      ]
    },
    {
      "cell_type": "code",
      "metadata": {
        "id": "96w8czmPeOxA"
      },
      "source": [
        "x_train = to.train.xs\n",
        "y_train = to.train.ys\n",
        "\n",
        "x_valid = to.valid.xs\n",
        "y_valid = to.valid.ys"
      ],
      "execution_count": 18,
      "outputs": []
    },
    {
      "cell_type": "code",
      "metadata": {
        "colab": {
          "base_uri": "https://localhost:8080/"
        },
        "id": "TudNIHlFjOL9",
        "outputId": "6340a6b2-4993-4f70-bdf3-976b10027488"
      },
      "source": [
        "upper_limit =max(df_main[dep_var].values)\n",
        "lower_limit =min(df_main[dep_var].values)\n",
        "upper_limit, lower_limit\n"
      ],
      "execution_count": 19,
      "outputs": [
        {
          "output_type": "execute_result",
          "data": {
            "text/plain": [
              "(39.0, 1.0)"
            ]
          },
          "metadata": {
            "tags": []
          },
          "execution_count": 19
        }
      ]
    },
    {
      "cell_type": "code",
      "metadata": {
        "id": "GkrAlhzJiEpW"
      },
      "source": [
        "dls = to.dataloaders(bs=256)"
      ],
      "execution_count": 20,
      "outputs": []
    },
    {
      "cell_type": "code",
      "metadata": {
        "id": "i7-pI52AjIZS"
      },
      "source": [
        "learner = tabular_learner(dls,y_range= (1,39), layers= [250,100],n_out =1,loss_func= F.mse_loss, metrics=nn.L1Loss())"
      ],
      "execution_count": 21,
      "outputs": []
    },
    {
      "cell_type": "code",
      "metadata": {
        "colab": {
          "base_uri": "https://localhost:8080/",
          "height": 300
        },
        "id": "SXweRZTVkT6R",
        "outputId": "4f95ad0c-06ad-4163-e3a3-320d7f5f2b7d"
      },
      "source": [
        "learner.lr_find()"
      ],
      "execution_count": 22,
      "outputs": [
        {
          "output_type": "display_data",
          "data": {
            "text/html": [
              ""
            ],
            "text/plain": [
              "<IPython.core.display.HTML object>"
            ]
          },
          "metadata": {
            "tags": []
          }
        },
        {
          "output_type": "execute_result",
          "data": {
            "text/plain": [
              "SuggestedLRs(valley=0.001737800776027143)"
            ]
          },
          "metadata": {
            "tags": []
          },
          "execution_count": 22
        },
        {
          "output_type": "display_data",
          "data": {
            "image/png": "[encoded data removed]",
            "text/plain": [
              "<Figure size 432x288 with 1 Axes>"
            ]
          },
          "metadata": {
            "tags": [],
            "needs_background": "light"
          }
        }
      ]
    },
    {
      "cell_type": "code",
      "metadata": {
        "colab": {
          "base_uri": "https://localhost:8080/",
          "height": 269
        },
        "id": "oGMzrpInlEu0",
        "outputId": "0cc5d763-2b98-46a5-f827-325b52e07fec"
      },
      "source": [
        "learner.fit(7,lr=1e-2)"
      ],
      "execution_count": 24,
      "outputs": [
        {
          "output_type": "display_data",
          "data": {
            "text/html": [
              "<table border=\"1\" class=\"dataframe\">\n",
              "  <thead>\n",
              "    <tr style=\"text-align: left;\">\n",
              "      <th>epoch</th>\n",
              "      <th>train_loss</th>\n",
              "      <th>valid_loss</th>\n",
              "      <th>None</th>\n",
              "      <th>time</th>\n",
              "    </tr>\n",
              "  </thead>\n",
              "  <tbody>\n",
              "    <tr>\n",
              "      <td>0</td>\n",
              "      <td>2.516323</td>\n",
              "      <td>0.202374</td>\n",
              "      <td>0.373353</td>\n",
              "      <td>00:00</td>\n",
              "    </tr>\n",
              "    <tr>\n",
              "      <td>1</td>\n",
              "      <td>2.431421</td>\n",
              "      <td>0.150735</td>\n",
              "      <td>0.311757</td>\n",
              "      <td>00:00</td>\n",
              "    </tr>\n",
              "    <tr>\n",
              "      <td>2</td>\n",
              "      <td>2.210354</td>\n",
              "      <td>0.110894</td>\n",
              "      <td>0.283405</td>\n",
              "      <td>00:00</td>\n",
              "    </tr>\n",
              "    <tr>\n",
              "      <td>3</td>\n",
              "      <td>2.356711</td>\n",
              "      <td>0.120874</td>\n",
              "      <td>0.260279</td>\n",
              "      <td>00:00</td>\n",
              "    </tr>\n",
              "    <tr>\n",
              "      <td>4</td>\n",
              "      <td>2.067306</td>\n",
              "      <td>0.134324</td>\n",
              "      <td>0.313378</td>\n",
              "      <td>00:00</td>\n",
              "    </tr>\n",
              "    <tr>\n",
              "      <td>5</td>\n",
              "      <td>1.472149</td>\n",
              "      <td>0.134042</td>\n",
              "      <td>0.259687</td>\n",
              "      <td>00:00</td>\n",
              "    </tr>\n",
              "    <tr>\n",
              "      <td>6</td>\n",
              "      <td>1.125834</td>\n",
              "      <td>0.096249</td>\n",
              "      <td>0.230732</td>\n",
              "      <td>00:00</td>\n",
              "    </tr>\n",
              "  </tbody>\n",
              "</table>"
            ],
            "text/plain": [
              "<IPython.core.display.HTML object>"
            ]
          },
          "metadata": {
            "tags": []
          }
        }
      ]
    },
    {
      "cell_type": "markdown",
      "metadata": {
        "id": "Yzf4bjDRldHl"
      },
      "source": [
        "Training with weight decay and without have a huge impact in the loss"
      ]
    },
    {
      "cell_type": "code",
      "metadata": {
        "colab": {
          "base_uri": "https://localhost:8080/",
          "height": 269
        },
        "id": "_PqSpYMKky0O",
        "outputId": "76e53751-8da4-4ff7-90d5-6ee0f585721a"
      },
      "source": [
        "learner.fit(7,lr=1e-2,wd=0.01)"
      ],
      "execution_count": 25,
      "outputs": [
        {
          "output_type": "display_data",
          "data": {
            "text/html": [
              "<table border=\"1\" class=\"dataframe\">\n",
              "  <thead>\n",
              "    <tr style=\"text-align: left;\">\n",
              "      <th>epoch</th>\n",
              "      <th>train_loss</th>\n",
              "      <th>valid_loss</th>\n",
              "      <th>None</th>\n",
              "      <th>time</th>\n",
              "    </tr>\n",
              "  </thead>\n",
              "  <tbody>\n",
              "    <tr>\n",
              "      <td>0</td>\n",
              "      <td>0.810741</td>\n",
              "      <td>0.085880</td>\n",
              "      <td>0.228811</td>\n",
              "      <td>00:00</td>\n",
              "    </tr>\n",
              "    <tr>\n",
              "      <td>1</td>\n",
              "      <td>0.761905</td>\n",
              "      <td>0.050833</td>\n",
              "      <td>0.183024</td>\n",
              "      <td>00:00</td>\n",
              "    </tr>\n",
              "    <tr>\n",
              "      <td>2</td>\n",
              "      <td>0.761901</td>\n",
              "      <td>0.072690</td>\n",
              "      <td>0.204669</td>\n",
              "      <td>00:00</td>\n",
              "    </tr>\n",
              "    <tr>\n",
              "      <td>3</td>\n",
              "      <td>0.675008</td>\n",
              "      <td>0.038002</td>\n",
              "      <td>0.156169</td>\n",
              "      <td>00:00</td>\n",
              "    </tr>\n",
              "    <tr>\n",
              "      <td>4</td>\n",
              "      <td>0.652557</td>\n",
              "      <td>0.035396</td>\n",
              "      <td>0.144280</td>\n",
              "      <td>00:00</td>\n",
              "    </tr>\n",
              "    <tr>\n",
              "      <td>5</td>\n",
              "      <td>0.674379</td>\n",
              "      <td>0.031940</td>\n",
              "      <td>0.135770</td>\n",
              "      <td>00:00</td>\n",
              "    </tr>\n",
              "    <tr>\n",
              "      <td>6</td>\n",
              "      <td>0.630011</td>\n",
              "      <td>0.027162</td>\n",
              "      <td>0.125572</td>\n",
              "      <td>00:00</td>\n",
              "    </tr>\n",
              "  </tbody>\n",
              "</table>"
            ],
            "text/plain": [
              "<IPython.core.display.HTML object>"
            ]
          },
          "metadata": {
            "tags": []
          }
        }
      ]
    },
    {
      "cell_type": "code",
      "metadata": {
        "colab": {
          "base_uri": "https://localhost:8080/",
          "height": 17
        },
        "id": "fSUvqfnUlo5X",
        "outputId": "af34cd03-e4ae-4f0d-d23f-3124c5021407"
      },
      "source": [
        "preds, targs = learner.get_preds()"
      ],
      "execution_count": 27,
      "outputs": [
        {
          "output_type": "display_data",
          "data": {
            "text/html": [
              ""
            ],
            "text/plain": [
              "<IPython.core.display.HTML object>"
            ]
          },
          "metadata": {
            "tags": []
          }
        }
      ]
    },
    {
      "cell_type": "code",
      "metadata": {
        "colab": {
          "base_uri": "https://localhost:8080/"
        },
        "id": "vccQqLSEmq0D",
        "outputId": "b3f44b55-67e3-4c6d-e756-850112299a9a"
      },
      "source": [
        "MAE(targs,preds)"
      ],
      "execution_count": 28,
      "outputs": [
        {
          "output_type": "execute_result",
          "data": {
            "text/plain": [
              "0.125572"
            ]
          },
          "metadata": {
            "tags": []
          },
          "execution_count": 28
        }
      ]
    },
    {
      "cell_type": "markdown",
      "metadata": {
        "id": "Lf40Jxm1SVa5"
      },
      "source": [
        "**MAE is 0.125572**"
      ]
    },
    {
      "cell_type": "markdown",
      "metadata": {
        "id": "wOIk_9zPrCTv"
      },
      "source": [
        "Now we need to get the embeddings from the learner"
      ]
    },
    {
      "cell_type": "code",
      "metadata": {
        "colab": {
          "base_uri": "https://localhost:8080/"
        },
        "id": "I-4j9s5kmAgm",
        "outputId": "f399a368-4645-4884-898f-06bf37730f52"
      },
      "source": [
        "learner.model.embeds[1]"
      ],
      "execution_count": null,
      "outputs": [
        {
          "output_type": "execute_result",
          "data": {
            "text/plain": [
              "Embedding(25, 10)"
            ]
          },
          "metadata": {
            "tags": []
          },
          "execution_count": 91
        }
      ]
    },
    {
      "cell_type": "code",
      "metadata": {
        "colab": {
          "base_uri": "https://localhost:8080/"
        },
        "id": "oRhMjSU1rePn",
        "outputId": "f5a01bc8-a5ef-4c5f-c241-6da5fc44917f"
      },
      "source": [
        "x_train['hour'].nunique()"
      ],
      "execution_count": 29,
      "outputs": [
        {
          "output_type": "execute_result",
          "data": {
            "text/plain": [
              "24"
            ]
          },
          "metadata": {
            "tags": []
          },
          "execution_count": 29
        }
      ]
    },
    {
      "cell_type": "markdown",
      "metadata": {
        "id": "jGXgRl3Yry40"
      },
      "source": [
        "We see that the input to the embeddings are plus one from thier unique values"
      ]
    },
    {
      "cell_type": "code",
      "metadata": {
        "colab": {
          "base_uri": "https://localhost:8080/"
        },
        "id": "SUWq-anGrjXZ",
        "outputId": "9b144710-5c02-4f04-a3d9-d6529368309b"
      },
      "source": [
        "x = learner.model.embeds[1]\n",
        "x"
      ],
      "execution_count": 30,
      "outputs": [
        {
          "output_type": "execute_result",
          "data": {
            "text/plain": [
              "Embedding(25, 10)"
            ]
          },
          "metadata": {
            "tags": []
          },
          "execution_count": 30
        }
      ]
    },
    {
      "cell_type": "code",
      "metadata": {
        "id": "N0_QdV3NtxAV"
      },
      "source": [
        "import torch\n",
        "\n",
        "\n",
        "# Just right before the actual usage\n",
        "device = torch.device('cuda' if torch.cuda.is_available() else 'cpu')\n"
      ],
      "execution_count": 31,
      "outputs": []
    },
    {
      "cell_type": "code",
      "metadata": {
        "id": "9s9YdYmstUVT"
      },
      "source": [
        "df_main['hour'] = torch.tensor(df_main['hour'].values).to(device).long()"
      ],
      "execution_count": null,
      "outputs": []
    },
    {
      "cell_type": "code",
      "metadata": {
        "colab": {
          "base_uri": "https://localhost:8080/",
          "height": 167
        },
        "id": "EuqMUUgiSr_W",
        "outputId": "7b52faac-f5b6-4d00-f2ed-538fb426a3e1"
      },
      "source": [
        "x_train['Asin'] = torch.tensor(x_train['Asin']).to(device).long()"
      ],
      "execution_count": 37,
      "outputs": [
        {
          "output_type": "error",
          "ename": "ValueError",
          "evalue": "ignored",
          "traceback": [
            "\u001b[0;31m---------------------------------------------------------------------------\u001b[0m",
            "\u001b[0;31mValueError\u001b[0m                                Traceback (most recent call last)",
            "\u001b[0;32m<ipython-input-37-e1482b701aae>\u001b[0m in \u001b[0;36m<module>\u001b[0;34m()\u001b[0m\n\u001b[0;32m----> 1\u001b[0;31m \u001b[0mx_train\u001b[0m\u001b[0;34m[\u001b[0m\u001b[0;34m'Asin'\u001b[0m\u001b[0;34m]\u001b[0m \u001b[0;34m=\u001b[0m \u001b[0mtorch\u001b[0m\u001b[0;34m.\u001b[0m\u001b[0mtensor\u001b[0m\u001b[0;34m(\u001b[0m\u001b[0mx_train\u001b[0m\u001b[0;34m[\u001b[0m\u001b[0;34m'Asin'\u001b[0m\u001b[0;34m]\u001b[0m\u001b[0;34m)\u001b[0m\u001b[0;34m.\u001b[0m\u001b[0mto\u001b[0m\u001b[0;34m(\u001b[0m\u001b[0mdevice\u001b[0m\u001b[0;34m)\u001b[0m\u001b[0;34m.\u001b[0m\u001b[0mlong\u001b[0m\u001b[0;34m(\u001b[0m\u001b[0;34m)\u001b[0m\u001b[0;34m\u001b[0m\u001b[0;34m\u001b[0m\u001b[0m\n\u001b[0m",
            "\u001b[0;31mValueError\u001b[0m: too many dimensions 'Series'"
          ]
        }
      ]
    },
    {
      "cell_type": "code",
      "metadata": {
        "colab": {
          "base_uri": "https://localhost:8080/"
        },
        "id": "Z0f0lNTWTMA8",
        "outputId": "2f158224-157c-476d-e331-885f4db18a24"
      },
      "source": [
        "x_train['Asin']"
      ],
      "execution_count": 38,
      "outputs": [
        {
          "output_type": "execute_result",
          "data": {
            "text/plain": [
              "0       2\n",
              "1       8\n",
              "2      28\n",
              "3       8\n",
              "4      22\n",
              "       ..\n",
              "407    15\n",
              "408     8\n",
              "409     9\n",
              "410     7\n",
              "411    15\n",
              "Name: Asin, Length: 7517, dtype: int8"
            ]
          },
          "metadata": {
            "tags": []
          },
          "execution_count": 38
        }
      ]
    },
    {
      "cell_type": "code",
      "metadata": {
        "id": "vHl9tLAEsCxO",
        "colab": {
          "base_uri": "https://localhost:8080/",
          "height": 306
        },
        "outputId": "9e793698-6c4f-4222-85c5-b1da2ed26c04"
      },
      "source": [
        "emb_hour = x(tensor(df_main['Asin']))"
      ],
      "execution_count": 33,
      "outputs": [
        {
          "output_type": "error",
          "ename": "TypeError",
          "evalue": "ignored",
          "traceback": [
            "\u001b[0;31m---------------------------------------------------------------------------\u001b[0m",
            "\u001b[0;31mTypeError\u001b[0m                                 Traceback (most recent call last)",
            "\u001b[0;32m<ipython-input-33-5e6dbae04239>\u001b[0m in \u001b[0;36m<module>\u001b[0;34m()\u001b[0m\n\u001b[0;32m----> 1\u001b[0;31m \u001b[0memb_hour\u001b[0m \u001b[0;34m=\u001b[0m \u001b[0mx\u001b[0m\u001b[0;34m(\u001b[0m\u001b[0mtensor\u001b[0m\u001b[0;34m(\u001b[0m\u001b[0mdf_main\u001b[0m\u001b[0;34m[\u001b[0m\u001b[0;34m'Asin'\u001b[0m\u001b[0;34m]\u001b[0m\u001b[0;34m)\u001b[0m\u001b[0;34m)\u001b[0m\u001b[0;34m\u001b[0m\u001b[0;34m\u001b[0m\u001b[0m\n\u001b[0m",
            "\u001b[0;32m/usr/local/lib/python3.7/dist-packages/fastai/torch_core.py\u001b[0m in \u001b[0;36mtensor\u001b[0;34m(x, *rest, **kwargs)\u001b[0m\n\u001b[1;32m    131\u001b[0m            \u001b[0;32melse\u001b[0m \u001b[0mtorch\u001b[0m\u001b[0;34m.\u001b[0m\u001b[0mtensor\u001b[0m\u001b[0;34m(\u001b[0m\u001b[0mx\u001b[0m\u001b[0;34m,\u001b[0m \u001b[0;34m**\u001b[0m\u001b[0mkwargs\u001b[0m\u001b[0;34m)\u001b[0m \u001b[0;32mif\u001b[0m \u001b[0misinstance\u001b[0m\u001b[0;34m(\u001b[0m\u001b[0mx\u001b[0m\u001b[0;34m,\u001b[0m \u001b[0;34m(\u001b[0m\u001b[0mtuple\u001b[0m\u001b[0;34m,\u001b[0m\u001b[0mlist\u001b[0m\u001b[0;34m)\u001b[0m\u001b[0;34m)\u001b[0m\u001b[0;34m\u001b[0m\u001b[0;34m\u001b[0m\u001b[0m\n\u001b[1;32m    132\u001b[0m            \u001b[0;32melse\u001b[0m \u001b[0m_array2tensor\u001b[0m\u001b[0;34m(\u001b[0m\u001b[0mx\u001b[0m\u001b[0;34m)\u001b[0m \u001b[0;32mif\u001b[0m \u001b[0misinstance\u001b[0m\u001b[0;34m(\u001b[0m\u001b[0mx\u001b[0m\u001b[0;34m,\u001b[0m \u001b[0mndarray\u001b[0m\u001b[0;34m)\u001b[0m\u001b[0;34m\u001b[0m\u001b[0;34m\u001b[0m\u001b[0m\n\u001b[0;32m--> 133\u001b[0;31m            \u001b[0;32melse\u001b[0m \u001b[0mas_tensor\u001b[0m\u001b[0;34m(\u001b[0m\u001b[0mx\u001b[0m\u001b[0;34m.\u001b[0m\u001b[0mvalues\u001b[0m\u001b[0;34m,\u001b[0m \u001b[0;34m**\u001b[0m\u001b[0mkwargs\u001b[0m\u001b[0;34m)\u001b[0m \u001b[0;32mif\u001b[0m \u001b[0misinstance\u001b[0m\u001b[0;34m(\u001b[0m\u001b[0mx\u001b[0m\u001b[0;34m,\u001b[0m \u001b[0;34m(\u001b[0m\u001b[0mpd\u001b[0m\u001b[0;34m.\u001b[0m\u001b[0mSeries\u001b[0m\u001b[0;34m,\u001b[0m \u001b[0mpd\u001b[0m\u001b[0;34m.\u001b[0m\u001b[0mDataFrame\u001b[0m\u001b[0;34m)\u001b[0m\u001b[0;34m)\u001b[0m\u001b[0;34m\u001b[0m\u001b[0;34m\u001b[0m\u001b[0m\n\u001b[0m\u001b[1;32m    134\u001b[0m \u001b[0;31m#            else as_tensor(array(x, **kwargs)) if hasattr(x, '__array__') or is_iter(x)\u001b[0m\u001b[0;34m\u001b[0m\u001b[0;34m\u001b[0m\u001b[0;34m\u001b[0m\u001b[0m\n\u001b[1;32m    135\u001b[0m            else _array2tensor(array(x), **kwargs))\n",
            "\u001b[0;31mTypeError\u001b[0m: can't convert np.ndarray of type numpy.object_. The only supported types are: float64, float32, float16, complex64, complex128, int64, int32, int16, int8, uint8, and bool."
          ]
        }
      ]
    },
    {
      "cell_type": "code",
      "metadata": {
        "id": "SxwIIJfmsgev"
      },
      "source": [
        "new_df = df_main.copy()"
      ],
      "execution_count": null,
      "outputs": []
    },
    {
      "cell_type": "code",
      "metadata": {
        "id": "3HVZMuzjv6Un"
      },
      "source": [
        "tensor1 = tensor1.detach().numpy()"
      ],
      "execution_count": null,
      "outputs": []
    },
    {
      "cell_type": "code",
      "metadata": {
        "colab": {
          "base_uri": "https://localhost:8080/"
        },
        "id": "zOwnHBTQ0dWP",
        "outputId": "572e6afa-df6c-4c34-8b30-2238f4f68a1d"
      },
      "source": [
        "embedding"
      ],
      "execution_count": null,
      "outputs": [
        {
          "output_type": "execute_result",
          "data": {
            "text/plain": [
              "Embedding(25, 10)"
            ]
          },
          "metadata": {
            "tags": []
          },
          "execution_count": 153
        }
      ]
    },
    {
      "cell_type": "code",
      "metadata": {
        "colab": {
          "base_uri": "https://localhost:8080/"
        },
        "id": "CLyKGDuy0Ydt",
        "outputId": "59a697af-7e90-4bdd-b4eb-1839f6b17158"
      },
      "source": [
        "embedding.embedding_dim"
      ],
      "execution_count": null,
      "outputs": [
        {
          "output_type": "execute_result",
          "data": {
            "text/plain": [
              "10"
            ]
          },
          "metadata": {
            "tags": []
          },
          "execution_count": 152
        }
      ]
    },
    {
      "cell_type": "code",
      "metadata": {
        "id": "TTaa15lE2Pjc"
      },
      "source": [
        "embedding_cols = ['Asin','hour','Dayofweek',\n",
        " 'Month',\n",
        " 'Day',\n",
        " 'Week',\n",
        " 'Year',]"
      ],
      "execution_count": null,
      "outputs": []
    },
    {
      "cell_type": "code",
      "metadata": {
        "id": "5avgbQI8uJ28"
      },
      "source": [
        "new_df = pd.DataFrame()\n",
        "\n",
        "# embedding = learner.model.embeds[1]\n",
        "# new_column = embedding(tensor(df_main['hour']))\n",
        "# new_column = new_column.detach().numpy()\n",
        "\n",
        "for i,column in enumerate(embedding_cols):\n",
        "  embedding = learner.model.embeds[i]\n",
        "  new_column_with_embeds = embedding(tensor(df_main[column]))\n",
        "  new_column_with_embeds = new_column_with_embeds.detach().numpy()\n",
        "  \n",
        "  for e_dim in range(embedding.embedding_dim):\n",
        "    new_df[column+f'_{e_dim}'] = new_column[:,e_dim]\n"
      ],
      "execution_count": null,
      "outputs": []
    },
    {
      "cell_type": "code",
      "metadata": {
        "colab": {
          "base_uri": "https://localhost:8080/"
        },
        "id": "vaNawAW289sS",
        "outputId": "0be25c96-4bcc-452d-b89e-8eaa94829d78"
      },
      "source": [
        "embedding(tensor(df_main['hour']))"
      ],
      "execution_count": null,
      "outputs": [
        {
          "output_type": "execute_result",
          "data": {
            "text/plain": [
              "tensor([[ 0.2557,  0.0949, -0.0066,  ..., -0.1167,  0.1894, -0.0333],\n",
              "        [ 0.3026,  0.2318,  0.1102,  ...,  0.1051,  0.2520, -0.1996],\n",
              "        [ 0.0937,  0.1360, -0.1215,  ..., -0.0729,  0.0024,  0.0621],\n",
              "        ...,\n",
              "        [ 0.2557,  0.0949, -0.0066,  ..., -0.1167,  0.1894, -0.0333],\n",
              "        [-0.0083, -0.0026, -0.0106,  ..., -0.0025, -0.0057,  0.0057],\n",
              "        [-0.1687, -0.2522, -0.5845,  ..., -0.1915, -0.1959,  0.2607]], grad_fn=<EmbeddingBackward>)"
            ]
          },
          "metadata": {
            "tags": []
          },
          "execution_count": 170
        }
      ]
    },
    {
      "cell_type": "code",
      "metadata": {
        "colab": {
          "base_uri": "https://localhost:8080/",
          "height": 202
        },
        "id": "Mp73QpLu8a9v",
        "outputId": "0c9dc805-decf-40b8-dc29-b31dc0969b55"
      },
      "source": [
        "new_df = pd.DataFrame()\n",
        "embedding = learner.model.embeds[0]\n",
        "torch.tensor(train).to(torch.int64)\n",
        "new_column_with_embeds = embedding(tensor(x_train['Asin']).to(torch.int64)) # what if we use x_train\n",
        "# new_column_with_embeds = new_column_with_embeds.detach().numpy()\n",
        "\n",
        "for e_dim in range(embedding.embedding_dim):\n",
        "  new_df[column+f'_{e_dim}'] = new_column[:,e_dim]"
      ],
      "execution_count": null,
      "outputs": [
        {
          "output_type": "error",
          "ename": "IndexError",
          "evalue": "ignored",
          "traceback": [
            "\u001b[0;31m---------------------------------------------------------------------------\u001b[0m",
            "\u001b[0;31mIndexError\u001b[0m                                Traceback (most recent call last)",
            "\u001b[0;32m<ipython-input-176-aa68764e7aea>\u001b[0m in \u001b[0;36m<module>\u001b[0;34m()\u001b[0m\n\u001b[1;32m      6\u001b[0m \u001b[0;34m\u001b[0m\u001b[0m\n\u001b[1;32m      7\u001b[0m \u001b[0;32mfor\u001b[0m \u001b[0me_dim\u001b[0m \u001b[0;32min\u001b[0m \u001b[0mrange\u001b[0m\u001b[0;34m(\u001b[0m\u001b[0membedding\u001b[0m\u001b[0;34m.\u001b[0m\u001b[0membedding_dim\u001b[0m\u001b[0;34m)\u001b[0m\u001b[0;34m:\u001b[0m\u001b[0;34m\u001b[0m\u001b[0;34m\u001b[0m\u001b[0m\n\u001b[0;32m----> 8\u001b[0;31m   \u001b[0mnew_df\u001b[0m\u001b[0;34m[\u001b[0m\u001b[0mcolumn\u001b[0m\u001b[0;34m+\u001b[0m\u001b[0;34mf'_{e_dim}'\u001b[0m\u001b[0;34m]\u001b[0m \u001b[0;34m=\u001b[0m \u001b[0mnew_column\u001b[0m\u001b[0;34m[\u001b[0m\u001b[0;34m:\u001b[0m\u001b[0;34m,\u001b[0m\u001b[0me_dim\u001b[0m\u001b[0;34m]\u001b[0m\u001b[0;34m\u001b[0m\u001b[0;34m\u001b[0m\u001b[0m\n\u001b[0m",
            "\u001b[0;31mIndexError\u001b[0m: index 10 is out of bounds for axis 1 with size 10"
          ]
        }
      ]
    },
    {
      "cell_type": "code",
      "metadata": {
        "colab": {
          "base_uri": "https://localhost:8080/",
          "height": 424
        },
        "id": "HlgOdfnW9_ih",
        "outputId": "a8d359af-0cd4-4ad8-c6d3-38273a34381d"
      },
      "source": [
        "x_train"
      ],
      "execution_count": null,
      "outputs": [
        {
          "output_type": "execute_result",
          "data": {
            "text/html": [
              "<div>\n",
              "<style scoped>\n",
              "    .dataframe tbody tr th:only-of-type {\n",
              "        vertical-align: middle;\n",
              "    }\n",
              "\n",
              "    .dataframe tbody tr th {\n",
              "        vertical-align: top;\n",
              "    }\n",
              "\n",
              "    .dataframe thead th {\n",
              "        text-align: right;\n",
              "    }\n",
              "</style>\n",
              "<table border=\"1\" class=\"dataframe\">\n",
              "  <thead>\n",
              "    <tr style=\"text-align: right;\">\n",
              "      <th></th>\n",
              "      <th>Asin</th>\n",
              "      <th>hour</th>\n",
              "      <th>Dayofweek</th>\n",
              "      <th>Month</th>\n",
              "      <th>...</th>\n",
              "      <th>price</th>\n",
              "      <th>Invoice Amount</th>\n",
              "      <th>Dayofyear</th>\n",
              "      <th>Elapsed</th>\n",
              "    </tr>\n",
              "  </thead>\n",
              "  <tbody>\n",
              "    <tr>\n",
              "      <th>0</th>\n",
              "      <td>2</td>\n",
              "      <td>13</td>\n",
              "      <td>1</td>\n",
              "      <td>1</td>\n",
              "      <td>...</td>\n",
              "      <td>1.289015</td>\n",
              "      <td>0.490494</td>\n",
              "      <td>-1.409860</td>\n",
              "      <td>0.704794</td>\n",
              "    </tr>\n",
              "    <tr>\n",
              "      <th>1</th>\n",
              "      <td>8</td>\n",
              "      <td>21</td>\n",
              "      <td>5</td>\n",
              "      <td>1</td>\n",
              "      <td>...</td>\n",
              "      <td>-0.424478</td>\n",
              "      <td>-0.522110</td>\n",
              "      <td>-1.369625</td>\n",
              "      <td>0.724514</td>\n",
              "    </tr>\n",
              "    <tr>\n",
              "      <th>2</th>\n",
              "      <td>28</td>\n",
              "      <td>23</td>\n",
              "      <td>6</td>\n",
              "      <td>1</td>\n",
              "      <td>...</td>\n",
              "      <td>0.399419</td>\n",
              "      <td>-0.035220</td>\n",
              "      <td>-1.359566</td>\n",
              "      <td>0.729445</td>\n",
              "    </tr>\n",
              "    <tr>\n",
              "      <th>3</th>\n",
              "      <td>8</td>\n",
              "      <td>11</td>\n",
              "      <td>1</td>\n",
              "      <td>1</td>\n",
              "      <td>...</td>\n",
              "      <td>-0.318407</td>\n",
              "      <td>-0.459426</td>\n",
              "      <td>-1.339448</td>\n",
              "      <td>0.739305</td>\n",
              "    </tr>\n",
              "    <tr>\n",
              "      <th>4</th>\n",
              "      <td>22</td>\n",
              "      <td>13</td>\n",
              "      <td>2</td>\n",
              "      <td>1</td>\n",
              "      <td>...</td>\n",
              "      <td>0.361943</td>\n",
              "      <td>-0.057367</td>\n",
              "      <td>-1.329389</td>\n",
              "      <td>0.744235</td>\n",
              "    </tr>\n",
              "    <tr>\n",
              "      <th>...</th>\n",
              "      <td>...</td>\n",
              "      <td>...</td>\n",
              "      <td>...</td>\n",
              "      <td>...</td>\n",
              "      <td>...</td>\n",
              "      <td>...</td>\n",
              "      <td>...</td>\n",
              "      <td>...</td>\n",
              "      <td>...</td>\n",
              "    </tr>\n",
              "    <tr>\n",
              "      <th>407</th>\n",
              "      <td>15</td>\n",
              "      <td>22</td>\n",
              "      <td>2</td>\n",
              "      <td>8</td>\n",
              "      <td>...</td>\n",
              "      <td>-0.019352</td>\n",
              "      <td>-0.282697</td>\n",
              "      <td>1.587664</td>\n",
              "      <td>-1.429944</td>\n",
              "    </tr>\n",
              "    <tr>\n",
              "      <th>408</th>\n",
              "      <td>8</td>\n",
              "      <td>14</td>\n",
              "      <td>3</td>\n",
              "      <td>8</td>\n",
              "      <td>...</td>\n",
              "      <td>0.167558</td>\n",
              "      <td>-0.172241</td>\n",
              "      <td>1.597723</td>\n",
              "      <td>-1.425014</td>\n",
              "    </tr>\n",
              "    <tr>\n",
              "      <th>409</th>\n",
              "      <td>9</td>\n",
              "      <td>13</td>\n",
              "      <td>3</td>\n",
              "      <td>8</td>\n",
              "      <td>...</td>\n",
              "      <td>-1.619297</td>\n",
              "      <td>-1.228199</td>\n",
              "      <td>1.597723</td>\n",
              "      <td>-1.425014</td>\n",
              "    </tr>\n",
              "    <tr>\n",
              "      <th>410</th>\n",
              "      <td>7</td>\n",
              "      <td>1</td>\n",
              "      <td>4</td>\n",
              "      <td>8</td>\n",
              "      <td>...</td>\n",
              "      <td>0.735762</td>\n",
              "      <td>0.163545</td>\n",
              "      <td>1.607782</td>\n",
              "      <td>-1.420084</td>\n",
              "    </tr>\n",
              "    <tr>\n",
              "      <th>411</th>\n",
              "      <td>15</td>\n",
              "      <td>14</td>\n",
              "      <td>4</td>\n",
              "      <td>8</td>\n",
              "      <td>...</td>\n",
              "      <td>-0.019352</td>\n",
              "      <td>-0.282697</td>\n",
              "      <td>1.607782</td>\n",
              "      <td>-1.420084</td>\n",
              "    </tr>\n",
              "  </tbody>\n",
              "</table>\n",
              "<p>7517 rows × 18 columns</p>\n",
              "</div>"
            ],
            "text/plain": [
              "     Asin  hour  Dayofweek  Month  ...     price  Invoice Amount  Dayofyear  \\\n",
              "0       2    13          1      1  ...  1.289015        0.490494  -1.409860   \n",
              "1       8    21          5      1  ... -0.424478       -0.522110  -1.369625   \n",
              "2      28    23          6      1  ...  0.399419       -0.035220  -1.359566   \n",
              "3       8    11          1      1  ... -0.318407       -0.459426  -1.339448   \n",
              "4      22    13          2      1  ...  0.361943       -0.057367  -1.329389   \n",
              "..    ...   ...        ...    ...  ...       ...             ...        ...   \n",
              "407    15    22          2      8  ... -0.019352       -0.282697   1.587664   \n",
              "408     8    14          3      8  ...  0.167558       -0.172241   1.597723   \n",
              "409     9    13          3      8  ... -1.619297       -1.228199   1.597723   \n",
              "410     7     1          4      8  ...  0.735762        0.163545   1.607782   \n",
              "411    15    14          4      8  ... -0.019352       -0.282697   1.607782   \n",
              "\n",
              "      Elapsed  \n",
              "0    0.704794  \n",
              "1    0.724514  \n",
              "2    0.729445  \n",
              "3    0.739305  \n",
              "4    0.744235  \n",
              "..        ...  \n",
              "407 -1.429944  \n",
              "408 -1.425014  \n",
              "409 -1.425014  \n",
              "410 -1.420084  \n",
              "411 -1.420084  \n",
              "\n",
              "[7517 rows x 18 columns]"
            ]
          },
          "metadata": {
            "tags": []
          },
          "execution_count": 174
        }
      ]
    },
    {
      "cell_type": "code",
      "metadata": {
        "id": "HFwb6q1v6bjs"
      },
      "source": [
        "new_df = pd.DataFrame()\n",
        "column = 'hour'\n",
        "embedding = learner.model.embeds[1]\n",
        "new_column_with_embeds = embedding(tensor(df_main['hour']))\n",
        "# new_column_with_embeds = new_column.detach().numpy()\n",
        "\n",
        "\n",
        "for e_dim in range(embedding.embedding_dim):\n",
        "  new_df[column+f'_{e_dim}'] = new_column[:,e_dim]"
      ],
      "execution_count": null,
      "outputs": []
    },
    {
      "cell_type": "code",
      "metadata": {
        "colab": {
          "base_uri": "https://localhost:8080/"
        },
        "id": "QcQ9ffvd9q6x",
        "outputId": "68e08b6f-0445-4842-85a1-c4a4dace69fe"
      },
      "source": [
        ""
      ],
      "execution_count": null,
      "outputs": [
        {
          "output_type": "execute_result",
          "data": {
            "text/plain": [
              "torch.Size([10946])"
            ]
          },
          "metadata": {
            "tags": []
          },
          "execution_count": 172
        }
      ]
    },
    {
      "cell_type": "code",
      "metadata": {
        "colab": {
          "base_uri": "https://localhost:8080/"
        },
        "id": "ADpmQCFp7ZQQ",
        "outputId": "c34f1255-91cb-4c4a-865e-5fc41ea12016"
      },
      "source": [
        "embedding"
      ],
      "execution_count": null,
      "outputs": [
        {
          "output_type": "execute_result",
          "data": {
            "text/plain": [
              "Embedding(25, 10)"
            ]
          },
          "metadata": {
            "tags": []
          },
          "execution_count": 163
        }
      ]
    },
    {
      "cell_type": "code",
      "metadata": {
        "colab": {
          "base_uri": "https://localhost:8080/",
          "height": 424
        },
        "id": "BgoechX77Ozj",
        "outputId": "ad1b57c2-d1ea-47ad-d540-e47ffa9d4ef9"
      },
      "source": [
        "new_df"
      ],
      "execution_count": null,
      "outputs": [
        {
          "output_type": "execute_result",
          "data": {
            "text/html": [
              "<div>\n",
              "<style scoped>\n",
              "    .dataframe tbody tr th:only-of-type {\n",
              "        vertical-align: middle;\n",
              "    }\n",
              "\n",
              "    .dataframe tbody tr th {\n",
              "        vertical-align: top;\n",
              "    }\n",
              "\n",
              "    .dataframe thead th {\n",
              "        text-align: right;\n",
              "    }\n",
              "</style>\n",
              "<table border=\"1\" class=\"dataframe\">\n",
              "  <thead>\n",
              "    <tr style=\"text-align: right;\">\n",
              "      <th></th>\n",
              "      <th>hour_0</th>\n",
              "      <th>hour_1</th>\n",
              "      <th>hour_2</th>\n",
              "      <th>hour_3</th>\n",
              "      <th>...</th>\n",
              "      <th>hour_6</th>\n",
              "      <th>hour_7</th>\n",
              "      <th>hour_8</th>\n",
              "      <th>hour_9</th>\n",
              "    </tr>\n",
              "  </thead>\n",
              "  <tbody>\n",
              "    <tr>\n",
              "      <th>0</th>\n",
              "      <td>0.255740</td>\n",
              "      <td>0.094882</td>\n",
              "      <td>-0.006575</td>\n",
              "      <td>-0.127075</td>\n",
              "      <td>...</td>\n",
              "      <td>0.288220</td>\n",
              "      <td>-0.116660</td>\n",
              "      <td>0.189395</td>\n",
              "      <td>-0.033286</td>\n",
              "    </tr>\n",
              "    <tr>\n",
              "      <th>1</th>\n",
              "      <td>0.302560</td>\n",
              "      <td>0.231827</td>\n",
              "      <td>0.110173</td>\n",
              "      <td>-0.133302</td>\n",
              "      <td>...</td>\n",
              "      <td>0.310031</td>\n",
              "      <td>0.105129</td>\n",
              "      <td>0.252028</td>\n",
              "      <td>-0.199555</td>\n",
              "    </tr>\n",
              "    <tr>\n",
              "      <th>2</th>\n",
              "      <td>0.093729</td>\n",
              "      <td>0.135952</td>\n",
              "      <td>-0.121502</td>\n",
              "      <td>-0.194912</td>\n",
              "      <td>...</td>\n",
              "      <td>0.143010</td>\n",
              "      <td>-0.072886</td>\n",
              "      <td>0.002360</td>\n",
              "      <td>0.062139</td>\n",
              "    </tr>\n",
              "    <tr>\n",
              "      <th>3</th>\n",
              "      <td>-0.054694</td>\n",
              "      <td>-0.092417</td>\n",
              "      <td>-0.004863</td>\n",
              "      <td>0.086216</td>\n",
              "      <td>...</td>\n",
              "      <td>-0.041270</td>\n",
              "      <td>-0.204457</td>\n",
              "      <td>-0.091915</td>\n",
              "      <td>0.186460</td>\n",
              "    </tr>\n",
              "    <tr>\n",
              "      <th>4</th>\n",
              "      <td>0.255740</td>\n",
              "      <td>0.094882</td>\n",
              "      <td>-0.006575</td>\n",
              "      <td>-0.127075</td>\n",
              "      <td>...</td>\n",
              "      <td>0.288220</td>\n",
              "      <td>-0.116660</td>\n",
              "      <td>0.189395</td>\n",
              "      <td>-0.033286</td>\n",
              "    </tr>\n",
              "    <tr>\n",
              "      <th>...</th>\n",
              "      <td>...</td>\n",
              "      <td>...</td>\n",
              "      <td>...</td>\n",
              "      <td>...</td>\n",
              "      <td>...</td>\n",
              "      <td>...</td>\n",
              "      <td>...</td>\n",
              "      <td>...</td>\n",
              "      <td>...</td>\n",
              "    </tr>\n",
              "    <tr>\n",
              "      <th>10941</th>\n",
              "      <td>-0.000570</td>\n",
              "      <td>-0.002534</td>\n",
              "      <td>-0.071676</td>\n",
              "      <td>0.050601</td>\n",
              "      <td>...</td>\n",
              "      <td>0.072298</td>\n",
              "      <td>0.062107</td>\n",
              "      <td>-0.020205</td>\n",
              "      <td>0.107215</td>\n",
              "    </tr>\n",
              "    <tr>\n",
              "      <th>10942</th>\n",
              "      <td>-0.168659</td>\n",
              "      <td>-0.252158</td>\n",
              "      <td>-0.584472</td>\n",
              "      <td>0.177127</td>\n",
              "      <td>...</td>\n",
              "      <td>-0.070854</td>\n",
              "      <td>-0.191471</td>\n",
              "      <td>-0.195931</td>\n",
              "      <td>0.260683</td>\n",
              "    </tr>\n",
              "    <tr>\n",
              "      <th>10943</th>\n",
              "      <td>0.255740</td>\n",
              "      <td>0.094882</td>\n",
              "      <td>-0.006575</td>\n",
              "      <td>-0.127075</td>\n",
              "      <td>...</td>\n",
              "      <td>0.288220</td>\n",
              "      <td>-0.116660</td>\n",
              "      <td>0.189395</td>\n",
              "      <td>-0.033286</td>\n",
              "    </tr>\n",
              "    <tr>\n",
              "      <th>10944</th>\n",
              "      <td>-0.008319</td>\n",
              "      <td>-0.002612</td>\n",
              "      <td>-0.010574</td>\n",
              "      <td>0.015636</td>\n",
              "      <td>...</td>\n",
              "      <td>0.012235</td>\n",
              "      <td>-0.002479</td>\n",
              "      <td>-0.005693</td>\n",
              "      <td>0.005718</td>\n",
              "    </tr>\n",
              "    <tr>\n",
              "      <th>10945</th>\n",
              "      <td>-0.168659</td>\n",
              "      <td>-0.252158</td>\n",
              "      <td>-0.584472</td>\n",
              "      <td>0.177127</td>\n",
              "      <td>...</td>\n",
              "      <td>-0.070854</td>\n",
              "      <td>-0.191471</td>\n",
              "      <td>-0.195931</td>\n",
              "      <td>0.260683</td>\n",
              "    </tr>\n",
              "  </tbody>\n",
              "</table>\n",
              "<p>10946 rows × 10 columns</p>\n",
              "</div>"
            ],
            "text/plain": [
              "         hour_0    hour_1    hour_2    hour_3  ...    hour_6    hour_7  \\\n",
              "0      0.255740  0.094882 -0.006575 -0.127075  ...  0.288220 -0.116660   \n",
              "1      0.302560  0.231827  0.110173 -0.133302  ...  0.310031  0.105129   \n",
              "2      0.093729  0.135952 -0.121502 -0.194912  ...  0.143010 -0.072886   \n",
              "3     -0.054694 -0.092417 -0.004863  0.086216  ... -0.041270 -0.204457   \n",
              "4      0.255740  0.094882 -0.006575 -0.127075  ...  0.288220 -0.116660   \n",
              "...         ...       ...       ...       ...  ...       ...       ...   \n",
              "10941 -0.000570 -0.002534 -0.071676  0.050601  ...  0.072298  0.062107   \n",
              "10942 -0.168659 -0.252158 -0.584472  0.177127  ... -0.070854 -0.191471   \n",
              "10943  0.255740  0.094882 -0.006575 -0.127075  ...  0.288220 -0.116660   \n",
              "10944 -0.008319 -0.002612 -0.010574  0.015636  ...  0.012235 -0.002479   \n",
              "10945 -0.168659 -0.252158 -0.584472  0.177127  ... -0.070854 -0.191471   \n",
              "\n",
              "         hour_8    hour_9  \n",
              "0      0.189395 -0.033286  \n",
              "1      0.252028 -0.199555  \n",
              "2      0.002360  0.062139  \n",
              "3     -0.091915  0.186460  \n",
              "4      0.189395 -0.033286  \n",
              "...         ...       ...  \n",
              "10941 -0.020205  0.107215  \n",
              "10942 -0.195931  0.260683  \n",
              "10943  0.189395 -0.033286  \n",
              "10944 -0.005693  0.005718  \n",
              "10945 -0.195931  0.260683  \n",
              "\n",
              "[10946 rows x 10 columns]"
            ]
          },
          "metadata": {
            "tags": []
          },
          "execution_count": 161
        }
      ]
    },
    {
      "cell_type": "markdown",
      "metadata": {
        "id": "mJYNbVirTkG1"
      },
      "source": [
        "From here"
      ]
    },
    {
      "cell_type": "code",
      "metadata": {
        "id": "fEa4WODix_47"
      },
      "source": [
        "new_df = pd.DataFrame()\n",
        "\n",
        "embedding = learner.model.embeds[1]\n",
        "df_main['hour'] = torch.tensor(df_main['hour'].values).to(device).long()\n",
        "new_column = embedding(tensor(df_main['hour']))\n",
        "new_column = new_column.detach().numpy()\n",
        "column = 'hour'\n",
        "\n",
        "for e_dim in range(embedding.embedding_dim):\n",
        "  new_df[column+f'_{e_dim}'] = new_column[:,e_dim]"
      ],
      "execution_count": 44,
      "outputs": []
    },
    {
      "cell_type": "code",
      "metadata": {
        "colab": {
          "base_uri": "https://localhost:8080/"
        },
        "id": "foTxDT6tXGB9",
        "outputId": "156d469f-7b36-4b53-b420-b886a5f660b3"
      },
      "source": [
        "to.items['Asin']"
      ],
      "execution_count": 64,
      "outputs": [
        {
          "output_type": "execute_result",
          "data": {
            "text/plain": [
              "0       2\n",
              "1       8\n",
              "2      28\n",
              "3       8\n",
              "4      22\n",
              "       ..\n",
              "626    23\n",
              "627    23\n",
              "628    24\n",
              "629    26\n",
              "630    28\n",
              "Name: Asin, Length: 10946, dtype: int8"
            ]
          },
          "metadata": {
            "tags": []
          },
          "execution_count": 64
        }
      ]
    },
    {
      "cell_type": "markdown",
      "metadata": {
        "id": "LCYppS9rUOdD"
      },
      "source": [
        "Now lets try for asin"
      ]
    },
    {
      "cell_type": "code",
      "metadata": {
        "colab": {
          "base_uri": "https://localhost:8080/"
        },
        "id": "qft_11-4XjrN",
        "outputId": "1c69664b-65fd-4f3c-d0a7-2fec49c43cf3"
      },
      "source": [
        "embedding"
      ],
      "execution_count": 67,
      "outputs": [
        {
          "output_type": "execute_result",
          "data": {
            "text/plain": [
              "Embedding(47, 14)"
            ]
          },
          "metadata": {
            "tags": []
          },
          "execution_count": 67
        }
      ]
    },
    {
      "cell_type": "code",
      "metadata": {
        "id": "FRFTqVXd4E8C"
      },
      "source": [
        "new_df = pd.DataFrame()\n",
        "\n",
        "embedding = learner.model.embeds[0]\n",
        "to.items['Asin'] = torch.tensor(to.items['Asin'].values).to(device).long()\n",
        "\n",
        "new_column = embedding(tensor(to.items['Asin']))\n",
        "new_column = new_column.detach().numpy()\n",
        "column = 'Asin'\n",
        "\n",
        "for e_dim in range(embedding.embedding_dim):\n",
        "  new_df[column+f'_{e_dim}'] = new_column[:,e_dim]"
      ],
      "execution_count": 68,
      "outputs": []
    },
    {
      "cell_type": "code",
      "metadata": {
        "colab": {
          "base_uri": "https://localhost:8080/"
        },
        "id": "NcM2hHh7XrB2",
        "outputId": "c53c11ed-c0c3-4dd7-d470-2e93e4c2a864"
      },
      "source": [
        "new_column"
      ],
      "execution_count": 69,
      "outputs": [
        {
          "output_type": "execute_result",
          "data": {
            "text/plain": [
              "array([[-0.1112293 , -0.10478941,  0.06101205, ...,  0.09114592,  0.10860946, -0.0572797 ],\n",
              "       [-0.17556767, -0.16147259,  0.16866238, ...,  0.1177141 ,  0.14056583, -0.0107271 ],\n",
              "       [-0.18586454, -0.1967545 ,  0.19638252, ...,  0.09368202,  0.14295648,  0.04742916],\n",
              "       ...,\n",
              "       [-0.10704706, -0.06571718,  0.10671408, ...,  0.02558505,  0.09402873, -0.05045412],\n",
              "       [-0.1373377 , -0.07932267,  0.22286192, ...,  0.06765967,  0.05606185, -0.07137628],\n",
              "       [-0.18586454, -0.1967545 ,  0.19638252, ...,  0.09368202,  0.14295648,  0.04742916]], dtype=float32)"
            ]
          },
          "metadata": {
            "tags": []
          },
          "execution_count": 69
        }
      ]
    },
    {
      "cell_type": "code",
      "metadata": {
        "colab": {
          "base_uri": "https://localhost:8080/"
        },
        "id": "oZZXVL9BU5G7",
        "outputId": "47fbc575-253e-4ee2-91e5-405069174973"
      },
      "source": [
        "embedding"
      ],
      "execution_count": 52,
      "outputs": [
        {
          "output_type": "execute_result",
          "data": {
            "text/plain": [
              "Embedding(47, 14)"
            ]
          },
          "metadata": {
            "tags": []
          },
          "execution_count": 52
        }
      ]
    },
    {
      "cell_type": "code",
      "metadata": {
        "colab": {
          "base_uri": "https://localhost:8080/"
        },
        "id": "TX3FAZosUvSV",
        "outputId": "d8db255c-1c62-40b2-b4bb-27ecb4acdab0"
      },
      "source": [
        "new_column.shape"
      ],
      "execution_count": 53,
      "outputs": [
        {
          "output_type": "execute_result",
          "data": {
            "text/plain": [
              "(10946, 14)"
            ]
          },
          "metadata": {
            "tags": []
          },
          "execution_count": 53
        }
      ]
    },
    {
      "cell_type": "code",
      "metadata": {
        "colab": {
          "base_uri": "https://localhost:8080/"
        },
        "id": "Csad60IVUoVv",
        "outputId": "f4187197-5d7f-49b1-fccb-8b7526a70785"
      },
      "source": [
        "new_df.shape"
      ],
      "execution_count": 54,
      "outputs": [
        {
          "output_type": "execute_result",
          "data": {
            "text/plain": [
              "(10946, 14)"
            ]
          },
          "metadata": {
            "tags": []
          },
          "execution_count": 54
        }
      ]
    },
    {
      "cell_type": "markdown",
      "metadata": {
        "id": "2ruyoqzCVHcg"
      },
      "source": [
        "#### Creating Dataframe which holds all the embeddings"
      ]
    },
    {
      "cell_type": "code",
      "metadata": {
        "id": "HCOGlPTeVld6"
      },
      "source": [
        "embedding_cols = ['Asin','hour','Dayofweek','Month','Day','Week','Year']"
      ],
      "execution_count": 58,
      "outputs": []
    },
    {
      "cell_type": "code",
      "metadata": {
        "colab": {
          "base_uri": "https://localhost:8080/"
        },
        "id": "PHtTxveLVDkI",
        "outputId": "43a280fa-b511-4f33-a807-7554fa2af91d"
      },
      "source": [
        "new_df = pd.DataFrame()\n",
        "\n",
        "for i,col in enumerate(embedding_cols):\n",
        "  embedding = learner.model.embeds[i]\n",
        "\n",
        "  to.items[col] = torch.tensor(to.items[col].values).to(device).long()\n",
        "  print(col)\n",
        "  new_column = embedding(tensor(to.items[col]))\n",
        "  new_column = new_column.detach().numpy()\n",
        "  \n",
        "\n",
        "  for e_dim in range(embedding.embedding_dim):\n",
        "    new_df[col+f'_{e_dim}'] = new_column[:,e_dim]"
      ],
      "execution_count": 70,
      "outputs": [
        {
          "output_type": "stream",
          "text": [
            "Asin\n",
            "hour\n",
            "Dayofweek\n",
            "Month\n",
            "Day\n",
            "Week\n",
            "Year\n"
          ],
          "name": "stdout"
        }
      ]
    },
    {
      "cell_type": "code",
      "metadata": {
        "colab": {
          "base_uri": "https://localhost:8080/"
        },
        "id": "QKKeSgdrWkW2",
        "outputId": "0b722528-862d-4293-e342-119cdc78fa47"
      },
      "source": [
        "new_df.shape # there are total 63 embeddings"
      ],
      "execution_count": 72,
      "outputs": [
        {
          "output_type": "execute_result",
          "data": {
            "text/plain": [
              "(10946, 63)"
            ]
          },
          "metadata": {
            "tags": []
          },
          "execution_count": 72
        }
      ]
    },
    {
      "cell_type": "code",
      "metadata": {
        "colab": {
          "base_uri": "https://localhost:8080/",
          "height": 236
        },
        "id": "SRfpULwPaLW9",
        "outputId": "50f7d46f-fee1-4919-b6b9-0af358d7599b"
      },
      "source": [
        "new_df.head()"
      ],
      "execution_count": 75,
      "outputs": [
        {
          "output_type": "execute_result",
          "data": {
            "text/html": [
              "<div>\n",
              "<style scoped>\n",
              "    .dataframe tbody tr th:only-of-type {\n",
              "        vertical-align: middle;\n",
              "    }\n",
              "\n",
              "    .dataframe tbody tr th {\n",
              "        vertical-align: top;\n",
              "    }\n",
              "\n",
              "    .dataframe thead th {\n",
              "        text-align: right;\n",
              "    }\n",
              "</style>\n",
              "<table border=\"1\" class=\"dataframe\">\n",
              "  <thead>\n",
              "    <tr style=\"text-align: right;\">\n",
              "      <th></th>\n",
              "      <th>Asin_0</th>\n",
              "      <th>Asin_1</th>\n",
              "      <th>Asin_2</th>\n",
              "      <th>Asin_3</th>\n",
              "      <th>...</th>\n",
              "      <th>Week_13</th>\n",
              "      <th>Year_0</th>\n",
              "      <th>Year_1</th>\n",
              "      <th>Year_2</th>\n",
              "    </tr>\n",
              "  </thead>\n",
              "  <tbody>\n",
              "    <tr>\n",
              "      <th>0</th>\n",
              "      <td>-0.111229</td>\n",
              "      <td>-0.104789</td>\n",
              "      <td>0.061012</td>\n",
              "      <td>0.054159</td>\n",
              "      <td>...</td>\n",
              "      <td>0.055868</td>\n",
              "      <td>0.092636</td>\n",
              "      <td>-0.236494</td>\n",
              "      <td>0.131614</td>\n",
              "    </tr>\n",
              "    <tr>\n",
              "      <th>1</th>\n",
              "      <td>-0.175568</td>\n",
              "      <td>-0.161473</td>\n",
              "      <td>0.168662</td>\n",
              "      <td>0.058944</td>\n",
              "      <td>...</td>\n",
              "      <td>0.055868</td>\n",
              "      <td>0.092636</td>\n",
              "      <td>-0.236494</td>\n",
              "      <td>0.131614</td>\n",
              "    </tr>\n",
              "    <tr>\n",
              "      <th>2</th>\n",
              "      <td>-0.185865</td>\n",
              "      <td>-0.196755</td>\n",
              "      <td>0.196383</td>\n",
              "      <td>0.075671</td>\n",
              "      <td>...</td>\n",
              "      <td>0.055868</td>\n",
              "      <td>0.092636</td>\n",
              "      <td>-0.236494</td>\n",
              "      <td>0.131614</td>\n",
              "    </tr>\n",
              "    <tr>\n",
              "      <th>3</th>\n",
              "      <td>-0.175568</td>\n",
              "      <td>-0.161473</td>\n",
              "      <td>0.168662</td>\n",
              "      <td>0.058944</td>\n",
              "      <td>...</td>\n",
              "      <td>-0.062910</td>\n",
              "      <td>0.092636</td>\n",
              "      <td>-0.236494</td>\n",
              "      <td>0.131614</td>\n",
              "    </tr>\n",
              "    <tr>\n",
              "      <th>4</th>\n",
              "      <td>-0.132473</td>\n",
              "      <td>-0.083936</td>\n",
              "      <td>0.128898</td>\n",
              "      <td>0.138967</td>\n",
              "      <td>...</td>\n",
              "      <td>-0.062910</td>\n",
              "      <td>0.092636</td>\n",
              "      <td>-0.236494</td>\n",
              "      <td>0.131614</td>\n",
              "    </tr>\n",
              "  </tbody>\n",
              "</table>\n",
              "<p>5 rows × 63 columns</p>\n",
              "</div>"
            ],
            "text/plain": [
              "     Asin_0    Asin_1    Asin_2    Asin_3  ...   Week_13    Year_0    Year_1  \\\n",
              "0 -0.111229 -0.104789  0.061012  0.054159  ...  0.055868  0.092636 -0.236494   \n",
              "1 -0.175568 -0.161473  0.168662  0.058944  ...  0.055868  0.092636 -0.236494   \n",
              "2 -0.185865 -0.196755  0.196383  0.075671  ...  0.055868  0.092636 -0.236494   \n",
              "3 -0.175568 -0.161473  0.168662  0.058944  ... -0.062910  0.092636 -0.236494   \n",
              "4 -0.132473 -0.083936  0.128898  0.138967  ... -0.062910  0.092636 -0.236494   \n",
              "\n",
              "     Year_2  \n",
              "0  0.131614  \n",
              "1  0.131614  \n",
              "2  0.131614  \n",
              "3  0.131614  \n",
              "4  0.131614  \n",
              "\n",
              "[5 rows x 63 columns]"
            ]
          },
          "metadata": {
            "tags": []
          },
          "execution_count": 75
        }
      ]
    },
    {
      "cell_type": "markdown",
      "metadata": {
        "id": "x0WqJpWXZ9It"
      },
      "source": [
        "##### Merging the dataframes"
      ]
    },
    {
      "cell_type": "code",
      "metadata": {
        "colab": {
          "base_uri": "https://localhost:8080/"
        },
        "id": "as0aHiVxdUJn",
        "outputId": "6f6b78ac-a6e7-4d96-e2fd-9844fdfe69f8"
      },
      "source": [
        "df_main.shape"
      ],
      "execution_count": 87,
      "outputs": [
        {
          "output_type": "execute_result",
          "data": {
            "text/plain": [
              "(10946, 19)"
            ]
          },
          "metadata": {
            "tags": []
          },
          "execution_count": 87
        }
      ]
    },
    {
      "cell_type": "code",
      "metadata": {
        "id": "p_6XW50wawEL"
      },
      "source": [
        "for col in new_df.columns:\n",
        "  df_main[col] = new_df[col]\n",
        "\n",
        "for old_columns in embedding_cols:\n",
        "  df_main.drop(old_columns,axis=1,inplace=True)"
      ],
      "execution_count": 89,
      "outputs": []
    },
    {
      "cell_type": "code",
      "metadata": {
        "colab": {
          "base_uri": "https://localhost:8080/"
        },
        "id": "NTtX6tindX_q",
        "outputId": "4d8d2d32-5c25-4628-b318-155ec17cf7b6"
      },
      "source": [
        "df_main.shape"
      ],
      "execution_count": 90,
      "outputs": [
        {
          "output_type": "execute_result",
          "data": {
            "text/plain": [
              "(10946, 75)"
            ]
          },
          "metadata": {
            "tags": []
          },
          "execution_count": 90
        }
      ]
    },
    {
      "cell_type": "markdown",
      "metadata": {
        "id": "9I1vjMlkb3k_"
      },
      "source": [
        "### Working with Embedding on Neural Network & Random Forest"
      ]
    },
    {
      "cell_type": "code",
      "metadata": {
        "id": "b6CZO71AdhiX"
      },
      "source": [
        ""
      ],
      "execution_count": null,
      "outputs": []
    },
    {
      "cell_type": "code",
      "metadata": {
        "id": "WnY_PCGSl5Fl"
      },
      "source": [
        "cont_nn,cat_nn = cont_cat_split(df_main, max_card=9000, dep_var=dep_var)"
      ],
      "execution_count": 92,
      "outputs": []
    },
    {
      "cell_type": "code",
      "metadata": {
        "id": "VHnjCABcmQ3O"
      },
      "source": [
        "procs_nn = [Categorify, FillMissing, Normalize]\n",
        "to_nn = TabularPandas(df_main, procs_nn, cat_nn, cont_nn,\n",
        "                      splits=splits, y_names=dep_var)"
      ],
      "execution_count": 93,
      "outputs": []
    },
    {
      "cell_type": "code",
      "metadata": {
        "colab": {
          "base_uri": "https://localhost:8080/"
        },
        "id": "WA60KPoccVin",
        "outputId": "f06db93e-1d8a-46f5-f53a-ce78184a21c6"
      },
      "source": [
        "upper_limit =max(df_main[dep_var].values)\n",
        "lower_limit =min(df_main[dep_var].values)\n",
        "upper_limit, lower_limit\n"
      ],
      "execution_count": 95,
      "outputs": [
        {
          "output_type": "execute_result",
          "data": {
            "text/plain": [
              "(39.0, 1.0)"
            ]
          },
          "metadata": {
            "tags": []
          },
          "execution_count": 95
        }
      ]
    },
    {
      "cell_type": "code",
      "metadata": {
        "id": "eWmPzLWmcViq"
      },
      "source": [
        "dls = to_nn.dataloaders(bs=256)"
      ],
      "execution_count": 99,
      "outputs": []
    },
    {
      "cell_type": "code",
      "metadata": {
        "id": "OKTXiI7gcVis"
      },
      "source": [
        "learner = tabular_learner(dls,y_range= (1,39), layers= [250,100],n_out =1,loss_func= F.mse_loss, metrics=nn.L1Loss())"
      ],
      "execution_count": 100,
      "outputs": []
    },
    {
      "cell_type": "code",
      "metadata": {
        "colab": {
          "base_uri": "https://localhost:8080/",
          "height": 300
        },
        "id": "xrh4c2xEcVit",
        "outputId": "5cd5cd3c-1848-4499-b35b-d5f769cd052d"
      },
      "source": [
        "learner.lr_find()"
      ],
      "execution_count": 101,
      "outputs": [
        {
          "output_type": "display_data",
          "data": {
            "text/html": [
              ""
            ],
            "text/plain": [
              "<IPython.core.display.HTML object>"
            ]
          },
          "metadata": {
            "tags": []
          }
        },
        {
          "output_type": "execute_result",
          "data": {
            "text/plain": [
              "SuggestedLRs(valley=0.0020892962347716093)"
            ]
          },
          "metadata": {
            "tags": []
          },
          "execution_count": 101
        },
        {
          "output_type": "display_data",
          "data": {
            "image/png": "[encoded data removed]",
            "text/plain": [
              "<Figure size 432x288 with 1 Axes>"
            ]
          },
          "metadata": {
            "tags": [],
            "needs_background": "light"
          }
        }
      ]
    },
    {
      "cell_type": "code",
      "metadata": {
        "colab": {
          "base_uri": "https://localhost:8080/",
          "height": 269
        },
        "id": "QGeO1kT_d2yD",
        "outputId": "422b41f6-d0fa-4208-e680-f7b82c0d905b"
      },
      "source": [
        "learner.fit(7,lr=1e-2)"
      ],
      "execution_count": 102,
      "outputs": [
        {
          "output_type": "display_data",
          "data": {
            "text/html": [
              "<table border=\"1\" class=\"dataframe\">\n",
              "  <thead>\n",
              "    <tr style=\"text-align: left;\">\n",
              "      <th>epoch</th>\n",
              "      <th>train_loss</th>\n",
              "      <th>valid_loss</th>\n",
              "      <th>None</th>\n",
              "      <th>time</th>\n",
              "    </tr>\n",
              "  </thead>\n",
              "  <tbody>\n",
              "    <tr>\n",
              "      <td>0</td>\n",
              "      <td>154.361938</td>\n",
              "      <td>84.213516</td>\n",
              "      <td>2.619978</td>\n",
              "      <td>00:00</td>\n",
              "    </tr>\n",
              "    <tr>\n",
              "      <td>1</td>\n",
              "      <td>100.769554</td>\n",
              "      <td>84.210968</td>\n",
              "      <td>2.521209</td>\n",
              "      <td>00:00</td>\n",
              "    </tr>\n",
              "    <tr>\n",
              "      <td>2</td>\n",
              "      <td>85.020531</td>\n",
              "      <td>84.196602</td>\n",
              "      <td>2.522423</td>\n",
              "      <td>00:00</td>\n",
              "    </tr>\n",
              "    <tr>\n",
              "      <td>3</td>\n",
              "      <td>78.130989</td>\n",
              "      <td>84.189453</td>\n",
              "      <td>2.522496</td>\n",
              "      <td>00:00</td>\n",
              "    </tr>\n",
              "    <tr>\n",
              "      <td>4</td>\n",
              "      <td>74.625748</td>\n",
              "      <td>84.195183</td>\n",
              "      <td>2.528152</td>\n",
              "      <td>00:00</td>\n",
              "    </tr>\n",
              "    <tr>\n",
              "      <td>5</td>\n",
              "      <td>72.566498</td>\n",
              "      <td>84.191719</td>\n",
              "      <td>2.533052</td>\n",
              "      <td>00:00</td>\n",
              "    </tr>\n",
              "    <tr>\n",
              "      <td>6</td>\n",
              "      <td>71.656799</td>\n",
              "      <td>84.165520</td>\n",
              "      <td>2.524933</td>\n",
              "      <td>00:00</td>\n",
              "    </tr>\n",
              "  </tbody>\n",
              "</table>"
            ],
            "text/plain": [
              "<IPython.core.display.HTML object>"
            ]
          },
          "metadata": {
            "tags": []
          }
        }
      ]
    },
    {
      "cell_type": "code",
      "metadata": {
        "colab": {
          "base_uri": "https://localhost:8080/",
          "height": 269
        },
        "id": "GhPKxRdwd8w0",
        "outputId": "8f297097-11eb-4b5d-d1b6-fe68b1fa6fcd"
      },
      "source": [
        "learner.fit(7,lr=1e-2,wd=0.01)"
      ],
      "execution_count": 103,
      "outputs": [
        {
          "output_type": "display_data",
          "data": {
            "text/html": [
              "<table border=\"1\" class=\"dataframe\">\n",
              "  <thead>\n",
              "    <tr style=\"text-align: left;\">\n",
              "      <th>epoch</th>\n",
              "      <th>train_loss</th>\n",
              "      <th>valid_loss</th>\n",
              "      <th>None</th>\n",
              "      <th>time</th>\n",
              "    </tr>\n",
              "  </thead>\n",
              "  <tbody>\n",
              "    <tr>\n",
              "      <td>0</td>\n",
              "      <td>70.990326</td>\n",
              "      <td>84.157028</td>\n",
              "      <td>2.514917</td>\n",
              "      <td>00:00</td>\n",
              "    </tr>\n",
              "    <tr>\n",
              "      <td>1</td>\n",
              "      <td>71.525093</td>\n",
              "      <td>84.108559</td>\n",
              "      <td>2.480059</td>\n",
              "      <td>00:00</td>\n",
              "    </tr>\n",
              "    <tr>\n",
              "      <td>2</td>\n",
              "      <td>71.759583</td>\n",
              "      <td>84.075661</td>\n",
              "      <td>2.471351</td>\n",
              "      <td>00:00</td>\n",
              "    </tr>\n",
              "    <tr>\n",
              "      <td>3</td>\n",
              "      <td>71.154228</td>\n",
              "      <td>84.024231</td>\n",
              "      <td>2.449272</td>\n",
              "      <td>00:00</td>\n",
              "    </tr>\n",
              "    <tr>\n",
              "      <td>4</td>\n",
              "      <td>71.648994</td>\n",
              "      <td>83.992775</td>\n",
              "      <td>2.403098</td>\n",
              "      <td>00:00</td>\n",
              "    </tr>\n",
              "    <tr>\n",
              "      <td>5</td>\n",
              "      <td>70.970322</td>\n",
              "      <td>84.023094</td>\n",
              "      <td>2.434992</td>\n",
              "      <td>00:00</td>\n",
              "    </tr>\n",
              "    <tr>\n",
              "      <td>6</td>\n",
              "      <td>71.373566</td>\n",
              "      <td>84.010201</td>\n",
              "      <td>2.389367</td>\n",
              "      <td>00:00</td>\n",
              "    </tr>\n",
              "  </tbody>\n",
              "</table>"
            ],
            "text/plain": [
              "<IPython.core.display.HTML object>"
            ]
          },
          "metadata": {
            "tags": []
          }
        }
      ]
    },
    {
      "cell_type": "code",
      "metadata": {
        "colab": {
          "base_uri": "https://localhost:8080/",
          "height": 17
        },
        "id": "bANCii3gcViw",
        "outputId": "66dd4bc9-b832-4dd8-bbcd-4b17e72fe4dd"
      },
      "source": [
        "preds, targs = learner.get_preds()"
      ],
      "execution_count": 104,
      "outputs": [
        {
          "output_type": "display_data",
          "data": {
            "text/html": [
              ""
            ],
            "text/plain": [
              "<IPython.core.display.HTML object>"
            ]
          },
          "metadata": {
            "tags": []
          }
        }
      ]
    },
    {
      "cell_type": "code",
      "metadata": {
        "colab": {
          "base_uri": "https://localhost:8080/"
        },
        "id": "eg2xwyJKcViw",
        "outputId": "554eb524-590d-4b34-beda-d9c15758faad"
      },
      "source": [
        "MAE(targs,preds)"
      ],
      "execution_count": 105,
      "outputs": [
        {
          "output_type": "execute_result",
          "data": {
            "text/plain": [
              "2.3893673"
            ]
          },
          "metadata": {
            "tags": []
          },
          "execution_count": 105
        }
      ]
    },
    {
      "cell_type": "markdown",
      "metadata": {
        "id": "0VqpHfkyeFPs"
      },
      "source": [
        "##### Random Forest"
      ]
    },
    {
      "cell_type": "code",
      "metadata": {
        "colab": {
          "base_uri": "https://localhost:8080/",
          "height": 236
        },
        "id": "wEPVUVW-eEB8",
        "outputId": "be1126d8-d7b2-4dd1-f3d9-4d0bb5db6c6b"
      },
      "source": [
        "df_main.head()"
      ],
      "execution_count": 106,
      "outputs": [
        {
          "output_type": "execute_result",
          "data": {
            "text/html": [
              "<div>\n",
              "<style scoped>\n",
              "    .dataframe tbody tr th:only-of-type {\n",
              "        vertical-align: middle;\n",
              "    }\n",
              "\n",
              "    .dataframe tbody tr th {\n",
              "        vertical-align: top;\n",
              "    }\n",
              "\n",
              "    .dataframe thead th {\n",
              "        text-align: right;\n",
              "    }\n",
              "</style>\n",
              "<table border=\"1\" class=\"dataframe\">\n",
              "  <thead>\n",
              "    <tr style=\"text-align: right;\">\n",
              "      <th></th>\n",
              "      <th>Item Promo Discount</th>\n",
              "      <th>price</th>\n",
              "      <th>Quantity</th>\n",
              "      <th>Invoice Amount</th>\n",
              "      <th>...</th>\n",
              "      <th>Week_13</th>\n",
              "      <th>Year_0</th>\n",
              "      <th>Year_1</th>\n",
              "      <th>Year_2</th>\n",
              "    </tr>\n",
              "  </thead>\n",
              "  <tbody>\n",
              "    <tr>\n",
              "      <th>0</th>\n",
              "      <td>0.00</td>\n",
              "      <td>1995.00</td>\n",
              "      <td>1.0</td>\n",
              "      <td>1995.00</td>\n",
              "      <td>...</td>\n",
              "      <td>0.055868</td>\n",
              "      <td>0.092636</td>\n",
              "      <td>-0.236494</td>\n",
              "      <td>0.131614</td>\n",
              "    </tr>\n",
              "    <tr>\n",
              "      <th>1</th>\n",
              "      <td>-56.75</td>\n",
              "      <td>1078.25</td>\n",
              "      <td>1.0</td>\n",
              "      <td>1078.25</td>\n",
              "      <td>...</td>\n",
              "      <td>0.055868</td>\n",
              "      <td>0.092636</td>\n",
              "      <td>-0.236494</td>\n",
              "      <td>0.131614</td>\n",
              "    </tr>\n",
              "    <tr>\n",
              "      <th>2</th>\n",
              "      <td>-79.95</td>\n",
              "      <td>1519.05</td>\n",
              "      <td>1.0</td>\n",
              "      <td>1519.05</td>\n",
              "      <td>...</td>\n",
              "      <td>0.055868</td>\n",
              "      <td>0.092636</td>\n",
              "      <td>-0.236494</td>\n",
              "      <td>0.131614</td>\n",
              "    </tr>\n",
              "    <tr>\n",
              "      <th>3</th>\n",
              "      <td>0.00</td>\n",
              "      <td>1135.00</td>\n",
              "      <td>1.0</td>\n",
              "      <td>1135.00</td>\n",
              "      <td>...</td>\n",
              "      <td>-0.062910</td>\n",
              "      <td>0.092636</td>\n",
              "      <td>-0.236494</td>\n",
              "      <td>0.131614</td>\n",
              "    </tr>\n",
              "    <tr>\n",
              "      <th>4</th>\n",
              "      <td>0.00</td>\n",
              "      <td>1499.00</td>\n",
              "      <td>1.0</td>\n",
              "      <td>1499.00</td>\n",
              "      <td>...</td>\n",
              "      <td>-0.062910</td>\n",
              "      <td>0.092636</td>\n",
              "      <td>-0.236494</td>\n",
              "      <td>0.131614</td>\n",
              "    </tr>\n",
              "  </tbody>\n",
              "</table>\n",
              "<p>5 rows × 75 columns</p>\n",
              "</div>"
            ],
            "text/plain": [
              "   Item Promo Discount    price  Quantity  Invoice Amount  ...   Week_13  \\\n",
              "0                 0.00  1995.00       1.0         1995.00  ...  0.055868   \n",
              "1               -56.75  1078.25       1.0         1078.25  ...  0.055868   \n",
              "2               -79.95  1519.05       1.0         1519.05  ...  0.055868   \n",
              "3                 0.00  1135.00       1.0         1135.00  ... -0.062910   \n",
              "4                 0.00  1499.00       1.0         1499.00  ... -0.062910   \n",
              "\n",
              "     Year_0    Year_1    Year_2  \n",
              "0  0.092636 -0.236494  0.131614  \n",
              "1  0.092636 -0.236494  0.131614  \n",
              "2  0.092636 -0.236494  0.131614  \n",
              "3  0.092636 -0.236494  0.131614  \n",
              "4  0.092636 -0.236494  0.131614  \n",
              "\n",
              "[5 rows x 75 columns]"
            ]
          },
          "metadata": {
            "tags": []
          },
          "execution_count": 106
        }
      ]
    },
    {
      "cell_type": "code",
      "metadata": {
        "id": "CZYXI1nprxGg"
      },
      "source": [
        "procs = [Categorify, FillMissing]"
      ],
      "execution_count": 107,
      "outputs": []
    },
    {
      "cell_type": "code",
      "metadata": {
        "id": "IObgmjvjB0oo"
      },
      "source": [
        "dep_var = 'Quantity'"
      ],
      "execution_count": 108,
      "outputs": []
    },
    {
      "cell_type": "code",
      "metadata": {
        "id": "qS4xPlg3rxEF"
      },
      "source": [
        "cont, cat = cont_cat_split( df_main,1,dep_var= dep_var)"
      ],
      "execution_count": 109,
      "outputs": []
    },
    {
      "cell_type": "markdown",
      "metadata": {
        "id": "d_dWbbhFfyIH"
      },
      "source": [
        "We will use the splits that is defined earlier"
      ]
    },
    {
      "cell_type": "code",
      "metadata": {
        "id": "GAfBkiGhfmf6"
      },
      "source": [
        ""
      ],
      "execution_count": null,
      "outputs": []
    },
    {
      "cell_type": "code",
      "metadata": {
        "id": "Z-ZPT60zrxBy"
      },
      "source": [
        "to = TabularPandas(df_main, procs= procs,cat_names= cat, cont_names=cont, splits= splits,y_names=dep_var)"
      ],
      "execution_count": null,
      "outputs": []
    },
    {
      "cell_type": "code",
      "metadata": {
        "id": "HW9ZlBHDrw9U"
      },
      "source": [
        "x_train,y_train = to.train.xs, to.train.y\n",
        "x_valid, y_valid = to.valid.xs, to.valid.y"
      ],
      "execution_count": null,
      "outputs": []
    }
  ]
}